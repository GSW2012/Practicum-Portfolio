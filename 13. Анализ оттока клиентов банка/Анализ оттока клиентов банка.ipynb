{
 "cells": [
  {
   "cell_type": "markdown",
   "metadata": {},
   "source": [
    "# Анализ оттока клиентов банка\n",
    "Заказчик этого исследования - отдел маркетинга \"Метанпромбанка\". \n",
    "\n",
    "В банке последнее время повысился отток клиентов, что угрожает его существованию. Для анализа проблемы банк в срочном порядке ищет аналитиков с уверенным владением «Python». Информация нужна менеджеру, который занимается маркетинговыми кампаниями и работает в тесной связке с менеджерами продуктов.\n",
    "\n",
    "**Цель исследования** - изучить причины оттока клиентов\n",
    "\n",
    "**Задача исследования** - анализ клиентов регионального банка и выделение сегментов клиентов, которые склонны уходить из банка\n",
    "\n",
    "**Ход исследования:**\n",
    "\n",
    "Данные получим из датафрейма bank_scrooge. Изучим его наполнение, состав и структуру.\n",
    "\n",
    "Перед исследовательским анализом проведем предобработку данных - приведем названия столбцов к общему виду, преобразуем данные в нужные типы, проверим датарейм на явные и неявные дубликаты, а также на пропуски. \n",
    "\n",
    "На этапе исследовательского анализа данных определим все значимые признаки отточности, сравним портреты типичных клиентов, которые склонны и не склонны уходить из банка. Сформулируем и проверим статистические гипотезы. На основании полученных данных о признаках отточности, сформируем сегменты и дадим рекомендации банку. \n",
    "\n",
    "Отчет для заказчика подготовим в виде презентации. \n",
    "\n",
    "Таким образом, исследование пройдет в 6 этапов:\n",
    "- обзор данных\n",
    "- предобработка данных\n",
    "- исследовательский анализ данных\n",
    "- формирование сегментов пользователей\n",
    "- общие выводы и рекомендации заказчику\n",
    "- оформление результатов в виде презентации"
   ]
  },
  {
   "cell_type": "markdown",
   "metadata": {},
   "source": [
    "## Обзор данных"
   ]
  },
  {
   "cell_type": "code",
   "execution_count": 1,
   "metadata": {},
   "outputs": [
    {
     "name": "stdout",
     "output_type": "stream",
     "text": [
      "Requirement already satisfied: phik in /opt/conda/lib/python3.9/site-packages (0.12.4)\n",
      "Requirement already satisfied: matplotlib>=2.2.3 in /opt/conda/lib/python3.9/site-packages (from phik) (3.3.4)\n",
      "Requirement already satisfied: numpy>=1.18.0 in /opt/conda/lib/python3.9/site-packages (from phik) (1.21.1)\n",
      "Requirement already satisfied: joblib>=0.14.1 in /opt/conda/lib/python3.9/site-packages (from phik) (1.1.0)\n",
      "Requirement already satisfied: pandas>=0.25.1 in /opt/conda/lib/python3.9/site-packages (from phik) (1.2.4)\n",
      "Requirement already satisfied: scipy>=1.5.2 in /opt/conda/lib/python3.9/site-packages (from phik) (1.9.1)\n",
      "Requirement already satisfied: pillow>=6.2.0 in /opt/conda/lib/python3.9/site-packages (from matplotlib>=2.2.3->phik) (8.4.0)\n",
      "Requirement already satisfied: kiwisolver>=1.0.1 in /opt/conda/lib/python3.9/site-packages (from matplotlib>=2.2.3->phik) (1.4.4)\n",
      "Requirement already satisfied: pyparsing!=2.0.4,!=2.1.2,!=2.1.6,>=2.0.3 in /opt/conda/lib/python3.9/site-packages (from matplotlib>=2.2.3->phik) (2.4.7)\n",
      "Requirement already satisfied: cycler>=0.10 in /opt/conda/lib/python3.9/site-packages (from matplotlib>=2.2.3->phik) (0.11.0)\n",
      "Requirement already satisfied: python-dateutil>=2.1 in /opt/conda/lib/python3.9/site-packages (from matplotlib>=2.2.3->phik) (2.8.1)\n",
      "Requirement already satisfied: pytz>=2017.3 in /opt/conda/lib/python3.9/site-packages (from pandas>=0.25.1->phik) (2021.1)\n",
      "Requirement already satisfied: six>=1.5 in /opt/conda/lib/python3.9/site-packages (from python-dateutil>=2.1->matplotlib>=2.2.3->phik) (1.16.0)\n",
      "Note: you may need to restart the kernel to use updated packages.\n"
     ]
    }
   ],
   "source": [
    "pip install phik"
   ]
  },
  {
   "cell_type": "code",
   "execution_count": 2,
   "metadata": {},
   "outputs": [],
   "source": [
    "#импортируем библиотеки\n",
    "import pandas as pd\n",
    "import phik\n",
    "pd.set_option('display.float_format', '{:,.2f}'.format)\n",
    "from plotly import graph_objects as go \n",
    "import matplotlib.pyplot as plt\n",
    "from scipy import stats as st\n",
    "import numpy as np\n",
    "import seaborn as sns\n",
    "import plotly.express as px\n",
    "import matplotlib.pyplot as plt\n",
    "import warnings\n",
    "warnings.filterwarnings('ignore')"
   ]
  },
  {
   "cell_type": "code",
   "execution_count": 3,
   "metadata": {},
   "outputs": [],
   "source": [
    "#считываем csv-файл\n",
    "bank = pd.read_csv('/datasets/bank_scrooge.csv')"
   ]
  },
  {
   "cell_type": "code",
   "execution_count": 4,
   "metadata": {},
   "outputs": [
    {
     "name": "stdout",
     "output_type": "stream",
     "text": [
      "<class 'pandas.core.frame.DataFrame'>\n",
      "RangeIndex: 10000 entries, 0 to 9999\n",
      "Data columns (total 12 columns):\n",
      " #   Column         Non-Null Count  Dtype  \n",
      "---  ------         --------------  -----  \n",
      " 0   USERID         10000 non-null  int64  \n",
      " 1   score          10000 non-null  float64\n",
      " 2   city           10000 non-null  object \n",
      " 3   gender         10000 non-null  object \n",
      " 4   age            9974 non-null   float64\n",
      " 5   equity         10000 non-null  int64  \n",
      " 6   balance        7705 non-null   float64\n",
      " 7   products       10000 non-null  int64  \n",
      " 8   credit_card    10000 non-null  int64  \n",
      " 9   last_activity  10000 non-null  int64  \n",
      " 10  EST_SALARY     10000 non-null  float64\n",
      " 11  churn          10000 non-null  int64  \n",
      "dtypes: float64(4), int64(6), object(2)\n",
      "memory usage: 937.6+ KB\n"
     ]
    },
    {
     "data": {
      "text/html": [
       "<div>\n",
       "<style scoped>\n",
       "    .dataframe tbody tr th:only-of-type {\n",
       "        vertical-align: middle;\n",
       "    }\n",
       "\n",
       "    .dataframe tbody tr th {\n",
       "        vertical-align: top;\n",
       "    }\n",
       "\n",
       "    .dataframe thead th {\n",
       "        text-align: right;\n",
       "    }\n",
       "</style>\n",
       "<table border=\"1\" class=\"dataframe\">\n",
       "  <thead>\n",
       "    <tr style=\"text-align: right;\">\n",
       "      <th></th>\n",
       "      <th>USERID</th>\n",
       "      <th>score</th>\n",
       "      <th>city</th>\n",
       "      <th>gender</th>\n",
       "      <th>age</th>\n",
       "      <th>equity</th>\n",
       "      <th>balance</th>\n",
       "      <th>products</th>\n",
       "      <th>credit_card</th>\n",
       "      <th>last_activity</th>\n",
       "      <th>EST_SALARY</th>\n",
       "      <th>churn</th>\n",
       "    </tr>\n",
       "  </thead>\n",
       "  <tbody>\n",
       "    <tr>\n",
       "      <th>0</th>\n",
       "      <td>183012</td>\n",
       "      <td>850.00</td>\n",
       "      <td>Рыбинск</td>\n",
       "      <td>Ж</td>\n",
       "      <td>25.00</td>\n",
       "      <td>1</td>\n",
       "      <td>59,214.82</td>\n",
       "      <td>2</td>\n",
       "      <td>0</td>\n",
       "      <td>1</td>\n",
       "      <td>75,719.14</td>\n",
       "      <td>1</td>\n",
       "    </tr>\n",
       "    <tr>\n",
       "      <th>1</th>\n",
       "      <td>146556</td>\n",
       "      <td>861.00</td>\n",
       "      <td>Рыбинск</td>\n",
       "      <td>Ж</td>\n",
       "      <td>37.00</td>\n",
       "      <td>5</td>\n",
       "      <td>850,594.33</td>\n",
       "      <td>3</td>\n",
       "      <td>1</td>\n",
       "      <td>0</td>\n",
       "      <td>86,621.77</td>\n",
       "      <td>0</td>\n",
       "    </tr>\n",
       "    <tr>\n",
       "      <th>2</th>\n",
       "      <td>120722</td>\n",
       "      <td>892.00</td>\n",
       "      <td>Рыбинск</td>\n",
       "      <td>Ж</td>\n",
       "      <td>30.00</td>\n",
       "      <td>0</td>\n",
       "      <td>NaN</td>\n",
       "      <td>1</td>\n",
       "      <td>1</td>\n",
       "      <td>1</td>\n",
       "      <td>107,683.34</td>\n",
       "      <td>0</td>\n",
       "    </tr>\n",
       "    <tr>\n",
       "      <th>3</th>\n",
       "      <td>225363</td>\n",
       "      <td>866.00</td>\n",
       "      <td>Ярославль</td>\n",
       "      <td>Ж</td>\n",
       "      <td>51.00</td>\n",
       "      <td>5</td>\n",
       "      <td>1,524,746.26</td>\n",
       "      <td>2</td>\n",
       "      <td>0</td>\n",
       "      <td>1</td>\n",
       "      <td>174,423.53</td>\n",
       "      <td>1</td>\n",
       "    </tr>\n",
       "    <tr>\n",
       "      <th>4</th>\n",
       "      <td>157978</td>\n",
       "      <td>730.00</td>\n",
       "      <td>Ярославль</td>\n",
       "      <td>М</td>\n",
       "      <td>34.00</td>\n",
       "      <td>5</td>\n",
       "      <td>174.00</td>\n",
       "      <td>1</td>\n",
       "      <td>1</td>\n",
       "      <td>0</td>\n",
       "      <td>67,353.16</td>\n",
       "      <td>1</td>\n",
       "    </tr>\n",
       "  </tbody>\n",
       "</table>\n",
       "</div>"
      ],
      "text/plain": [
       "   USERID  score       city gender   age  equity      balance  products  \\\n",
       "0  183012 850.00    Рыбинск      Ж 25.00       1    59,214.82         2   \n",
       "1  146556 861.00    Рыбинск      Ж 37.00       5   850,594.33         3   \n",
       "2  120722 892.00    Рыбинск      Ж 30.00       0          NaN         1   \n",
       "3  225363 866.00  Ярославль      Ж 51.00       5 1,524,746.26         2   \n",
       "4  157978 730.00  Ярославль      М 34.00       5       174.00         1   \n",
       "\n",
       "   credit_card  last_activity  EST_SALARY  churn  \n",
       "0            0              1   75,719.14      1  \n",
       "1            1              0   86,621.77      0  \n",
       "2            1              1  107,683.34      0  \n",
       "3            0              1  174,423.53      1  \n",
       "4            1              0   67,353.16      1  "
      ]
     },
     "execution_count": 4,
     "metadata": {},
     "output_type": "execute_result"
    }
   ],
   "source": [
    "#выводим информацию и первые 5 строк датафрейма bank\n",
    "bank.info()\n",
    "bank.head()"
   ]
  },
  {
   "cell_type": "markdown",
   "metadata": {},
   "source": [
    "**В исходном датафрейме 10000 записей, 12 столбцов. Информация довольна развернутая, в некоторых столбцах есть пропуски. Следует привести все названия столбцов к нижнему регистру и преобразовать данные в нужные типы.**"
   ]
  },
  {
   "cell_type": "markdown",
   "metadata": {},
   "source": [
    "## Предобработка данных"
   ]
  },
  {
   "cell_type": "code",
   "execution_count": 5,
   "metadata": {},
   "outputs": [],
   "source": [
    "#приведем названия столбцов к общему виду\n",
    "bank.rename(columns = {'USERID':'user_id', 'EST_SALARY':'est_salary'}, inplace = True)"
   ]
  },
  {
   "cell_type": "code",
   "execution_count": 6,
   "metadata": {},
   "outputs": [
    {
     "name": "stdout",
     "output_type": "stream",
     "text": [
      "<class 'pandas.core.frame.DataFrame'>\n",
      "RangeIndex: 10000 entries, 0 to 9999\n",
      "Data columns (total 12 columns):\n",
      " #   Column         Non-Null Count  Dtype  \n",
      "---  ------         --------------  -----  \n",
      " 0   user_id        10000 non-null  int64  \n",
      " 1   score          10000 non-null  float64\n",
      " 2   city           10000 non-null  object \n",
      " 3   gender         10000 non-null  object \n",
      " 4   age            9974 non-null   float64\n",
      " 5   equity         10000 non-null  int64  \n",
      " 6   balance        7705 non-null   float64\n",
      " 7   products       10000 non-null  int64  \n",
      " 8   credit_card    10000 non-null  int64  \n",
      " 9   last_activity  10000 non-null  int64  \n",
      " 10  est_salary     10000 non-null  float64\n",
      " 11  churn          10000 non-null  int64  \n",
      "dtypes: float64(4), int64(6), object(2)\n",
      "memory usage: 937.6+ KB\n"
     ]
    },
    {
     "data": {
      "text/html": [
       "<div>\n",
       "<style scoped>\n",
       "    .dataframe tbody tr th:only-of-type {\n",
       "        vertical-align: middle;\n",
       "    }\n",
       "\n",
       "    .dataframe tbody tr th {\n",
       "        vertical-align: top;\n",
       "    }\n",
       "\n",
       "    .dataframe thead th {\n",
       "        text-align: right;\n",
       "    }\n",
       "</style>\n",
       "<table border=\"1\" class=\"dataframe\">\n",
       "  <thead>\n",
       "    <tr style=\"text-align: right;\">\n",
       "      <th></th>\n",
       "      <th>user_id</th>\n",
       "      <th>score</th>\n",
       "      <th>city</th>\n",
       "      <th>gender</th>\n",
       "      <th>age</th>\n",
       "      <th>equity</th>\n",
       "      <th>balance</th>\n",
       "      <th>products</th>\n",
       "      <th>credit_card</th>\n",
       "      <th>last_activity</th>\n",
       "      <th>est_salary</th>\n",
       "      <th>churn</th>\n",
       "    </tr>\n",
       "  </thead>\n",
       "  <tbody>\n",
       "    <tr>\n",
       "      <th>0</th>\n",
       "      <td>183012</td>\n",
       "      <td>850.00</td>\n",
       "      <td>Рыбинск</td>\n",
       "      <td>Ж</td>\n",
       "      <td>25.00</td>\n",
       "      <td>1</td>\n",
       "      <td>59,214.82</td>\n",
       "      <td>2</td>\n",
       "      <td>0</td>\n",
       "      <td>1</td>\n",
       "      <td>75,719.14</td>\n",
       "      <td>1</td>\n",
       "    </tr>\n",
       "    <tr>\n",
       "      <th>1</th>\n",
       "      <td>146556</td>\n",
       "      <td>861.00</td>\n",
       "      <td>Рыбинск</td>\n",
       "      <td>Ж</td>\n",
       "      <td>37.00</td>\n",
       "      <td>5</td>\n",
       "      <td>850,594.33</td>\n",
       "      <td>3</td>\n",
       "      <td>1</td>\n",
       "      <td>0</td>\n",
       "      <td>86,621.77</td>\n",
       "      <td>0</td>\n",
       "    </tr>\n",
       "    <tr>\n",
       "      <th>2</th>\n",
       "      <td>120722</td>\n",
       "      <td>892.00</td>\n",
       "      <td>Рыбинск</td>\n",
       "      <td>Ж</td>\n",
       "      <td>30.00</td>\n",
       "      <td>0</td>\n",
       "      <td>NaN</td>\n",
       "      <td>1</td>\n",
       "      <td>1</td>\n",
       "      <td>1</td>\n",
       "      <td>107,683.34</td>\n",
       "      <td>0</td>\n",
       "    </tr>\n",
       "    <tr>\n",
       "      <th>3</th>\n",
       "      <td>225363</td>\n",
       "      <td>866.00</td>\n",
       "      <td>Ярославль</td>\n",
       "      <td>Ж</td>\n",
       "      <td>51.00</td>\n",
       "      <td>5</td>\n",
       "      <td>1,524,746.26</td>\n",
       "      <td>2</td>\n",
       "      <td>0</td>\n",
       "      <td>1</td>\n",
       "      <td>174,423.53</td>\n",
       "      <td>1</td>\n",
       "    </tr>\n",
       "    <tr>\n",
       "      <th>4</th>\n",
       "      <td>157978</td>\n",
       "      <td>730.00</td>\n",
       "      <td>Ярославль</td>\n",
       "      <td>М</td>\n",
       "      <td>34.00</td>\n",
       "      <td>5</td>\n",
       "      <td>174.00</td>\n",
       "      <td>1</td>\n",
       "      <td>1</td>\n",
       "      <td>0</td>\n",
       "      <td>67,353.16</td>\n",
       "      <td>1</td>\n",
       "    </tr>\n",
       "  </tbody>\n",
       "</table>\n",
       "</div>"
      ],
      "text/plain": [
       "   user_id  score       city gender   age  equity      balance  products  \\\n",
       "0   183012 850.00    Рыбинск      Ж 25.00       1    59,214.82         2   \n",
       "1   146556 861.00    Рыбинск      Ж 37.00       5   850,594.33         3   \n",
       "2   120722 892.00    Рыбинск      Ж 30.00       0          NaN         1   \n",
       "3   225363 866.00  Ярославль      Ж 51.00       5 1,524,746.26         2   \n",
       "4   157978 730.00  Ярославль      М 34.00       5       174.00         1   \n",
       "\n",
       "   credit_card  last_activity  est_salary  churn  \n",
       "0            0              1   75,719.14      1  \n",
       "1            1              0   86,621.77      0  \n",
       "2            1              1  107,683.34      0  \n",
       "3            0              1  174,423.53      1  \n",
       "4            1              0   67,353.16      1  "
      ]
     },
     "execution_count": 6,
     "metadata": {},
     "output_type": "execute_result"
    }
   ],
   "source": [
    "bank.info()\n",
    "bank.head()"
   ]
  },
  {
   "cell_type": "code",
   "execution_count": 7,
   "metadata": {},
   "outputs": [
    {
     "data": {
      "text/plain": [
       "0"
      ]
     },
     "execution_count": 7,
     "metadata": {},
     "output_type": "execute_result"
    }
   ],
   "source": [
    "#проверим датафрейм на наличие дубликатов\n",
    "bank.duplicated().sum()"
   ]
  },
  {
   "cell_type": "code",
   "execution_count": 8,
   "metadata": {},
   "outputs": [
    {
     "data": {
      "text/html": [
       "<div>\n",
       "<style scoped>\n",
       "    .dataframe tbody tr th:only-of-type {\n",
       "        vertical-align: middle;\n",
       "    }\n",
       "\n",
       "    .dataframe tbody tr th {\n",
       "        vertical-align: top;\n",
       "    }\n",
       "\n",
       "    .dataframe thead th {\n",
       "        text-align: right;\n",
       "    }\n",
       "</style>\n",
       "<table border=\"1\" class=\"dataframe\">\n",
       "  <thead>\n",
       "    <tr style=\"text-align: right;\">\n",
       "      <th></th>\n",
       "      <th>user_id</th>\n",
       "      <th>score</th>\n",
       "      <th>city</th>\n",
       "      <th>gender</th>\n",
       "      <th>age</th>\n",
       "      <th>equity</th>\n",
       "      <th>balance</th>\n",
       "      <th>products</th>\n",
       "      <th>credit_card</th>\n",
       "      <th>last_activity</th>\n",
       "      <th>est_salary</th>\n",
       "      <th>churn</th>\n",
       "    </tr>\n",
       "  </thead>\n",
       "  <tbody>\n",
       "    <tr>\n",
       "      <th>1583</th>\n",
       "      <td>190253</td>\n",
       "      <td>726.00</td>\n",
       "      <td>Ярославль</td>\n",
       "      <td>М</td>\n",
       "      <td>49.00</td>\n",
       "      <td>0</td>\n",
       "      <td>NaN</td>\n",
       "      <td>1</td>\n",
       "      <td>1</td>\n",
       "      <td>1</td>\n",
       "      <td>177,700.78</td>\n",
       "      <td>0</td>\n",
       "    </tr>\n",
       "    <tr>\n",
       "      <th>1837</th>\n",
       "      <td>210662</td>\n",
       "      <td>896.00</td>\n",
       "      <td>Рыбинск</td>\n",
       "      <td>Ж</td>\n",
       "      <td>37.00</td>\n",
       "      <td>0</td>\n",
       "      <td>NaN</td>\n",
       "      <td>2</td>\n",
       "      <td>0</td>\n",
       "      <td>0</td>\n",
       "      <td>90,916.04</td>\n",
       "      <td>0</td>\n",
       "    </tr>\n",
       "    <tr>\n",
       "      <th>2138</th>\n",
       "      <td>131419</td>\n",
       "      <td>739.00</td>\n",
       "      <td>Рыбинск</td>\n",
       "      <td>Ж</td>\n",
       "      <td>37.00</td>\n",
       "      <td>3</td>\n",
       "      <td>1,307,941.65</td>\n",
       "      <td>3</td>\n",
       "      <td>0</td>\n",
       "      <td>0</td>\n",
       "      <td>103,867.47</td>\n",
       "      <td>0</td>\n",
       "    </tr>\n",
       "    <tr>\n",
       "      <th>2165</th>\n",
       "      <td>187635</td>\n",
       "      <td>692.00</td>\n",
       "      <td>Рыбинск</td>\n",
       "      <td>Ж</td>\n",
       "      <td>NaN</td>\n",
       "      <td>0</td>\n",
       "      <td>NaN</td>\n",
       "      <td>1</td>\n",
       "      <td>1</td>\n",
       "      <td>1</td>\n",
       "      <td>160,368.82</td>\n",
       "      <td>0</td>\n",
       "    </tr>\n",
       "    <tr>\n",
       "      <th>2302</th>\n",
       "      <td>220816</td>\n",
       "      <td>934.00</td>\n",
       "      <td>Рыбинск</td>\n",
       "      <td>Ж</td>\n",
       "      <td>74.00</td>\n",
       "      <td>5</td>\n",
       "      <td>1,294,285.39</td>\n",
       "      <td>3</td>\n",
       "      <td>1</td>\n",
       "      <td>0</td>\n",
       "      <td>95,606.80</td>\n",
       "      <td>0</td>\n",
       "    </tr>\n",
       "    <tr>\n",
       "      <th>...</th>\n",
       "      <td>...</td>\n",
       "      <td>...</td>\n",
       "      <td>...</td>\n",
       "      <td>...</td>\n",
       "      <td>...</td>\n",
       "      <td>...</td>\n",
       "      <td>...</td>\n",
       "      <td>...</td>\n",
       "      <td>...</td>\n",
       "      <td>...</td>\n",
       "      <td>...</td>\n",
       "      <td>...</td>\n",
       "    </tr>\n",
       "    <tr>\n",
       "      <th>9775</th>\n",
       "      <td>124450</td>\n",
       "      <td>758.00</td>\n",
       "      <td>Рыбинск</td>\n",
       "      <td>Ж</td>\n",
       "      <td>36.00</td>\n",
       "      <td>0</td>\n",
       "      <td>73,574.07</td>\n",
       "      <td>2</td>\n",
       "      <td>0</td>\n",
       "      <td>1</td>\n",
       "      <td>79,963.59</td>\n",
       "      <td>0</td>\n",
       "    </tr>\n",
       "    <tr>\n",
       "      <th>9785</th>\n",
       "      <td>168998</td>\n",
       "      <td>895.00</td>\n",
       "      <td>Рыбинск</td>\n",
       "      <td>М</td>\n",
       "      <td>44.00</td>\n",
       "      <td>0</td>\n",
       "      <td>282,653.53</td>\n",
       "      <td>3</td>\n",
       "      <td>0</td>\n",
       "      <td>0</td>\n",
       "      <td>255,296.47</td>\n",
       "      <td>0</td>\n",
       "    </tr>\n",
       "    <tr>\n",
       "      <th>9819</th>\n",
       "      <td>140934</td>\n",
       "      <td>832.00</td>\n",
       "      <td>Рыбинск</td>\n",
       "      <td>Ж</td>\n",
       "      <td>NaN</td>\n",
       "      <td>3</td>\n",
       "      <td>385,763.16</td>\n",
       "      <td>2</td>\n",
       "      <td>0</td>\n",
       "      <td>1</td>\n",
       "      <td>59,651.35</td>\n",
       "      <td>0</td>\n",
       "    </tr>\n",
       "    <tr>\n",
       "      <th>9880</th>\n",
       "      <td>217412</td>\n",
       "      <td>886.00</td>\n",
       "      <td>Ярославль</td>\n",
       "      <td>Ж</td>\n",
       "      <td>35.00</td>\n",
       "      <td>3</td>\n",
       "      <td>1,026,172.14</td>\n",
       "      <td>2</td>\n",
       "      <td>1</td>\n",
       "      <td>0</td>\n",
       "      <td>53,099.16</td>\n",
       "      <td>0</td>\n",
       "    </tr>\n",
       "    <tr>\n",
       "      <th>9970</th>\n",
       "      <td>175730</td>\n",
       "      <td>816.00</td>\n",
       "      <td>Рыбинск</td>\n",
       "      <td>М</td>\n",
       "      <td>36.00</td>\n",
       "      <td>4</td>\n",
       "      <td>477,892.07</td>\n",
       "      <td>3</td>\n",
       "      <td>1</td>\n",
       "      <td>0</td>\n",
       "      <td>81,100.60</td>\n",
       "      <td>0</td>\n",
       "    </tr>\n",
       "  </tbody>\n",
       "</table>\n",
       "<p>73 rows × 12 columns</p>\n",
       "</div>"
      ],
      "text/plain": [
       "      user_id  score       city gender   age  equity      balance  products  \\\n",
       "1583   190253 726.00  Ярославль      М 49.00       0          NaN         1   \n",
       "1837   210662 896.00    Рыбинск      Ж 37.00       0          NaN         2   \n",
       "2138   131419 739.00    Рыбинск      Ж 37.00       3 1,307,941.65         3   \n",
       "2165   187635 692.00    Рыбинск      Ж   NaN       0          NaN         1   \n",
       "2302   220816 934.00    Рыбинск      Ж 74.00       5 1,294,285.39         3   \n",
       "...       ...    ...        ...    ...   ...     ...          ...       ...   \n",
       "9775   124450 758.00    Рыбинск      Ж 36.00       0    73,574.07         2   \n",
       "9785   168998 895.00    Рыбинск      М 44.00       0   282,653.53         3   \n",
       "9819   140934 832.00    Рыбинск      Ж   NaN       3   385,763.16         2   \n",
       "9880   217412 886.00  Ярославль      Ж 35.00       3 1,026,172.14         2   \n",
       "9970   175730 816.00    Рыбинск      М 36.00       4   477,892.07         3   \n",
       "\n",
       "      credit_card  last_activity  est_salary  churn  \n",
       "1583            1              1  177,700.78      0  \n",
       "1837            0              0   90,916.04      0  \n",
       "2138            0              0  103,867.47      0  \n",
       "2165            1              1  160,368.82      0  \n",
       "2302            1              0   95,606.80      0  \n",
       "...           ...            ...         ...    ...  \n",
       "9775            0              1   79,963.59      0  \n",
       "9785            0              0  255,296.47      0  \n",
       "9819            0              1   59,651.35      0  \n",
       "9880            1              0   53,099.16      0  \n",
       "9970            1              0   81,100.60      0  \n",
       "\n",
       "[73 rows x 12 columns]"
      ]
     },
     "execution_count": 8,
     "metadata": {},
     "output_type": "execute_result"
    }
   ],
   "source": [
    "#проверим дубликаты в столбце user_id\n",
    "bank['user_id'].duplicated().sum()\n",
    "bank[bank['user_id'].duplicated()]"
   ]
  },
  {
   "cell_type": "code",
   "execution_count": 9,
   "metadata": {},
   "outputs": [
    {
     "data": {
      "text/html": [
       "<div>\n",
       "<style scoped>\n",
       "    .dataframe tbody tr th:only-of-type {\n",
       "        vertical-align: middle;\n",
       "    }\n",
       "\n",
       "    .dataframe tbody tr th {\n",
       "        vertical-align: top;\n",
       "    }\n",
       "\n",
       "    .dataframe thead th {\n",
       "        text-align: right;\n",
       "    }\n",
       "</style>\n",
       "<table border=\"1\" class=\"dataframe\">\n",
       "  <thead>\n",
       "    <tr style=\"text-align: right;\">\n",
       "      <th></th>\n",
       "      <th>user_id</th>\n",
       "      <th>score</th>\n",
       "      <th>city</th>\n",
       "      <th>gender</th>\n",
       "      <th>age</th>\n",
       "      <th>equity</th>\n",
       "      <th>balance</th>\n",
       "      <th>products</th>\n",
       "      <th>credit_card</th>\n",
       "      <th>last_activity</th>\n",
       "      <th>est_salary</th>\n",
       "      <th>churn</th>\n",
       "    </tr>\n",
       "  </thead>\n",
       "  <tbody>\n",
       "    <tr>\n",
       "      <th>1583</th>\n",
       "      <td>190253</td>\n",
       "      <td>726.00</td>\n",
       "      <td>Ярославль</td>\n",
       "      <td>М</td>\n",
       "      <td>49.00</td>\n",
       "      <td>0</td>\n",
       "      <td>NaN</td>\n",
       "      <td>1</td>\n",
       "      <td>1</td>\n",
       "      <td>1</td>\n",
       "      <td>177,700.78</td>\n",
       "      <td>0</td>\n",
       "    </tr>\n",
       "    <tr>\n",
       "      <th>1837</th>\n",
       "      <td>210662</td>\n",
       "      <td>896.00</td>\n",
       "      <td>Рыбинск</td>\n",
       "      <td>Ж</td>\n",
       "      <td>37.00</td>\n",
       "      <td>0</td>\n",
       "      <td>NaN</td>\n",
       "      <td>2</td>\n",
       "      <td>0</td>\n",
       "      <td>0</td>\n",
       "      <td>90,916.04</td>\n",
       "      <td>0</td>\n",
       "    </tr>\n",
       "    <tr>\n",
       "      <th>2138</th>\n",
       "      <td>131419</td>\n",
       "      <td>739.00</td>\n",
       "      <td>Рыбинск</td>\n",
       "      <td>Ж</td>\n",
       "      <td>37.00</td>\n",
       "      <td>3</td>\n",
       "      <td>1,307,941.65</td>\n",
       "      <td>3</td>\n",
       "      <td>0</td>\n",
       "      <td>0</td>\n",
       "      <td>103,867.47</td>\n",
       "      <td>0</td>\n",
       "    </tr>\n",
       "    <tr>\n",
       "      <th>2165</th>\n",
       "      <td>187635</td>\n",
       "      <td>692.00</td>\n",
       "      <td>Рыбинск</td>\n",
       "      <td>Ж</td>\n",
       "      <td>NaN</td>\n",
       "      <td>0</td>\n",
       "      <td>NaN</td>\n",
       "      <td>1</td>\n",
       "      <td>1</td>\n",
       "      <td>1</td>\n",
       "      <td>160,368.82</td>\n",
       "      <td>0</td>\n",
       "    </tr>\n",
       "    <tr>\n",
       "      <th>2302</th>\n",
       "      <td>220816</td>\n",
       "      <td>934.00</td>\n",
       "      <td>Рыбинск</td>\n",
       "      <td>Ж</td>\n",
       "      <td>74.00</td>\n",
       "      <td>5</td>\n",
       "      <td>1,294,285.39</td>\n",
       "      <td>3</td>\n",
       "      <td>1</td>\n",
       "      <td>0</td>\n",
       "      <td>95,606.80</td>\n",
       "      <td>0</td>\n",
       "    </tr>\n",
       "    <tr>\n",
       "      <th>...</th>\n",
       "      <td>...</td>\n",
       "      <td>...</td>\n",
       "      <td>...</td>\n",
       "      <td>...</td>\n",
       "      <td>...</td>\n",
       "      <td>...</td>\n",
       "      <td>...</td>\n",
       "      <td>...</td>\n",
       "      <td>...</td>\n",
       "      <td>...</td>\n",
       "      <td>...</td>\n",
       "      <td>...</td>\n",
       "    </tr>\n",
       "    <tr>\n",
       "      <th>9775</th>\n",
       "      <td>124450</td>\n",
       "      <td>758.00</td>\n",
       "      <td>Рыбинск</td>\n",
       "      <td>Ж</td>\n",
       "      <td>36.00</td>\n",
       "      <td>0</td>\n",
       "      <td>73,574.07</td>\n",
       "      <td>2</td>\n",
       "      <td>0</td>\n",
       "      <td>1</td>\n",
       "      <td>79,963.59</td>\n",
       "      <td>0</td>\n",
       "    </tr>\n",
       "    <tr>\n",
       "      <th>9785</th>\n",
       "      <td>168998</td>\n",
       "      <td>895.00</td>\n",
       "      <td>Рыбинск</td>\n",
       "      <td>М</td>\n",
       "      <td>44.00</td>\n",
       "      <td>0</td>\n",
       "      <td>282,653.53</td>\n",
       "      <td>3</td>\n",
       "      <td>0</td>\n",
       "      <td>0</td>\n",
       "      <td>255,296.47</td>\n",
       "      <td>0</td>\n",
       "    </tr>\n",
       "    <tr>\n",
       "      <th>9819</th>\n",
       "      <td>140934</td>\n",
       "      <td>832.00</td>\n",
       "      <td>Рыбинск</td>\n",
       "      <td>Ж</td>\n",
       "      <td>NaN</td>\n",
       "      <td>3</td>\n",
       "      <td>385,763.16</td>\n",
       "      <td>2</td>\n",
       "      <td>0</td>\n",
       "      <td>1</td>\n",
       "      <td>59,651.35</td>\n",
       "      <td>0</td>\n",
       "    </tr>\n",
       "    <tr>\n",
       "      <th>9880</th>\n",
       "      <td>217412</td>\n",
       "      <td>886.00</td>\n",
       "      <td>Ярославль</td>\n",
       "      <td>Ж</td>\n",
       "      <td>35.00</td>\n",
       "      <td>3</td>\n",
       "      <td>1,026,172.14</td>\n",
       "      <td>2</td>\n",
       "      <td>1</td>\n",
       "      <td>0</td>\n",
       "      <td>53,099.16</td>\n",
       "      <td>0</td>\n",
       "    </tr>\n",
       "    <tr>\n",
       "      <th>9970</th>\n",
       "      <td>175730</td>\n",
       "      <td>816.00</td>\n",
       "      <td>Рыбинск</td>\n",
       "      <td>М</td>\n",
       "      <td>36.00</td>\n",
       "      <td>4</td>\n",
       "      <td>477,892.07</td>\n",
       "      <td>3</td>\n",
       "      <td>1</td>\n",
       "      <td>0</td>\n",
       "      <td>81,100.60</td>\n",
       "      <td>0</td>\n",
       "    </tr>\n",
       "  </tbody>\n",
       "</table>\n",
       "<p>73 rows × 12 columns</p>\n",
       "</div>"
      ],
      "text/plain": [
       "      user_id  score       city gender   age  equity      balance  products  \\\n",
       "1583   190253 726.00  Ярославль      М 49.00       0          NaN         1   \n",
       "1837   210662 896.00    Рыбинск      Ж 37.00       0          NaN         2   \n",
       "2138   131419 739.00    Рыбинск      Ж 37.00       3 1,307,941.65         3   \n",
       "2165   187635 692.00    Рыбинск      Ж   NaN       0          NaN         1   \n",
       "2302   220816 934.00    Рыбинск      Ж 74.00       5 1,294,285.39         3   \n",
       "...       ...    ...        ...    ...   ...     ...          ...       ...   \n",
       "9775   124450 758.00    Рыбинск      Ж 36.00       0    73,574.07         2   \n",
       "9785   168998 895.00    Рыбинск      М 44.00       0   282,653.53         3   \n",
       "9819   140934 832.00    Рыбинск      Ж   NaN       3   385,763.16         2   \n",
       "9880   217412 886.00  Ярославль      Ж 35.00       3 1,026,172.14         2   \n",
       "9970   175730 816.00    Рыбинск      М 36.00       4   477,892.07         3   \n",
       "\n",
       "      credit_card  last_activity  est_salary  churn  \n",
       "1583            1              1  177,700.78      0  \n",
       "1837            0              0   90,916.04      0  \n",
       "2138            0              0  103,867.47      0  \n",
       "2165            1              1  160,368.82      0  \n",
       "2302            1              0   95,606.80      0  \n",
       "...           ...            ...         ...    ...  \n",
       "9775            0              1   79,963.59      0  \n",
       "9785            0              0  255,296.47      0  \n",
       "9819            0              1   59,651.35      0  \n",
       "9880            1              0   53,099.16      0  \n",
       "9970            1              0   81,100.60      0  \n",
       "\n",
       "[73 rows x 12 columns]"
      ]
     },
     "execution_count": 9,
     "metadata": {},
     "output_type": "execute_result"
    }
   ],
   "source": [
    "#выведем дубликаты user_id\n",
    "user_duplicates = bank[bank['user_id'].duplicated()]\n",
    "user_duplicates"
   ]
  },
  {
   "cell_type": "code",
   "execution_count": 10,
   "metadata": {
    "scrolled": true
   },
   "outputs": [
    {
     "data": {
      "text/plain": [
       "0.3600801234199939"
      ]
     },
     "execution_count": 10,
     "metadata": {},
     "output_type": "execute_result"
    }
   ],
   "source": [
    "#посмотрим долю денежный средств, которая \"сидит\" в этих дубликатах\n",
    "duplicates_ratio = (user_duplicates['balance'].sum() / bank['balance'].sum())*100\n",
    "duplicates_ratio"
   ]
  },
  {
   "cell_type": "markdown",
   "metadata": {},
   "source": [
    "*Менее 1% денежных средств в 73 дубликатах, можно удалить эти записи*"
   ]
  },
  {
   "cell_type": "code",
   "execution_count": 11,
   "metadata": {},
   "outputs": [],
   "source": [
    "#удалим дубликаты\n",
    "bank = bank.drop(index= user_duplicates.index, axis=0)"
   ]
  },
  {
   "cell_type": "code",
   "execution_count": 12,
   "metadata": {},
   "outputs": [
    {
     "data": {
      "text/plain": [
       "0"
      ]
     },
     "execution_count": 12,
     "metadata": {},
     "output_type": "execute_result"
    }
   ],
   "source": [
    "#проверим дубликаты по столбцам user_id, gender и age\n",
    "bank.duplicated(subset = ['user_id', 'gender', 'age']).sum()"
   ]
  },
  {
   "cell_type": "code",
   "execution_count": 13,
   "metadata": {},
   "outputs": [
    {
     "data": {
      "text/plain": [
       "user_id             0\n",
       "score               0\n",
       "city                0\n",
       "gender              0\n",
       "age                 4\n",
       "equity              0\n",
       "balance          2260\n",
       "products            0\n",
       "credit_card         0\n",
       "last_activity       0\n",
       "est_salary          0\n",
       "churn               0\n",
       "dtype: int64"
      ]
     },
     "execution_count": 13,
     "metadata": {},
     "output_type": "execute_result"
    }
   ],
   "source": [
    "#проверим датафрейм на наличие пропусков\n",
    "bank.isna().sum()"
   ]
  },
  {
   "cell_type": "markdown",
   "metadata": {},
   "source": [
    "*Так как в процентном соотношении количество пропусков в столбце balance превышает 20% и заменить мы их ничем не можем, оставим пока его без изменений*"
   ]
  },
  {
   "cell_type": "code",
   "execution_count": 14,
   "metadata": {},
   "outputs": [
    {
     "data": {
      "text/html": [
       "<div>\n",
       "<style scoped>\n",
       "    .dataframe tbody tr th:only-of-type {\n",
       "        vertical-align: middle;\n",
       "    }\n",
       "\n",
       "    .dataframe tbody tr th {\n",
       "        vertical-align: top;\n",
       "    }\n",
       "\n",
       "    .dataframe thead th {\n",
       "        text-align: right;\n",
       "    }\n",
       "</style>\n",
       "<table border=\"1\" class=\"dataframe\">\n",
       "  <thead>\n",
       "    <tr style=\"text-align: right;\">\n",
       "      <th></th>\n",
       "      <th>user_id</th>\n",
       "      <th>score</th>\n",
       "      <th>city</th>\n",
       "      <th>gender</th>\n",
       "      <th>age</th>\n",
       "      <th>equity</th>\n",
       "      <th>balance</th>\n",
       "      <th>products</th>\n",
       "      <th>credit_card</th>\n",
       "      <th>last_activity</th>\n",
       "      <th>est_salary</th>\n",
       "      <th>churn</th>\n",
       "    </tr>\n",
       "  </thead>\n",
       "  <tbody>\n",
       "    <tr>\n",
       "      <th>1247</th>\n",
       "      <td>228075</td>\n",
       "      <td>932.00</td>\n",
       "      <td>Ярославль</td>\n",
       "      <td>М</td>\n",
       "      <td>NaN</td>\n",
       "      <td>5</td>\n",
       "      <td>7,601,719.20</td>\n",
       "      <td>2</td>\n",
       "      <td>1</td>\n",
       "      <td>1</td>\n",
       "      <td>408,121.16</td>\n",
       "      <td>0</td>\n",
       "    </tr>\n",
       "    <tr>\n",
       "      <th>3091</th>\n",
       "      <td>138660</td>\n",
       "      <td>836.00</td>\n",
       "      <td>Ростов</td>\n",
       "      <td>Ж</td>\n",
       "      <td>NaN</td>\n",
       "      <td>5</td>\n",
       "      <td>294,315.53</td>\n",
       "      <td>2</td>\n",
       "      <td>0</td>\n",
       "      <td>1</td>\n",
       "      <td>63,310.22</td>\n",
       "      <td>1</td>\n",
       "    </tr>\n",
       "    <tr>\n",
       "      <th>4912</th>\n",
       "      <td>210674</td>\n",
       "      <td>834.00</td>\n",
       "      <td>Рыбинск</td>\n",
       "      <td>М</td>\n",
       "      <td>NaN</td>\n",
       "      <td>1</td>\n",
       "      <td>238,330.52</td>\n",
       "      <td>2</td>\n",
       "      <td>0</td>\n",
       "      <td>1</td>\n",
       "      <td>93,775.06</td>\n",
       "      <td>0</td>\n",
       "    </tr>\n",
       "    <tr>\n",
       "      <th>7345</th>\n",
       "      <td>184913</td>\n",
       "      <td>829.00</td>\n",
       "      <td>Ярославль</td>\n",
       "      <td>Ж</td>\n",
       "      <td>NaN</td>\n",
       "      <td>3</td>\n",
       "      <td>188,648.77</td>\n",
       "      <td>2</td>\n",
       "      <td>0</td>\n",
       "      <td>1</td>\n",
       "      <td>75,206.90</td>\n",
       "      <td>0</td>\n",
       "    </tr>\n",
       "  </tbody>\n",
       "</table>\n",
       "</div>"
      ],
      "text/plain": [
       "      user_id  score       city gender  age  equity      balance  products  \\\n",
       "1247   228075 932.00  Ярославль      М  NaN       5 7,601,719.20         2   \n",
       "3091   138660 836.00     Ростов      Ж  NaN       5   294,315.53         2   \n",
       "4912   210674 834.00    Рыбинск      М  NaN       1   238,330.52         2   \n",
       "7345   184913 829.00  Ярославль      Ж  NaN       3   188,648.77         2   \n",
       "\n",
       "      credit_card  last_activity  est_salary  churn  \n",
       "1247            1              1  408,121.16      0  \n",
       "3091            0              1   63,310.22      1  \n",
       "4912            0              1   93,775.06      0  \n",
       "7345            0              1   75,206.90      0  "
      ]
     },
     "execution_count": 14,
     "metadata": {},
     "output_type": "execute_result"
    }
   ],
   "source": [
    "#выведем пропуски в столбце age\n",
    "bank[bank['age'].isna()]"
   ]
  },
  {
   "cell_type": "markdown",
   "metadata": {},
   "source": [
    "*Так как всего 4 пропуска, среди которых ушел из банка только 1 пользователь, удалим данные записи*"
   ]
  },
  {
   "cell_type": "code",
   "execution_count": 15,
   "metadata": {},
   "outputs": [],
   "source": [
    "bank.drop([1247, 3091, 4912, 7345], inplace=True)"
   ]
  },
  {
   "cell_type": "code",
   "execution_count": 16,
   "metadata": {},
   "outputs": [
    {
     "name": "stdout",
     "output_type": "stream",
     "text": [
      "['Рыбинск' 'Ярославль' 'Ростов']\n",
      "['Ж' 'М']\n"
     ]
    }
   ],
   "source": [
    "#проверим категориальные значения\n",
    "print(bank['city'].unique())\n",
    "print(bank['gender'].unique())"
   ]
  },
  {
   "cell_type": "code",
   "execution_count": 17,
   "metadata": {},
   "outputs": [
    {
     "data": {
      "text/html": [
       "<div>\n",
       "<style scoped>\n",
       "    .dataframe tbody tr th:only-of-type {\n",
       "        vertical-align: middle;\n",
       "    }\n",
       "\n",
       "    .dataframe tbody tr th {\n",
       "        vertical-align: top;\n",
       "    }\n",
       "\n",
       "    .dataframe thead th {\n",
       "        text-align: right;\n",
       "    }\n",
       "</style>\n",
       "<table border=\"1\" class=\"dataframe\">\n",
       "  <thead>\n",
       "    <tr style=\"text-align: right;\">\n",
       "      <th></th>\n",
       "      <th>user_id</th>\n",
       "      <th>score</th>\n",
       "      <th>city</th>\n",
       "      <th>gender</th>\n",
       "      <th>age</th>\n",
       "      <th>equity</th>\n",
       "      <th>balance</th>\n",
       "      <th>products</th>\n",
       "      <th>credit_card</th>\n",
       "      <th>last_activity</th>\n",
       "      <th>est_salary</th>\n",
       "      <th>churn</th>\n",
       "    </tr>\n",
       "  </thead>\n",
       "  <tbody>\n",
       "    <tr>\n",
       "      <th>8957</th>\n",
       "      <td>147837</td>\n",
       "      <td>962.00</td>\n",
       "      <td>Рыбинск</td>\n",
       "      <td>Ж</td>\n",
       "      <td>79.00</td>\n",
       "      <td>3</td>\n",
       "      <td>NaN</td>\n",
       "      <td>0</td>\n",
       "      <td>0</td>\n",
       "      <td>0</td>\n",
       "      <td>25,063.96</td>\n",
       "      <td>1</td>\n",
       "    </tr>\n",
       "  </tbody>\n",
       "</table>\n",
       "</div>"
      ],
      "text/plain": [
       "      user_id  score     city gender   age  equity  balance  products  \\\n",
       "8957   147837 962.00  Рыбинск      Ж 79.00       3      NaN         0   \n",
       "\n",
       "      credit_card  last_activity  est_salary  churn  \n",
       "8957            0              0   25,063.96      1  "
      ]
     },
     "execution_count": 17,
     "metadata": {},
     "output_type": "execute_result"
    }
   ],
   "source": [
    "#проверим наличие клиентов, у которых нет продуктов банка\n",
    "bank.query('products == 0')"
   ]
  },
  {
   "cell_type": "markdown",
   "metadata": {},
   "source": [
    "*Так как у клиента банка не может не быть продуктов, то значение 0 в данном случае выступает аномалией, удалим эту запись*"
   ]
  },
  {
   "cell_type": "code",
   "execution_count": 18,
   "metadata": {},
   "outputs": [],
   "source": [
    "#удалим строку с аномальным значением\n",
    "bank.drop(bank[bank['products'] == 0].index, inplace=True)"
   ]
  },
  {
   "cell_type": "code",
   "execution_count": 19,
   "metadata": {},
   "outputs": [
    {
     "data": {
      "text/html": [
       "<div>\n",
       "<style scoped>\n",
       "    .dataframe tbody tr th:only-of-type {\n",
       "        vertical-align: middle;\n",
       "    }\n",
       "\n",
       "    .dataframe tbody tr th {\n",
       "        vertical-align: top;\n",
       "    }\n",
       "\n",
       "    .dataframe thead th {\n",
       "        text-align: right;\n",
       "    }\n",
       "</style>\n",
       "<table border=\"1\" class=\"dataframe\">\n",
       "  <thead>\n",
       "    <tr style=\"text-align: right;\">\n",
       "      <th></th>\n",
       "      <th>user_id</th>\n",
       "      <th>score</th>\n",
       "      <th>city</th>\n",
       "      <th>gender</th>\n",
       "      <th>age</th>\n",
       "      <th>equity</th>\n",
       "      <th>balance</th>\n",
       "      <th>products</th>\n",
       "      <th>credit_card</th>\n",
       "      <th>last_activity</th>\n",
       "      <th>est_salary</th>\n",
       "      <th>churn</th>\n",
       "    </tr>\n",
       "  </thead>\n",
       "  <tbody>\n",
       "  </tbody>\n",
       "</table>\n",
       "</div>"
      ],
      "text/plain": [
       "Empty DataFrame\n",
       "Columns: [user_id, score, city, gender, age, equity, balance, products, credit_card, last_activity, est_salary, churn]\n",
       "Index: []"
      ]
     },
     "execution_count": 19,
     "metadata": {},
     "output_type": "execute_result"
    }
   ],
   "source": [
    "#проверим результат после удаления\n",
    "bank.query('products == 0')"
   ]
  },
  {
   "cell_type": "code",
   "execution_count": 20,
   "metadata": {},
   "outputs": [],
   "source": [
    "#преобразуем данные в нужные типы\n",
    "bank['score'] = bank['score'].astype('int64')\n",
    "bank['age'] = bank['age'].astype('int64')"
   ]
  },
  {
   "cell_type": "code",
   "execution_count": 21,
   "metadata": {},
   "outputs": [
    {
     "name": "stdout",
     "output_type": "stream",
     "text": [
      "<class 'pandas.core.frame.DataFrame'>\n",
      "Int64Index: 9922 entries, 0 to 9999\n",
      "Data columns (total 12 columns):\n",
      " #   Column         Non-Null Count  Dtype  \n",
      "---  ------         --------------  -----  \n",
      " 0   user_id        9922 non-null   int64  \n",
      " 1   score          9922 non-null   int64  \n",
      " 2   city           9922 non-null   object \n",
      " 3   gender         9922 non-null   object \n",
      " 4   age            9922 non-null   int64  \n",
      " 5   equity         9922 non-null   int64  \n",
      " 6   balance        7663 non-null   float64\n",
      " 7   products       9922 non-null   int64  \n",
      " 8   credit_card    9922 non-null   int64  \n",
      " 9   last_activity  9922 non-null   int64  \n",
      " 10  est_salary     9922 non-null   float64\n",
      " 11  churn          9922 non-null   int64  \n",
      "dtypes: float64(2), int64(8), object(2)\n",
      "memory usage: 1007.7+ KB\n"
     ]
    }
   ],
   "source": [
    "#проверим, как изменился датафрейм после всех преобразований\n",
    "bank.info()"
   ]
  },
  {
   "cell_type": "markdown",
   "metadata": {},
   "source": [
    "**В результате предобработки данных:**\n",
    "- названия всех столбцов были приведены к общему виду\n",
    "- значения столбцов score и age были приведены к типу Int64\n",
    "- обработаны пропуски\n",
    "- были удалены дубликаты по столбцу user_id, а также строка с нулевым значением в колонке product"
   ]
  },
  {
   "cell_type": "markdown",
   "metadata": {},
   "source": [
    "## Исследовательский анализ данных"
   ]
  },
  {
   "cell_type": "code",
   "execution_count": 22,
   "metadata": {
    "scrolled": true
   },
   "outputs": [
    {
     "data": {
      "text/html": [
       "<div>\n",
       "<style scoped>\n",
       "    .dataframe tbody tr th:only-of-type {\n",
       "        vertical-align: middle;\n",
       "    }\n",
       "\n",
       "    .dataframe tbody tr th {\n",
       "        vertical-align: top;\n",
       "    }\n",
       "\n",
       "    .dataframe thead th {\n",
       "        text-align: right;\n",
       "    }\n",
       "</style>\n",
       "<table border=\"1\" class=\"dataframe\">\n",
       "  <thead>\n",
       "    <tr style=\"text-align: right;\">\n",
       "      <th></th>\n",
       "      <th>user_id</th>\n",
       "      <th>score</th>\n",
       "      <th>age</th>\n",
       "      <th>equity</th>\n",
       "      <th>balance</th>\n",
       "      <th>products</th>\n",
       "      <th>credit_card</th>\n",
       "      <th>last_activity</th>\n",
       "      <th>est_salary</th>\n",
       "      <th>churn</th>\n",
       "    </tr>\n",
       "  </thead>\n",
       "  <tbody>\n",
       "    <tr>\n",
       "      <th>count</th>\n",
       "      <td>9,922.00</td>\n",
       "      <td>9,922.00</td>\n",
       "      <td>9,922.00</td>\n",
       "      <td>9,922.00</td>\n",
       "      <td>7,663.00</td>\n",
       "      <td>9,922.00</td>\n",
       "      <td>9,922.00</td>\n",
       "      <td>9,922.00</td>\n",
       "      <td>9,922.00</td>\n",
       "      <td>9,922.00</td>\n",
       "    </tr>\n",
       "    <tr>\n",
       "      <th>mean</th>\n",
       "      <td>171,733.89</td>\n",
       "      <td>848.72</td>\n",
       "      <td>42.73</td>\n",
       "      <td>2.63</td>\n",
       "      <td>828,248.16</td>\n",
       "      <td>1.87</td>\n",
       "      <td>0.68</td>\n",
       "      <td>0.52</td>\n",
       "      <td>147,898.87</td>\n",
       "      <td>0.18</td>\n",
       "    </tr>\n",
       "    <tr>\n",
       "      <th>std</th>\n",
       "      <td>33,695.22</td>\n",
       "      <td>65.39</td>\n",
       "      <td>12.17</td>\n",
       "      <td>1.98</td>\n",
       "      <td>1,984,247.69</td>\n",
       "      <td>0.79</td>\n",
       "      <td>0.47</td>\n",
       "      <td>0.50</td>\n",
       "      <td>139,365.46</td>\n",
       "      <td>0.39</td>\n",
       "    </tr>\n",
       "    <tr>\n",
       "      <th>min</th>\n",
       "      <td>94,561.00</td>\n",
       "      <td>642.00</td>\n",
       "      <td>18.00</td>\n",
       "      <td>0.00</td>\n",
       "      <td>0.00</td>\n",
       "      <td>1.00</td>\n",
       "      <td>0.00</td>\n",
       "      <td>0.00</td>\n",
       "      <td>2,546.30</td>\n",
       "      <td>0.00</td>\n",
       "    </tr>\n",
       "    <tr>\n",
       "      <th>25%</th>\n",
       "      <td>142,715.00</td>\n",
       "      <td>802.00</td>\n",
       "      <td>33.00</td>\n",
       "      <td>0.00</td>\n",
       "      <td>295,498.98</td>\n",
       "      <td>1.00</td>\n",
       "      <td>0.00</td>\n",
       "      <td>0.00</td>\n",
       "      <td>75,254.04</td>\n",
       "      <td>0.00</td>\n",
       "    </tr>\n",
       "    <tr>\n",
       "      <th>50%</th>\n",
       "      <td>172,643.00</td>\n",
       "      <td>853.00</td>\n",
       "      <td>40.00</td>\n",
       "      <td>3.00</td>\n",
       "      <td>524,961.22</td>\n",
       "      <td>2.00</td>\n",
       "      <td>1.00</td>\n",
       "      <td>1.00</td>\n",
       "      <td>119,735.43</td>\n",
       "      <td>0.00</td>\n",
       "    </tr>\n",
       "    <tr>\n",
       "      <th>75%</th>\n",
       "      <td>201,157.75</td>\n",
       "      <td>900.00</td>\n",
       "      <td>51.00</td>\n",
       "      <td>4.00</td>\n",
       "      <td>980,801.49</td>\n",
       "      <td>2.00</td>\n",
       "      <td>1.00</td>\n",
       "      <td>1.00</td>\n",
       "      <td>174,679.64</td>\n",
       "      <td>0.00</td>\n",
       "    </tr>\n",
       "    <tr>\n",
       "      <th>max</th>\n",
       "      <td>229,145.00</td>\n",
       "      <td>1,000.00</td>\n",
       "      <td>86.00</td>\n",
       "      <td>9.00</td>\n",
       "      <td>119,113,552.01</td>\n",
       "      <td>5.00</td>\n",
       "      <td>1.00</td>\n",
       "      <td>1.00</td>\n",
       "      <td>1,395,064.45</td>\n",
       "      <td>1.00</td>\n",
       "    </tr>\n",
       "  </tbody>\n",
       "</table>\n",
       "</div>"
      ],
      "text/plain": [
       "         user_id    score      age   equity        balance  products  \\\n",
       "count   9,922.00 9,922.00 9,922.00 9,922.00       7,663.00  9,922.00   \n",
       "mean  171,733.89   848.72    42.73     2.63     828,248.16      1.87   \n",
       "std    33,695.22    65.39    12.17     1.98   1,984,247.69      0.79   \n",
       "min    94,561.00   642.00    18.00     0.00           0.00      1.00   \n",
       "25%   142,715.00   802.00    33.00     0.00     295,498.98      1.00   \n",
       "50%   172,643.00   853.00    40.00     3.00     524,961.22      2.00   \n",
       "75%   201,157.75   900.00    51.00     4.00     980,801.49      2.00   \n",
       "max   229,145.00 1,000.00    86.00     9.00 119,113,552.01      5.00   \n",
       "\n",
       "       credit_card  last_activity   est_salary    churn  \n",
       "count     9,922.00       9,922.00     9,922.00 9,922.00  \n",
       "mean          0.68           0.52   147,898.87     0.18  \n",
       "std           0.47           0.50   139,365.46     0.39  \n",
       "min           0.00           0.00     2,546.30     0.00  \n",
       "25%           0.00           0.00    75,254.04     0.00  \n",
       "50%           1.00           1.00   119,735.43     0.00  \n",
       "75%           1.00           1.00   174,679.64     0.00  \n",
       "max           1.00           1.00 1,395,064.45     1.00  "
      ]
     },
     "execution_count": 22,
     "metadata": {},
     "output_type": "execute_result"
    }
   ],
   "source": [
    "#изучим общую информацию о датафрейме\n",
    "bank.describe()"
   ]
  },
  {
   "cell_type": "code",
   "execution_count": 23,
   "metadata": {},
   "outputs": [
    {
     "data": {
      "text/html": [
       "<div>\n",
       "<style scoped>\n",
       "    .dataframe tbody tr th:only-of-type {\n",
       "        vertical-align: middle;\n",
       "    }\n",
       "\n",
       "    .dataframe tbody tr th {\n",
       "        vertical-align: top;\n",
       "    }\n",
       "\n",
       "    .dataframe thead th {\n",
       "        text-align: right;\n",
       "    }\n",
       "</style>\n",
       "<table border=\"1\" class=\"dataframe\">\n",
       "  <thead>\n",
       "    <tr style=\"text-align: right;\">\n",
       "      <th></th>\n",
       "      <th>churn</th>\n",
       "      <th>0</th>\n",
       "      <th>1</th>\n",
       "    </tr>\n",
       "  </thead>\n",
       "  <tbody>\n",
       "    <tr>\n",
       "      <th rowspan=\"2\" valign=\"top\">score</th>\n",
       "      <th>mean</th>\n",
       "      <td>845.44</td>\n",
       "      <td>863.36</td>\n",
       "    </tr>\n",
       "    <tr>\n",
       "      <th>median</th>\n",
       "      <td>848.00</td>\n",
       "      <td>866.00</td>\n",
       "    </tr>\n",
       "    <tr>\n",
       "      <th rowspan=\"2\" valign=\"top\">age</th>\n",
       "      <th>mean</th>\n",
       "      <td>43.02</td>\n",
       "      <td>41.43</td>\n",
       "    </tr>\n",
       "    <tr>\n",
       "      <th>median</th>\n",
       "      <td>40.00</td>\n",
       "      <td>39.00</td>\n",
       "    </tr>\n",
       "    <tr>\n",
       "      <th rowspan=\"2\" valign=\"top\">equity</th>\n",
       "      <th>mean</th>\n",
       "      <td>2.38</td>\n",
       "      <td>3.76</td>\n",
       "    </tr>\n",
       "    <tr>\n",
       "      <th>median</th>\n",
       "      <td>3.00</td>\n",
       "      <td>4.00</td>\n",
       "    </tr>\n",
       "    <tr>\n",
       "      <th rowspan=\"2\" valign=\"top\">balance</th>\n",
       "      <th>mean</th>\n",
       "      <td>733,828.60</td>\n",
       "      <td>1,134,458.21</td>\n",
       "    </tr>\n",
       "    <tr>\n",
       "      <th>median</th>\n",
       "      <td>475,354.80</td>\n",
       "      <td>783,908.90</td>\n",
       "    </tr>\n",
       "    <tr>\n",
       "      <th rowspan=\"2\" valign=\"top\">products</th>\n",
       "      <th>mean</th>\n",
       "      <td>1.76</td>\n",
       "      <td>2.38</td>\n",
       "    </tr>\n",
       "    <tr>\n",
       "      <th>median</th>\n",
       "      <td>2.00</td>\n",
       "      <td>2.00</td>\n",
       "    </tr>\n",
       "    <tr>\n",
       "      <th rowspan=\"2\" valign=\"top\">credit_card</th>\n",
       "      <th>mean</th>\n",
       "      <td>0.71</td>\n",
       "      <td>0.55</td>\n",
       "    </tr>\n",
       "    <tr>\n",
       "      <th>median</th>\n",
       "      <td>1.00</td>\n",
       "      <td>1.00</td>\n",
       "    </tr>\n",
       "    <tr>\n",
       "      <th rowspan=\"2\" valign=\"top\">last_activity</th>\n",
       "      <th>mean</th>\n",
       "      <td>0.48</td>\n",
       "      <td>0.70</td>\n",
       "    </tr>\n",
       "    <tr>\n",
       "      <th>median</th>\n",
       "      <td>0.00</td>\n",
       "      <td>1.00</td>\n",
       "    </tr>\n",
       "    <tr>\n",
       "      <th rowspan=\"2\" valign=\"top\">est_salary</th>\n",
       "      <th>mean</th>\n",
       "      <td>147,795.99</td>\n",
       "      <td>148,357.48</td>\n",
       "    </tr>\n",
       "    <tr>\n",
       "      <th>median</th>\n",
       "      <td>118,248.51</td>\n",
       "      <td>125,408.88</td>\n",
       "    </tr>\n",
       "  </tbody>\n",
       "</table>\n",
       "</div>"
      ],
      "text/plain": [
       "churn                         0            1\n",
       "score         mean       845.44       863.36\n",
       "              median     848.00       866.00\n",
       "age           mean        43.02        41.43\n",
       "              median      40.00        39.00\n",
       "equity        mean         2.38         3.76\n",
       "              median       3.00         4.00\n",
       "balance       mean   733,828.60 1,134,458.21\n",
       "              median 475,354.80   783,908.90\n",
       "products      mean         1.76         2.38\n",
       "              median       2.00         2.00\n",
       "credit_card   mean         0.71         0.55\n",
       "              median       1.00         1.00\n",
       "last_activity mean         0.48         0.70\n",
       "              median       0.00         1.00\n",
       "est_salary    mean   147,795.99   148,357.48\n",
       "              median 118,248.51   125,408.88"
      ]
     },
     "execution_count": 23,
     "metadata": {},
     "output_type": "execute_result"
    }
   ],
   "source": [
    "#составим сравнительную характеристику для количественных показателей по churn\n",
    "bank.groupby(['churn'])['score', 'age', 'equity', 'balance',\n",
    "       'products', 'credit_card', 'last_activity', 'est_salary'].agg(\n",
    "       ['mean', 'median']).T"
   ]
  },
  {
   "cell_type": "code",
   "execution_count": 24,
   "metadata": {},
   "outputs": [
    {
     "data": {
      "text/plain": [
       "0    8104\n",
       "1    1818\n",
       "Name: churn, dtype: int64"
      ]
     },
     "execution_count": 24,
     "metadata": {},
     "output_type": "execute_result"
    }
   ],
   "source": [
    "#посмотрим распределение оставшихся/ушедших клиентов исходного датафрейма\n",
    "bank['churn'].value_counts()"
   ]
  },
  {
   "cell_type": "markdown",
   "metadata": {},
   "source": [
    "*После преобработки датафрейма осталось 1818 записей с отточными клиентами банка*"
   ]
  },
  {
   "cell_type": "code",
   "execution_count": 25,
   "metadata": {},
   "outputs": [
    {
     "data": {
      "text/plain": [
       "0.18"
      ]
     },
     "execution_count": 25,
     "metadata": {},
     "output_type": "execute_result"
    }
   ],
   "source": [
    "#выявим отток клиентов банка\n",
    "bank_churn = (bank['churn'].sum()/bank['churn'].count()).round(2)\n",
    "bank_churn"
   ]
  },
  {
   "cell_type": "markdown",
   "metadata": {},
   "source": [
    "**Текущий отток клиентов составляет 18%**"
   ]
  },
  {
   "cell_type": "code",
   "execution_count": 26,
   "metadata": {},
   "outputs": [
    {
     "data": {
      "image/png": "[encoded data removed]",
      "text/plain": [
       "<Figure size 1080x720 with 1 Axes>"
      ]
     },
     "metadata": {
      "needs_background": "light"
     },
     "output_type": "display_data"
    }
   ],
   "source": [
    "#построим распределение признака оттока по баллам кредитного скоринга\n",
    "plt.figure(figsize=(15, 10))\n",
    "sns.histplot(data=bank, x='score', hue='churn', stat='density', common_norm=False)\n",
    "plt.xlabel('Баллы кредитного скоринга')\n",
    "plt.ylabel('Плотность')\n",
    "plt.title('Гистограмма распределения плотности по баллам кредитного скоринга');"
   ]
  },
  {
   "cell_type": "markdown",
   "metadata": {},
   "source": [
    "*Начиная с 820 и до 900 наблюдается отток клиентов. Также есть интервалы в районе 930-940, где клиенты менее лояльны к банку.*"
   ]
  },
  {
   "cell_type": "code",
   "execution_count": 27,
   "metadata": {},
   "outputs": [
    {
     "data": {
      "text/html": [
       "<div>\n",
       "<style scoped>\n",
       "    .dataframe tbody tr th:only-of-type {\n",
       "        vertical-align: middle;\n",
       "    }\n",
       "\n",
       "    .dataframe tbody tr th {\n",
       "        vertical-align: top;\n",
       "    }\n",
       "\n",
       "    .dataframe thead th {\n",
       "        text-align: right;\n",
       "    }\n",
       "</style>\n",
       "<table border=\"1\" class=\"dataframe\">\n",
       "  <thead>\n",
       "    <tr style=\"text-align: right;\">\n",
       "      <th></th>\n",
       "      <th>ушло</th>\n",
       "      <th>всего</th>\n",
       "      <th>доля ушедших, %</th>\n",
       "    </tr>\n",
       "    <tr>\n",
       "      <th>city</th>\n",
       "      <th></th>\n",
       "      <th></th>\n",
       "      <th></th>\n",
       "    </tr>\n",
       "  </thead>\n",
       "  <tbody>\n",
       "    <tr>\n",
       "      <th>Ростов</th>\n",
       "      <td>265</td>\n",
       "      <td>1416</td>\n",
       "      <td>18.71</td>\n",
       "    </tr>\n",
       "    <tr>\n",
       "      <th>Рыбинск</th>\n",
       "      <td>436</td>\n",
       "      <td>2652</td>\n",
       "      <td>16.44</td>\n",
       "    </tr>\n",
       "    <tr>\n",
       "      <th>Ярославль</th>\n",
       "      <td>1117</td>\n",
       "      <td>5854</td>\n",
       "      <td>19.08</td>\n",
       "    </tr>\n",
       "  </tbody>\n",
       "</table>\n",
       "</div>"
      ],
      "text/plain": [
       "           ушло  всего  доля ушедших, %\n",
       "city                                   \n",
       "Ростов      265   1416            18.71\n",
       "Рыбинск     436   2652            16.44\n",
       "Ярославль  1117   5854            19.08"
      ]
     },
     "execution_count": 27,
     "metadata": {},
     "output_type": "execute_result"
    }
   ],
   "source": [
    "#изучим отток пользователей по городам\n",
    "city_churn = bank.pivot_table(index='city', values='churn', aggfunc=['sum', 'count'])\n",
    "city_churn['out'] = city_churn['sum'] / city_churn['count']*100\n",
    "city_churn.columns = ['ушло', 'всего', 'доля ушедших, %']\n",
    "city_churn"
   ]
  },
  {
   "cell_type": "code",
   "execution_count": 28,
   "metadata": {
    "scrolled": false
   },
   "outputs": [
    {
     "data": {
      "image/png": "[encoded data removed]",
      "text/plain": [
       "<Figure size 1080x720 with 1 Axes>"
      ]
     },
     "metadata": {
      "needs_background": "light"
     },
     "output_type": "display_data"
    }
   ],
   "source": [
    "#построим распределение признака оттока по городам\n",
    "plt.figure(figsize=(15, 10))\n",
    "sns.histplot(data=bank, x='city', hue='churn', stat='density', common_norm=False, discrete=True)\n",
    "plt.xlabel('Город')\n",
    "plt.ylabel('Плотность')\n",
    "plt.title('Гистограмма распределения плотности по городам');"
   ]
  },
  {
   "cell_type": "markdown",
   "metadata": {},
   "source": [
    "*Самое большое количество пользователей приходится на Ярославль. Это ожидаемо, с учетом того, что это самый большой город из представленных. Доля ушедших клиентов в каждом городе примерно одинаковая и колеблется от 16 до 19%. Клиенты из Ярославля наиболее склонны к уходу из банка, чем жители Рыбинска и Ростова.*"
   ]
  },
  {
   "cell_type": "code",
   "execution_count": 29,
   "metadata": {},
   "outputs": [
    {
     "data": {
      "text/html": [
       "<div>\n",
       "<style scoped>\n",
       "    .dataframe tbody tr th:only-of-type {\n",
       "        vertical-align: middle;\n",
       "    }\n",
       "\n",
       "    .dataframe tbody tr th {\n",
       "        vertical-align: top;\n",
       "    }\n",
       "\n",
       "    .dataframe thead th {\n",
       "        text-align: right;\n",
       "    }\n",
       "</style>\n",
       "<table border=\"1\" class=\"dataframe\">\n",
       "  <thead>\n",
       "    <tr style=\"text-align: right;\">\n",
       "      <th></th>\n",
       "      <th>ушло</th>\n",
       "      <th>всего</th>\n",
       "      <th>доля ушедших, %</th>\n",
       "    </tr>\n",
       "    <tr>\n",
       "      <th>gender</th>\n",
       "      <th></th>\n",
       "      <th></th>\n",
       "      <th></th>\n",
       "    </tr>\n",
       "  </thead>\n",
       "  <tbody>\n",
       "    <tr>\n",
       "      <th>Ж</th>\n",
       "      <td>635</td>\n",
       "      <td>4952</td>\n",
       "      <td>12.82</td>\n",
       "    </tr>\n",
       "    <tr>\n",
       "      <th>М</th>\n",
       "      <td>1183</td>\n",
       "      <td>4970</td>\n",
       "      <td>23.80</td>\n",
       "    </tr>\n",
       "  </tbody>\n",
       "</table>\n",
       "</div>"
      ],
      "text/plain": [
       "        ушло  всего  доля ушедших, %\n",
       "gender                              \n",
       "Ж        635   4952            12.82\n",
       "М       1183   4970            23.80"
      ]
     },
     "execution_count": 29,
     "metadata": {},
     "output_type": "execute_result"
    }
   ],
   "source": [
    "#изучим отток пользователей по полу\n",
    "gender_churn = bank.pivot_table(index='gender', values='churn', aggfunc=['sum', 'count'])\n",
    "gender_churn['out'] = gender_churn['sum'] / gender_churn['count']*100\n",
    "gender_churn.columns = ['ушло', 'всего', 'доля ушедших, %']\n",
    "gender_churn"
   ]
  },
  {
   "cell_type": "markdown",
   "metadata": {},
   "source": [
    "*Количество мужчин и женщин-пользователей банка практически одинаковое, однако доля ушедших у мужчин практически в 2 раза превышает долю ушедших у женщин.*"
   ]
  },
  {
   "cell_type": "code",
   "execution_count": 30,
   "metadata": {},
   "outputs": [
    {
     "data": {
      "image/png": "[encoded data removed]",
      "text/plain": [
       "<Figure size 1080x720 with 1 Axes>"
      ]
     },
     "metadata": {
      "needs_background": "light"
     },
     "output_type": "display_data"
    }
   ],
   "source": [
    "#построим распределение признака оттока по полу\n",
    "plt.figure(figsize=(15, 10))\n",
    "sns.histplot(data=bank, x='gender', hue='churn', stat='density', common_norm=False, discrete=True)\n",
    "plt.xlabel('Пол')\n",
    "plt.ylabel('Плотность')\n",
    "plt.title('Гистограмма распределения плотности по полу');"
   ]
  },
  {
   "cell_type": "markdown",
   "metadata": {},
   "source": [
    "*Гистограмма распределения плотности также указывает на то, что мужчины больше склонны к оттоку, чем женщины*"
   ]
  },
  {
   "cell_type": "code",
   "execution_count": 31,
   "metadata": {},
   "outputs": [
    {
     "data": {
      "text/html": [
       "<div>\n",
       "<style scoped>\n",
       "    .dataframe tbody tr th:only-of-type {\n",
       "        vertical-align: middle;\n",
       "    }\n",
       "\n",
       "    .dataframe tbody tr th {\n",
       "        vertical-align: top;\n",
       "    }\n",
       "\n",
       "    .dataframe thead th {\n",
       "        text-align: right;\n",
       "    }\n",
       "</style>\n",
       "<table border=\"1\" class=\"dataframe\">\n",
       "  <thead>\n",
       "    <tr style=\"text-align: right;\">\n",
       "      <th></th>\n",
       "      <th>ушло</th>\n",
       "      <th>всего</th>\n",
       "      <th>доля ушедших, %</th>\n",
       "    </tr>\n",
       "    <tr>\n",
       "      <th>age</th>\n",
       "      <th></th>\n",
       "      <th></th>\n",
       "      <th></th>\n",
       "    </tr>\n",
       "  </thead>\n",
       "  <tbody>\n",
       "    <tr>\n",
       "      <th>27</th>\n",
       "      <td>53</td>\n",
       "      <td>171</td>\n",
       "      <td>30.99</td>\n",
       "    </tr>\n",
       "    <tr>\n",
       "      <th>21</th>\n",
       "      <td>4</td>\n",
       "      <td>15</td>\n",
       "      <td>26.67</td>\n",
       "    </tr>\n",
       "    <tr>\n",
       "      <th>26</th>\n",
       "      <td>39</td>\n",
       "      <td>155</td>\n",
       "      <td>25.16</td>\n",
       "    </tr>\n",
       "    <tr>\n",
       "      <th>25</th>\n",
       "      <td>31</td>\n",
       "      <td>140</td>\n",
       "      <td>22.14</td>\n",
       "    </tr>\n",
       "    <tr>\n",
       "      <th>22</th>\n",
       "      <td>4</td>\n",
       "      <td>26</td>\n",
       "      <td>15.38</td>\n",
       "    </tr>\n",
       "    <tr>\n",
       "      <th>24</th>\n",
       "      <td>13</td>\n",
       "      <td>89</td>\n",
       "      <td>14.61</td>\n",
       "    </tr>\n",
       "    <tr>\n",
       "      <th>20</th>\n",
       "      <td>3</td>\n",
       "      <td>23</td>\n",
       "      <td>13.04</td>\n",
       "    </tr>\n",
       "    <tr>\n",
       "      <th>23</th>\n",
       "      <td>5</td>\n",
       "      <td>53</td>\n",
       "      <td>9.43</td>\n",
       "    </tr>\n",
       "    <tr>\n",
       "      <th>18</th>\n",
       "      <td>1</td>\n",
       "      <td>13</td>\n",
       "      <td>7.69</td>\n",
       "    </tr>\n",
       "    <tr>\n",
       "      <th>19</th>\n",
       "      <td>1</td>\n",
       "      <td>16</td>\n",
       "      <td>6.25</td>\n",
       "    </tr>\n",
       "  </tbody>\n",
       "</table>\n",
       "</div>"
      ],
      "text/plain": [
       "     ушло  всего  доля ушедших, %\n",
       "age                              \n",
       "27     53    171            30.99\n",
       "21      4     15            26.67\n",
       "26     39    155            25.16\n",
       "25     31    140            22.14\n",
       "22      4     26            15.38\n",
       "24     13     89            14.61\n",
       "20      3     23            13.04\n",
       "23      5     53             9.43\n",
       "18      1     13             7.69\n",
       "19      1     16             6.25"
      ]
     },
     "execution_count": 31,
     "metadata": {},
     "output_type": "execute_result"
    }
   ],
   "source": [
    "#изучим отток пользователей по возрасту\n",
    "age_churn = bank.pivot_table(index='age', values='churn', aggfunc=['sum', 'count'])\n",
    "age_churn['out'] = age_churn['sum'] / age_churn['count']*100\n",
    "age_churn.columns = ['ушло', 'всего', 'доля ушедших, %']\n",
    "age_churn.head(10).sort_values(by='доля ушедших, %', ascending=False)"
   ]
  },
  {
   "cell_type": "markdown",
   "metadata": {},
   "source": [
    "*Самые большая доля оттока наблюдается у пользователей от 20 до 27 лет. Пик приходится на возраст 27 лет, более 30% от общего числа ушло из банка.*"
   ]
  },
  {
   "cell_type": "code",
   "execution_count": 32,
   "metadata": {},
   "outputs": [
    {
     "data": {
      "image/png": "[encoded data removed]",
      "text/plain": [
       "<Figure size 1080x720 with 1 Axes>"
      ]
     },
     "metadata": {
      "needs_background": "light"
     },
     "output_type": "display_data"
    }
   ],
   "source": [
    "#построим распределение признака оттока по возрасту\n",
    "plt.figure(figsize=(15, 10))\n",
    "sns.histplot(data=bank, x='age', hue='churn', stat='density', common_norm=False)\n",
    "plt.xlabel('Возраст')\n",
    "plt.ylabel('Плотность')\n",
    "plt.title('Гистограмма распределения плотности по возрасту');"
   ]
  },
  {
   "cell_type": "markdown",
   "metadata": {},
   "source": [
    "*К оттоку склонны клиенты от 25 до 35 лет. Это самый \"активный\" возраст человека, когда есть время и возможность воспользоваться новыми продуктами на рынке, которые предлагают более выгодные условия и партнерские программы. Также наблюдается отток клиентов от 50 до 60 лет. Здесь можно сделать предположение, что это популярный возраст выхода на пенсию, и в случае, если наш банк является зарплатным партнером организаций, то отток неминуем.*"
   ]
  },
  {
   "cell_type": "code",
   "execution_count": 33,
   "metadata": {},
   "outputs": [
    {
     "data": {
      "text/html": [
       "<div>\n",
       "<style scoped>\n",
       "    .dataframe tbody tr th:only-of-type {\n",
       "        vertical-align: middle;\n",
       "    }\n",
       "\n",
       "    .dataframe tbody tr th {\n",
       "        vertical-align: top;\n",
       "    }\n",
       "\n",
       "    .dataframe thead th {\n",
       "        text-align: right;\n",
       "    }\n",
       "</style>\n",
       "<table border=\"1\" class=\"dataframe\">\n",
       "  <thead>\n",
       "    <tr style=\"text-align: right;\">\n",
       "      <th></th>\n",
       "      <th>ушло</th>\n",
       "      <th>всего</th>\n",
       "      <th>доля ушедших, %</th>\n",
       "    </tr>\n",
       "    <tr>\n",
       "      <th>equity</th>\n",
       "      <th></th>\n",
       "      <th></th>\n",
       "      <th></th>\n",
       "    </tr>\n",
       "  </thead>\n",
       "  <tbody>\n",
       "    <tr>\n",
       "      <th>9</th>\n",
       "      <td>7</td>\n",
       "      <td>13</td>\n",
       "      <td>53.85</td>\n",
       "    </tr>\n",
       "    <tr>\n",
       "      <th>7</th>\n",
       "      <td>37</td>\n",
       "      <td>79</td>\n",
       "      <td>46.84</td>\n",
       "    </tr>\n",
       "    <tr>\n",
       "      <th>6</th>\n",
       "      <td>58</td>\n",
       "      <td>161</td>\n",
       "      <td>36.02</td>\n",
       "    </tr>\n",
       "    <tr>\n",
       "      <th>8</th>\n",
       "      <td>6</td>\n",
       "      <td>17</td>\n",
       "      <td>35.29</td>\n",
       "    </tr>\n",
       "    <tr>\n",
       "      <th>5</th>\n",
       "      <td>576</td>\n",
       "      <td>1909</td>\n",
       "      <td>30.17</td>\n",
       "    </tr>\n",
       "    <tr>\n",
       "      <th>4</th>\n",
       "      <td>464</td>\n",
       "      <td>1841</td>\n",
       "      <td>25.20</td>\n",
       "    </tr>\n",
       "    <tr>\n",
       "      <th>3</th>\n",
       "      <td>321</td>\n",
       "      <td>1531</td>\n",
       "      <td>20.97</td>\n",
       "    </tr>\n",
       "    <tr>\n",
       "      <th>2</th>\n",
       "      <td>166</td>\n",
       "      <td>1046</td>\n",
       "      <td>15.87</td>\n",
       "    </tr>\n",
       "    <tr>\n",
       "      <th>1</th>\n",
       "      <td>93</td>\n",
       "      <td>771</td>\n",
       "      <td>12.06</td>\n",
       "    </tr>\n",
       "    <tr>\n",
       "      <th>0</th>\n",
       "      <td>90</td>\n",
       "      <td>2554</td>\n",
       "      <td>3.52</td>\n",
       "    </tr>\n",
       "  </tbody>\n",
       "</table>\n",
       "</div>"
      ],
      "text/plain": [
       "        ушло  всего  доля ушедших, %\n",
       "equity                              \n",
       "9          7     13            53.85\n",
       "7         37     79            46.84\n",
       "6         58    161            36.02\n",
       "8          6     17            35.29\n",
       "5        576   1909            30.17\n",
       "4        464   1841            25.20\n",
       "3        321   1531            20.97\n",
       "2        166   1046            15.87\n",
       "1         93    771            12.06\n",
       "0         90   2554             3.52"
      ]
     },
     "execution_count": 33,
     "metadata": {},
     "output_type": "execute_result"
    }
   ],
   "source": [
    "#изучим отток пользователей по баллам собственности\n",
    "equity_churn = bank.pivot_table(index='equity', values='churn', aggfunc=['sum', 'count'])\n",
    "equity_churn['out'] = equity_churn['sum'] / equity_churn['count']*100\n",
    "equity_churn.columns = ['ушло', 'всего', 'доля ушедших, %']\n",
    "equity_churn.head(10).sort_values(by='доля ушедших, %', ascending=False)"
   ]
  },
  {
   "cell_type": "markdown",
   "metadata": {},
   "source": [
    "*Самые большие значения оттока у клиентов с количеством баллов собственности от 6 до 9, однако основную массу клиентов составляют пользователи с количеством баллов собственности от 0 ло 5. Значения оттока данных пользователей варьируются от 3 до 30%. Стоит отметить, что начиная с пользователей, у которых 3 балла собственности, имеют процент оттока больше 20%.*"
   ]
  },
  {
   "cell_type": "code",
   "execution_count": 34,
   "metadata": {},
   "outputs": [
    {
     "data": {
      "image/png": "[encoded data removed]",
      "text/plain": [
       "<Figure size 1080x720 with 1 Axes>"
      ]
     },
     "metadata": {
      "needs_background": "light"
     },
     "output_type": "display_data"
    }
   ],
   "source": [
    "#построим распределение признака оттока по количеству баллов собственности\n",
    "plt.figure(figsize=(15, 10))\n",
    "sns.histplot(data=bank, x='equity', hue='churn', stat='density', common_norm=False, discrete=True)\n",
    "plt.xlabel('Баллы собственности')\n",
    "plt.ylabel('Плотность')\n",
    "plt.title('Гистограмма распределения плотности по баллам собственности');"
   ]
  },
  {
   "cell_type": "markdown",
   "metadata": {},
   "source": [
    "*Гистограмма распределения плотности подтверждает предыдущие рассчеты. Клиенты с баллами собственности от 3 до 9 склонны к оттоку. Наиболее ярко это проявляется у клиентов с 5 баллами.*"
   ]
  },
  {
   "cell_type": "markdown",
   "metadata": {},
   "source": [
    "*Для определения границ диапазона данных построим боксплот*"
   ]
  },
  {
   "cell_type": "code",
   "execution_count": 35,
   "metadata": {},
   "outputs": [
    {
     "data": {
      "image/png": "[encoded data removed]",
      "text/plain": [
       "<Figure size 576x360 with 1 Axes>"
      ]
     },
     "metadata": {
      "needs_background": "light"
     },
     "output_type": "display_data"
    }
   ],
   "source": [
    "#построим распределение признака оттока по балансу на счете\n",
    "bank.boxplot(column=['balance'], figsize=(8,5), grid=True)\n",
    "plt.title('Диаграмма размаха баланса на счете');\n",
    "plt.ylabel('Баланс')\n",
    "plt.show()"
   ]
  },
  {
   "cell_type": "markdown",
   "metadata": {},
   "source": [
    "*Как видим из полученной визуализации, большинство значений располагается в пределах 20млн., далее идут выбросы*"
   ]
  },
  {
   "cell_type": "code",
   "execution_count": 36,
   "metadata": {
    "scrolled": false
   },
   "outputs": [
    {
     "data": {
      "image/png": "[encoded data removed]",
      "text/plain": [
       "<Figure size 1080x720 with 1 Axes>"
      ]
     },
     "metadata": {
      "needs_background": "light"
     },
     "output_type": "display_data"
    }
   ],
   "source": [
    "#построим распределение признака оттока по балансу на счете\n",
    "plt.figure(figsize=(15, 10))\n",
    "sns.histplot(data=bank[bank['balance'] < 20000000], x='balance', hue='churn', stat='density', common_norm=False)\n",
    "plt.xlabel('Баланс, млн.')\n",
    "plt.ylabel('Плотность')\n",
    "plt.title('Гистограмма распределения плотности по балансу на счете');"
   ]
  },
  {
   "cell_type": "code",
   "execution_count": 37,
   "metadata": {},
   "outputs": [
    {
     "data": {
      "image/png": "[encoded data removed]",
      "text/plain": [
       "<Figure size 1080x720 with 1 Axes>"
      ]
     },
     "metadata": {
      "needs_background": "light"
     },
     "output_type": "display_data"
    }
   ],
   "source": [
    "#сделаем срез до 5млн на балансе\n",
    "plt.figure(figsize=(15, 10))\n",
    "sns.histplot(data=bank[bank['balance'] < 5000000], x='balance', hue='churn', stat='density', common_norm=False)\n",
    "plt.xlabel('Баланс, млн.')\n",
    "plt.ylabel('Плотность')\n",
    "plt.title('Гистограмма распределения плотности по балансу на счете');"
   ]
  },
  {
   "cell_type": "markdown",
   "metadata": {},
   "source": [
    "*Клиенты, у которых на счете от 750т.р. и вплоть до 5 млн. более склонны к оттоку, чем клиенты с меньшим балансом на счете*"
   ]
  },
  {
   "cell_type": "code",
   "execution_count": 38,
   "metadata": {},
   "outputs": [
    {
     "data": {
      "text/html": [
       "<div>\n",
       "<style scoped>\n",
       "    .dataframe tbody tr th:only-of-type {\n",
       "        vertical-align: middle;\n",
       "    }\n",
       "\n",
       "    .dataframe tbody tr th {\n",
       "        vertical-align: top;\n",
       "    }\n",
       "\n",
       "    .dataframe thead th {\n",
       "        text-align: right;\n",
       "    }\n",
       "</style>\n",
       "<table border=\"1\" class=\"dataframe\">\n",
       "  <thead>\n",
       "    <tr style=\"text-align: right;\">\n",
       "      <th></th>\n",
       "      <th>ушло</th>\n",
       "      <th>всего</th>\n",
       "      <th>доля ушедших, %</th>\n",
       "    </tr>\n",
       "    <tr>\n",
       "      <th>products</th>\n",
       "      <th></th>\n",
       "      <th></th>\n",
       "      <th></th>\n",
       "    </tr>\n",
       "  </thead>\n",
       "  <tbody>\n",
       "    <tr>\n",
       "      <th>4</th>\n",
       "      <td>300</td>\n",
       "      <td>474</td>\n",
       "      <td>63.29</td>\n",
       "    </tr>\n",
       "    <tr>\n",
       "      <th>5</th>\n",
       "      <td>8</td>\n",
       "      <td>19</td>\n",
       "      <td>42.11</td>\n",
       "    </tr>\n",
       "    <tr>\n",
       "      <th>3</th>\n",
       "      <td>297</td>\n",
       "      <td>1028</td>\n",
       "      <td>28.89</td>\n",
       "    </tr>\n",
       "    <tr>\n",
       "      <th>2</th>\n",
       "      <td>978</td>\n",
       "      <td>5095</td>\n",
       "      <td>19.20</td>\n",
       "    </tr>\n",
       "    <tr>\n",
       "      <th>1</th>\n",
       "      <td>235</td>\n",
       "      <td>3306</td>\n",
       "      <td>7.11</td>\n",
       "    </tr>\n",
       "  </tbody>\n",
       "</table>\n",
       "</div>"
      ],
      "text/plain": [
       "          ушло  всего  доля ушедших, %\n",
       "products                              \n",
       "4          300    474            63.29\n",
       "5            8     19            42.11\n",
       "3          297   1028            28.89\n",
       "2          978   5095            19.20\n",
       "1          235   3306             7.11"
      ]
     },
     "execution_count": 38,
     "metadata": {},
     "output_type": "execute_result"
    }
   ],
   "source": [
    "#изучим отток пользователей по количеству продуктов банка\n",
    "products_churn = bank.pivot_table(index='products', values='churn', aggfunc=['sum', 'count'])\n",
    "products_churn['out'] = products_churn['sum'] / products_churn['count']*100\n",
    "products_churn.columns = ['ушло', 'всего', 'доля ушедших, %']\n",
    "products_churn.head(10).sort_values(by='доля ушедших, %', ascending=False)"
   ]
  },
  {
   "cell_type": "code",
   "execution_count": 39,
   "metadata": {},
   "outputs": [
    {
     "data": {
      "image/png": "[encoded data removed]",
      "text/plain": [
       "<Figure size 1080x720 with 1 Axes>"
      ]
     },
     "metadata": {
      "needs_background": "light"
     },
     "output_type": "display_data"
    }
   ],
   "source": [
    "#построим распределение признака оттока по количеству продуктов банка\n",
    "plt.figure(figsize=(15, 10))\n",
    "sns.histplot(data=bank, x='products', hue='churn', stat='density', common_norm=False, discrete=True)\n",
    "plt.xlabel('Количество продуктов банка')\n",
    "plt.ylabel('Плотность')\n",
    "plt.title('Гистограмма распределения плотности по количеству продуктов банка');"
   ]
  },
  {
   "cell_type": "markdown",
   "metadata": {},
   "source": [
    "*Клиенты, у которых от 2 до 4 продуктов банка склонны к оттоку. Можно объяснить это поиском лучших продуктов на стороне у других банков. Пользователи с 1 продуктом не склонны к оттоку, они являются обычными пользователями банковскиой карты.*"
   ]
  },
  {
   "cell_type": "code",
   "execution_count": 40,
   "metadata": {},
   "outputs": [
    {
     "data": {
      "text/html": [
       "<div>\n",
       "<style scoped>\n",
       "    .dataframe tbody tr th:only-of-type {\n",
       "        vertical-align: middle;\n",
       "    }\n",
       "\n",
       "    .dataframe tbody tr th {\n",
       "        vertical-align: top;\n",
       "    }\n",
       "\n",
       "    .dataframe thead th {\n",
       "        text-align: right;\n",
       "    }\n",
       "</style>\n",
       "<table border=\"1\" class=\"dataframe\">\n",
       "  <thead>\n",
       "    <tr style=\"text-align: right;\">\n",
       "      <th></th>\n",
       "      <th>ушло</th>\n",
       "      <th>всего</th>\n",
       "      <th>доля ушедших, %</th>\n",
       "    </tr>\n",
       "    <tr>\n",
       "      <th>credit_card</th>\n",
       "      <th></th>\n",
       "      <th></th>\n",
       "      <th></th>\n",
       "    </tr>\n",
       "  </thead>\n",
       "  <tbody>\n",
       "    <tr>\n",
       "      <th>0</th>\n",
       "      <td>815</td>\n",
       "      <td>3174</td>\n",
       "      <td>25.68</td>\n",
       "    </tr>\n",
       "    <tr>\n",
       "      <th>1</th>\n",
       "      <td>1003</td>\n",
       "      <td>6748</td>\n",
       "      <td>14.86</td>\n",
       "    </tr>\n",
       "  </tbody>\n",
       "</table>\n",
       "</div>"
      ],
      "text/plain": [
       "             ушло  всего  доля ушедших, %\n",
       "credit_card                              \n",
       "0             815   3174            25.68\n",
       "1            1003   6748            14.86"
      ]
     },
     "execution_count": 40,
     "metadata": {},
     "output_type": "execute_result"
    }
   ],
   "source": [
    "#изучим отток пользователей по наличию кредитной карты\n",
    "credit_card_churn = bank.pivot_table(index='credit_card', values='churn', aggfunc=['sum', 'count'])\n",
    "credit_card_churn['out'] = credit_card_churn['sum'] / credit_card_churn['count']*100\n",
    "credit_card_churn.columns = ['ушло', 'всего', 'доля ушедших, %']\n",
    "credit_card_churn"
   ]
  },
  {
   "cell_type": "markdown",
   "metadata": {},
   "source": [
    "*Пользователей с кредитной картой почти в 2 раза больше клиентов, которые ей не обладают. Доля ушедших больше у клиентов без кредитной карты.*"
   ]
  },
  {
   "cell_type": "code",
   "execution_count": 41,
   "metadata": {},
   "outputs": [
    {
     "data": {
      "image/png": "[encoded data removed]",
      "text/plain": [
       "<Figure size 1080x720 with 1 Axes>"
      ]
     },
     "metadata": {
      "needs_background": "light"
     },
     "output_type": "display_data"
    }
   ],
   "source": [
    "#построим распределение признака оттока по наличию/отсутствии кредитной карты\n",
    "plt.figure(figsize=(15, 10))\n",
    "sns.histplot(data=bank, x='credit_card', hue='churn', stat='density', common_norm=False, discrete=True)\n",
    "plt.xlabel('Наличие кредитной карты')\n",
    "plt.xticks(np.arange(0, 2, 1))\n",
    "plt.ylabel('Плотность')\n",
    "plt.title('Гистограмма распределения плотности по наличию кредитный карты');"
   ]
  },
  {
   "cell_type": "markdown",
   "metadata": {},
   "source": [
    "*Гистограмма распределения плотности подтверждает предыдущие рассчеты, пользователи с кредитной картой менее склонны к оттоку.*"
   ]
  },
  {
   "cell_type": "code",
   "execution_count": 42,
   "metadata": {},
   "outputs": [
    {
     "data": {
      "text/html": [
       "<div>\n",
       "<style scoped>\n",
       "    .dataframe tbody tr th:only-of-type {\n",
       "        vertical-align: middle;\n",
       "    }\n",
       "\n",
       "    .dataframe tbody tr th {\n",
       "        vertical-align: top;\n",
       "    }\n",
       "\n",
       "    .dataframe thead th {\n",
       "        text-align: right;\n",
       "    }\n",
       "</style>\n",
       "<table border=\"1\" class=\"dataframe\">\n",
       "  <thead>\n",
       "    <tr style=\"text-align: right;\">\n",
       "      <th></th>\n",
       "      <th>ушло</th>\n",
       "      <th>всего</th>\n",
       "      <th>доля ушедших, %</th>\n",
       "    </tr>\n",
       "    <tr>\n",
       "      <th>last_activity</th>\n",
       "      <th></th>\n",
       "      <th></th>\n",
       "      <th></th>\n",
       "    </tr>\n",
       "  </thead>\n",
       "  <tbody>\n",
       "    <tr>\n",
       "      <th>0</th>\n",
       "      <td>541</td>\n",
       "      <td>4729</td>\n",
       "      <td>11.44</td>\n",
       "    </tr>\n",
       "    <tr>\n",
       "      <th>1</th>\n",
       "      <td>1277</td>\n",
       "      <td>5193</td>\n",
       "      <td>24.59</td>\n",
       "    </tr>\n",
       "  </tbody>\n",
       "</table>\n",
       "</div>"
      ],
      "text/plain": [
       "               ушло  всего  доля ушедших, %\n",
       "last_activity                              \n",
       "0               541   4729            11.44\n",
       "1              1277   5193            24.59"
      ]
     },
     "execution_count": 42,
     "metadata": {},
     "output_type": "execute_result"
    }
   ],
   "source": [
    "#изучим отток пользователей по активности\n",
    "last_activity_churn = bank.pivot_table(index='last_activity', values='churn', aggfunc=['sum', 'count'])\n",
    "last_activity_churn['out'] = last_activity_churn['sum'] / last_activity_churn['count']*100\n",
    "last_activity_churn.columns = ['ушло', 'всего', 'доля ушедших, %']\n",
    "last_activity_churn"
   ]
  },
  {
   "cell_type": "markdown",
   "metadata": {},
   "source": [
    "*При приблизительно одинаковом количестве пользователей в группах, отток активных клиентов в 2 раза превышает значение оттока неактивных пользователей.*"
   ]
  },
  {
   "cell_type": "code",
   "execution_count": 43,
   "metadata": {
    "scrolled": false
   },
   "outputs": [
    {
     "data": {
      "image/png": "[encoded data removed]",
      "text/plain": [
       "<Figure size 1080x720 with 1 Axes>"
      ]
     },
     "metadata": {
      "needs_background": "light"
     },
     "output_type": "display_data"
    }
   ],
   "source": [
    "#построим распределение признака оттока по активности клиента\n",
    "plt.figure(figsize=(15, 10))\n",
    "sns.histplot(data=bank, x='last_activity', hue='churn', stat='density', common_norm=False, discrete=True)\n",
    "plt.xlabel('Активный клиент')\n",
    "plt.xticks(np.arange(0, 2, 1))\n",
    "plt.ylabel('Плотность')\n",
    "plt.title('Гистограмма распределения плотности по активности клиента');"
   ]
  },
  {
   "cell_type": "markdown",
   "metadata": {},
   "source": [
    "*Большая вероятность оттока у клиентов, которые пользуются продуктом банка более 3 месяцев.*"
   ]
  },
  {
   "cell_type": "code",
   "execution_count": 44,
   "metadata": {},
   "outputs": [
    {
     "data": {
      "image/png": "[encoded data removed]",
      "text/plain": [
       "<Figure size 1080x720 with 1 Axes>"
      ]
     },
     "metadata": {
      "needs_background": "light"
     },
     "output_type": "display_data"
    }
   ],
   "source": [
    "#построим распределение признака оттока по оценочному доходу клиента\n",
    "plt.figure(figsize=(15, 10))\n",
    "sns.histplot(data=bank, x='est_salary', hue='churn', stat='density', common_norm=False)\n",
    "plt.xlabel('Оценочный доход клиента')\n",
    "plt.ylabel('Плотность')\n",
    "plt.title('Гистограмма распределения плотности по оценочному доходу клиента');"
   ]
  },
  {
   "cell_type": "code",
   "execution_count": 45,
   "metadata": {
    "scrolled": false
   },
   "outputs": [
    {
     "data": {
      "image/png": "[encoded data removed]",
      "text/plain": [
       "<Figure size 1080x720 with 1 Axes>"
      ]
     },
     "metadata": {
      "needs_background": "light"
     },
     "output_type": "display_data"
    }
   ],
   "source": [
    "#сделаем срез до 500т.р на балансе\n",
    "plt.figure(figsize=(15, 10))\n",
    "sns.histplot(data=bank[bank['est_salary'] < 500000], x='est_salary', hue='churn', stat='density', common_norm=False)\n",
    "plt.xlabel('Оценочный доход клиента')\n",
    "plt.ylabel('Плотность')\n",
    "plt.title('Гистограмма распределения плотности по оценочному доходу клиента');"
   ]
  },
  {
   "cell_type": "markdown",
   "metadata": {},
   "source": [
    "*Начиная с уровня дохода пользователя примерно в 110-120т.р., клиент склонен к оттоку, вплоть до отметки 200-220т.р. Это вполне логично, так как большие средства располагают к большей вариативности их инвестирования, в том числе и продукты других банков.*"
   ]
  },
  {
   "cell_type": "code",
   "execution_count": 46,
   "metadata": {},
   "outputs": [
    {
     "data": {
      "image/png": "[encoded data removed]",
      "text/plain": [
       "<Figure size 1080x720 with 2 Axes>"
      ]
     },
     "metadata": {
      "needs_background": "light"
     },
     "output_type": "display_data"
    }
   ],
   "source": [
    "#построим матрицу корреляции и тепловую карту для churn и количественных признаков\n",
    "plt.figure(figsize=(15,10))\n",
    "bank_corr = bank[['score', 'age', 'balance',\n",
    "       'products', 'est_salary', 'churn']].corr()\n",
    "sns.heatmap (bank_corr.corr(), annot=True, cmap= 'Reds', linewidths=1);"
   ]
  },
  {
   "cell_type": "markdown",
   "metadata": {},
   "source": [
    "*Во всех случаях мы наблюдаем умеренное значение корреляции между признаком оттока и остальными количественными признаками. Самое большое значение с churn у параметра age, самый низкий у параметра score.*\n",
    "\n",
    "*Среди количественных, лучше всего между собой коррелируют признаки est_salary и products. Это объяснимо, так как чем больше зарплата клиента, тем больше у него возможностей и ресурсов для открытия других продуктов.*"
   ]
  },
  {
   "cell_type": "markdown",
   "metadata": {},
   "source": [
    "Для оценки корреляции между категориальными признаками, рассчитаем коэффициент корреляции Phik и построим тепловую карту"
   ]
  },
  {
   "cell_type": "code",
   "execution_count": 47,
   "metadata": {},
   "outputs": [
    {
     "name": "stdout",
     "output_type": "stream",
     "text": [
      "interval columns not set, guessing: ['score', 'age', 'equity', 'balance', 'products', 'credit_card', 'last_activity', 'est_salary', 'churn']\n"
     ]
    },
    {
     "data": {
      "image/png": "[encoded data removed]",
      "text/plain": [
       "<Figure size 1080x720 with 2 Axes>"
      ]
     },
     "metadata": {
      "needs_background": "light"
     },
     "output_type": "display_data"
    }
   ],
   "source": [
    "bank_corr_2=bank.drop(columns=['user_id'])\n",
    "plt.figure(figsize=(15,10))\n",
    "sns.heatmap (bank_corr_2.phik_matrix(), annot=True, cmap= 'Reds', linewidths=1);"
   ]
  },
  {
   "cell_type": "markdown",
   "metadata": {},
   "source": [
    "*Категориальные признаки показывают слабую корреляцию с признаком оттока. Значения в пределе 0,5.*"
   ]
  },
  {
   "cell_type": "markdown",
   "metadata": {},
   "source": [
    "**По имеющимся признакам, составляя портрет типичных клиентов которые склонны и не склонны уходить из банка, можно сделать следующие выводы:**\n",
    "\n",
    "Медианнные значения отточных клиентов практически по всем пунктам превышают медианные значения оставшихся клиентов. У них выше балл кредитного скоринга, в среднем на 1 выше балл собственности, а также большее количество продуктов банка в пользовании, соответственно активность его выше. \n",
    "\n",
    "Клиенты, которые предпочли остаться в банке, обладают гораздо меньшей суммой на банковском счете, они реже пользуются банковскими продуктами и чаще являются обладателями кредитной карты, чем ушедшие клиенты. \n",
    "\n",
    "По признакам:\n",
    "- по городам процент оттока примерно одинаковый, однако в Ярославле гораздо большая тенденция к этому явлению, так как количество клиентов гораздо больше, чем в Ростове и Рыбинске;\n",
    "- при одинаковом количестве пользователей среди мужчин и женчин, мужчины гораздо более склонны к уходу из банка, чем женщины;\n",
    "- явные интервалы оттока по годам - от 25 до 35 и от 50 до 60 лет;\n",
    "- клиенты, у которых 3 баллы собственности и больше с большой долей вероятности покинут банк;\n",
    "- чем больше сумма на счете, тем вероятнее отток пользователей;\n",
    "- начиная с уровня дохода 110-120т.р. велика вероятность оттока клиентов."
   ]
  },
  {
   "cell_type": "markdown",
   "metadata": {},
   "source": [
    "### Провека статистических гипотез"
   ]
  },
  {
   "cell_type": "markdown",
   "metadata": {},
   "source": [
    "**Гипотеза №1**\n",
    "\n",
    "*Проверим гипотезу о различии дохода между теми клиентами, которые ушли и теми, которые остались:*\n",
    "\n",
    "H0 - между ушедшими и оставшимися клиентами различий в доходе нет\n",
    "\n",
    "H1 - различия между оставшимися и ушедшими клиентами есть"
   ]
  },
  {
   "cell_type": "code",
   "execution_count": 48,
   "metadata": {},
   "outputs": [],
   "source": [
    "#создадим 2 отдельных датафрейма для ушедших и оставшихся клиентов\n",
    "churn_0 = bank.query('churn == 0')\n",
    "churn_1 = bank.query('churn == 1')"
   ]
  },
  {
   "cell_type": "code",
   "execution_count": 49,
   "metadata": {},
   "outputs": [
    {
     "name": "stdout",
     "output_type": "stream",
     "text": [
      "p-значение: 0.8766325121997608\n",
      "Не удалось отвергнуть нулевую гипотезу\n"
     ]
    }
   ],
   "source": [
    "#проверим гипотезу, используя t-критерий Стьюдента.\n",
    "alpha = 0.01\n",
    "\n",
    "results = st.ttest_ind(churn_0['est_salary'], churn_1['est_salary'])\n",
    "    \n",
    "print('p-значение:', results.pvalue)\n",
    "\n",
    "if (results.pvalue < alpha):\n",
    "    print('Отвергаем нулевую гипотезу')\n",
    "else:\n",
    "    print('Не удалось отвергнуть нулевую гипотезу')"
   ]
  },
  {
   "cell_type": "markdown",
   "metadata": {},
   "source": [
    "Можно сделать вывод, что различия между доходами оставшихся и ушедших клиентов не имеют статистической значимости."
   ]
  },
  {
   "cell_type": "markdown",
   "metadata": {},
   "source": [
    "**Гипотеза №2**\n",
    "\n",
    "*Проверим гипотезу о различии в возрасте между теми клиентами, которые ушли и теми, которые остались:*\n",
    "\n",
    "H0 - между ушедшими и оставшимися клиентами различий в возрасте нет\n",
    "\n",
    "H1 - различия между оставшимися и ушедшими клиентами есть"
   ]
  },
  {
   "cell_type": "code",
   "execution_count": 50,
   "metadata": {},
   "outputs": [
    {
     "name": "stdout",
     "output_type": "stream",
     "text": [
      "p-значение: 5.010125161289605e-07\n",
      "Отвергаем нулевую гипотезу\n"
     ]
    }
   ],
   "source": [
    "#проверим гипотезу, используя t-критерий Стьюдента.\n",
    "alpha = 0.01\n",
    "\n",
    "results = st.ttest_ind(churn_0['age'], churn_1['age'])\n",
    "    \n",
    "print('p-значение:', results.pvalue)\n",
    "\n",
    "if (results.pvalue < alpha):\n",
    "    print('Отвергаем нулевую гипотезу')\n",
    "else:\n",
    "    print('Не удалось отвергнуть нулевую гипотезу')"
   ]
  },
  {
   "cell_type": "markdown",
   "metadata": {},
   "source": [
    "p-value меньше уровня статистической значимости, средний возраст ушедших и оставшихся клиентов различается."
   ]
  },
  {
   "cell_type": "markdown",
   "metadata": {},
   "source": [
    "**Гипотеза №3**\n",
    "\n",
    "*Проверим гипотезу о равенстве используемых продуктов банка между теми клиентами, которые ушли и теми, которые остались:*\n",
    "\n",
    "H0 - между ушедшими и оставшимися клиентами различий в используемых продуктов банка нет\n",
    "\n",
    "H1 - различия между оставшимися и ушедшими клиентами есть"
   ]
  },
  {
   "cell_type": "code",
   "execution_count": 51,
   "metadata": {},
   "outputs": [
    {
     "name": "stdout",
     "output_type": "stream",
     "text": [
      "p-значение: 2.2291222212365114e-208\n",
      "Отвергаем нулевую гипотезу\n"
     ]
    }
   ],
   "source": [
    "#проверим гипотезу, используя t-критерий Стьюдента.\n",
    "alpha = 0.01\n",
    "\n",
    "results = st.ttest_ind(churn_0['products'], churn_1['products'])\n",
    "    \n",
    "print('p-значение:', results.pvalue)\n",
    "\n",
    "if (results.pvalue < alpha):\n",
    "    print('Отвергаем нулевую гипотезу')\n",
    "else:\n",
    "    print('Не удалось отвергнуть нулевую гипотезу')"
   ]
  },
  {
   "cell_type": "markdown",
   "metadata": {},
   "source": [
    "p-value меньше уровня статистической значимости, количество используемых продуктов ушедших и оставшихся клиентов различается."
   ]
  },
  {
   "cell_type": "markdown",
   "metadata": {},
   "source": [
    "**Результаты статистических гипотез подтвердили ранее полученные медианные данные о том, что доходы ушедших и оставшихся клиентов примерно равны, а их возраст и количество используемых продуктов отличается**"
   ]
  },
  {
   "cell_type": "markdown",
   "metadata": {},
   "source": [
    "## Формирование сегментов пользователей"
   ]
  },
  {
   "cell_type": "markdown",
   "metadata": {},
   "source": [
    "**На основании интервалов значений по гистограммам плотности распределения и значений корреляции, сформируем сегменты от 500 до 1818 пользователей с процентом оттока, превышающим среднее по датафрейму в 18%**"
   ]
  },
  {
   "cell_type": "markdown",
   "metadata": {},
   "source": [
    "*Сформируем 1 сегмент:*\n",
    "- пол пользователя - мужчина\n",
    "- возраст - от 25 до 35\n",
    "- количество продуктов - 2 и больше"
   ]
  },
  {
   "cell_type": "code",
   "execution_count": 52,
   "metadata": {},
   "outputs": [
    {
     "data": {
      "text/html": [
       "<div>\n",
       "<style scoped>\n",
       "    .dataframe tbody tr th:only-of-type {\n",
       "        vertical-align: middle;\n",
       "    }\n",
       "\n",
       "    .dataframe tbody tr th {\n",
       "        vertical-align: top;\n",
       "    }\n",
       "\n",
       "    .dataframe thead th {\n",
       "        text-align: right;\n",
       "    }\n",
       "</style>\n",
       "<table border=\"1\" class=\"dataframe\">\n",
       "  <thead>\n",
       "    <tr style=\"text-align: right;\">\n",
       "      <th></th>\n",
       "      <th>churn</th>\n",
       "    </tr>\n",
       "  </thead>\n",
       "  <tbody>\n",
       "    <tr>\n",
       "      <th>mean</th>\n",
       "      <td>0.35</td>\n",
       "    </tr>\n",
       "    <tr>\n",
       "      <th>sum</th>\n",
       "      <td>386.00</td>\n",
       "    </tr>\n",
       "    <tr>\n",
       "      <th>count</th>\n",
       "      <td>1,116.00</td>\n",
       "    </tr>\n",
       "  </tbody>\n",
       "</table>\n",
       "</div>"
      ],
      "text/plain": [
       "         churn\n",
       "mean      0.35\n",
       "sum     386.00\n",
       "count 1,116.00"
      ]
     },
     "execution_count": 52,
     "metadata": {},
     "output_type": "execute_result"
    }
   ],
   "source": [
    "bank.query('gender == \"М\" & 25 <= age <= 35 & products >= 2') \\\n",
    ".agg({\"churn\":['mean', 'sum', 'count']})"
   ]
  },
  {
   "cell_type": "markdown",
   "metadata": {},
   "source": [
    "**Отток клиентов первого сегмента 35%**"
   ]
  },
  {
   "cell_type": "markdown",
   "metadata": {},
   "source": [
    "*Сформируем 2 сегмент:*\n",
    "- пол пользователя - мужчина\n",
    "- возраст - от 50 до 60\n",
    "- количество продуктов - 2 и больше"
   ]
  },
  {
   "cell_type": "code",
   "execution_count": 53,
   "metadata": {},
   "outputs": [
    {
     "data": {
      "text/html": [
       "<div>\n",
       "<style scoped>\n",
       "    .dataframe tbody tr th:only-of-type {\n",
       "        vertical-align: middle;\n",
       "    }\n",
       "\n",
       "    .dataframe tbody tr th {\n",
       "        vertical-align: top;\n",
       "    }\n",
       "\n",
       "    .dataframe thead th {\n",
       "        text-align: right;\n",
       "    }\n",
       "</style>\n",
       "<table border=\"1\" class=\"dataframe\">\n",
       "  <thead>\n",
       "    <tr style=\"text-align: right;\">\n",
       "      <th></th>\n",
       "      <th>churn</th>\n",
       "    </tr>\n",
       "  </thead>\n",
       "  <tbody>\n",
       "    <tr>\n",
       "      <th>mean</th>\n",
       "      <td>0.41</td>\n",
       "    </tr>\n",
       "    <tr>\n",
       "      <th>sum</th>\n",
       "      <td>228.00</td>\n",
       "    </tr>\n",
       "    <tr>\n",
       "      <th>count</th>\n",
       "      <td>555.00</td>\n",
       "    </tr>\n",
       "  </tbody>\n",
       "</table>\n",
       "</div>"
      ],
      "text/plain": [
       "       churn\n",
       "mean    0.41\n",
       "sum   228.00\n",
       "count 555.00"
      ]
     },
     "execution_count": 53,
     "metadata": {},
     "output_type": "execute_result"
    }
   ],
   "source": [
    "bank.query('gender == \"М\" & 50 <= age <= 60 & products >= 2') \\\n",
    ".agg({\"churn\":['mean', 'sum', 'count']})"
   ]
  },
  {
   "cell_type": "markdown",
   "metadata": {},
   "source": [
    "**Отток клиентов второго сегмента 41%**"
   ]
  },
  {
   "cell_type": "markdown",
   "metadata": {},
   "source": [
    "*Сформируем 3 сегмент:*\n",
    "- пол пользователя - мужчина\n",
    "- оценочный доход клиента - больше 110т.р.\n",
    "- количество продуктов - 2 и больше"
   ]
  },
  {
   "cell_type": "code",
   "execution_count": 54,
   "metadata": {},
   "outputs": [
    {
     "data": {
      "text/html": [
       "<div>\n",
       "<style scoped>\n",
       "    .dataframe tbody tr th:only-of-type {\n",
       "        vertical-align: middle;\n",
       "    }\n",
       "\n",
       "    .dataframe tbody tr th {\n",
       "        vertical-align: top;\n",
       "    }\n",
       "\n",
       "    .dataframe thead th {\n",
       "        text-align: right;\n",
       "    }\n",
       "</style>\n",
       "<table border=\"1\" class=\"dataframe\">\n",
       "  <thead>\n",
       "    <tr style=\"text-align: right;\">\n",
       "      <th></th>\n",
       "      <th>churn</th>\n",
       "    </tr>\n",
       "  </thead>\n",
       "  <tbody>\n",
       "    <tr>\n",
       "      <th>mean</th>\n",
       "      <td>0.37</td>\n",
       "    </tr>\n",
       "    <tr>\n",
       "      <th>sum</th>\n",
       "      <td>633.00</td>\n",
       "    </tr>\n",
       "    <tr>\n",
       "      <th>count</th>\n",
       "      <td>1,721.00</td>\n",
       "    </tr>\n",
       "  </tbody>\n",
       "</table>\n",
       "</div>"
      ],
      "text/plain": [
       "         churn\n",
       "mean      0.37\n",
       "sum     633.00\n",
       "count 1,721.00"
      ]
     },
     "execution_count": 54,
     "metadata": {},
     "output_type": "execute_result"
    }
   ],
   "source": [
    "bank.query('gender == \"М\" & est_salary > 110000 & products >= 2') \\\n",
    ".agg({\"churn\":['mean', 'sum', 'count']})"
   ]
  },
  {
   "cell_type": "markdown",
   "metadata": {},
   "source": [
    "**Отток клиентов третьего сегмента 37%**"
   ]
  },
  {
   "cell_type": "markdown",
   "metadata": {},
   "source": [
    "*Сформируем 4 сегмент:*\n",
    "- пол пользователя - мужчина\n",
    "- оценочный доход клиента - больше 110т.р.\n",
    "- кредитная карта - отсутствует"
   ]
  },
  {
   "cell_type": "code",
   "execution_count": 55,
   "metadata": {},
   "outputs": [
    {
     "data": {
      "text/html": [
       "<div>\n",
       "<style scoped>\n",
       "    .dataframe tbody tr th:only-of-type {\n",
       "        vertical-align: middle;\n",
       "    }\n",
       "\n",
       "    .dataframe tbody tr th {\n",
       "        vertical-align: top;\n",
       "    }\n",
       "\n",
       "    .dataframe thead th {\n",
       "        text-align: right;\n",
       "    }\n",
       "</style>\n",
       "<table border=\"1\" class=\"dataframe\">\n",
       "  <thead>\n",
       "    <tr style=\"text-align: right;\">\n",
       "      <th></th>\n",
       "      <th>churn</th>\n",
       "    </tr>\n",
       "  </thead>\n",
       "  <tbody>\n",
       "    <tr>\n",
       "      <th>mean</th>\n",
       "      <td>0.38</td>\n",
       "    </tr>\n",
       "    <tr>\n",
       "      <th>sum</th>\n",
       "      <td>297.00</td>\n",
       "    </tr>\n",
       "    <tr>\n",
       "      <th>count</th>\n",
       "      <td>787.00</td>\n",
       "    </tr>\n",
       "  </tbody>\n",
       "</table>\n",
       "</div>"
      ],
      "text/plain": [
       "       churn\n",
       "mean    0.38\n",
       "sum   297.00\n",
       "count 787.00"
      ]
     },
     "execution_count": 55,
     "metadata": {},
     "output_type": "execute_result"
    }
   ],
   "source": [
    "bank.query('gender == \"М\" & est_salary > 110000 & credit_card == 0') \\\n",
    ".agg({\"churn\":['mean', 'sum', 'count']})"
   ]
  },
  {
   "cell_type": "markdown",
   "metadata": {},
   "source": [
    "**Отток клиентов четвертого сегмента 38%**"
   ]
  },
  {
   "cell_type": "markdown",
   "metadata": {},
   "source": [
    "*Сформируем 5 сегмент:*\n",
    "- количество продуктов - 2 и больше\n",
    "- оценочный доход клиента - больше 110т.р.\n",
    "- баланс на счете - больше 750т.р."
   ]
  },
  {
   "cell_type": "code",
   "execution_count": 56,
   "metadata": {},
   "outputs": [
    {
     "data": {
      "text/html": [
       "<div>\n",
       "<style scoped>\n",
       "    .dataframe tbody tr th:only-of-type {\n",
       "        vertical-align: middle;\n",
       "    }\n",
       "\n",
       "    .dataframe tbody tr th {\n",
       "        vertical-align: top;\n",
       "    }\n",
       "\n",
       "    .dataframe thead th {\n",
       "        text-align: right;\n",
       "    }\n",
       "</style>\n",
       "<table border=\"1\" class=\"dataframe\">\n",
       "  <thead>\n",
       "    <tr style=\"text-align: right;\">\n",
       "      <th></th>\n",
       "      <th>churn</th>\n",
       "    </tr>\n",
       "  </thead>\n",
       "  <tbody>\n",
       "    <tr>\n",
       "      <th>mean</th>\n",
       "      <td>0.44</td>\n",
       "    </tr>\n",
       "    <tr>\n",
       "      <th>sum</th>\n",
       "      <td>670.00</td>\n",
       "    </tr>\n",
       "    <tr>\n",
       "      <th>count</th>\n",
       "      <td>1,539.00</td>\n",
       "    </tr>\n",
       "  </tbody>\n",
       "</table>\n",
       "</div>"
      ],
      "text/plain": [
       "         churn\n",
       "mean      0.44\n",
       "sum     670.00\n",
       "count 1,539.00"
      ]
     },
     "execution_count": 56,
     "metadata": {},
     "output_type": "execute_result"
    }
   ],
   "source": [
    "bank.query('products >= 2 & est_salary > 110000 & balance > 750000') \\\n",
    ".agg({\"churn\":['mean', 'sum', 'count']})"
   ]
  },
  {
   "cell_type": "markdown",
   "metadata": {},
   "source": [
    "**Отток клиентов пятого сегмента 44%**"
   ]
  },
  {
   "cell_type": "markdown",
   "metadata": {},
   "source": [
    "*Сформируем 6 сегмент:*\n",
    "- баллы кредитного скоринга - от 850 до 930\n",
    "- возраст - от 25 до 35\n",
    "- количество баллов собственности - 3 и больше"
   ]
  },
  {
   "cell_type": "code",
   "execution_count": 57,
   "metadata": {
    "scrolled": true
   },
   "outputs": [
    {
     "data": {
      "text/html": [
       "<div>\n",
       "<style scoped>\n",
       "    .dataframe tbody tr th:only-of-type {\n",
       "        vertical-align: middle;\n",
       "    }\n",
       "\n",
       "    .dataframe tbody tr th {\n",
       "        vertical-align: top;\n",
       "    }\n",
       "\n",
       "    .dataframe thead th {\n",
       "        text-align: right;\n",
       "    }\n",
       "</style>\n",
       "<table border=\"1\" class=\"dataframe\">\n",
       "  <thead>\n",
       "    <tr style=\"text-align: right;\">\n",
       "      <th></th>\n",
       "      <th>churn</th>\n",
       "    </tr>\n",
       "  </thead>\n",
       "  <tbody>\n",
       "    <tr>\n",
       "      <th>mean</th>\n",
       "      <td>0.48</td>\n",
       "    </tr>\n",
       "    <tr>\n",
       "      <th>sum</th>\n",
       "      <td>389.00</td>\n",
       "    </tr>\n",
       "    <tr>\n",
       "      <th>count</th>\n",
       "      <td>816.00</td>\n",
       "    </tr>\n",
       "  </tbody>\n",
       "</table>\n",
       "</div>"
      ],
      "text/plain": [
       "       churn\n",
       "mean    0.48\n",
       "sum   389.00\n",
       "count 816.00"
      ]
     },
     "execution_count": 57,
     "metadata": {},
     "output_type": "execute_result"
    }
   ],
   "source": [
    "bank.query('850 <= score <= 930 & 25 <= age <= 35 & equity >= 3') \\\n",
    ".agg({\"churn\":['mean', 'sum', 'count']})"
   ]
  },
  {
   "cell_type": "markdown",
   "metadata": {},
   "source": [
    "**Отток клиентов шестого сегмента 48%**"
   ]
  },
  {
   "cell_type": "markdown",
   "metadata": {},
   "source": [
    "*Сформируем 7 сегмент:*\n",
    "- баллы кредитного скоринга - от 850 до 930\n",
    "- активный клиент - да\n",
    "- количество баллов собственности - 3 и больше"
   ]
  },
  {
   "cell_type": "code",
   "execution_count": 58,
   "metadata": {},
   "outputs": [
    {
     "data": {
      "text/html": [
       "<div>\n",
       "<style scoped>\n",
       "    .dataframe tbody tr th:only-of-type {\n",
       "        vertical-align: middle;\n",
       "    }\n",
       "\n",
       "    .dataframe tbody tr th {\n",
       "        vertical-align: top;\n",
       "    }\n",
       "\n",
       "    .dataframe thead th {\n",
       "        text-align: right;\n",
       "    }\n",
       "</style>\n",
       "<table border=\"1\" class=\"dataframe\">\n",
       "  <thead>\n",
       "    <tr style=\"text-align: right;\">\n",
       "      <th></th>\n",
       "      <th>churn</th>\n",
       "    </tr>\n",
       "  </thead>\n",
       "  <tbody>\n",
       "    <tr>\n",
       "      <th>mean</th>\n",
       "      <td>0.56</td>\n",
       "    </tr>\n",
       "    <tr>\n",
       "      <th>sum</th>\n",
       "      <td>712.00</td>\n",
       "    </tr>\n",
       "    <tr>\n",
       "      <th>count</th>\n",
       "      <td>1,266.00</td>\n",
       "    </tr>\n",
       "  </tbody>\n",
       "</table>\n",
       "</div>"
      ],
      "text/plain": [
       "         churn\n",
       "mean      0.56\n",
       "sum     712.00\n",
       "count 1,266.00"
      ]
     },
     "execution_count": 58,
     "metadata": {},
     "output_type": "execute_result"
    }
   ],
   "source": [
    "bank.query('850 <= score <= 930 & last_activity == 1 & equity >= 3') \\\n",
    ".agg({\"churn\":['mean', 'sum', 'count']})"
   ]
  },
  {
   "cell_type": "markdown",
   "metadata": {},
   "source": [
    "**Отток клиентов седьмого сегмента 56%**"
   ]
  },
  {
   "cell_type": "markdown",
   "metadata": {},
   "source": [
    "## Общий вывод"
   ]
  },
  {
   "cell_type": "markdown",
   "metadata": {},
   "source": [
    "**На этапе обзора данных:**\n",
    "- загружены библиотеки\n",
    "- изучена информация о датафрейме - всего 10000 записей, 12 столбцов\n",
    "\n",
    "**На этапе предобработки данных:**\n",
    "- привели названия всех столбцов к общему виду\n",
    "- привели в соответствие типы столбцов age и score\n",
    "- обработали пропуски\n",
    "- удалили дубликаты по столбцу user_id, а также выброс в столбце products - для дальнейшего анализа осталось 9922 записи\n",
    "\n",
    "**В результате исследовательского анализа данных:**\n",
    "- определили значение оттока клиентов во всем датафрейме - 18%\n",
    "- изучили медианные значения каждого признака для оставшихся клиентов и тех, кто покинул банк\n",
    "- построили гистограммы распределения плотности для каждого из признакови определили границы оттока:\n",
    "    - score от 820 до 900 \n",
    "    - city - Ярославль\n",
    "    - gender - мужчина\n",
    "    - age - от 25 до 35 и от 50 до 60 \n",
    "    - equity - 3 и больше\n",
    "    - balance - от 750т.р. и больше\n",
    "    - products - 2 и больше\n",
    "    - credit_card - отсутствует\n",
    "    - last_activity - активный клиент\n",
    "    - est_salary - от 110-120т.р.\n",
    "- построили матрицу корреляции Пирсона для количественных признаков - самое большое значение с churn у параметра age, самый низкий у параметра score, лучше всего между собой коррелируют признаки est_salary и products\n",
    "- построили тепловую карту с помощью коэффициента корреляции Phik для категориальных признаков - категориальные признаки показывают слабую корреляцию с признаком оттока. Значения в пределе 0,5.*\n",
    "\n",
    "**На этапе проверки статистических гипотез:**\n",
    "- проверили гипотезу о различии дохода между теми клиентами, которые ушли и теми, которые остались - различия между доходами оставшихся и ушедших клиентов не имеют статистической значимости\n",
    "- проверили гипотезу о различии в возрасте между теми клиентами, которые ушли и теми, которые остались - средний возраст ушедших и оставшихся клиентов различается\n",
    "- проверили гипотезу о равенстве используемых продуктов банка между теми клиентами, которые ушли и теми, которые остались - количество используемых продуктов ушедших и оставшихся клиентов различается\n",
    "\n",
    "**Результаты сегментирования пользователей**\n",
    "- 1 сегмент, состоящий из мужчин от 25 до 35 лет, использовавшие 2 продукта банка и больше - отток 35%\n",
    "- 2 сегмент, состоящий из мужчин от 50 до 60 лет, использовавшие 2 продукта банка и больше - отток 41%\n",
    "- 3 сегмент, состоящий из мужчин с оценочным доходом от 110т.р. и больше, использовавшие 2 продукта банка и больше - отток 37%\n",
    "- 4 сегмент, состоящий из мужчин с оценочным доходом от 110т.р. и не использующие кредитные карты - отток 38%\n",
    "- 5 сегмент, состоящий из клиентов с оценочным доходом от 110т.р. и балансом на счете больше 750т.р. и использовавшие 2 продукта банка и больше - отток 44%\n",
    "- 6 сегмент, состоящий из клиентов от 25 до 35 лет с количеством баллов собственности 3 и больше и баллами кредитного рейтинга от 850 до 930 - отток 48%\n",
    "- 7 сегмент, состоящий из активных клиентов с количеством баллов собственности 3 и больше и баллами кредитного рейтинга от 850 до 930 - отток 56%\n",
    "\n",
    "**Рекомендации**\n",
    "\n",
    "Исходя из полученных данных, можно сделать вывод, что банком в основном пользуется \"средний класс\". Пользователи, чей доход выше среднего, от 110т.р. и кого есть вклад от 750т.р. стремятся уйти из банка. Необходимо продумать способы удержания \"дорогих\" клиентов - программы лояльности или бонусные программы. Можно также для этих клиентов предложить повышенный кэшбек на некоторые категории покупок, учитывая что преимущественно они пользуются дебетовыми картами, а не кредитными в виду отсутствия такой потребности из-за хорошего достатка. \n",
    "  \n",
    "Обращает на себя внимание отток молодых людей в возрасте от 25 до 35 лет. Это популярный возраст для оформления кредитов и ипотек. Можно сделать вывод, что условия, предлагаемые банком, не выгодны для них и требуются пересмотру. Желательно начать с клиентов, которые обслуживаются в банках Ярославля, так как там наблюдается большая тенденция к оттоку.\n",
    "\n",
    "Следует обратить внимание на пользователей от 50 до 60 лет. Это предпенсионный возраст и очень важно удержать данных клиентов, которые прибавляются из года в год. Обычно пользователи этого возраста менее активны в пользовании информационных услуг банка и предпочитают личное посещение банковских отделений. Стоит пересмотреть качество обслуживания и продумать банковский продукт с учетом возрастных особенностей клиентов, который поспособствует в дальнейшем хранить свои пенсионные сбережения именно в этом банке. "
   ]
  },
  {
   "cell_type": "markdown",
   "metadata": {},
   "source": [
    "## Презентация\n",
    "Светлана, приветствую!\n",
    "Презентацию прикреплю после одобрения проекта :)"
   ]
  },
  {
   "cell_type": "markdown",
   "metadata": {},
   "source": [
    "Ссылка на презентацию:\n",
    "    \n",
    "https://disk.yandex.ru/d/btagT0vwv_F4qQ"
   ]
  }
 ],
 "metadata": {
  "ExecuteTimeLog": [
   {
    "duration": 1519,
    "start_time": "2024-12-16T12:25:43.972Z"
   },
   {
    "duration": 137,
    "start_time": "2024-12-16T12:27:34.501Z"
   },
   {
    "duration": 38,
    "start_time": "2024-12-16T12:27:38.798Z"
   },
   {
    "duration": 70,
    "start_time": "2024-12-16T12:27:50.607Z"
   },
   {
    "duration": 1305,
    "start_time": "2024-12-16T12:28:31.125Z"
   },
   {
    "duration": 160,
    "start_time": "2024-12-16T12:28:32.432Z"
   },
   {
    "duration": 118,
    "start_time": "2024-12-16T12:28:43.183Z"
   },
   {
    "duration": 5,
    "start_time": "2024-12-16T12:32:09.988Z"
   },
   {
    "duration": 13,
    "start_time": "2024-12-16T12:32:15.845Z"
   },
   {
    "duration": 3,
    "start_time": "2024-12-16T12:32:30.485Z"
   },
   {
    "duration": 8,
    "start_time": "2024-12-16T12:39:49.074Z"
   },
   {
    "duration": 6,
    "start_time": "2024-12-16T12:39:54.529Z"
   },
   {
    "duration": 3,
    "start_time": "2024-12-16T12:46:38.676Z"
   },
   {
    "duration": 54,
    "start_time": "2024-12-16T12:46:39.179Z"
   },
   {
    "duration": 3,
    "start_time": "2024-12-16T12:46:39.235Z"
   },
   {
    "duration": 7,
    "start_time": "2024-12-16T12:46:39.257Z"
   },
   {
    "duration": 1230,
    "start_time": "2024-12-16T12:46:55.065Z"
   },
   {
    "duration": 69,
    "start_time": "2024-12-16T12:46:56.297Z"
   },
   {
    "duration": 6,
    "start_time": "2024-12-16T12:46:56.368Z"
   },
   {
    "duration": 23,
    "start_time": "2024-12-16T12:46:56.376Z"
   },
   {
    "duration": 4,
    "start_time": "2024-12-16T12:47:19.127Z"
   },
   {
    "duration": 62,
    "start_time": "2024-12-16T12:47:20.152Z"
   },
   {
    "duration": 4,
    "start_time": "2024-12-16T12:47:20.335Z"
   },
   {
    "duration": 3,
    "start_time": "2024-12-16T12:47:20.527Z"
   },
   {
    "duration": 1236,
    "start_time": "2024-12-16T12:49:28.006Z"
   },
   {
    "duration": 60,
    "start_time": "2024-12-16T12:49:29.244Z"
   },
   {
    "duration": 3,
    "start_time": "2024-12-16T12:49:29.306Z"
   },
   {
    "duration": 16,
    "start_time": "2024-12-16T12:49:29.310Z"
   },
   {
    "duration": 32,
    "start_time": "2024-12-16T12:49:29.327Z"
   },
   {
    "duration": 1241,
    "start_time": "2024-12-16T12:49:49.292Z"
   },
   {
    "duration": 66,
    "start_time": "2024-12-16T12:49:50.535Z"
   },
   {
    "duration": 4,
    "start_time": "2024-12-16T12:49:50.602Z"
   },
   {
    "duration": 148,
    "start_time": "2024-12-16T12:49:50.608Z"
   },
   {
    "duration": 0,
    "start_time": "2024-12-16T12:49:50.758Z"
   },
   {
    "duration": 6,
    "start_time": "2024-12-16T12:51:18.906Z"
   },
   {
    "duration": 1239,
    "start_time": "2024-12-16T12:51:23.610Z"
   },
   {
    "duration": 61,
    "start_time": "2024-12-16T12:51:24.855Z"
   },
   {
    "duration": 4,
    "start_time": "2024-12-16T12:51:24.917Z"
   },
   {
    "duration": 28,
    "start_time": "2024-12-16T12:51:24.922Z"
   },
   {
    "duration": 50,
    "start_time": "2024-12-16T12:51:24.952Z"
   },
   {
    "duration": 134,
    "start_time": "2024-12-16T13:03:56.137Z"
   },
   {
    "duration": 22,
    "start_time": "2024-12-16T13:03:57.257Z"
   },
   {
    "duration": 3,
    "start_time": "2024-12-16T13:03:57.575Z"
   },
   {
    "duration": 1235,
    "start_time": "2024-12-16T13:04:08.858Z"
   },
   {
    "duration": 69,
    "start_time": "2024-12-16T13:04:10.095Z"
   },
   {
    "duration": 5,
    "start_time": "2024-12-16T13:04:10.169Z"
   },
   {
    "duration": 150,
    "start_time": "2024-12-16T13:04:10.178Z"
   },
   {
    "duration": 0,
    "start_time": "2024-12-16T13:04:10.330Z"
   },
   {
    "duration": 0,
    "start_time": "2024-12-16T13:04:10.331Z"
   },
   {
    "duration": 1246,
    "start_time": "2024-12-16T13:04:43.284Z"
   },
   {
    "duration": 67,
    "start_time": "2024-12-16T13:04:44.532Z"
   },
   {
    "duration": 3,
    "start_time": "2024-12-16T13:04:44.600Z"
   },
   {
    "duration": 13,
    "start_time": "2024-12-16T13:04:44.605Z"
   },
   {
    "duration": 26,
    "start_time": "2024-12-16T13:04:44.620Z"
   },
   {
    "duration": 8,
    "start_time": "2024-12-16T13:04:44.648Z"
   },
   {
    "duration": 9,
    "start_time": "2024-12-16T13:08:19.405Z"
   },
   {
    "duration": 9,
    "start_time": "2024-12-16T13:09:35.439Z"
   },
   {
    "duration": 64,
    "start_time": "2024-12-16T13:09:47.703Z"
   },
   {
    "duration": 10,
    "start_time": "2024-12-16T13:09:58.104Z"
   },
   {
    "duration": 8,
    "start_time": "2024-12-16T13:10:06.215Z"
   },
   {
    "duration": 6,
    "start_time": "2024-12-16T13:10:22.912Z"
   },
   {
    "duration": 1451,
    "start_time": "2024-12-16T13:11:01.809Z"
   },
   {
    "duration": 17,
    "start_time": "2024-12-16T13:11:06.530Z"
   },
   {
    "duration": 7,
    "start_time": "2024-12-16T13:11:32.202Z"
   },
   {
    "duration": 6,
    "start_time": "2024-12-16T13:12:30.748Z"
   },
   {
    "duration": 16,
    "start_time": "2024-12-16T13:13:59.639Z"
   },
   {
    "duration": 7,
    "start_time": "2024-12-16T13:14:26.782Z"
   },
   {
    "duration": 1229,
    "start_time": "2024-12-16T13:14:34.596Z"
   },
   {
    "duration": 68,
    "start_time": "2024-12-16T13:14:35.827Z"
   },
   {
    "duration": 3,
    "start_time": "2024-12-16T13:14:35.898Z"
   },
   {
    "duration": 74,
    "start_time": "2024-12-16T13:14:35.903Z"
   },
   {
    "duration": 69,
    "start_time": "2024-12-16T13:14:35.981Z"
   },
   {
    "duration": 14,
    "start_time": "2024-12-16T13:14:36.052Z"
   },
   {
    "duration": 20,
    "start_time": "2024-12-16T13:14:36.068Z"
   },
   {
    "duration": 7,
    "start_time": "2024-12-16T13:14:44.658Z"
   },
   {
    "duration": 6,
    "start_time": "2024-12-16T13:14:46.784Z"
   },
   {
    "duration": 1575,
    "start_time": "2024-12-16T13:15:20.681Z"
   },
   {
    "duration": 8,
    "start_time": "2024-12-16T13:16:55.764Z"
   },
   {
    "duration": 96,
    "start_time": "2024-12-16T13:18:27.108Z"
   },
   {
    "duration": 17,
    "start_time": "2024-12-16T13:18:36.864Z"
   },
   {
    "duration": 21,
    "start_time": "2024-12-16T13:21:03.314Z"
   },
   {
    "duration": 115,
    "start_time": "2024-12-16T13:48:05.078Z"
   },
   {
    "duration": 11,
    "start_time": "2024-12-16T13:48:14.868Z"
   },
   {
    "duration": 5,
    "start_time": "2024-12-16T13:48:31.133Z"
   },
   {
    "duration": 10,
    "start_time": "2024-12-16T13:48:41.021Z"
   },
   {
    "duration": 5,
    "start_time": "2024-12-16T13:57:48.485Z"
   },
   {
    "duration": 19,
    "start_time": "2024-12-16T13:58:53.478Z"
   },
   {
    "duration": 5,
    "start_time": "2024-12-16T15:06:56.524Z"
   },
   {
    "duration": 5,
    "start_time": "2024-12-16T15:07:55.174Z"
   },
   {
    "duration": 18,
    "start_time": "2024-12-16T15:11:12.818Z"
   },
   {
    "duration": 5,
    "start_time": "2024-12-16T15:12:12.627Z"
   },
   {
    "duration": 18,
    "start_time": "2024-12-16T15:12:17.900Z"
   },
   {
    "duration": 4,
    "start_time": "2024-12-16T15:12:36.694Z"
   },
   {
    "duration": 4,
    "start_time": "2024-12-16T15:13:08.493Z"
   },
   {
    "duration": 5,
    "start_time": "2024-12-16T15:13:22.230Z"
   },
   {
    "duration": 4,
    "start_time": "2024-12-16T15:14:37.520Z"
   },
   {
    "duration": 18,
    "start_time": "2024-12-16T15:14:44.247Z"
   },
   {
    "duration": 1244,
    "start_time": "2024-12-16T15:14:53.909Z"
   },
   {
    "duration": 64,
    "start_time": "2024-12-16T15:14:55.156Z"
   },
   {
    "duration": 4,
    "start_time": "2024-12-16T15:14:55.221Z"
   },
   {
    "duration": 15,
    "start_time": "2024-12-16T15:14:55.226Z"
   },
   {
    "duration": 42,
    "start_time": "2024-12-16T15:14:55.244Z"
   },
   {
    "duration": 63,
    "start_time": "2024-12-16T15:14:55.287Z"
   },
   {
    "duration": 22,
    "start_time": "2024-12-16T15:14:55.352Z"
   },
   {
    "duration": 17,
    "start_time": "2024-12-16T15:14:55.376Z"
   },
   {
    "duration": 22,
    "start_time": "2024-12-16T15:14:55.394Z"
   },
   {
    "duration": 18,
    "start_time": "2024-12-16T15:14:55.417Z"
   },
   {
    "duration": 132,
    "start_time": "2024-12-16T15:20:22.772Z"
   },
   {
    "duration": 1277,
    "start_time": "2024-12-16T15:20:30.661Z"
   },
   {
    "duration": 71,
    "start_time": "2024-12-16T15:20:31.940Z"
   },
   {
    "duration": 3,
    "start_time": "2024-12-16T15:20:32.013Z"
   },
   {
    "duration": 6,
    "start_time": "2024-12-16T15:20:32.017Z"
   },
   {
    "duration": 18,
    "start_time": "2024-12-16T15:20:32.025Z"
   },
   {
    "duration": 24,
    "start_time": "2024-12-16T15:20:32.044Z"
   },
   {
    "duration": 21,
    "start_time": "2024-12-16T15:20:32.070Z"
   },
   {
    "duration": 17,
    "start_time": "2024-12-16T15:20:32.093Z"
   },
   {
    "duration": 60,
    "start_time": "2024-12-16T15:20:32.112Z"
   },
   {
    "duration": 38,
    "start_time": "2024-12-16T15:20:32.174Z"
   },
   {
    "duration": 8,
    "start_time": "2024-12-16T15:23:39.070Z"
   },
   {
    "duration": 5,
    "start_time": "2024-12-16T15:25:34.458Z"
   },
   {
    "duration": 5,
    "start_time": "2024-12-16T15:25:47.490Z"
   },
   {
    "duration": 11,
    "start_time": "2024-12-16T15:25:50.161Z"
   },
   {
    "duration": 5,
    "start_time": "2024-12-16T15:25:50.305Z"
   },
   {
    "duration": 7,
    "start_time": "2024-12-16T15:26:10.754Z"
   },
   {
    "duration": 1285,
    "start_time": "2024-12-16T15:27:08.547Z"
   },
   {
    "duration": 67,
    "start_time": "2024-12-16T15:27:09.834Z"
   },
   {
    "duration": 4,
    "start_time": "2024-12-16T15:27:09.905Z"
   },
   {
    "duration": 66,
    "start_time": "2024-12-16T15:27:09.910Z"
   },
   {
    "duration": 23,
    "start_time": "2024-12-16T15:27:09.978Z"
   },
   {
    "duration": 10,
    "start_time": "2024-12-16T15:27:10.003Z"
   },
   {
    "duration": 36,
    "start_time": "2024-12-16T15:27:10.015Z"
   },
   {
    "duration": 25,
    "start_time": "2024-12-16T15:27:10.057Z"
   },
   {
    "duration": 4,
    "start_time": "2024-12-16T15:27:10.084Z"
   },
   {
    "duration": 12,
    "start_time": "2024-12-16T15:27:10.090Z"
   },
   {
    "duration": 10,
    "start_time": "2024-12-16T15:27:10.104Z"
   },
   {
    "duration": 1279,
    "start_time": "2024-12-16T15:27:33.248Z"
   },
   {
    "duration": 69,
    "start_time": "2024-12-16T15:27:34.529Z"
   },
   {
    "duration": 3,
    "start_time": "2024-12-16T15:27:34.599Z"
   },
   {
    "duration": 10,
    "start_time": "2024-12-16T15:27:34.604Z"
   },
   {
    "duration": 21,
    "start_time": "2024-12-16T15:27:34.616Z"
   },
   {
    "duration": 24,
    "start_time": "2024-12-16T15:27:34.639Z"
   },
   {
    "duration": 25,
    "start_time": "2024-12-16T15:27:34.665Z"
   },
   {
    "duration": 27,
    "start_time": "2024-12-16T15:27:34.692Z"
   },
   {
    "duration": 4,
    "start_time": "2024-12-16T15:27:34.721Z"
   },
   {
    "duration": 44,
    "start_time": "2024-12-16T15:27:34.727Z"
   },
   {
    "duration": 30,
    "start_time": "2024-12-16T15:27:34.773Z"
   },
   {
    "duration": 7,
    "start_time": "2024-12-16T15:27:34.804Z"
   },
   {
    "duration": 117,
    "start_time": "2024-12-16T15:28:09.966Z"
   },
   {
    "duration": 10,
    "start_time": "2024-12-16T15:28:24.493Z"
   },
   {
    "duration": 9,
    "start_time": "2024-12-16T15:28:27.389Z"
   },
   {
    "duration": 42,
    "start_time": "2024-12-16T15:28:34.293Z"
   },
   {
    "duration": 1228,
    "start_time": "2024-12-16T15:31:45.149Z"
   },
   {
    "duration": 60,
    "start_time": "2024-12-16T15:31:46.379Z"
   },
   {
    "duration": 3,
    "start_time": "2024-12-16T15:31:46.440Z"
   },
   {
    "duration": 9,
    "start_time": "2024-12-16T15:31:46.444Z"
   },
   {
    "duration": 26,
    "start_time": "2024-12-16T15:31:46.455Z"
   },
   {
    "duration": 6,
    "start_time": "2024-12-16T15:31:46.483Z"
   },
   {
    "duration": 8,
    "start_time": "2024-12-16T15:31:46.491Z"
   },
   {
    "duration": 28,
    "start_time": "2024-12-16T15:31:46.501Z"
   },
   {
    "duration": 32,
    "start_time": "2024-12-16T15:31:46.530Z"
   },
   {
    "duration": 6,
    "start_time": "2024-12-16T15:31:46.564Z"
   },
   {
    "duration": 14,
    "start_time": "2024-12-16T15:31:46.572Z"
   },
   {
    "duration": 5,
    "start_time": "2024-12-16T15:31:46.588Z"
   },
   {
    "duration": 4,
    "start_time": "2024-12-16T15:31:46.594Z"
   },
   {
    "duration": 67,
    "start_time": "2024-12-16T15:31:46.601Z"
   },
   {
    "duration": 1240,
    "start_time": "2024-12-16T15:32:11.373Z"
   },
   {
    "duration": 60,
    "start_time": "2024-12-16T15:32:12.615Z"
   },
   {
    "duration": 4,
    "start_time": "2024-12-16T15:32:12.676Z"
   },
   {
    "duration": 6,
    "start_time": "2024-12-16T15:32:12.682Z"
   },
   {
    "duration": 22,
    "start_time": "2024-12-16T15:32:12.690Z"
   },
   {
    "duration": 9,
    "start_time": "2024-12-16T15:32:12.714Z"
   },
   {
    "duration": 49,
    "start_time": "2024-12-16T15:32:12.724Z"
   },
   {
    "duration": 16,
    "start_time": "2024-12-16T15:32:12.775Z"
   },
   {
    "duration": 5,
    "start_time": "2024-12-16T15:32:12.792Z"
   },
   {
    "duration": 15,
    "start_time": "2024-12-16T15:32:12.798Z"
   },
   {
    "duration": 7,
    "start_time": "2024-12-16T15:32:12.814Z"
   },
   {
    "duration": 42,
    "start_time": "2024-12-16T15:32:12.822Z"
   },
   {
    "duration": 35,
    "start_time": "2024-12-16T15:32:12.865Z"
   },
   {
    "duration": 66,
    "start_time": "2024-12-16T15:32:12.903Z"
   },
   {
    "duration": 6,
    "start_time": "2024-12-16T15:32:42.580Z"
   },
   {
    "duration": 5,
    "start_time": "2024-12-16T15:32:46.372Z"
   },
   {
    "duration": 11,
    "start_time": "2024-12-16T15:33:04.293Z"
   },
   {
    "duration": 11,
    "start_time": "2024-12-16T15:33:32.718Z"
   },
   {
    "duration": 6,
    "start_time": "2024-12-16T15:38:17.781Z"
   },
   {
    "duration": 5,
    "start_time": "2024-12-16T15:38:22.925Z"
   },
   {
    "duration": 44,
    "start_time": "2024-12-16T15:38:23.357Z"
   },
   {
    "duration": 1306,
    "start_time": "2024-12-16T15:38:40.190Z"
   },
   {
    "duration": 65,
    "start_time": "2024-12-16T15:38:41.498Z"
   },
   {
    "duration": 4,
    "start_time": "2024-12-16T15:38:41.564Z"
   },
   {
    "duration": 25,
    "start_time": "2024-12-16T15:38:41.570Z"
   },
   {
    "duration": 61,
    "start_time": "2024-12-16T15:38:41.597Z"
   },
   {
    "duration": 36,
    "start_time": "2024-12-16T15:38:41.660Z"
   },
   {
    "duration": 50,
    "start_time": "2024-12-16T15:38:41.697Z"
   },
   {
    "duration": 74,
    "start_time": "2024-12-16T15:38:41.749Z"
   },
   {
    "duration": 41,
    "start_time": "2024-12-16T15:38:41.825Z"
   },
   {
    "duration": 43,
    "start_time": "2024-12-16T15:38:41.867Z"
   },
   {
    "duration": 34,
    "start_time": "2024-12-16T15:38:41.912Z"
   },
   {
    "duration": 54,
    "start_time": "2024-12-16T15:38:41.948Z"
   },
   {
    "duration": 29,
    "start_time": "2024-12-16T15:38:42.003Z"
   },
   {
    "duration": 24,
    "start_time": "2024-12-16T15:38:42.034Z"
   },
   {
    "duration": 23,
    "start_time": "2024-12-16T15:38:42.061Z"
   },
   {
    "duration": 53,
    "start_time": "2024-12-16T15:38:42.086Z"
   },
   {
    "duration": 109,
    "start_time": "2024-12-16T15:38:42.141Z"
   },
   {
    "duration": 1274,
    "start_time": "2024-12-16T15:39:33.873Z"
   },
   {
    "duration": 62,
    "start_time": "2024-12-16T15:39:35.152Z"
   },
   {
    "duration": 3,
    "start_time": "2024-12-16T15:39:35.216Z"
   },
   {
    "duration": 47,
    "start_time": "2024-12-16T15:39:35.220Z"
   },
   {
    "duration": 49,
    "start_time": "2024-12-16T15:39:35.270Z"
   },
   {
    "duration": 10,
    "start_time": "2024-12-16T15:39:35.321Z"
   },
   {
    "duration": 36,
    "start_time": "2024-12-16T15:39:35.332Z"
   },
   {
    "duration": 18,
    "start_time": "2024-12-16T15:39:35.369Z"
   },
   {
    "duration": 34,
    "start_time": "2024-12-16T15:39:35.389Z"
   },
   {
    "duration": 21,
    "start_time": "2024-12-16T15:39:35.424Z"
   },
   {
    "duration": 17,
    "start_time": "2024-12-16T15:39:35.447Z"
   },
   {
    "duration": 8,
    "start_time": "2024-12-16T15:39:35.465Z"
   },
   {
    "duration": 63,
    "start_time": "2024-12-16T15:39:35.475Z"
   },
   {
    "duration": 22,
    "start_time": "2024-12-16T15:39:35.540Z"
   },
   {
    "duration": 14,
    "start_time": "2024-12-16T15:39:35.564Z"
   },
   {
    "duration": 15,
    "start_time": "2024-12-16T15:39:35.579Z"
   },
   {
    "duration": 59,
    "start_time": "2024-12-16T15:39:35.596Z"
   },
   {
    "duration": 1237,
    "start_time": "2024-12-16T15:40:05.886Z"
   },
   {
    "duration": 62,
    "start_time": "2024-12-16T15:40:07.125Z"
   },
   {
    "duration": 3,
    "start_time": "2024-12-16T15:40:07.189Z"
   },
   {
    "duration": 22,
    "start_time": "2024-12-16T15:40:07.193Z"
   },
   {
    "duration": 52,
    "start_time": "2024-12-16T15:40:07.217Z"
   },
   {
    "duration": 11,
    "start_time": "2024-12-16T15:40:07.271Z"
   },
   {
    "duration": 41,
    "start_time": "2024-12-16T15:40:07.284Z"
   },
   {
    "duration": 17,
    "start_time": "2024-12-16T15:40:07.327Z"
   },
   {
    "duration": 8,
    "start_time": "2024-12-16T15:40:07.346Z"
   },
   {
    "duration": 17,
    "start_time": "2024-12-16T15:40:07.355Z"
   },
   {
    "duration": 36,
    "start_time": "2024-12-16T15:40:07.374Z"
   },
   {
    "duration": 63,
    "start_time": "2024-12-16T15:40:07.412Z"
   },
   {
    "duration": 38,
    "start_time": "2024-12-16T15:40:07.477Z"
   },
   {
    "duration": 18,
    "start_time": "2024-12-16T15:40:07.518Z"
   },
   {
    "duration": 12,
    "start_time": "2024-12-16T15:40:07.537Z"
   },
   {
    "duration": 49,
    "start_time": "2024-12-16T15:40:07.550Z"
   },
   {
    "duration": 12,
    "start_time": "2024-12-16T15:49:22.583Z"
   },
   {
    "duration": 1270,
    "start_time": "2024-12-16T15:51:44.872Z"
   },
   {
    "duration": 60,
    "start_time": "2024-12-16T15:51:46.144Z"
   },
   {
    "duration": 3,
    "start_time": "2024-12-16T15:51:46.205Z"
   },
   {
    "duration": 31,
    "start_time": "2024-12-16T15:51:46.209Z"
   },
   {
    "duration": 18,
    "start_time": "2024-12-16T15:51:46.242Z"
   },
   {
    "duration": 9,
    "start_time": "2024-12-16T15:51:46.262Z"
   },
   {
    "duration": 18,
    "start_time": "2024-12-16T15:51:46.273Z"
   },
   {
    "duration": 16,
    "start_time": "2024-12-16T15:51:46.293Z"
   },
   {
    "duration": 6,
    "start_time": "2024-12-16T15:51:46.311Z"
   },
   {
    "duration": 39,
    "start_time": "2024-12-16T15:51:46.318Z"
   },
   {
    "duration": 13,
    "start_time": "2024-12-16T15:51:46.359Z"
   },
   {
    "duration": 13,
    "start_time": "2024-12-16T15:51:46.374Z"
   },
   {
    "duration": 24,
    "start_time": "2024-12-16T15:51:46.388Z"
   },
   {
    "duration": 5,
    "start_time": "2024-12-16T15:51:46.414Z"
   },
   {
    "duration": 5,
    "start_time": "2024-12-16T15:51:46.421Z"
   },
   {
    "duration": 19,
    "start_time": "2024-12-16T15:51:46.427Z"
   },
   {
    "duration": 10,
    "start_time": "2024-12-16T15:51:46.447Z"
   },
   {
    "duration": 44,
    "start_time": "2024-12-16T15:51:46.458Z"
   },
   {
    "duration": 1297,
    "start_time": "2024-12-16T15:56:09.539Z"
   },
   {
    "duration": 44,
    "start_time": "2024-12-16T15:56:10.838Z"
   },
   {
    "duration": 24,
    "start_time": "2024-12-16T15:56:10.885Z"
   },
   {
    "duration": 3,
    "start_time": "2024-12-16T15:56:10.911Z"
   },
   {
    "duration": 6,
    "start_time": "2024-12-16T15:56:10.916Z"
   },
   {
    "duration": 33,
    "start_time": "2024-12-16T15:56:10.923Z"
   },
   {
    "duration": 13,
    "start_time": "2024-12-16T15:56:10.958Z"
   },
   {
    "duration": 20,
    "start_time": "2024-12-16T15:56:10.973Z"
   },
   {
    "duration": 22,
    "start_time": "2024-12-16T15:56:10.995Z"
   },
   {
    "duration": 6,
    "start_time": "2024-12-16T15:56:11.054Z"
   },
   {
    "duration": 14,
    "start_time": "2024-12-16T15:56:11.064Z"
   },
   {
    "duration": 9,
    "start_time": "2024-12-16T15:56:11.080Z"
   },
   {
    "duration": 6,
    "start_time": "2024-12-16T15:56:11.092Z"
   },
   {
    "duration": 13,
    "start_time": "2024-12-16T15:56:11.099Z"
   },
   {
    "duration": 11,
    "start_time": "2024-12-16T15:56:11.113Z"
   },
   {
    "duration": 5,
    "start_time": "2024-12-16T15:56:11.126Z"
   },
   {
    "duration": 16,
    "start_time": "2024-12-16T15:56:11.153Z"
   },
   {
    "duration": 4,
    "start_time": "2024-12-16T15:56:11.170Z"
   },
   {
    "duration": 40,
    "start_time": "2024-12-16T15:56:11.176Z"
   },
   {
    "duration": 4,
    "start_time": "2024-12-16T15:56:47.083Z"
   },
   {
    "duration": 46,
    "start_time": "2024-12-16T15:56:49.802Z"
   },
   {
    "duration": 19,
    "start_time": "2024-12-16T15:57:13.834Z"
   },
   {
    "duration": 45,
    "start_time": "2024-12-16T15:57:58.148Z"
   },
   {
    "duration": 1224,
    "start_time": "2024-12-16T15:58:05.612Z"
   },
   {
    "duration": 46,
    "start_time": "2024-12-16T15:58:06.838Z"
   },
   {
    "duration": 23,
    "start_time": "2024-12-16T15:58:06.885Z"
   },
   {
    "duration": 38,
    "start_time": "2024-12-16T15:58:06.910Z"
   },
   {
    "duration": 4,
    "start_time": "2024-12-16T15:58:06.951Z"
   },
   {
    "duration": 45,
    "start_time": "2024-12-16T15:58:06.957Z"
   },
   {
    "duration": 59,
    "start_time": "2024-12-16T15:58:07.004Z"
   },
   {
    "duration": 13,
    "start_time": "2024-12-16T15:58:07.065Z"
   },
   {
    "duration": 50,
    "start_time": "2024-12-16T15:58:07.080Z"
   },
   {
    "duration": 18,
    "start_time": "2024-12-16T15:58:07.133Z"
   },
   {
    "duration": 6,
    "start_time": "2024-12-16T15:58:07.152Z"
   },
   {
    "duration": 12,
    "start_time": "2024-12-16T15:58:07.161Z"
   },
   {
    "duration": 24,
    "start_time": "2024-12-16T15:58:07.175Z"
   },
   {
    "duration": 17,
    "start_time": "2024-12-16T15:58:07.201Z"
   },
   {
    "duration": 22,
    "start_time": "2024-12-16T15:58:07.219Z"
   },
   {
    "duration": 17,
    "start_time": "2024-12-16T15:58:07.242Z"
   },
   {
    "duration": 7,
    "start_time": "2024-12-16T15:58:07.262Z"
   },
   {
    "duration": 42,
    "start_time": "2024-12-16T15:58:07.270Z"
   },
   {
    "duration": 16,
    "start_time": "2024-12-16T15:58:07.313Z"
   },
   {
    "duration": 43,
    "start_time": "2024-12-16T15:58:07.331Z"
   },
   {
    "duration": 1248,
    "start_time": "2024-12-16T16:06:36.961Z"
   },
   {
    "duration": 43,
    "start_time": "2024-12-16T16:06:38.211Z"
   },
   {
    "duration": 24,
    "start_time": "2024-12-16T16:06:38.255Z"
   },
   {
    "duration": 63,
    "start_time": "2024-12-16T16:06:38.281Z"
   },
   {
    "duration": 3,
    "start_time": "2024-12-16T16:06:38.346Z"
   },
   {
    "duration": 7,
    "start_time": "2024-12-16T16:06:38.351Z"
   },
   {
    "duration": 23,
    "start_time": "2024-12-16T16:06:38.360Z"
   },
   {
    "duration": 9,
    "start_time": "2024-12-16T16:06:38.385Z"
   },
   {
    "duration": 36,
    "start_time": "2024-12-16T16:06:38.395Z"
   },
   {
    "duration": 36,
    "start_time": "2024-12-16T16:06:38.432Z"
   },
   {
    "duration": 39,
    "start_time": "2024-12-16T16:06:38.470Z"
   },
   {
    "duration": 22,
    "start_time": "2024-12-16T16:06:38.510Z"
   },
   {
    "duration": 47,
    "start_time": "2024-12-16T16:06:38.533Z"
   },
   {
    "duration": 67,
    "start_time": "2024-12-16T16:06:38.582Z"
   },
   {
    "duration": 26,
    "start_time": "2024-12-16T16:06:38.650Z"
   },
   {
    "duration": 52,
    "start_time": "2024-12-16T16:06:38.678Z"
   },
   {
    "duration": 19,
    "start_time": "2024-12-16T16:06:38.732Z"
   },
   {
    "duration": 46,
    "start_time": "2024-12-16T16:06:38.753Z"
   },
   {
    "duration": 13,
    "start_time": "2024-12-16T16:06:38.801Z"
   },
   {
    "duration": 1279,
    "start_time": "2024-12-16T16:15:58.495Z"
   },
   {
    "duration": 53,
    "start_time": "2024-12-16T16:15:59.776Z"
   },
   {
    "duration": 28,
    "start_time": "2024-12-16T16:15:59.831Z"
   },
   {
    "duration": 34,
    "start_time": "2024-12-16T16:15:59.861Z"
   },
   {
    "duration": 3,
    "start_time": "2024-12-16T16:15:59.898Z"
   },
   {
    "duration": 5,
    "start_time": "2024-12-16T16:15:59.902Z"
   },
   {
    "duration": 17,
    "start_time": "2024-12-16T16:15:59.909Z"
   },
   {
    "duration": 14,
    "start_time": "2024-12-16T16:15:59.952Z"
   },
   {
    "duration": 19,
    "start_time": "2024-12-16T16:15:59.968Z"
   },
   {
    "duration": 18,
    "start_time": "2024-12-16T16:15:59.989Z"
   },
   {
    "duration": 5,
    "start_time": "2024-12-16T16:16:00.009Z"
   },
   {
    "duration": 85,
    "start_time": "2024-12-16T16:16:00.016Z"
   },
   {
    "duration": 113,
    "start_time": "2024-12-16T16:16:00.103Z"
   },
   {
    "duration": 102,
    "start_time": "2024-12-16T16:16:00.220Z"
   },
   {
    "duration": 94,
    "start_time": "2024-12-16T16:16:00.324Z"
   },
   {
    "duration": 54,
    "start_time": "2024-12-16T16:16:00.419Z"
   },
   {
    "duration": 90,
    "start_time": "2024-12-16T16:16:00.474Z"
   },
   {
    "duration": 78,
    "start_time": "2024-12-16T16:16:00.566Z"
   },
   {
    "duration": 53,
    "start_time": "2024-12-16T16:16:00.646Z"
   },
   {
    "duration": 61,
    "start_time": "2024-12-16T16:16:47.050Z"
   },
   {
    "duration": 1291,
    "start_time": "2024-12-16T16:17:01.119Z"
   },
   {
    "duration": 41,
    "start_time": "2024-12-16T16:17:02.412Z"
   },
   {
    "duration": 25,
    "start_time": "2024-12-16T16:17:02.455Z"
   },
   {
    "duration": 33,
    "start_time": "2024-12-16T16:17:02.482Z"
   },
   {
    "duration": 3,
    "start_time": "2024-12-16T16:17:02.517Z"
   },
   {
    "duration": 35,
    "start_time": "2024-12-16T16:17:02.522Z"
   },
   {
    "duration": 29,
    "start_time": "2024-12-16T16:17:02.558Z"
   },
   {
    "duration": 15,
    "start_time": "2024-12-16T16:17:02.589Z"
   },
   {
    "duration": 32,
    "start_time": "2024-12-16T16:17:02.607Z"
   },
   {
    "duration": 21,
    "start_time": "2024-12-16T16:17:02.654Z"
   },
   {
    "duration": 17,
    "start_time": "2024-12-16T16:17:02.677Z"
   },
   {
    "duration": 30,
    "start_time": "2024-12-16T16:17:02.696Z"
   },
   {
    "duration": 11,
    "start_time": "2024-12-16T16:17:02.727Z"
   },
   {
    "duration": 11,
    "start_time": "2024-12-16T16:17:02.740Z"
   },
   {
    "duration": 45,
    "start_time": "2024-12-16T16:17:02.758Z"
   },
   {
    "duration": 23,
    "start_time": "2024-12-16T16:17:02.804Z"
   },
   {
    "duration": 14,
    "start_time": "2024-12-16T16:17:02.828Z"
   },
   {
    "duration": 31,
    "start_time": "2024-12-16T16:17:02.844Z"
   },
   {
    "duration": 5,
    "start_time": "2024-12-16T16:17:02.879Z"
   },
   {
    "duration": 79,
    "start_time": "2024-12-16T16:17:02.886Z"
   },
   {
    "duration": 1391,
    "start_time": "2024-12-17T11:36:31.870Z"
   },
   {
    "duration": 90,
    "start_time": "2024-12-17T11:36:33.264Z"
   },
   {
    "duration": 22,
    "start_time": "2024-12-17T11:36:33.355Z"
   },
   {
    "duration": 3,
    "start_time": "2024-12-17T11:36:33.378Z"
   },
   {
    "duration": 12,
    "start_time": "2024-12-17T11:36:33.383Z"
   },
   {
    "duration": 21,
    "start_time": "2024-12-17T11:36:33.397Z"
   },
   {
    "duration": 9,
    "start_time": "2024-12-17T11:36:33.419Z"
   },
   {
    "duration": 16,
    "start_time": "2024-12-17T11:36:33.429Z"
   },
   {
    "duration": 17,
    "start_time": "2024-12-17T11:36:33.447Z"
   },
   {
    "duration": 23,
    "start_time": "2024-12-17T11:36:33.466Z"
   },
   {
    "duration": 5,
    "start_time": "2024-12-17T11:36:33.490Z"
   },
   {
    "duration": 23,
    "start_time": "2024-12-17T11:36:33.497Z"
   },
   {
    "duration": 7,
    "start_time": "2024-12-17T11:36:33.521Z"
   },
   {
    "duration": 30,
    "start_time": "2024-12-17T11:36:33.530Z"
   },
   {
    "duration": 29,
    "start_time": "2024-12-17T11:36:33.562Z"
   },
   {
    "duration": 15,
    "start_time": "2024-12-17T11:36:33.593Z"
   },
   {
    "duration": 24,
    "start_time": "2024-12-17T11:36:33.610Z"
   },
   {
    "duration": 4,
    "start_time": "2024-12-17T11:36:33.636Z"
   },
   {
    "duration": 57,
    "start_time": "2024-12-17T11:36:33.642Z"
   },
   {
    "duration": 35,
    "start_time": "2024-12-17T11:36:33.701Z"
   },
   {
    "duration": 59,
    "start_time": "2024-12-17T12:05:12.002Z"
   },
   {
    "duration": 102,
    "start_time": "2024-12-17T12:05:15.610Z"
   },
   {
    "duration": 1192,
    "start_time": "2024-12-17T12:06:52.946Z"
   },
   {
    "duration": 40,
    "start_time": "2024-12-17T12:06:54.139Z"
   },
   {
    "duration": 21,
    "start_time": "2024-12-17T12:06:54.181Z"
   },
   {
    "duration": 4,
    "start_time": "2024-12-17T12:06:54.203Z"
   },
   {
    "duration": 4,
    "start_time": "2024-12-17T12:06:54.209Z"
   },
   {
    "duration": 20,
    "start_time": "2024-12-17T12:06:54.214Z"
   },
   {
    "duration": 8,
    "start_time": "2024-12-17T12:06:54.236Z"
   },
   {
    "duration": 41,
    "start_time": "2024-12-17T12:06:54.246Z"
   },
   {
    "duration": 30,
    "start_time": "2024-12-17T12:06:54.289Z"
   },
   {
    "duration": 36,
    "start_time": "2024-12-17T12:06:54.320Z"
   },
   {
    "duration": 91,
    "start_time": "2024-12-17T12:06:54.358Z"
   },
   {
    "duration": 20,
    "start_time": "2024-12-17T12:06:54.451Z"
   },
   {
    "duration": 11,
    "start_time": "2024-12-17T12:06:54.474Z"
   },
   {
    "duration": 45,
    "start_time": "2024-12-17T12:06:54.488Z"
   },
   {
    "duration": 9,
    "start_time": "2024-12-17T12:06:54.535Z"
   },
   {
    "duration": 12,
    "start_time": "2024-12-17T12:06:54.545Z"
   },
   {
    "duration": 27,
    "start_time": "2024-12-17T12:06:54.559Z"
   },
   {
    "duration": 4,
    "start_time": "2024-12-17T12:06:54.588Z"
   },
   {
    "duration": 53,
    "start_time": "2024-12-17T12:06:54.593Z"
   },
   {
    "duration": 45,
    "start_time": "2024-12-17T12:06:54.648Z"
   },
   {
    "duration": 110,
    "start_time": "2024-12-17T12:06:54.695Z"
   },
   {
    "duration": 9,
    "start_time": "2024-12-17T12:07:09.639Z"
   },
   {
    "duration": 60,
    "start_time": "2024-12-17T12:07:57.193Z"
   },
   {
    "duration": 0,
    "start_time": "2024-12-17T12:07:57.255Z"
   },
   {
    "duration": 0,
    "start_time": "2024-12-17T12:07:57.256Z"
   },
   {
    "duration": 0,
    "start_time": "2024-12-17T12:07:57.257Z"
   },
   {
    "duration": 0,
    "start_time": "2024-12-17T12:07:57.258Z"
   },
   {
    "duration": 0,
    "start_time": "2024-12-17T12:07:57.259Z"
   },
   {
    "duration": 0,
    "start_time": "2024-12-17T12:07:57.260Z"
   },
   {
    "duration": 0,
    "start_time": "2024-12-17T12:07:57.260Z"
   },
   {
    "duration": 0,
    "start_time": "2024-12-17T12:07:57.262Z"
   },
   {
    "duration": 0,
    "start_time": "2024-12-17T12:07:57.263Z"
   },
   {
    "duration": 0,
    "start_time": "2024-12-17T12:07:57.264Z"
   },
   {
    "duration": 0,
    "start_time": "2024-12-17T12:07:57.265Z"
   },
   {
    "duration": 0,
    "start_time": "2024-12-17T12:07:57.266Z"
   },
   {
    "duration": 0,
    "start_time": "2024-12-17T12:07:57.267Z"
   },
   {
    "duration": 0,
    "start_time": "2024-12-17T12:07:57.268Z"
   },
   {
    "duration": 0,
    "start_time": "2024-12-17T12:07:57.268Z"
   },
   {
    "duration": 0,
    "start_time": "2024-12-17T12:07:57.269Z"
   },
   {
    "duration": 0,
    "start_time": "2024-12-17T12:07:57.271Z"
   },
   {
    "duration": 0,
    "start_time": "2024-12-17T12:07:57.271Z"
   },
   {
    "duration": 0,
    "start_time": "2024-12-17T12:07:57.272Z"
   },
   {
    "duration": 0,
    "start_time": "2024-12-17T12:07:57.273Z"
   },
   {
    "duration": 69,
    "start_time": "2024-12-17T12:08:12.747Z"
   },
   {
    "duration": 0,
    "start_time": "2024-12-17T12:08:12.818Z"
   },
   {
    "duration": 0,
    "start_time": "2024-12-17T12:08:12.820Z"
   },
   {
    "duration": 0,
    "start_time": "2024-12-17T12:08:12.821Z"
   },
   {
    "duration": 0,
    "start_time": "2024-12-17T12:08:12.822Z"
   },
   {
    "duration": 0,
    "start_time": "2024-12-17T12:08:12.824Z"
   },
   {
    "duration": 0,
    "start_time": "2024-12-17T12:08:12.825Z"
   },
   {
    "duration": 0,
    "start_time": "2024-12-17T12:08:12.826Z"
   },
   {
    "duration": 0,
    "start_time": "2024-12-17T12:08:12.828Z"
   },
   {
    "duration": 0,
    "start_time": "2024-12-17T12:08:12.829Z"
   },
   {
    "duration": 0,
    "start_time": "2024-12-17T12:08:12.830Z"
   },
   {
    "duration": 0,
    "start_time": "2024-12-17T12:08:12.832Z"
   },
   {
    "duration": 0,
    "start_time": "2024-12-17T12:08:12.833Z"
   },
   {
    "duration": 0,
    "start_time": "2024-12-17T12:08:12.835Z"
   },
   {
    "duration": 0,
    "start_time": "2024-12-17T12:08:12.836Z"
   },
   {
    "duration": 0,
    "start_time": "2024-12-17T12:08:12.837Z"
   },
   {
    "duration": 0,
    "start_time": "2024-12-17T12:08:12.839Z"
   },
   {
    "duration": 0,
    "start_time": "2024-12-17T12:08:12.840Z"
   },
   {
    "duration": 0,
    "start_time": "2024-12-17T12:08:12.842Z"
   },
   {
    "duration": 0,
    "start_time": "2024-12-17T12:08:12.843Z"
   },
   {
    "duration": 0,
    "start_time": "2024-12-17T12:08:12.844Z"
   },
   {
    "duration": 1120,
    "start_time": "2024-12-17T12:09:10.223Z"
   },
   {
    "duration": 40,
    "start_time": "2024-12-17T12:09:11.345Z"
   },
   {
    "duration": 20,
    "start_time": "2024-12-17T12:09:11.386Z"
   },
   {
    "duration": 53,
    "start_time": "2024-12-17T12:09:11.407Z"
   },
   {
    "duration": 7,
    "start_time": "2024-12-17T12:09:11.461Z"
   },
   {
    "duration": 17,
    "start_time": "2024-12-17T12:09:11.470Z"
   },
   {
    "duration": 8,
    "start_time": "2024-12-17T12:09:11.488Z"
   },
   {
    "duration": 18,
    "start_time": "2024-12-17T12:09:11.497Z"
   },
   {
    "duration": 15,
    "start_time": "2024-12-17T12:09:11.516Z"
   },
   {
    "duration": 4,
    "start_time": "2024-12-17T12:09:11.532Z"
   },
   {
    "duration": 13,
    "start_time": "2024-12-17T12:09:11.537Z"
   },
   {
    "duration": 6,
    "start_time": "2024-12-17T12:09:11.551Z"
   },
   {
    "duration": 29,
    "start_time": "2024-12-17T12:09:11.558Z"
   },
   {
    "duration": 10,
    "start_time": "2024-12-17T12:09:11.589Z"
   },
   {
    "duration": 19,
    "start_time": "2024-12-17T12:09:11.600Z"
   },
   {
    "duration": 12,
    "start_time": "2024-12-17T12:09:11.620Z"
   },
   {
    "duration": 17,
    "start_time": "2024-12-17T12:09:11.634Z"
   },
   {
    "duration": 5,
    "start_time": "2024-12-17T12:09:11.652Z"
   },
   {
    "duration": 46,
    "start_time": "2024-12-17T12:09:11.658Z"
   },
   {
    "duration": 35,
    "start_time": "2024-12-17T12:09:11.705Z"
   },
   {
    "duration": 114,
    "start_time": "2024-12-17T12:09:11.741Z"
   },
   {
    "duration": 1145,
    "start_time": "2024-12-17T12:11:10.793Z"
   },
   {
    "duration": 40,
    "start_time": "2024-12-17T12:11:11.940Z"
   },
   {
    "duration": 20,
    "start_time": "2024-12-17T12:11:11.982Z"
   },
   {
    "duration": 3,
    "start_time": "2024-12-17T12:11:12.004Z"
   },
   {
    "duration": 5,
    "start_time": "2024-12-17T12:11:12.009Z"
   },
   {
    "duration": 17,
    "start_time": "2024-12-17T12:11:12.015Z"
   },
   {
    "duration": 8,
    "start_time": "2024-12-17T12:11:12.034Z"
   },
   {
    "duration": 45,
    "start_time": "2024-12-17T12:11:12.044Z"
   },
   {
    "duration": 17,
    "start_time": "2024-12-17T12:11:12.091Z"
   },
   {
    "duration": 4,
    "start_time": "2024-12-17T12:11:12.109Z"
   },
   {
    "duration": 7,
    "start_time": "2024-12-17T12:11:12.114Z"
   },
   {
    "duration": 6,
    "start_time": "2024-12-17T12:11:12.122Z"
   },
   {
    "duration": 6,
    "start_time": "2024-12-17T12:11:12.129Z"
   },
   {
    "duration": 10,
    "start_time": "2024-12-17T12:11:12.137Z"
   },
   {
    "duration": 4,
    "start_time": "2024-12-17T12:11:12.149Z"
   },
   {
    "duration": 36,
    "start_time": "2024-12-17T12:11:12.154Z"
   },
   {
    "duration": 13,
    "start_time": "2024-12-17T12:11:12.191Z"
   },
   {
    "duration": 4,
    "start_time": "2024-12-17T12:11:12.206Z"
   },
   {
    "duration": 45,
    "start_time": "2024-12-17T12:11:12.211Z"
   },
   {
    "duration": 36,
    "start_time": "2024-12-17T12:11:12.286Z"
   },
   {
    "duration": 107,
    "start_time": "2024-12-17T12:11:12.323Z"
   },
   {
    "duration": 1118,
    "start_time": "2024-12-17T12:11:38.144Z"
   },
   {
    "duration": 3,
    "start_time": "2024-12-17T12:11:39.264Z"
   },
   {
    "duration": 42,
    "start_time": "2024-12-17T12:11:39.268Z"
   },
   {
    "duration": 21,
    "start_time": "2024-12-17T12:11:39.312Z"
   },
   {
    "duration": 3,
    "start_time": "2024-12-17T12:11:39.334Z"
   },
   {
    "duration": 5,
    "start_time": "2024-12-17T12:11:39.339Z"
   },
   {
    "duration": 17,
    "start_time": "2024-12-17T12:11:39.345Z"
   },
   {
    "duration": 23,
    "start_time": "2024-12-17T12:11:39.364Z"
   },
   {
    "duration": 16,
    "start_time": "2024-12-17T12:11:39.388Z"
   },
   {
    "duration": 16,
    "start_time": "2024-12-17T12:11:39.407Z"
   },
   {
    "duration": 8,
    "start_time": "2024-12-17T12:11:39.426Z"
   },
   {
    "duration": 15,
    "start_time": "2024-12-17T12:11:39.435Z"
   },
   {
    "duration": 9,
    "start_time": "2024-12-17T12:11:39.452Z"
   },
   {
    "duration": 10,
    "start_time": "2024-12-17T12:11:39.487Z"
   },
   {
    "duration": 15,
    "start_time": "2024-12-17T12:11:39.498Z"
   },
   {
    "duration": 5,
    "start_time": "2024-12-17T12:11:39.515Z"
   },
   {
    "duration": 5,
    "start_time": "2024-12-17T12:11:39.521Z"
   },
   {
    "duration": 12,
    "start_time": "2024-12-17T12:11:39.528Z"
   },
   {
    "duration": 4,
    "start_time": "2024-12-17T12:11:39.542Z"
   },
   {
    "duration": 74,
    "start_time": "2024-12-17T12:11:39.547Z"
   },
   {
    "duration": 36,
    "start_time": "2024-12-17T12:11:39.622Z"
   },
   {
    "duration": 112,
    "start_time": "2024-12-17T12:11:39.660Z"
   },
   {
    "duration": 1159,
    "start_time": "2024-12-17T12:12:45.780Z"
   },
   {
    "duration": 40,
    "start_time": "2024-12-17T12:12:46.941Z"
   },
   {
    "duration": 22,
    "start_time": "2024-12-17T12:12:46.983Z"
   },
   {
    "duration": 3,
    "start_time": "2024-12-17T12:12:47.007Z"
   },
   {
    "duration": 13,
    "start_time": "2024-12-17T12:12:47.012Z"
   },
   {
    "duration": 26,
    "start_time": "2024-12-17T12:12:47.026Z"
   },
   {
    "duration": 9,
    "start_time": "2024-12-17T12:12:47.054Z"
   },
   {
    "duration": 29,
    "start_time": "2024-12-17T12:12:47.064Z"
   },
   {
    "duration": 16,
    "start_time": "2024-12-17T12:12:47.094Z"
   },
   {
    "duration": 4,
    "start_time": "2024-12-17T12:12:47.112Z"
   },
   {
    "duration": 5,
    "start_time": "2024-12-17T12:12:47.117Z"
   },
   {
    "duration": 10,
    "start_time": "2024-12-17T12:12:47.123Z"
   },
   {
    "duration": 14,
    "start_time": "2024-12-17T12:12:47.134Z"
   },
   {
    "duration": 10,
    "start_time": "2024-12-17T12:12:47.150Z"
   },
   {
    "duration": 25,
    "start_time": "2024-12-17T12:12:47.161Z"
   },
   {
    "duration": 26,
    "start_time": "2024-12-17T12:12:47.188Z"
   },
   {
    "duration": 13,
    "start_time": "2024-12-17T12:12:47.215Z"
   },
   {
    "duration": 4,
    "start_time": "2024-12-17T12:12:47.229Z"
   },
   {
    "duration": 55,
    "start_time": "2024-12-17T12:12:47.234Z"
   },
   {
    "duration": 34,
    "start_time": "2024-12-17T12:12:47.291Z"
   },
   {
    "duration": 105,
    "start_time": "2024-12-17T12:12:47.327Z"
   },
   {
    "duration": 281,
    "start_time": "2024-12-17T12:40:05.179Z"
   },
   {
    "duration": 251,
    "start_time": "2024-12-17T12:40:16.379Z"
   },
   {
    "duration": 53,
    "start_time": "2024-12-18T13:13:33.846Z"
   },
   {
    "duration": 1505,
    "start_time": "2024-12-18T13:13:46.269Z"
   },
   {
    "duration": 164,
    "start_time": "2024-12-18T13:13:47.776Z"
   },
   {
    "duration": 26,
    "start_time": "2024-12-18T13:13:47.944Z"
   },
   {
    "duration": 23,
    "start_time": "2024-12-18T13:13:47.972Z"
   },
   {
    "duration": 10,
    "start_time": "2024-12-18T13:13:47.997Z"
   },
   {
    "duration": 21,
    "start_time": "2024-12-18T13:13:48.009Z"
   },
   {
    "duration": 10,
    "start_time": "2024-12-18T13:13:48.031Z"
   },
   {
    "duration": 19,
    "start_time": "2024-12-18T13:13:48.043Z"
   },
   {
    "duration": 19,
    "start_time": "2024-12-18T13:13:48.064Z"
   },
   {
    "duration": 11,
    "start_time": "2024-12-18T13:13:48.085Z"
   },
   {
    "duration": 34,
    "start_time": "2024-12-18T13:13:48.098Z"
   },
   {
    "duration": 8,
    "start_time": "2024-12-18T13:13:48.133Z"
   },
   {
    "duration": 8,
    "start_time": "2024-12-18T13:13:48.143Z"
   },
   {
    "duration": 19,
    "start_time": "2024-12-18T13:13:48.152Z"
   },
   {
    "duration": 17,
    "start_time": "2024-12-18T13:13:48.173Z"
   },
   {
    "duration": 8,
    "start_time": "2024-12-18T13:13:48.191Z"
   },
   {
    "duration": 36,
    "start_time": "2024-12-18T13:13:48.201Z"
   },
   {
    "duration": 6,
    "start_time": "2024-12-18T13:13:48.239Z"
   },
   {
    "duration": 54,
    "start_time": "2024-12-18T13:13:48.247Z"
   },
   {
    "duration": 79,
    "start_time": "2024-12-18T13:13:48.303Z"
   },
   {
    "duration": 353,
    "start_time": "2024-12-18T13:13:48.384Z"
   },
   {
    "duration": 121,
    "start_time": "2024-12-18T13:13:48.739Z"
   },
   {
    "duration": 159,
    "start_time": "2024-12-18T13:20:09.726Z"
   },
   {
    "duration": 190,
    "start_time": "2024-12-18T13:20:46.495Z"
   },
   {
    "duration": 188,
    "start_time": "2024-12-18T13:21:34.201Z"
   },
   {
    "duration": 198,
    "start_time": "2024-12-18T13:21:44.060Z"
   },
   {
    "duration": 242,
    "start_time": "2024-12-18T13:21:49.584Z"
   },
   {
    "duration": 18,
    "start_time": "2024-12-18T13:56:28.002Z"
   },
   {
    "duration": 17,
    "start_time": "2024-12-18T13:56:36.673Z"
   },
   {
    "duration": 1293,
    "start_time": "2024-12-18T13:56:41.675Z"
   },
   {
    "duration": 44,
    "start_time": "2024-12-18T13:56:42.970Z"
   },
   {
    "duration": 26,
    "start_time": "2024-12-18T13:56:43.015Z"
   },
   {
    "duration": 4,
    "start_time": "2024-12-18T13:56:43.043Z"
   },
   {
    "duration": 12,
    "start_time": "2024-12-18T13:56:43.049Z"
   },
   {
    "duration": 23,
    "start_time": "2024-12-18T13:56:43.063Z"
   },
   {
    "duration": 13,
    "start_time": "2024-12-18T13:56:43.088Z"
   },
   {
    "duration": 37,
    "start_time": "2024-12-18T13:56:43.102Z"
   },
   {
    "duration": 18,
    "start_time": "2024-12-18T13:56:43.141Z"
   },
   {
    "duration": 5,
    "start_time": "2024-12-18T13:56:43.161Z"
   },
   {
    "duration": 14,
    "start_time": "2024-12-18T13:56:43.168Z"
   },
   {
    "duration": 14,
    "start_time": "2024-12-18T13:56:43.183Z"
   },
   {
    "duration": 16,
    "start_time": "2024-12-18T13:56:43.199Z"
   },
   {
    "duration": 12,
    "start_time": "2024-12-18T13:56:43.232Z"
   },
   {
    "duration": 35,
    "start_time": "2024-12-18T13:56:43.246Z"
   },
   {
    "duration": 38,
    "start_time": "2024-12-18T13:56:43.282Z"
   },
   {
    "duration": 25,
    "start_time": "2024-12-18T13:56:43.322Z"
   },
   {
    "duration": 6,
    "start_time": "2024-12-18T13:56:43.349Z"
   },
   {
    "duration": 68,
    "start_time": "2024-12-18T13:56:43.357Z"
   },
   {
    "duration": 45,
    "start_time": "2024-12-18T13:56:43.426Z"
   },
   {
    "duration": 338,
    "start_time": "2024-12-18T13:56:43.473Z"
   },
   {
    "duration": 126,
    "start_time": "2024-12-18T13:56:43.813Z"
   },
   {
    "duration": 0,
    "start_time": "2024-12-18T13:56:43.941Z"
   },
   {
    "duration": 16,
    "start_time": "2024-12-18T13:57:04.973Z"
   },
   {
    "duration": 21,
    "start_time": "2024-12-18T13:57:14.097Z"
   },
   {
    "duration": 22,
    "start_time": "2024-12-18T13:59:33.494Z"
   },
   {
    "duration": 398,
    "start_time": "2024-12-18T15:46:50.757Z"
   },
   {
    "duration": 25,
    "start_time": "2024-12-18T15:46:59.516Z"
   },
   {
    "duration": 35,
    "start_time": "2024-12-18T15:47:30.676Z"
   },
   {
    "duration": 25,
    "start_time": "2024-12-18T15:48:12.829Z"
   },
   {
    "duration": 26,
    "start_time": "2024-12-18T15:48:22.885Z"
   },
   {
    "duration": 36,
    "start_time": "2024-12-18T15:48:30.366Z"
   },
   {
    "duration": 1310,
    "start_time": "2024-12-18T15:49:00.565Z"
   },
   {
    "duration": 45,
    "start_time": "2024-12-18T15:49:01.877Z"
   },
   {
    "duration": 33,
    "start_time": "2024-12-18T15:49:01.924Z"
   },
   {
    "duration": 29,
    "start_time": "2024-12-18T15:49:01.959Z"
   },
   {
    "duration": 14,
    "start_time": "2024-12-18T15:49:01.991Z"
   },
   {
    "duration": 53,
    "start_time": "2024-12-18T15:49:02.007Z"
   },
   {
    "duration": 20,
    "start_time": "2024-12-18T15:49:02.062Z"
   },
   {
    "duration": 44,
    "start_time": "2024-12-18T15:49:02.084Z"
   },
   {
    "duration": 25,
    "start_time": "2024-12-18T15:49:02.130Z"
   },
   {
    "duration": 31,
    "start_time": "2024-12-18T15:49:02.156Z"
   },
   {
    "duration": 40,
    "start_time": "2024-12-18T15:49:02.190Z"
   },
   {
    "duration": 56,
    "start_time": "2024-12-18T15:49:02.232Z"
   },
   {
    "duration": 95,
    "start_time": "2024-12-18T15:49:02.290Z"
   },
   {
    "duration": 54,
    "start_time": "2024-12-18T15:49:02.387Z"
   },
   {
    "duration": 57,
    "start_time": "2024-12-18T15:49:02.443Z"
   },
   {
    "duration": 46,
    "start_time": "2024-12-18T15:49:02.502Z"
   },
   {
    "duration": 55,
    "start_time": "2024-12-18T15:49:02.549Z"
   },
   {
    "duration": 34,
    "start_time": "2024-12-18T15:49:02.606Z"
   },
   {
    "duration": 109,
    "start_time": "2024-12-18T15:49:02.642Z"
   },
   {
    "duration": 54,
    "start_time": "2024-12-18T15:49:02.752Z"
   },
   {
    "duration": 39,
    "start_time": "2024-12-18T15:49:02.807Z"
   },
   {
    "duration": 202,
    "start_time": "2024-12-18T15:49:02.848Z"
   },
   {
    "duration": 323,
    "start_time": "2024-12-18T15:49:03.052Z"
   },
   {
    "duration": 93,
    "start_time": "2024-12-18T15:49:52.177Z"
   },
   {
    "duration": 255,
    "start_time": "2024-12-18T15:49:56.608Z"
   },
   {
    "duration": 214,
    "start_time": "2024-12-18T15:50:04.665Z"
   },
   {
    "duration": 15,
    "start_time": "2024-12-18T15:52:38.933Z"
   },
   {
    "duration": 1755,
    "start_time": "2024-12-18T15:53:06.701Z"
   },
   {
    "duration": 17,
    "start_time": "2024-12-18T15:53:20.176Z"
   },
   {
    "duration": 16,
    "start_time": "2024-12-18T15:53:31.894Z"
   },
   {
    "duration": 1720,
    "start_time": "2024-12-18T15:53:50.663Z"
   },
   {
    "duration": 11,
    "start_time": "2024-12-18T15:56:24.555Z"
   },
   {
    "duration": 1355,
    "start_time": "2024-12-18T15:57:05.713Z"
   },
   {
    "duration": 43,
    "start_time": "2024-12-18T15:57:07.070Z"
   },
   {
    "duration": 26,
    "start_time": "2024-12-18T15:57:07.115Z"
   },
   {
    "duration": 31,
    "start_time": "2024-12-18T15:57:07.143Z"
   },
   {
    "duration": 47,
    "start_time": "2024-12-18T15:57:07.177Z"
   },
   {
    "duration": 42,
    "start_time": "2024-12-18T15:57:07.226Z"
   },
   {
    "duration": 10,
    "start_time": "2024-12-18T15:57:07.270Z"
   },
   {
    "duration": 21,
    "start_time": "2024-12-18T15:57:07.282Z"
   },
   {
    "duration": 26,
    "start_time": "2024-12-18T15:57:07.305Z"
   },
   {
    "duration": 34,
    "start_time": "2024-12-18T15:57:07.333Z"
   },
   {
    "duration": 24,
    "start_time": "2024-12-18T15:57:07.369Z"
   },
   {
    "duration": 8,
    "start_time": "2024-12-18T15:57:07.395Z"
   },
   {
    "duration": 10,
    "start_time": "2024-12-18T15:57:07.405Z"
   },
   {
    "duration": 13,
    "start_time": "2024-12-18T15:57:07.418Z"
   },
   {
    "duration": 14,
    "start_time": "2024-12-18T15:57:07.433Z"
   },
   {
    "duration": 23,
    "start_time": "2024-12-18T15:57:07.449Z"
   },
   {
    "duration": 23,
    "start_time": "2024-12-18T15:57:07.474Z"
   },
   {
    "duration": 5,
    "start_time": "2024-12-18T15:57:07.498Z"
   },
   {
    "duration": 69,
    "start_time": "2024-12-18T15:57:07.504Z"
   },
   {
    "duration": 45,
    "start_time": "2024-12-18T15:57:07.575Z"
   },
   {
    "duration": 118,
    "start_time": "2024-12-18T15:57:07.630Z"
   },
   {
    "duration": 0,
    "start_time": "2024-12-18T15:57:07.750Z"
   },
   {
    "duration": 0,
    "start_time": "2024-12-18T15:57:07.751Z"
   },
   {
    "duration": 0,
    "start_time": "2024-12-18T15:57:07.752Z"
   },
   {
    "duration": 14,
    "start_time": "2024-12-18T15:57:26.044Z"
   },
   {
    "duration": 18,
    "start_time": "2024-12-18T15:57:53.876Z"
   },
   {
    "duration": 1491,
    "start_time": "2024-12-18T15:58:01.086Z"
   },
   {
    "duration": 1327,
    "start_time": "2024-12-18T15:59:02.651Z"
   },
   {
    "duration": 54,
    "start_time": "2024-12-18T15:59:03.980Z"
   },
   {
    "duration": 28,
    "start_time": "2024-12-18T15:59:04.037Z"
   },
   {
    "duration": 4,
    "start_time": "2024-12-18T15:59:04.068Z"
   },
   {
    "duration": 7,
    "start_time": "2024-12-18T15:59:04.074Z"
   },
   {
    "duration": 49,
    "start_time": "2024-12-18T15:59:04.082Z"
   },
   {
    "duration": 15,
    "start_time": "2024-12-18T15:59:04.133Z"
   },
   {
    "duration": 38,
    "start_time": "2024-12-18T15:59:04.150Z"
   },
   {
    "duration": 40,
    "start_time": "2024-12-18T15:59:04.190Z"
   },
   {
    "duration": 5,
    "start_time": "2024-12-18T15:59:04.233Z"
   },
   {
    "duration": 38,
    "start_time": "2024-12-18T15:59:04.240Z"
   },
   {
    "duration": 24,
    "start_time": "2024-12-18T15:59:04.281Z"
   },
   {
    "duration": 17,
    "start_time": "2024-12-18T15:59:04.307Z"
   },
   {
    "duration": 41,
    "start_time": "2024-12-18T15:59:04.326Z"
   },
   {
    "duration": 68,
    "start_time": "2024-12-18T15:59:04.368Z"
   },
   {
    "duration": 42,
    "start_time": "2024-12-18T15:59:04.437Z"
   },
   {
    "duration": 29,
    "start_time": "2024-12-18T15:59:04.481Z"
   },
   {
    "duration": 7,
    "start_time": "2024-12-18T15:59:04.512Z"
   },
   {
    "duration": 68,
    "start_time": "2024-12-18T15:59:04.521Z"
   },
   {
    "duration": 64,
    "start_time": "2024-12-18T15:59:04.591Z"
   },
   {
    "duration": 277,
    "start_time": "2024-12-18T15:59:04.657Z"
   },
   {
    "duration": 36,
    "start_time": "2024-12-18T15:59:04.936Z"
   },
   {
    "duration": 1655,
    "start_time": "2024-12-18T15:59:04.974Z"
   },
   {
    "duration": 0,
    "start_time": "2024-12-18T15:59:06.631Z"
   },
   {
    "duration": 1582,
    "start_time": "2024-12-18T15:59:32.744Z"
   },
   {
    "duration": 1834,
    "start_time": "2024-12-18T15:59:38.647Z"
   },
   {
    "duration": 18,
    "start_time": "2024-12-18T16:00:00.593Z"
   },
   {
    "duration": 169,
    "start_time": "2024-12-18T16:04:23.343Z"
   },
   {
    "duration": 28,
    "start_time": "2024-12-18T16:05:34.497Z"
   },
   {
    "duration": 1345,
    "start_time": "2024-12-18T16:18:22.439Z"
   },
   {
    "duration": 28,
    "start_time": "2024-12-18T16:18:35.562Z"
   },
   {
    "duration": 1409,
    "start_time": "2024-12-18T16:20:09.857Z"
   },
   {
    "duration": 25,
    "start_time": "2024-12-18T16:20:28.091Z"
   },
   {
    "duration": 1423,
    "start_time": "2024-12-18T16:21:18.595Z"
   },
   {
    "duration": 1476,
    "start_time": "2024-12-18T16:21:30.804Z"
   },
   {
    "duration": 26,
    "start_time": "2024-12-18T16:21:35.813Z"
   },
   {
    "duration": 25,
    "start_time": "2024-12-18T16:21:40.372Z"
   },
   {
    "duration": 26,
    "start_time": "2024-12-18T16:21:43.140Z"
   },
   {
    "duration": 303,
    "start_time": "2024-12-18T16:22:38.629Z"
   },
   {
    "duration": 14,
    "start_time": "2024-12-18T16:33:50.337Z"
   },
   {
    "duration": 398,
    "start_time": "2024-12-18T16:34:00.609Z"
   },
   {
    "duration": 283,
    "start_time": "2024-12-18T16:34:28.073Z"
   },
   {
    "duration": 366,
    "start_time": "2024-12-18T16:34:37.400Z"
   },
   {
    "duration": 229,
    "start_time": "2024-12-18T16:46:22.747Z"
   },
   {
    "duration": 20,
    "start_time": "2024-12-18T17:07:06.886Z"
   },
   {
    "duration": 282,
    "start_time": "2024-12-18T17:07:19.590Z"
   },
   {
    "duration": 355,
    "start_time": "2024-12-18T17:08:25.544Z"
   },
   {
    "duration": 363,
    "start_time": "2024-12-18T17:08:45.752Z"
   },
   {
    "duration": 288,
    "start_time": "2024-12-18T17:09:05.578Z"
   },
   {
    "duration": 407,
    "start_time": "2024-12-18T17:09:24.651Z"
   },
   {
    "duration": 218,
    "start_time": "2024-12-18T17:16:53.535Z"
   },
   {
    "duration": 217,
    "start_time": "2024-12-18T17:17:56.691Z"
   },
   {
    "duration": 221,
    "start_time": "2024-12-18T17:18:16.137Z"
   },
   {
    "duration": 213,
    "start_time": "2024-12-18T17:19:16.947Z"
   },
   {
    "duration": 214,
    "start_time": "2024-12-18T17:21:11.196Z"
   },
   {
    "duration": 268,
    "start_time": "2024-12-18T17:23:47.945Z"
   },
   {
    "duration": 53,
    "start_time": "2024-12-18T17:29:35.696Z"
   },
   {
    "duration": 8,
    "start_time": "2024-12-18T17:29:50.333Z"
   },
   {
    "duration": 1270,
    "start_time": "2024-12-18T17:29:56.580Z"
   },
   {
    "duration": 212,
    "start_time": "2024-12-18T17:29:57.852Z"
   },
   {
    "duration": 24,
    "start_time": "2024-12-18T17:29:58.066Z"
   },
   {
    "duration": 3,
    "start_time": "2024-12-18T17:29:58.092Z"
   },
   {
    "duration": 12,
    "start_time": "2024-12-18T17:29:58.097Z"
   },
   {
    "duration": 22,
    "start_time": "2024-12-18T17:29:58.111Z"
   },
   {
    "duration": 9,
    "start_time": "2024-12-18T17:29:58.135Z"
   },
   {
    "duration": 18,
    "start_time": "2024-12-18T17:29:58.146Z"
   },
   {
    "duration": 20,
    "start_time": "2024-12-18T17:29:58.166Z"
   },
   {
    "duration": 11,
    "start_time": "2024-12-18T17:29:58.189Z"
   },
   {
    "duration": 32,
    "start_time": "2024-12-18T17:29:58.202Z"
   },
   {
    "duration": 20,
    "start_time": "2024-12-18T17:29:58.235Z"
   },
   {
    "duration": 7,
    "start_time": "2024-12-18T17:29:58.257Z"
   },
   {
    "duration": 29,
    "start_time": "2024-12-18T17:29:58.265Z"
   },
   {
    "duration": 17,
    "start_time": "2024-12-18T17:29:58.295Z"
   },
   {
    "duration": 9,
    "start_time": "2024-12-18T17:29:58.315Z"
   },
   {
    "duration": 22,
    "start_time": "2024-12-18T17:29:58.326Z"
   },
   {
    "duration": 4,
    "start_time": "2024-12-18T17:29:58.350Z"
   },
   {
    "duration": 59,
    "start_time": "2024-12-18T17:29:58.355Z"
   },
   {
    "duration": 44,
    "start_time": "2024-12-18T17:29:58.430Z"
   },
   {
    "duration": 318,
    "start_time": "2024-12-18T17:29:58.476Z"
   },
   {
    "duration": 175,
    "start_time": "2024-12-18T17:29:58.796Z"
   },
   {
    "duration": 26,
    "start_time": "2024-12-18T17:29:58.972Z"
   },
   {
    "duration": 175,
    "start_time": "2024-12-18T17:29:58.999Z"
   },
   {
    "duration": 24,
    "start_time": "2024-12-18T17:29:59.176Z"
   },
   {
    "duration": 372,
    "start_time": "2024-12-18T17:29:59.202Z"
   },
   {
    "duration": 262,
    "start_time": "2024-12-18T17:29:59.576Z"
   },
   {
    "duration": 6165,
    "start_time": "2024-12-18T17:29:59.841Z"
   },
   {
    "duration": 601,
    "start_time": "2024-12-18T17:30:26.510Z"
   },
   {
    "duration": 1322,
    "start_time": "2024-12-18T17:30:55.046Z"
   },
   {
    "duration": 176,
    "start_time": "2024-12-18T17:30:56.370Z"
   },
   {
    "duration": 25,
    "start_time": "2024-12-18T17:30:56.548Z"
   },
   {
    "duration": 3,
    "start_time": "2024-12-18T17:30:56.576Z"
   },
   {
    "duration": 9,
    "start_time": "2024-12-18T17:30:56.581Z"
   },
   {
    "duration": 21,
    "start_time": "2024-12-18T17:30:56.591Z"
   },
   {
    "duration": 9,
    "start_time": "2024-12-18T17:30:56.629Z"
   },
   {
    "duration": 33,
    "start_time": "2024-12-18T17:30:56.640Z"
   },
   {
    "duration": 44,
    "start_time": "2024-12-18T17:30:56.675Z"
   },
   {
    "duration": 5,
    "start_time": "2024-12-18T17:30:56.722Z"
   },
   {
    "duration": 6,
    "start_time": "2024-12-18T17:30:56.728Z"
   },
   {
    "duration": 8,
    "start_time": "2024-12-18T17:30:56.736Z"
   },
   {
    "duration": 35,
    "start_time": "2024-12-18T17:30:56.746Z"
   },
   {
    "duration": 21,
    "start_time": "2024-12-18T17:30:56.783Z"
   },
   {
    "duration": 17,
    "start_time": "2024-12-18T17:30:56.806Z"
   },
   {
    "duration": 37,
    "start_time": "2024-12-18T17:30:56.824Z"
   },
   {
    "duration": 16,
    "start_time": "2024-12-18T17:30:56.862Z"
   },
   {
    "duration": 4,
    "start_time": "2024-12-18T17:30:56.880Z"
   },
   {
    "duration": 56,
    "start_time": "2024-12-18T17:30:56.885Z"
   },
   {
    "duration": 44,
    "start_time": "2024-12-18T17:30:56.943Z"
   },
   {
    "duration": 245,
    "start_time": "2024-12-18T17:30:56.989Z"
   },
   {
    "duration": 178,
    "start_time": "2024-12-18T17:30:57.236Z"
   },
   {
    "duration": 34,
    "start_time": "2024-12-18T17:30:57.416Z"
   },
   {
    "duration": 166,
    "start_time": "2024-12-18T17:30:57.452Z"
   },
   {
    "duration": 31,
    "start_time": "2024-12-18T17:30:57.620Z"
   },
   {
    "duration": 377,
    "start_time": "2024-12-18T17:30:57.653Z"
   },
   {
    "duration": 254,
    "start_time": "2024-12-18T17:30:58.032Z"
   },
   {
    "duration": 52,
    "start_time": "2024-12-18T17:31:09.445Z"
   },
   {
    "duration": 1346,
    "start_time": "2024-12-18T17:31:15.510Z"
   },
   {
    "duration": 165,
    "start_time": "2024-12-18T17:31:16.858Z"
   },
   {
    "duration": 24,
    "start_time": "2024-12-18T17:31:17.024Z"
   },
   {
    "duration": 4,
    "start_time": "2024-12-18T17:31:17.050Z"
   },
   {
    "duration": 8,
    "start_time": "2024-12-18T17:31:17.056Z"
   },
   {
    "duration": 33,
    "start_time": "2024-12-18T17:31:17.066Z"
   },
   {
    "duration": 10,
    "start_time": "2024-12-18T17:31:17.101Z"
   },
   {
    "duration": 35,
    "start_time": "2024-12-18T17:31:17.112Z"
   },
   {
    "duration": 18,
    "start_time": "2024-12-18T17:31:17.148Z"
   },
   {
    "duration": 5,
    "start_time": "2024-12-18T17:31:17.167Z"
   },
   {
    "duration": 18,
    "start_time": "2024-12-18T17:31:17.173Z"
   },
   {
    "duration": 21,
    "start_time": "2024-12-18T17:31:17.192Z"
   },
   {
    "duration": 36,
    "start_time": "2024-12-18T17:31:17.214Z"
   },
   {
    "duration": 30,
    "start_time": "2024-12-18T17:31:17.253Z"
   },
   {
    "duration": 23,
    "start_time": "2024-12-18T17:31:17.284Z"
   },
   {
    "duration": 21,
    "start_time": "2024-12-18T17:31:17.309Z"
   },
   {
    "duration": 24,
    "start_time": "2024-12-18T17:31:17.331Z"
   },
   {
    "duration": 10,
    "start_time": "2024-12-18T17:31:17.357Z"
   },
   {
    "duration": 69,
    "start_time": "2024-12-18T17:31:17.368Z"
   },
   {
    "duration": 42,
    "start_time": "2024-12-18T17:31:17.439Z"
   },
   {
    "duration": 239,
    "start_time": "2024-12-18T17:31:17.483Z"
   },
   {
    "duration": 180,
    "start_time": "2024-12-18T17:31:17.724Z"
   },
   {
    "duration": 34,
    "start_time": "2024-12-18T17:31:17.905Z"
   },
   {
    "duration": 165,
    "start_time": "2024-12-18T17:31:17.940Z"
   },
   {
    "duration": 40,
    "start_time": "2024-12-18T17:31:18.106Z"
   },
   {
    "duration": 416,
    "start_time": "2024-12-18T17:31:18.148Z"
   },
   {
    "duration": 266,
    "start_time": "2024-12-18T17:31:18.566Z"
   },
   {
    "duration": 6202,
    "start_time": "2024-12-18T17:31:18.834Z"
   },
   {
    "duration": 49,
    "start_time": "2024-12-19T08:55:28.615Z"
   },
   {
    "duration": 1320,
    "start_time": "2024-12-19T08:55:33.988Z"
   },
   {
    "duration": 83,
    "start_time": "2024-12-19T08:55:35.310Z"
   },
   {
    "duration": 21,
    "start_time": "2024-12-19T08:55:35.395Z"
   },
   {
    "duration": 35,
    "start_time": "2024-12-19T08:55:35.417Z"
   },
   {
    "duration": 7,
    "start_time": "2024-12-19T08:55:35.454Z"
   },
   {
    "duration": 17,
    "start_time": "2024-12-19T08:55:35.462Z"
   },
   {
    "duration": 8,
    "start_time": "2024-12-19T08:55:35.481Z"
   },
   {
    "duration": 16,
    "start_time": "2024-12-19T08:55:35.490Z"
   },
   {
    "duration": 16,
    "start_time": "2024-12-19T08:55:35.507Z"
   },
   {
    "duration": 5,
    "start_time": "2024-12-19T08:55:35.545Z"
   },
   {
    "duration": 12,
    "start_time": "2024-12-19T08:55:35.551Z"
   },
   {
    "duration": 10,
    "start_time": "2024-12-19T08:55:35.564Z"
   },
   {
    "duration": 6,
    "start_time": "2024-12-19T08:55:35.575Z"
   },
   {
    "duration": 10,
    "start_time": "2024-12-19T08:55:35.583Z"
   },
   {
    "duration": 21,
    "start_time": "2024-12-19T08:55:35.594Z"
   },
   {
    "duration": 6,
    "start_time": "2024-12-19T08:55:35.616Z"
   },
   {
    "duration": 22,
    "start_time": "2024-12-19T08:55:35.624Z"
   },
   {
    "duration": 4,
    "start_time": "2024-12-19T08:55:35.648Z"
   },
   {
    "duration": 47,
    "start_time": "2024-12-19T08:55:35.654Z"
   },
   {
    "duration": 47,
    "start_time": "2024-12-19T08:55:35.703Z"
   },
   {
    "duration": 205,
    "start_time": "2024-12-19T08:55:35.751Z"
   },
   {
    "duration": 146,
    "start_time": "2024-12-19T08:55:35.958Z"
   },
   {
    "duration": 22,
    "start_time": "2024-12-19T08:55:36.105Z"
   },
   {
    "duration": 182,
    "start_time": "2024-12-19T08:55:36.129Z"
   },
   {
    "duration": 183,
    "start_time": "2024-12-19T08:55:36.313Z"
   },
   {
    "duration": 21,
    "start_time": "2024-12-19T08:55:36.498Z"
   },
   {
    "duration": 313,
    "start_time": "2024-12-19T08:55:36.521Z"
   },
   {
    "duration": 225,
    "start_time": "2024-12-19T08:55:36.836Z"
   },
   {
    "duration": 4704,
    "start_time": "2024-12-19T08:55:37.063Z"
   },
   {
    "duration": 180,
    "start_time": "2024-12-19T09:06:11.422Z"
   },
   {
    "duration": 183,
    "start_time": "2024-12-19T09:06:20.389Z"
   },
   {
    "duration": 1243,
    "start_time": "2024-12-19T09:06:25.853Z"
   },
   {
    "duration": 37,
    "start_time": "2024-12-19T09:06:27.098Z"
   },
   {
    "duration": 24,
    "start_time": "2024-12-19T09:06:27.137Z"
   },
   {
    "duration": 4,
    "start_time": "2024-12-19T09:06:27.163Z"
   },
   {
    "duration": 5,
    "start_time": "2024-12-19T09:06:27.169Z"
   },
   {
    "duration": 19,
    "start_time": "2024-12-19T09:06:27.175Z"
   },
   {
    "duration": 8,
    "start_time": "2024-12-19T09:06:27.195Z"
   },
   {
    "duration": 50,
    "start_time": "2024-12-19T09:06:27.205Z"
   },
   {
    "duration": 19,
    "start_time": "2024-12-19T09:06:27.257Z"
   },
   {
    "duration": 4,
    "start_time": "2024-12-19T09:06:27.278Z"
   },
   {
    "duration": 15,
    "start_time": "2024-12-19T09:06:27.283Z"
   },
   {
    "duration": 18,
    "start_time": "2024-12-19T09:06:27.299Z"
   },
   {
    "duration": 5,
    "start_time": "2024-12-19T09:06:27.319Z"
   },
   {
    "duration": 10,
    "start_time": "2024-12-19T09:06:27.327Z"
   },
   {
    "duration": 6,
    "start_time": "2024-12-19T09:06:27.345Z"
   },
   {
    "duration": 9,
    "start_time": "2024-12-19T09:06:27.352Z"
   },
   {
    "duration": 12,
    "start_time": "2024-12-19T09:06:27.363Z"
   },
   {
    "duration": 5,
    "start_time": "2024-12-19T09:06:27.377Z"
   },
   {
    "duration": 64,
    "start_time": "2024-12-19T09:06:27.383Z"
   },
   {
    "duration": 40,
    "start_time": "2024-12-19T09:06:27.451Z"
   },
   {
    "duration": 228,
    "start_time": "2024-12-19T09:06:27.493Z"
   },
   {
    "duration": 173,
    "start_time": "2024-12-19T09:06:27.723Z"
   },
   {
    "duration": 25,
    "start_time": "2024-12-19T09:06:27.898Z"
   },
   {
    "duration": 158,
    "start_time": "2024-12-19T09:06:27.924Z"
   },
   {
    "duration": 20,
    "start_time": "2024-12-19T09:06:28.084Z"
   },
   {
    "duration": 200,
    "start_time": "2024-12-19T09:06:28.106Z"
   },
   {
    "duration": 326,
    "start_time": "2024-12-19T09:06:28.307Z"
   },
   {
    "duration": 237,
    "start_time": "2024-12-19T09:06:28.635Z"
   },
   {
    "duration": 4882,
    "start_time": "2024-12-19T09:06:28.873Z"
   },
   {
    "duration": 102,
    "start_time": "2024-12-19T09:28:08.213Z"
   },
   {
    "duration": 10,
    "start_time": "2024-12-19T09:28:17.525Z"
   },
   {
    "duration": 4990,
    "start_time": "2024-12-19T09:28:18.308Z"
   },
   {
    "duration": 145,
    "start_time": "2024-12-19T09:35:58.938Z"
   },
   {
    "duration": 378,
    "start_time": "2024-12-19T09:36:12.194Z"
   },
   {
    "duration": 111,
    "start_time": "2024-12-19T09:36:23.289Z"
   },
   {
    "duration": 104,
    "start_time": "2024-12-19T09:37:57.742Z"
   },
   {
    "duration": 98,
    "start_time": "2024-12-19T09:38:00.525Z"
   },
   {
    "duration": 94,
    "start_time": "2024-12-19T09:38:19.638Z"
   },
   {
    "duration": 95,
    "start_time": "2024-12-19T09:38:47.863Z"
   },
   {
    "duration": 120,
    "start_time": "2024-12-19T09:49:37.672Z"
   },
   {
    "duration": 111,
    "start_time": "2024-12-19T09:56:28.115Z"
   },
   {
    "duration": 105,
    "start_time": "2024-12-19T09:57:57.574Z"
   },
   {
    "duration": 108,
    "start_time": "2024-12-19T09:59:20.968Z"
   },
   {
    "duration": 108,
    "start_time": "2024-12-19T09:59:38.153Z"
   },
   {
    "duration": 971,
    "start_time": "2024-12-19T10:03:11.199Z"
   },
   {
    "duration": 4,
    "start_time": "2024-12-19T10:09:16.081Z"
   },
   {
    "duration": 1205,
    "start_time": "2024-12-19T10:10:05.308Z"
   },
   {
    "duration": 38,
    "start_time": "2024-12-19T10:10:06.514Z"
   },
   {
    "duration": 19,
    "start_time": "2024-12-19T10:10:06.554Z"
   },
   {
    "duration": 34,
    "start_time": "2024-12-19T10:10:06.575Z"
   },
   {
    "duration": 9,
    "start_time": "2024-12-19T10:10:06.610Z"
   },
   {
    "duration": 45,
    "start_time": "2024-12-19T10:10:06.621Z"
   },
   {
    "duration": 19,
    "start_time": "2024-12-19T10:10:06.667Z"
   },
   {
    "duration": 81,
    "start_time": "2024-12-19T10:10:06.688Z"
   },
   {
    "duration": 16,
    "start_time": "2024-12-19T10:10:06.770Z"
   },
   {
    "duration": 4,
    "start_time": "2024-12-19T10:10:06.789Z"
   },
   {
    "duration": 10,
    "start_time": "2024-12-19T10:10:06.794Z"
   },
   {
    "duration": 6,
    "start_time": "2024-12-19T10:10:06.805Z"
   },
   {
    "duration": 6,
    "start_time": "2024-12-19T10:10:06.812Z"
   },
   {
    "duration": 29,
    "start_time": "2024-12-19T10:10:06.819Z"
   },
   {
    "duration": 14,
    "start_time": "2024-12-19T10:10:06.850Z"
   },
   {
    "duration": 12,
    "start_time": "2024-12-19T10:10:06.865Z"
   },
   {
    "duration": 30,
    "start_time": "2024-12-19T10:10:06.878Z"
   },
   {
    "duration": 4,
    "start_time": "2024-12-19T10:10:06.909Z"
   },
   {
    "duration": 42,
    "start_time": "2024-12-19T10:10:06.914Z"
   },
   {
    "duration": 35,
    "start_time": "2024-12-19T10:10:06.957Z"
   },
   {
    "duration": 215,
    "start_time": "2024-12-19T10:10:06.993Z"
   },
   {
    "duration": 157,
    "start_time": "2024-12-19T10:10:07.210Z"
   },
   {
    "duration": 23,
    "start_time": "2024-12-19T10:10:07.368Z"
   },
   {
    "duration": 144,
    "start_time": "2024-12-19T10:10:07.393Z"
   },
   {
    "duration": 25,
    "start_time": "2024-12-19T10:10:07.538Z"
   },
   {
    "duration": 191,
    "start_time": "2024-12-19T10:10:07.565Z"
   },
   {
    "duration": 307,
    "start_time": "2024-12-19T10:10:07.758Z"
   },
   {
    "duration": 224,
    "start_time": "2024-12-19T10:10:08.068Z"
   },
   {
    "duration": 177,
    "start_time": "2024-12-19T10:10:08.294Z"
   },
   {
    "duration": 4,
    "start_time": "2024-12-19T10:10:08.473Z"
   },
   {
    "duration": 897,
    "start_time": "2024-12-19T10:10:08.479Z"
   },
   {
    "duration": 382,
    "start_time": "2024-12-19T12:46:55.222Z"
   },
   {
    "duration": 51,
    "start_time": "2024-12-20T12:40:58.204Z"
   },
   {
    "duration": 1361,
    "start_time": "2024-12-20T12:41:02.704Z"
   },
   {
    "duration": 89,
    "start_time": "2024-12-20T12:41:04.068Z"
   },
   {
    "duration": 23,
    "start_time": "2024-12-20T12:41:04.158Z"
   },
   {
    "duration": 82,
    "start_time": "2024-12-20T12:41:04.183Z"
   },
   {
    "duration": 74,
    "start_time": "2024-12-20T12:41:04.266Z"
   },
   {
    "duration": 101,
    "start_time": "2024-12-20T12:41:04.342Z"
   },
   {
    "duration": 9,
    "start_time": "2024-12-20T12:41:04.445Z"
   },
   {
    "duration": 27,
    "start_time": "2024-12-20T12:41:04.456Z"
   },
   {
    "duration": 22,
    "start_time": "2024-12-20T12:41:04.484Z"
   },
   {
    "duration": 5,
    "start_time": "2024-12-20T12:41:04.508Z"
   },
   {
    "duration": 9,
    "start_time": "2024-12-20T12:41:04.514Z"
   },
   {
    "duration": 10,
    "start_time": "2024-12-20T12:41:04.524Z"
   },
   {
    "duration": 17,
    "start_time": "2024-12-20T12:41:04.535Z"
   },
   {
    "duration": 27,
    "start_time": "2024-12-20T12:41:04.553Z"
   },
   {
    "duration": 21,
    "start_time": "2024-12-20T12:41:04.581Z"
   },
   {
    "duration": 7,
    "start_time": "2024-12-20T12:41:04.603Z"
   },
   {
    "duration": 25,
    "start_time": "2024-12-20T12:41:04.611Z"
   },
   {
    "duration": 4,
    "start_time": "2024-12-20T12:41:04.637Z"
   },
   {
    "duration": 62,
    "start_time": "2024-12-20T12:41:04.642Z"
   },
   {
    "duration": 44,
    "start_time": "2024-12-20T12:41:04.706Z"
   },
   {
    "duration": 226,
    "start_time": "2024-12-20T12:41:04.752Z"
   },
   {
    "duration": 162,
    "start_time": "2024-12-20T12:41:04.987Z"
   },
   {
    "duration": 24,
    "start_time": "2024-12-20T12:41:05.150Z"
   },
   {
    "duration": 158,
    "start_time": "2024-12-20T12:41:05.175Z"
   },
   {
    "duration": 21,
    "start_time": "2024-12-20T12:41:05.335Z"
   },
   {
    "duration": 335,
    "start_time": "2024-12-20T12:41:05.357Z"
   },
   {
    "duration": 332,
    "start_time": "2024-12-20T12:41:05.693Z"
   },
   {
    "duration": 236,
    "start_time": "2024-12-20T12:41:06.029Z"
   },
   {
    "duration": 184,
    "start_time": "2024-12-20T12:41:06.266Z"
   },
   {
    "duration": 4,
    "start_time": "2024-12-20T12:41:06.452Z"
   },
   {
    "duration": 1028,
    "start_time": "2024-12-20T12:41:06.458Z"
   },
   {
    "duration": 405,
    "start_time": "2024-12-20T12:41:07.490Z"
   },
   {
    "duration": 286,
    "start_time": "2024-12-20T12:41:07.897Z"
   },
   {
    "duration": 112,
    "start_time": "2024-12-20T13:05:11.035Z"
   },
   {
    "duration": 1193,
    "start_time": "2024-12-20T13:05:18.383Z"
   },
   {
    "duration": 41,
    "start_time": "2024-12-20T13:05:19.577Z"
   },
   {
    "duration": 22,
    "start_time": "2024-12-20T13:05:19.620Z"
   },
   {
    "duration": 3,
    "start_time": "2024-12-20T13:05:19.644Z"
   },
   {
    "duration": 12,
    "start_time": "2024-12-20T13:05:19.649Z"
   },
   {
    "duration": 19,
    "start_time": "2024-12-20T13:05:19.663Z"
   },
   {
    "duration": 10,
    "start_time": "2024-12-20T13:05:19.686Z"
   },
   {
    "duration": 18,
    "start_time": "2024-12-20T13:05:19.698Z"
   },
   {
    "duration": 18,
    "start_time": "2024-12-20T13:05:19.718Z"
   },
   {
    "duration": 4,
    "start_time": "2024-12-20T13:05:19.738Z"
   },
   {
    "duration": 4,
    "start_time": "2024-12-20T13:05:19.744Z"
   },
   {
    "duration": 41,
    "start_time": "2024-12-20T13:05:19.749Z"
   },
   {
    "duration": 6,
    "start_time": "2024-12-20T13:05:19.792Z"
   },
   {
    "duration": 11,
    "start_time": "2024-12-20T13:05:19.800Z"
   },
   {
    "duration": 10,
    "start_time": "2024-12-20T13:05:19.812Z"
   },
   {
    "duration": 5,
    "start_time": "2024-12-20T13:05:19.824Z"
   },
   {
    "duration": 12,
    "start_time": "2024-12-20T13:05:19.831Z"
   },
   {
    "duration": 3,
    "start_time": "2024-12-20T13:05:19.844Z"
   },
   {
    "duration": 74,
    "start_time": "2024-12-20T13:05:19.849Z"
   },
   {
    "duration": 36,
    "start_time": "2024-12-20T13:05:19.925Z"
   },
   {
    "duration": 218,
    "start_time": "2024-12-20T13:05:19.963Z"
   },
   {
    "duration": 165,
    "start_time": "2024-12-20T13:05:20.186Z"
   },
   {
    "duration": 36,
    "start_time": "2024-12-20T13:05:20.353Z"
   },
   {
    "duration": 150,
    "start_time": "2024-12-20T13:05:20.390Z"
   },
   {
    "duration": 23,
    "start_time": "2024-12-20T13:05:20.542Z"
   },
   {
    "duration": 244,
    "start_time": "2024-12-20T13:05:20.567Z"
   },
   {
    "duration": 323,
    "start_time": "2024-12-20T13:05:20.813Z"
   },
   {
    "duration": 227,
    "start_time": "2024-12-20T13:05:21.138Z"
   },
   {
    "duration": 175,
    "start_time": "2024-12-20T13:05:21.367Z"
   },
   {
    "duration": 4,
    "start_time": "2024-12-20T13:05:21.543Z"
   },
   {
    "duration": 988,
    "start_time": "2024-12-20T13:05:21.548Z"
   },
   {
    "duration": 408,
    "start_time": "2024-12-20T13:05:22.537Z"
   },
   {
    "duration": 299,
    "start_time": "2024-12-20T13:05:22.947Z"
   },
   {
    "duration": 117,
    "start_time": "2024-12-20T13:05:23.247Z"
   },
   {
    "duration": 223,
    "start_time": "2024-12-20T13:05:37.365Z"
   },
   {
    "duration": 188,
    "start_time": "2024-12-20T13:21:07.340Z"
   },
   {
    "duration": 139,
    "start_time": "2024-12-20T13:22:01.478Z"
   },
   {
    "duration": 1143,
    "start_time": "2024-12-20T13:29:30.316Z"
   },
   {
    "duration": 40,
    "start_time": "2024-12-20T13:29:31.461Z"
   },
   {
    "duration": 22,
    "start_time": "2024-12-20T13:29:31.503Z"
   },
   {
    "duration": 83,
    "start_time": "2024-12-20T13:29:31.526Z"
   },
   {
    "duration": 26,
    "start_time": "2024-12-20T13:29:31.611Z"
   },
   {
    "duration": 42,
    "start_time": "2024-12-20T13:29:31.638Z"
   },
   {
    "duration": 9,
    "start_time": "2024-12-20T13:29:31.682Z"
   },
   {
    "duration": 30,
    "start_time": "2024-12-20T13:29:31.692Z"
   },
   {
    "duration": 16,
    "start_time": "2024-12-20T13:29:31.724Z"
   },
   {
    "duration": 71,
    "start_time": "2024-12-20T13:29:31.742Z"
   },
   {
    "duration": 30,
    "start_time": "2024-12-20T13:29:31.814Z"
   },
   {
    "duration": 21,
    "start_time": "2024-12-20T13:29:31.845Z"
   },
   {
    "duration": 8,
    "start_time": "2024-12-20T13:29:31.868Z"
   },
   {
    "duration": 24,
    "start_time": "2024-12-20T13:29:31.879Z"
   },
   {
    "duration": 18,
    "start_time": "2024-12-20T13:29:31.905Z"
   },
   {
    "duration": 6,
    "start_time": "2024-12-20T13:29:31.925Z"
   },
   {
    "duration": 14,
    "start_time": "2024-12-20T13:29:31.932Z"
   },
   {
    "duration": 15,
    "start_time": "2024-12-20T13:29:31.948Z"
   },
   {
    "duration": 50,
    "start_time": "2024-12-20T13:29:31.965Z"
   },
   {
    "duration": 39,
    "start_time": "2024-12-20T13:29:32.017Z"
   },
   {
    "duration": 244,
    "start_time": "2024-12-20T13:29:32.058Z"
   },
   {
    "duration": 164,
    "start_time": "2024-12-20T13:29:32.304Z"
   },
   {
    "duration": 29,
    "start_time": "2024-12-20T13:29:32.470Z"
   },
   {
    "duration": 155,
    "start_time": "2024-12-20T13:29:32.501Z"
   },
   {
    "duration": 37,
    "start_time": "2024-12-20T13:29:32.657Z"
   },
   {
    "duration": 230,
    "start_time": "2024-12-20T13:29:32.695Z"
   },
   {
    "duration": 325,
    "start_time": "2024-12-20T13:29:32.927Z"
   },
   {
    "duration": 240,
    "start_time": "2024-12-20T13:29:33.254Z"
   },
   {
    "duration": 186,
    "start_time": "2024-12-20T13:29:33.496Z"
   },
   {
    "duration": 4,
    "start_time": "2024-12-20T13:29:33.686Z"
   },
   {
    "duration": 1000,
    "start_time": "2024-12-20T13:29:33.691Z"
   },
   {
    "duration": 413,
    "start_time": "2024-12-20T13:29:34.693Z"
   },
   {
    "duration": 302,
    "start_time": "2024-12-20T13:29:35.108Z"
   },
   {
    "duration": 266,
    "start_time": "2024-12-20T13:29:35.411Z"
   },
   {
    "duration": 226,
    "start_time": "2024-12-20T13:34:04.715Z"
   },
   {
    "duration": 222,
    "start_time": "2024-12-20T13:44:55.029Z"
   },
   {
    "duration": 242,
    "start_time": "2024-12-20T13:48:35.125Z"
   },
   {
    "duration": 229,
    "start_time": "2024-12-20T13:48:43.444Z"
   },
   {
    "duration": 228,
    "start_time": "2024-12-20T13:49:25.591Z"
   },
   {
    "duration": 55,
    "start_time": "2024-12-20T13:49:48.646Z"
   },
   {
    "duration": 60,
    "start_time": "2024-12-20T13:49:52.422Z"
   },
   {
    "duration": 198,
    "start_time": "2024-12-20T13:51:18.296Z"
   },
   {
    "duration": 106,
    "start_time": "2024-12-20T13:51:52.064Z"
   },
   {
    "duration": 9,
    "start_time": "2024-12-20T13:51:56.369Z"
   },
   {
    "duration": 4,
    "start_time": "2024-12-20T13:52:01.545Z"
   },
   {
    "duration": 17,
    "start_time": "2024-12-20T13:58:02.620Z"
   },
   {
    "duration": 16,
    "start_time": "2024-12-20T13:58:14.820Z"
   },
   {
    "duration": 222,
    "start_time": "2024-12-20T13:58:21.380Z"
   },
   {
    "duration": 1229,
    "start_time": "2024-12-20T13:58:40.024Z"
   },
   {
    "duration": 41,
    "start_time": "2024-12-20T13:58:41.255Z"
   },
   {
    "duration": 22,
    "start_time": "2024-12-20T13:58:41.300Z"
   },
   {
    "duration": 3,
    "start_time": "2024-12-20T13:58:41.323Z"
   },
   {
    "duration": 8,
    "start_time": "2024-12-20T13:58:41.327Z"
   },
   {
    "duration": 18,
    "start_time": "2024-12-20T13:58:41.336Z"
   },
   {
    "duration": 34,
    "start_time": "2024-12-20T13:58:41.355Z"
   },
   {
    "duration": 19,
    "start_time": "2024-12-20T13:58:41.390Z"
   },
   {
    "duration": 18,
    "start_time": "2024-12-20T13:58:41.411Z"
   },
   {
    "duration": 5,
    "start_time": "2024-12-20T13:58:41.430Z"
   },
   {
    "duration": 5,
    "start_time": "2024-12-20T13:58:41.436Z"
   },
   {
    "duration": 6,
    "start_time": "2024-12-20T13:58:41.443Z"
   },
   {
    "duration": 6,
    "start_time": "2024-12-20T13:58:41.487Z"
   },
   {
    "duration": 11,
    "start_time": "2024-12-20T13:58:41.495Z"
   },
   {
    "duration": 6,
    "start_time": "2024-12-20T13:58:41.507Z"
   },
   {
    "duration": 5,
    "start_time": "2024-12-20T13:58:41.514Z"
   },
   {
    "duration": 20,
    "start_time": "2024-12-20T13:58:41.520Z"
   },
   {
    "duration": 25,
    "start_time": "2024-12-20T13:58:41.541Z"
   },
   {
    "duration": 61,
    "start_time": "2024-12-20T13:58:41.567Z"
   },
   {
    "duration": 40,
    "start_time": "2024-12-20T13:58:41.633Z"
   },
   {
    "duration": 223,
    "start_time": "2024-12-20T13:58:41.675Z"
   },
   {
    "duration": 162,
    "start_time": "2024-12-20T13:58:41.900Z"
   },
   {
    "duration": 33,
    "start_time": "2024-12-20T13:58:42.064Z"
   },
   {
    "duration": 157,
    "start_time": "2024-12-20T13:58:42.098Z"
   },
   {
    "duration": 32,
    "start_time": "2024-12-20T13:58:42.256Z"
   },
   {
    "duration": 204,
    "start_time": "2024-12-20T13:58:42.289Z"
   },
   {
    "duration": 317,
    "start_time": "2024-12-20T13:58:42.496Z"
   },
   {
    "duration": 238,
    "start_time": "2024-12-20T13:58:42.815Z"
   },
   {
    "duration": 185,
    "start_time": "2024-12-20T13:58:43.055Z"
   },
   {
    "duration": 5,
    "start_time": "2024-12-20T13:58:43.242Z"
   },
   {
    "duration": 972,
    "start_time": "2024-12-20T13:58:43.249Z"
   },
   {
    "duration": 407,
    "start_time": "2024-12-20T13:58:44.223Z"
   },
   {
    "duration": 306,
    "start_time": "2024-12-20T13:58:44.631Z"
   },
   {
    "duration": 217,
    "start_time": "2024-12-20T13:58:44.939Z"
   },
   {
    "duration": 236,
    "start_time": "2024-12-20T13:58:45.158Z"
   },
   {
    "duration": 1219,
    "start_time": "2024-12-20T13:59:11.982Z"
   },
   {
    "duration": 41,
    "start_time": "2024-12-20T13:59:13.203Z"
   },
   {
    "duration": 23,
    "start_time": "2024-12-20T13:59:13.246Z"
   },
   {
    "duration": 3,
    "start_time": "2024-12-20T13:59:13.271Z"
   },
   {
    "duration": 12,
    "start_time": "2024-12-20T13:59:13.276Z"
   },
   {
    "duration": 19,
    "start_time": "2024-12-20T13:59:13.289Z"
   },
   {
    "duration": 9,
    "start_time": "2024-12-20T13:59:13.309Z"
   },
   {
    "duration": 19,
    "start_time": "2024-12-20T13:59:13.320Z"
   },
   {
    "duration": 50,
    "start_time": "2024-12-20T13:59:13.340Z"
   },
   {
    "duration": 5,
    "start_time": "2024-12-20T13:59:13.392Z"
   },
   {
    "duration": 14,
    "start_time": "2024-12-20T13:59:13.399Z"
   },
   {
    "duration": 8,
    "start_time": "2024-12-20T13:59:13.414Z"
   },
   {
    "duration": 6,
    "start_time": "2024-12-20T13:59:13.423Z"
   },
   {
    "duration": 18,
    "start_time": "2024-12-20T13:59:13.432Z"
   },
   {
    "duration": 19,
    "start_time": "2024-12-20T13:59:13.452Z"
   },
   {
    "duration": 17,
    "start_time": "2024-12-20T13:59:13.472Z"
   },
   {
    "duration": 14,
    "start_time": "2024-12-20T13:59:13.491Z"
   },
   {
    "duration": 4,
    "start_time": "2024-12-20T13:59:13.506Z"
   },
   {
    "duration": 45,
    "start_time": "2024-12-20T13:59:13.511Z"
   },
   {
    "duration": 58,
    "start_time": "2024-12-20T13:59:13.558Z"
   },
   {
    "duration": 218,
    "start_time": "2024-12-20T13:59:13.617Z"
   },
   {
    "duration": 164,
    "start_time": "2024-12-20T13:59:13.837Z"
   },
   {
    "duration": 23,
    "start_time": "2024-12-20T13:59:14.003Z"
   },
   {
    "duration": 158,
    "start_time": "2024-12-20T13:59:14.028Z"
   },
   {
    "duration": 23,
    "start_time": "2024-12-20T13:59:14.188Z"
   },
   {
    "duration": 207,
    "start_time": "2024-12-20T13:59:14.213Z"
   },
   {
    "duration": 353,
    "start_time": "2024-12-20T13:59:14.421Z"
   },
   {
    "duration": 239,
    "start_time": "2024-12-20T13:59:14.776Z"
   },
   {
    "duration": 193,
    "start_time": "2024-12-20T13:59:15.017Z"
   },
   {
    "duration": 4,
    "start_time": "2024-12-20T13:59:15.211Z"
   },
   {
    "duration": 1000,
    "start_time": "2024-12-20T13:59:15.217Z"
   },
   {
    "duration": 436,
    "start_time": "2024-12-20T13:59:16.218Z"
   },
   {
    "duration": 316,
    "start_time": "2024-12-20T13:59:16.655Z"
   },
   {
    "duration": 214,
    "start_time": "2024-12-20T13:59:16.972Z"
   },
   {
    "duration": 235,
    "start_time": "2024-12-20T13:59:17.188Z"
   },
   {
    "duration": 1175,
    "start_time": "2024-12-20T14:02:39.585Z"
   },
   {
    "duration": 41,
    "start_time": "2024-12-20T14:02:40.761Z"
   },
   {
    "duration": 21,
    "start_time": "2024-12-20T14:02:40.805Z"
   },
   {
    "duration": 23,
    "start_time": "2024-12-20T14:02:40.827Z"
   },
   {
    "duration": 5,
    "start_time": "2024-12-20T14:02:40.851Z"
   },
   {
    "duration": 19,
    "start_time": "2024-12-20T14:02:40.858Z"
   },
   {
    "duration": 11,
    "start_time": "2024-12-20T14:02:40.878Z"
   },
   {
    "duration": 16,
    "start_time": "2024-12-20T14:02:40.890Z"
   },
   {
    "duration": 16,
    "start_time": "2024-12-20T14:02:40.908Z"
   },
   {
    "duration": 4,
    "start_time": "2024-12-20T14:02:40.925Z"
   },
   {
    "duration": 4,
    "start_time": "2024-12-20T14:02:40.930Z"
   },
   {
    "duration": 22,
    "start_time": "2024-12-20T14:02:40.935Z"
   },
   {
    "duration": 29,
    "start_time": "2024-12-20T14:02:40.958Z"
   },
   {
    "duration": 10,
    "start_time": "2024-12-20T14:02:40.990Z"
   },
   {
    "duration": 5,
    "start_time": "2024-12-20T14:02:41.002Z"
   },
   {
    "duration": 7,
    "start_time": "2024-12-20T14:02:41.008Z"
   },
   {
    "duration": 17,
    "start_time": "2024-12-20T14:02:41.016Z"
   },
   {
    "duration": 4,
    "start_time": "2024-12-20T14:02:41.034Z"
   },
   {
    "duration": 70,
    "start_time": "2024-12-20T14:02:41.040Z"
   },
   {
    "duration": 37,
    "start_time": "2024-12-20T14:02:41.111Z"
   },
   {
    "duration": 231,
    "start_time": "2024-12-20T14:02:41.150Z"
   },
   {
    "duration": 168,
    "start_time": "2024-12-20T14:02:41.382Z"
   },
   {
    "duration": 23,
    "start_time": "2024-12-20T14:02:41.551Z"
   },
   {
    "duration": 148,
    "start_time": "2024-12-20T14:02:41.587Z"
   },
   {
    "duration": 23,
    "start_time": "2024-12-20T14:02:41.736Z"
   },
   {
    "duration": 202,
    "start_time": "2024-12-20T14:02:41.761Z"
   },
   {
    "duration": 319,
    "start_time": "2024-12-20T14:02:41.965Z"
   },
   {
    "duration": 228,
    "start_time": "2024-12-20T14:02:42.286Z"
   },
   {
    "duration": 186,
    "start_time": "2024-12-20T14:02:42.516Z"
   },
   {
    "duration": 4,
    "start_time": "2024-12-20T14:02:42.704Z"
   },
   {
    "duration": 965,
    "start_time": "2024-12-20T14:02:42.709Z"
   },
   {
    "duration": 410,
    "start_time": "2024-12-20T14:02:43.676Z"
   },
   {
    "duration": 304,
    "start_time": "2024-12-20T14:02:44.088Z"
   },
   {
    "duration": 208,
    "start_time": "2024-12-20T14:02:44.394Z"
   },
   {
    "duration": 227,
    "start_time": "2024-12-20T14:02:44.604Z"
   },
   {
    "duration": 1196,
    "start_time": "2024-12-20T14:04:50.452Z"
   },
   {
    "duration": 49,
    "start_time": "2024-12-20T14:04:51.650Z"
   },
   {
    "duration": 26,
    "start_time": "2024-12-20T14:04:51.700Z"
   },
   {
    "duration": 4,
    "start_time": "2024-12-20T14:04:51.728Z"
   },
   {
    "duration": 24,
    "start_time": "2024-12-20T14:04:51.734Z"
   },
   {
    "duration": 39,
    "start_time": "2024-12-20T14:04:51.760Z"
   },
   {
    "duration": 8,
    "start_time": "2024-12-20T14:04:51.801Z"
   },
   {
    "duration": 46,
    "start_time": "2024-12-20T14:04:51.811Z"
   },
   {
    "duration": 16,
    "start_time": "2024-12-20T14:04:51.858Z"
   },
   {
    "duration": 4,
    "start_time": "2024-12-20T14:04:51.876Z"
   },
   {
    "duration": 20,
    "start_time": "2024-12-20T14:04:51.881Z"
   },
   {
    "duration": 16,
    "start_time": "2024-12-20T14:04:51.902Z"
   },
   {
    "duration": 22,
    "start_time": "2024-12-20T14:04:51.919Z"
   },
   {
    "duration": 10,
    "start_time": "2024-12-20T14:04:51.944Z"
   },
   {
    "duration": 17,
    "start_time": "2024-12-20T14:04:51.956Z"
   },
   {
    "duration": 5,
    "start_time": "2024-12-20T14:04:51.974Z"
   },
   {
    "duration": 71,
    "start_time": "2024-12-20T14:04:51.980Z"
   },
   {
    "duration": 6,
    "start_time": "2024-12-20T14:04:52.052Z"
   },
   {
    "duration": 80,
    "start_time": "2024-12-20T14:04:52.059Z"
   },
   {
    "duration": 36,
    "start_time": "2024-12-20T14:04:52.140Z"
   },
   {
    "duration": 231,
    "start_time": "2024-12-20T14:04:52.177Z"
   },
   {
    "duration": 160,
    "start_time": "2024-12-20T14:04:52.410Z"
   },
   {
    "duration": 32,
    "start_time": "2024-12-20T14:04:52.571Z"
   },
   {
    "duration": 205,
    "start_time": "2024-12-20T14:04:52.604Z"
   },
   {
    "duration": 23,
    "start_time": "2024-12-20T14:04:52.810Z"
   },
   {
    "duration": 268,
    "start_time": "2024-12-20T14:04:52.835Z"
   },
   {
    "duration": 321,
    "start_time": "2024-12-20T14:04:53.104Z"
   },
   {
    "duration": 239,
    "start_time": "2024-12-20T14:04:53.426Z"
   },
   {
    "duration": 191,
    "start_time": "2024-12-20T14:04:53.666Z"
   },
   {
    "duration": 5,
    "start_time": "2024-12-20T14:04:53.858Z"
   },
   {
    "duration": 993,
    "start_time": "2024-12-20T14:04:53.864Z"
   },
   {
    "duration": 407,
    "start_time": "2024-12-20T14:04:54.859Z"
   },
   {
    "duration": 311,
    "start_time": "2024-12-20T14:04:55.267Z"
   },
   {
    "duration": 232,
    "start_time": "2024-12-20T14:04:55.580Z"
   },
   {
    "duration": 233,
    "start_time": "2024-12-20T14:04:55.814Z"
   },
   {
    "duration": 1192,
    "start_time": "2024-12-20T14:05:52.008Z"
   },
   {
    "duration": 42,
    "start_time": "2024-12-20T14:05:53.202Z"
   },
   {
    "duration": 21,
    "start_time": "2024-12-20T14:05:53.245Z"
   },
   {
    "duration": 3,
    "start_time": "2024-12-20T14:05:53.268Z"
   },
   {
    "duration": 40,
    "start_time": "2024-12-20T14:05:53.273Z"
   },
   {
    "duration": 41,
    "start_time": "2024-12-20T14:05:53.314Z"
   },
   {
    "duration": 8,
    "start_time": "2024-12-20T14:05:53.357Z"
   },
   {
    "duration": 47,
    "start_time": "2024-12-20T14:05:53.367Z"
   },
   {
    "duration": 37,
    "start_time": "2024-12-20T14:05:53.415Z"
   },
   {
    "duration": 4,
    "start_time": "2024-12-20T14:05:53.454Z"
   },
   {
    "duration": 6,
    "start_time": "2024-12-20T14:05:53.459Z"
   },
   {
    "duration": 12,
    "start_time": "2024-12-20T14:05:53.466Z"
   },
   {
    "duration": 6,
    "start_time": "2024-12-20T14:05:53.479Z"
   },
   {
    "duration": 21,
    "start_time": "2024-12-20T14:05:53.487Z"
   },
   {
    "duration": 19,
    "start_time": "2024-12-20T14:05:53.509Z"
   },
   {
    "duration": 12,
    "start_time": "2024-12-20T14:05:53.529Z"
   },
   {
    "duration": 13,
    "start_time": "2024-12-20T14:05:53.542Z"
   },
   {
    "duration": 8,
    "start_time": "2024-12-20T14:05:53.556Z"
   },
   {
    "duration": 65,
    "start_time": "2024-12-20T14:05:53.565Z"
   },
   {
    "duration": 36,
    "start_time": "2024-12-20T14:05:53.631Z"
   },
   {
    "duration": 248,
    "start_time": "2024-12-20T14:05:53.669Z"
   },
   {
    "duration": 160,
    "start_time": "2024-12-20T14:05:53.918Z"
   },
   {
    "duration": 28,
    "start_time": "2024-12-20T14:05:54.079Z"
   },
   {
    "duration": 146,
    "start_time": "2024-12-20T14:05:54.109Z"
   },
   {
    "duration": 42,
    "start_time": "2024-12-20T14:05:54.257Z"
   },
   {
    "duration": 199,
    "start_time": "2024-12-20T14:05:54.301Z"
   },
   {
    "duration": 327,
    "start_time": "2024-12-20T14:05:54.502Z"
   },
   {
    "duration": 237,
    "start_time": "2024-12-20T14:05:54.831Z"
   },
   {
    "duration": 180,
    "start_time": "2024-12-20T14:05:55.070Z"
   },
   {
    "duration": 5,
    "start_time": "2024-12-20T14:05:55.252Z"
   },
   {
    "duration": 1000,
    "start_time": "2024-12-20T14:05:55.259Z"
   },
   {
    "duration": 408,
    "start_time": "2024-12-20T14:05:56.261Z"
   },
   {
    "duration": 329,
    "start_time": "2024-12-20T14:05:56.671Z"
   },
   {
    "duration": 211,
    "start_time": "2024-12-20T14:05:57.002Z"
   },
   {
    "duration": 234,
    "start_time": "2024-12-20T14:05:57.215Z"
   },
   {
    "duration": 11,
    "start_time": "2024-12-20T14:05:57.451Z"
   },
   {
    "duration": 239,
    "start_time": "2024-12-20T14:05:57.463Z"
   },
   {
    "duration": 55,
    "start_time": "2024-12-20T14:13:24.030Z"
   },
   {
    "duration": 45,
    "start_time": "2024-12-20T14:13:32.857Z"
   },
   {
    "duration": 1220,
    "start_time": "2024-12-20T14:13:39.447Z"
   },
   {
    "duration": 88,
    "start_time": "2024-12-20T14:13:40.669Z"
   },
   {
    "duration": 22,
    "start_time": "2024-12-20T14:13:40.759Z"
   },
   {
    "duration": 3,
    "start_time": "2024-12-20T14:13:40.783Z"
   },
   {
    "duration": 4,
    "start_time": "2024-12-20T14:13:40.788Z"
   },
   {
    "duration": 16,
    "start_time": "2024-12-20T14:13:40.794Z"
   },
   {
    "duration": 8,
    "start_time": "2024-12-20T14:13:40.811Z"
   },
   {
    "duration": 16,
    "start_time": "2024-12-20T14:13:40.821Z"
   },
   {
    "duration": 15,
    "start_time": "2024-12-20T14:13:40.838Z"
   },
   {
    "duration": 34,
    "start_time": "2024-12-20T14:13:40.855Z"
   },
   {
    "duration": 6,
    "start_time": "2024-12-20T14:13:40.890Z"
   },
   {
    "duration": 7,
    "start_time": "2024-12-20T14:13:40.897Z"
   },
   {
    "duration": 6,
    "start_time": "2024-12-20T14:13:40.905Z"
   },
   {
    "duration": 10,
    "start_time": "2024-12-20T14:13:40.914Z"
   },
   {
    "duration": 6,
    "start_time": "2024-12-20T14:13:40.925Z"
   },
   {
    "duration": 5,
    "start_time": "2024-12-20T14:13:40.932Z"
   },
   {
    "duration": 50,
    "start_time": "2024-12-20T14:13:40.939Z"
   },
   {
    "duration": 5,
    "start_time": "2024-12-20T14:13:40.991Z"
   },
   {
    "duration": 47,
    "start_time": "2024-12-20T14:13:40.997Z"
   },
   {
    "duration": 62,
    "start_time": "2024-12-20T14:13:41.046Z"
   },
   {
    "duration": 217,
    "start_time": "2024-12-20T14:13:41.110Z"
   },
   {
    "duration": 168,
    "start_time": "2024-12-20T14:13:41.329Z"
   },
   {
    "duration": 24,
    "start_time": "2024-12-20T14:13:41.499Z"
   },
   {
    "duration": 158,
    "start_time": "2024-12-20T14:13:41.524Z"
   },
   {
    "duration": 24,
    "start_time": "2024-12-20T14:13:41.686Z"
   },
   {
    "duration": 213,
    "start_time": "2024-12-20T14:13:41.711Z"
   },
   {
    "duration": 346,
    "start_time": "2024-12-20T14:13:41.926Z"
   },
   {
    "duration": 260,
    "start_time": "2024-12-20T14:13:42.274Z"
   },
   {
    "duration": 198,
    "start_time": "2024-12-20T14:13:42.535Z"
   },
   {
    "duration": 4,
    "start_time": "2024-12-20T14:13:42.735Z"
   },
   {
    "duration": 1006,
    "start_time": "2024-12-20T14:13:42.740Z"
   },
   {
    "duration": 429,
    "start_time": "2024-12-20T14:13:43.747Z"
   },
   {
    "duration": 324,
    "start_time": "2024-12-20T14:13:44.177Z"
   },
   {
    "duration": 224,
    "start_time": "2024-12-20T14:13:44.503Z"
   },
   {
    "duration": 245,
    "start_time": "2024-12-20T14:13:44.728Z"
   },
   {
    "duration": 50,
    "start_time": "2024-12-20T14:22:05.795Z"
   },
   {
    "duration": 1188,
    "start_time": "2024-12-20T14:22:15.028Z"
   },
   {
    "duration": 90,
    "start_time": "2024-12-20T14:22:16.218Z"
   },
   {
    "duration": 23,
    "start_time": "2024-12-20T14:22:16.309Z"
   },
   {
    "duration": 2,
    "start_time": "2024-12-20T14:22:16.334Z"
   },
   {
    "duration": 5,
    "start_time": "2024-12-20T14:22:16.338Z"
   },
   {
    "duration": 17,
    "start_time": "2024-12-20T14:22:16.344Z"
   },
   {
    "duration": 20,
    "start_time": "2024-12-20T14:22:16.362Z"
   },
   {
    "duration": 19,
    "start_time": "2024-12-20T14:22:16.383Z"
   },
   {
    "duration": 16,
    "start_time": "2024-12-20T14:22:16.403Z"
   },
   {
    "duration": 4,
    "start_time": "2024-12-20T14:22:16.421Z"
   },
   {
    "duration": 4,
    "start_time": "2024-12-20T14:22:16.427Z"
   },
   {
    "duration": 18,
    "start_time": "2024-12-20T14:22:16.432Z"
   },
   {
    "duration": 6,
    "start_time": "2024-12-20T14:22:16.451Z"
   },
   {
    "duration": 32,
    "start_time": "2024-12-20T14:22:16.459Z"
   },
   {
    "duration": 7,
    "start_time": "2024-12-20T14:22:16.492Z"
   },
   {
    "duration": 24,
    "start_time": "2024-12-20T14:22:16.500Z"
   },
   {
    "duration": 22,
    "start_time": "2024-12-20T14:22:16.526Z"
   },
   {
    "duration": 3,
    "start_time": "2024-12-20T14:22:16.550Z"
   },
   {
    "duration": 54,
    "start_time": "2024-12-20T14:22:16.555Z"
   },
   {
    "duration": 35,
    "start_time": "2024-12-20T14:22:16.611Z"
   },
   {
    "duration": 225,
    "start_time": "2024-12-20T14:22:16.648Z"
   },
   {
    "duration": 156,
    "start_time": "2024-12-20T14:22:16.875Z"
   },
   {
    "duration": 24,
    "start_time": "2024-12-20T14:22:17.033Z"
   },
   {
    "duration": 154,
    "start_time": "2024-12-20T14:22:17.058Z"
   },
   {
    "duration": 25,
    "start_time": "2024-12-20T14:22:17.214Z"
   },
   {
    "duration": 206,
    "start_time": "2024-12-20T14:22:17.241Z"
   },
   {
    "duration": 323,
    "start_time": "2024-12-20T14:22:17.449Z"
   },
   {
    "duration": 229,
    "start_time": "2024-12-20T14:22:17.775Z"
   },
   {
    "duration": 185,
    "start_time": "2024-12-20T14:22:18.006Z"
   },
   {
    "duration": 4,
    "start_time": "2024-12-20T14:22:18.193Z"
   },
   {
    "duration": 953,
    "start_time": "2024-12-20T14:22:18.198Z"
   },
   {
    "duration": 419,
    "start_time": "2024-12-20T14:22:19.152Z"
   },
   {
    "duration": 303,
    "start_time": "2024-12-20T14:22:19.572Z"
   },
   {
    "duration": 204,
    "start_time": "2024-12-20T14:22:19.876Z"
   },
   {
    "duration": 219,
    "start_time": "2024-12-20T14:22:20.082Z"
   },
   {
    "duration": 1196,
    "start_time": "2024-12-20T14:46:04.802Z"
   },
   {
    "duration": 89,
    "start_time": "2024-12-20T14:46:06.001Z"
   },
   {
    "duration": 21,
    "start_time": "2024-12-20T14:46:06.092Z"
   },
   {
    "duration": 36,
    "start_time": "2024-12-20T14:46:06.115Z"
   },
   {
    "duration": 10,
    "start_time": "2024-12-20T14:46:06.153Z"
   },
   {
    "duration": 39,
    "start_time": "2024-12-20T14:46:06.164Z"
   },
   {
    "duration": 22,
    "start_time": "2024-12-20T14:46:06.204Z"
   },
   {
    "duration": 45,
    "start_time": "2024-12-20T14:46:06.227Z"
   },
   {
    "duration": 49,
    "start_time": "2024-12-20T14:46:06.274Z"
   },
   {
    "duration": 7,
    "start_time": "2024-12-20T14:46:06.326Z"
   },
   {
    "duration": 5,
    "start_time": "2024-12-20T14:46:06.334Z"
   },
   {
    "duration": 7,
    "start_time": "2024-12-20T14:46:06.340Z"
   },
   {
    "duration": 6,
    "start_time": "2024-12-20T14:46:06.348Z"
   },
   {
    "duration": 14,
    "start_time": "2024-12-20T14:46:06.355Z"
   },
   {
    "duration": 24,
    "start_time": "2024-12-20T14:46:06.370Z"
   },
   {
    "duration": 32,
    "start_time": "2024-12-20T14:46:06.396Z"
   },
   {
    "duration": 23,
    "start_time": "2024-12-20T14:46:06.429Z"
   },
   {
    "duration": 4,
    "start_time": "2024-12-20T14:46:06.453Z"
   },
   {
    "duration": 43,
    "start_time": "2024-12-20T14:46:06.459Z"
   },
   {
    "duration": 36,
    "start_time": "2024-12-20T14:46:06.504Z"
   },
   {
    "duration": 221,
    "start_time": "2024-12-20T14:46:06.542Z"
   },
   {
    "duration": 162,
    "start_time": "2024-12-20T14:46:06.766Z"
   },
   {
    "duration": 24,
    "start_time": "2024-12-20T14:46:06.930Z"
   },
   {
    "duration": 159,
    "start_time": "2024-12-20T14:46:06.956Z"
   },
   {
    "duration": 23,
    "start_time": "2024-12-20T14:46:07.116Z"
   },
   {
    "duration": 196,
    "start_time": "2024-12-20T14:46:07.141Z"
   },
   {
    "duration": 314,
    "start_time": "2024-12-20T14:46:07.339Z"
   },
   {
    "duration": 232,
    "start_time": "2024-12-20T14:46:07.656Z"
   },
   {
    "duration": 180,
    "start_time": "2024-12-20T14:46:07.890Z"
   },
   {
    "duration": 3,
    "start_time": "2024-12-20T14:46:08.072Z"
   },
   {
    "duration": 926,
    "start_time": "2024-12-20T14:46:08.077Z"
   },
   {
    "duration": 392,
    "start_time": "2024-12-20T14:46:09.004Z"
   },
   {
    "duration": 320,
    "start_time": "2024-12-20T14:46:09.398Z"
   },
   {
    "duration": 204,
    "start_time": "2024-12-20T14:46:09.720Z"
   },
   {
    "duration": 235,
    "start_time": "2024-12-20T14:46:09.925Z"
   },
   {
    "duration": 1173,
    "start_time": "2024-12-20T14:46:28.514Z"
   },
   {
    "duration": 41,
    "start_time": "2024-12-20T14:46:29.689Z"
   },
   {
    "duration": 22,
    "start_time": "2024-12-20T14:46:29.732Z"
   },
   {
    "duration": 3,
    "start_time": "2024-12-20T14:46:29.755Z"
   },
   {
    "duration": 17,
    "start_time": "2024-12-20T14:46:29.760Z"
   },
   {
    "duration": 19,
    "start_time": "2024-12-20T14:46:29.779Z"
   },
   {
    "duration": 61,
    "start_time": "2024-12-20T14:46:29.800Z"
   },
   {
    "duration": 21,
    "start_time": "2024-12-20T14:46:29.863Z"
   },
   {
    "duration": 17,
    "start_time": "2024-12-20T14:46:29.886Z"
   },
   {
    "duration": 4,
    "start_time": "2024-12-20T14:46:29.907Z"
   },
   {
    "duration": 8,
    "start_time": "2024-12-20T14:46:29.913Z"
   },
   {
    "duration": 26,
    "start_time": "2024-12-20T14:46:29.923Z"
   },
   {
    "duration": 7,
    "start_time": "2024-12-20T14:46:29.951Z"
   },
   {
    "duration": 11,
    "start_time": "2024-12-20T14:46:29.960Z"
   },
   {
    "duration": 17,
    "start_time": "2024-12-20T14:46:29.973Z"
   },
   {
    "duration": 33,
    "start_time": "2024-12-20T14:46:29.992Z"
   },
   {
    "duration": 57,
    "start_time": "2024-12-20T14:46:30.027Z"
   },
   {
    "duration": 24,
    "start_time": "2024-12-20T14:46:30.086Z"
   },
   {
    "duration": 67,
    "start_time": "2024-12-20T14:46:30.112Z"
   },
   {
    "duration": 38,
    "start_time": "2024-12-20T14:46:30.181Z"
   },
   {
    "duration": 226,
    "start_time": "2024-12-20T14:46:30.221Z"
   },
   {
    "duration": 164,
    "start_time": "2024-12-20T14:46:30.449Z"
   },
   {
    "duration": 25,
    "start_time": "2024-12-20T14:46:30.615Z"
   },
   {
    "duration": 261,
    "start_time": "2024-12-20T14:46:30.641Z"
   },
   {
    "duration": 35,
    "start_time": "2024-12-20T14:46:30.904Z"
   },
   {
    "duration": 230,
    "start_time": "2024-12-20T14:46:30.941Z"
   },
   {
    "duration": 327,
    "start_time": "2024-12-20T14:46:31.173Z"
   },
   {
    "duration": 241,
    "start_time": "2024-12-20T14:46:31.504Z"
   },
   {
    "duration": 190,
    "start_time": "2024-12-20T14:46:31.746Z"
   },
   {
    "duration": 6,
    "start_time": "2024-12-20T14:46:31.938Z"
   },
   {
    "duration": 989,
    "start_time": "2024-12-20T14:46:31.946Z"
   },
   {
    "duration": 407,
    "start_time": "2024-12-20T14:46:32.937Z"
   },
   {
    "duration": 310,
    "start_time": "2024-12-20T14:46:33.346Z"
   },
   {
    "duration": 215,
    "start_time": "2024-12-20T14:46:33.658Z"
   },
   {
    "duration": 230,
    "start_time": "2024-12-20T14:46:33.875Z"
   },
   {
    "duration": 1192,
    "start_time": "2024-12-20T14:48:15.656Z"
   },
   {
    "duration": 41,
    "start_time": "2024-12-20T14:48:16.849Z"
   },
   {
    "duration": 21,
    "start_time": "2024-12-20T14:48:16.892Z"
   },
   {
    "duration": 2,
    "start_time": "2024-12-20T14:48:16.915Z"
   },
   {
    "duration": 5,
    "start_time": "2024-12-20T14:48:16.918Z"
   },
   {
    "duration": 16,
    "start_time": "2024-12-20T14:48:16.925Z"
   },
   {
    "duration": 8,
    "start_time": "2024-12-20T14:48:16.943Z"
   },
   {
    "duration": 49,
    "start_time": "2024-12-20T14:48:16.952Z"
   },
   {
    "duration": 16,
    "start_time": "2024-12-20T14:48:17.002Z"
   },
   {
    "duration": 4,
    "start_time": "2024-12-20T14:48:17.021Z"
   },
   {
    "duration": 7,
    "start_time": "2024-12-20T14:48:17.026Z"
   },
   {
    "duration": 8,
    "start_time": "2024-12-20T14:48:17.035Z"
   },
   {
    "duration": 6,
    "start_time": "2024-12-20T14:48:17.044Z"
   },
   {
    "duration": 40,
    "start_time": "2024-12-20T14:48:17.051Z"
   },
   {
    "duration": 5,
    "start_time": "2024-12-20T14:48:17.093Z"
   },
   {
    "duration": 18,
    "start_time": "2024-12-20T14:48:17.099Z"
   },
   {
    "duration": 12,
    "start_time": "2024-12-20T14:48:17.118Z"
   },
   {
    "duration": 3,
    "start_time": "2024-12-20T14:48:17.132Z"
   },
   {
    "duration": 59,
    "start_time": "2024-12-20T14:48:17.137Z"
   },
   {
    "duration": 35,
    "start_time": "2024-12-20T14:48:17.197Z"
   },
   {
    "duration": 224,
    "start_time": "2024-12-20T14:48:17.234Z"
   },
   {
    "duration": 154,
    "start_time": "2024-12-20T14:48:17.459Z"
   },
   {
    "duration": 23,
    "start_time": "2024-12-20T14:48:17.615Z"
   },
   {
    "duration": 154,
    "start_time": "2024-12-20T14:48:17.639Z"
   },
   {
    "duration": 21,
    "start_time": "2024-12-20T14:48:17.795Z"
   },
   {
    "duration": 206,
    "start_time": "2024-12-20T14:48:17.817Z"
   },
   {
    "duration": 309,
    "start_time": "2024-12-20T14:48:18.024Z"
   },
   {
    "duration": 240,
    "start_time": "2024-12-20T14:48:18.337Z"
   },
   {
    "duration": 181,
    "start_time": "2024-12-20T14:48:18.579Z"
   },
   {
    "duration": 4,
    "start_time": "2024-12-20T14:48:18.761Z"
   },
   {
    "duration": 985,
    "start_time": "2024-12-20T14:48:18.766Z"
   },
   {
    "duration": 395,
    "start_time": "2024-12-20T14:48:19.752Z"
   },
   {
    "duration": 293,
    "start_time": "2024-12-20T14:48:20.149Z"
   },
   {
    "duration": 205,
    "start_time": "2024-12-20T14:48:20.443Z"
   },
   {
    "duration": 227,
    "start_time": "2024-12-20T14:48:20.650Z"
   },
   {
    "duration": 4,
    "start_time": "2024-12-20T14:48:20.886Z"
   },
   {
    "duration": 607,
    "start_time": "2024-12-20T14:48:20.891Z"
   },
   {
    "duration": 657,
    "start_time": "2024-12-20T14:50:58.466Z"
   },
   {
    "duration": 602,
    "start_time": "2024-12-20T14:51:17.176Z"
   },
   {
    "duration": 349,
    "start_time": "2024-12-20T15:06:00.771Z"
   },
   {
    "duration": 198,
    "start_time": "2024-12-20T15:11:24.492Z"
   },
   {
    "duration": 197,
    "start_time": "2024-12-20T15:16:00.899Z"
   },
   {
    "duration": 4,
    "start_time": "2024-12-20T15:16:32.971Z"
   },
   {
    "duration": 109,
    "start_time": "2024-12-20T15:56:42.647Z"
   },
   {
    "duration": 968,
    "start_time": "2024-12-20T15:56:58.671Z"
   },
   {
    "duration": 789,
    "start_time": "2024-12-20T15:57:13.697Z"
   },
   {
    "duration": 802,
    "start_time": "2024-12-20T15:57:24.992Z"
   },
   {
    "duration": 792,
    "start_time": "2024-12-20T15:57:56.609Z"
   },
   {
    "duration": 828,
    "start_time": "2024-12-20T15:58:09.026Z"
   },
   {
    "duration": 901,
    "start_time": "2024-12-20T16:00:21.974Z"
   },
   {
    "duration": 811,
    "start_time": "2024-12-20T16:00:28.485Z"
   },
   {
    "duration": 830,
    "start_time": "2024-12-20T16:00:34.350Z"
   },
   {
    "duration": 781,
    "start_time": "2024-12-20T16:00:40.517Z"
   },
   {
    "duration": 800,
    "start_time": "2024-12-20T16:00:50.742Z"
   },
   {
    "duration": 783,
    "start_time": "2024-12-20T16:00:58.630Z"
   },
   {
    "duration": 957,
    "start_time": "2024-12-20T16:01:05.055Z"
   },
   {
    "duration": 63,
    "start_time": "2024-12-20T16:11:07.822Z"
   },
   {
    "duration": 11,
    "start_time": "2024-12-20T16:11:12.910Z"
   },
   {
    "duration": 3,
    "start_time": "2024-12-20T16:11:41.614Z"
   },
   {
    "duration": 1167,
    "start_time": "2024-12-20T16:11:57.452Z"
   },
   {
    "duration": 0,
    "start_time": "2024-12-20T16:11:58.622Z"
   },
   {
    "duration": 0,
    "start_time": "2024-12-20T16:11:58.623Z"
   },
   {
    "duration": 0,
    "start_time": "2024-12-20T16:11:58.624Z"
   },
   {
    "duration": 0,
    "start_time": "2024-12-20T16:11:58.626Z"
   },
   {
    "duration": 0,
    "start_time": "2024-12-20T16:11:58.627Z"
   },
   {
    "duration": 0,
    "start_time": "2024-12-20T16:11:58.628Z"
   },
   {
    "duration": 0,
    "start_time": "2024-12-20T16:11:58.629Z"
   },
   {
    "duration": 0,
    "start_time": "2024-12-20T16:11:58.630Z"
   },
   {
    "duration": 0,
    "start_time": "2024-12-20T16:11:58.631Z"
   },
   {
    "duration": 0,
    "start_time": "2024-12-20T16:11:58.632Z"
   },
   {
    "duration": 0,
    "start_time": "2024-12-20T16:11:58.633Z"
   },
   {
    "duration": 0,
    "start_time": "2024-12-20T16:11:58.634Z"
   },
   {
    "duration": 0,
    "start_time": "2024-12-20T16:11:58.636Z"
   },
   {
    "duration": 0,
    "start_time": "2024-12-20T16:11:58.636Z"
   },
   {
    "duration": 0,
    "start_time": "2024-12-20T16:11:58.637Z"
   },
   {
    "duration": 0,
    "start_time": "2024-12-20T16:11:58.638Z"
   },
   {
    "duration": 0,
    "start_time": "2024-12-20T16:11:58.639Z"
   },
   {
    "duration": 0,
    "start_time": "2024-12-20T16:11:58.640Z"
   },
   {
    "duration": 0,
    "start_time": "2024-12-20T16:11:58.641Z"
   },
   {
    "duration": 0,
    "start_time": "2024-12-20T16:11:58.642Z"
   },
   {
    "duration": 0,
    "start_time": "2024-12-20T16:11:58.642Z"
   },
   {
    "duration": 0,
    "start_time": "2024-12-20T16:11:58.643Z"
   },
   {
    "duration": 0,
    "start_time": "2024-12-20T16:11:58.644Z"
   },
   {
    "duration": 0,
    "start_time": "2024-12-20T16:11:58.645Z"
   },
   {
    "duration": 0,
    "start_time": "2024-12-20T16:11:58.686Z"
   },
   {
    "duration": 0,
    "start_time": "2024-12-20T16:11:58.687Z"
   },
   {
    "duration": 0,
    "start_time": "2024-12-20T16:11:58.689Z"
   },
   {
    "duration": 0,
    "start_time": "2024-12-20T16:11:58.689Z"
   },
   {
    "duration": 0,
    "start_time": "2024-12-20T16:11:58.690Z"
   },
   {
    "duration": 0,
    "start_time": "2024-12-20T16:11:58.691Z"
   },
   {
    "duration": 0,
    "start_time": "2024-12-20T16:11:58.692Z"
   },
   {
    "duration": 0,
    "start_time": "2024-12-20T16:11:58.693Z"
   },
   {
    "duration": 0,
    "start_time": "2024-12-20T16:11:58.694Z"
   },
   {
    "duration": 0,
    "start_time": "2024-12-20T16:11:58.695Z"
   },
   {
    "duration": 0,
    "start_time": "2024-12-20T16:11:58.695Z"
   },
   {
    "duration": 0,
    "start_time": "2024-12-20T16:11:58.696Z"
   },
   {
    "duration": 0,
    "start_time": "2024-12-20T16:11:58.697Z"
   },
   {
    "duration": 0,
    "start_time": "2024-12-20T16:11:58.698Z"
   },
   {
    "duration": 0,
    "start_time": "2024-12-20T16:11:58.699Z"
   },
   {
    "duration": 57,
    "start_time": "2024-12-20T16:12:32.432Z"
   },
   {
    "duration": 59,
    "start_time": "2024-12-20T16:12:47.873Z"
   },
   {
    "duration": 0,
    "start_time": "2024-12-20T16:12:47.934Z"
   },
   {
    "duration": 0,
    "start_time": "2024-12-20T16:12:47.936Z"
   },
   {
    "duration": 0,
    "start_time": "2024-12-20T16:12:47.937Z"
   },
   {
    "duration": 0,
    "start_time": "2024-12-20T16:12:47.938Z"
   },
   {
    "duration": 0,
    "start_time": "2024-12-20T16:12:47.939Z"
   },
   {
    "duration": 0,
    "start_time": "2024-12-20T16:12:47.940Z"
   },
   {
    "duration": 0,
    "start_time": "2024-12-20T16:12:47.942Z"
   },
   {
    "duration": 0,
    "start_time": "2024-12-20T16:12:47.942Z"
   },
   {
    "duration": 0,
    "start_time": "2024-12-20T16:12:47.943Z"
   },
   {
    "duration": 0,
    "start_time": "2024-12-20T16:12:47.944Z"
   },
   {
    "duration": 0,
    "start_time": "2024-12-20T16:12:47.945Z"
   },
   {
    "duration": 0,
    "start_time": "2024-12-20T16:12:47.945Z"
   },
   {
    "duration": 0,
    "start_time": "2024-12-20T16:12:47.946Z"
   },
   {
    "duration": 0,
    "start_time": "2024-12-20T16:12:47.947Z"
   },
   {
    "duration": 0,
    "start_time": "2024-12-20T16:12:47.948Z"
   },
   {
    "duration": 0,
    "start_time": "2024-12-20T16:12:47.949Z"
   },
   {
    "duration": 0,
    "start_time": "2024-12-20T16:12:47.950Z"
   },
   {
    "duration": 0,
    "start_time": "2024-12-20T16:12:47.951Z"
   },
   {
    "duration": 0,
    "start_time": "2024-12-20T16:12:47.952Z"
   },
   {
    "duration": 0,
    "start_time": "2024-12-20T16:12:47.953Z"
   },
   {
    "duration": 0,
    "start_time": "2024-12-20T16:12:47.954Z"
   },
   {
    "duration": 0,
    "start_time": "2024-12-20T16:12:47.955Z"
   },
   {
    "duration": 0,
    "start_time": "2024-12-20T16:12:47.956Z"
   },
   {
    "duration": 0,
    "start_time": "2024-12-20T16:12:47.957Z"
   },
   {
    "duration": 0,
    "start_time": "2024-12-20T16:12:47.957Z"
   },
   {
    "duration": 0,
    "start_time": "2024-12-20T16:12:47.958Z"
   },
   {
    "duration": 0,
    "start_time": "2024-12-20T16:12:47.960Z"
   },
   {
    "duration": 0,
    "start_time": "2024-12-20T16:12:47.961Z"
   },
   {
    "duration": 0,
    "start_time": "2024-12-20T16:12:47.961Z"
   },
   {
    "duration": 0,
    "start_time": "2024-12-20T16:12:47.962Z"
   },
   {
    "duration": 0,
    "start_time": "2024-12-20T16:12:47.963Z"
   },
   {
    "duration": 0,
    "start_time": "2024-12-20T16:12:47.964Z"
   },
   {
    "duration": 0,
    "start_time": "2024-12-20T16:12:47.965Z"
   },
   {
    "duration": 0,
    "start_time": "2024-12-20T16:12:47.965Z"
   },
   {
    "duration": 0,
    "start_time": "2024-12-20T16:12:47.987Z"
   },
   {
    "duration": 0,
    "start_time": "2024-12-20T16:12:47.988Z"
   },
   {
    "duration": 0,
    "start_time": "2024-12-20T16:12:47.989Z"
   },
   {
    "duration": 0,
    "start_time": "2024-12-20T16:12:47.990Z"
   },
   {
    "duration": 0,
    "start_time": "2024-12-20T16:12:47.991Z"
   },
   {
    "duration": 73,
    "start_time": "2024-12-20T16:13:45.725Z"
   },
   {
    "duration": 57,
    "start_time": "2024-12-20T16:14:41.692Z"
   },
   {
    "duration": 0,
    "start_time": "2024-12-20T16:14:41.751Z"
   },
   {
    "duration": 0,
    "start_time": "2024-12-20T16:14:41.753Z"
   },
   {
    "duration": 0,
    "start_time": "2024-12-20T16:14:41.754Z"
   },
   {
    "duration": 0,
    "start_time": "2024-12-20T16:14:41.755Z"
   },
   {
    "duration": 0,
    "start_time": "2024-12-20T16:14:41.756Z"
   },
   {
    "duration": 0,
    "start_time": "2024-12-20T16:14:41.757Z"
   },
   {
    "duration": 0,
    "start_time": "2024-12-20T16:14:41.758Z"
   },
   {
    "duration": 0,
    "start_time": "2024-12-20T16:14:41.759Z"
   },
   {
    "duration": 0,
    "start_time": "2024-12-20T16:14:41.760Z"
   },
   {
    "duration": 0,
    "start_time": "2024-12-20T16:14:41.761Z"
   },
   {
    "duration": 0,
    "start_time": "2024-12-20T16:14:41.762Z"
   },
   {
    "duration": 0,
    "start_time": "2024-12-20T16:14:41.763Z"
   },
   {
    "duration": 0,
    "start_time": "2024-12-20T16:14:41.764Z"
   },
   {
    "duration": 0,
    "start_time": "2024-12-20T16:14:41.765Z"
   },
   {
    "duration": 0,
    "start_time": "2024-12-20T16:14:41.766Z"
   },
   {
    "duration": 0,
    "start_time": "2024-12-20T16:14:41.767Z"
   },
   {
    "duration": 0,
    "start_time": "2024-12-20T16:14:41.767Z"
   },
   {
    "duration": 0,
    "start_time": "2024-12-20T16:14:41.768Z"
   },
   {
    "duration": 0,
    "start_time": "2024-12-20T16:14:41.769Z"
   },
   {
    "duration": 0,
    "start_time": "2024-12-20T16:14:41.770Z"
   },
   {
    "duration": 0,
    "start_time": "2024-12-20T16:14:41.771Z"
   },
   {
    "duration": 0,
    "start_time": "2024-12-20T16:14:41.772Z"
   },
   {
    "duration": 0,
    "start_time": "2024-12-20T16:14:41.773Z"
   },
   {
    "duration": 0,
    "start_time": "2024-12-20T16:14:41.774Z"
   },
   {
    "duration": 0,
    "start_time": "2024-12-20T16:14:41.775Z"
   },
   {
    "duration": 0,
    "start_time": "2024-12-20T16:14:41.776Z"
   },
   {
    "duration": 0,
    "start_time": "2024-12-20T16:14:41.777Z"
   },
   {
    "duration": 0,
    "start_time": "2024-12-20T16:14:41.778Z"
   },
   {
    "duration": 0,
    "start_time": "2024-12-20T16:14:41.786Z"
   },
   {
    "duration": 0,
    "start_time": "2024-12-20T16:14:41.787Z"
   },
   {
    "duration": 0,
    "start_time": "2024-12-20T16:14:41.788Z"
   },
   {
    "duration": 0,
    "start_time": "2024-12-20T16:14:41.789Z"
   },
   {
    "duration": 0,
    "start_time": "2024-12-20T16:14:41.790Z"
   },
   {
    "duration": 0,
    "start_time": "2024-12-20T16:14:41.791Z"
   },
   {
    "duration": 0,
    "start_time": "2024-12-20T16:14:41.792Z"
   },
   {
    "duration": 0,
    "start_time": "2024-12-20T16:14:41.792Z"
   },
   {
    "duration": 0,
    "start_time": "2024-12-20T16:14:41.793Z"
   },
   {
    "duration": 0,
    "start_time": "2024-12-20T16:14:41.794Z"
   },
   {
    "duration": 0,
    "start_time": "2024-12-20T16:14:41.795Z"
   },
   {
    "duration": 1071,
    "start_time": "2024-12-20T16:15:50.043Z"
   },
   {
    "duration": 41,
    "start_time": "2024-12-20T16:15:51.402Z"
   },
   {
    "duration": 11,
    "start_time": "2024-12-20T16:16:12.297Z"
   },
   {
    "duration": 1189,
    "start_time": "2024-12-20T16:16:16.826Z"
   },
   {
    "duration": 0,
    "start_time": "2024-12-20T16:16:18.017Z"
   },
   {
    "duration": 0,
    "start_time": "2024-12-20T16:16:18.018Z"
   },
   {
    "duration": 1,
    "start_time": "2024-12-20T16:16:18.019Z"
   },
   {
    "duration": 0,
    "start_time": "2024-12-20T16:16:18.021Z"
   },
   {
    "duration": 0,
    "start_time": "2024-12-20T16:16:18.022Z"
   },
   {
    "duration": 0,
    "start_time": "2024-12-20T16:16:18.024Z"
   },
   {
    "duration": 0,
    "start_time": "2024-12-20T16:16:18.025Z"
   },
   {
    "duration": 0,
    "start_time": "2024-12-20T16:16:18.026Z"
   },
   {
    "duration": 0,
    "start_time": "2024-12-20T16:16:18.027Z"
   },
   {
    "duration": 0,
    "start_time": "2024-12-20T16:16:18.028Z"
   },
   {
    "duration": 0,
    "start_time": "2024-12-20T16:16:18.030Z"
   },
   {
    "duration": 0,
    "start_time": "2024-12-20T16:16:18.031Z"
   },
   {
    "duration": 0,
    "start_time": "2024-12-20T16:16:18.032Z"
   },
   {
    "duration": 0,
    "start_time": "2024-12-20T16:16:18.032Z"
   },
   {
    "duration": 0,
    "start_time": "2024-12-20T16:16:18.034Z"
   },
   {
    "duration": 0,
    "start_time": "2024-12-20T16:16:18.035Z"
   },
   {
    "duration": 0,
    "start_time": "2024-12-20T16:16:18.035Z"
   },
   {
    "duration": 0,
    "start_time": "2024-12-20T16:16:18.036Z"
   },
   {
    "duration": 0,
    "start_time": "2024-12-20T16:16:18.037Z"
   },
   {
    "duration": 0,
    "start_time": "2024-12-20T16:16:18.039Z"
   },
   {
    "duration": 0,
    "start_time": "2024-12-20T16:16:18.040Z"
   },
   {
    "duration": 0,
    "start_time": "2024-12-20T16:16:18.041Z"
   },
   {
    "duration": 0,
    "start_time": "2024-12-20T16:16:18.042Z"
   },
   {
    "duration": 0,
    "start_time": "2024-12-20T16:16:18.043Z"
   },
   {
    "duration": 0,
    "start_time": "2024-12-20T16:16:18.087Z"
   },
   {
    "duration": 0,
    "start_time": "2024-12-20T16:16:18.088Z"
   },
   {
    "duration": 0,
    "start_time": "2024-12-20T16:16:18.089Z"
   },
   {
    "duration": 0,
    "start_time": "2024-12-20T16:16:18.090Z"
   },
   {
    "duration": 0,
    "start_time": "2024-12-20T16:16:18.091Z"
   },
   {
    "duration": 0,
    "start_time": "2024-12-20T16:16:18.092Z"
   },
   {
    "duration": 0,
    "start_time": "2024-12-20T16:16:18.093Z"
   },
   {
    "duration": 0,
    "start_time": "2024-12-20T16:16:18.094Z"
   },
   {
    "duration": 0,
    "start_time": "2024-12-20T16:16:18.095Z"
   },
   {
    "duration": 0,
    "start_time": "2024-12-20T16:16:18.095Z"
   },
   {
    "duration": 0,
    "start_time": "2024-12-20T16:16:18.096Z"
   },
   {
    "duration": 0,
    "start_time": "2024-12-20T16:16:18.097Z"
   },
   {
    "duration": 0,
    "start_time": "2024-12-20T16:16:18.098Z"
   },
   {
    "duration": 0,
    "start_time": "2024-12-20T16:16:18.099Z"
   },
   {
    "duration": 0,
    "start_time": "2024-12-20T16:16:18.100Z"
   },
   {
    "duration": 62,
    "start_time": "2024-12-20T16:16:36.607Z"
   },
   {
    "duration": 76,
    "start_time": "2024-12-20T16:16:51.407Z"
   },
   {
    "duration": 8,
    "start_time": "2024-12-20T16:16:54.935Z"
   },
   {
    "duration": 57,
    "start_time": "2024-12-20T16:17:06.248Z"
   },
   {
    "duration": 78,
    "start_time": "2024-12-20T16:20:28.334Z"
   },
   {
    "duration": 66,
    "start_time": "2024-12-20T16:20:39.457Z"
   },
   {
    "duration": 0,
    "start_time": "2024-12-20T16:20:39.526Z"
   },
   {
    "duration": 0,
    "start_time": "2024-12-20T16:20:39.527Z"
   },
   {
    "duration": 0,
    "start_time": "2024-12-20T16:20:39.528Z"
   },
   {
    "duration": 0,
    "start_time": "2024-12-20T16:20:39.529Z"
   },
   {
    "duration": 0,
    "start_time": "2024-12-20T16:20:39.530Z"
   },
   {
    "duration": 0,
    "start_time": "2024-12-20T16:20:39.531Z"
   },
   {
    "duration": 0,
    "start_time": "2024-12-20T16:20:39.532Z"
   },
   {
    "duration": 0,
    "start_time": "2024-12-20T16:20:39.533Z"
   },
   {
    "duration": 0,
    "start_time": "2024-12-20T16:20:39.533Z"
   },
   {
    "duration": 0,
    "start_time": "2024-12-20T16:20:39.534Z"
   },
   {
    "duration": 0,
    "start_time": "2024-12-20T16:20:39.535Z"
   },
   {
    "duration": 0,
    "start_time": "2024-12-20T16:20:39.536Z"
   },
   {
    "duration": 0,
    "start_time": "2024-12-20T16:20:39.537Z"
   },
   {
    "duration": 0,
    "start_time": "2024-12-20T16:20:39.538Z"
   },
   {
    "duration": 0,
    "start_time": "2024-12-20T16:20:39.539Z"
   },
   {
    "duration": 0,
    "start_time": "2024-12-20T16:20:39.540Z"
   },
   {
    "duration": 0,
    "start_time": "2024-12-20T16:20:39.541Z"
   },
   {
    "duration": 0,
    "start_time": "2024-12-20T16:20:39.542Z"
   },
   {
    "duration": 0,
    "start_time": "2024-12-20T16:20:39.543Z"
   },
   {
    "duration": 0,
    "start_time": "2024-12-20T16:20:39.544Z"
   },
   {
    "duration": 0,
    "start_time": "2024-12-20T16:20:39.545Z"
   },
   {
    "duration": 0,
    "start_time": "2024-12-20T16:20:39.546Z"
   },
   {
    "duration": 0,
    "start_time": "2024-12-20T16:20:39.546Z"
   },
   {
    "duration": 0,
    "start_time": "2024-12-20T16:20:39.547Z"
   },
   {
    "duration": 0,
    "start_time": "2024-12-20T16:20:39.548Z"
   },
   {
    "duration": 0,
    "start_time": "2024-12-20T16:20:39.549Z"
   },
   {
    "duration": 0,
    "start_time": "2024-12-20T16:20:39.550Z"
   },
   {
    "duration": 0,
    "start_time": "2024-12-20T16:20:39.551Z"
   },
   {
    "duration": 0,
    "start_time": "2024-12-20T16:20:39.552Z"
   },
   {
    "duration": 0,
    "start_time": "2024-12-20T16:20:39.553Z"
   },
   {
    "duration": 0,
    "start_time": "2024-12-20T16:20:39.554Z"
   },
   {
    "duration": 0,
    "start_time": "2024-12-20T16:20:39.554Z"
   },
   {
    "duration": 0,
    "start_time": "2024-12-20T16:20:39.555Z"
   },
   {
    "duration": 0,
    "start_time": "2024-12-20T16:20:39.556Z"
   },
   {
    "duration": 0,
    "start_time": "2024-12-20T16:20:39.557Z"
   },
   {
    "duration": 0,
    "start_time": "2024-12-20T16:20:39.557Z"
   },
   {
    "duration": 0,
    "start_time": "2024-12-20T16:20:39.559Z"
   },
   {
    "duration": 0,
    "start_time": "2024-12-20T16:20:39.587Z"
   },
   {
    "duration": 0,
    "start_time": "2024-12-20T16:20:39.587Z"
   },
   {
    "duration": 1155,
    "start_time": "2024-12-20T16:21:03.864Z"
   },
   {
    "duration": 9,
    "start_time": "2024-12-20T16:21:44.871Z"
   },
   {
    "duration": 1081,
    "start_time": "2024-12-20T16:21:49.637Z"
   },
   {
    "duration": 0,
    "start_time": "2024-12-20T16:21:50.720Z"
   },
   {
    "duration": 0,
    "start_time": "2024-12-20T16:21:50.721Z"
   },
   {
    "duration": 0,
    "start_time": "2024-12-20T16:21:50.722Z"
   },
   {
    "duration": 0,
    "start_time": "2024-12-20T16:21:50.724Z"
   },
   {
    "duration": 0,
    "start_time": "2024-12-20T16:21:50.726Z"
   },
   {
    "duration": 0,
    "start_time": "2024-12-20T16:21:50.726Z"
   },
   {
    "duration": 0,
    "start_time": "2024-12-20T16:21:50.727Z"
   },
   {
    "duration": 0,
    "start_time": "2024-12-20T16:21:50.728Z"
   },
   {
    "duration": 0,
    "start_time": "2024-12-20T16:21:50.729Z"
   },
   {
    "duration": 0,
    "start_time": "2024-12-20T16:21:50.730Z"
   },
   {
    "duration": 0,
    "start_time": "2024-12-20T16:21:50.731Z"
   },
   {
    "duration": 0,
    "start_time": "2024-12-20T16:21:50.732Z"
   },
   {
    "duration": 0,
    "start_time": "2024-12-20T16:21:50.733Z"
   },
   {
    "duration": 0,
    "start_time": "2024-12-20T16:21:50.733Z"
   },
   {
    "duration": 0,
    "start_time": "2024-12-20T16:21:50.734Z"
   },
   {
    "duration": 0,
    "start_time": "2024-12-20T16:21:50.735Z"
   },
   {
    "duration": 0,
    "start_time": "2024-12-20T16:21:50.736Z"
   },
   {
    "duration": 0,
    "start_time": "2024-12-20T16:21:50.737Z"
   },
   {
    "duration": 1,
    "start_time": "2024-12-20T16:21:50.737Z"
   },
   {
    "duration": 0,
    "start_time": "2024-12-20T16:21:50.739Z"
   },
   {
    "duration": 0,
    "start_time": "2024-12-20T16:21:50.739Z"
   },
   {
    "duration": 0,
    "start_time": "2024-12-20T16:21:50.740Z"
   },
   {
    "duration": 0,
    "start_time": "2024-12-20T16:21:50.741Z"
   },
   {
    "duration": 0,
    "start_time": "2024-12-20T16:21:50.742Z"
   },
   {
    "duration": 0,
    "start_time": "2024-12-20T16:21:50.742Z"
   },
   {
    "duration": 0,
    "start_time": "2024-12-20T16:21:50.743Z"
   },
   {
    "duration": 0,
    "start_time": "2024-12-20T16:21:50.744Z"
   },
   {
    "duration": 0,
    "start_time": "2024-12-20T16:21:50.745Z"
   },
   {
    "duration": 0,
    "start_time": "2024-12-20T16:21:50.745Z"
   },
   {
    "duration": 0,
    "start_time": "2024-12-20T16:21:50.787Z"
   },
   {
    "duration": 0,
    "start_time": "2024-12-20T16:21:50.788Z"
   },
   {
    "duration": 0,
    "start_time": "2024-12-20T16:21:50.789Z"
   },
   {
    "duration": 0,
    "start_time": "2024-12-20T16:21:50.790Z"
   },
   {
    "duration": 0,
    "start_time": "2024-12-20T16:21:50.791Z"
   },
   {
    "duration": 0,
    "start_time": "2024-12-20T16:21:50.791Z"
   },
   {
    "duration": 0,
    "start_time": "2024-12-20T16:21:50.792Z"
   },
   {
    "duration": 0,
    "start_time": "2024-12-20T16:21:50.793Z"
   },
   {
    "duration": 0,
    "start_time": "2024-12-20T16:21:50.794Z"
   },
   {
    "duration": 0,
    "start_time": "2024-12-20T16:21:50.795Z"
   },
   {
    "duration": 1172,
    "start_time": "2024-12-20T16:22:25.349Z"
   },
   {
    "duration": 0,
    "start_time": "2024-12-20T16:22:26.524Z"
   },
   {
    "duration": 0,
    "start_time": "2024-12-20T16:22:26.525Z"
   },
   {
    "duration": 0,
    "start_time": "2024-12-20T16:22:26.526Z"
   },
   {
    "duration": 0,
    "start_time": "2024-12-20T16:22:26.527Z"
   },
   {
    "duration": 0,
    "start_time": "2024-12-20T16:22:26.529Z"
   },
   {
    "duration": 1,
    "start_time": "2024-12-20T16:22:26.530Z"
   },
   {
    "duration": 0,
    "start_time": "2024-12-20T16:22:26.532Z"
   },
   {
    "duration": 0,
    "start_time": "2024-12-20T16:22:26.533Z"
   },
   {
    "duration": 0,
    "start_time": "2024-12-20T16:22:26.533Z"
   },
   {
    "duration": 0,
    "start_time": "2024-12-20T16:22:26.534Z"
   },
   {
    "duration": 0,
    "start_time": "2024-12-20T16:22:26.536Z"
   },
   {
    "duration": 0,
    "start_time": "2024-12-20T16:22:26.537Z"
   },
   {
    "duration": 0,
    "start_time": "2024-12-20T16:22:26.537Z"
   },
   {
    "duration": 0,
    "start_time": "2024-12-20T16:22:26.538Z"
   },
   {
    "duration": 0,
    "start_time": "2024-12-20T16:22:26.539Z"
   },
   {
    "duration": 0,
    "start_time": "2024-12-20T16:22:26.540Z"
   },
   {
    "duration": 0,
    "start_time": "2024-12-20T16:22:26.541Z"
   },
   {
    "duration": 0,
    "start_time": "2024-12-20T16:22:26.542Z"
   },
   {
    "duration": 0,
    "start_time": "2024-12-20T16:22:26.542Z"
   },
   {
    "duration": 0,
    "start_time": "2024-12-20T16:22:26.543Z"
   },
   {
    "duration": 0,
    "start_time": "2024-12-20T16:22:26.544Z"
   },
   {
    "duration": 0,
    "start_time": "2024-12-20T16:22:26.545Z"
   },
   {
    "duration": 0,
    "start_time": "2024-12-20T16:22:26.586Z"
   },
   {
    "duration": 0,
    "start_time": "2024-12-20T16:22:26.587Z"
   },
   {
    "duration": 0,
    "start_time": "2024-12-20T16:22:26.588Z"
   },
   {
    "duration": 0,
    "start_time": "2024-12-20T16:22:26.589Z"
   },
   {
    "duration": 0,
    "start_time": "2024-12-20T16:22:26.590Z"
   },
   {
    "duration": 0,
    "start_time": "2024-12-20T16:22:26.591Z"
   },
   {
    "duration": 0,
    "start_time": "2024-12-20T16:22:26.591Z"
   },
   {
    "duration": 0,
    "start_time": "2024-12-20T16:22:26.592Z"
   },
   {
    "duration": 0,
    "start_time": "2024-12-20T16:22:26.594Z"
   },
   {
    "duration": 0,
    "start_time": "2024-12-20T16:22:26.594Z"
   },
   {
    "duration": 0,
    "start_time": "2024-12-20T16:22:26.595Z"
   },
   {
    "duration": 0,
    "start_time": "2024-12-20T16:22:26.596Z"
   },
   {
    "duration": 0,
    "start_time": "2024-12-20T16:22:26.597Z"
   },
   {
    "duration": 0,
    "start_time": "2024-12-20T16:22:26.598Z"
   },
   {
    "duration": 0,
    "start_time": "2024-12-20T16:22:26.599Z"
   },
   {
    "duration": 0,
    "start_time": "2024-12-20T16:22:26.599Z"
   },
   {
    "duration": 0,
    "start_time": "2024-12-20T16:22:26.601Z"
   },
   {
    "duration": 1168,
    "start_time": "2024-12-20T16:23:33.385Z"
   },
   {
    "duration": 41,
    "start_time": "2024-12-20T16:23:34.555Z"
   },
   {
    "duration": 22,
    "start_time": "2024-12-20T16:23:34.597Z"
   },
   {
    "duration": 3,
    "start_time": "2024-12-20T16:23:34.621Z"
   },
   {
    "duration": 36,
    "start_time": "2024-12-20T16:23:34.625Z"
   },
   {
    "duration": 44,
    "start_time": "2024-12-20T16:23:34.663Z"
   },
   {
    "duration": 18,
    "start_time": "2024-12-20T16:23:34.709Z"
   },
   {
    "duration": 20,
    "start_time": "2024-12-20T16:23:34.729Z"
   },
   {
    "duration": 30,
    "start_time": "2024-12-20T16:23:34.750Z"
   },
   {
    "duration": 7,
    "start_time": "2024-12-20T16:23:34.782Z"
   },
   {
    "duration": 21,
    "start_time": "2024-12-20T16:23:34.790Z"
   },
   {
    "duration": 16,
    "start_time": "2024-12-20T16:23:34.813Z"
   },
   {
    "duration": 6,
    "start_time": "2024-12-20T16:23:34.831Z"
   },
   {
    "duration": 19,
    "start_time": "2024-12-20T16:23:34.839Z"
   },
   {
    "duration": 50,
    "start_time": "2024-12-20T16:23:34.859Z"
   },
   {
    "duration": 21,
    "start_time": "2024-12-20T16:23:34.911Z"
   },
   {
    "duration": 15,
    "start_time": "2024-12-20T16:23:34.933Z"
   },
   {
    "duration": 5,
    "start_time": "2024-12-20T16:23:34.950Z"
   },
   {
    "duration": 46,
    "start_time": "2024-12-20T16:23:34.957Z"
   },
   {
    "duration": 37,
    "start_time": "2024-12-20T16:23:35.004Z"
   },
   {
    "duration": 220,
    "start_time": "2024-12-20T16:23:35.043Z"
   },
   {
    "duration": 156,
    "start_time": "2024-12-20T16:23:35.265Z"
   },
   {
    "duration": 23,
    "start_time": "2024-12-20T16:23:35.423Z"
   },
   {
    "duration": 158,
    "start_time": "2024-12-20T16:23:35.448Z"
   },
   {
    "duration": 29,
    "start_time": "2024-12-20T16:23:35.608Z"
   },
   {
    "duration": 203,
    "start_time": "2024-12-20T16:23:35.639Z"
   },
   {
    "duration": 318,
    "start_time": "2024-12-20T16:23:35.843Z"
   },
   {
    "duration": 232,
    "start_time": "2024-12-20T16:23:36.164Z"
   },
   {
    "duration": 185,
    "start_time": "2024-12-20T16:23:36.397Z"
   },
   {
    "duration": 3,
    "start_time": "2024-12-20T16:23:36.586Z"
   },
   {
    "duration": 932,
    "start_time": "2024-12-20T16:23:36.591Z"
   },
   {
    "duration": 392,
    "start_time": "2024-12-20T16:23:37.524Z"
   },
   {
    "duration": 306,
    "start_time": "2024-12-20T16:23:37.918Z"
   },
   {
    "duration": 205,
    "start_time": "2024-12-20T16:23:38.226Z"
   },
   {
    "duration": 4,
    "start_time": "2024-12-20T16:23:38.433Z"
   },
   {
    "duration": 208,
    "start_time": "2024-12-20T16:23:38.439Z"
   },
   {
    "duration": 600,
    "start_time": "2024-12-20T16:23:38.648Z"
   },
   {
    "duration": 385,
    "start_time": "2024-12-20T16:23:39.249Z"
   },
   {
    "duration": 115,
    "start_time": "2024-12-20T16:23:39.636Z"
   },
   {
    "duration": 0,
    "start_time": "2024-12-20T16:23:39.753Z"
   },
   {
    "duration": 1130,
    "start_time": "2024-12-20T16:24:00.023Z"
   },
   {
    "duration": 41,
    "start_time": "2024-12-20T16:24:01.155Z"
   },
   {
    "duration": 22,
    "start_time": "2024-12-20T16:24:01.198Z"
   },
   {
    "duration": 41,
    "start_time": "2024-12-20T16:24:01.222Z"
   },
   {
    "duration": 45,
    "start_time": "2024-12-20T16:24:01.265Z"
   },
   {
    "duration": 29,
    "start_time": "2024-12-20T16:24:01.312Z"
   },
   {
    "duration": 12,
    "start_time": "2024-12-20T16:24:01.342Z"
   },
   {
    "duration": 31,
    "start_time": "2024-12-20T16:24:01.356Z"
   },
   {
    "duration": 24,
    "start_time": "2024-12-20T16:24:01.389Z"
   },
   {
    "duration": 86,
    "start_time": "2024-12-20T16:24:01.416Z"
   },
   {
    "duration": 12,
    "start_time": "2024-12-20T16:24:01.504Z"
   },
   {
    "duration": 11,
    "start_time": "2024-12-20T16:24:01.517Z"
   },
   {
    "duration": 6,
    "start_time": "2024-12-20T16:24:01.529Z"
   },
   {
    "duration": 26,
    "start_time": "2024-12-20T16:24:01.536Z"
   },
   {
    "duration": 43,
    "start_time": "2024-12-20T16:24:01.563Z"
   },
   {
    "duration": 17,
    "start_time": "2024-12-20T16:24:01.607Z"
   },
   {
    "duration": 13,
    "start_time": "2024-12-20T16:24:01.625Z"
   },
   {
    "duration": 18,
    "start_time": "2024-12-20T16:24:01.640Z"
   },
   {
    "duration": 52,
    "start_time": "2024-12-20T16:24:01.659Z"
   },
   {
    "duration": 36,
    "start_time": "2024-12-20T16:24:01.712Z"
   },
   {
    "duration": 210,
    "start_time": "2024-12-20T16:24:01.750Z"
   },
   {
    "duration": 158,
    "start_time": "2024-12-20T16:24:01.962Z"
   },
   {
    "duration": 23,
    "start_time": "2024-12-20T16:24:02.121Z"
   },
   {
    "duration": 149,
    "start_time": "2024-12-20T16:24:02.146Z"
   },
   {
    "duration": 23,
    "start_time": "2024-12-20T16:24:02.296Z"
   },
   {
    "duration": 196,
    "start_time": "2024-12-20T16:24:02.320Z"
   },
   {
    "duration": 313,
    "start_time": "2024-12-20T16:24:02.517Z"
   },
   {
    "duration": 224,
    "start_time": "2024-12-20T16:24:02.833Z"
   },
   {
    "duration": 184,
    "start_time": "2024-12-20T16:24:03.059Z"
   },
   {
    "duration": 4,
    "start_time": "2024-12-20T16:24:03.245Z"
   },
   {
    "duration": 939,
    "start_time": "2024-12-20T16:24:03.251Z"
   },
   {
    "duration": 400,
    "start_time": "2024-12-20T16:24:04.192Z"
   },
   {
    "duration": 303,
    "start_time": "2024-12-20T16:24:04.594Z"
   },
   {
    "duration": 199,
    "start_time": "2024-12-20T16:24:04.899Z"
   },
   {
    "duration": 4,
    "start_time": "2024-12-20T16:24:05.099Z"
   },
   {
    "duration": 231,
    "start_time": "2024-12-20T16:24:05.105Z"
   },
   {
    "duration": 619,
    "start_time": "2024-12-20T16:24:05.338Z"
   },
   {
    "duration": 360,
    "start_time": "2024-12-20T16:24:05.959Z"
   },
   {
    "duration": 858,
    "start_time": "2024-12-20T16:24:06.321Z"
   },
   {
    "duration": 9,
    "start_time": "2024-12-20T16:36:27.031Z"
   },
   {
    "duration": 558,
    "start_time": "2024-12-20T16:36:32.033Z"
   },
   {
    "duration": 586,
    "start_time": "2024-12-20T16:38:09.754Z"
   },
   {
    "duration": 58,
    "start_time": "2024-12-20T16:44:28.340Z"
   },
   {
    "duration": 3789,
    "start_time": "2024-12-20T16:44:44.125Z"
   },
   {
    "duration": 63,
    "start_time": "2024-12-20T16:45:22.762Z"
   },
   {
    "duration": 0,
    "start_time": "2024-12-20T16:45:22.828Z"
   },
   {
    "duration": 0,
    "start_time": "2024-12-20T16:45:22.830Z"
   },
   {
    "duration": 0,
    "start_time": "2024-12-20T16:45:22.831Z"
   },
   {
    "duration": 0,
    "start_time": "2024-12-20T16:45:22.833Z"
   },
   {
    "duration": 0,
    "start_time": "2024-12-20T16:45:22.834Z"
   },
   {
    "duration": 0,
    "start_time": "2024-12-20T16:45:22.836Z"
   },
   {
    "duration": 0,
    "start_time": "2024-12-20T16:45:22.837Z"
   },
   {
    "duration": 0,
    "start_time": "2024-12-20T16:45:22.838Z"
   },
   {
    "duration": 0,
    "start_time": "2024-12-20T16:45:22.840Z"
   },
   {
    "duration": 0,
    "start_time": "2024-12-20T16:45:22.841Z"
   },
   {
    "duration": 1,
    "start_time": "2024-12-20T16:45:22.842Z"
   },
   {
    "duration": 0,
    "start_time": "2024-12-20T16:45:22.844Z"
   },
   {
    "duration": 0,
    "start_time": "2024-12-20T16:45:22.845Z"
   },
   {
    "duration": 0,
    "start_time": "2024-12-20T16:45:22.846Z"
   },
   {
    "duration": 0,
    "start_time": "2024-12-20T16:45:22.848Z"
   },
   {
    "duration": 0,
    "start_time": "2024-12-20T16:45:22.849Z"
   },
   {
    "duration": 0,
    "start_time": "2024-12-20T16:45:22.851Z"
   },
   {
    "duration": 0,
    "start_time": "2024-12-20T16:45:22.852Z"
   },
   {
    "duration": 0,
    "start_time": "2024-12-20T16:45:22.854Z"
   },
   {
    "duration": 0,
    "start_time": "2024-12-20T16:45:22.855Z"
   },
   {
    "duration": 0,
    "start_time": "2024-12-20T16:45:22.856Z"
   },
   {
    "duration": 0,
    "start_time": "2024-12-20T16:45:22.857Z"
   },
   {
    "duration": 0,
    "start_time": "2024-12-20T16:45:22.886Z"
   },
   {
    "duration": 0,
    "start_time": "2024-12-20T16:45:22.887Z"
   },
   {
    "duration": 0,
    "start_time": "2024-12-20T16:45:22.889Z"
   },
   {
    "duration": 0,
    "start_time": "2024-12-20T16:45:22.890Z"
   },
   {
    "duration": 0,
    "start_time": "2024-12-20T16:45:22.892Z"
   },
   {
    "duration": 0,
    "start_time": "2024-12-20T16:45:22.893Z"
   },
   {
    "duration": 0,
    "start_time": "2024-12-20T16:45:22.894Z"
   },
   {
    "duration": 0,
    "start_time": "2024-12-20T16:45:22.896Z"
   },
   {
    "duration": 0,
    "start_time": "2024-12-20T16:45:22.897Z"
   },
   {
    "duration": 0,
    "start_time": "2024-12-20T16:45:22.898Z"
   },
   {
    "duration": 0,
    "start_time": "2024-12-20T16:45:22.900Z"
   },
   {
    "duration": 0,
    "start_time": "2024-12-20T16:45:22.901Z"
   },
   {
    "duration": 0,
    "start_time": "2024-12-20T16:45:22.902Z"
   },
   {
    "duration": 0,
    "start_time": "2024-12-20T16:45:22.904Z"
   },
   {
    "duration": 102,
    "start_time": "2024-12-20T16:45:22.908Z"
   },
   {
    "duration": 0,
    "start_time": "2024-12-20T16:45:23.012Z"
   },
   {
    "duration": 0,
    "start_time": "2024-12-20T16:45:23.013Z"
   },
   {
    "duration": 2701,
    "start_time": "2024-12-20T16:45:32.688Z"
   },
   {
    "duration": 2652,
    "start_time": "2024-12-20T16:46:01.986Z"
   },
   {
    "duration": 1189,
    "start_time": "2024-12-20T16:46:04.640Z"
   },
   {
    "duration": 42,
    "start_time": "2024-12-20T16:46:05.830Z"
   },
   {
    "duration": 21,
    "start_time": "2024-12-20T16:46:05.875Z"
   },
   {
    "duration": 3,
    "start_time": "2024-12-20T16:46:05.898Z"
   },
   {
    "duration": 59,
    "start_time": "2024-12-20T16:46:05.903Z"
   },
   {
    "duration": 59,
    "start_time": "2024-12-20T16:46:05.963Z"
   },
   {
    "duration": 25,
    "start_time": "2024-12-20T16:46:06.024Z"
   },
   {
    "duration": 29,
    "start_time": "2024-12-20T16:46:06.051Z"
   },
   {
    "duration": 51,
    "start_time": "2024-12-20T16:46:06.082Z"
   },
   {
    "duration": 46,
    "start_time": "2024-12-20T16:46:06.134Z"
   },
   {
    "duration": 47,
    "start_time": "2024-12-20T16:46:06.181Z"
   },
   {
    "duration": 93,
    "start_time": "2024-12-20T16:46:06.230Z"
   },
   {
    "duration": 18,
    "start_time": "2024-12-20T16:46:06.324Z"
   },
   {
    "duration": 23,
    "start_time": "2024-12-20T16:46:06.343Z"
   },
   {
    "duration": 46,
    "start_time": "2024-12-20T16:46:06.367Z"
   },
   {
    "duration": 26,
    "start_time": "2024-12-20T16:46:06.414Z"
   },
   {
    "duration": 18,
    "start_time": "2024-12-20T16:46:06.442Z"
   },
   {
    "duration": 3,
    "start_time": "2024-12-20T16:46:06.462Z"
   },
   {
    "duration": 61,
    "start_time": "2024-12-20T16:46:06.467Z"
   },
   {
    "duration": 38,
    "start_time": "2024-12-20T16:46:06.530Z"
   },
   {
    "duration": 216,
    "start_time": "2024-12-20T16:46:06.570Z"
   },
   {
    "duration": 160,
    "start_time": "2024-12-20T16:46:06.788Z"
   },
   {
    "duration": 22,
    "start_time": "2024-12-20T16:46:06.950Z"
   },
   {
    "duration": 151,
    "start_time": "2024-12-20T16:46:06.974Z"
   },
   {
    "duration": 21,
    "start_time": "2024-12-20T16:46:07.126Z"
   },
   {
    "duration": 196,
    "start_time": "2024-12-20T16:46:07.149Z"
   },
   {
    "duration": 311,
    "start_time": "2024-12-20T16:46:07.348Z"
   },
   {
    "duration": 288,
    "start_time": "2024-12-20T16:46:07.660Z"
   },
   {
    "duration": 120,
    "start_time": "2024-12-20T16:46:07.949Z"
   },
   {
    "duration": 3,
    "start_time": "2024-12-20T16:46:08.071Z"
   },
   {
    "duration": 928,
    "start_time": "2024-12-20T16:46:08.076Z"
   },
   {
    "duration": 481,
    "start_time": "2024-12-20T16:46:09.005Z"
   },
   {
    "duration": 219,
    "start_time": "2024-12-20T16:46:09.488Z"
   },
   {
    "duration": 199,
    "start_time": "2024-12-20T16:46:09.708Z"
   },
   {
    "duration": 4,
    "start_time": "2024-12-20T16:46:09.909Z"
   },
   {
    "duration": 214,
    "start_time": "2024-12-20T16:46:09.914Z"
   },
   {
    "duration": 581,
    "start_time": "2024-12-20T16:46:10.130Z"
   },
   {
    "duration": 427,
    "start_time": "2024-12-20T16:46:10.713Z"
   },
   {
    "duration": 569,
    "start_time": "2024-12-20T16:46:11.142Z"
   },
   {
    "duration": 459,
    "start_time": "2024-12-20T16:49:00.405Z"
   },
   {
    "duration": 462,
    "start_time": "2024-12-20T16:49:21.366Z"
   },
   {
    "duration": 1489,
    "start_time": "2024-12-20T16:50:07.926Z"
   },
   {
    "duration": 1524,
    "start_time": "2024-12-20T16:50:18.104Z"
   },
   {
    "duration": 1419,
    "start_time": "2024-12-20T16:50:32.751Z"
   },
   {
    "duration": 1490,
    "start_time": "2024-12-20T16:50:36.623Z"
   },
   {
    "duration": 582,
    "start_time": "2024-12-20T16:55:50.048Z"
   },
   {
    "duration": 1469,
    "start_time": "2024-12-20T17:04:41.360Z"
   },
   {
    "duration": 4,
    "start_time": "2024-12-20T17:15:36.050Z"
   },
   {
    "duration": 464,
    "start_time": "2024-12-20T17:15:46.682Z"
   },
   {
    "duration": 2711,
    "start_time": "2024-12-20T17:20:01.302Z"
   },
   {
    "duration": 1213,
    "start_time": "2024-12-20T17:20:04.016Z"
   },
   {
    "duration": 41,
    "start_time": "2024-12-20T17:20:05.231Z"
   },
   {
    "duration": 62,
    "start_time": "2024-12-20T17:20:05.275Z"
   },
   {
    "duration": 14,
    "start_time": "2024-12-20T17:20:05.338Z"
   },
   {
    "duration": 52,
    "start_time": "2024-12-20T17:20:05.353Z"
   },
   {
    "duration": 168,
    "start_time": "2024-12-20T17:20:05.406Z"
   },
   {
    "duration": 13,
    "start_time": "2024-12-20T17:20:05.575Z"
   },
   {
    "duration": 171,
    "start_time": "2024-12-20T17:20:05.590Z"
   },
   {
    "duration": 45,
    "start_time": "2024-12-20T17:20:05.764Z"
   },
   {
    "duration": 5,
    "start_time": "2024-12-20T17:20:05.811Z"
   },
   {
    "duration": 36,
    "start_time": "2024-12-20T17:20:05.817Z"
   },
   {
    "duration": 59,
    "start_time": "2024-12-20T17:20:05.854Z"
   },
   {
    "duration": 29,
    "start_time": "2024-12-20T17:20:05.915Z"
   },
   {
    "duration": 34,
    "start_time": "2024-12-20T17:20:05.945Z"
   },
   {
    "duration": 47,
    "start_time": "2024-12-20T17:20:05.980Z"
   },
   {
    "duration": 36,
    "start_time": "2024-12-20T17:20:06.029Z"
   },
   {
    "duration": 51,
    "start_time": "2024-12-20T17:20:06.066Z"
   },
   {
    "duration": 34,
    "start_time": "2024-12-20T17:20:06.118Z"
   },
   {
    "duration": 150,
    "start_time": "2024-12-20T17:20:06.154Z"
   },
   {
    "duration": 38,
    "start_time": "2024-12-20T17:20:06.305Z"
   },
   {
    "duration": 219,
    "start_time": "2024-12-20T17:20:06.345Z"
   },
   {
    "duration": 161,
    "start_time": "2024-12-20T17:20:06.566Z"
   },
   {
    "duration": 23,
    "start_time": "2024-12-20T17:20:06.728Z"
   },
   {
    "duration": 151,
    "start_time": "2024-12-20T17:20:06.753Z"
   },
   {
    "duration": 22,
    "start_time": "2024-12-20T17:20:06.905Z"
   },
   {
    "duration": 248,
    "start_time": "2024-12-20T17:20:06.929Z"
   },
   {
    "duration": 314,
    "start_time": "2024-12-20T17:20:07.186Z"
   },
   {
    "duration": 298,
    "start_time": "2024-12-20T17:20:07.501Z"
   },
   {
    "duration": 134,
    "start_time": "2024-12-20T17:20:07.801Z"
   },
   {
    "duration": 4,
    "start_time": "2024-12-20T17:20:07.937Z"
   },
   {
    "duration": 967,
    "start_time": "2024-12-20T17:20:07.942Z"
   },
   {
    "duration": 481,
    "start_time": "2024-12-20T17:20:08.910Z"
   },
   {
    "duration": 262,
    "start_time": "2024-12-20T17:20:09.393Z"
   },
   {
    "duration": 207,
    "start_time": "2024-12-20T17:20:09.656Z"
   },
   {
    "duration": 4,
    "start_time": "2024-12-20T17:20:09.865Z"
   },
   {
    "duration": 228,
    "start_time": "2024-12-20T17:20:09.871Z"
   },
   {
    "duration": 632,
    "start_time": "2024-12-20T17:20:10.101Z"
   },
   {
    "duration": 429,
    "start_time": "2024-12-20T17:20:10.734Z"
   },
   {
    "duration": 484,
    "start_time": "2024-12-20T17:20:11.164Z"
   },
   {
    "duration": 1470,
    "start_time": "2024-12-20T17:20:11.649Z"
   },
   {
    "duration": 22,
    "start_time": "2024-12-20T17:26:38.196Z"
   },
   {
    "duration": 127,
    "start_time": "2024-12-20T17:27:55.136Z"
   },
   {
    "duration": 28,
    "start_time": "2024-12-20T17:28:04.856Z"
   },
   {
    "duration": 2743,
    "start_time": "2024-12-20T17:29:11.195Z"
   },
   {
    "duration": 1175,
    "start_time": "2024-12-20T17:29:13.940Z"
   },
   {
    "duration": 41,
    "start_time": "2024-12-20T17:29:15.117Z"
   },
   {
    "duration": 23,
    "start_time": "2024-12-20T17:29:15.160Z"
   },
   {
    "duration": 4,
    "start_time": "2024-12-20T17:29:15.184Z"
   },
   {
    "duration": 14,
    "start_time": "2024-12-20T17:29:15.189Z"
   },
   {
    "duration": 24,
    "start_time": "2024-12-20T17:29:15.204Z"
   },
   {
    "duration": 40,
    "start_time": "2024-12-20T17:29:15.230Z"
   },
   {
    "duration": 58,
    "start_time": "2024-12-20T17:29:15.272Z"
   },
   {
    "duration": 27,
    "start_time": "2024-12-20T17:29:15.332Z"
   },
   {
    "duration": 8,
    "start_time": "2024-12-20T17:29:15.361Z"
   },
   {
    "duration": 6,
    "start_time": "2024-12-20T17:29:15.371Z"
   },
   {
    "duration": 7,
    "start_time": "2024-12-20T17:29:15.378Z"
   },
   {
    "duration": 6,
    "start_time": "2024-12-20T17:29:15.386Z"
   },
   {
    "duration": 10,
    "start_time": "2024-12-20T17:29:15.394Z"
   },
   {
    "duration": 7,
    "start_time": "2024-12-20T17:29:15.406Z"
   },
   {
    "duration": 5,
    "start_time": "2024-12-20T17:29:15.414Z"
   },
   {
    "duration": 25,
    "start_time": "2024-12-20T17:29:15.421Z"
   },
   {
    "duration": 4,
    "start_time": "2024-12-20T17:29:15.447Z"
   },
   {
    "duration": 110,
    "start_time": "2024-12-20T17:29:15.452Z"
   },
   {
    "duration": 41,
    "start_time": "2024-12-20T17:29:15.564Z"
   },
   {
    "duration": 174,
    "start_time": "2024-12-20T17:29:15.607Z"
   },
   {
    "duration": 22,
    "start_time": "2024-12-20T17:29:15.786Z"
   },
   {
    "duration": 217,
    "start_time": "2024-12-20T17:29:15.809Z"
   },
   {
    "duration": 149,
    "start_time": "2024-12-20T17:29:16.027Z"
   },
   {
    "duration": 28,
    "start_time": "2024-12-20T17:29:16.177Z"
   },
   {
    "duration": 200,
    "start_time": "2024-12-20T17:29:16.207Z"
   },
   {
    "duration": 321,
    "start_time": "2024-12-20T17:29:16.410Z"
   },
   {
    "duration": 294,
    "start_time": "2024-12-20T17:29:16.733Z"
   },
   {
    "duration": 122,
    "start_time": "2024-12-20T17:29:17.029Z"
   },
   {
    "duration": 4,
    "start_time": "2024-12-20T17:29:17.152Z"
   },
   {
    "duration": 944,
    "start_time": "2024-12-20T17:29:17.157Z"
   },
   {
    "duration": 471,
    "start_time": "2024-12-20T17:29:18.102Z"
   },
   {
    "duration": 220,
    "start_time": "2024-12-20T17:29:18.575Z"
   },
   {
    "duration": 204,
    "start_time": "2024-12-20T17:29:18.797Z"
   },
   {
    "duration": 4,
    "start_time": "2024-12-20T17:29:19.003Z"
   },
   {
    "duration": 208,
    "start_time": "2024-12-20T17:29:19.008Z"
   },
   {
    "duration": 647,
    "start_time": "2024-12-20T17:29:19.218Z"
   },
   {
    "duration": 430,
    "start_time": "2024-12-20T17:29:19.867Z"
   },
   {
    "duration": 452,
    "start_time": "2024-12-20T17:29:20.299Z"
   },
   {
    "duration": 1419,
    "start_time": "2024-12-20T17:29:20.753Z"
   },
   {
    "duration": 3,
    "start_time": "2024-12-22T12:36:58.804Z"
   },
   {
    "duration": 107,
    "start_time": "2024-12-22T12:37:08.835Z"
   },
   {
    "duration": 83,
    "start_time": "2024-12-22T12:37:17.767Z"
   },
   {
    "duration": 0,
    "start_time": "2024-12-22T12:37:17.851Z"
   },
   {
    "duration": 0,
    "start_time": "2024-12-22T12:37:17.853Z"
   },
   {
    "duration": 0,
    "start_time": "2024-12-22T12:37:17.853Z"
   },
   {
    "duration": 45,
    "start_time": "2024-12-22T12:37:18.248Z"
   },
   {
    "duration": 0,
    "start_time": "2024-12-22T12:37:18.296Z"
   },
   {
    "duration": 0,
    "start_time": "2024-12-22T12:37:18.297Z"
   },
   {
    "duration": 0,
    "start_time": "2024-12-22T12:37:18.298Z"
   },
   {
    "duration": 0,
    "start_time": "2024-12-22T12:37:18.299Z"
   },
   {
    "duration": 0,
    "start_time": "2024-12-22T12:37:18.301Z"
   },
   {
    "duration": 0,
    "start_time": "2024-12-22T12:37:18.302Z"
   },
   {
    "duration": 0,
    "start_time": "2024-12-22T12:37:18.303Z"
   },
   {
    "duration": 0,
    "start_time": "2024-12-22T12:37:18.304Z"
   },
   {
    "duration": 0,
    "start_time": "2024-12-22T12:37:18.305Z"
   },
   {
    "duration": 0,
    "start_time": "2024-12-22T12:37:18.307Z"
   },
   {
    "duration": 0,
    "start_time": "2024-12-22T12:37:18.307Z"
   },
   {
    "duration": 0,
    "start_time": "2024-12-22T12:37:18.309Z"
   },
   {
    "duration": 0,
    "start_time": "2024-12-22T12:37:18.310Z"
   },
   {
    "duration": 0,
    "start_time": "2024-12-22T12:37:18.331Z"
   },
   {
    "duration": 0,
    "start_time": "2024-12-22T12:37:18.332Z"
   },
   {
    "duration": 0,
    "start_time": "2024-12-22T12:37:18.333Z"
   },
   {
    "duration": 0,
    "start_time": "2024-12-22T12:37:18.334Z"
   },
   {
    "duration": 0,
    "start_time": "2024-12-22T12:37:18.336Z"
   },
   {
    "duration": 0,
    "start_time": "2024-12-22T12:37:18.337Z"
   },
   {
    "duration": 0,
    "start_time": "2024-12-22T12:37:18.338Z"
   },
   {
    "duration": 0,
    "start_time": "2024-12-22T12:37:18.339Z"
   },
   {
    "duration": 0,
    "start_time": "2024-12-22T12:37:18.340Z"
   },
   {
    "duration": 0,
    "start_time": "2024-12-22T12:37:18.341Z"
   },
   {
    "duration": 0,
    "start_time": "2024-12-22T12:37:18.342Z"
   },
   {
    "duration": 0,
    "start_time": "2024-12-22T12:37:18.343Z"
   },
   {
    "duration": 0,
    "start_time": "2024-12-22T12:37:18.344Z"
   },
   {
    "duration": 0,
    "start_time": "2024-12-22T12:37:18.345Z"
   },
   {
    "duration": 0,
    "start_time": "2024-12-22T12:37:18.346Z"
   },
   {
    "duration": 1,
    "start_time": "2024-12-22T12:37:18.347Z"
   },
   {
    "duration": 0,
    "start_time": "2024-12-22T12:37:18.348Z"
   },
   {
    "duration": 0,
    "start_time": "2024-12-22T12:37:18.350Z"
   },
   {
    "duration": 0,
    "start_time": "2024-12-22T12:37:18.351Z"
   },
   {
    "duration": 0,
    "start_time": "2024-12-22T12:37:18.352Z"
   },
   {
    "duration": 0,
    "start_time": "2024-12-22T12:37:18.353Z"
   },
   {
    "duration": 0,
    "start_time": "2024-12-22T12:37:18.354Z"
   },
   {
    "duration": 7,
    "start_time": "2024-12-22T12:37:19.471Z"
   },
   {
    "duration": 101,
    "start_time": "2024-12-22T12:37:36.808Z"
   },
   {
    "duration": 0,
    "start_time": "2024-12-22T12:37:36.911Z"
   },
   {
    "duration": 0,
    "start_time": "2024-12-22T12:37:36.912Z"
   },
   {
    "duration": 0,
    "start_time": "2024-12-22T12:37:36.913Z"
   },
   {
    "duration": 0,
    "start_time": "2024-12-22T12:37:36.915Z"
   },
   {
    "duration": 0,
    "start_time": "2024-12-22T12:37:36.916Z"
   },
   {
    "duration": 0,
    "start_time": "2024-12-22T12:37:36.917Z"
   },
   {
    "duration": 0,
    "start_time": "2024-12-22T12:37:36.918Z"
   },
   {
    "duration": 0,
    "start_time": "2024-12-22T12:37:36.919Z"
   },
   {
    "duration": 0,
    "start_time": "2024-12-22T12:37:36.920Z"
   },
   {
    "duration": 0,
    "start_time": "2024-12-22T12:37:36.920Z"
   },
   {
    "duration": 0,
    "start_time": "2024-12-22T12:37:36.921Z"
   },
   {
    "duration": 0,
    "start_time": "2024-12-22T12:37:36.922Z"
   },
   {
    "duration": 0,
    "start_time": "2024-12-22T12:37:36.923Z"
   },
   {
    "duration": 0,
    "start_time": "2024-12-22T12:37:36.924Z"
   },
   {
    "duration": 0,
    "start_time": "2024-12-22T12:37:36.925Z"
   },
   {
    "duration": 0,
    "start_time": "2024-12-22T12:37:36.926Z"
   },
   {
    "duration": 0,
    "start_time": "2024-12-22T12:37:36.927Z"
   },
   {
    "duration": 0,
    "start_time": "2024-12-22T12:37:36.928Z"
   },
   {
    "duration": 0,
    "start_time": "2024-12-22T12:37:36.929Z"
   },
   {
    "duration": 0,
    "start_time": "2024-12-22T12:37:36.930Z"
   },
   {
    "duration": 0,
    "start_time": "2024-12-22T12:37:36.932Z"
   },
   {
    "duration": 0,
    "start_time": "2024-12-22T12:37:36.933Z"
   },
   {
    "duration": 0,
    "start_time": "2024-12-22T12:37:36.935Z"
   },
   {
    "duration": 0,
    "start_time": "2024-12-22T12:37:36.936Z"
   },
   {
    "duration": 96,
    "start_time": "2024-12-22T12:37:36.939Z"
   },
   {
    "duration": 0,
    "start_time": "2024-12-22T12:37:37.036Z"
   },
   {
    "duration": 0,
    "start_time": "2024-12-22T12:37:37.037Z"
   },
   {
    "duration": 0,
    "start_time": "2024-12-22T12:37:37.038Z"
   },
   {
    "duration": 0,
    "start_time": "2024-12-22T12:37:37.040Z"
   },
   {
    "duration": 0,
    "start_time": "2024-12-22T12:37:37.041Z"
   },
   {
    "duration": 0,
    "start_time": "2024-12-22T12:37:37.042Z"
   },
   {
    "duration": 0,
    "start_time": "2024-12-22T12:37:37.042Z"
   },
   {
    "duration": 0,
    "start_time": "2024-12-22T12:37:37.043Z"
   },
   {
    "duration": 0,
    "start_time": "2024-12-22T12:37:37.045Z"
   },
   {
    "duration": 0,
    "start_time": "2024-12-22T12:37:37.046Z"
   },
   {
    "duration": 0,
    "start_time": "2024-12-22T12:37:37.046Z"
   },
   {
    "duration": 0,
    "start_time": "2024-12-22T12:37:37.047Z"
   },
   {
    "duration": 7,
    "start_time": "2024-12-22T12:37:38.609Z"
   },
   {
    "duration": 0,
    "start_time": "2024-12-22T12:37:38.617Z"
   },
   {
    "duration": 0,
    "start_time": "2024-12-22T12:37:38.618Z"
   },
   {
    "duration": 3801,
    "start_time": "2024-12-22T12:37:59.655Z"
   },
   {
    "duration": 1551,
    "start_time": "2024-12-22T12:38:03.459Z"
   },
   {
    "duration": 178,
    "start_time": "2024-12-22T12:38:05.012Z"
   },
   {
    "duration": 27,
    "start_time": "2024-12-22T12:38:05.191Z"
   },
   {
    "duration": 4,
    "start_time": "2024-12-22T12:38:05.220Z"
   },
   {
    "duration": 32,
    "start_time": "2024-12-22T12:38:05.225Z"
   },
   {
    "duration": 21,
    "start_time": "2024-12-22T12:38:05.259Z"
   },
   {
    "duration": 10,
    "start_time": "2024-12-22T12:38:05.282Z"
   },
   {
    "duration": 46,
    "start_time": "2024-12-22T12:38:05.294Z"
   },
   {
    "duration": 50,
    "start_time": "2024-12-22T12:38:05.342Z"
   },
   {
    "duration": 60,
    "start_time": "2024-12-22T12:38:05.394Z"
   },
   {
    "duration": 22,
    "start_time": "2024-12-22T12:38:05.456Z"
   },
   {
    "duration": 31,
    "start_time": "2024-12-22T12:38:05.480Z"
   },
   {
    "duration": 17,
    "start_time": "2024-12-22T12:38:05.515Z"
   },
   {
    "duration": 56,
    "start_time": "2024-12-22T12:38:05.534Z"
   },
   {
    "duration": 61,
    "start_time": "2024-12-22T12:38:05.592Z"
   },
   {
    "duration": 24,
    "start_time": "2024-12-22T12:38:05.655Z"
   },
   {
    "duration": 59,
    "start_time": "2024-12-22T12:38:05.680Z"
   },
   {
    "duration": 78,
    "start_time": "2024-12-22T12:38:05.740Z"
   },
   {
    "duration": 200,
    "start_time": "2024-12-22T12:38:05.820Z"
   },
   {
    "duration": 57,
    "start_time": "2024-12-22T12:38:06.023Z"
   },
   {
    "duration": 186,
    "start_time": "2024-12-22T12:38:06.082Z"
   },
   {
    "duration": 27,
    "start_time": "2024-12-22T12:38:06.270Z"
   },
   {
    "duration": 266,
    "start_time": "2024-12-22T12:38:06.299Z"
   },
   {
    "duration": 163,
    "start_time": "2024-12-22T12:38:06.567Z"
   },
   {
    "duration": 24,
    "start_time": "2024-12-22T12:38:06.732Z"
   },
   {
    "duration": 214,
    "start_time": "2024-12-22T12:38:06.758Z"
   },
   {
    "duration": 369,
    "start_time": "2024-12-22T12:38:06.975Z"
   },
   {
    "duration": 340,
    "start_time": "2024-12-22T12:38:07.347Z"
   },
   {
    "duration": 130,
    "start_time": "2024-12-22T12:38:07.689Z"
   },
   {
    "duration": 6,
    "start_time": "2024-12-22T12:38:07.829Z"
   },
   {
    "duration": 1246,
    "start_time": "2024-12-22T12:38:07.837Z"
   },
   {
    "duration": 554,
    "start_time": "2024-12-22T12:38:09.085Z"
   },
   {
    "duration": 235,
    "start_time": "2024-12-22T12:38:09.641Z"
   },
   {
    "duration": 217,
    "start_time": "2024-12-22T12:38:09.879Z"
   },
   {
    "duration": 5,
    "start_time": "2024-12-22T12:38:10.099Z"
   },
   {
    "duration": 235,
    "start_time": "2024-12-22T12:38:10.105Z"
   },
   {
    "duration": 688,
    "start_time": "2024-12-22T12:38:10.342Z"
   },
   {
    "duration": 514,
    "start_time": "2024-12-22T12:38:11.031Z"
   },
   {
    "duration": 555,
    "start_time": "2024-12-22T12:38:11.547Z"
   },
   {
    "duration": 1633,
    "start_time": "2024-12-22T12:38:12.106Z"
   },
   {
    "duration": 25,
    "start_time": "2024-12-22T12:41:59.253Z"
   },
   {
    "duration": 25,
    "start_time": "2024-12-22T12:43:00.916Z"
   },
   {
    "duration": 506,
    "start_time": "2024-12-22T12:44:04.889Z"
   },
   {
    "duration": 26,
    "start_time": "2024-12-22T12:44:19.996Z"
   },
   {
    "duration": 21,
    "start_time": "2024-12-22T12:51:24.582Z"
   },
   {
    "duration": 25,
    "start_time": "2024-12-22T13:07:31.169Z"
   },
   {
    "duration": 2436,
    "start_time": "2024-12-22T13:08:16.817Z"
   },
   {
    "duration": 1295,
    "start_time": "2024-12-22T13:08:19.255Z"
   },
   {
    "duration": 43,
    "start_time": "2024-12-22T13:08:20.551Z"
   },
   {
    "duration": 25,
    "start_time": "2024-12-22T13:08:20.596Z"
   },
   {
    "duration": 4,
    "start_time": "2024-12-22T13:08:20.622Z"
   },
   {
    "duration": 26,
    "start_time": "2024-12-22T13:08:20.627Z"
   },
   {
    "duration": 46,
    "start_time": "2024-12-22T13:08:20.654Z"
   },
   {
    "duration": 27,
    "start_time": "2024-12-22T13:08:20.701Z"
   },
   {
    "duration": 40,
    "start_time": "2024-12-22T13:08:20.729Z"
   },
   {
    "duration": 43,
    "start_time": "2024-12-22T13:08:20.771Z"
   },
   {
    "duration": 10,
    "start_time": "2024-12-22T13:08:20.816Z"
   },
   {
    "duration": 29,
    "start_time": "2024-12-22T13:08:20.828Z"
   },
   {
    "duration": 71,
    "start_time": "2024-12-22T13:08:20.859Z"
   },
   {
    "duration": 27,
    "start_time": "2024-12-22T13:08:20.932Z"
   },
   {
    "duration": 33,
    "start_time": "2024-12-22T13:08:20.961Z"
   },
   {
    "duration": 30,
    "start_time": "2024-12-22T13:08:20.996Z"
   },
   {
    "duration": 14,
    "start_time": "2024-12-22T13:08:21.028Z"
   },
   {
    "duration": 22,
    "start_time": "2024-12-22T13:08:21.044Z"
   },
   {
    "duration": 8,
    "start_time": "2024-12-22T13:08:21.069Z"
   },
   {
    "duration": 73,
    "start_time": "2024-12-22T13:08:21.079Z"
   },
   {
    "duration": 43,
    "start_time": "2024-12-22T13:08:21.154Z"
   },
   {
    "duration": 196,
    "start_time": "2024-12-22T13:08:21.199Z"
   },
   {
    "duration": 34,
    "start_time": "2024-12-22T13:08:21.398Z"
   },
   {
    "duration": 221,
    "start_time": "2024-12-22T13:08:21.434Z"
   },
   {
    "duration": 160,
    "start_time": "2024-12-22T13:08:21.657Z"
   },
   {
    "duration": 34,
    "start_time": "2024-12-22T13:08:21.819Z"
   },
   {
    "duration": 273,
    "start_time": "2024-12-22T13:08:21.855Z"
   },
   {
    "duration": 22,
    "start_time": "2024-12-22T13:08:22.132Z"
   },
   {
    "duration": 376,
    "start_time": "2024-12-22T13:08:22.156Z"
   },
   {
    "duration": 23,
    "start_time": "2024-12-22T13:08:22.533Z"
   },
   {
    "duration": 334,
    "start_time": "2024-12-22T13:08:22.558Z"
   },
   {
    "duration": 139,
    "start_time": "2024-12-22T13:08:22.894Z"
   },
   {
    "duration": 1115,
    "start_time": "2024-12-22T13:08:23.034Z"
   },
   {
    "duration": 552,
    "start_time": "2024-12-22T13:08:24.150Z"
   },
   {
    "duration": 35,
    "start_time": "2024-12-22T13:08:24.703Z"
   },
   {
    "duration": 227,
    "start_time": "2024-12-22T13:08:24.739Z"
   },
   {
    "duration": 222,
    "start_time": "2024-12-22T13:08:24.968Z"
   },
   {
    "duration": 5,
    "start_time": "2024-12-22T13:08:25.192Z"
   },
   {
    "duration": 220,
    "start_time": "2024-12-22T13:08:25.199Z"
   },
   {
    "duration": 729,
    "start_time": "2024-12-22T13:08:25.421Z"
   },
   {
    "duration": 501,
    "start_time": "2024-12-22T13:08:26.152Z"
   },
   {
    "duration": 479,
    "start_time": "2024-12-22T13:08:26.654Z"
   },
   {
    "duration": 1652,
    "start_time": "2024-12-22T13:08:27.135Z"
   },
   {
    "duration": 2464,
    "start_time": "2024-12-22T13:09:02.035Z"
   },
   {
    "duration": 1380,
    "start_time": "2024-12-22T13:09:04.501Z"
   },
   {
    "duration": 44,
    "start_time": "2024-12-22T13:09:05.883Z"
   },
   {
    "duration": 35,
    "start_time": "2024-12-22T13:09:05.930Z"
   },
   {
    "duration": 4,
    "start_time": "2024-12-22T13:09:05.967Z"
   },
   {
    "duration": 82,
    "start_time": "2024-12-22T13:09:05.973Z"
   },
   {
    "duration": 29,
    "start_time": "2024-12-22T13:09:06.058Z"
   },
   {
    "duration": 10,
    "start_time": "2024-12-22T13:09:06.089Z"
   },
   {
    "duration": 32,
    "start_time": "2024-12-22T13:09:06.101Z"
   },
   {
    "duration": 17,
    "start_time": "2024-12-22T13:09:06.136Z"
   },
   {
    "duration": 15,
    "start_time": "2024-12-22T13:09:06.155Z"
   },
   {
    "duration": 34,
    "start_time": "2024-12-22T13:09:06.171Z"
   },
   {
    "duration": 34,
    "start_time": "2024-12-22T13:09:06.207Z"
   },
   {
    "duration": 12,
    "start_time": "2024-12-22T13:09:06.243Z"
   },
   {
    "duration": 21,
    "start_time": "2024-12-22T13:09:06.257Z"
   },
   {
    "duration": 32,
    "start_time": "2024-12-22T13:09:06.280Z"
   },
   {
    "duration": 81,
    "start_time": "2024-12-22T13:09:06.313Z"
   },
   {
    "duration": 104,
    "start_time": "2024-12-22T13:09:06.395Z"
   },
   {
    "duration": 10,
    "start_time": "2024-12-22T13:09:06.500Z"
   },
   {
    "duration": 40,
    "start_time": "2024-12-22T13:09:06.511Z"
   },
   {
    "duration": 54,
    "start_time": "2024-12-22T13:09:06.553Z"
   },
   {
    "duration": 41,
    "start_time": "2024-12-22T13:09:06.608Z"
   },
   {
    "duration": 183,
    "start_time": "2024-12-22T13:09:06.651Z"
   },
   {
    "duration": 27,
    "start_time": "2024-12-22T13:09:06.836Z"
   },
   {
    "duration": 235,
    "start_time": "2024-12-22T13:09:06.864Z"
   },
   {
    "duration": 158,
    "start_time": "2024-12-22T13:09:07.101Z"
   },
   {
    "duration": 28,
    "start_time": "2024-12-22T13:09:07.260Z"
   },
   {
    "duration": 218,
    "start_time": "2024-12-22T13:09:07.292Z"
   },
   {
    "duration": 33,
    "start_time": "2024-12-22T13:09:07.512Z"
   },
   {
    "duration": 356,
    "start_time": "2024-12-22T13:09:07.546Z"
   },
   {
    "duration": 36,
    "start_time": "2024-12-22T13:09:07.904Z"
   },
   {
    "duration": 466,
    "start_time": "2024-12-22T13:09:07.942Z"
   },
   {
    "duration": 136,
    "start_time": "2024-12-22T13:09:08.410Z"
   },
   {
    "duration": 1076,
    "start_time": "2024-12-22T13:09:08.548Z"
   },
   {
    "duration": 562,
    "start_time": "2024-12-22T13:09:09.630Z"
   },
   {
    "duration": 37,
    "start_time": "2024-12-22T13:09:10.195Z"
   },
   {
    "duration": 233,
    "start_time": "2024-12-22T13:09:10.235Z"
   },
   {
    "duration": 219,
    "start_time": "2024-12-22T13:09:10.470Z"
   },
   {
    "duration": 5,
    "start_time": "2024-12-22T13:09:10.691Z"
   },
   {
    "duration": 246,
    "start_time": "2024-12-22T13:09:10.698Z"
   },
   {
    "duration": 684,
    "start_time": "2024-12-22T13:09:10.946Z"
   },
   {
    "duration": 539,
    "start_time": "2024-12-22T13:09:11.632Z"
   },
   {
    "duration": 497,
    "start_time": "2024-12-22T13:09:12.173Z"
   },
   {
    "duration": 1659,
    "start_time": "2024-12-22T13:09:12.672Z"
   },
   {
    "duration": 2492,
    "start_time": "2024-12-22T13:09:29.799Z"
   },
   {
    "duration": 1279,
    "start_time": "2024-12-22T13:09:32.293Z"
   },
   {
    "duration": 42,
    "start_time": "2024-12-22T13:09:33.574Z"
   },
   {
    "duration": 23,
    "start_time": "2024-12-22T13:09:33.618Z"
   },
   {
    "duration": 8,
    "start_time": "2024-12-22T13:09:33.643Z"
   },
   {
    "duration": 8,
    "start_time": "2024-12-22T13:09:33.653Z"
   },
   {
    "duration": 21,
    "start_time": "2024-12-22T13:09:33.662Z"
   },
   {
    "duration": 11,
    "start_time": "2024-12-22T13:09:33.684Z"
   },
   {
    "duration": 44,
    "start_time": "2024-12-22T13:09:33.697Z"
   },
   {
    "duration": 17,
    "start_time": "2024-12-22T13:09:33.744Z"
   },
   {
    "duration": 145,
    "start_time": "2024-12-22T13:09:33.763Z"
   },
   {
    "duration": 67,
    "start_time": "2024-12-22T13:09:33.910Z"
   },
   {
    "duration": 165,
    "start_time": "2024-12-22T13:09:33.979Z"
   },
   {
    "duration": 8,
    "start_time": "2024-12-22T13:09:34.149Z"
   },
   {
    "duration": 41,
    "start_time": "2024-12-22T13:09:34.159Z"
   },
   {
    "duration": 23,
    "start_time": "2024-12-22T13:09:34.202Z"
   },
   {
    "duration": 16,
    "start_time": "2024-12-22T13:09:34.227Z"
   },
   {
    "duration": 25,
    "start_time": "2024-12-22T13:09:34.245Z"
   },
   {
    "duration": 5,
    "start_time": "2024-12-22T13:09:34.272Z"
   },
   {
    "duration": 70,
    "start_time": "2024-12-22T13:09:34.279Z"
   },
   {
    "duration": 42,
    "start_time": "2024-12-22T13:09:34.351Z"
   },
   {
    "duration": 234,
    "start_time": "2024-12-22T13:09:34.395Z"
   },
   {
    "duration": 26,
    "start_time": "2024-12-22T13:09:34.631Z"
   },
   {
    "duration": 228,
    "start_time": "2024-12-22T13:09:34.659Z"
   },
   {
    "duration": 159,
    "start_time": "2024-12-22T13:09:34.889Z"
   },
   {
    "duration": 25,
    "start_time": "2024-12-22T13:09:35.050Z"
   },
   {
    "duration": 210,
    "start_time": "2024-12-22T13:09:35.077Z"
   },
   {
    "duration": 24,
    "start_time": "2024-12-22T13:09:35.289Z"
   },
   {
    "duration": 363,
    "start_time": "2024-12-22T13:09:35.315Z"
   },
   {
    "duration": 21,
    "start_time": "2024-12-22T13:09:35.680Z"
   },
   {
    "duration": 353,
    "start_time": "2024-12-22T13:09:35.703Z"
   },
   {
    "duration": 139,
    "start_time": "2024-12-22T13:09:36.058Z"
   },
   {
    "duration": 1098,
    "start_time": "2024-12-22T13:09:36.199Z"
   },
   {
    "duration": 547,
    "start_time": "2024-12-22T13:09:37.299Z"
   },
   {
    "duration": 22,
    "start_time": "2024-12-22T13:09:37.848Z"
   },
   {
    "duration": 311,
    "start_time": "2024-12-22T13:09:37.872Z"
   },
   {
    "duration": 223,
    "start_time": "2024-12-22T13:09:38.185Z"
   },
   {
    "duration": 5,
    "start_time": "2024-12-22T13:09:38.410Z"
   },
   {
    "duration": 232,
    "start_time": "2024-12-22T13:09:38.417Z"
   },
   {
    "duration": 672,
    "start_time": "2024-12-22T13:09:38.651Z"
   },
   {
    "duration": 495,
    "start_time": "2024-12-22T13:09:39.329Z"
   },
   {
    "duration": 517,
    "start_time": "2024-12-22T13:09:39.825Z"
   },
   {
    "duration": 1639,
    "start_time": "2024-12-22T13:09:40.344Z"
   },
   {
    "duration": 24,
    "start_time": "2024-12-22T13:18:31.193Z"
   },
   {
    "duration": 22,
    "start_time": "2024-12-22T13:19:01.356Z"
   },
   {
    "duration": 21,
    "start_time": "2024-12-22T13:19:54.031Z"
   },
   {
    "duration": 2399,
    "start_time": "2024-12-22T13:27:23.439Z"
   },
   {
    "duration": 1281,
    "start_time": "2024-12-22T13:27:25.840Z"
   },
   {
    "duration": 43,
    "start_time": "2024-12-22T13:27:27.122Z"
   },
   {
    "duration": 24,
    "start_time": "2024-12-22T13:27:27.167Z"
   },
   {
    "duration": 3,
    "start_time": "2024-12-22T13:27:27.193Z"
   },
   {
    "duration": 6,
    "start_time": "2024-12-22T13:27:27.198Z"
   },
   {
    "duration": 26,
    "start_time": "2024-12-22T13:27:27.205Z"
   },
   {
    "duration": 10,
    "start_time": "2024-12-22T13:27:27.232Z"
   },
   {
    "duration": 33,
    "start_time": "2024-12-22T13:27:27.243Z"
   },
   {
    "duration": 17,
    "start_time": "2024-12-22T13:27:27.279Z"
   },
   {
    "duration": 4,
    "start_time": "2024-12-22T13:27:27.298Z"
   },
   {
    "duration": 9,
    "start_time": "2024-12-22T13:27:27.304Z"
   },
   {
    "duration": 8,
    "start_time": "2024-12-22T13:27:27.330Z"
   },
   {
    "duration": 7,
    "start_time": "2024-12-22T13:27:27.339Z"
   },
   {
    "duration": 11,
    "start_time": "2024-12-22T13:27:27.348Z"
   },
   {
    "duration": 4,
    "start_time": "2024-12-22T13:27:27.361Z"
   },
   {
    "duration": 5,
    "start_time": "2024-12-22T13:27:27.367Z"
   },
   {
    "duration": 14,
    "start_time": "2024-12-22T13:27:27.373Z"
   },
   {
    "duration": 42,
    "start_time": "2024-12-22T13:27:27.388Z"
   },
   {
    "duration": 49,
    "start_time": "2024-12-22T13:27:27.432Z"
   },
   {
    "duration": 56,
    "start_time": "2024-12-22T13:27:27.483Z"
   },
   {
    "duration": 21,
    "start_time": "2024-12-22T13:27:27.541Z"
   },
   {
    "duration": 228,
    "start_time": "2024-12-22T13:27:27.563Z"
   },
   {
    "duration": 22,
    "start_time": "2024-12-22T13:27:27.792Z"
   },
   {
    "duration": 228,
    "start_time": "2024-12-22T13:27:27.816Z"
   },
   {
    "duration": 23,
    "start_time": "2024-12-22T13:27:28.046Z"
   },
   {
    "duration": 363,
    "start_time": "2024-12-22T13:27:28.071Z"
   },
   {
    "duration": 23,
    "start_time": "2024-12-22T13:27:28.438Z"
   },
   {
    "duration": 280,
    "start_time": "2024-12-22T13:27:28.463Z"
   },
   {
    "duration": 136,
    "start_time": "2024-12-22T13:27:28.746Z"
   },
   {
    "duration": 1153,
    "start_time": "2024-12-22T13:27:28.884Z"
   },
   {
    "duration": 457,
    "start_time": "2024-12-22T13:27:30.039Z"
   },
   {
    "duration": 21,
    "start_time": "2024-12-22T13:27:30.498Z"
   },
   {
    "duration": 324,
    "start_time": "2024-12-22T13:27:30.529Z"
   },
   {
    "duration": 22,
    "start_time": "2024-12-22T13:27:30.855Z"
   },
   {
    "duration": 229,
    "start_time": "2024-12-22T13:27:30.879Z"
   },
   {
    "duration": 214,
    "start_time": "2024-12-22T13:27:31.110Z"
   },
   {
    "duration": 678,
    "start_time": "2024-12-22T13:27:31.331Z"
   },
   {
    "duration": 403,
    "start_time": "2024-12-22T13:27:32.011Z"
   },
   {
    "duration": 500,
    "start_time": "2024-12-22T13:27:32.416Z"
   },
   {
    "duration": 1730,
    "start_time": "2024-12-22T13:27:32.917Z"
   },
   {
    "duration": 21,
    "start_time": "2024-12-22T13:32:15.706Z"
   },
   {
    "duration": 21,
    "start_time": "2024-12-22T13:32:31.242Z"
   },
   {
    "duration": 388,
    "start_time": "2024-12-22T13:38:04.809Z"
   },
   {
    "duration": 2462,
    "start_time": "2024-12-22T13:39:12.797Z"
   },
   {
    "duration": 1326,
    "start_time": "2024-12-22T13:39:15.261Z"
   },
   {
    "duration": 41,
    "start_time": "2024-12-22T13:39:16.589Z"
   },
   {
    "duration": 23,
    "start_time": "2024-12-22T13:39:16.632Z"
   },
   {
    "duration": 3,
    "start_time": "2024-12-22T13:39:16.657Z"
   },
   {
    "duration": 17,
    "start_time": "2024-12-22T13:39:16.661Z"
   },
   {
    "duration": 43,
    "start_time": "2024-12-22T13:39:16.679Z"
   },
   {
    "duration": 9,
    "start_time": "2024-12-22T13:39:16.724Z"
   },
   {
    "duration": 24,
    "start_time": "2024-12-22T13:39:16.735Z"
   },
   {
    "duration": 17,
    "start_time": "2024-12-22T13:39:16.761Z"
   },
   {
    "duration": 7,
    "start_time": "2024-12-22T13:39:16.779Z"
   },
   {
    "duration": 19,
    "start_time": "2024-12-22T13:39:16.788Z"
   },
   {
    "duration": 11,
    "start_time": "2024-12-22T13:39:16.808Z"
   },
   {
    "duration": 16,
    "start_time": "2024-12-22T13:39:16.822Z"
   },
   {
    "duration": 17,
    "start_time": "2024-12-22T13:39:16.839Z"
   },
   {
    "duration": 20,
    "start_time": "2024-12-22T13:39:16.857Z"
   },
   {
    "duration": 15,
    "start_time": "2024-12-22T13:39:16.879Z"
   },
   {
    "duration": 26,
    "start_time": "2024-12-22T13:39:16.896Z"
   },
   {
    "duration": 36,
    "start_time": "2024-12-22T13:39:16.923Z"
   },
   {
    "duration": 58,
    "start_time": "2024-12-22T13:39:16.961Z"
   },
   {
    "duration": 41,
    "start_time": "2024-12-22T13:39:17.021Z"
   },
   {
    "duration": 21,
    "start_time": "2024-12-22T13:39:17.063Z"
   },
   {
    "duration": 235,
    "start_time": "2024-12-22T13:39:17.085Z"
   },
   {
    "duration": 24,
    "start_time": "2024-12-22T13:39:17.322Z"
   },
   {
    "duration": 201,
    "start_time": "2024-12-22T13:39:17.347Z"
   },
   {
    "duration": 21,
    "start_time": "2024-12-22T13:39:17.550Z"
   },
   {
    "duration": 362,
    "start_time": "2024-12-22T13:39:17.573Z"
   },
   {
    "duration": 33,
    "start_time": "2024-12-22T13:39:17.937Z"
   },
   {
    "duration": 349,
    "start_time": "2024-12-22T13:39:17.972Z"
   },
   {
    "duration": 152,
    "start_time": "2024-12-22T13:39:18.323Z"
   },
   {
    "duration": 1197,
    "start_time": "2024-12-22T13:39:18.477Z"
   },
   {
    "duration": 446,
    "start_time": "2024-12-22T13:39:19.676Z"
   },
   {
    "duration": 28,
    "start_time": "2024-12-22T13:39:20.123Z"
   },
   {
    "duration": 333,
    "start_time": "2024-12-22T13:39:20.152Z"
   },
   {
    "duration": 21,
    "start_time": "2024-12-22T13:39:20.487Z"
   },
   {
    "duration": 316,
    "start_time": "2024-12-22T13:39:20.509Z"
   },
   {
    "duration": 21,
    "start_time": "2024-12-22T13:39:20.829Z"
   },
   {
    "duration": 215,
    "start_time": "2024-12-22T13:39:20.852Z"
   },
   {
    "duration": 692,
    "start_time": "2024-12-22T13:39:21.068Z"
   },
   {
    "duration": 420,
    "start_time": "2024-12-22T13:39:21.762Z"
   },
   {
    "duration": 539,
    "start_time": "2024-12-22T13:39:22.185Z"
   },
   {
    "duration": 1777,
    "start_time": "2024-12-22T13:39:22.725Z"
   },
   {
    "duration": 2518,
    "start_time": "2024-12-22T14:36:41.009Z"
   },
   {
    "duration": 1335,
    "start_time": "2024-12-22T14:36:43.529Z"
   },
   {
    "duration": 42,
    "start_time": "2024-12-22T14:36:44.866Z"
   },
   {
    "duration": 24,
    "start_time": "2024-12-22T14:36:44.910Z"
   },
   {
    "duration": 3,
    "start_time": "2024-12-22T14:36:44.935Z"
   },
   {
    "duration": 8,
    "start_time": "2024-12-22T14:36:44.940Z"
   },
   {
    "duration": 25,
    "start_time": "2024-12-22T14:36:44.949Z"
   },
   {
    "duration": 9,
    "start_time": "2024-12-22T14:36:44.976Z"
   },
   {
    "duration": 45,
    "start_time": "2024-12-22T14:36:44.987Z"
   },
   {
    "duration": 22,
    "start_time": "2024-12-22T14:36:45.034Z"
   },
   {
    "duration": 36,
    "start_time": "2024-12-22T14:36:45.058Z"
   },
   {
    "duration": 82,
    "start_time": "2024-12-22T14:36:45.096Z"
   },
   {
    "duration": 27,
    "start_time": "2024-12-22T14:36:45.180Z"
   },
   {
    "duration": 42,
    "start_time": "2024-12-22T14:36:45.209Z"
   },
   {
    "duration": 21,
    "start_time": "2024-12-22T14:36:45.253Z"
   },
   {
    "duration": 31,
    "start_time": "2024-12-22T14:36:45.275Z"
   },
   {
    "duration": 36,
    "start_time": "2024-12-22T14:36:45.308Z"
   },
   {
    "duration": 17,
    "start_time": "2024-12-22T14:36:45.346Z"
   },
   {
    "duration": 6,
    "start_time": "2024-12-22T14:36:45.365Z"
   },
   {
    "duration": 61,
    "start_time": "2024-12-22T14:36:45.372Z"
   },
   {
    "duration": 44,
    "start_time": "2024-12-22T14:36:45.435Z"
   },
   {
    "duration": 49,
    "start_time": "2024-12-22T14:36:45.481Z"
   },
   {
    "duration": 226,
    "start_time": "2024-12-22T14:36:45.532Z"
   },
   {
    "duration": 22,
    "start_time": "2024-12-22T14:36:45.760Z"
   },
   {
    "duration": 226,
    "start_time": "2024-12-22T14:36:45.784Z"
   },
   {
    "duration": 32,
    "start_time": "2024-12-22T14:36:46.012Z"
   },
   {
    "duration": 386,
    "start_time": "2024-12-22T14:36:46.046Z"
   },
   {
    "duration": 26,
    "start_time": "2024-12-22T14:36:46.436Z"
   },
   {
    "duration": 272,
    "start_time": "2024-12-22T14:36:46.464Z"
   },
   {
    "duration": 140,
    "start_time": "2024-12-22T14:36:46.738Z"
   },
   {
    "duration": 1180,
    "start_time": "2024-12-22T14:36:46.879Z"
   },
   {
    "duration": 471,
    "start_time": "2024-12-22T14:36:48.061Z"
   },
   {
    "duration": 23,
    "start_time": "2024-12-22T14:36:48.533Z"
   },
   {
    "duration": 374,
    "start_time": "2024-12-22T14:36:48.558Z"
   },
   {
    "duration": 22,
    "start_time": "2024-12-22T14:36:48.933Z"
   },
   {
    "duration": 228,
    "start_time": "2024-12-22T14:36:48.956Z"
   },
   {
    "duration": 22,
    "start_time": "2024-12-22T14:36:49.186Z"
   },
   {
    "duration": 227,
    "start_time": "2024-12-22T14:36:49.209Z"
   },
   {
    "duration": 682,
    "start_time": "2024-12-22T14:36:49.438Z"
   },
   {
    "duration": 400,
    "start_time": "2024-12-22T14:36:50.122Z"
   },
   {
    "duration": 516,
    "start_time": "2024-12-22T14:36:50.524Z"
   },
   {
    "duration": 1750,
    "start_time": "2024-12-22T14:36:51.041Z"
   },
   {
    "duration": 2525,
    "start_time": "2024-12-22T14:41:31.276Z"
   },
   {
    "duration": 1322,
    "start_time": "2024-12-22T14:41:33.803Z"
   },
   {
    "duration": 42,
    "start_time": "2024-12-22T14:41:35.131Z"
   },
   {
    "duration": 25,
    "start_time": "2024-12-22T14:41:35.175Z"
   },
   {
    "duration": 12,
    "start_time": "2024-12-22T14:41:35.202Z"
   },
   {
    "duration": 19,
    "start_time": "2024-12-22T14:41:35.216Z"
   },
   {
    "duration": 2442,
    "start_time": "2024-12-22T14:42:17.671Z"
   },
   {
    "duration": 1303,
    "start_time": "2024-12-22T14:42:20.116Z"
   },
   {
    "duration": 43,
    "start_time": "2024-12-22T14:42:21.420Z"
   },
   {
    "duration": 24,
    "start_time": "2024-12-22T14:42:21.465Z"
   },
   {
    "duration": 3,
    "start_time": "2024-12-22T14:42:21.491Z"
   },
   {
    "duration": 6,
    "start_time": "2024-12-22T14:42:23.940Z"
   },
   {
    "duration": 35,
    "start_time": "2024-12-22T14:42:23.948Z"
   },
   {
    "duration": 10,
    "start_time": "2024-12-22T14:42:23.984Z"
   },
   {
    "duration": 38,
    "start_time": "2024-12-22T14:42:23.995Z"
   },
   {
    "duration": 38,
    "start_time": "2024-12-22T14:42:24.034Z"
   },
   {
    "duration": 5,
    "start_time": "2024-12-22T14:42:28.036Z"
   },
   {
    "duration": 7,
    "start_time": "2024-12-22T14:42:28.043Z"
   },
   {
    "duration": 35,
    "start_time": "2024-12-22T14:42:28.052Z"
   },
   {
    "duration": 8,
    "start_time": "2024-12-22T14:42:30.972Z"
   },
   {
    "duration": 22,
    "start_time": "2024-12-22T14:42:30.982Z"
   },
   {
    "duration": 16,
    "start_time": "2024-12-22T14:42:31.006Z"
   },
   {
    "duration": 10,
    "start_time": "2024-12-22T14:42:31.024Z"
   },
   {
    "duration": 39,
    "start_time": "2024-12-22T14:42:31.036Z"
   },
   {
    "duration": 5,
    "start_time": "2024-12-22T14:42:31.077Z"
   },
   {
    "duration": 91,
    "start_time": "2024-12-22T14:42:31.083Z"
   },
   {
    "duration": 55,
    "start_time": "2024-12-22T14:42:31.175Z"
   },
   {
    "duration": 21,
    "start_time": "2024-12-22T14:42:31.233Z"
   },
   {
    "duration": 229,
    "start_time": "2024-12-22T14:42:31.256Z"
   },
   {
    "duration": 23,
    "start_time": "2024-12-22T14:42:31.486Z"
   },
   {
    "duration": 213,
    "start_time": "2024-12-22T14:42:31.510Z"
   },
   {
    "duration": 22,
    "start_time": "2024-12-22T14:42:31.724Z"
   },
   {
    "duration": 385,
    "start_time": "2024-12-22T14:42:31.747Z"
   },
   {
    "duration": 23,
    "start_time": "2024-12-22T14:42:33.963Z"
   },
   {
    "duration": 240,
    "start_time": "2024-12-22T14:42:33.988Z"
   },
   {
    "duration": 122,
    "start_time": "2024-12-22T14:42:42.657Z"
   },
   {
    "duration": 1180,
    "start_time": "2024-12-22T14:42:42.781Z"
   },
   {
    "duration": 453,
    "start_time": "2024-12-22T14:42:43.962Z"
   },
   {
    "duration": 30,
    "start_time": "2024-12-22T14:42:44.416Z"
   },
   {
    "duration": 332,
    "start_time": "2024-12-22T14:42:44.448Z"
   },
   {
    "duration": 23,
    "start_time": "2024-12-22T14:42:44.782Z"
   },
   {
    "duration": 237,
    "start_time": "2024-12-22T14:42:44.807Z"
   },
   {
    "duration": 23,
    "start_time": "2024-12-22T14:42:45.046Z"
   },
   {
    "duration": 232,
    "start_time": "2024-12-22T14:42:45.071Z"
   },
   {
    "duration": 697,
    "start_time": "2024-12-22T14:42:45.305Z"
   },
   {
    "duration": 417,
    "start_time": "2024-12-22T14:42:46.004Z"
   },
   {
    "duration": 502,
    "start_time": "2024-12-22T14:42:46.423Z"
   },
   {
    "duration": 1705,
    "start_time": "2024-12-22T14:42:46.926Z"
   },
   {
    "duration": 24,
    "start_time": "2024-12-22T14:42:49.707Z"
   },
   {
    "duration": 356,
    "start_time": "2024-12-22T14:45:39.967Z"
   },
   {
    "duration": 2452,
    "start_time": "2024-12-22T15:10:47.133Z"
   },
   {
    "duration": 1215,
    "start_time": "2024-12-22T15:10:49.587Z"
   },
   {
    "duration": 42,
    "start_time": "2024-12-22T15:10:50.804Z"
   },
   {
    "duration": 23,
    "start_time": "2024-12-22T15:10:50.848Z"
   },
   {
    "duration": 18,
    "start_time": "2024-12-22T15:10:50.874Z"
   },
   {
    "duration": 9,
    "start_time": "2024-12-22T15:10:50.894Z"
   },
   {
    "duration": 42,
    "start_time": "2024-12-22T15:10:50.905Z"
   },
   {
    "duration": 10,
    "start_time": "2024-12-22T15:10:50.948Z"
   },
   {
    "duration": 19,
    "start_time": "2024-12-22T15:10:50.960Z"
   },
   {
    "duration": 18,
    "start_time": "2024-12-22T15:10:50.980Z"
   },
   {
    "duration": 69,
    "start_time": "2024-12-22T15:10:50.999Z"
   },
   {
    "duration": 42,
    "start_time": "2024-12-22T15:10:51.070Z"
   },
   {
    "duration": 34,
    "start_time": "2024-12-22T15:10:51.113Z"
   },
   {
    "duration": 7,
    "start_time": "2024-12-22T15:10:51.150Z"
   },
   {
    "duration": 12,
    "start_time": "2024-12-22T15:10:51.158Z"
   },
   {
    "duration": 5,
    "start_time": "2024-12-22T15:10:51.171Z"
   },
   {
    "duration": 5,
    "start_time": "2024-12-22T15:10:51.178Z"
   },
   {
    "duration": 16,
    "start_time": "2024-12-22T15:10:51.184Z"
   },
   {
    "duration": 4,
    "start_time": "2024-12-22T15:10:51.201Z"
   },
   {
    "duration": 52,
    "start_time": "2024-12-22T15:10:51.229Z"
   },
   {
    "duration": 54,
    "start_time": "2024-12-22T15:10:51.283Z"
   },
   {
    "duration": 371,
    "start_time": "2024-12-22T15:10:51.339Z"
   },
   {
    "duration": 31,
    "start_time": "2024-12-22T15:10:51.712Z"
   },
   {
    "duration": 219,
    "start_time": "2024-12-22T15:10:51.745Z"
   },
   {
    "duration": 28,
    "start_time": "2024-12-22T15:10:51.966Z"
   },
   {
    "duration": 223,
    "start_time": "2024-12-22T15:10:51.996Z"
   },
   {
    "duration": 29,
    "start_time": "2024-12-22T15:10:52.221Z"
   },
   {
    "duration": 367,
    "start_time": "2024-12-22T15:10:52.252Z"
   },
   {
    "duration": 26,
    "start_time": "2024-12-22T15:10:52.621Z"
   },
   {
    "duration": 407,
    "start_time": "2024-12-22T15:10:52.648Z"
   },
   {
    "duration": 129,
    "start_time": "2024-12-22T15:10:53.056Z"
   },
   {
    "duration": 1090,
    "start_time": "2024-12-22T15:10:53.187Z"
   },
   {
    "duration": 554,
    "start_time": "2024-12-22T15:10:54.279Z"
   },
   {
    "duration": 24,
    "start_time": "2024-12-22T15:10:54.835Z"
   },
   {
    "duration": 234,
    "start_time": "2024-12-22T15:10:54.861Z"
   },
   {
    "duration": 33,
    "start_time": "2024-12-22T15:10:55.097Z"
   },
   {
    "duration": 209,
    "start_time": "2024-12-22T15:10:55.132Z"
   },
   {
    "duration": 20,
    "start_time": "2024-12-22T15:10:55.343Z"
   },
   {
    "duration": 228,
    "start_time": "2024-12-22T15:10:55.365Z"
   },
   {
    "duration": 719,
    "start_time": "2024-12-22T15:10:55.594Z"
   },
   {
    "duration": 515,
    "start_time": "2024-12-22T15:10:56.317Z"
   },
   {
    "duration": 508,
    "start_time": "2024-12-22T15:10:56.834Z"
   },
   {
    "duration": 1640,
    "start_time": "2024-12-22T15:10:57.343Z"
   },
   {
    "duration": 43,
    "start_time": "2024-12-22T15:12:29.087Z"
   },
   {
    "duration": 116,
    "start_time": "2024-12-22T15:20:45.024Z"
   },
   {
    "duration": 38,
    "start_time": "2024-12-22T15:22:10.467Z"
   },
   {
    "duration": 45,
    "start_time": "2024-12-22T15:22:21.124Z"
   },
   {
    "duration": 13,
    "start_time": "2024-12-22T15:22:33.674Z"
   },
   {
    "duration": 12,
    "start_time": "2024-12-22T15:23:45.976Z"
   },
   {
    "duration": 13,
    "start_time": "2024-12-22T15:23:56.462Z"
   },
   {
    "duration": 35,
    "start_time": "2024-12-22T15:24:27.159Z"
   },
   {
    "duration": 32,
    "start_time": "2024-12-22T15:24:51.520Z"
   },
   {
    "duration": 2437,
    "start_time": "2024-12-22T15:27:41.330Z"
   },
   {
    "duration": 1273,
    "start_time": "2024-12-22T15:27:43.769Z"
   },
   {
    "duration": 44,
    "start_time": "2024-12-22T15:27:45.044Z"
   },
   {
    "duration": 134,
    "start_time": "2024-12-22T15:27:45.090Z"
   },
   {
    "duration": 3,
    "start_time": "2024-12-22T15:27:45.226Z"
   },
   {
    "duration": 13,
    "start_time": "2024-12-22T15:27:45.230Z"
   },
   {
    "duration": 35,
    "start_time": "2024-12-22T15:27:45.244Z"
   },
   {
    "duration": 12,
    "start_time": "2024-12-22T15:27:45.280Z"
   },
   {
    "duration": 35,
    "start_time": "2024-12-22T15:27:45.294Z"
   },
   {
    "duration": 52,
    "start_time": "2024-12-22T15:27:45.332Z"
   },
   {
    "duration": 19,
    "start_time": "2024-12-22T15:27:45.386Z"
   },
   {
    "duration": 36,
    "start_time": "2024-12-22T15:27:45.406Z"
   },
   {
    "duration": 19,
    "start_time": "2024-12-22T15:27:45.444Z"
   },
   {
    "duration": 29,
    "start_time": "2024-12-22T15:27:45.464Z"
   },
   {
    "duration": 14,
    "start_time": "2024-12-22T15:27:45.494Z"
   },
   {
    "duration": 5,
    "start_time": "2024-12-22T15:27:45.509Z"
   },
   {
    "duration": 11,
    "start_time": "2024-12-22T15:27:45.515Z"
   },
   {
    "duration": 14,
    "start_time": "2024-12-22T15:27:45.528Z"
   },
   {
    "duration": 4,
    "start_time": "2024-12-22T15:27:45.544Z"
   },
   {
    "duration": 49,
    "start_time": "2024-12-22T15:27:45.550Z"
   },
   {
    "duration": 59,
    "start_time": "2024-12-22T15:27:45.600Z"
   },
   {
    "duration": 388,
    "start_time": "2024-12-22T15:27:45.661Z"
   },
   {
    "duration": 27,
    "start_time": "2024-12-22T15:27:46.051Z"
   },
   {
    "duration": 228,
    "start_time": "2024-12-22T15:27:46.080Z"
   },
   {
    "duration": 35,
    "start_time": "2024-12-22T15:27:46.309Z"
   },
   {
    "duration": 202,
    "start_time": "2024-12-22T15:27:46.346Z"
   },
   {
    "duration": 23,
    "start_time": "2024-12-22T15:27:46.549Z"
   },
   {
    "duration": 357,
    "start_time": "2024-12-22T15:27:46.576Z"
   },
   {
    "duration": 21,
    "start_time": "2024-12-22T15:27:46.935Z"
   },
   {
    "duration": 340,
    "start_time": "2024-12-22T15:27:46.957Z"
   },
   {
    "duration": 136,
    "start_time": "2024-12-22T15:27:47.298Z"
   },
   {
    "duration": 1100,
    "start_time": "2024-12-22T15:27:47.435Z"
   },
   {
    "duration": 557,
    "start_time": "2024-12-22T15:27:48.537Z"
   },
   {
    "duration": 22,
    "start_time": "2024-12-22T15:27:49.096Z"
   },
   {
    "duration": 219,
    "start_time": "2024-12-22T15:27:49.131Z"
   },
   {
    "duration": 22,
    "start_time": "2024-12-22T15:27:49.351Z"
   },
   {
    "duration": 223,
    "start_time": "2024-12-22T15:27:49.375Z"
   },
   {
    "duration": 31,
    "start_time": "2024-12-22T15:27:49.599Z"
   },
   {
    "duration": 204,
    "start_time": "2024-12-22T15:27:49.632Z"
   },
   {
    "duration": 682,
    "start_time": "2024-12-22T15:27:49.838Z"
   },
   {
    "duration": 494,
    "start_time": "2024-12-22T15:27:50.522Z"
   },
   {
    "duration": 519,
    "start_time": "2024-12-22T15:27:51.018Z"
   },
   {
    "duration": 1660,
    "start_time": "2024-12-22T15:27:51.539Z"
   },
   {
    "duration": 27,
    "start_time": "2024-12-22T15:27:53.201Z"
   },
   {
    "duration": 43,
    "start_time": "2024-12-22T15:27:53.230Z"
   },
   {
    "duration": 29,
    "start_time": "2024-12-22T15:31:05.020Z"
   },
   {
    "duration": 28,
    "start_time": "2024-12-22T15:31:11.667Z"
   },
   {
    "duration": 46,
    "start_time": "2024-12-22T15:36:02.138Z"
   },
   {
    "duration": 30,
    "start_time": "2024-12-22T15:36:03.873Z"
   },
   {
    "duration": 2509,
    "start_time": "2024-12-22T15:36:28.938Z"
   },
   {
    "duration": 1311,
    "start_time": "2024-12-22T15:36:31.449Z"
   },
   {
    "duration": 42,
    "start_time": "2024-12-22T15:36:32.762Z"
   },
   {
    "duration": 24,
    "start_time": "2024-12-22T15:36:32.806Z"
   },
   {
    "duration": 4,
    "start_time": "2024-12-22T15:36:32.832Z"
   },
   {
    "duration": 7,
    "start_time": "2024-12-22T15:36:32.837Z"
   },
   {
    "duration": 19,
    "start_time": "2024-12-22T15:36:32.846Z"
   },
   {
    "duration": 9,
    "start_time": "2024-12-22T15:36:32.867Z"
   },
   {
    "duration": 26,
    "start_time": "2024-12-22T15:36:32.877Z"
   },
   {
    "duration": 41,
    "start_time": "2024-12-22T15:36:32.905Z"
   },
   {
    "duration": 5,
    "start_time": "2024-12-22T15:36:32.948Z"
   },
   {
    "duration": 4,
    "start_time": "2024-12-22T15:36:32.955Z"
   },
   {
    "duration": 8,
    "start_time": "2024-12-22T15:36:32.960Z"
   },
   {
    "duration": 8,
    "start_time": "2024-12-22T15:36:32.971Z"
   },
   {
    "duration": 38,
    "start_time": "2024-12-22T15:36:32.981Z"
   },
   {
    "duration": 22,
    "start_time": "2024-12-22T15:36:33.020Z"
   },
   {
    "duration": 9,
    "start_time": "2024-12-22T15:36:33.044Z"
   },
   {
    "duration": 33,
    "start_time": "2024-12-22T15:36:33.055Z"
   },
   {
    "duration": 22,
    "start_time": "2024-12-22T15:36:33.090Z"
   },
   {
    "duration": 56,
    "start_time": "2024-12-22T15:36:33.114Z"
   },
   {
    "duration": 44,
    "start_time": "2024-12-22T15:36:33.172Z"
   },
   {
    "duration": 30,
    "start_time": "2024-12-22T15:36:33.229Z"
   },
   {
    "duration": 383,
    "start_time": "2024-12-22T15:36:33.261Z"
   },
   {
    "duration": 23,
    "start_time": "2024-12-22T15:36:33.645Z"
   },
   {
    "duration": 228,
    "start_time": "2024-12-22T15:36:33.670Z"
   },
   {
    "duration": 32,
    "start_time": "2024-12-22T15:36:33.899Z"
   },
   {
    "duration": 208,
    "start_time": "2024-12-22T15:36:33.933Z"
   },
   {
    "duration": 23,
    "start_time": "2024-12-22T15:36:34.143Z"
   },
   {
    "duration": 365,
    "start_time": "2024-12-22T15:36:34.168Z"
   },
   {
    "duration": 23,
    "start_time": "2024-12-22T15:36:34.535Z"
   },
   {
    "duration": 389,
    "start_time": "2024-12-22T15:36:34.559Z"
   },
   {
    "duration": 133,
    "start_time": "2024-12-22T15:36:34.949Z"
   },
   {
    "duration": 1122,
    "start_time": "2024-12-22T15:36:35.083Z"
   },
   {
    "duration": 566,
    "start_time": "2024-12-22T15:36:36.207Z"
   },
   {
    "duration": 23,
    "start_time": "2024-12-22T15:36:36.775Z"
   },
   {
    "duration": 313,
    "start_time": "2024-12-22T15:36:36.800Z"
   },
   {
    "duration": 30,
    "start_time": "2024-12-22T15:36:37.114Z"
   },
   {
    "duration": 325,
    "start_time": "2024-12-22T15:36:37.145Z"
   },
   {
    "duration": 19,
    "start_time": "2024-12-22T15:36:37.472Z"
   },
   {
    "duration": 223,
    "start_time": "2024-12-22T15:36:37.492Z"
   },
   {
    "duration": 694,
    "start_time": "2024-12-22T15:36:37.719Z"
   },
   {
    "duration": 521,
    "start_time": "2024-12-22T15:36:38.414Z"
   },
   {
    "duration": 511,
    "start_time": "2024-12-22T15:36:38.937Z"
   },
   {
    "duration": 1705,
    "start_time": "2024-12-22T15:36:39.450Z"
   },
   {
    "duration": 29,
    "start_time": "2024-12-22T15:36:41.157Z"
   },
   {
    "duration": 59,
    "start_time": "2024-12-22T15:36:41.188Z"
   },
   {
    "duration": 2465,
    "start_time": "2024-12-22T16:14:56.875Z"
   },
   {
    "duration": 1409,
    "start_time": "2024-12-22T16:14:59.342Z"
   },
   {
    "duration": 44,
    "start_time": "2024-12-22T16:15:00.753Z"
   },
   {
    "duration": 23,
    "start_time": "2024-12-22T16:15:00.798Z"
   },
   {
    "duration": 10,
    "start_time": "2024-12-22T16:15:00.823Z"
   },
   {
    "duration": 38,
    "start_time": "2024-12-22T16:15:00.835Z"
   },
   {
    "duration": 171,
    "start_time": "2024-12-22T16:15:00.875Z"
   },
   {
    "duration": 14,
    "start_time": "2024-12-22T16:15:01.048Z"
   },
   {
    "duration": 27,
    "start_time": "2024-12-22T16:15:01.063Z"
   },
   {
    "duration": 21,
    "start_time": "2024-12-22T16:15:01.091Z"
   },
   {
    "duration": 17,
    "start_time": "2024-12-22T16:15:01.131Z"
   },
   {
    "duration": 6,
    "start_time": "2024-12-22T16:15:01.150Z"
   },
   {
    "duration": 11,
    "start_time": "2024-12-22T16:15:01.159Z"
   },
   {
    "duration": 36,
    "start_time": "2024-12-22T16:15:01.175Z"
   },
   {
    "duration": 64,
    "start_time": "2024-12-22T16:15:01.213Z"
   },
   {
    "duration": 36,
    "start_time": "2024-12-22T16:15:01.279Z"
   },
   {
    "duration": 204,
    "start_time": "2024-12-22T16:15:01.317Z"
   },
   {
    "duration": 155,
    "start_time": "2024-12-22T16:15:01.522Z"
   },
   {
    "duration": 46,
    "start_time": "2024-12-22T16:15:01.679Z"
   },
   {
    "duration": 42,
    "start_time": "2024-12-22T16:15:01.726Z"
   },
   {
    "duration": 80,
    "start_time": "2024-12-22T16:15:01.770Z"
   },
   {
    "duration": 49,
    "start_time": "2024-12-22T16:15:01.853Z"
   },
   {
    "duration": 439,
    "start_time": "2024-12-22T16:15:01.904Z"
   },
   {
    "duration": 25,
    "start_time": "2024-12-22T16:15:02.345Z"
   },
   {
    "duration": 242,
    "start_time": "2024-12-22T16:15:02.371Z"
   },
   {
    "duration": 26,
    "start_time": "2024-12-22T16:15:02.615Z"
   },
   {
    "duration": 344,
    "start_time": "2024-12-22T16:15:02.643Z"
   },
   {
    "duration": 26,
    "start_time": "2024-12-22T16:15:02.989Z"
   },
   {
    "duration": 415,
    "start_time": "2024-12-22T16:15:03.029Z"
   },
   {
    "duration": 22,
    "start_time": "2024-12-22T16:15:03.446Z"
   },
   {
    "duration": 391,
    "start_time": "2024-12-22T16:15:03.469Z"
   },
   {
    "duration": 141,
    "start_time": "2024-12-22T16:15:03.862Z"
   },
   {
    "duration": 1133,
    "start_time": "2024-12-22T16:15:04.005Z"
   },
   {
    "duration": 570,
    "start_time": "2024-12-22T16:15:05.140Z"
   },
   {
    "duration": 31,
    "start_time": "2024-12-22T16:15:05.712Z"
   },
   {
    "duration": 244,
    "start_time": "2024-12-22T16:15:05.745Z"
   },
   {
    "duration": 28,
    "start_time": "2024-12-22T16:15:05.990Z"
   },
   {
    "duration": 250,
    "start_time": "2024-12-22T16:15:06.021Z"
   },
   {
    "duration": 22,
    "start_time": "2024-12-22T16:15:06.272Z"
   },
   {
    "duration": 223,
    "start_time": "2024-12-22T16:15:06.295Z"
   },
   {
    "duration": 718,
    "start_time": "2024-12-22T16:15:06.522Z"
   },
   {
    "duration": 502,
    "start_time": "2024-12-22T16:15:07.242Z"
   },
   {
    "duration": 502,
    "start_time": "2024-12-22T16:15:07.745Z"
   },
   {
    "duration": 1723,
    "start_time": "2024-12-22T16:15:08.248Z"
   },
   {
    "duration": 28,
    "start_time": "2024-12-22T16:15:09.972Z"
   },
   {
    "duration": 43,
    "start_time": "2024-12-22T16:15:10.001Z"
   },
   {
    "duration": 11,
    "start_time": "2024-12-22T16:21:46.275Z"
   },
   {
    "duration": 111,
    "start_time": "2024-12-22T16:27:40.803Z"
   },
   {
    "duration": 6,
    "start_time": "2024-12-22T16:29:35.194Z"
   },
   {
    "duration": 8,
    "start_time": "2024-12-22T16:30:46.148Z"
   },
   {
    "duration": 7,
    "start_time": "2024-12-22T16:30:46.308Z"
   },
   {
    "duration": 15,
    "start_time": "2024-12-22T16:38:37.568Z"
   },
   {
    "duration": 2467,
    "start_time": "2024-12-22T16:38:55.486Z"
   },
   {
    "duration": 1268,
    "start_time": "2024-12-22T16:38:57.955Z"
   },
   {
    "duration": 41,
    "start_time": "2024-12-22T16:38:59.225Z"
   },
   {
    "duration": 23,
    "start_time": "2024-12-22T16:38:59.268Z"
   },
   {
    "duration": 3,
    "start_time": "2024-12-22T16:38:59.293Z"
   },
   {
    "duration": 9,
    "start_time": "2024-12-22T16:38:59.297Z"
   },
   {
    "duration": 26,
    "start_time": "2024-12-22T16:38:59.308Z"
   },
   {
    "duration": 9,
    "start_time": "2024-12-22T16:38:59.335Z"
   },
   {
    "duration": 18,
    "start_time": "2024-12-22T16:38:59.346Z"
   },
   {
    "duration": 19,
    "start_time": "2024-12-22T16:38:59.367Z"
   },
   {
    "duration": 4,
    "start_time": "2024-12-22T16:38:59.388Z"
   },
   {
    "duration": 7,
    "start_time": "2024-12-22T16:38:59.394Z"
   },
   {
    "duration": 28,
    "start_time": "2024-12-22T16:38:59.403Z"
   },
   {
    "duration": 7,
    "start_time": "2024-12-22T16:38:59.433Z"
   },
   {
    "duration": 33,
    "start_time": "2024-12-22T16:38:59.441Z"
   },
   {
    "duration": 5,
    "start_time": "2024-12-22T16:38:59.475Z"
   },
   {
    "duration": 70,
    "start_time": "2024-12-22T16:38:59.482Z"
   },
   {
    "duration": 46,
    "start_time": "2024-12-22T16:38:59.554Z"
   },
   {
    "duration": 4,
    "start_time": "2024-12-22T16:38:59.602Z"
   },
   {
    "duration": 10,
    "start_time": "2024-12-22T16:38:59.608Z"
   },
   {
    "duration": 40,
    "start_time": "2024-12-22T16:38:59.620Z"
   },
   {
    "duration": 29,
    "start_time": "2024-12-22T16:38:59.663Z"
   },
   {
    "duration": 370,
    "start_time": "2024-12-22T16:38:59.695Z"
   },
   {
    "duration": 23,
    "start_time": "2024-12-22T16:39:00.067Z"
   },
   {
    "duration": 272,
    "start_time": "2024-12-22T16:39:00.091Z"
   },
   {
    "duration": 21,
    "start_time": "2024-12-22T16:39:00.365Z"
   },
   {
    "duration": 247,
    "start_time": "2024-12-22T16:39:00.387Z"
   },
   {
    "duration": 23,
    "start_time": "2024-12-22T16:39:00.638Z"
   },
   {
    "duration": 360,
    "start_time": "2024-12-22T16:39:00.662Z"
   },
   {
    "duration": 28,
    "start_time": "2024-12-22T16:39:01.023Z"
   },
   {
    "duration": 403,
    "start_time": "2024-12-22T16:39:01.052Z"
   },
   {
    "duration": 135,
    "start_time": "2024-12-22T16:39:01.457Z"
   },
   {
    "duration": 1110,
    "start_time": "2024-12-22T16:39:01.594Z"
   },
   {
    "duration": 576,
    "start_time": "2024-12-22T16:39:02.706Z"
   },
   {
    "duration": 24,
    "start_time": "2024-12-22T16:39:03.283Z"
   },
   {
    "duration": 253,
    "start_time": "2024-12-22T16:39:03.308Z"
   },
   {
    "duration": 22,
    "start_time": "2024-12-22T16:39:03.563Z"
   },
   {
    "duration": 234,
    "start_time": "2024-12-22T16:39:03.587Z"
   },
   {
    "duration": 22,
    "start_time": "2024-12-22T16:39:03.823Z"
   },
   {
    "duration": 222,
    "start_time": "2024-12-22T16:39:03.847Z"
   },
   {
    "duration": 685,
    "start_time": "2024-12-22T16:39:04.071Z"
   },
   {
    "duration": 506,
    "start_time": "2024-12-22T16:39:04.757Z"
   },
   {
    "duration": 490,
    "start_time": "2024-12-22T16:39:05.265Z"
   },
   {
    "duration": 1703,
    "start_time": "2024-12-22T16:39:05.756Z"
   },
   {
    "duration": 30,
    "start_time": "2024-12-22T16:39:07.461Z"
   },
   {
    "duration": 114,
    "start_time": "2024-12-22T16:39:07.492Z"
   },
   {
    "duration": 31,
    "start_time": "2024-12-22T16:39:07.608Z"
   },
   {
    "duration": 13,
    "start_time": "2024-12-22T16:39:07.640Z"
   },
   {
    "duration": 129,
    "start_time": "2024-12-22T16:39:07.654Z"
   },
   {
    "duration": 2385,
    "start_time": "2024-12-22T16:43:18.012Z"
   },
   {
    "duration": 1312,
    "start_time": "2024-12-22T16:43:20.400Z"
   },
   {
    "duration": 43,
    "start_time": "2024-12-22T16:43:21.714Z"
   },
   {
    "duration": 24,
    "start_time": "2024-12-22T16:43:21.759Z"
   },
   {
    "duration": 3,
    "start_time": "2024-12-22T16:43:21.786Z"
   },
   {
    "duration": 20,
    "start_time": "2024-12-22T16:43:21.791Z"
   },
   {
    "duration": 25,
    "start_time": "2024-12-22T16:43:21.813Z"
   },
   {
    "duration": 19,
    "start_time": "2024-12-22T16:43:21.840Z"
   },
   {
    "duration": 18,
    "start_time": "2024-12-22T16:43:21.861Z"
   },
   {
    "duration": 6,
    "start_time": "2024-12-22T16:43:21.881Z"
   },
   {
    "duration": 45,
    "start_time": "2024-12-22T16:43:21.888Z"
   },
   {
    "duration": 9,
    "start_time": "2024-12-22T16:43:21.935Z"
   },
   {
    "duration": 8,
    "start_time": "2024-12-22T16:43:21.945Z"
   },
   {
    "duration": 13,
    "start_time": "2024-12-22T16:43:21.957Z"
   },
   {
    "duration": 14,
    "start_time": "2024-12-22T16:43:21.972Z"
   },
   {
    "duration": 24,
    "start_time": "2024-12-22T16:43:21.988Z"
   },
   {
    "duration": 25,
    "start_time": "2024-12-22T16:43:22.019Z"
   },
   {
    "duration": 7,
    "start_time": "2024-12-22T16:43:22.046Z"
   },
   {
    "duration": 8,
    "start_time": "2024-12-22T16:43:22.054Z"
   },
   {
    "duration": 12,
    "start_time": "2024-12-22T16:43:22.065Z"
   },
   {
    "duration": 58,
    "start_time": "2024-12-22T16:43:22.078Z"
   },
   {
    "duration": 28,
    "start_time": "2024-12-22T16:43:22.138Z"
   },
   {
    "duration": 364,
    "start_time": "2024-12-22T16:43:22.168Z"
   },
   {
    "duration": 22,
    "start_time": "2024-12-22T16:43:22.534Z"
   },
   {
    "duration": 220,
    "start_time": "2024-12-22T16:43:22.558Z"
   },
   {
    "duration": 22,
    "start_time": "2024-12-22T16:43:22.780Z"
   },
   {
    "duration": 279,
    "start_time": "2024-12-22T16:43:22.803Z"
   },
   {
    "duration": 22,
    "start_time": "2024-12-22T16:43:23.085Z"
   },
   {
    "duration": 367,
    "start_time": "2024-12-22T16:43:23.109Z"
   },
   {
    "duration": 20,
    "start_time": "2024-12-22T16:43:23.478Z"
   },
   {
    "duration": 336,
    "start_time": "2024-12-22T16:43:23.500Z"
   },
   {
    "duration": 132,
    "start_time": "2024-12-22T16:43:23.837Z"
   },
   {
    "duration": 1089,
    "start_time": "2024-12-22T16:43:23.971Z"
   },
   {
    "duration": 571,
    "start_time": "2024-12-22T16:43:25.061Z"
   },
   {
    "duration": 22,
    "start_time": "2024-12-22T16:43:25.633Z"
   },
   {
    "duration": 233,
    "start_time": "2024-12-22T16:43:25.657Z"
   },
   {
    "duration": 21,
    "start_time": "2024-12-22T16:43:25.892Z"
   },
   {
    "duration": 250,
    "start_time": "2024-12-22T16:43:25.915Z"
   },
   {
    "duration": 22,
    "start_time": "2024-12-22T16:43:26.167Z"
   },
   {
    "duration": 220,
    "start_time": "2024-12-22T16:43:26.191Z"
   },
   {
    "duration": 688,
    "start_time": "2024-12-22T16:43:26.416Z"
   },
   {
    "duration": 544,
    "start_time": "2024-12-22T16:43:27.106Z"
   },
   {
    "duration": 486,
    "start_time": "2024-12-22T16:43:27.652Z"
   },
   {
    "duration": 1615,
    "start_time": "2024-12-22T16:43:28.140Z"
   },
   {
    "duration": 30,
    "start_time": "2024-12-22T16:43:29.757Z"
   },
   {
    "duration": 33,
    "start_time": "2024-12-22T16:43:29.789Z"
   },
   {
    "duration": 10,
    "start_time": "2024-12-22T16:43:29.824Z"
   },
   {
    "duration": 6,
    "start_time": "2024-12-22T16:43:29.836Z"
   },
   {
    "duration": 5,
    "start_time": "2024-12-22T16:43:29.843Z"
   },
   {
    "duration": 5,
    "start_time": "2024-12-22T16:48:55.961Z"
   },
   {
    "duration": 2447,
    "start_time": "2024-12-22T16:49:55.022Z"
   },
   {
    "duration": 1275,
    "start_time": "2024-12-22T16:49:57.472Z"
   },
   {
    "duration": 45,
    "start_time": "2024-12-22T16:49:58.749Z"
   },
   {
    "duration": 149,
    "start_time": "2024-12-22T16:49:58.796Z"
   },
   {
    "duration": 3,
    "start_time": "2024-12-22T16:49:58.947Z"
   },
   {
    "duration": 26,
    "start_time": "2024-12-22T16:49:58.951Z"
   },
   {
    "duration": 12,
    "start_time": "2024-12-22T16:49:58.978Z"
   },
   {
    "duration": 39,
    "start_time": "2024-12-22T16:49:58.992Z"
   },
   {
    "duration": 18,
    "start_time": "2024-12-22T16:49:59.033Z"
   },
   {
    "duration": 5,
    "start_time": "2024-12-22T16:49:59.052Z"
   },
   {
    "duration": 107,
    "start_time": "2024-12-22T16:49:59.058Z"
   },
   {
    "duration": 15,
    "start_time": "2024-12-22T16:49:59.167Z"
   },
   {
    "duration": 15,
    "start_time": "2024-12-22T16:49:59.184Z"
   },
   {
    "duration": 11,
    "start_time": "2024-12-22T16:49:59.201Z"
   },
   {
    "duration": 8,
    "start_time": "2024-12-22T16:49:59.213Z"
   },
   {
    "duration": 6,
    "start_time": "2024-12-22T16:49:59.222Z"
   },
   {
    "duration": 14,
    "start_time": "2024-12-22T16:49:59.229Z"
   },
   {
    "duration": 13,
    "start_time": "2024-12-22T16:49:59.245Z"
   },
   {
    "duration": 16,
    "start_time": "2024-12-22T16:49:59.260Z"
   },
   {
    "duration": 12,
    "start_time": "2024-12-22T16:49:59.278Z"
   },
   {
    "duration": 39,
    "start_time": "2024-12-22T16:49:59.291Z"
   },
   {
    "duration": 30,
    "start_time": "2024-12-22T16:49:59.332Z"
   },
   {
    "duration": 369,
    "start_time": "2024-12-22T16:49:59.364Z"
   },
   {
    "duration": 22,
    "start_time": "2024-12-22T16:49:59.734Z"
   },
   {
    "duration": 225,
    "start_time": "2024-12-22T16:49:59.758Z"
   },
   {
    "duration": 22,
    "start_time": "2024-12-22T16:49:59.985Z"
   },
   {
    "duration": 315,
    "start_time": "2024-12-22T16:50:00.008Z"
   },
   {
    "duration": 23,
    "start_time": "2024-12-22T16:50:00.325Z"
   },
   {
    "duration": 372,
    "start_time": "2024-12-22T16:50:00.350Z"
   },
   {
    "duration": 25,
    "start_time": "2024-12-22T16:50:00.724Z"
   },
   {
    "duration": 472,
    "start_time": "2024-12-22T16:50:00.750Z"
   },
   {
    "duration": 124,
    "start_time": "2024-12-22T16:50:01.224Z"
   },
   {
    "duration": 1151,
    "start_time": "2024-12-22T16:50:01.350Z"
   },
   {
    "duration": 565,
    "start_time": "2024-12-22T16:50:02.503Z"
   },
   {
    "duration": 23,
    "start_time": "2024-12-22T16:50:03.070Z"
   },
   {
    "duration": 316,
    "start_time": "2024-12-22T16:50:03.094Z"
   },
   {
    "duration": 31,
    "start_time": "2024-12-22T16:50:03.412Z"
   },
   {
    "duration": 228,
    "start_time": "2024-12-22T16:50:03.444Z"
   },
   {
    "duration": 21,
    "start_time": "2024-12-22T16:50:03.674Z"
   },
   {
    "duration": 244,
    "start_time": "2024-12-22T16:50:03.696Z"
   },
   {
    "duration": 692,
    "start_time": "2024-12-22T16:50:03.944Z"
   },
   {
    "duration": 514,
    "start_time": "2024-12-22T16:50:04.638Z"
   },
   {
    "duration": 495,
    "start_time": "2024-12-22T16:50:05.154Z"
   },
   {
    "duration": 1724,
    "start_time": "2024-12-22T16:50:05.651Z"
   },
   {
    "duration": 29,
    "start_time": "2024-12-22T16:50:07.377Z"
   },
   {
    "duration": 33,
    "start_time": "2024-12-22T16:50:07.407Z"
   },
   {
    "duration": 7,
    "start_time": "2024-12-22T16:50:07.441Z"
   },
   {
    "duration": 6,
    "start_time": "2024-12-22T16:50:07.450Z"
   },
   {
    "duration": 14,
    "start_time": "2024-12-22T16:50:07.457Z"
   },
   {
    "duration": 10,
    "start_time": "2024-12-22T16:50:07.472Z"
   },
   {
    "duration": 5,
    "start_time": "2024-12-22T17:05:09.661Z"
   },
   {
    "duration": 6,
    "start_time": "2024-12-22T17:05:14.262Z"
   },
   {
    "duration": 6,
    "start_time": "2024-12-22T17:05:19.337Z"
   },
   {
    "duration": 47,
    "start_time": "2024-12-22T19:09:23.440Z"
   },
   {
    "duration": 4017,
    "start_time": "2024-12-22T19:09:33.855Z"
   },
   {
    "duration": 1363,
    "start_time": "2024-12-22T19:09:37.874Z"
   },
   {
    "duration": 88,
    "start_time": "2024-12-22T19:09:39.239Z"
   },
   {
    "duration": 23,
    "start_time": "2024-12-22T19:09:39.329Z"
   },
   {
    "duration": 4,
    "start_time": "2024-12-22T19:09:39.354Z"
   },
   {
    "duration": 27,
    "start_time": "2024-12-22T19:09:39.359Z"
   },
   {
    "duration": 8,
    "start_time": "2024-12-22T19:09:39.388Z"
   },
   {
    "duration": 16,
    "start_time": "2024-12-22T19:09:39.397Z"
   },
   {
    "duration": 16,
    "start_time": "2024-12-22T19:09:39.414Z"
   },
   {
    "duration": 4,
    "start_time": "2024-12-22T19:09:39.454Z"
   },
   {
    "duration": 15,
    "start_time": "2024-12-22T19:09:39.460Z"
   },
   {
    "duration": 18,
    "start_time": "2024-12-22T19:09:39.476Z"
   },
   {
    "duration": 10,
    "start_time": "2024-12-22T19:09:39.495Z"
   },
   {
    "duration": 24,
    "start_time": "2024-12-22T19:09:39.506Z"
   },
   {
    "duration": 4,
    "start_time": "2024-12-22T19:09:39.532Z"
   },
   {
    "duration": 7,
    "start_time": "2024-12-22T19:09:39.537Z"
   },
   {
    "duration": 11,
    "start_time": "2024-12-22T19:09:39.546Z"
   },
   {
    "duration": 3,
    "start_time": "2024-12-22T19:09:39.558Z"
   },
   {
    "duration": 7,
    "start_time": "2024-12-22T19:09:39.563Z"
   },
   {
    "duration": 9,
    "start_time": "2024-12-22T19:09:39.571Z"
   },
   {
    "duration": 28,
    "start_time": "2024-12-22T19:09:39.581Z"
   },
   {
    "duration": 62,
    "start_time": "2024-12-22T19:09:39.611Z"
   },
   {
    "duration": 4,
    "start_time": "2024-12-22T19:09:39.675Z"
   },
   {
    "duration": 321,
    "start_time": "2024-12-22T19:09:39.681Z"
   },
   {
    "duration": 29,
    "start_time": "2024-12-22T19:09:40.004Z"
   },
   {
    "duration": 214,
    "start_time": "2024-12-22T19:09:40.036Z"
   },
   {
    "duration": 20,
    "start_time": "2024-12-22T19:09:40.253Z"
   },
   {
    "duration": 203,
    "start_time": "2024-12-22T19:09:40.277Z"
   },
   {
    "duration": 20,
    "start_time": "2024-12-22T19:09:40.482Z"
   },
   {
    "duration": 307,
    "start_time": "2024-12-22T19:09:40.504Z"
   },
   {
    "duration": 20,
    "start_time": "2024-12-22T19:09:40.813Z"
   },
   {
    "duration": 289,
    "start_time": "2024-12-22T19:09:40.834Z"
   },
   {
    "duration": 134,
    "start_time": "2024-12-22T19:09:41.125Z"
   },
   {
    "duration": 896,
    "start_time": "2024-12-22T19:09:41.261Z"
   },
   {
    "duration": 464,
    "start_time": "2024-12-22T19:09:42.158Z"
   },
   {
    "duration": 29,
    "start_time": "2024-12-22T19:09:42.624Z"
   },
   {
    "duration": 204,
    "start_time": "2024-12-22T19:09:42.655Z"
   },
   {
    "duration": 19,
    "start_time": "2024-12-22T19:09:42.861Z"
   },
   {
    "duration": 209,
    "start_time": "2024-12-22T19:09:42.881Z"
   },
   {
    "duration": 19,
    "start_time": "2024-12-22T19:09:43.092Z"
   },
   {
    "duration": 214,
    "start_time": "2024-12-22T19:09:43.113Z"
   },
   {
    "duration": 587,
    "start_time": "2024-12-22T19:09:43.329Z"
   },
   {
    "duration": 442,
    "start_time": "2024-12-22T19:09:43.918Z"
   },
   {
    "duration": 492,
    "start_time": "2024-12-22T19:09:44.362Z"
   },
   {
    "duration": 1453,
    "start_time": "2024-12-22T19:09:44.856Z"
   },
   {
    "duration": 27,
    "start_time": "2024-12-22T19:09:46.311Z"
   },
   {
    "duration": 33,
    "start_time": "2024-12-22T19:09:46.340Z"
   },
   {
    "duration": 8,
    "start_time": "2024-12-22T19:09:46.375Z"
   },
   {
    "duration": 13,
    "start_time": "2024-12-22T19:09:46.385Z"
   },
   {
    "duration": 6,
    "start_time": "2024-12-22T19:09:46.400Z"
   },
   {
    "duration": 17,
    "start_time": "2024-12-22T19:09:46.407Z"
   },
   {
    "duration": 12,
    "start_time": "2024-12-22T19:09:46.426Z"
   },
   {
    "duration": 53,
    "start_time": "2024-12-22T19:11:47.333Z"
   },
   {
    "duration": 10,
    "start_time": "2024-12-22T19:11:58.528Z"
   },
   {
    "duration": 11,
    "start_time": "2024-12-22T19:29:51.139Z"
   },
   {
    "duration": 2739,
    "start_time": "2024-12-22T19:30:01.774Z"
   },
   {
    "duration": 1231,
    "start_time": "2024-12-22T19:30:04.516Z"
   },
   {
    "duration": 41,
    "start_time": "2024-12-22T19:30:05.748Z"
   },
   {
    "duration": 28,
    "start_time": "2024-12-22T19:30:05.790Z"
   },
   {
    "duration": 20,
    "start_time": "2024-12-22T19:30:05.821Z"
   },
   {
    "duration": 42,
    "start_time": "2024-12-22T19:30:05.843Z"
   },
   {
    "duration": 37,
    "start_time": "2024-12-22T19:30:05.887Z"
   },
   {
    "duration": 22,
    "start_time": "2024-12-22T19:30:05.926Z"
   },
   {
    "duration": 20,
    "start_time": "2024-12-22T19:30:05.950Z"
   },
   {
    "duration": 16,
    "start_time": "2024-12-22T19:30:05.971Z"
   },
   {
    "duration": 40,
    "start_time": "2024-12-22T19:30:05.989Z"
   },
   {
    "duration": 22,
    "start_time": "2024-12-22T19:30:06.030Z"
   },
   {
    "duration": 15,
    "start_time": "2024-12-22T19:30:06.054Z"
   },
   {
    "duration": 39,
    "start_time": "2024-12-22T19:30:06.072Z"
   },
   {
    "duration": 41,
    "start_time": "2024-12-22T19:30:06.112Z"
   },
   {
    "duration": 37,
    "start_time": "2024-12-22T19:30:06.155Z"
   },
   {
    "duration": 95,
    "start_time": "2024-12-22T19:30:06.193Z"
   },
   {
    "duration": 20,
    "start_time": "2024-12-22T19:30:06.289Z"
   },
   {
    "duration": 16,
    "start_time": "2024-12-22T19:30:06.311Z"
   },
   {
    "duration": 32,
    "start_time": "2024-12-22T19:30:06.329Z"
   },
   {
    "duration": 30,
    "start_time": "2024-12-22T19:30:06.363Z"
   },
   {
    "duration": 24,
    "start_time": "2024-12-22T19:30:06.395Z"
   },
   {
    "duration": 32,
    "start_time": "2024-12-22T19:30:06.420Z"
   },
   {
    "duration": 306,
    "start_time": "2024-12-22T19:30:06.453Z"
   },
   {
    "duration": 19,
    "start_time": "2024-12-22T19:30:06.760Z"
   },
   {
    "duration": 195,
    "start_time": "2024-12-22T19:30:06.781Z"
   },
   {
    "duration": 19,
    "start_time": "2024-12-22T19:30:06.977Z"
   },
   {
    "duration": 196,
    "start_time": "2024-12-22T19:30:06.997Z"
   },
   {
    "duration": 20,
    "start_time": "2024-12-22T19:30:07.194Z"
   },
   {
    "duration": 335,
    "start_time": "2024-12-22T19:30:07.215Z"
   },
   {
    "duration": 21,
    "start_time": "2024-12-22T19:30:07.551Z"
   },
   {
    "duration": 284,
    "start_time": "2024-12-22T19:30:07.573Z"
   },
   {
    "duration": 118,
    "start_time": "2024-12-22T19:30:07.859Z"
   },
   {
    "duration": 890,
    "start_time": "2024-12-22T19:30:07.978Z"
   },
   {
    "duration": 445,
    "start_time": "2024-12-22T19:30:08.870Z"
   },
   {
    "duration": 19,
    "start_time": "2024-12-22T19:30:09.316Z"
   },
   {
    "duration": 243,
    "start_time": "2024-12-22T19:30:09.336Z"
   },
   {
    "duration": 18,
    "start_time": "2024-12-22T19:30:09.580Z"
   },
   {
    "duration": 197,
    "start_time": "2024-12-22T19:30:09.599Z"
   },
   {
    "duration": 18,
    "start_time": "2024-12-22T19:30:09.798Z"
   },
   {
    "duration": 212,
    "start_time": "2024-12-22T19:30:09.820Z"
   },
   {
    "duration": 568,
    "start_time": "2024-12-22T19:30:10.034Z"
   },
   {
    "duration": 412,
    "start_time": "2024-12-22T19:30:10.604Z"
   },
   {
    "duration": 490,
    "start_time": "2024-12-22T19:30:11.017Z"
   },
   {
    "duration": 1379,
    "start_time": "2024-12-22T19:30:11.509Z"
   },
   {
    "duration": 25,
    "start_time": "2024-12-22T19:30:12.889Z"
   },
   {
    "duration": 49,
    "start_time": "2024-12-22T19:30:12.915Z"
   },
   {
    "duration": 7,
    "start_time": "2024-12-22T19:30:12.966Z"
   },
   {
    "duration": 41,
    "start_time": "2024-12-22T19:30:12.974Z"
   },
   {
    "duration": 16,
    "start_time": "2024-12-22T19:30:13.016Z"
   },
   {
    "duration": 6,
    "start_time": "2024-12-22T19:30:13.033Z"
   },
   {
    "duration": 21,
    "start_time": "2024-12-22T19:30:13.040Z"
   },
   {
    "duration": 12,
    "start_time": "2024-12-22T19:30:22.953Z"
   },
   {
    "duration": 3,
    "start_time": "2024-12-22T19:31:49.883Z"
   },
   {
    "duration": 3,
    "start_time": "2024-12-22T19:33:10.500Z"
   },
   {
    "duration": 4,
    "start_time": "2024-12-22T19:33:16.593Z"
   },
   {
    "duration": 5,
    "start_time": "2024-12-22T19:33:30.801Z"
   },
   {
    "duration": 5,
    "start_time": "2024-12-22T19:33:40.096Z"
   },
   {
    "duration": 86,
    "start_time": "2024-12-22T19:33:55.934Z"
   },
   {
    "duration": 5,
    "start_time": "2024-12-22T19:33:59.958Z"
   },
   {
    "duration": 58,
    "start_time": "2024-12-22T19:34:38.497Z"
   },
   {
    "duration": 104,
    "start_time": "2024-12-22T19:34:41.215Z"
   },
   {
    "duration": 4,
    "start_time": "2024-12-22T19:34:55.160Z"
   },
   {
    "duration": 5,
    "start_time": "2024-12-22T19:35:04.800Z"
   },
   {
    "duration": 11,
    "start_time": "2024-12-22T19:37:18.248Z"
   },
   {
    "duration": 51,
    "start_time": "2024-12-22T19:37:23.526Z"
   },
   {
    "duration": 0,
    "start_time": "2024-12-22T19:37:23.579Z"
   },
   {
    "duration": 12,
    "start_time": "2024-12-22T19:37:31.620Z"
   },
   {
    "duration": 11,
    "start_time": "2024-12-22T19:37:32.087Z"
   },
   {
    "duration": 11,
    "start_time": "2024-12-22T19:38:02.485Z"
   },
   {
    "duration": 22,
    "start_time": "2024-12-22T19:38:02.498Z"
   },
   {
    "duration": 10,
    "start_time": "2024-12-22T19:38:30.652Z"
   },
   {
    "duration": 11,
    "start_time": "2024-12-22T19:47:49.242Z"
   },
   {
    "duration": 10,
    "start_time": "2024-12-22T19:48:21.208Z"
   },
   {
    "duration": 10,
    "start_time": "2024-12-22T19:48:54.885Z"
   },
   {
    "duration": 11,
    "start_time": "2024-12-22T19:48:55.081Z"
   },
   {
    "duration": 12,
    "start_time": "2024-12-22T19:48:56.038Z"
   },
   {
    "duration": 48,
    "start_time": "2024-12-22T19:52:16.152Z"
   },
   {
    "duration": 10,
    "start_time": "2024-12-22T19:53:01.394Z"
   },
   {
    "duration": 10,
    "start_time": "2024-12-22T19:58:51.158Z"
   },
   {
    "duration": 2617,
    "start_time": "2024-12-22T19:59:46.084Z"
   },
   {
    "duration": 1137,
    "start_time": "2024-12-22T19:59:48.703Z"
   },
   {
    "duration": 40,
    "start_time": "2024-12-22T19:59:49.842Z"
   },
   {
    "duration": 21,
    "start_time": "2024-12-22T19:59:49.883Z"
   },
   {
    "duration": 2,
    "start_time": "2024-12-22T19:59:49.906Z"
   },
   {
    "duration": 26,
    "start_time": "2024-12-22T19:59:49.910Z"
   },
   {
    "duration": 8,
    "start_time": "2024-12-22T19:59:49.938Z"
   },
   {
    "duration": 16,
    "start_time": "2024-12-22T19:59:49.952Z"
   },
   {
    "duration": 16,
    "start_time": "2024-12-22T19:59:49.970Z"
   },
   {
    "duration": 4,
    "start_time": "2024-12-22T19:59:49.989Z"
   },
   {
    "duration": 4,
    "start_time": "2024-12-22T19:59:49.995Z"
   },
   {
    "duration": 10,
    "start_time": "2024-12-22T19:59:50.001Z"
   },
   {
    "duration": 45,
    "start_time": "2024-12-22T19:59:50.012Z"
   },
   {
    "duration": 9,
    "start_time": "2024-12-22T19:59:50.058Z"
   },
   {
    "duration": 9,
    "start_time": "2024-12-22T19:59:50.069Z"
   },
   {
    "duration": 5,
    "start_time": "2024-12-22T19:59:50.079Z"
   },
   {
    "duration": 22,
    "start_time": "2024-12-22T19:59:50.085Z"
   },
   {
    "duration": 4,
    "start_time": "2024-12-22T19:59:50.108Z"
   },
   {
    "duration": 4,
    "start_time": "2024-12-22T19:59:50.113Z"
   },
   {
    "duration": 37,
    "start_time": "2024-12-22T19:59:50.118Z"
   },
   {
    "duration": 34,
    "start_time": "2024-12-22T19:59:50.157Z"
   },
   {
    "duration": 40,
    "start_time": "2024-12-22T19:59:50.193Z"
   },
   {
    "duration": 4,
    "start_time": "2024-12-22T19:59:50.235Z"
   },
   {
    "duration": 13,
    "start_time": "2024-12-22T19:59:50.240Z"
   },
   {
    "duration": 341,
    "start_time": "2024-12-22T19:59:50.255Z"
   },
   {
    "duration": 20,
    "start_time": "2024-12-22T19:59:50.597Z"
   },
   {
    "duration": 203,
    "start_time": "2024-12-22T19:59:50.618Z"
   },
   {
    "duration": 28,
    "start_time": "2024-12-22T19:59:50.825Z"
   },
   {
    "duration": 187,
    "start_time": "2024-12-22T19:59:50.855Z"
   },
   {
    "duration": 24,
    "start_time": "2024-12-22T19:59:51.043Z"
   },
   {
    "duration": 303,
    "start_time": "2024-12-22T19:59:51.069Z"
   },
   {
    "duration": 20,
    "start_time": "2024-12-22T19:59:51.374Z"
   },
   {
    "duration": 290,
    "start_time": "2024-12-22T19:59:51.395Z"
   },
   {
    "duration": 127,
    "start_time": "2024-12-22T19:59:51.686Z"
   },
   {
    "duration": 912,
    "start_time": "2024-12-22T19:59:51.814Z"
   },
   {
    "duration": 467,
    "start_time": "2024-12-22T19:59:52.727Z"
   },
   {
    "duration": 18,
    "start_time": "2024-12-22T19:59:53.195Z"
   },
   {
    "duration": 212,
    "start_time": "2024-12-22T19:59:53.215Z"
   },
   {
    "duration": 25,
    "start_time": "2024-12-22T19:59:53.428Z"
   },
   {
    "duration": 216,
    "start_time": "2024-12-22T19:59:53.455Z"
   },
   {
    "duration": 18,
    "start_time": "2024-12-22T19:59:53.672Z"
   },
   {
    "duration": 217,
    "start_time": "2024-12-22T19:59:53.691Z"
   },
   {
    "duration": 602,
    "start_time": "2024-12-22T19:59:53.913Z"
   },
   {
    "duration": 430,
    "start_time": "2024-12-22T19:59:54.517Z"
   },
   {
    "duration": 456,
    "start_time": "2024-12-22T19:59:54.953Z"
   },
   {
    "duration": 1399,
    "start_time": "2024-12-22T19:59:55.410Z"
   },
   {
    "duration": 25,
    "start_time": "2024-12-22T19:59:56.810Z"
   },
   {
    "duration": 42,
    "start_time": "2024-12-22T19:59:56.837Z"
   },
   {
    "duration": 7,
    "start_time": "2024-12-22T19:59:56.880Z"
   },
   {
    "duration": 5,
    "start_time": "2024-12-22T19:59:56.889Z"
   },
   {
    "duration": 7,
    "start_time": "2024-12-22T19:59:56.895Z"
   },
   {
    "duration": 10,
    "start_time": "2024-12-22T19:59:56.903Z"
   },
   {
    "duration": 12,
    "start_time": "2024-12-22T19:59:56.914Z"
   },
   {
    "duration": 11,
    "start_time": "2024-12-22T19:59:56.953Z"
   },
   {
    "duration": 10,
    "start_time": "2024-12-22T19:59:56.965Z"
   },
   {
    "duration": 25,
    "start_time": "2024-12-22T19:59:56.977Z"
   },
   {
    "duration": 27,
    "start_time": "2024-12-22T19:59:57.004Z"
   },
   {
    "duration": 10,
    "start_time": "2024-12-22T20:00:43.989Z"
   },
   {
    "duration": 16,
    "start_time": "2024-12-22T20:01:07.398Z"
   },
   {
    "duration": 15,
    "start_time": "2024-12-22T20:01:15.157Z"
   },
   {
    "duration": 11,
    "start_time": "2024-12-22T20:01:23.768Z"
   },
   {
    "duration": 10,
    "start_time": "2024-12-22T20:01:31.162Z"
   },
   {
    "duration": 34,
    "start_time": "2024-12-22T20:07:13.239Z"
   },
   {
    "duration": 2642,
    "start_time": "2024-12-22T20:07:39.314Z"
   },
   {
    "duration": 1212,
    "start_time": "2024-12-22T20:07:41.958Z"
   },
   {
    "duration": 39,
    "start_time": "2024-12-22T20:07:43.172Z"
   },
   {
    "duration": 20,
    "start_time": "2024-12-22T20:07:43.212Z"
   },
   {
    "duration": 3,
    "start_time": "2024-12-22T20:07:43.234Z"
   },
   {
    "duration": 26,
    "start_time": "2024-12-22T20:07:43.238Z"
   },
   {
    "duration": 8,
    "start_time": "2024-12-22T20:07:43.266Z"
   },
   {
    "duration": 15,
    "start_time": "2024-12-22T20:07:43.276Z"
   },
   {
    "duration": 15,
    "start_time": "2024-12-22T20:07:43.292Z"
   },
   {
    "duration": 5,
    "start_time": "2024-12-22T20:07:43.308Z"
   },
   {
    "duration": 41,
    "start_time": "2024-12-22T20:07:43.314Z"
   },
   {
    "duration": 9,
    "start_time": "2024-12-22T20:07:43.356Z"
   },
   {
    "duration": 10,
    "start_time": "2024-12-22T20:07:43.367Z"
   },
   {
    "duration": 21,
    "start_time": "2024-12-22T20:07:43.380Z"
   },
   {
    "duration": 4,
    "start_time": "2024-12-22T20:07:43.402Z"
   },
   {
    "duration": 21,
    "start_time": "2024-12-22T20:07:43.407Z"
   },
   {
    "duration": 24,
    "start_time": "2024-12-22T20:07:43.429Z"
   },
   {
    "duration": 27,
    "start_time": "2024-12-22T20:07:43.454Z"
   },
   {
    "duration": 15,
    "start_time": "2024-12-22T20:07:43.482Z"
   },
   {
    "duration": 10,
    "start_time": "2024-12-22T20:07:43.498Z"
   },
   {
    "duration": 28,
    "start_time": "2024-12-22T20:07:43.509Z"
   },
   {
    "duration": 25,
    "start_time": "2024-12-22T20:07:43.539Z"
   },
   {
    "duration": 5,
    "start_time": "2024-12-22T20:07:43.565Z"
   },
   {
    "duration": 8,
    "start_time": "2024-12-22T20:07:43.571Z"
   },
   {
    "duration": 340,
    "start_time": "2024-12-22T20:07:43.580Z"
   },
   {
    "duration": 40,
    "start_time": "2024-12-22T20:07:43.922Z"
   },
   {
    "duration": 205,
    "start_time": "2024-12-22T20:07:43.964Z"
   },
   {
    "duration": 19,
    "start_time": "2024-12-22T20:07:44.171Z"
   },
   {
    "duration": 191,
    "start_time": "2024-12-22T20:07:44.191Z"
   },
   {
    "duration": 20,
    "start_time": "2024-12-22T20:07:44.384Z"
   },
   {
    "duration": 308,
    "start_time": "2024-12-22T20:07:44.405Z"
   },
   {
    "duration": 20,
    "start_time": "2024-12-22T20:07:44.714Z"
   },
   {
    "duration": 291,
    "start_time": "2024-12-22T20:07:44.736Z"
   },
   {
    "duration": 124,
    "start_time": "2024-12-22T20:07:45.028Z"
   },
   {
    "duration": 899,
    "start_time": "2024-12-22T20:07:45.154Z"
   },
   {
    "duration": 449,
    "start_time": "2024-12-22T20:07:46.054Z"
   },
   {
    "duration": 21,
    "start_time": "2024-12-22T20:07:46.505Z"
   },
   {
    "duration": 216,
    "start_time": "2024-12-22T20:07:46.528Z"
   },
   {
    "duration": 21,
    "start_time": "2024-12-22T20:07:46.746Z"
   },
   {
    "duration": 207,
    "start_time": "2024-12-22T20:07:46.768Z"
   },
   {
    "duration": 19,
    "start_time": "2024-12-22T20:07:46.979Z"
   },
   {
    "duration": 210,
    "start_time": "2024-12-22T20:07:46.999Z"
   },
   {
    "duration": 572,
    "start_time": "2024-12-22T20:07:47.211Z"
   },
   {
    "duration": 420,
    "start_time": "2024-12-22T20:07:47.784Z"
   },
   {
    "duration": 459,
    "start_time": "2024-12-22T20:07:48.205Z"
   },
   {
    "duration": 1391,
    "start_time": "2024-12-22T20:07:48.665Z"
   },
   {
    "duration": 24,
    "start_time": "2024-12-22T20:07:50.058Z"
   },
   {
    "duration": 57,
    "start_time": "2024-12-22T20:07:50.084Z"
   },
   {
    "duration": 7,
    "start_time": "2024-12-22T20:07:50.142Z"
   },
   {
    "duration": 18,
    "start_time": "2024-12-22T20:07:50.151Z"
   },
   {
    "duration": 34,
    "start_time": "2024-12-22T20:07:50.171Z"
   },
   {
    "duration": 13,
    "start_time": "2024-12-22T20:07:50.206Z"
   },
   {
    "duration": 13,
    "start_time": "2024-12-22T20:07:50.220Z"
   },
   {
    "duration": 9,
    "start_time": "2024-12-22T20:07:50.235Z"
   },
   {
    "duration": 25,
    "start_time": "2024-12-22T20:07:50.245Z"
   },
   {
    "duration": 27,
    "start_time": "2024-12-22T20:07:50.271Z"
   },
   {
    "duration": 11,
    "start_time": "2024-12-22T20:07:50.299Z"
   },
   {
    "duration": 67,
    "start_time": "2024-12-22T20:07:50.312Z"
   },
   {
    "duration": 10,
    "start_time": "2024-12-22T20:08:07.416Z"
   },
   {
    "duration": 11,
    "start_time": "2024-12-22T20:13:24.474Z"
   },
   {
    "duration": 12,
    "start_time": "2024-12-22T20:14:26.602Z"
   },
   {
    "duration": 11,
    "start_time": "2024-12-22T20:14:46.570Z"
   },
   {
    "duration": 12,
    "start_time": "2024-12-22T20:14:48.777Z"
   },
   {
    "duration": 2607,
    "start_time": "2024-12-22T20:15:53.001Z"
   },
   {
    "duration": 1168,
    "start_time": "2024-12-22T20:15:55.610Z"
   },
   {
    "duration": 39,
    "start_time": "2024-12-22T20:15:56.780Z"
   },
   {
    "duration": 21,
    "start_time": "2024-12-22T20:15:56.821Z"
   },
   {
    "duration": 2,
    "start_time": "2024-12-22T20:15:56.844Z"
   },
   {
    "duration": 22,
    "start_time": "2024-12-22T20:15:56.848Z"
   },
   {
    "duration": 8,
    "start_time": "2024-12-22T20:15:56.872Z"
   },
   {
    "duration": 18,
    "start_time": "2024-12-22T20:15:56.882Z"
   },
   {
    "duration": 15,
    "start_time": "2024-12-22T20:15:56.901Z"
   },
   {
    "duration": 4,
    "start_time": "2024-12-22T20:15:56.918Z"
   },
   {
    "duration": 31,
    "start_time": "2024-12-22T20:15:56.923Z"
   },
   {
    "duration": 6,
    "start_time": "2024-12-22T20:15:56.955Z"
   },
   {
    "duration": 7,
    "start_time": "2024-12-22T20:15:56.962Z"
   },
   {
    "duration": 9,
    "start_time": "2024-12-22T20:15:56.970Z"
   },
   {
    "duration": 13,
    "start_time": "2024-12-22T20:15:56.980Z"
   },
   {
    "duration": 4,
    "start_time": "2024-12-22T20:15:56.995Z"
   },
   {
    "duration": 12,
    "start_time": "2024-12-22T20:15:57.000Z"
   },
   {
    "duration": 3,
    "start_time": "2024-12-22T20:15:57.013Z"
   },
   {
    "duration": 37,
    "start_time": "2024-12-22T20:15:57.017Z"
   },
   {
    "duration": 11,
    "start_time": "2024-12-22T20:15:57.056Z"
   },
   {
    "duration": 29,
    "start_time": "2024-12-22T20:15:57.068Z"
   },
   {
    "duration": 25,
    "start_time": "2024-12-22T20:15:57.098Z"
   },
   {
    "duration": 5,
    "start_time": "2024-12-22T20:15:57.153Z"
   },
   {
    "duration": 8,
    "start_time": "2024-12-22T20:15:57.159Z"
   },
   {
    "duration": 318,
    "start_time": "2024-12-22T20:15:57.168Z"
   },
   {
    "duration": 18,
    "start_time": "2024-12-22T20:15:57.488Z"
   },
   {
    "duration": 204,
    "start_time": "2024-12-22T20:15:57.507Z"
   },
   {
    "duration": 18,
    "start_time": "2024-12-22T20:15:57.715Z"
   },
   {
    "duration": 193,
    "start_time": "2024-12-22T20:15:57.734Z"
   },
   {
    "duration": 27,
    "start_time": "2024-12-22T20:15:57.928Z"
   },
   {
    "duration": 312,
    "start_time": "2024-12-22T20:15:57.956Z"
   },
   {
    "duration": 19,
    "start_time": "2024-12-22T20:15:58.270Z"
   },
   {
    "duration": 281,
    "start_time": "2024-12-22T20:15:58.290Z"
   },
   {
    "duration": 115,
    "start_time": "2024-12-22T20:15:58.572Z"
   },
   {
    "duration": 897,
    "start_time": "2024-12-22T20:15:58.689Z"
   },
   {
    "duration": 473,
    "start_time": "2024-12-22T20:15:59.587Z"
   },
   {
    "duration": 20,
    "start_time": "2024-12-22T20:16:00.061Z"
   },
   {
    "duration": 229,
    "start_time": "2024-12-22T20:16:00.082Z"
   },
   {
    "duration": 19,
    "start_time": "2024-12-22T20:16:00.312Z"
   },
   {
    "duration": 250,
    "start_time": "2024-12-22T20:16:00.333Z"
   },
   {
    "duration": 19,
    "start_time": "2024-12-22T20:16:00.584Z"
   },
   {
    "duration": 217,
    "start_time": "2024-12-22T20:16:00.604Z"
   },
   {
    "duration": 578,
    "start_time": "2024-12-22T20:16:00.823Z"
   },
   {
    "duration": 430,
    "start_time": "2024-12-22T20:16:01.403Z"
   },
   {
    "duration": 473,
    "start_time": "2024-12-22T20:16:01.834Z"
   },
   {
    "duration": 1422,
    "start_time": "2024-12-22T20:16:02.309Z"
   },
   {
    "duration": 34,
    "start_time": "2024-12-22T20:16:03.733Z"
   },
   {
    "duration": 30,
    "start_time": "2024-12-22T20:16:03.768Z"
   },
   {
    "duration": 10,
    "start_time": "2024-12-22T20:16:03.800Z"
   },
   {
    "duration": 40,
    "start_time": "2024-12-22T20:16:03.811Z"
   },
   {
    "duration": 8,
    "start_time": "2024-12-22T20:16:03.853Z"
   },
   {
    "duration": 54,
    "start_time": "2024-12-22T20:16:03.862Z"
   },
   {
    "duration": 40,
    "start_time": "2024-12-22T20:16:03.918Z"
   },
   {
    "duration": 29,
    "start_time": "2024-12-22T20:16:03.960Z"
   },
   {
    "duration": 33,
    "start_time": "2024-12-22T20:16:03.991Z"
   },
   {
    "duration": 10,
    "start_time": "2024-12-22T20:16:04.026Z"
   },
   {
    "duration": 18,
    "start_time": "2024-12-22T20:16:04.037Z"
   },
   {
    "duration": 65,
    "start_time": "2024-12-22T20:16:04.056Z"
   },
   {
    "duration": 31,
    "start_time": "2024-12-22T20:16:04.123Z"
   },
   {
    "duration": 2606,
    "start_time": "2024-12-22T20:20:05.919Z"
   },
   {
    "duration": 1225,
    "start_time": "2024-12-22T20:20:08.528Z"
   },
   {
    "duration": 40,
    "start_time": "2024-12-22T20:20:09.754Z"
   },
   {
    "duration": 21,
    "start_time": "2024-12-22T20:20:09.796Z"
   },
   {
    "duration": 3,
    "start_time": "2024-12-22T20:20:09.818Z"
   },
   {
    "duration": 18,
    "start_time": "2024-12-22T20:20:09.823Z"
   },
   {
    "duration": 16,
    "start_time": "2024-12-22T20:20:09.843Z"
   },
   {
    "duration": 16,
    "start_time": "2024-12-22T20:20:09.860Z"
   },
   {
    "duration": 16,
    "start_time": "2024-12-22T20:20:09.878Z"
   },
   {
    "duration": 4,
    "start_time": "2024-12-22T20:20:09.896Z"
   },
   {
    "duration": 5,
    "start_time": "2024-12-22T20:20:09.902Z"
   },
   {
    "duration": 6,
    "start_time": "2024-12-22T20:20:09.908Z"
   },
   {
    "duration": 43,
    "start_time": "2024-12-22T20:20:09.915Z"
   },
   {
    "duration": 10,
    "start_time": "2024-12-22T20:20:09.959Z"
   },
   {
    "duration": 12,
    "start_time": "2024-12-22T20:20:09.971Z"
   },
   {
    "duration": 6,
    "start_time": "2024-12-22T20:20:09.984Z"
   },
   {
    "duration": 16,
    "start_time": "2024-12-22T20:20:09.991Z"
   },
   {
    "duration": 14,
    "start_time": "2024-12-22T20:20:10.009Z"
   },
   {
    "duration": 37,
    "start_time": "2024-12-22T20:20:10.025Z"
   },
   {
    "duration": 22,
    "start_time": "2024-12-22T20:20:10.063Z"
   },
   {
    "duration": 37,
    "start_time": "2024-12-22T20:20:10.087Z"
   },
   {
    "duration": 34,
    "start_time": "2024-12-22T20:20:10.126Z"
   },
   {
    "duration": 5,
    "start_time": "2024-12-22T20:20:10.162Z"
   },
   {
    "duration": 6,
    "start_time": "2024-12-22T20:20:10.169Z"
   },
   {
    "duration": 329,
    "start_time": "2024-12-22T20:20:10.177Z"
   },
   {
    "duration": 20,
    "start_time": "2024-12-22T20:20:10.507Z"
   },
   {
    "duration": 200,
    "start_time": "2024-12-22T20:20:10.528Z"
   },
   {
    "duration": 31,
    "start_time": "2024-12-22T20:20:10.731Z"
   },
   {
    "duration": 181,
    "start_time": "2024-12-22T20:20:10.764Z"
   },
   {
    "duration": 23,
    "start_time": "2024-12-22T20:20:10.946Z"
   },
   {
    "duration": 298,
    "start_time": "2024-12-22T20:20:10.971Z"
   },
   {
    "duration": 20,
    "start_time": "2024-12-22T20:20:11.271Z"
   },
   {
    "duration": 292,
    "start_time": "2024-12-22T20:20:11.292Z"
   },
   {
    "duration": 124,
    "start_time": "2024-12-22T20:20:11.585Z"
   },
   {
    "duration": 901,
    "start_time": "2024-12-22T20:20:11.711Z"
   },
   {
    "duration": 464,
    "start_time": "2024-12-22T20:20:12.613Z"
   },
   {
    "duration": 19,
    "start_time": "2024-12-22T20:20:13.079Z"
   },
   {
    "duration": 215,
    "start_time": "2024-12-22T20:20:13.099Z"
   },
   {
    "duration": 18,
    "start_time": "2024-12-22T20:20:13.315Z"
   },
   {
    "duration": 202,
    "start_time": "2024-12-22T20:20:13.334Z"
   },
   {
    "duration": 27,
    "start_time": "2024-12-22T20:20:13.537Z"
   },
   {
    "duration": 196,
    "start_time": "2024-12-22T20:20:13.566Z"
   },
   {
    "duration": 600,
    "start_time": "2024-12-22T20:20:13.763Z"
   },
   {
    "duration": 421,
    "start_time": "2024-12-22T20:20:14.365Z"
   },
   {
    "duration": 449,
    "start_time": "2024-12-22T20:20:14.787Z"
   },
   {
    "duration": 1369,
    "start_time": "2024-12-22T20:20:15.237Z"
   },
   {
    "duration": 27,
    "start_time": "2024-12-22T20:20:16.607Z"
   },
   {
    "duration": 56,
    "start_time": "2024-12-22T20:20:16.635Z"
   },
   {
    "duration": 13,
    "start_time": "2024-12-22T20:20:16.693Z"
   },
   {
    "duration": 30,
    "start_time": "2024-12-22T20:20:16.707Z"
   },
   {
    "duration": 50,
    "start_time": "2024-12-22T20:20:16.738Z"
   },
   {
    "duration": 64,
    "start_time": "2024-12-22T20:20:16.790Z"
   },
   {
    "duration": 46,
    "start_time": "2024-12-22T20:20:16.855Z"
   },
   {
    "duration": 48,
    "start_time": "2024-12-22T20:20:16.903Z"
   },
   {
    "duration": 49,
    "start_time": "2024-12-22T20:20:16.952Z"
   },
   {
    "duration": 33,
    "start_time": "2024-12-22T20:20:17.003Z"
   },
   {
    "duration": 32,
    "start_time": "2024-12-22T20:20:17.037Z"
   },
   {
    "duration": 41,
    "start_time": "2024-12-22T20:20:17.071Z"
   },
   {
    "duration": 51,
    "start_time": "2024-12-22T20:20:17.114Z"
   },
   {
    "duration": 2735,
    "start_time": "2024-12-22T21:29:31.726Z"
   },
   {
    "duration": 1188,
    "start_time": "2024-12-22T21:29:34.463Z"
   },
   {
    "duration": 40,
    "start_time": "2024-12-22T21:29:35.654Z"
   },
   {
    "duration": 20,
    "start_time": "2024-12-22T21:29:35.696Z"
   },
   {
    "duration": 3,
    "start_time": "2024-12-22T21:29:35.718Z"
   },
   {
    "duration": 44,
    "start_time": "2024-12-22T21:29:35.722Z"
   },
   {
    "duration": 60,
    "start_time": "2024-12-22T21:29:35.767Z"
   },
   {
    "duration": 39,
    "start_time": "2024-12-22T21:29:35.829Z"
   },
   {
    "duration": 16,
    "start_time": "2024-12-22T21:29:35.869Z"
   },
   {
    "duration": 36,
    "start_time": "2024-12-22T21:29:35.886Z"
   },
   {
    "duration": 25,
    "start_time": "2024-12-22T21:29:35.924Z"
   },
   {
    "duration": 25,
    "start_time": "2024-12-22T21:29:35.950Z"
   },
   {
    "duration": 30,
    "start_time": "2024-12-22T21:29:35.976Z"
   },
   {
    "duration": 29,
    "start_time": "2024-12-22T21:29:36.008Z"
   },
   {
    "duration": 22,
    "start_time": "2024-12-22T21:29:36.038Z"
   },
   {
    "duration": 40,
    "start_time": "2024-12-22T21:29:36.062Z"
   },
   {
    "duration": 22,
    "start_time": "2024-12-22T21:29:36.103Z"
   },
   {
    "duration": 24,
    "start_time": "2024-12-22T21:29:36.127Z"
   },
   {
    "duration": 24,
    "start_time": "2024-12-22T21:29:36.152Z"
   },
   {
    "duration": 35,
    "start_time": "2024-12-22T21:29:36.177Z"
   },
   {
    "duration": 47,
    "start_time": "2024-12-22T21:29:36.213Z"
   },
   {
    "duration": 24,
    "start_time": "2024-12-22T21:29:36.262Z"
   },
   {
    "duration": 5,
    "start_time": "2024-12-22T21:29:36.288Z"
   },
   {
    "duration": 16,
    "start_time": "2024-12-22T21:29:36.294Z"
   },
   {
    "duration": 314,
    "start_time": "2024-12-22T21:29:36.311Z"
   },
   {
    "duration": 34,
    "start_time": "2024-12-22T21:29:36.627Z"
   },
   {
    "duration": 201,
    "start_time": "2024-12-22T21:29:36.663Z"
   },
   {
    "duration": 21,
    "start_time": "2024-12-22T21:29:36.866Z"
   },
   {
    "duration": 191,
    "start_time": "2024-12-22T21:29:36.889Z"
   },
   {
    "duration": 21,
    "start_time": "2024-12-22T21:29:37.082Z"
   },
   {
    "duration": 313,
    "start_time": "2024-12-22T21:29:37.106Z"
   },
   {
    "duration": 32,
    "start_time": "2024-12-22T21:29:37.421Z"
   },
   {
    "duration": 279,
    "start_time": "2024-12-22T21:29:37.455Z"
   },
   {
    "duration": 118,
    "start_time": "2024-12-22T21:29:37.736Z"
   },
   {
    "duration": 897,
    "start_time": "2024-12-22T21:29:37.856Z"
   },
   {
    "duration": 458,
    "start_time": "2024-12-22T21:29:38.754Z"
   },
   {
    "duration": 21,
    "start_time": "2024-12-22T21:29:39.214Z"
   },
   {
    "duration": 217,
    "start_time": "2024-12-22T21:29:39.237Z"
   },
   {
    "duration": 19,
    "start_time": "2024-12-22T21:29:39.457Z"
   },
   {
    "duration": 202,
    "start_time": "2024-12-22T21:29:39.477Z"
   },
   {
    "duration": 19,
    "start_time": "2024-12-22T21:29:39.684Z"
   },
   {
    "duration": 240,
    "start_time": "2024-12-22T21:29:39.705Z"
   },
   {
    "duration": 589,
    "start_time": "2024-12-22T21:29:39.946Z"
   },
   {
    "duration": 418,
    "start_time": "2024-12-22T21:29:40.538Z"
   },
   {
    "duration": 457,
    "start_time": "2024-12-22T21:29:40.958Z"
   },
   {
    "duration": 1432,
    "start_time": "2024-12-22T21:29:41.417Z"
   },
   {
    "duration": 28,
    "start_time": "2024-12-22T21:29:42.851Z"
   },
   {
    "duration": 51,
    "start_time": "2024-12-22T21:29:42.881Z"
   },
   {
    "duration": 8,
    "start_time": "2024-12-22T21:29:42.934Z"
   },
   {
    "duration": 19,
    "start_time": "2024-12-22T21:29:42.943Z"
   },
   {
    "duration": 5,
    "start_time": "2024-12-22T21:29:42.963Z"
   },
   {
    "duration": 6,
    "start_time": "2024-12-22T21:29:42.970Z"
   },
   {
    "duration": 16,
    "start_time": "2024-12-22T21:29:42.978Z"
   },
   {
    "duration": 28,
    "start_time": "2024-12-22T21:29:42.995Z"
   },
   {
    "duration": 20,
    "start_time": "2024-12-22T21:29:43.024Z"
   },
   {
    "duration": 10,
    "start_time": "2024-12-22T21:29:43.045Z"
   },
   {
    "duration": 15,
    "start_time": "2024-12-22T21:29:43.056Z"
   },
   {
    "duration": 9,
    "start_time": "2024-12-22T21:29:43.072Z"
   },
   {
    "duration": 9,
    "start_time": "2024-12-22T21:29:43.083Z"
   },
   {
    "duration": 2581,
    "start_time": "2024-12-22T21:48:58.474Z"
   },
   {
    "duration": 1196,
    "start_time": "2024-12-22T21:49:01.057Z"
   },
   {
    "duration": 40,
    "start_time": "2024-12-22T21:49:02.254Z"
   },
   {
    "duration": 20,
    "start_time": "2024-12-22T21:49:02.296Z"
   },
   {
    "duration": 31,
    "start_time": "2024-12-22T21:49:02.318Z"
   },
   {
    "duration": 36,
    "start_time": "2024-12-22T21:49:02.351Z"
   },
   {
    "duration": 49,
    "start_time": "2024-12-22T21:49:02.389Z"
   },
   {
    "duration": 51,
    "start_time": "2024-12-22T21:49:02.440Z"
   },
   {
    "duration": 32,
    "start_time": "2024-12-22T21:49:02.493Z"
   },
   {
    "duration": 5,
    "start_time": "2024-12-22T21:49:02.527Z"
   },
   {
    "duration": 26,
    "start_time": "2024-12-22T21:49:02.533Z"
   },
   {
    "duration": 19,
    "start_time": "2024-12-22T21:49:02.561Z"
   },
   {
    "duration": 15,
    "start_time": "2024-12-22T21:49:02.581Z"
   },
   {
    "duration": 19,
    "start_time": "2024-12-22T21:49:02.598Z"
   },
   {
    "duration": 5,
    "start_time": "2024-12-22T21:49:02.619Z"
   },
   {
    "duration": 9,
    "start_time": "2024-12-22T21:49:02.625Z"
   },
   {
    "duration": 14,
    "start_time": "2024-12-22T21:49:02.636Z"
   },
   {
    "duration": 21,
    "start_time": "2024-12-22T21:49:02.652Z"
   },
   {
    "duration": 15,
    "start_time": "2024-12-22T21:49:02.674Z"
   },
   {
    "duration": 29,
    "start_time": "2024-12-22T21:49:02.690Z"
   },
   {
    "duration": 28,
    "start_time": "2024-12-22T21:49:02.721Z"
   },
   {
    "duration": 52,
    "start_time": "2024-12-22T21:49:02.750Z"
   },
   {
    "duration": 18,
    "start_time": "2024-12-22T21:49:02.804Z"
   },
   {
    "duration": 18,
    "start_time": "2024-12-22T21:49:02.823Z"
   },
   {
    "duration": 332,
    "start_time": "2024-12-22T21:49:02.842Z"
   },
   {
    "duration": 21,
    "start_time": "2024-12-22T21:49:03.176Z"
   },
   {
    "duration": 207,
    "start_time": "2024-12-22T21:49:03.198Z"
   },
   {
    "duration": 19,
    "start_time": "2024-12-22T21:49:03.409Z"
   },
   {
    "duration": 190,
    "start_time": "2024-12-22T21:49:03.429Z"
   },
   {
    "duration": 19,
    "start_time": "2024-12-22T21:49:03.620Z"
   },
   {
    "duration": 307,
    "start_time": "2024-12-22T21:49:03.653Z"
   },
   {
    "duration": 18,
    "start_time": "2024-12-22T21:49:03.962Z"
   },
   {
    "duration": 279,
    "start_time": "2024-12-22T21:49:03.982Z"
   },
   {
    "duration": 114,
    "start_time": "2024-12-22T21:49:04.262Z"
   },
   {
    "duration": 881,
    "start_time": "2024-12-22T21:49:04.378Z"
   },
   {
    "duration": 451,
    "start_time": "2024-12-22T21:49:05.261Z"
   },
   {
    "duration": 18,
    "start_time": "2024-12-22T21:49:05.714Z"
   },
   {
    "duration": 220,
    "start_time": "2024-12-22T21:49:05.734Z"
   },
   {
    "duration": 18,
    "start_time": "2024-12-22T21:49:05.956Z"
   },
   {
    "duration": 203,
    "start_time": "2024-12-22T21:49:05.975Z"
   },
   {
    "duration": 18,
    "start_time": "2024-12-22T21:49:06.179Z"
   },
   {
    "duration": 199,
    "start_time": "2024-12-22T21:49:06.198Z"
   },
   {
    "duration": 557,
    "start_time": "2024-12-22T21:49:06.398Z"
   },
   {
    "duration": 416,
    "start_time": "2024-12-22T21:49:06.957Z"
   },
   {
    "duration": 433,
    "start_time": "2024-12-22T21:49:07.374Z"
   },
   {
    "duration": 1373,
    "start_time": "2024-12-22T21:49:07.808Z"
   },
   {
    "duration": 9,
    "start_time": "2024-12-22T21:49:09.183Z"
   },
   {
    "duration": 54,
    "start_time": "2024-12-22T21:49:09.193Z"
   },
   {
    "duration": 32,
    "start_time": "2024-12-22T21:49:09.249Z"
   },
   {
    "duration": 62,
    "start_time": "2024-12-22T21:49:09.283Z"
   },
   {
    "duration": 12,
    "start_time": "2024-12-22T21:49:09.347Z"
   },
   {
    "duration": 10,
    "start_time": "2024-12-22T21:49:09.361Z"
   },
   {
    "duration": 21,
    "start_time": "2024-12-22T21:49:09.373Z"
   },
   {
    "duration": 38,
    "start_time": "2024-12-22T21:49:09.396Z"
   },
   {
    "duration": 14,
    "start_time": "2024-12-22T21:49:09.436Z"
   },
   {
    "duration": 10,
    "start_time": "2024-12-22T21:49:09.452Z"
   },
   {
    "duration": 9,
    "start_time": "2024-12-22T21:49:09.464Z"
   },
   {
    "duration": 2593,
    "start_time": "2024-12-22T21:49:29.766Z"
   },
   {
    "duration": 1192,
    "start_time": "2024-12-22T21:49:32.361Z"
   },
   {
    "duration": 39,
    "start_time": "2024-12-22T21:49:33.555Z"
   },
   {
    "duration": 21,
    "start_time": "2024-12-22T21:49:33.596Z"
   },
   {
    "duration": 3,
    "start_time": "2024-12-22T21:49:33.618Z"
   },
   {
    "duration": 33,
    "start_time": "2024-12-22T21:49:33.622Z"
   },
   {
    "duration": 19,
    "start_time": "2024-12-22T21:49:33.657Z"
   },
   {
    "duration": 15,
    "start_time": "2024-12-22T21:49:33.678Z"
   },
   {
    "duration": 28,
    "start_time": "2024-12-22T21:49:33.694Z"
   },
   {
    "duration": 5,
    "start_time": "2024-12-22T21:49:33.724Z"
   },
   {
    "duration": 7,
    "start_time": "2024-12-22T21:49:33.730Z"
   },
   {
    "duration": 6,
    "start_time": "2024-12-22T21:49:33.738Z"
   },
   {
    "duration": 5,
    "start_time": "2024-12-22T21:49:33.753Z"
   },
   {
    "duration": 46,
    "start_time": "2024-12-22T21:49:33.759Z"
   },
   {
    "duration": 8,
    "start_time": "2024-12-22T21:49:33.807Z"
   },
   {
    "duration": 6,
    "start_time": "2024-12-22T21:49:33.816Z"
   },
   {
    "duration": 15,
    "start_time": "2024-12-22T21:49:33.824Z"
   },
   {
    "duration": 4,
    "start_time": "2024-12-22T21:49:33.840Z"
   },
   {
    "duration": 12,
    "start_time": "2024-12-22T21:49:33.845Z"
   },
   {
    "duration": 24,
    "start_time": "2024-12-22T21:49:33.858Z"
   },
   {
    "duration": 78,
    "start_time": "2024-12-22T21:49:33.883Z"
   },
   {
    "duration": 27,
    "start_time": "2024-12-22T21:49:33.962Z"
   },
   {
    "duration": 10,
    "start_time": "2024-12-22T21:49:33.990Z"
   },
   {
    "duration": 30,
    "start_time": "2024-12-22T21:49:34.002Z"
   },
   {
    "duration": 311,
    "start_time": "2024-12-22T21:49:34.033Z"
   },
   {
    "duration": 24,
    "start_time": "2024-12-22T21:49:34.346Z"
   },
   {
    "duration": 205,
    "start_time": "2024-12-22T21:49:34.371Z"
   },
   {
    "duration": 19,
    "start_time": "2024-12-22T21:49:34.579Z"
   },
   {
    "duration": 194,
    "start_time": "2024-12-22T21:49:34.599Z"
   },
   {
    "duration": 18,
    "start_time": "2024-12-22T21:49:34.794Z"
   },
   {
    "duration": 298,
    "start_time": "2024-12-22T21:49:34.814Z"
   },
   {
    "duration": 21,
    "start_time": "2024-12-22T21:49:35.113Z"
   },
   {
    "duration": 290,
    "start_time": "2024-12-22T21:49:35.135Z"
   },
   {
    "duration": 114,
    "start_time": "2024-12-22T21:49:35.426Z"
   },
   {
    "duration": 894,
    "start_time": "2024-12-22T21:49:35.541Z"
   },
   {
    "duration": 451,
    "start_time": "2024-12-22T21:49:36.436Z"
   },
   {
    "duration": 18,
    "start_time": "2024-12-22T21:49:36.889Z"
   },
   {
    "duration": 208,
    "start_time": "2024-12-22T21:49:36.908Z"
   },
   {
    "duration": 19,
    "start_time": "2024-12-22T21:49:37.117Z"
   },
   {
    "duration": 208,
    "start_time": "2024-12-22T21:49:37.137Z"
   },
   {
    "duration": 23,
    "start_time": "2024-12-22T21:49:37.346Z"
   },
   {
    "duration": 190,
    "start_time": "2024-12-22T21:49:37.370Z"
   },
   {
    "duration": 571,
    "start_time": "2024-12-22T21:49:37.561Z"
   },
   {
    "duration": 414,
    "start_time": "2024-12-22T21:49:38.134Z"
   },
   {
    "duration": 447,
    "start_time": "2024-12-22T21:49:38.552Z"
   },
   {
    "duration": 1404,
    "start_time": "2024-12-22T21:49:39.001Z"
   },
   {
    "duration": 8,
    "start_time": "2024-12-22T21:49:40.406Z"
   },
   {
    "duration": 32,
    "start_time": "2024-12-22T21:49:40.415Z"
   },
   {
    "duration": 26,
    "start_time": "2024-12-22T21:49:40.449Z"
   },
   {
    "duration": 31,
    "start_time": "2024-12-22T21:49:40.476Z"
   },
   {
    "duration": 31,
    "start_time": "2024-12-22T21:49:40.508Z"
   },
   {
    "duration": 18,
    "start_time": "2024-12-22T21:49:40.541Z"
   },
   {
    "duration": 36,
    "start_time": "2024-12-22T21:49:40.560Z"
   },
   {
    "duration": 30,
    "start_time": "2024-12-22T21:49:40.597Z"
   },
   {
    "duration": 34,
    "start_time": "2024-12-22T21:49:40.628Z"
   },
   {
    "duration": 19,
    "start_time": "2024-12-22T21:49:40.663Z"
   },
   {
    "duration": 25,
    "start_time": "2024-12-22T21:49:40.684Z"
   },
   {
    "duration": 3709,
    "start_time": "2024-12-22T22:38:43.143Z"
   },
   {
    "duration": 1441,
    "start_time": "2024-12-22T22:38:46.854Z"
   },
   {
    "duration": 86,
    "start_time": "2024-12-22T22:38:48.297Z"
   },
   {
    "duration": 22,
    "start_time": "2024-12-22T22:38:48.385Z"
   },
   {
    "duration": 3,
    "start_time": "2024-12-22T22:38:48.408Z"
   },
   {
    "duration": 17,
    "start_time": "2024-12-22T22:38:48.413Z"
   },
   {
    "duration": 8,
    "start_time": "2024-12-22T22:38:48.431Z"
   },
   {
    "duration": 15,
    "start_time": "2024-12-22T22:38:48.441Z"
   },
   {
    "duration": 42,
    "start_time": "2024-12-22T22:38:48.458Z"
   },
   {
    "duration": 4,
    "start_time": "2024-12-22T22:38:48.502Z"
   },
   {
    "duration": 4,
    "start_time": "2024-12-22T22:38:48.507Z"
   },
   {
    "duration": 6,
    "start_time": "2024-12-22T22:38:48.512Z"
   },
   {
    "duration": 6,
    "start_time": "2024-12-22T22:38:48.519Z"
   },
   {
    "duration": 10,
    "start_time": "2024-12-22T22:38:48.526Z"
   },
   {
    "duration": 5,
    "start_time": "2024-12-22T22:38:48.537Z"
   },
   {
    "duration": 47,
    "start_time": "2024-12-22T22:38:48.543Z"
   },
   {
    "duration": 14,
    "start_time": "2024-12-22T22:38:48.591Z"
   },
   {
    "duration": 4,
    "start_time": "2024-12-22T22:38:48.606Z"
   },
   {
    "duration": 4,
    "start_time": "2024-12-22T22:38:48.612Z"
   },
   {
    "duration": 11,
    "start_time": "2024-12-22T22:38:48.618Z"
   },
   {
    "duration": 63,
    "start_time": "2024-12-22T22:38:48.631Z"
   },
   {
    "duration": 27,
    "start_time": "2024-12-22T22:38:48.696Z"
   },
   {
    "duration": 5,
    "start_time": "2024-12-22T22:38:48.725Z"
   },
   {
    "duration": 5,
    "start_time": "2024-12-22T22:38:48.732Z"
   },
   {
    "duration": 359,
    "start_time": "2024-12-22T22:38:48.739Z"
   },
   {
    "duration": 21,
    "start_time": "2024-12-22T22:38:49.100Z"
   },
   {
    "duration": 215,
    "start_time": "2024-12-22T22:38:49.123Z"
   },
   {
    "duration": 20,
    "start_time": "2024-12-22T22:38:49.341Z"
   },
   {
    "duration": 227,
    "start_time": "2024-12-22T22:38:49.363Z"
   },
   {
    "duration": 21,
    "start_time": "2024-12-22T22:38:49.591Z"
   },
   {
    "duration": 319,
    "start_time": "2024-12-22T22:38:49.613Z"
   },
   {
    "duration": 20,
    "start_time": "2024-12-22T22:38:49.934Z"
   },
   {
    "duration": 301,
    "start_time": "2024-12-22T22:38:49.955Z"
   },
   {
    "duration": 120,
    "start_time": "2024-12-22T22:38:50.258Z"
   },
   {
    "duration": 948,
    "start_time": "2024-12-22T22:38:50.380Z"
   },
   {
    "duration": 513,
    "start_time": "2024-12-22T22:38:51.330Z"
   },
   {
    "duration": 21,
    "start_time": "2024-12-22T22:38:51.845Z"
   },
   {
    "duration": 231,
    "start_time": "2024-12-22T22:38:51.868Z"
   },
   {
    "duration": 18,
    "start_time": "2024-12-22T22:38:52.101Z"
   },
   {
    "duration": 215,
    "start_time": "2024-12-22T22:38:52.121Z"
   },
   {
    "duration": 19,
    "start_time": "2024-12-22T22:38:52.338Z"
   },
   {
    "duration": 209,
    "start_time": "2024-12-22T22:38:52.359Z"
   },
   {
    "duration": 601,
    "start_time": "2024-12-22T22:38:52.569Z"
   },
   {
    "duration": 439,
    "start_time": "2024-12-22T22:38:53.172Z"
   },
   {
    "duration": 490,
    "start_time": "2024-12-22T22:38:53.612Z"
   },
   {
    "duration": 1472,
    "start_time": "2024-12-22T22:38:54.104Z"
   },
   {
    "duration": 9,
    "start_time": "2024-12-22T22:38:55.578Z"
   },
   {
    "duration": 6,
    "start_time": "2024-12-22T22:38:55.589Z"
   },
   {
    "duration": 19,
    "start_time": "2024-12-22T22:38:55.596Z"
   },
   {
    "duration": 7,
    "start_time": "2024-12-22T22:38:55.617Z"
   },
   {
    "duration": 28,
    "start_time": "2024-12-22T22:38:55.626Z"
   },
   {
    "duration": 30,
    "start_time": "2024-12-22T22:38:55.655Z"
   },
   {
    "duration": 10,
    "start_time": "2024-12-22T22:38:55.686Z"
   },
   {
    "duration": 11,
    "start_time": "2024-12-22T22:38:55.697Z"
   },
   {
    "duration": 8,
    "start_time": "2024-12-22T22:38:55.710Z"
   },
   {
    "duration": 16,
    "start_time": "2024-12-22T22:38:55.720Z"
   },
   {
    "duration": 10,
    "start_time": "2024-12-22T22:38:55.737Z"
   },
   {
    "duration": 3223,
    "start_time": "2024-12-23T03:15:45.999Z"
   },
   {
    "duration": 1234,
    "start_time": "2024-12-23T03:15:49.224Z"
   },
   {
    "duration": 40,
    "start_time": "2024-12-23T03:15:50.460Z"
   },
   {
    "duration": 22,
    "start_time": "2024-12-23T03:15:50.502Z"
   },
   {
    "duration": 3,
    "start_time": "2024-12-23T03:15:50.526Z"
   },
   {
    "duration": 26,
    "start_time": "2024-12-23T03:15:50.531Z"
   },
   {
    "duration": 30,
    "start_time": "2024-12-23T03:15:50.559Z"
   },
   {
    "duration": 17,
    "start_time": "2024-12-23T03:15:50.591Z"
   },
   {
    "duration": 16,
    "start_time": "2024-12-23T03:15:50.610Z"
   },
   {
    "duration": 4,
    "start_time": "2024-12-23T03:15:50.628Z"
   },
   {
    "duration": 33,
    "start_time": "2024-12-23T03:15:50.634Z"
   },
   {
    "duration": 15,
    "start_time": "2024-12-23T03:15:50.669Z"
   },
   {
    "duration": 62,
    "start_time": "2024-12-23T03:15:50.685Z"
   },
   {
    "duration": 14,
    "start_time": "2024-12-23T03:15:50.749Z"
   },
   {
    "duration": 4,
    "start_time": "2024-12-23T03:15:50.765Z"
   },
   {
    "duration": 5,
    "start_time": "2024-12-23T03:15:50.770Z"
   },
   {
    "duration": 11,
    "start_time": "2024-12-23T03:15:50.777Z"
   },
   {
    "duration": 4,
    "start_time": "2024-12-23T03:15:50.789Z"
   },
   {
    "duration": 4,
    "start_time": "2024-12-23T03:15:50.794Z"
   },
   {
    "duration": 10,
    "start_time": "2024-12-23T03:15:50.800Z"
   },
   {
    "duration": 35,
    "start_time": "2024-12-23T03:15:50.812Z"
   },
   {
    "duration": 50,
    "start_time": "2024-12-23T03:15:50.848Z"
   },
   {
    "duration": 4,
    "start_time": "2024-12-23T03:15:50.900Z"
   },
   {
    "duration": 6,
    "start_time": "2024-12-23T03:15:50.905Z"
   },
   {
    "duration": 324,
    "start_time": "2024-12-23T03:15:50.913Z"
   },
   {
    "duration": 21,
    "start_time": "2024-12-23T03:15:51.238Z"
   },
   {
    "duration": 209,
    "start_time": "2024-12-23T03:15:51.261Z"
   },
   {
    "duration": 28,
    "start_time": "2024-12-23T03:15:51.473Z"
   },
   {
    "duration": 194,
    "start_time": "2024-12-23T03:15:51.502Z"
   },
   {
    "duration": 21,
    "start_time": "2024-12-23T03:15:51.698Z"
   },
   {
    "duration": 318,
    "start_time": "2024-12-23T03:15:51.720Z"
   },
   {
    "duration": 20,
    "start_time": "2024-12-23T03:15:52.040Z"
   },
   {
    "duration": 300,
    "start_time": "2024-12-23T03:15:52.061Z"
   },
   {
    "duration": 123,
    "start_time": "2024-12-23T03:15:52.363Z"
   },
   {
    "duration": 918,
    "start_time": "2024-12-23T03:15:52.488Z"
   },
   {
    "duration": 485,
    "start_time": "2024-12-23T03:15:53.407Z"
   },
   {
    "duration": 21,
    "start_time": "2024-12-23T03:15:53.893Z"
   },
   {
    "duration": 214,
    "start_time": "2024-12-23T03:15:53.915Z"
   },
   {
    "duration": 19,
    "start_time": "2024-12-23T03:15:54.131Z"
   },
   {
    "duration": 215,
    "start_time": "2024-12-23T03:15:54.151Z"
   },
   {
    "duration": 24,
    "start_time": "2024-12-23T03:15:54.368Z"
   },
   {
    "duration": 208,
    "start_time": "2024-12-23T03:15:54.393Z"
   },
   {
    "duration": 592,
    "start_time": "2024-12-23T03:15:54.602Z"
   },
   {
    "duration": 440,
    "start_time": "2024-12-23T03:15:55.196Z"
   },
   {
    "duration": 498,
    "start_time": "2024-12-23T03:15:55.637Z"
   },
   {
    "duration": 1412,
    "start_time": "2024-12-23T03:15:56.136Z"
   },
   {
    "duration": 7,
    "start_time": "2024-12-23T03:15:57.549Z"
   },
   {
    "duration": 5,
    "start_time": "2024-12-23T03:15:57.558Z"
   },
   {
    "duration": 23,
    "start_time": "2024-12-23T03:15:57.564Z"
   },
   {
    "duration": 5,
    "start_time": "2024-12-23T03:15:57.589Z"
   },
   {
    "duration": 13,
    "start_time": "2024-12-23T03:15:57.595Z"
   },
   {
    "duration": 10,
    "start_time": "2024-12-23T03:15:57.609Z"
   },
   {
    "duration": 11,
    "start_time": "2024-12-23T03:15:57.621Z"
   },
   {
    "duration": 10,
    "start_time": "2024-12-23T03:15:57.633Z"
   },
   {
    "duration": 43,
    "start_time": "2024-12-23T03:15:57.645Z"
   },
   {
    "duration": 12,
    "start_time": "2024-12-23T03:15:57.689Z"
   },
   {
    "duration": 13,
    "start_time": "2024-12-23T03:15:57.702Z"
   },
   {
    "duration": 53,
    "start_time": "2024-12-24T06:54:31.836Z"
   },
   {
    "duration": 6,
    "start_time": "2024-12-24T06:54:37.209Z"
   },
   {
    "duration": 3986,
    "start_time": "2024-12-24T06:54:44.995Z"
   },
   {
    "duration": 1630,
    "start_time": "2024-12-24T06:54:48.983Z"
   },
   {
    "duration": 92,
    "start_time": "2024-12-24T06:54:50.615Z"
   },
   {
    "duration": 25,
    "start_time": "2024-12-24T06:54:50.709Z"
   },
   {
    "duration": 3,
    "start_time": "2024-12-24T06:54:50.736Z"
   },
   {
    "duration": 39,
    "start_time": "2024-12-24T06:54:50.741Z"
   },
   {
    "duration": 10,
    "start_time": "2024-12-24T06:54:50.782Z"
   },
   {
    "duration": 21,
    "start_time": "2024-12-24T06:54:50.794Z"
   },
   {
    "duration": 56,
    "start_time": "2024-12-24T06:54:50.817Z"
   },
   {
    "duration": 5,
    "start_time": "2024-12-24T06:54:50.876Z"
   },
   {
    "duration": 9,
    "start_time": "2024-12-24T06:54:50.883Z"
   },
   {
    "duration": 10,
    "start_time": "2024-12-24T06:54:50.893Z"
   },
   {
    "duration": 17,
    "start_time": "2024-12-24T06:54:50.904Z"
   },
   {
    "duration": 12,
    "start_time": "2024-12-24T06:54:50.923Z"
   },
   {
    "duration": 26,
    "start_time": "2024-12-24T06:54:50.937Z"
   },
   {
    "duration": 24,
    "start_time": "2024-12-24T06:54:50.964Z"
   },
   {
    "duration": 36,
    "start_time": "2024-12-24T06:54:50.990Z"
   },
   {
    "duration": 5,
    "start_time": "2024-12-24T06:54:51.027Z"
   },
   {
    "duration": 23,
    "start_time": "2024-12-24T06:54:51.034Z"
   },
   {
    "duration": 21,
    "start_time": "2024-12-24T06:54:51.059Z"
   },
   {
    "duration": 52,
    "start_time": "2024-12-24T06:54:51.082Z"
   },
   {
    "duration": 40,
    "start_time": "2024-12-24T06:54:51.137Z"
   },
   {
    "duration": 6,
    "start_time": "2024-12-24T06:54:51.179Z"
   },
   {
    "duration": 12,
    "start_time": "2024-12-24T06:54:51.187Z"
   },
   {
    "duration": 405,
    "start_time": "2024-12-24T06:54:51.201Z"
   },
   {
    "duration": 23,
    "start_time": "2024-12-24T06:54:51.608Z"
   },
   {
    "duration": 277,
    "start_time": "2024-12-24T06:54:51.633Z"
   },
   {
    "duration": 24,
    "start_time": "2024-12-24T06:54:51.914Z"
   },
   {
    "duration": 243,
    "start_time": "2024-12-24T06:54:51.939Z"
   },
   {
    "duration": 23,
    "start_time": "2024-12-24T06:54:52.183Z"
   },
   {
    "duration": 388,
    "start_time": "2024-12-24T06:54:52.208Z"
   },
   {
    "duration": 23,
    "start_time": "2024-12-24T06:54:52.598Z"
   },
   {
    "duration": 374,
    "start_time": "2024-12-24T06:54:52.623Z"
   },
   {
    "duration": 143,
    "start_time": "2024-12-24T06:54:52.999Z"
   },
   {
    "duration": 1180,
    "start_time": "2024-12-24T06:54:53.145Z"
   },
   {
    "duration": 625,
    "start_time": "2024-12-24T06:54:54.328Z"
   },
   {
    "duration": 30,
    "start_time": "2024-12-24T06:54:54.959Z"
   },
   {
    "duration": 250,
    "start_time": "2024-12-24T06:54:54.991Z"
   },
   {
    "duration": 36,
    "start_time": "2024-12-24T06:54:55.243Z"
   },
   {
    "duration": 240,
    "start_time": "2024-12-24T06:54:55.281Z"
   },
   {
    "duration": 23,
    "start_time": "2024-12-24T06:54:55.523Z"
   },
   {
    "duration": 241,
    "start_time": "2024-12-24T06:54:55.560Z"
   },
   {
    "duration": 745,
    "start_time": "2024-12-24T06:54:55.803Z"
   },
   {
    "duration": 560,
    "start_time": "2024-12-24T06:54:56.550Z"
   },
   {
    "duration": 611,
    "start_time": "2024-12-24T06:54:57.112Z"
   },
   {
    "duration": 18,
    "start_time": "2024-12-24T06:54:57.725Z"
   },
   {
    "duration": 1929,
    "start_time": "2024-12-24T06:54:57.744Z"
   },
   {
    "duration": 10,
    "start_time": "2024-12-24T06:54:59.675Z"
   },
   {
    "duration": 14,
    "start_time": "2024-12-24T06:54:59.686Z"
   },
   {
    "duration": 8,
    "start_time": "2024-12-24T06:54:59.701Z"
   },
   {
    "duration": 6,
    "start_time": "2024-12-24T06:54:59.711Z"
   },
   {
    "duration": 15,
    "start_time": "2024-12-24T06:54:59.718Z"
   },
   {
    "duration": 38,
    "start_time": "2024-12-24T06:54:59.735Z"
   },
   {
    "duration": 13,
    "start_time": "2024-12-24T06:54:59.776Z"
   },
   {
    "duration": 12,
    "start_time": "2024-12-24T06:54:59.791Z"
   },
   {
    "duration": 18,
    "start_time": "2024-12-24T06:54:59.805Z"
   },
   {
    "duration": 13,
    "start_time": "2024-12-24T06:54:59.825Z"
   },
   {
    "duration": 37,
    "start_time": "2024-12-24T06:54:59.840Z"
   },
   {
    "duration": 2781,
    "start_time": "2024-12-24T06:55:27.229Z"
   },
   {
    "duration": 1385,
    "start_time": "2024-12-24T06:55:30.013Z"
   },
   {
    "duration": 42,
    "start_time": "2024-12-24T06:55:31.400Z"
   },
   {
    "duration": 26,
    "start_time": "2024-12-24T06:55:31.444Z"
   },
   {
    "duration": 6,
    "start_time": "2024-12-24T06:55:31.472Z"
   },
   {
    "duration": 73,
    "start_time": "2024-12-24T06:55:31.479Z"
   },
   {
    "duration": 46,
    "start_time": "2024-12-24T06:55:31.554Z"
   },
   {
    "duration": 40,
    "start_time": "2024-12-24T06:55:31.601Z"
   },
   {
    "duration": 25,
    "start_time": "2024-12-24T06:55:31.642Z"
   },
   {
    "duration": 24,
    "start_time": "2024-12-24T06:55:31.670Z"
   },
   {
    "duration": 37,
    "start_time": "2024-12-24T06:55:31.695Z"
   },
   {
    "duration": 60,
    "start_time": "2024-12-24T06:55:31.734Z"
   },
   {
    "duration": 30,
    "start_time": "2024-12-24T06:55:31.795Z"
   },
   {
    "duration": 44,
    "start_time": "2024-12-24T06:55:31.827Z"
   },
   {
    "duration": 26,
    "start_time": "2024-12-24T06:55:31.873Z"
   },
   {
    "duration": 30,
    "start_time": "2024-12-24T06:55:31.900Z"
   },
   {
    "duration": 47,
    "start_time": "2024-12-24T06:55:31.932Z"
   },
   {
    "duration": 25,
    "start_time": "2024-12-24T06:55:31.980Z"
   },
   {
    "duration": 23,
    "start_time": "2024-12-24T06:55:32.007Z"
   },
   {
    "duration": 41,
    "start_time": "2024-12-24T06:55:32.032Z"
   },
   {
    "duration": 98,
    "start_time": "2024-12-24T06:55:32.075Z"
   },
   {
    "duration": 31,
    "start_time": "2024-12-24T06:55:32.175Z"
   },
   {
    "duration": 9,
    "start_time": "2024-12-24T06:55:32.208Z"
   },
   {
    "duration": 57,
    "start_time": "2024-12-24T06:55:32.218Z"
   },
   {
    "duration": 451,
    "start_time": "2024-12-24T06:55:32.277Z"
   },
   {
    "duration": 43,
    "start_time": "2024-12-24T06:55:32.730Z"
   },
   {
    "duration": 242,
    "start_time": "2024-12-24T06:55:32.776Z"
   },
   {
    "duration": 24,
    "start_time": "2024-12-24T06:55:33.022Z"
   },
   {
    "duration": 231,
    "start_time": "2024-12-24T06:55:33.060Z"
   },
   {
    "duration": 23,
    "start_time": "2024-12-24T06:55:33.293Z"
   },
   {
    "duration": 397,
    "start_time": "2024-12-24T06:55:33.317Z"
   },
   {
    "duration": 26,
    "start_time": "2024-12-24T06:55:33.716Z"
   },
   {
    "duration": 351,
    "start_time": "2024-12-24T06:55:33.767Z"
   },
   {
    "duration": 154,
    "start_time": "2024-12-24T06:55:34.120Z"
   },
   {
    "duration": 1202,
    "start_time": "2024-12-24T06:55:34.276Z"
   },
   {
    "duration": 612,
    "start_time": "2024-12-24T06:55:35.481Z"
   },
   {
    "duration": 24,
    "start_time": "2024-12-24T06:55:36.095Z"
   },
   {
    "duration": 272,
    "start_time": "2024-12-24T06:55:36.121Z"
   },
   {
    "duration": 24,
    "start_time": "2024-12-24T06:55:36.395Z"
   },
   {
    "duration": 243,
    "start_time": "2024-12-24T06:55:36.420Z"
   },
   {
    "duration": 24,
    "start_time": "2024-12-24T06:55:36.665Z"
   },
   {
    "duration": 254,
    "start_time": "2024-12-24T06:55:36.691Z"
   },
   {
    "duration": 733,
    "start_time": "2024-12-24T06:55:36.947Z"
   },
   {
    "duration": 582,
    "start_time": "2024-12-24T06:55:37.682Z"
   },
   {
    "duration": 529,
    "start_time": "2024-12-24T06:55:38.266Z"
   },
   {
    "duration": 1584,
    "start_time": "2024-12-24T06:55:38.796Z"
   },
   {
    "duration": 9,
    "start_time": "2024-12-24T06:55:40.382Z"
   },
   {
    "duration": 9,
    "start_time": "2024-12-24T06:55:40.393Z"
   },
   {
    "duration": 7,
    "start_time": "2024-12-24T06:55:40.404Z"
   },
   {
    "duration": 6,
    "start_time": "2024-12-24T06:55:40.413Z"
   },
   {
    "duration": 12,
    "start_time": "2024-12-24T06:55:40.421Z"
   },
   {
    "duration": 33,
    "start_time": "2024-12-24T06:55:40.435Z"
   },
   {
    "duration": 13,
    "start_time": "2024-12-24T06:55:40.470Z"
   },
   {
    "duration": 19,
    "start_time": "2024-12-24T06:55:40.484Z"
   },
   {
    "duration": 13,
    "start_time": "2024-12-24T06:55:40.504Z"
   },
   {
    "duration": 42,
    "start_time": "2024-12-24T06:55:40.519Z"
   },
   {
    "duration": 13,
    "start_time": "2024-12-24T06:55:40.562Z"
   },
   {
    "duration": 7,
    "start_time": "2024-12-24T07:17:12.419Z"
   },
   {
    "duration": 20,
    "start_time": "2024-12-24T07:17:20.153Z"
   },
   {
    "duration": 2624,
    "start_time": "2024-12-24T07:17:26.556Z"
   },
   {
    "duration": 1349,
    "start_time": "2024-12-24T07:17:29.183Z"
   },
   {
    "duration": 48,
    "start_time": "2024-12-24T07:17:30.533Z"
   },
   {
    "duration": 24,
    "start_time": "2024-12-24T07:17:30.582Z"
   },
   {
    "duration": 18,
    "start_time": "2024-12-24T07:17:30.608Z"
   },
   {
    "duration": 60,
    "start_time": "2024-12-24T07:17:30.628Z"
   },
   {
    "duration": 10,
    "start_time": "2024-12-24T07:17:30.690Z"
   },
   {
    "duration": 43,
    "start_time": "2024-12-24T07:17:30.701Z"
   },
   {
    "duration": 27,
    "start_time": "2024-12-24T07:17:30.746Z"
   },
   {
    "duration": 6,
    "start_time": "2024-12-24T07:17:30.776Z"
   },
   {
    "duration": 37,
    "start_time": "2024-12-24T07:17:30.784Z"
   },
   {
    "duration": 40,
    "start_time": "2024-12-24T07:17:30.823Z"
   },
   {
    "duration": 14,
    "start_time": "2024-12-24T07:17:30.864Z"
   },
   {
    "duration": 55,
    "start_time": "2024-12-24T07:17:30.880Z"
   },
   {
    "duration": 27,
    "start_time": "2024-12-24T07:17:30.936Z"
   },
   {
    "duration": 11,
    "start_time": "2024-12-24T07:17:30.972Z"
   },
   {
    "duration": 33,
    "start_time": "2024-12-24T07:17:30.984Z"
   },
   {
    "duration": 6,
    "start_time": "2024-12-24T07:17:31.018Z"
   },
   {
    "duration": 17,
    "start_time": "2024-12-24T07:17:31.025Z"
   },
   {
    "duration": 134,
    "start_time": "2024-12-24T07:17:31.043Z"
   },
   {
    "duration": 0,
    "start_time": "2024-12-24T07:17:31.181Z"
   },
   {
    "duration": 0,
    "start_time": "2024-12-24T07:17:31.182Z"
   },
   {
    "duration": 0,
    "start_time": "2024-12-24T07:17:31.184Z"
   },
   {
    "duration": 0,
    "start_time": "2024-12-24T07:17:31.185Z"
   },
   {
    "duration": 0,
    "start_time": "2024-12-24T07:17:31.186Z"
   },
   {
    "duration": 0,
    "start_time": "2024-12-24T07:17:31.187Z"
   },
   {
    "duration": 0,
    "start_time": "2024-12-24T07:17:31.188Z"
   },
   {
    "duration": 0,
    "start_time": "2024-12-24T07:17:31.189Z"
   },
   {
    "duration": 0,
    "start_time": "2024-12-24T07:17:31.190Z"
   },
   {
    "duration": 0,
    "start_time": "2024-12-24T07:17:31.191Z"
   },
   {
    "duration": 0,
    "start_time": "2024-12-24T07:17:31.192Z"
   },
   {
    "duration": 0,
    "start_time": "2024-12-24T07:17:31.193Z"
   },
   {
    "duration": 0,
    "start_time": "2024-12-24T07:17:31.194Z"
   },
   {
    "duration": 0,
    "start_time": "2024-12-24T07:17:31.195Z"
   },
   {
    "duration": 0,
    "start_time": "2024-12-24T07:17:31.196Z"
   },
   {
    "duration": 0,
    "start_time": "2024-12-24T07:17:31.197Z"
   },
   {
    "duration": 0,
    "start_time": "2024-12-24T07:17:31.198Z"
   },
   {
    "duration": 0,
    "start_time": "2024-12-24T07:17:31.199Z"
   },
   {
    "duration": 0,
    "start_time": "2024-12-24T07:17:31.200Z"
   },
   {
    "duration": 0,
    "start_time": "2024-12-24T07:17:31.201Z"
   },
   {
    "duration": 0,
    "start_time": "2024-12-24T07:17:31.202Z"
   },
   {
    "duration": 0,
    "start_time": "2024-12-24T07:17:31.203Z"
   },
   {
    "duration": 0,
    "start_time": "2024-12-24T07:17:31.204Z"
   },
   {
    "duration": 0,
    "start_time": "2024-12-24T07:17:31.205Z"
   },
   {
    "duration": 0,
    "start_time": "2024-12-24T07:17:31.207Z"
   },
   {
    "duration": 0,
    "start_time": "2024-12-24T07:17:31.208Z"
   },
   {
    "duration": 0,
    "start_time": "2024-12-24T07:17:31.209Z"
   },
   {
    "duration": 0,
    "start_time": "2024-12-24T07:17:31.210Z"
   },
   {
    "duration": 0,
    "start_time": "2024-12-24T07:17:31.259Z"
   },
   {
    "duration": 0,
    "start_time": "2024-12-24T07:17:31.260Z"
   },
   {
    "duration": 0,
    "start_time": "2024-12-24T07:17:31.261Z"
   },
   {
    "duration": 0,
    "start_time": "2024-12-24T07:17:31.269Z"
   },
   {
    "duration": 0,
    "start_time": "2024-12-24T07:17:31.271Z"
   },
   {
    "duration": 0,
    "start_time": "2024-12-24T07:17:31.271Z"
   },
   {
    "duration": 0,
    "start_time": "2024-12-24T07:17:31.275Z"
   },
   {
    "duration": 0,
    "start_time": "2024-12-24T07:17:31.276Z"
   },
   {
    "duration": 0,
    "start_time": "2024-12-24T07:17:31.278Z"
   },
   {
    "duration": 0,
    "start_time": "2024-12-24T07:17:31.278Z"
   },
   {
    "duration": 0,
    "start_time": "2024-12-24T07:17:31.280Z"
   },
   {
    "duration": 2624,
    "start_time": "2024-12-24T07:18:23.876Z"
   },
   {
    "duration": 1398,
    "start_time": "2024-12-24T07:18:26.502Z"
   },
   {
    "duration": 53,
    "start_time": "2024-12-24T07:18:27.901Z"
   },
   {
    "duration": 54,
    "start_time": "2024-12-24T07:18:27.958Z"
   },
   {
    "duration": 5,
    "start_time": "2024-12-24T07:18:28.014Z"
   },
   {
    "duration": 74,
    "start_time": "2024-12-24T07:18:28.021Z"
   },
   {
    "duration": 14,
    "start_time": "2024-12-24T07:18:28.097Z"
   },
   {
    "duration": 30,
    "start_time": "2024-12-24T07:18:28.112Z"
   },
   {
    "duration": 27,
    "start_time": "2024-12-24T07:18:28.144Z"
   },
   {
    "duration": 6,
    "start_time": "2024-12-24T07:18:28.174Z"
   },
   {
    "duration": 5,
    "start_time": "2024-12-24T07:18:28.182Z"
   },
   {
    "duration": 25,
    "start_time": "2024-12-24T07:18:28.189Z"
   },
   {
    "duration": 63,
    "start_time": "2024-12-24T07:18:28.216Z"
   },
   {
    "duration": 15,
    "start_time": "2024-12-24T07:18:28.281Z"
   },
   {
    "duration": 43,
    "start_time": "2024-12-24T07:18:28.297Z"
   },
   {
    "duration": 40,
    "start_time": "2024-12-24T07:18:28.341Z"
   },
   {
    "duration": 46,
    "start_time": "2024-12-24T07:18:28.383Z"
   },
   {
    "duration": 20,
    "start_time": "2024-12-24T07:18:28.431Z"
   },
   {
    "duration": 25,
    "start_time": "2024-12-24T07:18:28.452Z"
   },
   {
    "duration": 17,
    "start_time": "2024-12-24T07:18:28.479Z"
   },
   {
    "duration": 25,
    "start_time": "2024-12-24T07:18:28.498Z"
   },
   {
    "duration": 48,
    "start_time": "2024-12-24T07:18:28.525Z"
   },
   {
    "duration": 30,
    "start_time": "2024-12-24T07:18:28.575Z"
   },
   {
    "duration": 5,
    "start_time": "2024-12-24T07:18:28.607Z"
   },
   {
    "duration": 7,
    "start_time": "2024-12-24T07:18:28.614Z"
   },
   {
    "duration": 397,
    "start_time": "2024-12-24T07:18:28.622Z"
   },
   {
    "duration": 22,
    "start_time": "2024-12-24T07:18:29.021Z"
   },
   {
    "duration": 243,
    "start_time": "2024-12-24T07:18:29.046Z"
   },
   {
    "duration": 21,
    "start_time": "2024-12-24T07:18:29.291Z"
   },
   {
    "duration": 221,
    "start_time": "2024-12-24T07:18:29.314Z"
   },
   {
    "duration": 40,
    "start_time": "2024-12-24T07:18:29.536Z"
   },
   {
    "duration": 362,
    "start_time": "2024-12-24T07:18:29.578Z"
   },
   {
    "duration": 36,
    "start_time": "2024-12-24T07:18:29.941Z"
   },
   {
    "duration": 350,
    "start_time": "2024-12-24T07:18:29.979Z"
   },
   {
    "duration": 152,
    "start_time": "2024-12-24T07:18:30.331Z"
   },
   {
    "duration": 1162,
    "start_time": "2024-12-24T07:18:30.485Z"
   },
   {
    "duration": 615,
    "start_time": "2024-12-24T07:18:31.649Z"
   },
   {
    "duration": 22,
    "start_time": "2024-12-24T07:18:32.269Z"
   },
   {
    "duration": 245,
    "start_time": "2024-12-24T07:18:32.293Z"
   },
   {
    "duration": 36,
    "start_time": "2024-12-24T07:18:32.540Z"
   },
   {
    "duration": 250,
    "start_time": "2024-12-24T07:18:32.578Z"
   },
   {
    "duration": 35,
    "start_time": "2024-12-24T07:18:32.830Z"
   },
   {
    "duration": 268,
    "start_time": "2024-12-24T07:18:32.866Z"
   },
   {
    "duration": 772,
    "start_time": "2024-12-24T07:18:33.136Z"
   },
   {
    "duration": 544,
    "start_time": "2024-12-24T07:18:33.910Z"
   },
   {
    "duration": 523,
    "start_time": "2024-12-24T07:18:34.459Z"
   },
   {
    "duration": 1483,
    "start_time": "2024-12-24T07:18:34.984Z"
   },
   {
    "duration": 8,
    "start_time": "2024-12-24T07:18:36.474Z"
   },
   {
    "duration": 25,
    "start_time": "2024-12-24T07:18:36.484Z"
   },
   {
    "duration": 15,
    "start_time": "2024-12-24T07:18:36.511Z"
   },
   {
    "duration": 22,
    "start_time": "2024-12-24T07:18:36.528Z"
   },
   {
    "duration": 37,
    "start_time": "2024-12-24T07:18:36.553Z"
   },
   {
    "duration": 53,
    "start_time": "2024-12-24T07:18:36.592Z"
   },
   {
    "duration": 27,
    "start_time": "2024-12-24T07:18:36.647Z"
   },
   {
    "duration": 12,
    "start_time": "2024-12-24T07:18:36.675Z"
   },
   {
    "duration": 17,
    "start_time": "2024-12-24T07:18:36.688Z"
   },
   {
    "duration": 11,
    "start_time": "2024-12-24T07:18:36.707Z"
   },
   {
    "duration": 37,
    "start_time": "2024-12-24T07:18:36.720Z"
   },
   {
    "duration": 2749,
    "start_time": "2024-12-24T07:22:17.924Z"
   },
   {
    "duration": 1466,
    "start_time": "2024-12-24T07:22:20.676Z"
   },
   {
    "duration": 48,
    "start_time": "2024-12-24T07:22:22.143Z"
   },
   {
    "duration": 25,
    "start_time": "2024-12-24T07:22:22.193Z"
   },
   {
    "duration": 4,
    "start_time": "2024-12-24T07:22:22.220Z"
   },
   {
    "duration": 51,
    "start_time": "2024-12-24T07:22:22.225Z"
   },
   {
    "duration": 10,
    "start_time": "2024-12-24T07:22:22.278Z"
   },
   {
    "duration": 32,
    "start_time": "2024-12-24T07:22:22.290Z"
   },
   {
    "duration": 39,
    "start_time": "2024-12-24T07:22:22.324Z"
   },
   {
    "duration": 5,
    "start_time": "2024-12-24T07:22:22.373Z"
   },
   {
    "duration": 35,
    "start_time": "2024-12-24T07:22:22.380Z"
   },
   {
    "duration": 19,
    "start_time": "2024-12-24T07:22:22.417Z"
   },
   {
    "duration": 37,
    "start_time": "2024-12-24T07:22:22.438Z"
   },
   {
    "duration": 34,
    "start_time": "2024-12-24T07:22:22.477Z"
   },
   {
    "duration": 36,
    "start_time": "2024-12-24T07:22:22.512Z"
   },
   {
    "duration": 25,
    "start_time": "2024-12-24T07:22:22.550Z"
   },
   {
    "duration": 28,
    "start_time": "2024-12-24T07:22:22.576Z"
   },
   {
    "duration": 6,
    "start_time": "2024-12-24T07:22:22.605Z"
   },
   {
    "duration": 40,
    "start_time": "2024-12-24T07:22:22.613Z"
   },
   {
    "duration": 44,
    "start_time": "2024-12-24T07:22:22.654Z"
   },
   {
    "duration": 38,
    "start_time": "2024-12-24T07:22:22.700Z"
   },
   {
    "duration": 51,
    "start_time": "2024-12-24T07:22:22.740Z"
   },
   {
    "duration": 31,
    "start_time": "2024-12-24T07:22:22.792Z"
   },
   {
    "duration": 5,
    "start_time": "2024-12-24T07:22:22.824Z"
   },
   {
    "duration": 11,
    "start_time": "2024-12-24T07:22:22.831Z"
   },
   {
    "duration": 412,
    "start_time": "2024-12-24T07:22:22.859Z"
   },
   {
    "duration": 23,
    "start_time": "2024-12-24T07:22:23.273Z"
   },
   {
    "duration": 242,
    "start_time": "2024-12-24T07:22:23.300Z"
   },
   {
    "duration": 32,
    "start_time": "2024-12-24T07:22:23.545Z"
   },
   {
    "duration": 254,
    "start_time": "2024-12-24T07:22:23.580Z"
   },
   {
    "duration": 37,
    "start_time": "2024-12-24T07:22:23.836Z"
   },
   {
    "duration": 374,
    "start_time": "2024-12-24T07:22:23.875Z"
   },
   {
    "duration": 33,
    "start_time": "2024-12-24T07:22:24.251Z"
   },
   {
    "duration": 356,
    "start_time": "2024-12-24T07:22:24.286Z"
   },
   {
    "duration": 148,
    "start_time": "2024-12-24T07:22:24.644Z"
   },
   {
    "duration": 1217,
    "start_time": "2024-12-24T07:22:24.794Z"
   },
   {
    "duration": 654,
    "start_time": "2024-12-24T07:22:26.013Z"
   },
   {
    "duration": 25,
    "start_time": "2024-12-24T07:22:26.672Z"
   },
   {
    "duration": 250,
    "start_time": "2024-12-24T07:22:26.699Z"
   },
   {
    "duration": 35,
    "start_time": "2024-12-24T07:22:26.951Z"
   },
   {
    "duration": 255,
    "start_time": "2024-12-24T07:22:26.988Z"
   },
   {
    "duration": 40,
    "start_time": "2024-12-24T07:22:27.245Z"
   },
   {
    "duration": 254,
    "start_time": "2024-12-24T07:22:27.287Z"
   },
   {
    "duration": 829,
    "start_time": "2024-12-24T07:22:27.543Z"
   },
   {
    "duration": 543,
    "start_time": "2024-12-24T07:22:28.374Z"
   },
   {
    "duration": 579,
    "start_time": "2024-12-24T07:22:28.919Z"
   },
   {
    "duration": 1513,
    "start_time": "2024-12-24T07:22:29.499Z"
   },
   {
    "duration": 7,
    "start_time": "2024-12-24T07:22:31.014Z"
   },
   {
    "duration": 16,
    "start_time": "2024-12-24T07:22:31.023Z"
   },
   {
    "duration": 18,
    "start_time": "2024-12-24T07:22:31.040Z"
   },
   {
    "duration": 25,
    "start_time": "2024-12-24T07:22:31.061Z"
   },
   {
    "duration": 31,
    "start_time": "2024-12-24T07:22:31.088Z"
   },
   {
    "duration": 35,
    "start_time": "2024-12-24T07:22:31.120Z"
   },
   {
    "duration": 25,
    "start_time": "2024-12-24T07:22:31.157Z"
   },
   {
    "duration": 12,
    "start_time": "2024-12-24T07:22:31.183Z"
   },
   {
    "duration": 26,
    "start_time": "2024-12-24T07:22:31.196Z"
   },
   {
    "duration": 48,
    "start_time": "2024-12-24T07:22:31.224Z"
   },
   {
    "duration": 13,
    "start_time": "2024-12-24T07:22:31.274Z"
   },
   {
    "duration": 5,
    "start_time": "2024-12-24T07:23:22.748Z"
   },
   {
    "duration": 12,
    "start_time": "2024-12-24T07:23:59.555Z"
   },
   {
    "duration": 2717,
    "start_time": "2024-12-24T07:24:04.429Z"
   },
   {
    "duration": 1389,
    "start_time": "2024-12-24T07:24:07.148Z"
   },
   {
    "duration": 51,
    "start_time": "2024-12-24T07:24:08.539Z"
   },
   {
    "duration": 28,
    "start_time": "2024-12-24T07:24:08.592Z"
   },
   {
    "duration": 4,
    "start_time": "2024-12-24T07:24:08.621Z"
   },
   {
    "duration": 47,
    "start_time": "2024-12-24T07:24:08.626Z"
   },
   {
    "duration": 10,
    "start_time": "2024-12-24T07:24:08.675Z"
   },
   {
    "duration": 21,
    "start_time": "2024-12-24T07:24:08.687Z"
   },
   {
    "duration": 19,
    "start_time": "2024-12-24T07:24:08.710Z"
   },
   {
    "duration": 39,
    "start_time": "2024-12-24T07:24:08.732Z"
   },
   {
    "duration": 19,
    "start_time": "2024-12-24T07:24:08.773Z"
   },
   {
    "duration": 8,
    "start_time": "2024-12-24T07:24:08.793Z"
   },
   {
    "duration": 8,
    "start_time": "2024-12-24T07:24:08.803Z"
   },
   {
    "duration": 14,
    "start_time": "2024-12-24T07:24:08.813Z"
   },
   {
    "duration": 14,
    "start_time": "2024-12-24T07:24:08.828Z"
   },
   {
    "duration": 6,
    "start_time": "2024-12-24T07:24:08.844Z"
   },
   {
    "duration": 20,
    "start_time": "2024-12-24T07:24:08.863Z"
   },
   {
    "duration": 8,
    "start_time": "2024-12-24T07:24:08.885Z"
   },
   {
    "duration": 17,
    "start_time": "2024-12-24T07:24:08.895Z"
   },
   {
    "duration": 37,
    "start_time": "2024-12-24T07:24:08.914Z"
   },
   {
    "duration": 27,
    "start_time": "2024-12-24T07:24:08.953Z"
   },
   {
    "duration": 68,
    "start_time": "2024-12-24T07:24:08.982Z"
   },
   {
    "duration": 36,
    "start_time": "2024-12-24T07:24:09.052Z"
   },
   {
    "duration": 10,
    "start_time": "2024-12-24T07:24:09.090Z"
   },
   {
    "duration": 38,
    "start_time": "2024-12-24T07:24:09.102Z"
   },
   {
    "duration": 410,
    "start_time": "2024-12-24T07:24:09.142Z"
   },
   {
    "duration": 31,
    "start_time": "2024-12-24T07:24:09.559Z"
   },
   {
    "duration": 246,
    "start_time": "2024-12-24T07:24:09.594Z"
   },
   {
    "duration": 38,
    "start_time": "2024-12-24T07:24:09.842Z"
   },
   {
    "duration": 240,
    "start_time": "2024-12-24T07:24:09.881Z"
   },
   {
    "duration": 41,
    "start_time": "2024-12-24T07:24:10.122Z"
   },
   {
    "duration": 371,
    "start_time": "2024-12-24T07:24:10.164Z"
   },
   {
    "duration": 43,
    "start_time": "2024-12-24T07:24:10.537Z"
   },
   {
    "duration": 357,
    "start_time": "2024-12-24T07:24:10.582Z"
   },
   {
    "duration": 157,
    "start_time": "2024-12-24T07:24:10.941Z"
   },
   {
    "duration": 1239,
    "start_time": "2024-12-24T07:24:11.100Z"
   },
   {
    "duration": 630,
    "start_time": "2024-12-24T07:24:12.342Z"
   },
   {
    "duration": 32,
    "start_time": "2024-12-24T07:24:12.975Z"
   },
   {
    "duration": 265,
    "start_time": "2024-12-24T07:24:13.008Z"
   },
   {
    "duration": 22,
    "start_time": "2024-12-24T07:24:13.275Z"
   },
   {
    "duration": 231,
    "start_time": "2024-12-24T07:24:13.298Z"
   },
   {
    "duration": 42,
    "start_time": "2024-12-24T07:24:13.531Z"
   },
   {
    "duration": 228,
    "start_time": "2024-12-24T07:24:13.575Z"
   },
   {
    "duration": 766,
    "start_time": "2024-12-24T07:24:13.805Z"
   },
   {
    "duration": 544,
    "start_time": "2024-12-24T07:24:14.574Z"
   },
   {
    "duration": 582,
    "start_time": "2024-12-24T07:24:15.119Z"
   },
   {
    "duration": 1625,
    "start_time": "2024-12-24T07:24:15.702Z"
   },
   {
    "duration": 8,
    "start_time": "2024-12-24T07:24:17.329Z"
   },
   {
    "duration": 25,
    "start_time": "2024-12-24T07:24:17.339Z"
   },
   {
    "duration": 17,
    "start_time": "2024-12-24T07:24:17.368Z"
   },
   {
    "duration": 25,
    "start_time": "2024-12-24T07:24:17.387Z"
   },
   {
    "duration": 21,
    "start_time": "2024-12-24T07:24:17.414Z"
   },
   {
    "duration": 13,
    "start_time": "2024-12-24T07:24:17.436Z"
   },
   {
    "duration": 29,
    "start_time": "2024-12-24T07:24:17.451Z"
   },
   {
    "duration": 36,
    "start_time": "2024-12-24T07:24:17.483Z"
   },
   {
    "duration": 31,
    "start_time": "2024-12-24T07:24:17.521Z"
   },
   {
    "duration": 36,
    "start_time": "2024-12-24T07:24:17.554Z"
   },
   {
    "duration": 11,
    "start_time": "2024-12-24T07:24:17.592Z"
   },
   {
    "duration": 342,
    "start_time": "2024-12-24T09:49:06.956Z"
   },
   {
    "duration": 2748,
    "start_time": "2024-12-24T10:34:31.336Z"
   },
   {
    "duration": 1416,
    "start_time": "2024-12-24T10:34:34.087Z"
   },
   {
    "duration": 44,
    "start_time": "2024-12-24T10:34:35.504Z"
   },
   {
    "duration": 28,
    "start_time": "2024-12-24T10:34:35.551Z"
   },
   {
    "duration": 4,
    "start_time": "2024-12-24T10:34:35.580Z"
   },
   {
    "duration": 30,
    "start_time": "2024-12-24T10:34:35.586Z"
   },
   {
    "duration": 15,
    "start_time": "2024-12-24T10:34:35.618Z"
   },
   {
    "duration": 42,
    "start_time": "2024-12-24T10:34:35.635Z"
   },
   {
    "duration": 26,
    "start_time": "2024-12-24T10:34:35.679Z"
   },
   {
    "duration": 20,
    "start_time": "2024-12-24T10:34:35.709Z"
   },
   {
    "duration": 11,
    "start_time": "2024-12-24T10:34:35.731Z"
   },
   {
    "duration": 17,
    "start_time": "2024-12-24T10:34:35.744Z"
   },
   {
    "duration": 8,
    "start_time": "2024-12-24T10:34:35.763Z"
   },
   {
    "duration": 27,
    "start_time": "2024-12-24T10:34:35.773Z"
   },
   {
    "duration": 42,
    "start_time": "2024-12-24T10:34:35.801Z"
   },
   {
    "duration": 24,
    "start_time": "2024-12-24T10:34:35.845Z"
   },
   {
    "duration": 31,
    "start_time": "2024-12-24T10:34:35.871Z"
   },
   {
    "duration": 52,
    "start_time": "2024-12-24T10:34:35.903Z"
   },
   {
    "duration": 82,
    "start_time": "2024-12-24T10:34:35.957Z"
   },
   {
    "duration": 57,
    "start_time": "2024-12-24T10:34:36.041Z"
   },
   {
    "duration": 77,
    "start_time": "2024-12-24T10:34:36.100Z"
   },
   {
    "duration": 69,
    "start_time": "2024-12-24T10:34:36.180Z"
   },
   {
    "duration": 33,
    "start_time": "2024-12-24T10:34:36.251Z"
   },
   {
    "duration": 32,
    "start_time": "2024-12-24T10:34:36.286Z"
   },
   {
    "duration": 110,
    "start_time": "2024-12-24T10:34:36.320Z"
   },
   {
    "duration": 401,
    "start_time": "2024-12-24T10:34:36.432Z"
   },
   {
    "duration": 33,
    "start_time": "2024-12-24T10:34:36.835Z"
   },
   {
    "duration": 252,
    "start_time": "2024-12-24T10:34:36.872Z"
   },
   {
    "duration": 36,
    "start_time": "2024-12-24T10:34:37.125Z"
   },
   {
    "duration": 225,
    "start_time": "2024-12-24T10:34:37.163Z"
   },
   {
    "duration": 27,
    "start_time": "2024-12-24T10:34:37.390Z"
   },
   {
    "duration": 385,
    "start_time": "2024-12-24T10:34:37.419Z"
   },
   {
    "duration": 25,
    "start_time": "2024-12-24T10:34:37.806Z"
   },
   {
    "duration": 390,
    "start_time": "2024-12-24T10:34:37.833Z"
   },
   {
    "duration": 158,
    "start_time": "2024-12-24T10:34:38.225Z"
   },
   {
    "duration": 1241,
    "start_time": "2024-12-24T10:34:38.385Z"
   },
   {
    "duration": 634,
    "start_time": "2024-12-24T10:34:39.628Z"
   },
   {
    "duration": 25,
    "start_time": "2024-12-24T10:34:40.264Z"
   },
   {
    "duration": 262,
    "start_time": "2024-12-24T10:34:40.290Z"
   },
   {
    "duration": 29,
    "start_time": "2024-12-24T10:34:40.554Z"
   },
   {
    "duration": 261,
    "start_time": "2024-12-24T10:34:40.585Z"
   },
   {
    "duration": 35,
    "start_time": "2024-12-24T10:34:40.849Z"
   },
   {
    "duration": 247,
    "start_time": "2024-12-24T10:34:40.886Z"
   },
   {
    "duration": 776,
    "start_time": "2024-12-24T10:34:41.135Z"
   },
   {
    "duration": 570,
    "start_time": "2024-12-24T10:34:41.914Z"
   },
   {
    "duration": 539,
    "start_time": "2024-12-24T10:34:42.486Z"
   },
   {
    "duration": 1568,
    "start_time": "2024-12-24T10:34:43.026Z"
   },
   {
    "duration": 8,
    "start_time": "2024-12-24T10:34:44.596Z"
   },
   {
    "duration": 20,
    "start_time": "2024-12-24T10:34:44.606Z"
   },
   {
    "duration": 7,
    "start_time": "2024-12-24T10:34:44.628Z"
   },
   {
    "duration": 23,
    "start_time": "2024-12-24T10:34:44.637Z"
   },
   {
    "duration": 13,
    "start_time": "2024-12-24T10:34:44.662Z"
   },
   {
    "duration": 14,
    "start_time": "2024-12-24T10:34:44.677Z"
   },
   {
    "duration": 14,
    "start_time": "2024-12-24T10:34:44.692Z"
   },
   {
    "duration": 13,
    "start_time": "2024-12-24T10:34:44.708Z"
   },
   {
    "duration": 14,
    "start_time": "2024-12-24T10:34:44.759Z"
   },
   {
    "duration": 27,
    "start_time": "2024-12-24T10:34:44.775Z"
   },
   {
    "duration": 13,
    "start_time": "2024-12-24T10:34:44.803Z"
   },
   {
    "duration": 2886,
    "start_time": "2024-12-24T10:42:24.307Z"
   },
   {
    "duration": 1486,
    "start_time": "2024-12-24T10:42:27.196Z"
   },
   {
    "duration": 45,
    "start_time": "2024-12-24T10:42:28.684Z"
   },
   {
    "duration": 30,
    "start_time": "2024-12-24T10:42:28.731Z"
   },
   {
    "duration": 3,
    "start_time": "2024-12-24T10:42:28.763Z"
   },
   {
    "duration": 27,
    "start_time": "2024-12-24T10:42:28.768Z"
   },
   {
    "duration": 11,
    "start_time": "2024-12-24T10:42:28.797Z"
   },
   {
    "duration": 42,
    "start_time": "2024-12-24T10:42:28.810Z"
   },
   {
    "duration": 21,
    "start_time": "2024-12-24T10:42:28.860Z"
   },
   {
    "duration": 10,
    "start_time": "2024-12-24T10:42:28.884Z"
   },
   {
    "duration": 9,
    "start_time": "2024-12-24T10:42:28.895Z"
   },
   {
    "duration": 40,
    "start_time": "2024-12-24T10:42:28.906Z"
   },
   {
    "duration": 23,
    "start_time": "2024-12-24T10:42:28.947Z"
   },
   {
    "duration": 21,
    "start_time": "2024-12-24T10:42:28.972Z"
   },
   {
    "duration": 16,
    "start_time": "2024-12-24T10:42:28.994Z"
   },
   {
    "duration": 6,
    "start_time": "2024-12-24T10:42:29.012Z"
   },
   {
    "duration": 48,
    "start_time": "2024-12-24T10:42:29.020Z"
   },
   {
    "duration": 17,
    "start_time": "2024-12-24T10:42:29.070Z"
   },
   {
    "duration": 32,
    "start_time": "2024-12-24T10:42:29.089Z"
   },
   {
    "duration": 7,
    "start_time": "2024-12-24T10:42:29.123Z"
   },
   {
    "duration": 19,
    "start_time": "2024-12-24T10:42:29.132Z"
   },
   {
    "duration": 40,
    "start_time": "2024-12-24T10:42:29.153Z"
   },
   {
    "duration": 32,
    "start_time": "2024-12-24T10:42:29.196Z"
   },
   {
    "duration": 6,
    "start_time": "2024-12-24T10:42:29.230Z"
   },
   {
    "duration": 24,
    "start_time": "2024-12-24T10:42:29.237Z"
   },
   {
    "duration": 396,
    "start_time": "2024-12-24T10:42:29.263Z"
   },
   {
    "duration": 31,
    "start_time": "2024-12-24T10:42:29.661Z"
   },
   {
    "duration": 246,
    "start_time": "2024-12-24T10:42:29.696Z"
   },
   {
    "duration": 32,
    "start_time": "2024-12-24T10:42:29.944Z"
   },
   {
    "duration": 226,
    "start_time": "2024-12-24T10:42:29.978Z"
   },
   {
    "duration": 24,
    "start_time": "2024-12-24T10:42:30.206Z"
   },
   {
    "duration": 387,
    "start_time": "2024-12-24T10:42:30.232Z"
   },
   {
    "duration": 40,
    "start_time": "2024-12-24T10:42:30.621Z"
   },
   {
    "duration": 388,
    "start_time": "2024-12-24T10:42:30.662Z"
   },
   {
    "duration": 162,
    "start_time": "2024-12-24T10:42:31.052Z"
   },
   {
    "duration": 1354,
    "start_time": "2024-12-24T10:42:31.216Z"
   },
   {
    "duration": 677,
    "start_time": "2024-12-24T10:42:32.572Z"
   },
   {
    "duration": 33,
    "start_time": "2024-12-24T10:42:33.251Z"
   },
   {
    "duration": 277,
    "start_time": "2024-12-24T10:42:33.286Z"
   },
   {
    "duration": 24,
    "start_time": "2024-12-24T10:42:33.565Z"
   },
   {
    "duration": 269,
    "start_time": "2024-12-24T10:42:33.591Z"
   },
   {
    "duration": 25,
    "start_time": "2024-12-24T10:42:33.862Z"
   },
   {
    "duration": 259,
    "start_time": "2024-12-24T10:42:33.889Z"
   },
   {
    "duration": 771,
    "start_time": "2024-12-24T10:42:34.151Z"
   },
   {
    "duration": 576,
    "start_time": "2024-12-24T10:42:34.924Z"
   },
   {
    "duration": 580,
    "start_time": "2024-12-24T10:42:35.502Z"
   },
   {
    "duration": 1567,
    "start_time": "2024-12-24T10:42:36.084Z"
   },
   {
    "duration": 19,
    "start_time": "2024-12-24T10:42:37.652Z"
   },
   {
    "duration": 8,
    "start_time": "2024-12-24T10:42:37.674Z"
   },
   {
    "duration": 7,
    "start_time": "2024-12-24T10:42:37.689Z"
   },
   {
    "duration": 14,
    "start_time": "2024-12-24T10:42:37.698Z"
   },
   {
    "duration": 20,
    "start_time": "2024-12-24T10:42:37.714Z"
   },
   {
    "duration": 46,
    "start_time": "2024-12-24T10:42:37.736Z"
   },
   {
    "duration": 20,
    "start_time": "2024-12-24T10:42:37.784Z"
   },
   {
    "duration": 35,
    "start_time": "2024-12-24T10:42:37.806Z"
   },
   {
    "duration": 34,
    "start_time": "2024-12-24T10:42:37.843Z"
   },
   {
    "duration": 24,
    "start_time": "2024-12-24T10:42:37.879Z"
   },
   {
    "duration": 26,
    "start_time": "2024-12-24T10:42:37.905Z"
   },
   {
    "duration": 2891,
    "start_time": "2024-12-24T10:49:16.314Z"
   },
   {
    "duration": 1418,
    "start_time": "2024-12-24T10:49:19.207Z"
   },
   {
    "duration": 47,
    "start_time": "2024-12-24T10:49:20.627Z"
   },
   {
    "duration": 25,
    "start_time": "2024-12-24T10:49:20.677Z"
   },
   {
    "duration": 12,
    "start_time": "2024-12-24T10:49:20.704Z"
   },
   {
    "duration": 34,
    "start_time": "2024-12-24T10:49:20.718Z"
   },
   {
    "duration": 42,
    "start_time": "2024-12-24T10:49:20.754Z"
   },
   {
    "duration": 47,
    "start_time": "2024-12-24T10:49:20.797Z"
   },
   {
    "duration": 31,
    "start_time": "2024-12-24T10:49:20.845Z"
   },
   {
    "duration": 6,
    "start_time": "2024-12-24T10:49:20.879Z"
   },
   {
    "duration": 8,
    "start_time": "2024-12-24T10:49:20.887Z"
   },
   {
    "duration": 9,
    "start_time": "2024-12-24T10:49:20.897Z"
   },
   {
    "duration": 22,
    "start_time": "2024-12-24T10:49:20.908Z"
   },
   {
    "duration": 41,
    "start_time": "2024-12-24T10:49:20.932Z"
   },
   {
    "duration": 7,
    "start_time": "2024-12-24T10:49:20.975Z"
   },
   {
    "duration": 15,
    "start_time": "2024-12-24T10:49:20.984Z"
   },
   {
    "duration": 37,
    "start_time": "2024-12-24T10:49:21.001Z"
   },
   {
    "duration": 17,
    "start_time": "2024-12-24T10:49:21.039Z"
   },
   {
    "duration": 31,
    "start_time": "2024-12-24T10:49:21.058Z"
   },
   {
    "duration": 9,
    "start_time": "2024-12-24T10:49:21.091Z"
   },
   {
    "duration": 17,
    "start_time": "2024-12-24T10:49:21.102Z"
   },
   {
    "duration": 43,
    "start_time": "2024-12-24T10:49:21.120Z"
   },
   {
    "duration": 32,
    "start_time": "2024-12-24T10:49:21.172Z"
   },
   {
    "duration": 36,
    "start_time": "2024-12-24T10:49:21.206Z"
   },
   {
    "duration": 43,
    "start_time": "2024-12-24T10:49:21.244Z"
   },
   {
    "duration": 405,
    "start_time": "2024-12-24T10:49:21.289Z"
   },
   {
    "duration": 32,
    "start_time": "2024-12-24T10:49:21.696Z"
   },
   {
    "duration": 278,
    "start_time": "2024-12-24T10:49:21.733Z"
   },
   {
    "duration": 25,
    "start_time": "2024-12-24T10:49:22.013Z"
   },
   {
    "duration": 252,
    "start_time": "2024-12-24T10:49:22.040Z"
   },
   {
    "duration": 26,
    "start_time": "2024-12-24T10:49:22.293Z"
   },
   {
    "duration": 401,
    "start_time": "2024-12-24T10:49:22.321Z"
   },
   {
    "duration": 24,
    "start_time": "2024-12-24T10:49:22.724Z"
   },
   {
    "duration": 380,
    "start_time": "2024-12-24T10:49:22.764Z"
   },
   {
    "duration": 149,
    "start_time": "2024-12-24T10:49:23.146Z"
   },
   {
    "duration": 1207,
    "start_time": "2024-12-24T10:49:23.297Z"
   },
   {
    "duration": 637,
    "start_time": "2024-12-24T10:49:24.506Z"
   },
   {
    "duration": 38,
    "start_time": "2024-12-24T10:49:25.146Z"
   },
   {
    "duration": 256,
    "start_time": "2024-12-24T10:49:25.186Z"
   },
   {
    "duration": 35,
    "start_time": "2024-12-24T10:49:25.444Z"
   },
   {
    "duration": 250,
    "start_time": "2024-12-24T10:49:25.481Z"
   },
   {
    "duration": 41,
    "start_time": "2024-12-24T10:49:25.733Z"
   },
   {
    "duration": 244,
    "start_time": "2024-12-24T10:49:25.776Z"
   },
   {
    "duration": 767,
    "start_time": "2024-12-24T10:49:26.022Z"
   },
   {
    "duration": 587,
    "start_time": "2024-12-24T10:49:26.791Z"
   },
   {
    "duration": 601,
    "start_time": "2024-12-24T10:49:27.380Z"
   },
   {
    "duration": 1641,
    "start_time": "2024-12-24T10:49:27.983Z"
   },
   {
    "duration": 9,
    "start_time": "2024-12-24T10:49:29.625Z"
   },
   {
    "duration": 25,
    "start_time": "2024-12-24T10:49:29.636Z"
   },
   {
    "duration": 10,
    "start_time": "2024-12-24T10:49:29.664Z"
   },
   {
    "duration": 6,
    "start_time": "2024-12-24T10:49:29.676Z"
   },
   {
    "duration": 38,
    "start_time": "2024-12-24T10:49:29.683Z"
   },
   {
    "duration": 17,
    "start_time": "2024-12-24T10:49:29.722Z"
   },
   {
    "duration": 16,
    "start_time": "2024-12-24T10:49:29.741Z"
   },
   {
    "duration": 15,
    "start_time": "2024-12-24T10:49:29.772Z"
   },
   {
    "duration": 12,
    "start_time": "2024-12-24T10:49:29.789Z"
   },
   {
    "duration": 22,
    "start_time": "2024-12-24T10:49:29.803Z"
   },
   {
    "duration": 15,
    "start_time": "2024-12-24T10:49:29.827Z"
   }
  ],
  "kernelspec": {
   "display_name": "Python 3 (ipykernel)",
   "language": "python",
   "name": "python3"
  },
  "language_info": {
   "codemirror_mode": {
    "name": "ipython",
    "version": 3
   },
   "file_extension": ".py",
   "mimetype": "text/x-python",
   "name": "python",
   "nbconvert_exporter": "python",
   "pygments_lexer": "ipython3",
   "version": "3.9.5"
  },
  "toc": {
   "base_numbering": 1,
   "nav_menu": {},
   "number_sections": true,
   "sideBar": true,
   "skip_h1_title": true,
   "title_cell": "Table of Contents",
   "title_sidebar": "Contents",
   "toc_cell": false,
   "toc_position": {
    "height": "calc(100% - 180px)",
    "left": "10px",
    "top": "150px",
    "width": "165px"
   },
   "toc_section_display": true,
   "toc_window_display": false
  }
 },
 "nbformat": 4,
 "nbformat_minor": 2
}
