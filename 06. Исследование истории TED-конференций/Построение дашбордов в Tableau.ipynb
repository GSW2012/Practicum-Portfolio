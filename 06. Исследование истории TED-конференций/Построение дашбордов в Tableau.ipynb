{
 "cells": [
  {
   "cell_type": "markdown",
   "id": "062025cd",
   "metadata": {},
   "source": [
    "# Построение дашбордов в Tableau на основе данных о конференциях TED"
   ]
  },
  {
   "cell_type": "markdown",
   "id": "cb4cb1ad",
   "metadata": {},
   "source": [
    "**Цель исследования** - исследование историй TED-конференций."
   ]
  },
  {
   "cell_type": "markdown",
   "id": "f9ee0de0",
   "metadata": {},
   "source": [
    "**Ход исследования**\n",
    "- загрузка и изучение данных\n",
    "- построение дашбородов в Tableau\n",
    "- сведение полученных данных в презентацию\n",
    "- выводы по результатам ислледования"
   ]
  },
  {
   "cell_type": "markdown",
   "id": "0e5cec56",
   "metadata": {},
   "source": [
    "Ссылка на проект\n",
    "    \n",
    "https://public.tableau.com/app/profile/petr.afonin/viz/TED_17177642954540/sheet8?publish=yes"
   ]
  }
 ],
 "metadata": {
  "ExecuteTimeLog": [
   {
    "duration": 94,
    "start_time": "2024-06-13T19:33:34.058Z"
   },
   {
    "duration": 4,
    "start_time": "2025-01-15T11:57:41.246Z"
   },
   {
    "duration": 3,
    "start_time": "2025-01-15T11:57:42.947Z"
   },
   {
    "duration": 2,
    "start_time": "2025-01-15T11:57:46.468Z"
   }
  ],
  "kernelspec": {
   "display_name": "Python 3 (ipykernel)",
   "language": "python",
   "name": "python3"
  },
  "language_info": {
   "codemirror_mode": {
    "name": "ipython",
    "version": 3
   },
   "file_extension": ".py",
   "mimetype": "text/x-python",
   "name": "python",
   "nbconvert_exporter": "python",
   "pygments_lexer": "ipython3",
   "version": "3.9.5"
  },
  "toc": {
   "base_numbering": 1,
   "nav_menu": {},
   "number_sections": true,
   "sideBar": true,
   "skip_h1_title": true,
   "title_cell": "Table of Contents",
   "title_sidebar": "Contents",
   "toc_cell": false,
   "toc_position": {},
   "toc_section_display": true,
   "toc_window_display": false
  }
 },
 "nbformat": 4,
 "nbformat_minor": 5
}
