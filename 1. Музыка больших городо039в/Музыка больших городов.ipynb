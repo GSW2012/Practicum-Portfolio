{
 "cells": [
  {
   "cell_type": "markdown",
   "metadata": {
    "deletable": false,
    "editable": false,
    "id": "E0vqbgi9ay0H"
   },
   "source": [
    "# Яндекс Музыка"
   ]
  },
  {
   "cell_type": "markdown",
   "metadata": {
    "deletable": false,
    "editable": false,
    "id": "VUC88oWjTJw2"
   },
   "source": [
    "Сравнение Москвы и Петербурга окружено мифами. Например:\n",
    " * Москва — мегаполис, подчинённый жёсткому ритму рабочей недели;\n",
    " * Петербург — культурная столица, со своими вкусами.\n",
    "\n",
    "На данных Яндекс Музыки вы сравните поведение пользователей двух столиц.\n",
    "\n",
    "**Цель исследования** — проверьте три гипотезы:\n",
    "1. Активность пользователей зависит от дня недели. Причём в Москве и Петербурге это проявляется по-разному.\n",
    "2. В понедельник утром в Москве преобладают одни жанры, а в Петербурге — другие. Так же и вечером пятницы преобладают разные жанры — в зависимости от города.\n",
    "3. Москва и Петербург предпочитают разные жанры музыки. В Москве чаще слушают поп-музыку, в Петербурге — русский рэп.\n",
    "\n",
    "**Ход исследования**\n",
    "\n",
    "Данные о поведении пользователей вы получите из файла `yandex_music_project.csv`. О качестве данных ничего не известно. Поэтому перед проверкой гипотез понадобится обзор данных.\n",
    "\n",
    "Вы проверите данные на ошибки и оцените их влияние на исследование. Затем, на этапе предобработки вы поищете возможность исправить самые критичные ошибки данных.\n",
    "\n",
    "Таким образом, исследование пройдёт в три этапа:\n",
    " 1. Обзор данных.\n",
    " 2. Предобработка данных.\n",
    " 3. Проверка гипотез.\n",
    "\n"
   ]
  },
  {
   "cell_type": "markdown",
   "metadata": {
    "deletable": false,
    "editable": false,
    "id": "Ml1hmfXC_Zcs"
   },
   "source": [
    "## Обзор данных\n",
    "\n",
    "Составьте первое представление о данных Яндекс Музыки.\n",
    "\n",
    "\n"
   ]
  },
  {
   "cell_type": "markdown",
   "metadata": {
    "deletable": false,
    "editable": false,
    "id": "57eAOGIz_Zcs",
    "tags": [
     "start_task"
    ]
   },
   "source": [
    "**Задание 1**"
   ]
  },
  {
   "cell_type": "code",
   "execution_count": 1,
   "metadata": {
    "deletable": false,
    "id": "AXN7PHPN_Zcs"
   },
   "outputs": [],
   "source": [
    "import pandas as pd # импорт библиотеки pandas"
   ]
  },
  {
   "cell_type": "markdown",
   "metadata": {
    "deletable": false,
    "editable": false,
    "id": "SG23P8tt_Zcs",
    "tags": [
     "start_task"
    ]
   },
   "source": [
    "**Задание 2**"
   ]
  },
  {
   "cell_type": "code",
   "execution_count": 2,
   "metadata": {
    "deletable": false,
    "id": "fFVu7vqh_Zct"
   },
   "outputs": [],
   "source": [
    "df=pd.read_csv('/datasets/yandex_music_project.csv') # чтение файла с данными и сохранение в df"
   ]
  },
  {
   "cell_type": "markdown",
   "metadata": {
    "deletable": false,
    "editable": false,
    "id": "rDoOMd3uTqnZ",
    "tags": [
     "start_task"
    ]
   },
   "source": [
    "**Задание 3**"
   ]
  },
  {
   "cell_type": "code",
   "execution_count": 3,
   "metadata": {
    "deletable": false,
    "id": "oWTVX3gW_Zct"
   },
   "outputs": [
    {
     "data": {
      "text/html": [
       "<div>\n",
       "<style scoped>\n",
       "    .dataframe tbody tr th:only-of-type {\n",
       "        vertical-align: middle;\n",
       "    }\n",
       "\n",
       "    .dataframe tbody tr th {\n",
       "        vertical-align: top;\n",
       "    }\n",
       "\n",
       "    .dataframe thead th {\n",
       "        text-align: right;\n",
       "    }\n",
       "</style>\n",
       "<table border=\"1\" class=\"dataframe\">\n",
       "  <thead>\n",
       "    <tr style=\"text-align: right;\">\n",
       "      <th></th>\n",
       "      <th>userID</th>\n",
       "      <th>Track</th>\n",
       "      <th>artist</th>\n",
       "      <th>genre</th>\n",
       "      <th>City</th>\n",
       "      <th>time</th>\n",
       "      <th>Day</th>\n",
       "    </tr>\n",
       "  </thead>\n",
       "  <tbody>\n",
       "    <tr>\n",
       "      <th>0</th>\n",
       "      <td>FFB692EC</td>\n",
       "      <td>Kamigata To Boots</td>\n",
       "      <td>The Mass Missile</td>\n",
       "      <td>rock</td>\n",
       "      <td>Saint-Petersburg</td>\n",
       "      <td>20:28:33</td>\n",
       "      <td>Wednesday</td>\n",
       "    </tr>\n",
       "    <tr>\n",
       "      <th>1</th>\n",
       "      <td>55204538</td>\n",
       "      <td>Delayed Because of Accident</td>\n",
       "      <td>Andreas Rönnberg</td>\n",
       "      <td>rock</td>\n",
       "      <td>Moscow</td>\n",
       "      <td>14:07:09</td>\n",
       "      <td>Friday</td>\n",
       "    </tr>\n",
       "    <tr>\n",
       "      <th>2</th>\n",
       "      <td>20EC38</td>\n",
       "      <td>Funiculì funiculà</td>\n",
       "      <td>Mario Lanza</td>\n",
       "      <td>pop</td>\n",
       "      <td>Saint-Petersburg</td>\n",
       "      <td>20:58:07</td>\n",
       "      <td>Wednesday</td>\n",
       "    </tr>\n",
       "    <tr>\n",
       "      <th>3</th>\n",
       "      <td>A3DD03C9</td>\n",
       "      <td>Dragons in the Sunset</td>\n",
       "      <td>Fire + Ice</td>\n",
       "      <td>folk</td>\n",
       "      <td>Saint-Petersburg</td>\n",
       "      <td>08:37:09</td>\n",
       "      <td>Monday</td>\n",
       "    </tr>\n",
       "    <tr>\n",
       "      <th>4</th>\n",
       "      <td>E2DC1FAE</td>\n",
       "      <td>Soul People</td>\n",
       "      <td>Space Echo</td>\n",
       "      <td>dance</td>\n",
       "      <td>Moscow</td>\n",
       "      <td>08:34:34</td>\n",
       "      <td>Monday</td>\n",
       "    </tr>\n",
       "    <tr>\n",
       "      <th>5</th>\n",
       "      <td>842029A1</td>\n",
       "      <td>Преданная</td>\n",
       "      <td>IMPERVTOR</td>\n",
       "      <td>rusrap</td>\n",
       "      <td>Saint-Petersburg</td>\n",
       "      <td>13:09:41</td>\n",
       "      <td>Friday</td>\n",
       "    </tr>\n",
       "    <tr>\n",
       "      <th>6</th>\n",
       "      <td>4CB90AA5</td>\n",
       "      <td>True</td>\n",
       "      <td>Roman Messer</td>\n",
       "      <td>dance</td>\n",
       "      <td>Moscow</td>\n",
       "      <td>13:00:07</td>\n",
       "      <td>Wednesday</td>\n",
       "    </tr>\n",
       "    <tr>\n",
       "      <th>7</th>\n",
       "      <td>F03E1C1F</td>\n",
       "      <td>Feeling This Way</td>\n",
       "      <td>Polina Griffith</td>\n",
       "      <td>dance</td>\n",
       "      <td>Moscow</td>\n",
       "      <td>20:47:49</td>\n",
       "      <td>Wednesday</td>\n",
       "    </tr>\n",
       "    <tr>\n",
       "      <th>8</th>\n",
       "      <td>8FA1D3BE</td>\n",
       "      <td>И вновь продолжается бой</td>\n",
       "      <td>NaN</td>\n",
       "      <td>ruspop</td>\n",
       "      <td>Moscow</td>\n",
       "      <td>09:17:40</td>\n",
       "      <td>Friday</td>\n",
       "    </tr>\n",
       "    <tr>\n",
       "      <th>9</th>\n",
       "      <td>E772D5C0</td>\n",
       "      <td>Pessimist</td>\n",
       "      <td>NaN</td>\n",
       "      <td>dance</td>\n",
       "      <td>Saint-Petersburg</td>\n",
       "      <td>21:20:49</td>\n",
       "      <td>Wednesday</td>\n",
       "    </tr>\n",
       "  </tbody>\n",
       "</table>\n",
       "</div>"
      ],
      "text/plain": [
       "     userID                        Track            artist   genre  \\\n",
       "0  FFB692EC            Kamigata To Boots  The Mass Missile    rock   \n",
       "1  55204538  Delayed Because of Accident  Andreas Rönnberg    rock   \n",
       "2    20EC38            Funiculì funiculà       Mario Lanza     pop   \n",
       "3  A3DD03C9        Dragons in the Sunset        Fire + Ice    folk   \n",
       "4  E2DC1FAE                  Soul People        Space Echo   dance   \n",
       "5  842029A1                    Преданная         IMPERVTOR  rusrap   \n",
       "6  4CB90AA5                         True      Roman Messer   dance   \n",
       "7  F03E1C1F             Feeling This Way   Polina Griffith   dance   \n",
       "8  8FA1D3BE     И вновь продолжается бой               NaN  ruspop   \n",
       "9  E772D5C0                    Pessimist               NaN   dance   \n",
       "\n",
       "             City        time        Day  \n",
       "0  Saint-Petersburg  20:28:33  Wednesday  \n",
       "1            Moscow  14:07:09     Friday  \n",
       "2  Saint-Petersburg  20:58:07  Wednesday  \n",
       "3  Saint-Petersburg  08:37:09     Monday  \n",
       "4            Moscow  08:34:34     Monday  \n",
       "5  Saint-Petersburg  13:09:41     Friday  \n",
       "6            Moscow  13:00:07  Wednesday  \n",
       "7            Moscow  20:47:49  Wednesday  \n",
       "8            Moscow  09:17:40     Friday  \n",
       "9  Saint-Petersburg  21:20:49  Wednesday  "
      ]
     },
     "execution_count": 3,
     "metadata": {},
     "output_type": "execute_result"
    }
   ],
   "source": [
    "df.head(10) # получение первых 10 строк таблицы df"
   ]
  },
  {
   "cell_type": "markdown",
   "metadata": {
    "deletable": false,
    "editable": false,
    "id": "EO73Kwic_Zct",
    "tags": [
     "start_task"
    ]
   },
   "source": [
    "**Задание 4**"
   ]
  },
  {
   "cell_type": "code",
   "execution_count": 4,
   "metadata": {
    "deletable": false,
    "id": "DSf2kIb-_Zct"
   },
   "outputs": [
    {
     "name": "stdout",
     "output_type": "stream",
     "text": [
      "<class 'pandas.core.frame.DataFrame'>\n",
      "RangeIndex: 65079 entries, 0 to 65078\n",
      "Data columns (total 7 columns):\n",
      " #   Column    Non-Null Count  Dtype \n",
      "---  ------    --------------  ----- \n",
      " 0     userID  65079 non-null  object\n",
      " 1   Track     63848 non-null  object\n",
      " 2   artist    57876 non-null  object\n",
      " 3   genre     63881 non-null  object\n",
      " 4     City    65079 non-null  object\n",
      " 5   time      65079 non-null  object\n",
      " 6   Day       65079 non-null  object\n",
      "dtypes: object(7)\n",
      "memory usage: 3.5+ MB\n"
     ]
    }
   ],
   "source": [
    "df.info() # получение общей информации о данных в таблице df"
   ]
  },
  {
   "cell_type": "markdown",
   "metadata": {
    "deletable": false,
    "editable": false,
    "id": "TaQ2Iwbr_Zct"
   },
   "source": [
    "Количество значений в столбцах различается. Значит, в данных есть пропущенные значения."
   ]
  },
  {
   "cell_type": "markdown",
   "metadata": {
    "deletable": false,
    "editable": false,
    "id": "4P0UCWzswgEm",
    "tags": [
     "start_task"
    ]
   },
   "source": [
    "**Задание 5**"
   ]
  },
  {
   "cell_type": "code",
   "execution_count": 5,
   "metadata": {
    "id": "c137-ZstwgEm"
   },
   "outputs": [],
   "source": [
    " # Нет змеиного регистра Напишите ваш ответ здесь комментарием. Не удаляйте символ #. Не меняйте тип этой ячейки на Markdown."
   ]
  },
  {
   "cell_type": "markdown",
   "metadata": {
    "deletable": false,
    "editable": false,
    "id": "MCB6-dXG_Zct"
   },
   "source": [
    "**Выводы**\n",
    "\n",
    "В каждой строке таблицы — данные о прослушанном треке. Часть колонок описывает саму композицию: название, исполнителя и жанр. Остальные данные рассказывают о пользователе: из какого он города, когда он слушал музыку.\n",
    "\n",
    "Предварительно можно утверждать, что данных достаточно для проверки гипотез. Но встречаются пропуски в данных, а в названиях колонок — расхождения с хорошим стилем.\n",
    "\n",
    "Чтобы двигаться дальше, нужно устранить проблемы в данных."
   ]
  },
  {
   "cell_type": "markdown",
   "metadata": {
    "deletable": false,
    "editable": false,
    "id": "SjYF6Ub9_Zct"
   },
   "source": [
    "## Предобработка данных"
   ]
  },
  {
   "cell_type": "markdown",
   "metadata": {
    "deletable": false,
    "editable": false,
    "id": "dIaKXr29_Zct",
    "tags": [
     "start_task"
    ]
   },
   "source": [
    "### Переименование столбцов\n",
    "\n",
    "**Задание 6**"
   ]
  },
  {
   "cell_type": "code",
   "execution_count": 6,
   "metadata": {
    "deletable": false,
    "id": "oKOTdF_Q_Zct",
    "scrolled": true
   },
   "outputs": [
    {
     "data": {
      "text/plain": [
       "Index(['  userID', 'Track', 'artist', 'genre', '  City  ', 'time', 'Day'], dtype='object')"
      ]
     },
     "execution_count": 6,
     "metadata": {},
     "output_type": "execute_result"
    }
   ],
   "source": [
    "df.columns # перечень названий столбцов таблицы df"
   ]
  },
  {
   "cell_type": "markdown",
   "metadata": {
    "deletable": false,
    "editable": false,
    "id": "zj5534cv_Zct",
    "tags": [
     "start_task"
    ]
   },
   "source": [
    "**Задание 7**"
   ]
  },
  {
   "cell_type": "code",
   "execution_count": 7,
   "metadata": {
    "deletable": false,
    "id": "ISlFqs5y_Zct"
   },
   "outputs": [],
   "source": [
    "df=df.rename(columns = {'  userID': 'user_id', 'Track':'track', '  City  ':'city', 'Day':'day'})\n"
   ]
  },
  {
   "cell_type": "markdown",
   "metadata": {
    "deletable": false,
    "editable": false,
    "id": "1dqbh00J_Zct",
    "tags": [
     "start_task"
    ]
   },
   "source": [
    "**Задание 8**"
   ]
  },
  {
   "cell_type": "code",
   "execution_count": 8,
   "metadata": {
    "deletable": false,
    "id": "d4NOAmTW_Zct"
   },
   "outputs": [
    {
     "data": {
      "text/plain": [
       "Index(['user_id', 'track', 'artist', 'genre', 'city', 'time', 'day'], dtype='object')"
      ]
     },
     "execution_count": 8,
     "metadata": {},
     "output_type": "execute_result"
    }
   ],
   "source": [
    "df.columns # проверка результатов - перечень названий столбцов"
   ]
  },
  {
   "cell_type": "markdown",
   "metadata": {
    "deletable": false,
    "editable": false,
    "id": "5ISfbcfY_Zct",
    "tags": [
     "start_task"
    ]
   },
   "source": [
    "### Обработка пропущенных значений\n",
    "\n",
    "**Задание 9**"
   ]
  },
  {
   "cell_type": "code",
   "execution_count": 9,
   "metadata": {
    "deletable": false,
    "id": "RskX29qr_Zct"
   },
   "outputs": [
    {
     "data": {
      "text/plain": [
       "user_id       0\n",
       "track      1231\n",
       "artist     7203\n",
       "genre      1198\n",
       "city          0\n",
       "time          0\n",
       "day           0\n",
       "dtype: int64"
      ]
     },
     "execution_count": 9,
     "metadata": {},
     "output_type": "execute_result"
    }
   ],
   "source": [
    "df.isna().sum() # подсчёт пропусков"
   ]
  },
  {
   "cell_type": "markdown",
   "metadata": {
    "deletable": false,
    "editable": false,
    "id": "fSv2laPA_Zct",
    "tags": [
     "start_task"
    ]
   },
   "source": [
    "**Задание 10**"
   ]
  },
  {
   "cell_type": "code",
   "execution_count": 10,
   "metadata": {
    "deletable": false,
    "id": "KplB5qWs_Zct"
   },
   "outputs": [],
   "source": [
    "columns_to_replace = ['track', 'artist', 'genre'] # замена пропущенных значений на 'unknown'\n",
    "for column in columns_to_replace:\n",
    "    df[column] = df[column].fillna('unknown')"
   ]
  },
  {
   "cell_type": "markdown",
   "metadata": {
    "deletable": false,
    "editable": false,
    "id": "Ilsm-MZo_Zct",
    "tags": [
     "start_task"
    ]
   },
   "source": [
    "**Задание 11**"
   ]
  },
  {
   "cell_type": "code",
   "execution_count": 11,
   "metadata": {
    "deletable": false,
    "id": "Tq4nYRX4_Zct"
   },
   "outputs": [
    {
     "data": {
      "text/plain": [
       "user_id    0\n",
       "track      0\n",
       "artist     0\n",
       "genre      0\n",
       "city       0\n",
       "time       0\n",
       "day        0\n",
       "dtype: int64"
      ]
     },
     "execution_count": 11,
     "metadata": {},
     "output_type": "execute_result"
    }
   ],
   "source": [
    "df.isna().sum() # проверка на отсутствие пропусков"
   ]
  },
  {
   "cell_type": "markdown",
   "metadata": {
    "deletable": false,
    "editable": false,
    "id": "BWKRtBJ3_Zct",
    "tags": [
     "start_task"
    ]
   },
   "source": [
    "### Обработка дубликатов\n",
    "\n",
    "**Задание 12**"
   ]
  },
  {
   "cell_type": "code",
   "execution_count": 12,
   "metadata": {
    "deletable": false,
    "id": "36eES_S0_Zct"
   },
   "outputs": [
    {
     "data": {
      "text/plain": [
       "3826"
      ]
     },
     "execution_count": 12,
     "metadata": {},
     "output_type": "execute_result"
    }
   ],
   "source": [
    "df.duplicated().sum() # подсчёт явных дубликатов"
   ]
  },
  {
   "cell_type": "markdown",
   "metadata": {
    "deletable": false,
    "editable": false,
    "id": "Ot25h6XR_Zct",
    "tags": [
     "start_task"
    ]
   },
   "source": [
    "**Задание 13**"
   ]
  },
  {
   "cell_type": "code",
   "execution_count": 13,
   "metadata": {
    "deletable": false,
    "id": "exFHq6tt_Zct"
   },
   "outputs": [],
   "source": [
    "df = df.drop_duplicates().reset_index(drop=True) # удаление явных дубликатов, создание новых индексов и удаление старых"
   ]
  },
  {
   "cell_type": "markdown",
   "metadata": {
    "deletable": false,
    "editable": false,
    "id": "Im2YwBEG_Zct",
    "tags": [
     "start_task"
    ]
   },
   "source": [
    "**Задание 14**"
   ]
  },
  {
   "cell_type": "code",
   "execution_count": 14,
   "metadata": {
    "deletable": false,
    "id": "-8PuNWQ0_Zct"
   },
   "outputs": [
    {
     "data": {
      "text/plain": [
       "0"
      ]
     },
     "execution_count": 14,
     "metadata": {},
     "output_type": "execute_result"
    }
   ],
   "source": [
    "df.duplicated().sum() # проверка на отсутствие явных дубликатов"
   ]
  },
  {
   "cell_type": "markdown",
   "metadata": {
    "deletable": false,
    "editable": false,
    "id": "eSjWwsOh_Zct",
    "tags": [
     "start_task"
    ]
   },
   "source": [
    "**Задание 15**"
   ]
  },
  {
   "cell_type": "code",
   "execution_count": 15,
   "metadata": {
    "deletable": false,
    "id": "JIUcqzZN_Zct"
   },
   "outputs": [
    {
     "data": {
      "text/plain": [
       "array(['acid', 'acoustic', 'action', 'adult', 'africa', 'afrikaans',\n",
       "       'alternative', 'alternativepunk', 'ambient', 'americana',\n",
       "       'animated', 'anime', 'arabesk', 'arabic', 'arena',\n",
       "       'argentinetango', 'art', 'audiobook', 'author', 'avantgarde',\n",
       "       'axé', 'baile', 'balkan', 'beats', 'bigroom', 'black', 'bluegrass',\n",
       "       'blues', 'bollywood', 'bossa', 'brazilian', 'breakbeat', 'breaks',\n",
       "       'broadway', 'cantautori', 'cantopop', 'canzone', 'caribbean',\n",
       "       'caucasian', 'celtic', 'chamber', 'chanson', 'children', 'chill',\n",
       "       'chinese', 'choral', 'christian', 'christmas', 'classical',\n",
       "       'classicmetal', 'club', 'colombian', 'comedy', 'conjazz',\n",
       "       'contemporary', 'country', 'cuban', 'dance', 'dancehall',\n",
       "       'dancepop', 'dark', 'death', 'deep', 'deutschrock', 'deutschspr',\n",
       "       'dirty', 'disco', 'dnb', 'documentary', 'downbeat', 'downtempo',\n",
       "       'drum', 'dub', 'dubstep', 'eastern', 'easy', 'electronic',\n",
       "       'electropop', 'emo', 'entehno', 'epicmetal', 'estrada', 'ethnic',\n",
       "       'eurofolk', 'european', 'experimental', 'extrememetal', 'fado',\n",
       "       'fairytail', 'film', 'fitness', 'flamenco', 'folk', 'folklore',\n",
       "       'folkmetal', 'folkrock', 'folktronica', 'forró', 'frankreich',\n",
       "       'französisch', 'french', 'funk', 'future', 'gangsta', 'garage',\n",
       "       'german', 'ghazal', 'gitarre', 'glitch', 'gospel', 'gothic',\n",
       "       'grime', 'grunge', 'gypsy', 'handsup', \"hard'n'heavy\", 'hardcore',\n",
       "       'hardstyle', 'hardtechno', 'hip', 'hip-hop', 'hiphop',\n",
       "       'historisch', 'holiday', 'hop', 'horror', 'house', 'hymn', 'idm',\n",
       "       'independent', 'indian', 'indie', 'indipop', 'industrial',\n",
       "       'inspirational', 'instrumental', 'international', 'irish', 'jam',\n",
       "       'japanese', 'jazz', 'jewish', 'jpop', 'jungle', 'k-pop',\n",
       "       'karadeniz', 'karaoke', 'kayokyoku', 'korean', 'laiko', 'latin',\n",
       "       'latino', 'leftfield', 'local', 'lounge', 'loungeelectronic',\n",
       "       'lovers', 'malaysian', 'mandopop', 'marschmusik', 'meditative',\n",
       "       'mediterranean', 'melodic', 'metal', 'metalcore', 'mexican',\n",
       "       'middle', 'minimal', 'miscellaneous', 'modern', 'mood', 'mpb',\n",
       "       'muslim', 'native', 'neoklassik', 'neue', 'new', 'newage',\n",
       "       'newwave', 'nu', 'nujazz', 'numetal', 'oceania', 'old', 'opera',\n",
       "       'orchestral', 'other', 'piano', 'podcasts', 'pop', 'popdance',\n",
       "       'popelectronic', 'popeurodance', 'poprussian', 'post',\n",
       "       'posthardcore', 'postrock', 'power', 'progmetal', 'progressive',\n",
       "       'psychedelic', 'punjabi', 'punk', 'quebecois', 'ragga', 'ram',\n",
       "       'rancheras', 'rap', 'rave', 'reggae', 'reggaeton', 'regional',\n",
       "       'relax', 'religious', 'retro', 'rhythm', 'rnb', 'rnr', 'rock',\n",
       "       'rockabilly', 'rockalternative', 'rockindie', 'rockother',\n",
       "       'romance', 'roots', 'ruspop', 'rusrap', 'rusrock', 'russian',\n",
       "       'salsa', 'samba', 'scenic', 'schlager', 'self', 'sertanejo',\n",
       "       'shanson', 'shoegazing', 'showtunes', 'singer', 'ska', 'skarock',\n",
       "       'slow', 'smooth', 'soft', 'soul', 'soulful', 'sound', 'soundtrack',\n",
       "       'southern', 'specialty', 'speech', 'spiritual', 'sport',\n",
       "       'stonerrock', 'surf', 'swing', 'synthpop', 'synthrock',\n",
       "       'sängerportrait', 'tango', 'tanzorchester', 'taraftar', 'tatar',\n",
       "       'tech', 'techno', 'teen', 'thrash', 'top', 'traditional',\n",
       "       'tradjazz', 'trance', 'tribal', 'trip', 'triphop', 'tropical',\n",
       "       'türk', 'türkçe', 'ukrrock', 'unknown', 'urban', 'uzbek',\n",
       "       'variété', 'vi', 'videogame', 'vocal', 'western', 'world',\n",
       "       'worldbeat', 'ïîï', 'электроника'], dtype=object)"
      ]
     },
     "execution_count": 15,
     "metadata": {},
     "output_type": "execute_result"
    }
   ],
   "source": [
    "df['genre'].sort_values().unique() # просмотр уникальных отсортированных названий жанров"
   ]
  },
  {
   "cell_type": "markdown",
   "metadata": {
    "deletable": false,
    "editable": false,
    "id": "qej-Qmuo_Zct",
    "tags": [
     "start_task"
    ]
   },
   "source": [
    "**Задание 16**"
   ]
  },
  {
   "cell_type": "code",
   "execution_count": 16,
   "metadata": {
    "deletable": false,
    "id": "ErNDkmns_Zct"
   },
   "outputs": [],
   "source": [
    "duplicates=['hip', 'hop', 'hip-hop']\n",
    "name='hiphop'\n",
    "df['genre']=df['genre'].replace(duplicates, name) # устранение неявных дубликатов"
   ]
  },
  {
   "cell_type": "markdown",
   "metadata": {
    "deletable": false,
    "editable": false,
    "id": "zQKF16_RG15m",
    "tags": [
     "start_task"
    ]
   },
   "source": [
    "**Задание 17**"
   ]
  },
  {
   "cell_type": "code",
   "execution_count": 17,
   "metadata": {
    "deletable": false,
    "id": "wvixALnFG15m"
   },
   "outputs": [
    {
     "data": {
      "text/plain": [
       "array(['acid', 'acoustic', 'action', 'adult', 'africa', 'afrikaans',\n",
       "       'alternative', 'alternativepunk', 'ambient', 'americana',\n",
       "       'animated', 'anime', 'arabesk', 'arabic', 'arena',\n",
       "       'argentinetango', 'art', 'audiobook', 'author', 'avantgarde',\n",
       "       'axé', 'baile', 'balkan', 'beats', 'bigroom', 'black', 'bluegrass',\n",
       "       'blues', 'bollywood', 'bossa', 'brazilian', 'breakbeat', 'breaks',\n",
       "       'broadway', 'cantautori', 'cantopop', 'canzone', 'caribbean',\n",
       "       'caucasian', 'celtic', 'chamber', 'chanson', 'children', 'chill',\n",
       "       'chinese', 'choral', 'christian', 'christmas', 'classical',\n",
       "       'classicmetal', 'club', 'colombian', 'comedy', 'conjazz',\n",
       "       'contemporary', 'country', 'cuban', 'dance', 'dancehall',\n",
       "       'dancepop', 'dark', 'death', 'deep', 'deutschrock', 'deutschspr',\n",
       "       'dirty', 'disco', 'dnb', 'documentary', 'downbeat', 'downtempo',\n",
       "       'drum', 'dub', 'dubstep', 'eastern', 'easy', 'electronic',\n",
       "       'electropop', 'emo', 'entehno', 'epicmetal', 'estrada', 'ethnic',\n",
       "       'eurofolk', 'european', 'experimental', 'extrememetal', 'fado',\n",
       "       'fairytail', 'film', 'fitness', 'flamenco', 'folk', 'folklore',\n",
       "       'folkmetal', 'folkrock', 'folktronica', 'forró', 'frankreich',\n",
       "       'französisch', 'french', 'funk', 'future', 'gangsta', 'garage',\n",
       "       'german', 'ghazal', 'gitarre', 'glitch', 'gospel', 'gothic',\n",
       "       'grime', 'grunge', 'gypsy', 'handsup', \"hard'n'heavy\", 'hardcore',\n",
       "       'hardstyle', 'hardtechno', 'hiphop', 'historisch', 'holiday',\n",
       "       'horror', 'house', 'hymn', 'idm', 'independent', 'indian', 'indie',\n",
       "       'indipop', 'industrial', 'inspirational', 'instrumental',\n",
       "       'international', 'irish', 'jam', 'japanese', 'jazz', 'jewish',\n",
       "       'jpop', 'jungle', 'k-pop', 'karadeniz', 'karaoke', 'kayokyoku',\n",
       "       'korean', 'laiko', 'latin', 'latino', 'leftfield', 'local',\n",
       "       'lounge', 'loungeelectronic', 'lovers', 'malaysian', 'mandopop',\n",
       "       'marschmusik', 'meditative', 'mediterranean', 'melodic', 'metal',\n",
       "       'metalcore', 'mexican', 'middle', 'minimal', 'miscellaneous',\n",
       "       'modern', 'mood', 'mpb', 'muslim', 'native', 'neoklassik', 'neue',\n",
       "       'new', 'newage', 'newwave', 'nu', 'nujazz', 'numetal', 'oceania',\n",
       "       'old', 'opera', 'orchestral', 'other', 'piano', 'podcasts', 'pop',\n",
       "       'popdance', 'popelectronic', 'popeurodance', 'poprussian', 'post',\n",
       "       'posthardcore', 'postrock', 'power', 'progmetal', 'progressive',\n",
       "       'psychedelic', 'punjabi', 'punk', 'quebecois', 'ragga', 'ram',\n",
       "       'rancheras', 'rap', 'rave', 'reggae', 'reggaeton', 'regional',\n",
       "       'relax', 'religious', 'retro', 'rhythm', 'rnb', 'rnr', 'rock',\n",
       "       'rockabilly', 'rockalternative', 'rockindie', 'rockother',\n",
       "       'romance', 'roots', 'ruspop', 'rusrap', 'rusrock', 'russian',\n",
       "       'salsa', 'samba', 'scenic', 'schlager', 'self', 'sertanejo',\n",
       "       'shanson', 'shoegazing', 'showtunes', 'singer', 'ska', 'skarock',\n",
       "       'slow', 'smooth', 'soft', 'soul', 'soulful', 'sound', 'soundtrack',\n",
       "       'southern', 'specialty', 'speech', 'spiritual', 'sport',\n",
       "       'stonerrock', 'surf', 'swing', 'synthpop', 'synthrock',\n",
       "       'sängerportrait', 'tango', 'tanzorchester', 'taraftar', 'tatar',\n",
       "       'tech', 'techno', 'teen', 'thrash', 'top', 'traditional',\n",
       "       'tradjazz', 'trance', 'tribal', 'trip', 'triphop', 'tropical',\n",
       "       'türk', 'türkçe', 'ukrrock', 'unknown', 'urban', 'uzbek',\n",
       "       'variété', 'vi', 'videogame', 'vocal', 'western', 'world',\n",
       "       'worldbeat', 'ïîï', 'электроника'], dtype=object)"
      ]
     },
     "execution_count": 17,
     "metadata": {},
     "output_type": "execute_result"
    }
   ],
   "source": [
    "df['genre'].sort_values().unique() # проверка на отсутствие неявных дубликатов"
   ]
  },
  {
   "cell_type": "markdown",
   "metadata": {
    "deletable": false,
    "editable": false,
    "id": "jz6a9-7HQUDd"
   },
   "source": [
    "**Выводы**\n",
    "\n",
    "Предобработка обнаружила три проблемы в данных:\n",
    "\n",
    "- нарушения в стиле заголовков,\n",
    "- пропущенные значения,\n",
    "- дубликаты — явные и неявные.\n",
    "\n",
    "Вы исправили заголовки, чтобы упростить работу с таблицей. Без дубликатов исследование станет более точным.\n",
    "\n",
    "Пропущенные значения вы заменили на `'unknown'`. Ещё предстоит увидеть, не повредят ли исследованию пропуски в колонке `genre`.\n",
    "\n",
    "Теперь можно перейти к проверке гипотез."
   ]
  },
  {
   "cell_type": "markdown",
   "metadata": {
    "deletable": false,
    "editable": false,
    "id": "WttZHXH0SqKk"
   },
   "source": [
    "## Проверка гипотез"
   ]
  },
  {
   "cell_type": "markdown",
   "metadata": {
    "deletable": false,
    "editable": false,
    "id": "Im936VVi_Zcu"
   },
   "source": [
    "### Сравнение поведения пользователей двух столиц"
   ]
  },
  {
   "cell_type": "markdown",
   "metadata": {
    "deletable": false,
    "editable": false,
    "id": "nwt_MuaL_Zcu"
   },
   "source": [
    "Первая гипотеза утверждает, что пользователи по-разному слушают музыку в Москве и Санкт-Петербурге. Проверим это предположение по данным о трёх днях недели — понедельнике, среде и пятнице. Для этого:\n",
    "\n",
    "* Разделим пользователей Москвы и Санкт-Петербурга.\n",
    "* Сравним, сколько треков послушала каждая группа пользователей в понедельник, среду и пятницу.\n"
   ]
  },
  {
   "cell_type": "markdown",
   "metadata": {
    "deletable": false,
    "id": "8Dw_YMmT_Zcu",
    "tags": [
     "start_task"
    ]
   },
   "source": [
    "**Задание 18**\n",
    "\n"
   ]
  },
  {
   "cell_type": "code",
   "execution_count": 18,
   "metadata": {
    "deletable": false,
    "id": "0_Qs96oh_Zcu"
   },
   "outputs": [
    {
     "data": {
      "text/plain": [
       "city\n",
       "Moscow              42741\n",
       "Saint-Petersburg    18512\n",
       "Name: time, dtype: int64"
      ]
     },
     "execution_count": 18,
     "metadata": {},
     "output_type": "execute_result"
    }
   ],
   "source": [
    "df.groupby('city')['time'].count() # подсчёт прослушиваний в каждом городе"
   ]
  },
  {
   "cell_type": "markdown",
   "metadata": {
    "id": "dzli3w8o_Zcu",
    "tags": [
     "start_task"
    ]
   },
   "source": [
    "**Задание 19**\n"
   ]
  },
  {
   "cell_type": "code",
   "execution_count": 19,
   "metadata": {
    "deletable": false,
    "id": "uZMKjiJz_Zcu"
   },
   "outputs": [
    {
     "data": {
      "text/plain": [
       "day\n",
       "Friday       21840\n",
       "Monday       21354\n",
       "Wednesday    18059\n",
       "Name: time, dtype: int64"
      ]
     },
     "execution_count": 19,
     "metadata": {},
     "output_type": "execute_result"
    }
   ],
   "source": [
    "df.groupby('day')['time'].count() # подсчёт прослушиваний в каждый из трёх дней"
   ]
  },
  {
   "cell_type": "markdown",
   "metadata": {
    "deletable": false,
    "editable": false,
    "id": "POzs8bGa_Zcu",
    "tags": [
     "start_task"
    ]
   },
   "source": [
    "**Задание 20**"
   ]
  },
  {
   "cell_type": "code",
   "execution_count": 20,
   "metadata": {
    "deletable": false,
    "id": "Nz3GdQB1_Zcu"
   },
   "outputs": [],
   "source": [
    "def number_tracks(day, city):\n",
    "    track_list = df[df['day'] == day] # выберите только строки df со значением переменной day в столбце day\n",
    "    track_list = track_list[track_list['city'] == city] # выберите только строки track_list со значением переменной city в столбце city\n",
    "    track_list_count = track_list['user_id'].count() # вызовите метод подсчета строк для track_list и выберите столбец user_id\n",
    "    return track_list_count # верните значение track_list_count из функции"
   ]
  },
  {
   "cell_type": "markdown",
   "metadata": {
    "deletable": false,
    "editable": false,
    "id": "ytf7xFrFJQ2r",
    "tags": [
     "start_task"
    ]
   },
   "source": [
    "**Задание 21**"
   ]
  },
  {
   "cell_type": "code",
   "execution_count": 21,
   "metadata": {
    "deletable": false,
    "id": "rJcRATNQ_Zcu"
   },
   "outputs": [
    {
     "data": {
      "text/plain": [
       "15740"
      ]
     },
     "execution_count": 21,
     "metadata": {},
     "output_type": "execute_result"
    }
   ],
   "source": [
    "number_tracks('Monday', 'Moscow') # количество прослушиваний в Москве по понедельникам"
   ]
  },
  {
   "cell_type": "code",
   "execution_count": 22,
   "metadata": {
    "deletable": false,
    "id": "hq_ncZ5T_Zcu"
   },
   "outputs": [
    {
     "data": {
      "text/plain": [
       "5614"
      ]
     },
     "execution_count": 22,
     "metadata": {},
     "output_type": "execute_result"
    }
   ],
   "source": [
    "number_tracks('Monday', 'Saint-Petersburg') # количество прослушиваний в Санкт-Петербурге по понедельникам"
   ]
  },
  {
   "cell_type": "code",
   "execution_count": 23,
   "metadata": {
    "deletable": false,
    "id": "_NTy2VPU_Zcu"
   },
   "outputs": [
    {
     "data": {
      "text/plain": [
       "11056"
      ]
     },
     "execution_count": 23,
     "metadata": {},
     "output_type": "execute_result"
    }
   ],
   "source": [
    "number_tracks('Wednesday', 'Moscow') # количество прослушиваний в Москве по средам"
   ]
  },
  {
   "cell_type": "code",
   "execution_count": 24,
   "metadata": {
    "deletable": false,
    "id": "j2y3TAwo_Zcu"
   },
   "outputs": [
    {
     "data": {
      "text/plain": [
       "7003"
      ]
     },
     "execution_count": 24,
     "metadata": {},
     "output_type": "execute_result"
    }
   ],
   "source": [
    "number_tracks('Wednesday', 'Saint-Petersburg') # количество прослушиваний в Санкт-Петербурге по средам"
   ]
  },
  {
   "cell_type": "code",
   "execution_count": 25,
   "metadata": {
    "deletable": false,
    "id": "vYDw5u_K_Zcu"
   },
   "outputs": [
    {
     "data": {
      "text/plain": [
       "15945"
      ]
     },
     "execution_count": 25,
     "metadata": {},
     "output_type": "execute_result"
    }
   ],
   "source": [
    "number_tracks('Friday', 'Moscow') # количество прослушиваний в Москве по пятницам"
   ]
  },
  {
   "cell_type": "code",
   "execution_count": 26,
   "metadata": {
    "deletable": false,
    "id": "8_yzFtW3_Zcu"
   },
   "outputs": [
    {
     "data": {
      "text/plain": [
       "5895"
      ]
     },
     "execution_count": 26,
     "metadata": {},
     "output_type": "execute_result"
    }
   ],
   "source": [
    "number_tracks('Friday', 'Saint-Petersburg') # количество прослушиваний в Санкт-Петербурге по пятницам"
   ]
  },
  {
   "cell_type": "markdown",
   "metadata": {
    "deletable": false,
    "editable": false,
    "id": "7QXffbO-_Zcu",
    "tags": [
     "start_task"
    ]
   },
   "source": [
    "**Задание 22**"
   ]
  },
  {
   "cell_type": "code",
   "execution_count": 27,
   "metadata": {
    "deletable": false,
    "id": "APAcLpOr_Zcu"
   },
   "outputs": [
    {
     "name": "stdout",
     "output_type": "stream",
     "text": [
      "               city  monday  wednesday  friday\n",
      "0            Moscow   15740      11056   15945\n",
      "1  Saint-Petersburg    5614       7003    5895\n"
     ]
    }
   ],
   "source": [
    "data=[['Moscow', 15740, 11056, 15945], ['Saint-Petersburg', 5614, 7003, 5895]]\n",
    "info=pd.DataFrame(data=data, columns=['city', 'monday', 'wednesday', 'friday']) # создание таблицы с результатами\n",
    "print(info) # вывод таблицы на экран"
   ]
  },
  {
   "cell_type": "markdown",
   "metadata": {
    "deletable": false,
    "editable": false,
    "id": "-EgPIHYu_Zcu"
   },
   "source": [
    "**Выводы**\n",
    "\n",
    "Данные показывают разницу поведения пользователей:\n",
    "\n",
    "- В Москве пик прослушиваний приходится на понедельник и пятницу, а в среду заметен спад.\n",
    "- В Петербурге, наоборот, больше слушают музыку по средам. Активность в понедельник и пятницу здесь почти в равной мере уступает среде.\n",
    "\n",
    "Значит, данные говорят в пользу первой гипотезы."
   ]
  },
  {
   "cell_type": "markdown",
   "metadata": {
    "deletable": false,
    "editable": false,
    "id": "atZAxtq4_Zcu"
   },
   "source": [
    "### Музыка в начале и в конце недели"
   ]
  },
  {
   "cell_type": "markdown",
   "metadata": {
    "deletable": false,
    "editable": false,
    "id": "eXrQqXFH_Zcu"
   },
   "source": [
    "Согласно второй гипотезе, утром в понедельник в Москве преобладают одни жанры, а в Петербурге — другие. Так же и вечером пятницы преобладают разные жанры — в зависимости от города."
   ]
  },
  {
   "cell_type": "markdown",
   "metadata": {
    "deletable": false,
    "editable": false,
    "id": "S8UcW6Hw_Zcu",
    "tags": [
     "start_task"
    ]
   },
   "source": [
    "**Задание 23**"
   ]
  },
  {
   "cell_type": "code",
   "execution_count": 28,
   "metadata": {
    "deletable": false,
    "id": "qeaFfM_P_Zcu"
   },
   "outputs": [],
   "source": [
    "moscow_general = df[df['city'] == 'Moscow'] # получение таблицы moscow_general из тех строк таблицы df, для которых значение в столбце 'city' равно 'Moscow'\n"
   ]
  },
  {
   "cell_type": "code",
   "execution_count": 29,
   "metadata": {
    "deletable": false,
    "id": "ORaVRKto_Zcu"
   },
   "outputs": [],
   "source": [
    "spb_general = df[df['city'] == 'Saint-Petersburg']  # получение таблицы spb_general из тех строк таблицы df, для которых значение в столбце 'city' равно 'Saint-Petersburg'\n"
   ]
  },
  {
   "cell_type": "markdown",
   "metadata": {
    "deletable": false,
    "editable": false,
    "id": "MEJV-CX2_Zcu",
    "tags": [
     "start_task"
    ]
   },
   "source": [
    "**Задание 24**"
   ]
  },
  {
   "cell_type": "code",
   "execution_count": 30,
   "metadata": {
    "deletable": false,
    "id": "laJT9BYl_Zcu"
   },
   "outputs": [],
   "source": [
    "def genre_weekday(df, day, time1, time2):\n",
    "    # последовательная фильтрация\n",
    "    # оставляем в genre_df только те строки df, у которых день равен day\n",
    "    genre_df = df[df['day'] == day] # ваш код здесь\n",
    "    # оставляем в genre_df только те строки genre_df, у которых время меньше time2\n",
    "    genre_df = genre_df[genre_df['time'] < time2] # ваш код здесь\n",
    "    # оставляем в genre_df только те строки genre_df, у которых время больше time1\n",
    "    genre_df = genre_df[genre_df['time'] > time1] # ваш код здесь\n",
    "    # сгруппируем отфильтрованный датафрейм по столбцу с названиями жанров, возьмём столбец genre и посчитаем кол-во строк для каждого жанра методом count()\n",
    "    genre_df_grouped = genre_df.groupby('genre')['time'].count() # ваш код здесь\n",
    "    # отсортируем результат по убыванию (чтобы в начале Series оказались самые популярные жанры)\n",
    "    genre_df_sorted = genre_df_grouped.sort_values(ascending=False) # ваш код здесь\n",
    "    # вернём Series с 10 самыми популярными жанрами в указанный отрезок времени заданного дня\n",
    "    return genre_df_sorted[:10]"
   ]
  },
  {
   "cell_type": "markdown",
   "metadata": {
    "deletable": false,
    "editable": false,
    "id": "la2s2_PF_Zcu",
    "tags": [
     "start_task"
    ]
   },
   "source": [
    "**Задание 25**"
   ]
  },
  {
   "cell_type": "code",
   "execution_count": 31,
   "metadata": {
    "deletable": false,
    "id": "yz7itPUQ_Zcu"
   },
   "outputs": [
    {
     "data": {
      "text/plain": [
       "genre\n",
       "pop            781\n",
       "dance          549\n",
       "electronic     480\n",
       "rock           474\n",
       "hiphop         286\n",
       "ruspop         186\n",
       "world          181\n",
       "rusrap         175\n",
       "alternative    164\n",
       "unknown        161\n",
       "Name: time, dtype: int64"
      ]
     },
     "execution_count": 31,
     "metadata": {},
     "output_type": "execute_result"
    }
   ],
   "source": [
    "genre_weekday(moscow_general, 'Monday', '07:00', '11:00')"
   ]
  },
  {
   "cell_type": "code",
   "execution_count": 32,
   "metadata": {
    "deletable": false,
    "id": "kwUcHPdy_Zcu"
   },
   "outputs": [
    {
     "data": {
      "text/plain": [
       "genre\n",
       "pop            218\n",
       "dance          182\n",
       "rock           162\n",
       "electronic     147\n",
       "hiphop          80\n",
       "ruspop          64\n",
       "alternative     58\n",
       "rusrap          55\n",
       "jazz            44\n",
       "classical       40\n",
       "Name: time, dtype: int64"
      ]
     },
     "execution_count": 32,
     "metadata": {},
     "output_type": "execute_result"
    }
   ],
   "source": [
    "genre_weekday(spb_general, 'Monday', '07:00', '11:00')"
   ]
  },
  {
   "cell_type": "code",
   "execution_count": 33,
   "metadata": {
    "deletable": false,
    "id": "EzXVRE1o_Zcu"
   },
   "outputs": [
    {
     "data": {
      "text/plain": [
       "genre\n",
       "pop            713\n",
       "rock           517\n",
       "dance          495\n",
       "electronic     482\n",
       "hiphop         273\n",
       "world          208\n",
       "ruspop         170\n",
       "alternative    163\n",
       "classical      163\n",
       "rusrap         142\n",
       "Name: time, dtype: int64"
      ]
     },
     "execution_count": 33,
     "metadata": {},
     "output_type": "execute_result"
    }
   ],
   "source": [
    "genre_weekday(moscow_general, 'Friday', '17:00', '23:00')"
   ]
  },
  {
   "cell_type": "code",
   "execution_count": 34,
   "metadata": {
    "deletable": false,
    "id": "JZaEKu5v_Zcu"
   },
   "outputs": [
    {
     "data": {
      "text/plain": [
       "genre\n",
       "pop            256\n",
       "electronic     216\n",
       "rock           216\n",
       "dance          210\n",
       "hiphop          97\n",
       "alternative     63\n",
       "jazz            61\n",
       "classical       60\n",
       "rusrap          59\n",
       "world           54\n",
       "Name: time, dtype: int64"
      ]
     },
     "execution_count": 34,
     "metadata": {},
     "output_type": "execute_result"
    }
   ],
   "source": [
    "genre_weekday(spb_general, 'Friday', '17:00', '23:00')"
   ]
  },
  {
   "cell_type": "markdown",
   "metadata": {
    "deletable": false,
    "editable": false,
    "id": "wrCe4MNX_Zcu"
   },
   "source": [
    "**Выводы**\n",
    "\n",
    "Если сравнить топ-10 жанров в понедельник утром, можно сделать такие выводы:\n",
    "\n",
    "1. В Москве и Петербурге слушают похожую музыку. Единственное различие — в московский рейтинг вошёл жанр “world”, а в петербургский — джаз и классика.\n",
    "\n",
    "2. В Москве пропущенных значений оказалось так много, что значение `'unknown'` заняло десятое место среди самых популярных жанров. Значит, пропущенные значения занимают существенную долю в данных и угрожают достоверности исследования.\n",
    "\n",
    "Вечер пятницы не меняет эту картину. Некоторые жанры поднимаются немного выше, другие спускаются, но в целом топ-10 остаётся тем же самым.\n",
    "\n",
    "Таким образом, вторая гипотеза подтвердилась лишь частично:\n",
    "* Пользователи слушают похожую музыку в начале недели и в конце.\n",
    "* Разница между Москвой и Петербургом не слишком выражена. В Москве чаще слушают русскую популярную музыку, в Петербурге — джаз.\n",
    "\n",
    "Однако пропуски в данных ставят под сомнение этот результат. В Москве их так много, что рейтинг топ-10 мог бы выглядеть иначе, если бы не утерянные  данные о жанрах."
   ]
  },
  {
   "cell_type": "markdown",
   "metadata": {
    "deletable": false,
    "editable": false,
    "id": "JolODAqr_Zcu"
   },
   "source": [
    "### Жанровые предпочтения в Москве и Петербурге\n",
    "\n",
    "Гипотеза: Петербург — столица рэпа, музыку этого жанра там слушают чаще, чем в Москве.  А Москва — город контрастов, в котором, тем не менее, преобладает поп-музыка."
   ]
  },
  {
   "cell_type": "markdown",
   "metadata": {
    "deletable": false,
    "editable": false,
    "id": "DlegSvaT_Zcu",
    "tags": [
     "start_task"
    ]
   },
   "source": [
    "**Задание 26**"
   ]
  },
  {
   "cell_type": "code",
   "execution_count": 40,
   "metadata": {
    "deletable": false,
    "id": "r19lIPke_Zcu"
   },
   "outputs": [],
   "source": [
    "moscow_general_grouped=moscow_general.groupby('genre')['genre'].count() # одной строкой: группировка таблицы moscow_general по столбцу 'genre', выбор столбца `genre`, подсчёт числа значений 'genre' методом count(), сохранение в moscow_genres\n",
    "moscow_genres=moscow_general_grouped.sort_values(ascending=False) # сортировка получившегося Series в порядке убывания и сохранение обратно в moscow_genres"
   ]
  },
  {
   "cell_type": "markdown",
   "metadata": {
    "deletable": false,
    "editable": false,
    "id": "6kMuomxTiIr8",
    "tags": [
     "start_task"
    ]
   },
   "source": [
    "**Задание 27**"
   ]
  },
  {
   "cell_type": "code",
   "execution_count": 41,
   "metadata": {
    "deletable": false,
    "id": "WhCSooF8_Zcv"
   },
   "outputs": [
    {
     "data": {
      "text/plain": [
       "genre\n",
       "pop            5892\n",
       "dance          4435\n",
       "rock           3965\n",
       "electronic     3786\n",
       "hiphop         2096\n",
       "classical      1616\n",
       "world          1432\n",
       "alternative    1379\n",
       "ruspop         1372\n",
       "rusrap         1161\n",
       "Name: genre, dtype: int64"
      ]
     },
     "execution_count": 41,
     "metadata": {},
     "output_type": "execute_result"
    }
   ],
   "source": [
    "moscow_genres.head(10) # просмотр первых 10 строк moscow_genres"
   ]
  },
  {
   "cell_type": "markdown",
   "metadata": {
    "deletable": false,
    "editable": false,
    "id": "cnPG2vnN_Zcv",
    "tags": [
     "start_task"
    ]
   },
   "source": [
    "**Задание 28**"
   ]
  },
  {
   "cell_type": "code",
   "execution_count": 42,
   "metadata": {
    "deletable": false,
    "id": "gluLIpE7_Zcv"
   },
   "outputs": [],
   "source": [
    "spb_general_grouped=spb_general.groupby('genre')['genre'].count() # одной строкой: группировка таблицы spb_general по столбцу 'genre', выбор столбца `genre`, подсчёт числа значений 'genre' методом count(), сохранение в spb_genres\n",
    "spb_genres=spb_general_grouped.sort_values(ascending=False) # сортировка получившегося Series в порядке убывания и сохранение обратно в spb_genres"
   ]
  },
  {
   "cell_type": "markdown",
   "metadata": {
    "deletable": false,
    "editable": false,
    "id": "5Doha_ODgyQ8",
    "tags": [
     "start_task"
    ]
   },
   "source": [
    "**Задание 29**"
   ]
  },
  {
   "cell_type": "code",
   "execution_count": 43,
   "metadata": {
    "deletable": false,
    "id": "uaGJHjVU_Zcv"
   },
   "outputs": [
    {
     "data": {
      "text/plain": [
       "genre\n",
       "pop            2431\n",
       "dance          1932\n",
       "rock           1879\n",
       "electronic     1736\n",
       "hiphop          960\n",
       "alternative     649\n",
       "classical       646\n",
       "rusrap          564\n",
       "ruspop          538\n",
       "world           515\n",
       "Name: genre, dtype: int64"
      ]
     },
     "execution_count": 43,
     "metadata": {},
     "output_type": "execute_result"
    }
   ],
   "source": [
    "spb_genres.head(10) # просмотр первых 10 строк spb_genres"
   ]
  },
  {
   "cell_type": "markdown",
   "metadata": {
    "deletable": false,
    "editable": false,
    "id": "RY51YJYu_Zcv"
   },
   "source": [
    "**Выводы**"
   ]
  },
  {
   "cell_type": "markdown",
   "metadata": {
    "deletable": false,
    "editable": false,
    "id": "nVhnJEm__Zcv"
   },
   "source": [
    "Гипотеза частично подтвердилась:\n",
    "* Поп-музыка — самый популярный жанр в Москве, как и предполагала гипотеза. Более того, в топ-10 жанров встречается близкий жанр — русская популярная музыка.\n",
    "* Вопреки ожиданиям, рэп одинаково популярен в Москве и Петербурге.\n"
   ]
  },
  {
   "cell_type": "markdown",
   "metadata": {
    "deletable": false,
    "editable": false,
    "id": "ykKQ0N65_Zcv"
   },
   "source": [
    "## Итоги исследования"
   ]
  },
  {
   "cell_type": "markdown",
   "metadata": {
    "deletable": false,
    "editable": false,
    "id": "tjUwbHb3_Zcv"
   },
   "source": [
    "Вы проверили три гипотезы и установили:\n",
    "\n",
    "1. День недели по-разному влияет на активность пользователей в Москве и Петербурге.\n",
    "\n",
    "Первая гипотеза полностью подтвердилась.\n",
    "\n",
    "2. Музыкальные предпочтения не сильно меняются в течение недели — будь то Москва или Петербург. Небольшие различия заметны в начале недели, по понедельникам:\n",
    "* в Москве слушают музыку жанра “world”,\n",
    "* в Петербурге — джаз и классику.\n",
    "\n",
    "Таким образом, вторая гипотеза подтвердилась лишь отчасти. Этот результат мог оказаться иным, если бы не пропуски в данных.\n",
    "\n",
    "3. Во вкусах пользователей Москвы и Петербурга больше общего, чем различий. Вопреки ожиданиям, предпочтения жанров в Петербурге напоминают московские.\n",
    "\n",
    "Третья гипотеза не подтвердилась. Если различия в предпочтениях и существуют, на основной массе пользователей они незаметны.\n",
    "\n",
    "**На практике исследования содержат проверки статистических гипотез.**\n",
    "Из части данных одного сервиса невозможно сделать какие-то выводы о всех пользователях сервиса без методов статистики.\n",
    "Проверки статистических гипотез покажут, насколько они достоверны, исходя из имеющихся данных.\n",
    "С методами проверок гипотез вы ещё познакомитесь в следующих темах."
   ]
  },
  {
   "cell_type": "code",
   "execution_count": null,
   "metadata": {},
   "outputs": [],
   "source": []
  }
 ],
 "metadata": {
  "ExecuteTimeLog": [
   {
    "duration": 3,
    "start_time": "2023-12-25T11:43:05.528Z"
   },
   {
    "duration": 357,
    "start_time": "2023-12-25T13:37:45.346Z"
   },
   {
    "duration": 224,
    "start_time": "2023-12-25T13:37:45.705Z"
   },
   {
    "duration": 15,
    "start_time": "2023-12-25T13:37:45.931Z"
   },
   {
    "duration": 45,
    "start_time": "2023-12-25T13:37:45.948Z"
   },
   {
    "duration": 12,
    "start_time": "2023-12-25T13:37:45.995Z"
   },
   {
    "duration": 91,
    "start_time": "2023-12-25T13:37:46.009Z"
   },
   {
    "duration": 0,
    "start_time": "2023-12-25T13:37:46.103Z"
   },
   {
    "duration": 0,
    "start_time": "2023-12-25T13:37:46.104Z"
   },
   {
    "duration": 0,
    "start_time": "2023-12-25T13:37:46.106Z"
   },
   {
    "duration": 0,
    "start_time": "2023-12-25T13:37:46.106Z"
   },
   {
    "duration": 0,
    "start_time": "2023-12-25T13:37:46.107Z"
   },
   {
    "duration": 1,
    "start_time": "2023-12-25T13:37:46.108Z"
   },
   {
    "duration": 0,
    "start_time": "2023-12-25T13:37:46.109Z"
   },
   {
    "duration": 0,
    "start_time": "2023-12-25T13:37:46.110Z"
   },
   {
    "duration": 0,
    "start_time": "2023-12-25T13:37:46.113Z"
   },
   {
    "duration": 0,
    "start_time": "2023-12-25T13:37:46.114Z"
   },
   {
    "duration": 0,
    "start_time": "2023-12-25T13:37:46.116Z"
   },
   {
    "duration": 0,
    "start_time": "2023-12-25T13:37:46.120Z"
   },
   {
    "duration": 0,
    "start_time": "2023-12-25T13:37:46.121Z"
   },
   {
    "duration": 0,
    "start_time": "2023-12-25T13:37:46.122Z"
   },
   {
    "duration": 0,
    "start_time": "2023-12-25T13:37:46.123Z"
   },
   {
    "duration": 0,
    "start_time": "2023-12-25T13:37:46.124Z"
   },
   {
    "duration": 0,
    "start_time": "2023-12-25T13:37:46.125Z"
   },
   {
    "duration": 0,
    "start_time": "2023-12-25T13:37:46.127Z"
   },
   {
    "duration": 0,
    "start_time": "2023-12-25T13:37:46.127Z"
   },
   {
    "duration": 0,
    "start_time": "2023-12-25T13:37:46.129Z"
   },
   {
    "duration": 0,
    "start_time": "2023-12-25T13:37:46.130Z"
   },
   {
    "duration": 0,
    "start_time": "2023-12-25T13:37:46.131Z"
   },
   {
    "duration": 0,
    "start_time": "2023-12-25T13:37:46.132Z"
   },
   {
    "duration": 0,
    "start_time": "2023-12-25T13:37:46.133Z"
   },
   {
    "duration": 0,
    "start_time": "2023-12-25T13:37:46.133Z"
   },
   {
    "duration": 0,
    "start_time": "2023-12-25T13:37:46.134Z"
   },
   {
    "duration": 0,
    "start_time": "2023-12-25T13:37:46.135Z"
   },
   {
    "duration": 0,
    "start_time": "2023-12-25T13:37:46.136Z"
   },
   {
    "duration": 0,
    "start_time": "2023-12-25T13:37:46.138Z"
   },
   {
    "duration": 0,
    "start_time": "2023-12-25T13:37:46.139Z"
   },
   {
    "duration": 0,
    "start_time": "2023-12-25T13:37:46.140Z"
   },
   {
    "duration": 0,
    "start_time": "2023-12-25T13:37:46.182Z"
   },
   {
    "duration": 380,
    "start_time": "2023-12-25T13:38:26.404Z"
   },
   {
    "duration": 170,
    "start_time": "2023-12-25T13:38:26.785Z"
   },
   {
    "duration": 16,
    "start_time": "2023-12-25T13:38:26.957Z"
   },
   {
    "duration": 34,
    "start_time": "2023-12-25T13:38:26.982Z"
   },
   {
    "duration": 3,
    "start_time": "2023-12-25T13:38:27.017Z"
   },
   {
    "duration": 78,
    "start_time": "2023-12-25T13:38:27.021Z"
   },
   {
    "duration": 0,
    "start_time": "2023-12-25T13:38:27.101Z"
   },
   {
    "duration": 0,
    "start_time": "2023-12-25T13:38:27.102Z"
   },
   {
    "duration": 0,
    "start_time": "2023-12-25T13:38:27.103Z"
   },
   {
    "duration": 0,
    "start_time": "2023-12-25T13:38:27.105Z"
   },
   {
    "duration": 0,
    "start_time": "2023-12-25T13:38:27.106Z"
   },
   {
    "duration": 0,
    "start_time": "2023-12-25T13:38:27.107Z"
   },
   {
    "duration": 0,
    "start_time": "2023-12-25T13:38:27.108Z"
   },
   {
    "duration": 0,
    "start_time": "2023-12-25T13:38:27.109Z"
   },
   {
    "duration": 0,
    "start_time": "2023-12-25T13:38:27.110Z"
   },
   {
    "duration": 0,
    "start_time": "2023-12-25T13:38:27.111Z"
   },
   {
    "duration": 0,
    "start_time": "2023-12-25T13:38:27.112Z"
   },
   {
    "duration": 0,
    "start_time": "2023-12-25T13:38:27.113Z"
   },
   {
    "duration": 0,
    "start_time": "2023-12-25T13:38:27.114Z"
   },
   {
    "duration": 0,
    "start_time": "2023-12-25T13:38:27.115Z"
   },
   {
    "duration": 0,
    "start_time": "2023-12-25T13:38:27.116Z"
   },
   {
    "duration": 0,
    "start_time": "2023-12-25T13:38:27.117Z"
   },
   {
    "duration": 0,
    "start_time": "2023-12-25T13:38:27.118Z"
   },
   {
    "duration": 0,
    "start_time": "2023-12-25T13:38:27.119Z"
   },
   {
    "duration": 0,
    "start_time": "2023-12-25T13:38:27.120Z"
   },
   {
    "duration": 0,
    "start_time": "2023-12-25T13:38:27.121Z"
   },
   {
    "duration": 0,
    "start_time": "2023-12-25T13:38:27.122Z"
   },
   {
    "duration": 0,
    "start_time": "2023-12-25T13:38:27.122Z"
   },
   {
    "duration": 0,
    "start_time": "2023-12-25T13:38:27.123Z"
   },
   {
    "duration": 0,
    "start_time": "2023-12-25T13:38:27.125Z"
   },
   {
    "duration": 0,
    "start_time": "2023-12-25T13:38:27.125Z"
   },
   {
    "duration": 0,
    "start_time": "2023-12-25T13:38:27.126Z"
   },
   {
    "duration": 0,
    "start_time": "2023-12-25T13:38:27.127Z"
   },
   {
    "duration": 0,
    "start_time": "2023-12-25T13:38:27.128Z"
   },
   {
    "duration": 0,
    "start_time": "2023-12-25T13:38:27.129Z"
   },
   {
    "duration": 0,
    "start_time": "2023-12-25T13:38:27.130Z"
   },
   {
    "duration": 0,
    "start_time": "2023-12-25T13:38:27.131Z"
   },
   {
    "duration": 0,
    "start_time": "2023-12-25T13:38:27.132Z"
   },
   {
    "duration": 3,
    "start_time": "2023-12-25T13:38:50.837Z"
   },
   {
    "duration": 405,
    "start_time": "2023-12-25T13:42:45.404Z"
   },
   {
    "duration": 171,
    "start_time": "2023-12-25T13:42:45.811Z"
   },
   {
    "duration": 16,
    "start_time": "2023-12-25T13:42:45.984Z"
   },
   {
    "duration": 30,
    "start_time": "2023-12-25T13:42:46.002Z"
   },
   {
    "duration": 2,
    "start_time": "2023-12-25T13:42:46.034Z"
   },
   {
    "duration": 12,
    "start_time": "2023-12-25T13:42:46.037Z"
   },
   {
    "duration": 79,
    "start_time": "2023-12-25T13:42:46.050Z"
   },
   {
    "duration": 0,
    "start_time": "2023-12-25T13:42:46.132Z"
   },
   {
    "duration": 0,
    "start_time": "2023-12-25T13:42:46.133Z"
   },
   {
    "duration": 0,
    "start_time": "2023-12-25T13:42:46.134Z"
   },
   {
    "duration": 0,
    "start_time": "2023-12-25T13:42:46.135Z"
   },
   {
    "duration": 0,
    "start_time": "2023-12-25T13:42:46.137Z"
   },
   {
    "duration": 0,
    "start_time": "2023-12-25T13:42:46.137Z"
   },
   {
    "duration": 0,
    "start_time": "2023-12-25T13:42:46.140Z"
   },
   {
    "duration": 0,
    "start_time": "2023-12-25T13:42:46.141Z"
   },
   {
    "duration": 0,
    "start_time": "2023-12-25T13:42:46.142Z"
   },
   {
    "duration": 0,
    "start_time": "2023-12-25T13:42:46.143Z"
   },
   {
    "duration": 0,
    "start_time": "2023-12-25T13:42:46.144Z"
   },
   {
    "duration": 0,
    "start_time": "2023-12-25T13:42:46.145Z"
   },
   {
    "duration": 0,
    "start_time": "2023-12-25T13:42:46.146Z"
   },
   {
    "duration": 0,
    "start_time": "2023-12-25T13:42:46.147Z"
   },
   {
    "duration": 0,
    "start_time": "2023-12-25T13:42:46.148Z"
   },
   {
    "duration": 0,
    "start_time": "2023-12-25T13:42:46.149Z"
   },
   {
    "duration": 0,
    "start_time": "2023-12-25T13:42:46.150Z"
   },
   {
    "duration": 0,
    "start_time": "2023-12-25T13:42:46.152Z"
   },
   {
    "duration": 0,
    "start_time": "2023-12-25T13:42:46.153Z"
   },
   {
    "duration": 0,
    "start_time": "2023-12-25T13:42:46.154Z"
   },
   {
    "duration": 0,
    "start_time": "2023-12-25T13:42:46.155Z"
   },
   {
    "duration": 0,
    "start_time": "2023-12-25T13:42:46.156Z"
   },
   {
    "duration": 0,
    "start_time": "2023-12-25T13:42:46.157Z"
   },
   {
    "duration": 0,
    "start_time": "2023-12-25T13:42:46.158Z"
   },
   {
    "duration": 0,
    "start_time": "2023-12-25T13:42:46.159Z"
   },
   {
    "duration": 0,
    "start_time": "2023-12-25T13:42:46.160Z"
   },
   {
    "duration": 0,
    "start_time": "2023-12-25T13:42:46.161Z"
   },
   {
    "duration": 0,
    "start_time": "2023-12-25T13:42:46.162Z"
   },
   {
    "duration": 0,
    "start_time": "2023-12-25T13:42:46.164Z"
   },
   {
    "duration": 0,
    "start_time": "2023-12-25T13:42:46.165Z"
   },
   {
    "duration": 0,
    "start_time": "2023-12-25T13:42:46.166Z"
   },
   {
    "duration": 75,
    "start_time": "2023-12-25T13:43:47.987Z"
   },
   {
    "duration": 2,
    "start_time": "2023-12-25T13:43:49.612Z"
   },
   {
    "duration": 158,
    "start_time": "2023-12-25T13:46:31.313Z"
   },
   {
    "duration": 75,
    "start_time": "2023-12-25T13:46:41.320Z"
   },
   {
    "duration": 11,
    "start_time": "2023-12-25T13:47:30.003Z"
   },
   {
    "duration": 13,
    "start_time": "2023-12-25T13:47:32.860Z"
   },
   {
    "duration": 11,
    "start_time": "2023-12-25T13:47:44.915Z"
   },
   {
    "duration": 77,
    "start_time": "2023-12-25T13:47:49.306Z"
   },
   {
    "duration": 14,
    "start_time": "2023-12-25T13:47:54.785Z"
   },
   {
    "duration": 16,
    "start_time": "2023-12-25T13:49:17.732Z"
   },
   {
    "duration": 12,
    "start_time": "2023-12-25T13:49:43.398Z"
   },
   {
    "duration": 3,
    "start_time": "2023-12-25T13:49:53.477Z"
   },
   {
    "duration": 8,
    "start_time": "2023-12-25T13:50:15.358Z"
   },
   {
    "duration": 7,
    "start_time": "2023-12-25T13:50:18.279Z"
   },
   {
    "duration": 8,
    "start_time": "2023-12-25T13:50:20.013Z"
   },
   {
    "duration": 7,
    "start_time": "2023-12-25T13:50:23.127Z"
   },
   {
    "duration": 7,
    "start_time": "2023-12-25T13:50:26.077Z"
   },
   {
    "duration": 7,
    "start_time": "2023-12-25T13:50:47.342Z"
   },
   {
    "duration": 4,
    "start_time": "2023-12-25T13:50:58.903Z"
   },
   {
    "duration": 10,
    "start_time": "2023-12-25T13:51:16.345Z"
   },
   {
    "duration": 5,
    "start_time": "2023-12-25T13:51:20.615Z"
   },
   {
    "duration": 362,
    "start_time": "2023-12-25T18:31:10.107Z"
   },
   {
    "duration": 3,
    "start_time": "2023-12-25T18:31:13.016Z"
   },
   {
    "duration": 213,
    "start_time": "2023-12-25T18:31:18.253Z"
   },
   {
    "duration": 33,
    "start_time": "2023-12-25T18:33:47.457Z"
   },
   {
    "duration": 12,
    "start_time": "2023-12-25T18:38:34.025Z"
   },
   {
    "duration": 9,
    "start_time": "2023-12-25T18:38:39.318Z"
   },
   {
    "duration": 11,
    "start_time": "2023-12-25T18:38:40.546Z"
   },
   {
    "duration": 422,
    "start_time": "2023-12-25T18:41:02.468Z"
   },
   {
    "duration": 181,
    "start_time": "2023-12-25T18:41:02.892Z"
   },
   {
    "duration": 20,
    "start_time": "2023-12-25T18:41:03.075Z"
   },
   {
    "duration": 51,
    "start_time": "2023-12-25T18:41:03.097Z"
   },
   {
    "duration": 11,
    "start_time": "2023-12-25T18:41:03.150Z"
   },
   {
    "duration": 25,
    "start_time": "2023-12-25T18:41:03.163Z"
   },
   {
    "duration": 44,
    "start_time": "2023-12-25T18:41:03.190Z"
   },
   {
    "duration": 37,
    "start_time": "2023-12-25T18:41:03.236Z"
   },
   {
    "duration": 12,
    "start_time": "2023-12-25T18:41:03.275Z"
   },
   {
    "duration": 16,
    "start_time": "2023-12-25T18:41:03.290Z"
   },
   {
    "duration": 24,
    "start_time": "2023-12-25T18:41:03.308Z"
   },
   {
    "duration": 7,
    "start_time": "2023-12-25T18:41:03.334Z"
   },
   {
    "duration": 17,
    "start_time": "2023-12-25T18:41:03.343Z"
   },
   {
    "duration": 13,
    "start_time": "2023-12-25T18:41:03.362Z"
   },
   {
    "duration": 20,
    "start_time": "2023-12-25T18:41:03.377Z"
   },
   {
    "duration": 5,
    "start_time": "2023-12-25T18:41:03.398Z"
   },
   {
    "duration": 4,
    "start_time": "2023-12-25T18:41:03.405Z"
   },
   {
    "duration": 42,
    "start_time": "2023-12-25T18:41:03.410Z"
   },
   {
    "duration": 51,
    "start_time": "2023-12-25T18:41:03.453Z"
   },
   {
    "duration": 92,
    "start_time": "2023-12-25T18:41:03.506Z"
   },
   {
    "duration": 0,
    "start_time": "2023-12-25T18:41:03.602Z"
   },
   {
    "duration": 0,
    "start_time": "2023-12-25T18:41:03.603Z"
   },
   {
    "duration": 0,
    "start_time": "2023-12-25T18:41:03.605Z"
   },
   {
    "duration": 0,
    "start_time": "2023-12-25T18:41:03.606Z"
   },
   {
    "duration": 0,
    "start_time": "2023-12-25T18:41:03.607Z"
   },
   {
    "duration": 0,
    "start_time": "2023-12-25T18:41:03.608Z"
   },
   {
    "duration": 0,
    "start_time": "2023-12-25T18:41:03.609Z"
   },
   {
    "duration": 0,
    "start_time": "2023-12-25T18:41:03.610Z"
   },
   {
    "duration": 0,
    "start_time": "2023-12-25T18:41:03.612Z"
   },
   {
    "duration": 0,
    "start_time": "2023-12-25T18:41:03.613Z"
   },
   {
    "duration": 0,
    "start_time": "2023-12-25T18:41:03.614Z"
   },
   {
    "duration": 0,
    "start_time": "2023-12-25T18:41:03.614Z"
   },
   {
    "duration": 0,
    "start_time": "2023-12-25T18:41:03.615Z"
   },
   {
    "duration": 0,
    "start_time": "2023-12-25T18:41:03.616Z"
   },
   {
    "duration": 0,
    "start_time": "2023-12-25T18:41:03.618Z"
   },
   {
    "duration": 0,
    "start_time": "2023-12-25T18:41:03.619Z"
   },
   {
    "duration": 0,
    "start_time": "2023-12-25T18:41:03.620Z"
   },
   {
    "duration": 0,
    "start_time": "2023-12-25T18:41:03.621Z"
   },
   {
    "duration": 2,
    "start_time": "2023-12-25T18:41:14.313Z"
   },
   {
    "duration": 159,
    "start_time": "2023-12-25T18:41:16.727Z"
   },
   {
    "duration": 12,
    "start_time": "2023-12-25T18:41:23.972Z"
   },
   {
    "duration": 12,
    "start_time": "2023-12-25T18:41:25.467Z"
   },
   {
    "duration": 4,
    "start_time": "2023-12-25T18:41:30.729Z"
   },
   {
    "duration": 36,
    "start_time": "2023-12-25T18:44:55.806Z"
   },
   {
    "duration": 88,
    "start_time": "2023-12-25T18:45:15.013Z"
   },
   {
    "duration": 25,
    "start_time": "2023-12-25T18:45:20.476Z"
   },
   {
    "duration": 17,
    "start_time": "2023-12-25T18:53:35.959Z"
   },
   {
    "duration": 26,
    "start_time": "2023-12-25T18:53:49.276Z"
   },
   {
    "duration": 379,
    "start_time": "2023-12-25T18:54:02.740Z"
   },
   {
    "duration": 195,
    "start_time": "2023-12-25T18:54:03.120Z"
   },
   {
    "duration": 18,
    "start_time": "2023-12-25T18:54:03.316Z"
   },
   {
    "duration": 49,
    "start_time": "2023-12-25T18:54:03.337Z"
   },
   {
    "duration": 3,
    "start_time": "2023-12-25T18:54:03.387Z"
   },
   {
    "duration": 10,
    "start_time": "2023-12-25T18:54:03.392Z"
   },
   {
    "duration": 23,
    "start_time": "2023-12-25T18:54:03.403Z"
   },
   {
    "duration": 24,
    "start_time": "2023-12-25T18:54:03.427Z"
   },
   {
    "duration": 39,
    "start_time": "2023-12-25T18:54:03.453Z"
   },
   {
    "duration": 31,
    "start_time": "2023-12-25T18:54:03.495Z"
   },
   {
    "duration": 4,
    "start_time": "2023-12-25T18:54:03.527Z"
   },
   {
    "duration": 11,
    "start_time": "2023-12-25T18:54:03.533Z"
   },
   {
    "duration": 10,
    "start_time": "2023-12-25T18:54:03.546Z"
   },
   {
    "duration": 10,
    "start_time": "2023-12-25T18:54:03.558Z"
   },
   {
    "duration": 4,
    "start_time": "2023-12-25T18:54:03.570Z"
   },
   {
    "duration": 5,
    "start_time": "2023-12-25T18:54:03.575Z"
   },
   {
    "duration": 6,
    "start_time": "2023-12-25T18:54:03.582Z"
   },
   {
    "duration": 5,
    "start_time": "2023-12-25T18:54:03.590Z"
   },
   {
    "duration": 9,
    "start_time": "2023-12-25T18:54:03.596Z"
   },
   {
    "duration": 71,
    "start_time": "2023-12-25T18:54:03.607Z"
   },
   {
    "duration": 0,
    "start_time": "2023-12-25T18:54:03.679Z"
   },
   {
    "duration": 0,
    "start_time": "2023-12-25T18:54:03.681Z"
   },
   {
    "duration": 0,
    "start_time": "2023-12-25T18:54:03.682Z"
   },
   {
    "duration": 0,
    "start_time": "2023-12-25T18:54:03.683Z"
   },
   {
    "duration": 0,
    "start_time": "2023-12-25T18:54:03.684Z"
   },
   {
    "duration": 0,
    "start_time": "2023-12-25T18:54:03.685Z"
   },
   {
    "duration": 0,
    "start_time": "2023-12-25T18:54:03.686Z"
   },
   {
    "duration": 0,
    "start_time": "2023-12-25T18:54:03.687Z"
   },
   {
    "duration": 0,
    "start_time": "2023-12-25T18:54:03.688Z"
   },
   {
    "duration": 0,
    "start_time": "2023-12-25T18:54:03.689Z"
   },
   {
    "duration": 0,
    "start_time": "2023-12-25T18:54:03.690Z"
   },
   {
    "duration": 0,
    "start_time": "2023-12-25T18:54:03.691Z"
   },
   {
    "duration": 0,
    "start_time": "2023-12-25T18:54:03.692Z"
   },
   {
    "duration": 0,
    "start_time": "2023-12-25T18:54:03.694Z"
   },
   {
    "duration": 1,
    "start_time": "2023-12-25T18:54:03.694Z"
   },
   {
    "duration": 1,
    "start_time": "2023-12-25T18:54:03.695Z"
   },
   {
    "duration": 0,
    "start_time": "2023-12-25T18:54:03.697Z"
   },
   {
    "duration": 0,
    "start_time": "2023-12-25T18:54:03.698Z"
   },
   {
    "duration": 18,
    "start_time": "2023-12-25T18:54:21.577Z"
   },
   {
    "duration": 36,
    "start_time": "2023-12-25T18:56:19.418Z"
   },
   {
    "duration": 61,
    "start_time": "2023-12-25T18:59:18.952Z"
   },
   {
    "duration": 88,
    "start_time": "2023-12-25T19:02:33.711Z"
   },
   {
    "duration": 56,
    "start_time": "2023-12-25T19:04:01.254Z"
   },
   {
    "duration": 106,
    "start_time": "2023-12-25T19:12:11.001Z"
   },
   {
    "duration": 59,
    "start_time": "2023-12-25T19:12:47.086Z"
   },
   {
    "duration": 52,
    "start_time": "2023-12-25T19:14:22.057Z"
   },
   {
    "duration": 41,
    "start_time": "2023-12-25T19:16:51.134Z"
   },
   {
    "duration": 11,
    "start_time": "2023-12-25T19:23:12.672Z"
   },
   {
    "duration": 45,
    "start_time": "2023-12-25T19:25:32.186Z"
   },
   {
    "duration": 49,
    "start_time": "2023-12-26T09:11:38.821Z"
   },
   {
    "duration": 7,
    "start_time": "2023-12-26T09:13:15.068Z"
   },
   {
    "duration": 6,
    "start_time": "2023-12-26T09:13:46.774Z"
   },
   {
    "duration": 6,
    "start_time": "2023-12-26T09:14:01.997Z"
   },
   {
    "duration": 7,
    "start_time": "2023-12-26T09:15:08.752Z"
   },
   {
    "duration": 7,
    "start_time": "2023-12-26T09:18:34.527Z"
   },
   {
    "duration": 9,
    "start_time": "2023-12-26T09:18:51.149Z"
   },
   {
    "duration": 3,
    "start_time": "2023-12-26T09:18:52.214Z"
   },
   {
    "duration": 403,
    "start_time": "2023-12-26T09:21:04.470Z"
   },
   {
    "duration": 468,
    "start_time": "2023-12-26T09:21:04.876Z"
   },
   {
    "duration": 21,
    "start_time": "2023-12-26T09:21:05.346Z"
   },
   {
    "duration": 46,
    "start_time": "2023-12-26T09:21:05.369Z"
   },
   {
    "duration": 3,
    "start_time": "2023-12-26T09:21:05.431Z"
   },
   {
    "duration": 26,
    "start_time": "2023-12-26T09:21:05.436Z"
   },
   {
    "duration": 18,
    "start_time": "2023-12-26T09:21:05.465Z"
   },
   {
    "duration": 12,
    "start_time": "2023-12-26T09:21:05.485Z"
   },
   {
    "duration": 42,
    "start_time": "2023-12-26T09:21:05.499Z"
   },
   {
    "duration": 25,
    "start_time": "2023-12-26T09:21:05.544Z"
   },
   {
    "duration": 30,
    "start_time": "2023-12-26T09:21:05.571Z"
   },
   {
    "duration": 95,
    "start_time": "2023-12-26T09:21:05.603Z"
   },
   {
    "duration": 92,
    "start_time": "2023-12-26T09:21:05.700Z"
   },
   {
    "duration": 75,
    "start_time": "2023-12-26T09:21:05.795Z"
   },
   {
    "duration": 44,
    "start_time": "2023-12-26T09:21:05.872Z"
   },
   {
    "duration": 21,
    "start_time": "2023-12-26T09:21:05.919Z"
   },
   {
    "duration": 59,
    "start_time": "2023-12-26T09:21:05.942Z"
   },
   {
    "duration": 5,
    "start_time": "2023-12-26T09:21:06.003Z"
   },
   {
    "duration": 26,
    "start_time": "2023-12-26T09:21:06.010Z"
   },
   {
    "duration": 56,
    "start_time": "2023-12-26T09:21:06.038Z"
   },
   {
    "duration": 0,
    "start_time": "2023-12-26T09:21:06.096Z"
   },
   {
    "duration": 0,
    "start_time": "2023-12-26T09:21:06.098Z"
   },
   {
    "duration": 0,
    "start_time": "2023-12-26T09:21:06.098Z"
   },
   {
    "duration": 0,
    "start_time": "2023-12-26T09:21:06.100Z"
   },
   {
    "duration": 0,
    "start_time": "2023-12-26T09:21:06.102Z"
   },
   {
    "duration": 0,
    "start_time": "2023-12-26T09:21:06.103Z"
   },
   {
    "duration": 0,
    "start_time": "2023-12-26T09:21:06.105Z"
   },
   {
    "duration": 0,
    "start_time": "2023-12-26T09:21:06.106Z"
   },
   {
    "duration": 1,
    "start_time": "2023-12-26T09:21:06.107Z"
   },
   {
    "duration": 0,
    "start_time": "2023-12-26T09:21:06.109Z"
   },
   {
    "duration": 1,
    "start_time": "2023-12-26T09:21:06.110Z"
   },
   {
    "duration": 0,
    "start_time": "2023-12-26T09:21:06.112Z"
   },
   {
    "duration": 0,
    "start_time": "2023-12-26T09:21:06.114Z"
   },
   {
    "duration": 0,
    "start_time": "2023-12-26T09:21:06.116Z"
   },
   {
    "duration": 0,
    "start_time": "2023-12-26T09:21:06.117Z"
   },
   {
    "duration": 0,
    "start_time": "2023-12-26T09:21:06.118Z"
   },
   {
    "duration": 0,
    "start_time": "2023-12-26T09:21:06.120Z"
   },
   {
    "duration": 0,
    "start_time": "2023-12-26T09:21:06.121Z"
   },
   {
    "duration": 3,
    "start_time": "2023-12-26T09:21:14.784Z"
   },
   {
    "duration": 13,
    "start_time": "2023-12-26T09:25:14.072Z"
   },
   {
    "duration": 10,
    "start_time": "2023-12-26T09:25:42.153Z"
   },
   {
    "duration": 10,
    "start_time": "2023-12-26T09:25:45.031Z"
   },
   {
    "duration": 453,
    "start_time": "2023-12-26T09:25:51.088Z"
   },
   {
    "duration": 195,
    "start_time": "2023-12-26T09:25:51.544Z"
   },
   {
    "duration": 18,
    "start_time": "2023-12-26T09:25:51.741Z"
   },
   {
    "duration": 33,
    "start_time": "2023-12-26T09:25:51.761Z"
   },
   {
    "duration": 14,
    "start_time": "2023-12-26T09:25:51.796Z"
   },
   {
    "duration": 21,
    "start_time": "2023-12-26T09:25:51.812Z"
   },
   {
    "duration": 14,
    "start_time": "2023-12-26T09:25:51.835Z"
   },
   {
    "duration": 7,
    "start_time": "2023-12-26T09:25:51.850Z"
   },
   {
    "duration": 31,
    "start_time": "2023-12-26T09:25:51.858Z"
   },
   {
    "duration": 41,
    "start_time": "2023-12-26T09:25:51.892Z"
   },
   {
    "duration": 28,
    "start_time": "2023-12-26T09:25:51.934Z"
   },
   {
    "duration": 82,
    "start_time": "2023-12-26T09:25:51.963Z"
   },
   {
    "duration": 91,
    "start_time": "2023-12-26T09:25:52.047Z"
   },
   {
    "duration": 66,
    "start_time": "2023-12-26T09:25:52.140Z"
   },
   {
    "duration": 59,
    "start_time": "2023-12-26T09:25:52.208Z"
   },
   {
    "duration": 11,
    "start_time": "2023-12-26T09:25:52.269Z"
   },
   {
    "duration": 58,
    "start_time": "2023-12-26T09:25:52.282Z"
   },
   {
    "duration": 12,
    "start_time": "2023-12-26T09:25:52.341Z"
   },
   {
    "duration": 3,
    "start_time": "2023-12-26T09:25:52.354Z"
   },
   {
    "duration": 53,
    "start_time": "2023-12-26T09:25:52.360Z"
   },
   {
    "duration": 0,
    "start_time": "2023-12-26T09:25:52.415Z"
   },
   {
    "duration": 0,
    "start_time": "2023-12-26T09:25:52.417Z"
   },
   {
    "duration": 0,
    "start_time": "2023-12-26T09:25:52.418Z"
   },
   {
    "duration": 0,
    "start_time": "2023-12-26T09:25:52.419Z"
   },
   {
    "duration": 0,
    "start_time": "2023-12-26T09:25:52.421Z"
   },
   {
    "duration": 0,
    "start_time": "2023-12-26T09:25:52.423Z"
   },
   {
    "duration": 0,
    "start_time": "2023-12-26T09:25:52.425Z"
   },
   {
    "duration": 0,
    "start_time": "2023-12-26T09:25:52.426Z"
   },
   {
    "duration": 0,
    "start_time": "2023-12-26T09:25:52.431Z"
   },
   {
    "duration": 0,
    "start_time": "2023-12-26T09:25:52.433Z"
   },
   {
    "duration": 0,
    "start_time": "2023-12-26T09:25:52.434Z"
   },
   {
    "duration": 0,
    "start_time": "2023-12-26T09:25:52.436Z"
   },
   {
    "duration": 0,
    "start_time": "2023-12-26T09:25:52.437Z"
   },
   {
    "duration": 0,
    "start_time": "2023-12-26T09:25:52.439Z"
   },
   {
    "duration": 0,
    "start_time": "2023-12-26T09:25:52.441Z"
   },
   {
    "duration": 0,
    "start_time": "2023-12-26T09:25:52.442Z"
   },
   {
    "duration": 0,
    "start_time": "2023-12-26T09:25:52.443Z"
   },
   {
    "duration": 0,
    "start_time": "2023-12-26T09:25:52.445Z"
   },
   {
    "duration": 13,
    "start_time": "2023-12-26T09:26:02.960Z"
   },
   {
    "duration": 11,
    "start_time": "2023-12-26T09:38:11.283Z"
   },
   {
    "duration": 12,
    "start_time": "2023-12-26T09:39:32.316Z"
   },
   {
    "duration": 4,
    "start_time": "2023-12-26T10:19:35.121Z"
   },
   {
    "duration": 4,
    "start_time": "2023-12-26T10:19:39.936Z"
   },
   {
    "duration": 3,
    "start_time": "2023-12-26T10:22:45.156Z"
   },
   {
    "duration": 5,
    "start_time": "2023-12-26T10:35:17.688Z"
   },
   {
    "duration": 4,
    "start_time": "2023-12-26T10:36:21.040Z"
   },
   {
    "duration": 468,
    "start_time": "2023-12-26T10:39:07.992Z"
   },
   {
    "duration": 201,
    "start_time": "2023-12-26T10:39:08.462Z"
   },
   {
    "duration": 18,
    "start_time": "2023-12-26T10:39:08.665Z"
   },
   {
    "duration": 53,
    "start_time": "2023-12-26T10:39:08.685Z"
   },
   {
    "duration": 4,
    "start_time": "2023-12-26T10:39:08.740Z"
   },
   {
    "duration": 16,
    "start_time": "2023-12-26T10:39:08.746Z"
   },
   {
    "duration": 25,
    "start_time": "2023-12-26T10:39:08.764Z"
   },
   {
    "duration": 26,
    "start_time": "2023-12-26T10:39:08.790Z"
   },
   {
    "duration": 34,
    "start_time": "2023-12-26T10:39:08.818Z"
   },
   {
    "duration": 35,
    "start_time": "2023-12-26T10:39:08.855Z"
   },
   {
    "duration": 42,
    "start_time": "2023-12-26T10:39:08.892Z"
   },
   {
    "duration": 104,
    "start_time": "2023-12-26T10:39:08.935Z"
   },
   {
    "duration": 111,
    "start_time": "2023-12-26T10:39:09.041Z"
   },
   {
    "duration": 76,
    "start_time": "2023-12-26T10:39:09.155Z"
   },
   {
    "duration": 46,
    "start_time": "2023-12-26T10:39:09.233Z"
   },
   {
    "duration": 12,
    "start_time": "2023-12-26T10:39:09.281Z"
   },
   {
    "duration": 73,
    "start_time": "2023-12-26T10:39:09.295Z"
   },
   {
    "duration": 12,
    "start_time": "2023-12-26T10:39:09.370Z"
   },
   {
    "duration": 40,
    "start_time": "2023-12-26T10:39:09.384Z"
   },
   {
    "duration": 34,
    "start_time": "2023-12-26T10:39:09.425Z"
   },
   {
    "duration": 40,
    "start_time": "2023-12-26T10:39:09.461Z"
   },
   {
    "duration": 37,
    "start_time": "2023-12-26T10:39:09.503Z"
   },
   {
    "duration": 25,
    "start_time": "2023-12-26T10:39:09.542Z"
   },
   {
    "duration": 25,
    "start_time": "2023-12-26T10:39:09.569Z"
   },
   {
    "duration": 49,
    "start_time": "2023-12-26T10:39:09.595Z"
   },
   {
    "duration": 47,
    "start_time": "2023-12-26T10:39:09.645Z"
   },
   {
    "duration": 47,
    "start_time": "2023-12-26T10:39:09.694Z"
   },
   {
    "duration": 28,
    "start_time": "2023-12-26T10:39:09.744Z"
   },
   {
    "duration": 35,
    "start_time": "2023-12-26T10:39:09.773Z"
   },
   {
    "duration": 69,
    "start_time": "2023-12-26T10:39:09.810Z"
   },
   {
    "duration": 0,
    "start_time": "2023-12-26T10:39:09.881Z"
   },
   {
    "duration": 0,
    "start_time": "2023-12-26T10:39:09.882Z"
   },
   {
    "duration": 0,
    "start_time": "2023-12-26T10:39:09.883Z"
   },
   {
    "duration": 0,
    "start_time": "2023-12-26T10:39:09.884Z"
   },
   {
    "duration": 0,
    "start_time": "2023-12-26T10:39:09.886Z"
   },
   {
    "duration": 0,
    "start_time": "2023-12-26T10:39:09.887Z"
   },
   {
    "duration": 0,
    "start_time": "2023-12-26T10:39:09.888Z"
   },
   {
    "duration": 0,
    "start_time": "2023-12-26T10:39:09.889Z"
   },
   {
    "duration": 9,
    "start_time": "2023-12-26T10:55:50.036Z"
   },
   {
    "duration": 4,
    "start_time": "2023-12-26T12:12:01.050Z"
   },
   {
    "duration": 3,
    "start_time": "2023-12-26T12:12:05.223Z"
   },
   {
    "duration": 5,
    "start_time": "2023-12-26T12:12:20.237Z"
   },
   {
    "duration": 447,
    "start_time": "2023-12-26T12:12:36.413Z"
   },
   {
    "duration": 194,
    "start_time": "2023-12-26T12:12:36.862Z"
   },
   {
    "duration": 18,
    "start_time": "2023-12-26T12:12:37.058Z"
   },
   {
    "duration": 53,
    "start_time": "2023-12-26T12:12:37.078Z"
   },
   {
    "duration": 3,
    "start_time": "2023-12-26T12:12:37.133Z"
   },
   {
    "duration": 23,
    "start_time": "2023-12-26T12:12:37.137Z"
   },
   {
    "duration": 13,
    "start_time": "2023-12-26T12:12:37.162Z"
   },
   {
    "duration": 19,
    "start_time": "2023-12-26T12:12:37.177Z"
   },
   {
    "duration": 34,
    "start_time": "2023-12-26T12:12:37.198Z"
   },
   {
    "duration": 22,
    "start_time": "2023-12-26T12:12:37.234Z"
   },
   {
    "duration": 40,
    "start_time": "2023-12-26T12:12:37.258Z"
   },
   {
    "duration": 87,
    "start_time": "2023-12-26T12:12:37.300Z"
   },
   {
    "duration": 97,
    "start_time": "2023-12-26T12:12:37.389Z"
   },
   {
    "duration": 78,
    "start_time": "2023-12-26T12:12:37.490Z"
   },
   {
    "duration": 64,
    "start_time": "2023-12-26T12:12:37.570Z"
   },
   {
    "duration": 13,
    "start_time": "2023-12-26T12:12:37.636Z"
   },
   {
    "duration": 68,
    "start_time": "2023-12-26T12:12:37.651Z"
   },
   {
    "duration": 17,
    "start_time": "2023-12-26T12:12:37.722Z"
   },
   {
    "duration": 15,
    "start_time": "2023-12-26T12:12:37.741Z"
   },
   {
    "duration": 4,
    "start_time": "2023-12-26T12:12:37.758Z"
   },
   {
    "duration": 5,
    "start_time": "2023-12-26T12:12:37.764Z"
   },
   {
    "duration": 5,
    "start_time": "2023-12-26T12:12:37.771Z"
   },
   {
    "duration": 7,
    "start_time": "2023-12-26T12:12:37.778Z"
   },
   {
    "duration": 15,
    "start_time": "2023-12-26T12:12:37.787Z"
   },
   {
    "duration": 6,
    "start_time": "2023-12-26T12:12:37.804Z"
   },
   {
    "duration": 2,
    "start_time": "2023-12-26T12:12:37.832Z"
   },
   {
    "duration": 14,
    "start_time": "2023-12-26T12:12:37.836Z"
   },
   {
    "duration": 6,
    "start_time": "2023-12-26T12:12:37.852Z"
   },
   {
    "duration": 7,
    "start_time": "2023-12-26T12:12:37.860Z"
   },
   {
    "duration": 51,
    "start_time": "2023-12-26T12:12:37.869Z"
   },
   {
    "duration": 0,
    "start_time": "2023-12-26T12:12:37.921Z"
   },
   {
    "duration": 0,
    "start_time": "2023-12-26T12:12:37.923Z"
   },
   {
    "duration": 0,
    "start_time": "2023-12-26T12:12:37.924Z"
   },
   {
    "duration": 0,
    "start_time": "2023-12-26T12:12:37.925Z"
   },
   {
    "duration": 0,
    "start_time": "2023-12-26T12:12:37.926Z"
   },
   {
    "duration": 0,
    "start_time": "2023-12-26T12:12:37.928Z"
   },
   {
    "duration": 0,
    "start_time": "2023-12-26T12:12:37.929Z"
   },
   {
    "duration": 0,
    "start_time": "2023-12-26T12:12:37.930Z"
   },
   {
    "duration": 11,
    "start_time": "2023-12-26T12:43:17.963Z"
   },
   {
    "duration": 71,
    "start_time": "2023-12-26T12:46:56.234Z"
   },
   {
    "duration": 8,
    "start_time": "2023-12-26T12:47:16.072Z"
   },
   {
    "duration": 8,
    "start_time": "2023-12-26T12:47:19.544Z"
   },
   {
    "duration": 428,
    "start_time": "2023-12-26T12:47:27.617Z"
   },
   {
    "duration": 188,
    "start_time": "2023-12-26T12:47:28.047Z"
   },
   {
    "duration": 19,
    "start_time": "2023-12-26T12:47:28.236Z"
   },
   {
    "duration": 36,
    "start_time": "2023-12-26T12:47:28.257Z"
   },
   {
    "duration": 3,
    "start_time": "2023-12-26T12:47:28.296Z"
   },
   {
    "duration": 36,
    "start_time": "2023-12-26T12:47:28.301Z"
   },
   {
    "duration": 25,
    "start_time": "2023-12-26T12:47:28.339Z"
   },
   {
    "duration": 7,
    "start_time": "2023-12-26T12:47:28.366Z"
   },
   {
    "duration": 38,
    "start_time": "2023-12-26T12:47:28.375Z"
   },
   {
    "duration": 27,
    "start_time": "2023-12-26T12:47:28.415Z"
   },
   {
    "duration": 30,
    "start_time": "2023-12-26T12:47:28.444Z"
   },
   {
    "duration": 85,
    "start_time": "2023-12-26T12:47:28.475Z"
   },
   {
    "duration": 93,
    "start_time": "2023-12-26T12:47:28.561Z"
   },
   {
    "duration": 76,
    "start_time": "2023-12-26T12:47:28.658Z"
   },
   {
    "duration": 46,
    "start_time": "2023-12-26T12:47:28.735Z"
   },
   {
    "duration": 11,
    "start_time": "2023-12-26T12:47:28.783Z"
   },
   {
    "duration": 66,
    "start_time": "2023-12-26T12:47:28.796Z"
   },
   {
    "duration": 12,
    "start_time": "2023-12-26T12:47:28.864Z"
   },
   {
    "duration": 12,
    "start_time": "2023-12-26T12:47:28.878Z"
   },
   {
    "duration": 3,
    "start_time": "2023-12-26T12:47:28.892Z"
   },
   {
    "duration": 34,
    "start_time": "2023-12-26T12:47:28.897Z"
   },
   {
    "duration": 16,
    "start_time": "2023-12-26T12:47:28.933Z"
   },
   {
    "duration": 14,
    "start_time": "2023-12-26T12:47:28.950Z"
   },
   {
    "duration": 17,
    "start_time": "2023-12-26T12:47:28.966Z"
   },
   {
    "duration": 22,
    "start_time": "2023-12-26T12:47:28.985Z"
   },
   {
    "duration": 18,
    "start_time": "2023-12-26T12:47:29.009Z"
   },
   {
    "duration": 9,
    "start_time": "2023-12-26T12:47:29.029Z"
   },
   {
    "duration": 5,
    "start_time": "2023-12-26T12:47:29.040Z"
   },
   {
    "duration": 6,
    "start_time": "2023-12-26T12:47:29.047Z"
   },
   {
    "duration": 40,
    "start_time": "2023-12-26T12:47:29.055Z"
   },
   {
    "duration": 0,
    "start_time": "2023-12-26T12:47:29.098Z"
   },
   {
    "duration": 0,
    "start_time": "2023-12-26T12:47:29.100Z"
   },
   {
    "duration": 0,
    "start_time": "2023-12-26T12:47:29.101Z"
   },
   {
    "duration": 0,
    "start_time": "2023-12-26T12:47:29.103Z"
   },
   {
    "duration": 0,
    "start_time": "2023-12-26T12:47:29.105Z"
   },
   {
    "duration": 0,
    "start_time": "2023-12-26T12:47:29.106Z"
   },
   {
    "duration": 0,
    "start_time": "2023-12-26T12:47:29.107Z"
   },
   {
    "duration": 0,
    "start_time": "2023-12-26T12:47:29.109Z"
   },
   {
    "duration": 9,
    "start_time": "2023-12-26T12:48:09.250Z"
   },
   {
    "duration": 9,
    "start_time": "2023-12-26T12:48:47.466Z"
   },
   {
    "duration": 15,
    "start_time": "2023-12-26T12:52:48.434Z"
   },
   {
    "duration": 10,
    "start_time": "2023-12-26T12:52:55.576Z"
   },
   {
    "duration": 70,
    "start_time": "2023-12-26T12:56:07.773Z"
   },
   {
    "duration": 10,
    "start_time": "2023-12-26T12:56:39.119Z"
   },
   {
    "duration": 10,
    "start_time": "2023-12-26T12:56:47.007Z"
   },
   {
    "duration": 8,
    "start_time": "2023-12-26T12:56:48.031Z"
   },
   {
    "duration": 8,
    "start_time": "2023-12-26T12:56:48.661Z"
   },
   {
    "duration": 9,
    "start_time": "2023-12-26T12:56:48.886Z"
   },
   {
    "duration": 8,
    "start_time": "2023-12-26T12:56:49.070Z"
   },
   {
    "duration": 8,
    "start_time": "2023-12-26T12:56:49.504Z"
   },
   {
    "duration": 10,
    "start_time": "2023-12-26T12:58:39.434Z"
   },
   {
    "duration": 46,
    "start_time": "2023-12-26T13:02:48.913Z"
   },
   {
    "duration": 60,
    "start_time": "2023-12-26T13:03:00.119Z"
   },
   {
    "duration": 51,
    "start_time": "2023-12-26T13:03:15.983Z"
   },
   {
    "duration": 52,
    "start_time": "2023-12-26T13:03:25.440Z"
   },
   {
    "duration": 4,
    "start_time": "2023-12-26T13:03:45.768Z"
   },
   {
    "duration": 56,
    "start_time": "2023-12-26T13:05:00.730Z"
   },
   {
    "duration": 55,
    "start_time": "2023-12-26T13:05:07.012Z"
   },
   {
    "duration": 4,
    "start_time": "2023-12-26T13:05:36.060Z"
   },
   {
    "duration": 4,
    "start_time": "2023-12-26T13:05:37.077Z"
   },
   {
    "duration": 4,
    "start_time": "2023-12-26T13:05:37.317Z"
   },
   {
    "duration": 5,
    "start_time": "2023-12-26T13:05:37.508Z"
   },
   {
    "duration": 4,
    "start_time": "2023-12-26T13:05:37.675Z"
   },
   {
    "duration": 4,
    "start_time": "2023-12-26T13:05:37.851Z"
   },
   {
    "duration": 424,
    "start_time": "2023-12-26T13:06:20.637Z"
   },
   {
    "duration": 201,
    "start_time": "2023-12-26T13:06:21.064Z"
   },
   {
    "duration": 17,
    "start_time": "2023-12-26T13:06:21.267Z"
   },
   {
    "duration": 46,
    "start_time": "2023-12-26T13:06:21.286Z"
   },
   {
    "duration": 3,
    "start_time": "2023-12-26T13:06:21.333Z"
   },
   {
    "duration": 10,
    "start_time": "2023-12-26T13:06:21.337Z"
   },
   {
    "duration": 19,
    "start_time": "2023-12-26T13:06:21.348Z"
   },
   {
    "duration": 9,
    "start_time": "2023-12-26T13:06:21.369Z"
   },
   {
    "duration": 30,
    "start_time": "2023-12-26T13:06:21.380Z"
   },
   {
    "duration": 40,
    "start_time": "2023-12-26T13:06:21.413Z"
   },
   {
    "duration": 28,
    "start_time": "2023-12-26T13:06:21.455Z"
   },
   {
    "duration": 93,
    "start_time": "2023-12-26T13:06:21.485Z"
   },
   {
    "duration": 92,
    "start_time": "2023-12-26T13:06:21.580Z"
   },
   {
    "duration": 74,
    "start_time": "2023-12-26T13:06:21.674Z"
   },
   {
    "duration": 45,
    "start_time": "2023-12-26T13:06:21.750Z"
   },
   {
    "duration": 12,
    "start_time": "2023-12-26T13:06:21.797Z"
   },
   {
    "duration": 110,
    "start_time": "2023-12-26T13:06:21.811Z"
   },
   {
    "duration": 12,
    "start_time": "2023-12-26T13:06:21.923Z"
   },
   {
    "duration": 13,
    "start_time": "2023-12-26T13:06:21.936Z"
   },
   {
    "duration": 42,
    "start_time": "2023-12-26T13:06:21.950Z"
   },
   {
    "duration": 16,
    "start_time": "2023-12-26T13:06:21.993Z"
   },
   {
    "duration": 56,
    "start_time": "2023-12-26T13:06:22.011Z"
   },
   {
    "duration": 70,
    "start_time": "2023-12-26T13:06:22.069Z"
   },
   {
    "duration": 20,
    "start_time": "2023-12-26T13:06:22.141Z"
   },
   {
    "duration": 14,
    "start_time": "2023-12-26T13:06:22.163Z"
   },
   {
    "duration": 20,
    "start_time": "2023-12-26T13:06:22.179Z"
   },
   {
    "duration": 42,
    "start_time": "2023-12-26T13:06:22.201Z"
   },
   {
    "duration": 85,
    "start_time": "2023-12-26T13:06:22.246Z"
   },
   {
    "duration": 13,
    "start_time": "2023-12-26T13:06:22.332Z"
   },
   {
    "duration": 61,
    "start_time": "2023-12-26T13:06:22.347Z"
   },
   {
    "duration": 0,
    "start_time": "2023-12-26T13:06:22.409Z"
   },
   {
    "duration": 0,
    "start_time": "2023-12-26T13:06:22.410Z"
   },
   {
    "duration": 0,
    "start_time": "2023-12-26T13:06:22.412Z"
   },
   {
    "duration": 0,
    "start_time": "2023-12-26T13:06:22.412Z"
   },
   {
    "duration": 0,
    "start_time": "2023-12-26T13:06:22.413Z"
   },
   {
    "duration": 0,
    "start_time": "2023-12-26T13:06:22.414Z"
   },
   {
    "duration": 0,
    "start_time": "2023-12-26T13:06:22.415Z"
   },
   {
    "duration": 0,
    "start_time": "2023-12-26T13:06:22.416Z"
   },
   {
    "duration": 65,
    "start_time": "2023-12-26T13:07:21.725Z"
   },
   {
    "duration": 4,
    "start_time": "2023-12-26T13:07:37.751Z"
   },
   {
    "duration": 4,
    "start_time": "2023-12-26T13:08:24.823Z"
   },
   {
    "duration": 3,
    "start_time": "2023-12-26T13:09:44.966Z"
   },
   {
    "duration": 3,
    "start_time": "2023-12-26T13:13:27.616Z"
   },
   {
    "duration": 7,
    "start_time": "2023-12-26T13:13:55.986Z"
   },
   {
    "duration": 7,
    "start_time": "2023-12-26T13:16:03.014Z"
   },
   {
    "duration": 8,
    "start_time": "2023-12-26T13:19:33.938Z"
   },
   {
    "duration": 3,
    "start_time": "2023-12-26T13:20:55.157Z"
   },
   {
    "duration": 2,
    "start_time": "2023-12-26T13:21:11.403Z"
   },
   {
    "duration": 3,
    "start_time": "2023-12-26T13:21:36.413Z"
   },
   {
    "duration": 3,
    "start_time": "2023-12-26T13:22:39.358Z"
   },
   {
    "duration": 2,
    "start_time": "2023-12-26T13:22:40.077Z"
   },
   {
    "duration": 3,
    "start_time": "2023-12-26T13:22:40.901Z"
   },
   {
    "duration": 3,
    "start_time": "2023-12-26T13:22:41.671Z"
   },
   {
    "duration": 3,
    "start_time": "2023-12-26T13:22:42.360Z"
   },
   {
    "duration": 2,
    "start_time": "2023-12-26T13:22:42.885Z"
   },
   {
    "duration": 4,
    "start_time": "2023-12-26T13:31:54.251Z"
   },
   {
    "duration": 3,
    "start_time": "2023-12-26T13:32:14.637Z"
   },
   {
    "duration": 3,
    "start_time": "2023-12-26T13:32:48.764Z"
   },
   {
    "duration": 3,
    "start_time": "2023-12-26T13:34:28.000Z"
   },
   {
    "duration": 4,
    "start_time": "2023-12-26T13:36:14.337Z"
   },
   {
    "duration": 3,
    "start_time": "2023-12-26T13:37:14.676Z"
   },
   {
    "duration": 8,
    "start_time": "2023-12-26T13:42:35.332Z"
   },
   {
    "duration": 3,
    "start_time": "2023-12-26T13:55:10.967Z"
   },
   {
    "duration": 3,
    "start_time": "2023-12-26T13:55:56.943Z"
   },
   {
    "duration": 12,
    "start_time": "2023-12-26T14:04:30.021Z"
   },
   {
    "duration": 12,
    "start_time": "2023-12-26T14:04:33.333Z"
   },
   {
    "duration": 438,
    "start_time": "2023-12-26T14:05:39.615Z"
   },
   {
    "duration": 184,
    "start_time": "2023-12-26T14:05:40.055Z"
   },
   {
    "duration": 18,
    "start_time": "2023-12-26T14:05:40.240Z"
   },
   {
    "duration": 33,
    "start_time": "2023-12-26T14:05:40.260Z"
   },
   {
    "duration": 3,
    "start_time": "2023-12-26T14:05:40.295Z"
   },
   {
    "duration": 43,
    "start_time": "2023-12-26T14:05:40.299Z"
   },
   {
    "duration": 16,
    "start_time": "2023-12-26T14:05:40.344Z"
   },
   {
    "duration": 9,
    "start_time": "2023-12-26T14:05:40.361Z"
   },
   {
    "duration": 33,
    "start_time": "2023-12-26T14:05:40.372Z"
   },
   {
    "duration": 32,
    "start_time": "2023-12-26T14:05:40.408Z"
   },
   {
    "duration": 27,
    "start_time": "2023-12-26T14:05:40.442Z"
   },
   {
    "duration": 86,
    "start_time": "2023-12-26T14:05:40.471Z"
   },
   {
    "duration": 97,
    "start_time": "2023-12-26T14:05:40.559Z"
   },
   {
    "duration": 76,
    "start_time": "2023-12-26T14:05:40.658Z"
   },
   {
    "duration": 45,
    "start_time": "2023-12-26T14:05:40.736Z"
   },
   {
    "duration": 12,
    "start_time": "2023-12-26T14:05:40.783Z"
   },
   {
    "duration": 67,
    "start_time": "2023-12-26T14:05:40.797Z"
   },
   {
    "duration": 12,
    "start_time": "2023-12-26T14:05:40.866Z"
   },
   {
    "duration": 17,
    "start_time": "2023-12-26T14:05:40.879Z"
   },
   {
    "duration": 19,
    "start_time": "2023-12-26T14:05:40.898Z"
   },
   {
    "duration": 20,
    "start_time": "2023-12-26T14:05:40.920Z"
   },
   {
    "duration": 20,
    "start_time": "2023-12-26T14:05:40.942Z"
   },
   {
    "duration": 15,
    "start_time": "2023-12-26T14:05:40.963Z"
   },
   {
    "duration": 58,
    "start_time": "2023-12-26T14:05:40.980Z"
   },
   {
    "duration": 10,
    "start_time": "2023-12-26T14:05:41.040Z"
   },
   {
    "duration": 19,
    "start_time": "2023-12-26T14:05:41.052Z"
   },
   {
    "duration": 20,
    "start_time": "2023-12-26T14:05:41.072Z"
   },
   {
    "duration": 29,
    "start_time": "2023-12-26T14:05:41.095Z"
   },
   {
    "duration": 30,
    "start_time": "2023-12-26T14:05:41.126Z"
   },
   {
    "duration": 65,
    "start_time": "2023-12-26T14:05:41.158Z"
   },
   {
    "duration": 0,
    "start_time": "2023-12-26T14:05:41.225Z"
   },
   {
    "duration": 0,
    "start_time": "2023-12-26T14:05:41.226Z"
   },
   {
    "duration": 0,
    "start_time": "2023-12-26T14:05:41.228Z"
   },
   {
    "duration": 0,
    "start_time": "2023-12-26T14:05:41.229Z"
   },
   {
    "duration": 0,
    "start_time": "2023-12-26T14:05:41.230Z"
   },
   {
    "duration": 0,
    "start_time": "2023-12-26T14:05:41.231Z"
   },
   {
    "duration": 0,
    "start_time": "2023-12-26T14:05:41.232Z"
   },
   {
    "duration": 0,
    "start_time": "2023-12-26T14:05:41.233Z"
   },
   {
    "duration": 5,
    "start_time": "2023-12-26T14:06:14.255Z"
   },
   {
    "duration": 438,
    "start_time": "2023-12-26T14:27:50.936Z"
   },
   {
    "duration": 198,
    "start_time": "2023-12-26T14:27:51.376Z"
   },
   {
    "duration": 19,
    "start_time": "2023-12-26T14:27:51.576Z"
   },
   {
    "duration": 49,
    "start_time": "2023-12-26T14:27:51.597Z"
   },
   {
    "duration": 31,
    "start_time": "2023-12-26T14:27:51.648Z"
   },
   {
    "duration": 24,
    "start_time": "2023-12-26T14:27:51.681Z"
   },
   {
    "duration": 38,
    "start_time": "2023-12-26T14:27:51.707Z"
   },
   {
    "duration": 84,
    "start_time": "2023-12-26T14:27:51.747Z"
   },
   {
    "duration": 54,
    "start_time": "2023-12-26T14:27:51.834Z"
   },
   {
    "duration": 32,
    "start_time": "2023-12-26T14:27:51.892Z"
   },
   {
    "duration": 50,
    "start_time": "2023-12-26T14:27:51.926Z"
   },
   {
    "duration": 74,
    "start_time": "2023-12-26T14:27:51.978Z"
   },
   {
    "duration": 101,
    "start_time": "2023-12-26T14:27:52.054Z"
   },
   {
    "duration": 75,
    "start_time": "2023-12-26T14:27:52.157Z"
   },
   {
    "duration": 45,
    "start_time": "2023-12-26T14:27:52.233Z"
   },
   {
    "duration": 13,
    "start_time": "2023-12-26T14:27:52.280Z"
   },
   {
    "duration": 69,
    "start_time": "2023-12-26T14:27:52.295Z"
   },
   {
    "duration": 12,
    "start_time": "2023-12-26T14:27:52.366Z"
   },
   {
    "duration": 12,
    "start_time": "2023-12-26T14:27:52.380Z"
   },
   {
    "duration": 3,
    "start_time": "2023-12-26T14:27:52.394Z"
   },
   {
    "duration": 44,
    "start_time": "2023-12-26T14:27:52.398Z"
   },
   {
    "duration": 54,
    "start_time": "2023-12-26T14:27:52.444Z"
   },
   {
    "duration": 23,
    "start_time": "2023-12-26T14:27:52.500Z"
   },
   {
    "duration": 17,
    "start_time": "2023-12-26T14:27:52.524Z"
   },
   {
    "duration": 33,
    "start_time": "2023-12-26T14:27:52.543Z"
   },
   {
    "duration": 17,
    "start_time": "2023-12-26T14:27:52.578Z"
   },
   {
    "duration": 2,
    "start_time": "2023-12-26T14:27:52.597Z"
   },
   {
    "duration": 34,
    "start_time": "2023-12-26T14:27:52.603Z"
   },
   {
    "duration": 12,
    "start_time": "2023-12-26T14:27:52.639Z"
   },
   {
    "duration": 41,
    "start_time": "2023-12-26T14:27:52.653Z"
   },
   {
    "duration": 0,
    "start_time": "2023-12-26T14:27:52.695Z"
   },
   {
    "duration": 0,
    "start_time": "2023-12-26T14:27:52.697Z"
   },
   {
    "duration": 0,
    "start_time": "2023-12-26T14:27:52.698Z"
   },
   {
    "duration": 0,
    "start_time": "2023-12-26T14:27:52.699Z"
   },
   {
    "duration": 0,
    "start_time": "2023-12-26T14:27:52.700Z"
   },
   {
    "duration": 0,
    "start_time": "2023-12-26T14:27:52.701Z"
   },
   {
    "duration": 0,
    "start_time": "2023-12-26T14:27:52.702Z"
   },
   {
    "duration": 0,
    "start_time": "2023-12-26T14:27:52.703Z"
   },
   {
    "duration": 9,
    "start_time": "2023-12-26T14:52:00.024Z"
   },
   {
    "duration": 13,
    "start_time": "2023-12-26T15:02:04.959Z"
   },
   {
    "duration": 10,
    "start_time": "2023-12-26T15:02:05.982Z"
   },
   {
    "duration": 15,
    "start_time": "2023-12-27T07:42:29.638Z"
   },
   {
    "duration": 4,
    "start_time": "2023-12-27T08:09:10.412Z"
   },
   {
    "duration": 4,
    "start_time": "2023-12-27T08:12:16.032Z"
   },
   {
    "duration": 74,
    "start_time": "2023-12-27T08:15:07.088Z"
   },
   {
    "duration": 84,
    "start_time": "2023-12-27T08:15:17.002Z"
   },
   {
    "duration": 3,
    "start_time": "2023-12-27T08:15:54.850Z"
   },
   {
    "duration": 2,
    "start_time": "2023-12-27T08:15:55.060Z"
   },
   {
    "duration": 2,
    "start_time": "2023-12-27T08:15:55.257Z"
   },
   {
    "duration": 2,
    "start_time": "2023-12-27T08:15:55.466Z"
   },
   {
    "duration": 78,
    "start_time": "2023-12-27T08:16:54.679Z"
   },
   {
    "duration": 133,
    "start_time": "2023-12-27T08:18:02.039Z"
   },
   {
    "duration": 43,
    "start_time": "2023-12-27T08:20:17.472Z"
   },
   {
    "duration": 6,
    "start_time": "2023-12-27T08:20:17.772Z"
   },
   {
    "duration": 8,
    "start_time": "2023-12-27T08:20:18.269Z"
   },
   {
    "duration": 6,
    "start_time": "2023-12-27T08:20:18.588Z"
   },
   {
    "duration": 427,
    "start_time": "2023-12-27T08:20:23.977Z"
   },
   {
    "duration": 244,
    "start_time": "2023-12-27T08:20:24.406Z"
   },
   {
    "duration": 16,
    "start_time": "2023-12-27T08:20:24.652Z"
   },
   {
    "duration": 31,
    "start_time": "2023-12-27T08:20:24.670Z"
   },
   {
    "duration": 8,
    "start_time": "2023-12-27T08:20:24.703Z"
   },
   {
    "duration": 11,
    "start_time": "2023-12-27T08:20:24.713Z"
   },
   {
    "duration": 16,
    "start_time": "2023-12-27T08:20:24.725Z"
   },
   {
    "duration": 26,
    "start_time": "2023-12-27T08:20:24.743Z"
   },
   {
    "duration": 30,
    "start_time": "2023-12-27T08:20:24.771Z"
   },
   {
    "duration": 21,
    "start_time": "2023-12-27T08:20:24.803Z"
   },
   {
    "duration": 28,
    "start_time": "2023-12-27T08:20:24.826Z"
   },
   {
    "duration": 83,
    "start_time": "2023-12-27T08:20:24.856Z"
   },
   {
    "duration": 88,
    "start_time": "2023-12-27T08:20:24.940Z"
   },
   {
    "duration": 71,
    "start_time": "2023-12-27T08:20:25.029Z"
   },
   {
    "duration": 44,
    "start_time": "2023-12-27T08:20:25.101Z"
   },
   {
    "duration": 12,
    "start_time": "2023-12-27T08:20:25.147Z"
   },
   {
    "duration": 60,
    "start_time": "2023-12-27T08:20:25.160Z"
   },
   {
    "duration": 13,
    "start_time": "2023-12-27T08:20:25.222Z"
   },
   {
    "duration": 32,
    "start_time": "2023-12-27T08:20:25.236Z"
   },
   {
    "duration": 14,
    "start_time": "2023-12-27T08:20:25.270Z"
   },
   {
    "duration": 44,
    "start_time": "2023-12-27T08:20:25.285Z"
   },
   {
    "duration": 23,
    "start_time": "2023-12-27T08:20:25.330Z"
   },
   {
    "duration": 38,
    "start_time": "2023-12-27T08:20:25.355Z"
   },
   {
    "duration": 27,
    "start_time": "2023-12-27T08:20:25.394Z"
   },
   {
    "duration": 23,
    "start_time": "2023-12-27T08:20:25.423Z"
   },
   {
    "duration": 28,
    "start_time": "2023-12-27T08:20:25.447Z"
   },
   {
    "duration": 69,
    "start_time": "2023-12-27T08:20:25.477Z"
   },
   {
    "duration": 80,
    "start_time": "2023-12-27T08:20:25.549Z"
   },
   {
    "duration": 26,
    "start_time": "2023-12-27T08:20:25.630Z"
   },
   {
    "duration": 20,
    "start_time": "2023-12-27T08:20:25.658Z"
   },
   {
    "duration": 53,
    "start_time": "2023-12-27T08:20:25.679Z"
   },
   {
    "duration": 14,
    "start_time": "2023-12-27T08:20:25.733Z"
   },
   {
    "duration": 40,
    "start_time": "2023-12-27T08:20:25.748Z"
   },
   {
    "duration": 25,
    "start_time": "2023-12-27T08:20:25.789Z"
   },
   {
    "duration": 13,
    "start_time": "2023-12-27T08:20:25.815Z"
   },
   {
    "duration": 50,
    "start_time": "2023-12-27T08:20:25.830Z"
   },
   {
    "duration": 20,
    "start_time": "2023-12-27T08:20:25.881Z"
   },
   {
    "duration": 20,
    "start_time": "2023-12-27T08:20:25.903Z"
   },
   {
    "duration": 67,
    "start_time": "2023-12-27T08:50:12.924Z"
   },
   {
    "duration": 9,
    "start_time": "2023-12-27T08:51:31.799Z"
   },
   {
    "duration": 5,
    "start_time": "2023-12-27T08:54:07.640Z"
   },
   {
    "duration": 6,
    "start_time": "2023-12-27T08:59:28.328Z"
   },
   {
    "duration": 5,
    "start_time": "2023-12-27T09:02:30.955Z"
   }
  ],
  "celltoolbar": "Отсутствует",
  "colab": {
   "collapsed_sections": [
    "E0vqbgi9ay0H",
    "VUC88oWjTJw2"
   ],
   "provenance": []
  },
  "kernelspec": {
   "display_name": "Python 3 (ipykernel)",
   "language": "python",
   "name": "python3"
  },
  "language_info": {
   "codemirror_mode": {
    "name": "ipython",
    "version": 3
   },
   "file_extension": ".py",
   "mimetype": "text/x-python",
   "name": "python",
   "nbconvert_exporter": "python",
   "pygments_lexer": "ipython3",
   "version": "3.9.5"
  },
  "toc": {
   "base_numbering": 1,
   "nav_menu": {
    "height": "215px",
    "width": "403px"
   },
   "number_sections": true,
   "sideBar": true,
   "skip_h1_title": true,
   "title_cell": "Table of Contents",
   "title_sidebar": "Contents",
   "toc_cell": false,
   "toc_position": {
    "height": "calc(100% - 180px)",
    "left": "10px",
    "top": "150px",
    "width": "285.825px"
   },
   "toc_section_display": true,
   "toc_window_display": false
  }
 },
 "nbformat": 4,
 "nbformat_minor": 1
}
