{
 "cells": [
  {
   "cell_type": "markdown",
   "id": "386f2ae7",
   "metadata": {
    "deletable": false,
    "editable": false,
    "id": "386f2ae7"
   },
   "source": [
    "# Исследование надежности заемщиков\n"
   ]
  },
  {
   "cell_type": "markdown",
   "id": "ffe86f65",
   "metadata": {
    "deletable": false,
    "editable": false,
    "id": "ffe86f65"
   },
   "source": [
    "Во второй части проекта вы выполните шаги 3 и 4. Их вручную проверит ревьюер.\n",
    "Чтобы вам не пришлось писать код заново для шагов 1 и 2, мы добавили авторские решения в ячейки с кодом. \n",
    "\n"
   ]
  },
  {
   "cell_type": "markdown",
   "id": "26613308",
   "metadata": {
    "deletable": false,
    "editable": false,
    "id": "26613308"
   },
   "source": [
    "## Откройте таблицу и изучите общую информацию о данных"
   ]
  },
  {
   "cell_type": "markdown",
   "id": "3c9f838e",
   "metadata": {
    "deletable": false,
    "editable": false,
    "id": "3c9f838e"
   },
   "source": [
    "**Задание 1. Импортируйте библиотеку pandas. Считайте данные из csv-файла в датафрейм и сохраните в переменную `data`. Путь к файлу:**\n",
    "\n",
    "`/datasets/data.csv`"
   ]
  },
  {
   "cell_type": "code",
   "execution_count": 1,
   "id": "77a68a90",
   "metadata": {
    "deletable": false,
    "id": "77a68a90"
   },
   "outputs": [],
   "source": [
    "import pandas as pd\n",
    "\n",
    "try:\n",
    "    data = pd.read_csv('/datasets/data.csv')\n",
    "except:\n",
    "    data = pd.read_csv('https://code.s3.yandex.net/datasets/data.csv')"
   ]
  },
  {
   "cell_type": "markdown",
   "id": "45365635",
   "metadata": {
    "deletable": false,
    "editable": false,
    "id": "45365635"
   },
   "source": [
    "**Задание 2. Выведите первые 20 строчек датафрейма `data` на экран.**"
   ]
  },
  {
   "cell_type": "code",
   "execution_count": 2,
   "id": "b0451a9a",
   "metadata": {
    "deletable": false,
    "id": "b0451a9a",
    "outputId": "1a8f3ef2-d323-4ec2-ddf7-89670b5944c4"
   },
   "outputs": [
    {
     "data": {
      "text/html": [
       "<div>\n",
       "<style scoped>\n",
       "    .dataframe tbody tr th:only-of-type {\n",
       "        vertical-align: middle;\n",
       "    }\n",
       "\n",
       "    .dataframe tbody tr th {\n",
       "        vertical-align: top;\n",
       "    }\n",
       "\n",
       "    .dataframe thead th {\n",
       "        text-align: right;\n",
       "    }\n",
       "</style>\n",
       "<table border=\"1\" class=\"dataframe\">\n",
       "  <thead>\n",
       "    <tr style=\"text-align: right;\">\n",
       "      <th></th>\n",
       "      <th>children</th>\n",
       "      <th>days_employed</th>\n",
       "      <th>dob_years</th>\n",
       "      <th>education</th>\n",
       "      <th>education_id</th>\n",
       "      <th>family_status</th>\n",
       "      <th>family_status_id</th>\n",
       "      <th>gender</th>\n",
       "      <th>income_type</th>\n",
       "      <th>debt</th>\n",
       "      <th>total_income</th>\n",
       "      <th>purpose</th>\n",
       "    </tr>\n",
       "  </thead>\n",
       "  <tbody>\n",
       "    <tr>\n",
       "      <th>0</th>\n",
       "      <td>1</td>\n",
       "      <td>-8437.673028</td>\n",
       "      <td>42</td>\n",
       "      <td>высшее</td>\n",
       "      <td>0</td>\n",
       "      <td>женат / замужем</td>\n",
       "      <td>0</td>\n",
       "      <td>F</td>\n",
       "      <td>сотрудник</td>\n",
       "      <td>0</td>\n",
       "      <td>253875.639453</td>\n",
       "      <td>покупка жилья</td>\n",
       "    </tr>\n",
       "    <tr>\n",
       "      <th>1</th>\n",
       "      <td>1</td>\n",
       "      <td>-4024.803754</td>\n",
       "      <td>36</td>\n",
       "      <td>среднее</td>\n",
       "      <td>1</td>\n",
       "      <td>женат / замужем</td>\n",
       "      <td>0</td>\n",
       "      <td>F</td>\n",
       "      <td>сотрудник</td>\n",
       "      <td>0</td>\n",
       "      <td>112080.014102</td>\n",
       "      <td>приобретение автомобиля</td>\n",
       "    </tr>\n",
       "    <tr>\n",
       "      <th>2</th>\n",
       "      <td>0</td>\n",
       "      <td>-5623.422610</td>\n",
       "      <td>33</td>\n",
       "      <td>Среднее</td>\n",
       "      <td>1</td>\n",
       "      <td>женат / замужем</td>\n",
       "      <td>0</td>\n",
       "      <td>M</td>\n",
       "      <td>сотрудник</td>\n",
       "      <td>0</td>\n",
       "      <td>145885.952297</td>\n",
       "      <td>покупка жилья</td>\n",
       "    </tr>\n",
       "    <tr>\n",
       "      <th>3</th>\n",
       "      <td>3</td>\n",
       "      <td>-4124.747207</td>\n",
       "      <td>32</td>\n",
       "      <td>среднее</td>\n",
       "      <td>1</td>\n",
       "      <td>женат / замужем</td>\n",
       "      <td>0</td>\n",
       "      <td>M</td>\n",
       "      <td>сотрудник</td>\n",
       "      <td>0</td>\n",
       "      <td>267628.550329</td>\n",
       "      <td>дополнительное образование</td>\n",
       "    </tr>\n",
       "    <tr>\n",
       "      <th>4</th>\n",
       "      <td>0</td>\n",
       "      <td>340266.072047</td>\n",
       "      <td>53</td>\n",
       "      <td>среднее</td>\n",
       "      <td>1</td>\n",
       "      <td>гражданский брак</td>\n",
       "      <td>1</td>\n",
       "      <td>F</td>\n",
       "      <td>пенсионер</td>\n",
       "      <td>0</td>\n",
       "      <td>158616.077870</td>\n",
       "      <td>сыграть свадьбу</td>\n",
       "    </tr>\n",
       "    <tr>\n",
       "      <th>5</th>\n",
       "      <td>0</td>\n",
       "      <td>-926.185831</td>\n",
       "      <td>27</td>\n",
       "      <td>высшее</td>\n",
       "      <td>0</td>\n",
       "      <td>гражданский брак</td>\n",
       "      <td>1</td>\n",
       "      <td>M</td>\n",
       "      <td>компаньон</td>\n",
       "      <td>0</td>\n",
       "      <td>255763.565419</td>\n",
       "      <td>покупка жилья</td>\n",
       "    </tr>\n",
       "    <tr>\n",
       "      <th>6</th>\n",
       "      <td>0</td>\n",
       "      <td>-2879.202052</td>\n",
       "      <td>43</td>\n",
       "      <td>высшее</td>\n",
       "      <td>0</td>\n",
       "      <td>женат / замужем</td>\n",
       "      <td>0</td>\n",
       "      <td>F</td>\n",
       "      <td>компаньон</td>\n",
       "      <td>0</td>\n",
       "      <td>240525.971920</td>\n",
       "      <td>операции с жильем</td>\n",
       "    </tr>\n",
       "    <tr>\n",
       "      <th>7</th>\n",
       "      <td>0</td>\n",
       "      <td>-152.779569</td>\n",
       "      <td>50</td>\n",
       "      <td>СРЕДНЕЕ</td>\n",
       "      <td>1</td>\n",
       "      <td>женат / замужем</td>\n",
       "      <td>0</td>\n",
       "      <td>M</td>\n",
       "      <td>сотрудник</td>\n",
       "      <td>0</td>\n",
       "      <td>135823.934197</td>\n",
       "      <td>образование</td>\n",
       "    </tr>\n",
       "    <tr>\n",
       "      <th>8</th>\n",
       "      <td>2</td>\n",
       "      <td>-6929.865299</td>\n",
       "      <td>35</td>\n",
       "      <td>ВЫСШЕЕ</td>\n",
       "      <td>0</td>\n",
       "      <td>гражданский брак</td>\n",
       "      <td>1</td>\n",
       "      <td>F</td>\n",
       "      <td>сотрудник</td>\n",
       "      <td>0</td>\n",
       "      <td>95856.832424</td>\n",
       "      <td>на проведение свадьбы</td>\n",
       "    </tr>\n",
       "    <tr>\n",
       "      <th>9</th>\n",
       "      <td>0</td>\n",
       "      <td>-2188.756445</td>\n",
       "      <td>41</td>\n",
       "      <td>среднее</td>\n",
       "      <td>1</td>\n",
       "      <td>женат / замужем</td>\n",
       "      <td>0</td>\n",
       "      <td>M</td>\n",
       "      <td>сотрудник</td>\n",
       "      <td>0</td>\n",
       "      <td>144425.938277</td>\n",
       "      <td>покупка жилья для семьи</td>\n",
       "    </tr>\n",
       "    <tr>\n",
       "      <th>10</th>\n",
       "      <td>2</td>\n",
       "      <td>-4171.483647</td>\n",
       "      <td>36</td>\n",
       "      <td>высшее</td>\n",
       "      <td>0</td>\n",
       "      <td>женат / замужем</td>\n",
       "      <td>0</td>\n",
       "      <td>M</td>\n",
       "      <td>компаньон</td>\n",
       "      <td>0</td>\n",
       "      <td>113943.491460</td>\n",
       "      <td>покупка недвижимости</td>\n",
       "    </tr>\n",
       "    <tr>\n",
       "      <th>11</th>\n",
       "      <td>0</td>\n",
       "      <td>-792.701887</td>\n",
       "      <td>40</td>\n",
       "      <td>среднее</td>\n",
       "      <td>1</td>\n",
       "      <td>женат / замужем</td>\n",
       "      <td>0</td>\n",
       "      <td>F</td>\n",
       "      <td>сотрудник</td>\n",
       "      <td>0</td>\n",
       "      <td>77069.234271</td>\n",
       "      <td>покупка коммерческой недвижимости</td>\n",
       "    </tr>\n",
       "    <tr>\n",
       "      <th>12</th>\n",
       "      <td>0</td>\n",
       "      <td>NaN</td>\n",
       "      <td>65</td>\n",
       "      <td>среднее</td>\n",
       "      <td>1</td>\n",
       "      <td>гражданский брак</td>\n",
       "      <td>1</td>\n",
       "      <td>M</td>\n",
       "      <td>пенсионер</td>\n",
       "      <td>0</td>\n",
       "      <td>NaN</td>\n",
       "      <td>сыграть свадьбу</td>\n",
       "    </tr>\n",
       "    <tr>\n",
       "      <th>13</th>\n",
       "      <td>0</td>\n",
       "      <td>-1846.641941</td>\n",
       "      <td>54</td>\n",
       "      <td>неоконченное высшее</td>\n",
       "      <td>2</td>\n",
       "      <td>женат / замужем</td>\n",
       "      <td>0</td>\n",
       "      <td>F</td>\n",
       "      <td>сотрудник</td>\n",
       "      <td>0</td>\n",
       "      <td>130458.228857</td>\n",
       "      <td>приобретение автомобиля</td>\n",
       "    </tr>\n",
       "    <tr>\n",
       "      <th>14</th>\n",
       "      <td>0</td>\n",
       "      <td>-1844.956182</td>\n",
       "      <td>56</td>\n",
       "      <td>высшее</td>\n",
       "      <td>0</td>\n",
       "      <td>гражданский брак</td>\n",
       "      <td>1</td>\n",
       "      <td>F</td>\n",
       "      <td>компаньон</td>\n",
       "      <td>1</td>\n",
       "      <td>165127.911772</td>\n",
       "      <td>покупка жилой недвижимости</td>\n",
       "    </tr>\n",
       "    <tr>\n",
       "      <th>15</th>\n",
       "      <td>1</td>\n",
       "      <td>-972.364419</td>\n",
       "      <td>26</td>\n",
       "      <td>среднее</td>\n",
       "      <td>1</td>\n",
       "      <td>женат / замужем</td>\n",
       "      <td>0</td>\n",
       "      <td>F</td>\n",
       "      <td>сотрудник</td>\n",
       "      <td>0</td>\n",
       "      <td>116820.904450</td>\n",
       "      <td>строительство собственной недвижимости</td>\n",
       "    </tr>\n",
       "    <tr>\n",
       "      <th>16</th>\n",
       "      <td>0</td>\n",
       "      <td>-1719.934226</td>\n",
       "      <td>35</td>\n",
       "      <td>среднее</td>\n",
       "      <td>1</td>\n",
       "      <td>женат / замужем</td>\n",
       "      <td>0</td>\n",
       "      <td>F</td>\n",
       "      <td>сотрудник</td>\n",
       "      <td>0</td>\n",
       "      <td>289202.704229</td>\n",
       "      <td>недвижимость</td>\n",
       "    </tr>\n",
       "    <tr>\n",
       "      <th>17</th>\n",
       "      <td>0</td>\n",
       "      <td>-2369.999720</td>\n",
       "      <td>33</td>\n",
       "      <td>высшее</td>\n",
       "      <td>0</td>\n",
       "      <td>гражданский брак</td>\n",
       "      <td>1</td>\n",
       "      <td>M</td>\n",
       "      <td>сотрудник</td>\n",
       "      <td>0</td>\n",
       "      <td>90410.586745</td>\n",
       "      <td>строительство недвижимости</td>\n",
       "    </tr>\n",
       "    <tr>\n",
       "      <th>18</th>\n",
       "      <td>0</td>\n",
       "      <td>400281.136913</td>\n",
       "      <td>53</td>\n",
       "      <td>среднее</td>\n",
       "      <td>1</td>\n",
       "      <td>вдовец / вдова</td>\n",
       "      <td>2</td>\n",
       "      <td>F</td>\n",
       "      <td>пенсионер</td>\n",
       "      <td>0</td>\n",
       "      <td>56823.777243</td>\n",
       "      <td>на покупку подержанного автомобиля</td>\n",
       "    </tr>\n",
       "    <tr>\n",
       "      <th>19</th>\n",
       "      <td>0</td>\n",
       "      <td>-10038.818549</td>\n",
       "      <td>48</td>\n",
       "      <td>СРЕДНЕЕ</td>\n",
       "      <td>1</td>\n",
       "      <td>в разводе</td>\n",
       "      <td>3</td>\n",
       "      <td>F</td>\n",
       "      <td>сотрудник</td>\n",
       "      <td>0</td>\n",
       "      <td>242831.107982</td>\n",
       "      <td>на покупку своего автомобиля</td>\n",
       "    </tr>\n",
       "  </tbody>\n",
       "</table>\n",
       "</div>"
      ],
      "text/plain": [
       "    children  days_employed  dob_years            education  education_id  \\\n",
       "0          1   -8437.673028         42               высшее             0   \n",
       "1          1   -4024.803754         36              среднее             1   \n",
       "2          0   -5623.422610         33              Среднее             1   \n",
       "3          3   -4124.747207         32              среднее             1   \n",
       "4          0  340266.072047         53              среднее             1   \n",
       "5          0    -926.185831         27               высшее             0   \n",
       "6          0   -2879.202052         43               высшее             0   \n",
       "7          0    -152.779569         50              СРЕДНЕЕ             1   \n",
       "8          2   -6929.865299         35               ВЫСШЕЕ             0   \n",
       "9          0   -2188.756445         41              среднее             1   \n",
       "10         2   -4171.483647         36               высшее             0   \n",
       "11         0    -792.701887         40              среднее             1   \n",
       "12         0            NaN         65              среднее             1   \n",
       "13         0   -1846.641941         54  неоконченное высшее             2   \n",
       "14         0   -1844.956182         56               высшее             0   \n",
       "15         1    -972.364419         26              среднее             1   \n",
       "16         0   -1719.934226         35              среднее             1   \n",
       "17         0   -2369.999720         33               высшее             0   \n",
       "18         0  400281.136913         53              среднее             1   \n",
       "19         0  -10038.818549         48              СРЕДНЕЕ             1   \n",
       "\n",
       "       family_status  family_status_id gender income_type  debt  \\\n",
       "0    женат / замужем                 0      F   сотрудник     0   \n",
       "1    женат / замужем                 0      F   сотрудник     0   \n",
       "2    женат / замужем                 0      M   сотрудник     0   \n",
       "3    женат / замужем                 0      M   сотрудник     0   \n",
       "4   гражданский брак                 1      F   пенсионер     0   \n",
       "5   гражданский брак                 1      M   компаньон     0   \n",
       "6    женат / замужем                 0      F   компаньон     0   \n",
       "7    женат / замужем                 0      M   сотрудник     0   \n",
       "8   гражданский брак                 1      F   сотрудник     0   \n",
       "9    женат / замужем                 0      M   сотрудник     0   \n",
       "10   женат / замужем                 0      M   компаньон     0   \n",
       "11   женат / замужем                 0      F   сотрудник     0   \n",
       "12  гражданский брак                 1      M   пенсионер     0   \n",
       "13   женат / замужем                 0      F   сотрудник     0   \n",
       "14  гражданский брак                 1      F   компаньон     1   \n",
       "15   женат / замужем                 0      F   сотрудник     0   \n",
       "16   женат / замужем                 0      F   сотрудник     0   \n",
       "17  гражданский брак                 1      M   сотрудник     0   \n",
       "18    вдовец / вдова                 2      F   пенсионер     0   \n",
       "19         в разводе                 3      F   сотрудник     0   \n",
       "\n",
       "     total_income                                 purpose  \n",
       "0   253875.639453                           покупка жилья  \n",
       "1   112080.014102                 приобретение автомобиля  \n",
       "2   145885.952297                           покупка жилья  \n",
       "3   267628.550329              дополнительное образование  \n",
       "4   158616.077870                         сыграть свадьбу  \n",
       "5   255763.565419                           покупка жилья  \n",
       "6   240525.971920                       операции с жильем  \n",
       "7   135823.934197                             образование  \n",
       "8    95856.832424                   на проведение свадьбы  \n",
       "9   144425.938277                 покупка жилья для семьи  \n",
       "10  113943.491460                    покупка недвижимости  \n",
       "11   77069.234271       покупка коммерческой недвижимости  \n",
       "12            NaN                         сыграть свадьбу  \n",
       "13  130458.228857                 приобретение автомобиля  \n",
       "14  165127.911772              покупка жилой недвижимости  \n",
       "15  116820.904450  строительство собственной недвижимости  \n",
       "16  289202.704229                            недвижимость  \n",
       "17   90410.586745              строительство недвижимости  \n",
       "18   56823.777243      на покупку подержанного автомобиля  \n",
       "19  242831.107982            на покупку своего автомобиля  "
      ]
     },
     "execution_count": 2,
     "metadata": {},
     "output_type": "execute_result"
    }
   ],
   "source": [
    "data.head(20)"
   ]
  },
  {
   "cell_type": "markdown",
   "id": "0ed8f27f",
   "metadata": {
    "deletable": false,
    "editable": false,
    "id": "0ed8f27f"
   },
   "source": [
    "**Задание 3. Выведите основную информацию о датафрейме с помощью метода `info()`.**"
   ]
  },
  {
   "cell_type": "code",
   "execution_count": 3,
   "id": "ab3f863b",
   "metadata": {
    "deletable": false,
    "id": "ab3f863b",
    "outputId": "15376089-8dad-46c9-b520-c05248d43158"
   },
   "outputs": [
    {
     "name": "stdout",
     "output_type": "stream",
     "text": [
      "<class 'pandas.core.frame.DataFrame'>\n",
      "RangeIndex: 21525 entries, 0 to 21524\n",
      "Data columns (total 12 columns):\n",
      " #   Column            Non-Null Count  Dtype  \n",
      "---  ------            --------------  -----  \n",
      " 0   children          21525 non-null  int64  \n",
      " 1   days_employed     19351 non-null  float64\n",
      " 2   dob_years         21525 non-null  int64  \n",
      " 3   education         21525 non-null  object \n",
      " 4   education_id      21525 non-null  int64  \n",
      " 5   family_status     21525 non-null  object \n",
      " 6   family_status_id  21525 non-null  int64  \n",
      " 7   gender            21525 non-null  object \n",
      " 8   income_type       21525 non-null  object \n",
      " 9   debt              21525 non-null  int64  \n",
      " 10  total_income      19351 non-null  float64\n",
      " 11  purpose           21525 non-null  object \n",
      "dtypes: float64(2), int64(5), object(5)\n",
      "memory usage: 2.0+ MB\n"
     ]
    }
   ],
   "source": [
    "data.info()"
   ]
  },
  {
   "cell_type": "markdown",
   "id": "60e3e22d",
   "metadata": {
    "deletable": false,
    "editable": false,
    "id": "60e3e22d"
   },
   "source": [
    "## Предобработка данных"
   ]
  },
  {
   "cell_type": "markdown",
   "id": "03dc170c",
   "metadata": {
    "deletable": false,
    "editable": false,
    "id": "03dc170c"
   },
   "source": [
    "### Удаление пропусков"
   ]
  },
  {
   "cell_type": "markdown",
   "id": "a4f54eef",
   "metadata": {
    "deletable": false,
    "editable": false,
    "id": "a4f54eef"
   },
   "source": [
    "**Задание 4. Выведите количество пропущенных значений для каждого столбца. Используйте комбинацию двух методов.**"
   ]
  },
  {
   "cell_type": "code",
   "execution_count": 4,
   "id": "2dc372b2",
   "metadata": {
    "deletable": false,
    "id": "2dc372b2",
    "outputId": "81f4d817-781c-465c-ed15-91ce4446810d"
   },
   "outputs": [
    {
     "data": {
      "text/plain": [
       "children               0\n",
       "days_employed       2174\n",
       "dob_years              0\n",
       "education              0\n",
       "education_id           0\n",
       "family_status          0\n",
       "family_status_id       0\n",
       "gender                 0\n",
       "income_type            0\n",
       "debt                   0\n",
       "total_income        2174\n",
       "purpose                0\n",
       "dtype: int64"
      ]
     },
     "execution_count": 4,
     "metadata": {},
     "output_type": "execute_result"
    }
   ],
   "source": [
    "data.isna().sum()"
   ]
  },
  {
   "cell_type": "markdown",
   "id": "14f011b1",
   "metadata": {
    "deletable": false,
    "editable": false,
    "id": "14f011b1"
   },
   "source": [
    "**Задание 5. В двух столбцах есть пропущенные значения. Один из них — `days_employed`. Пропуски в этом столбце вы обработаете на следующем этапе. Другой столбец с пропущенными значениями — `total_income` — хранит данные о доходах. На сумму дохода сильнее всего влияет тип занятости, поэтому заполнить пропуски в этом столбце нужно медианным значением по каждому типу из столбца `income_type`. Например, у человека с типом занятости `сотрудник` пропуск в столбце `total_income` должен быть заполнен медианным доходом среди всех записей с тем же типом.**"
   ]
  },
  {
   "cell_type": "code",
   "execution_count": 5,
   "id": "bdabfb6e",
   "metadata": {
    "deletable": false,
    "id": "bdabfb6e"
   },
   "outputs": [],
   "source": [
    "for t in data['income_type'].unique():\n",
    "    data.loc[(data['income_type'] == t) & (data['total_income'].isna()), 'total_income'] = \\\n",
    "    data.loc[(data['income_type'] == t), 'total_income'].median()"
   ]
  },
  {
   "cell_type": "markdown",
   "id": "5be34059",
   "metadata": {
    "deletable": false,
    "editable": false,
    "id": "5be34059"
   },
   "source": [
    "### Обработка аномальных значений"
   ]
  },
  {
   "cell_type": "markdown",
   "id": "a87606cb",
   "metadata": {
    "deletable": false,
    "editable": false,
    "id": "a87606cb"
   },
   "source": [
    "**Задание 6. В данных могут встречаться артефакты (аномалии) — значения, которые не отражают действительность и появились по какой-то ошибке. таким артефактом будет отрицательное количество дней трудового стажа в столбце `days_employed`. Для реальных данных это нормально. Обработайте значения в этом столбце: замените все отрицательные значения положительными с помощью метода `abs()`.**"
   ]
  },
  {
   "cell_type": "code",
   "execution_count": 6,
   "id": "020c46cc",
   "metadata": {
    "deletable": false,
    "id": "020c46cc"
   },
   "outputs": [],
   "source": [
    "data['days_employed'] = data['days_employed'].abs()"
   ]
  },
  {
   "cell_type": "markdown",
   "id": "45538a3a",
   "metadata": {
    "deletable": false,
    "editable": false,
    "id": "45538a3a"
   },
   "source": [
    "**Задание 7. Для каждого типа занятости выведите медианное значение трудового стажа `days_employed` в днях.**"
   ]
  },
  {
   "cell_type": "code",
   "execution_count": 7,
   "id": "cd3e6328",
   "metadata": {
    "deletable": false,
    "id": "cd3e6328",
    "outputId": "801ef80e-522b-4668-f34e-565af7432bcf"
   },
   "outputs": [
    {
     "data": {
      "text/plain": [
       "income_type\n",
       "безработный        366413.652744\n",
       "в декрете            3296.759962\n",
       "госслужащий          2689.368353\n",
       "компаньон            1547.382223\n",
       "пенсионер          365213.306266\n",
       "предприниматель       520.848083\n",
       "сотрудник            1574.202821\n",
       "студент               578.751554\n",
       "Name: days_employed, dtype: float64"
      ]
     },
     "execution_count": 7,
     "metadata": {},
     "output_type": "execute_result"
    }
   ],
   "source": [
    "data.groupby('income_type')['days_employed'].agg('median')"
   ]
  },
  {
   "cell_type": "markdown",
   "id": "90c5f058",
   "metadata": {
    "deletable": false,
    "editable": false,
    "id": "90c5f058"
   },
   "source": [
    "У двух типов (безработные и пенсионеры) получатся аномально большие значения. Исправить такие значения сложно, поэтому оставьте их как есть."
   ]
  },
  {
   "cell_type": "markdown",
   "id": "9652e50d",
   "metadata": {
    "deletable": false,
    "editable": false,
    "id": "9652e50d"
   },
   "source": [
    "**Задание 8. Выведите перечень уникальных значений столбца `children`.**"
   ]
  },
  {
   "cell_type": "code",
   "execution_count": 8,
   "id": "dbb37b8e",
   "metadata": {
    "deletable": false,
    "id": "dbb37b8e",
    "outputId": "6975b15c-7f95-4697-d16d-a0c79b657b03"
   },
   "outputs": [
    {
     "data": {
      "text/plain": [
       "array([ 1,  0,  3,  2, -1,  4, 20,  5])"
      ]
     },
     "execution_count": 8,
     "metadata": {},
     "output_type": "execute_result"
    }
   ],
   "source": [
    "data['children'].unique()"
   ]
  },
  {
   "cell_type": "markdown",
   "id": "2b8b0715",
   "metadata": {
    "deletable": false,
    "editable": false,
    "id": "2b8b0715"
   },
   "source": [
    "**Задание 9. В столбце `children` есть два аномальных значения. Удалите строки, в которых встречаются такие аномальные значения из датафрейма `data`.**"
   ]
  },
  {
   "cell_type": "code",
   "execution_count": 9,
   "id": "20009df8",
   "metadata": {
    "deletable": false,
    "id": "20009df8"
   },
   "outputs": [],
   "source": [
    "data = data[(data['children'] != -1) & (data['children'] != 20)]"
   ]
  },
  {
   "cell_type": "markdown",
   "id": "8c6ac9f1",
   "metadata": {
    "deletable": false,
    "editable": false,
    "id": "8c6ac9f1"
   },
   "source": [
    "**Задание 10. Ещё раз выведите перечень уникальных значений столбца `children`, чтобы убедиться, что артефакты удалены.**"
   ]
  },
  {
   "cell_type": "code",
   "execution_count": 10,
   "id": "07337b81",
   "metadata": {
    "deletable": false,
    "id": "07337b81",
    "outputId": "b2097101-d49d-44d9-901b-32a65c9463d1"
   },
   "outputs": [
    {
     "data": {
      "text/plain": [
       "array([1, 0, 3, 2, 4, 5])"
      ]
     },
     "execution_count": 10,
     "metadata": {},
     "output_type": "execute_result"
    }
   ],
   "source": [
    "data['children'].unique()"
   ]
  },
  {
   "cell_type": "markdown",
   "id": "ee3f52d4",
   "metadata": {
    "deletable": false,
    "editable": false,
    "id": "ee3f52d4"
   },
   "source": [
    "### Удаление пропусков (продолжение)"
   ]
  },
  {
   "cell_type": "markdown",
   "id": "a700b0e4",
   "metadata": {
    "deletable": false,
    "editable": false,
    "id": "a700b0e4"
   },
   "source": [
    "**Задание 11. Заполните пропуски в столбце `days_employed` медианными значениями по каждого типа занятости `income_type`.**"
   ]
  },
  {
   "cell_type": "code",
   "execution_count": 11,
   "id": "61946b83",
   "metadata": {
    "deletable": false,
    "id": "61946b83"
   },
   "outputs": [],
   "source": [
    "for t in data['income_type'].unique():\n",
    "    data.loc[(data['income_type'] == t) & (data['days_employed'].isna()), 'days_employed'] = \\\n",
    "    data.loc[(data['income_type'] == t), 'days_employed'].median()"
   ]
  },
  {
   "cell_type": "markdown",
   "id": "550dcd9b",
   "metadata": {
    "deletable": false,
    "editable": false,
    "id": "550dcd9b"
   },
   "source": [
    "**Задание 12. Убедитесь, что все пропуски заполнены. Проверьте себя и ещё раз выведите количество пропущенных значений для каждого столбца с помощью двух методов.**"
   ]
  },
  {
   "cell_type": "code",
   "execution_count": 12,
   "id": "937c7014",
   "metadata": {
    "deletable": false,
    "id": "937c7014",
    "outputId": "8da1e4e1-358e-4e87-98c9-f261bce0a7b2"
   },
   "outputs": [
    {
     "data": {
      "text/plain": [
       "children            0\n",
       "days_employed       0\n",
       "dob_years           0\n",
       "education           0\n",
       "education_id        0\n",
       "family_status       0\n",
       "family_status_id    0\n",
       "gender              0\n",
       "income_type         0\n",
       "debt                0\n",
       "total_income        0\n",
       "purpose             0\n",
       "dtype: int64"
      ]
     },
     "execution_count": 12,
     "metadata": {},
     "output_type": "execute_result"
    }
   ],
   "source": [
    "data.isna().sum()"
   ]
  },
  {
   "cell_type": "markdown",
   "id": "d522e295",
   "metadata": {
    "deletable": false,
    "editable": false,
    "id": "d522e295"
   },
   "source": [
    "### Изменение типов данных"
   ]
  },
  {
   "cell_type": "markdown",
   "id": "c229c581",
   "metadata": {
    "deletable": false,
    "editable": false,
    "id": "c229c581"
   },
   "source": [
    "**Задание 13. Замените вещественный тип данных в столбце `total_income` на целочисленный с помощью метода `astype()`.**"
   ]
  },
  {
   "cell_type": "code",
   "execution_count": 13,
   "id": "31036462",
   "metadata": {
    "deletable": false,
    "id": "31036462"
   },
   "outputs": [],
   "source": [
    "data['total_income'] = data['total_income'].astype(int)"
   ]
  },
  {
   "cell_type": "markdown",
   "id": "b8e3d1d9",
   "metadata": {
    "deletable": false,
    "editable": false,
    "id": "b8e3d1d9"
   },
   "source": [
    "### Обработка дубликатов"
   ]
  },
  {
   "cell_type": "markdown",
   "id": "9be53c49",
   "metadata": {
    "deletable": false,
    "editable": false,
    "id": "9be53c49"
   },
   "source": [
    "**Задание 14. Обработайте неявные дубликаты в столбце `education`. В этом столбце есть одни и те же значения, но записанные по-разному: с использованием заглавных и строчных букв. Приведите их к нижнему регистру.**"
   ]
  },
  {
   "cell_type": "code",
   "execution_count": 14,
   "id": "d89e73e1",
   "metadata": {
    "deletable": false,
    "id": "d89e73e1"
   },
   "outputs": [],
   "source": [
    "data['education'] = data['education'].str.lower()"
   ]
  },
  {
   "cell_type": "markdown",
   "id": "01d4500e",
   "metadata": {
    "deletable": false,
    "editable": false,
    "id": "01d4500e"
   },
   "source": [
    "**Задание 15. Выведите на экран количество строк-дубликатов в данных. Если такие строки присутствуют, удалите их.**"
   ]
  },
  {
   "cell_type": "code",
   "execution_count": 15,
   "id": "e10efb23",
   "metadata": {
    "deletable": false,
    "id": "e10efb23",
    "outputId": "9684deba-1934-42d1-99e1-cda61740f822"
   },
   "outputs": [
    {
     "data": {
      "text/plain": [
       "71"
      ]
     },
     "execution_count": 15,
     "metadata": {},
     "output_type": "execute_result"
    }
   ],
   "source": [
    "data.duplicated().sum()"
   ]
  },
  {
   "cell_type": "code",
   "execution_count": 16,
   "id": "df853f20",
   "metadata": {
    "deletable": false,
    "id": "df853f20"
   },
   "outputs": [],
   "source": [
    "data = data.drop_duplicates()"
   ]
  },
  {
   "cell_type": "markdown",
   "id": "627be38f",
   "metadata": {
    "deletable": false,
    "editable": false,
    "id": "627be38f"
   },
   "source": [
    "### Категоризация данных"
   ]
  },
  {
   "cell_type": "markdown",
   "id": "4684c3e0",
   "metadata": {
    "deletable": false,
    "editable": false,
    "id": "4684c3e0"
   },
   "source": [
    "**Задание 16. На основании диапазонов, указанных ниже, создайте в датафрейме `data` столбец `total_income_category` с категориями:**\n",
    "\n",
    "- 0–30000 — `'E'`;\n",
    "- 30001–50000 — `'D'`;\n",
    "- 50001–200000 — `'C'`;\n",
    "- 200001–1000000 — `'B'`;\n",
    "- 1000001 и выше — `'A'`.\n",
    "\n",
    "\n",
    "**Например, кредитополучателю с доходом 25000 нужно назначить категорию `'E'`, а клиенту, получающему 235000, — `'B'`. Используйте собственную функцию с именем `categorize_income()` и метод `apply()`.**"
   ]
  },
  {
   "cell_type": "code",
   "execution_count": 17,
   "id": "78965238",
   "metadata": {
    "deletable": false,
    "id": "78965238"
   },
   "outputs": [],
   "source": [
    "def categorize_income(income):\n",
    "    try:\n",
    "        if 0 <= income <= 30000:\n",
    "            return 'E'\n",
    "        elif 30001 <= income <= 50000:\n",
    "            return 'D'\n",
    "        elif 50001 <= income <= 200000:\n",
    "            return 'C'\n",
    "        elif 200001 <= income <= 1000000:\n",
    "            return 'B'\n",
    "        elif income >= 1000001:\n",
    "            return 'A'\n",
    "    except:\n",
    "        pass"
   ]
  },
  {
   "cell_type": "code",
   "execution_count": 18,
   "id": "0980ada1",
   "metadata": {
    "deletable": false,
    "id": "0980ada1"
   },
   "outputs": [
    {
     "data": {
      "text/html": [
       "<div>\n",
       "<style scoped>\n",
       "    .dataframe tbody tr th:only-of-type {\n",
       "        vertical-align: middle;\n",
       "    }\n",
       "\n",
       "    .dataframe tbody tr th {\n",
       "        vertical-align: top;\n",
       "    }\n",
       "\n",
       "    .dataframe thead th {\n",
       "        text-align: right;\n",
       "    }\n",
       "</style>\n",
       "<table border=\"1\" class=\"dataframe\">\n",
       "  <thead>\n",
       "    <tr style=\"text-align: right;\">\n",
       "      <th></th>\n",
       "      <th>children</th>\n",
       "      <th>days_employed</th>\n",
       "      <th>dob_years</th>\n",
       "      <th>education</th>\n",
       "      <th>education_id</th>\n",
       "      <th>family_status</th>\n",
       "      <th>family_status_id</th>\n",
       "      <th>gender</th>\n",
       "      <th>income_type</th>\n",
       "      <th>debt</th>\n",
       "      <th>total_income</th>\n",
       "      <th>purpose</th>\n",
       "      <th>total_income_category</th>\n",
       "    </tr>\n",
       "  </thead>\n",
       "  <tbody>\n",
       "    <tr>\n",
       "      <th>0</th>\n",
       "      <td>1</td>\n",
       "      <td>8437.673028</td>\n",
       "      <td>42</td>\n",
       "      <td>высшее</td>\n",
       "      <td>0</td>\n",
       "      <td>женат / замужем</td>\n",
       "      <td>0</td>\n",
       "      <td>F</td>\n",
       "      <td>сотрудник</td>\n",
       "      <td>0</td>\n",
       "      <td>253875</td>\n",
       "      <td>покупка жилья</td>\n",
       "      <td>B</td>\n",
       "    </tr>\n",
       "    <tr>\n",
       "      <th>1</th>\n",
       "      <td>1</td>\n",
       "      <td>4024.803754</td>\n",
       "      <td>36</td>\n",
       "      <td>среднее</td>\n",
       "      <td>1</td>\n",
       "      <td>женат / замужем</td>\n",
       "      <td>0</td>\n",
       "      <td>F</td>\n",
       "      <td>сотрудник</td>\n",
       "      <td>0</td>\n",
       "      <td>112080</td>\n",
       "      <td>приобретение автомобиля</td>\n",
       "      <td>C</td>\n",
       "    </tr>\n",
       "    <tr>\n",
       "      <th>2</th>\n",
       "      <td>0</td>\n",
       "      <td>5623.422610</td>\n",
       "      <td>33</td>\n",
       "      <td>среднее</td>\n",
       "      <td>1</td>\n",
       "      <td>женат / замужем</td>\n",
       "      <td>0</td>\n",
       "      <td>M</td>\n",
       "      <td>сотрудник</td>\n",
       "      <td>0</td>\n",
       "      <td>145885</td>\n",
       "      <td>покупка жилья</td>\n",
       "      <td>C</td>\n",
       "    </tr>\n",
       "    <tr>\n",
       "      <th>3</th>\n",
       "      <td>3</td>\n",
       "      <td>4124.747207</td>\n",
       "      <td>32</td>\n",
       "      <td>среднее</td>\n",
       "      <td>1</td>\n",
       "      <td>женат / замужем</td>\n",
       "      <td>0</td>\n",
       "      <td>M</td>\n",
       "      <td>сотрудник</td>\n",
       "      <td>0</td>\n",
       "      <td>267628</td>\n",
       "      <td>дополнительное образование</td>\n",
       "      <td>B</td>\n",
       "    </tr>\n",
       "    <tr>\n",
       "      <th>4</th>\n",
       "      <td>0</td>\n",
       "      <td>340266.072047</td>\n",
       "      <td>53</td>\n",
       "      <td>среднее</td>\n",
       "      <td>1</td>\n",
       "      <td>гражданский брак</td>\n",
       "      <td>1</td>\n",
       "      <td>F</td>\n",
       "      <td>пенсионер</td>\n",
       "      <td>0</td>\n",
       "      <td>158616</td>\n",
       "      <td>сыграть свадьбу</td>\n",
       "      <td>C</td>\n",
       "    </tr>\n",
       "    <tr>\n",
       "      <th>...</th>\n",
       "      <td>...</td>\n",
       "      <td>...</td>\n",
       "      <td>...</td>\n",
       "      <td>...</td>\n",
       "      <td>...</td>\n",
       "      <td>...</td>\n",
       "      <td>...</td>\n",
       "      <td>...</td>\n",
       "      <td>...</td>\n",
       "      <td>...</td>\n",
       "      <td>...</td>\n",
       "      <td>...</td>\n",
       "      <td>...</td>\n",
       "    </tr>\n",
       "    <tr>\n",
       "      <th>21520</th>\n",
       "      <td>1</td>\n",
       "      <td>4529.316663</td>\n",
       "      <td>43</td>\n",
       "      <td>среднее</td>\n",
       "      <td>1</td>\n",
       "      <td>гражданский брак</td>\n",
       "      <td>1</td>\n",
       "      <td>F</td>\n",
       "      <td>компаньон</td>\n",
       "      <td>0</td>\n",
       "      <td>224791</td>\n",
       "      <td>операции с жильем</td>\n",
       "      <td>B</td>\n",
       "    </tr>\n",
       "    <tr>\n",
       "      <th>21521</th>\n",
       "      <td>0</td>\n",
       "      <td>343937.404131</td>\n",
       "      <td>67</td>\n",
       "      <td>среднее</td>\n",
       "      <td>1</td>\n",
       "      <td>женат / замужем</td>\n",
       "      <td>0</td>\n",
       "      <td>F</td>\n",
       "      <td>пенсионер</td>\n",
       "      <td>0</td>\n",
       "      <td>155999</td>\n",
       "      <td>сделка с автомобилем</td>\n",
       "      <td>C</td>\n",
       "    </tr>\n",
       "    <tr>\n",
       "      <th>21522</th>\n",
       "      <td>1</td>\n",
       "      <td>2113.346888</td>\n",
       "      <td>38</td>\n",
       "      <td>среднее</td>\n",
       "      <td>1</td>\n",
       "      <td>гражданский брак</td>\n",
       "      <td>1</td>\n",
       "      <td>M</td>\n",
       "      <td>сотрудник</td>\n",
       "      <td>1</td>\n",
       "      <td>89672</td>\n",
       "      <td>недвижимость</td>\n",
       "      <td>C</td>\n",
       "    </tr>\n",
       "    <tr>\n",
       "      <th>21523</th>\n",
       "      <td>3</td>\n",
       "      <td>3112.481705</td>\n",
       "      <td>38</td>\n",
       "      <td>среднее</td>\n",
       "      <td>1</td>\n",
       "      <td>женат / замужем</td>\n",
       "      <td>0</td>\n",
       "      <td>M</td>\n",
       "      <td>сотрудник</td>\n",
       "      <td>1</td>\n",
       "      <td>244093</td>\n",
       "      <td>на покупку своего автомобиля</td>\n",
       "      <td>B</td>\n",
       "    </tr>\n",
       "    <tr>\n",
       "      <th>21524</th>\n",
       "      <td>2</td>\n",
       "      <td>1984.507589</td>\n",
       "      <td>40</td>\n",
       "      <td>среднее</td>\n",
       "      <td>1</td>\n",
       "      <td>женат / замужем</td>\n",
       "      <td>0</td>\n",
       "      <td>F</td>\n",
       "      <td>сотрудник</td>\n",
       "      <td>0</td>\n",
       "      <td>82047</td>\n",
       "      <td>на покупку автомобиля</td>\n",
       "      <td>C</td>\n",
       "    </tr>\n",
       "  </tbody>\n",
       "</table>\n",
       "<p>21331 rows × 13 columns</p>\n",
       "</div>"
      ],
      "text/plain": [
       "       children  days_employed  dob_years education  education_id  \\\n",
       "0             1    8437.673028         42    высшее             0   \n",
       "1             1    4024.803754         36   среднее             1   \n",
       "2             0    5623.422610         33   среднее             1   \n",
       "3             3    4124.747207         32   среднее             1   \n",
       "4             0  340266.072047         53   среднее             1   \n",
       "...         ...            ...        ...       ...           ...   \n",
       "21520         1    4529.316663         43   среднее             1   \n",
       "21521         0  343937.404131         67   среднее             1   \n",
       "21522         1    2113.346888         38   среднее             1   \n",
       "21523         3    3112.481705         38   среднее             1   \n",
       "21524         2    1984.507589         40   среднее             1   \n",
       "\n",
       "          family_status  family_status_id gender income_type  debt  \\\n",
       "0       женат / замужем                 0      F   сотрудник     0   \n",
       "1       женат / замужем                 0      F   сотрудник     0   \n",
       "2       женат / замужем                 0      M   сотрудник     0   \n",
       "3       женат / замужем                 0      M   сотрудник     0   \n",
       "4      гражданский брак                 1      F   пенсионер     0   \n",
       "...                 ...               ...    ...         ...   ...   \n",
       "21520  гражданский брак                 1      F   компаньон     0   \n",
       "21521   женат / замужем                 0      F   пенсионер     0   \n",
       "21522  гражданский брак                 1      M   сотрудник     1   \n",
       "21523   женат / замужем                 0      M   сотрудник     1   \n",
       "21524   женат / замужем                 0      F   сотрудник     0   \n",
       "\n",
       "       total_income                       purpose total_income_category  \n",
       "0            253875                 покупка жилья                     B  \n",
       "1            112080       приобретение автомобиля                     C  \n",
       "2            145885                 покупка жилья                     C  \n",
       "3            267628    дополнительное образование                     B  \n",
       "4            158616               сыграть свадьбу                     C  \n",
       "...             ...                           ...                   ...  \n",
       "21520        224791             операции с жильем                     B  \n",
       "21521        155999          сделка с автомобилем                     C  \n",
       "21522         89672                  недвижимость                     C  \n",
       "21523        244093  на покупку своего автомобиля                     B  \n",
       "21524         82047         на покупку автомобиля                     C  \n",
       "\n",
       "[21331 rows x 13 columns]"
      ]
     },
     "execution_count": 18,
     "metadata": {},
     "output_type": "execute_result"
    }
   ],
   "source": [
    "data['total_income_category'] = data['total_income'].apply(categorize_income)\n",
    "data"
   ]
  },
  {
   "cell_type": "markdown",
   "id": "9917bba0",
   "metadata": {
    "deletable": false,
    "editable": false,
    "id": "9917bba0"
   },
   "source": [
    "**Задание 17. Выведите на экран перечень уникальных целей взятия кредита из столбца `purpose`.**"
   ]
  },
  {
   "cell_type": "code",
   "execution_count": 19,
   "id": "ee07b65e",
   "metadata": {
    "deletable": false,
    "id": "ee07b65e",
    "outputId": "673c12d9-7d7e-4ae0-9812-c622c89dd244"
   },
   "outputs": [
    {
     "data": {
      "text/plain": [
       "array(['покупка жилья', 'приобретение автомобиля',\n",
       "       'дополнительное образование', 'сыграть свадьбу',\n",
       "       'операции с жильем', 'образование', 'на проведение свадьбы',\n",
       "       'покупка жилья для семьи', 'покупка недвижимости',\n",
       "       'покупка коммерческой недвижимости', 'покупка жилой недвижимости',\n",
       "       'строительство собственной недвижимости', 'недвижимость',\n",
       "       'строительство недвижимости', 'на покупку подержанного автомобиля',\n",
       "       'на покупку своего автомобиля',\n",
       "       'операции с коммерческой недвижимостью',\n",
       "       'строительство жилой недвижимости', 'жилье',\n",
       "       'операции со своей недвижимостью', 'автомобили',\n",
       "       'заняться образованием', 'сделка с подержанным автомобилем',\n",
       "       'получение образования', 'автомобиль', 'свадьба',\n",
       "       'получение дополнительного образования', 'покупка своего жилья',\n",
       "       'операции с недвижимостью', 'получение высшего образования',\n",
       "       'свой автомобиль', 'сделка с автомобилем',\n",
       "       'профильное образование', 'высшее образование',\n",
       "       'покупка жилья для сдачи', 'на покупку автомобиля', 'ремонт жилью',\n",
       "       'заняться высшим образованием'], dtype=object)"
      ]
     },
     "execution_count": 19,
     "metadata": {},
     "output_type": "execute_result"
    }
   ],
   "source": [
    "data['purpose'].unique()"
   ]
  },
  {
   "cell_type": "markdown",
   "id": "52b79d56",
   "metadata": {
    "deletable": false,
    "editable": false,
    "id": "52b79d56"
   },
   "source": [
    "**Задание 18. Создайте функцию, которая на основании данных из столбца `purpose` сформирует новый столбец `purpose_category`, в который войдут следующие категории:**\n",
    "\n",
    "- `'операции с автомобилем'`,\n",
    "- `'операции с недвижимостью'`,\n",
    "- `'проведение свадьбы'`,\n",
    "- `'получение образования'`.\n",
    "\n",
    "**Например, если в столбце `purpose` находится подстрока `'на покупку автомобиля'`, то в столбце `purpose_category` должна появиться строка `'операции с автомобилем'`.**\n",
    "\n",
    "**Используйте собственную функцию с именем `categorize_purpose()` и метод `apply()`. Изучите данные в столбце `purpose` и определите, какие подстроки помогут вам правильно определить категорию.**"
   ]
  },
  {
   "cell_type": "code",
   "execution_count": 20,
   "id": "be41da5d",
   "metadata": {
    "deletable": false,
    "id": "be41da5d"
   },
   "outputs": [],
   "source": [
    "def categorize_purpose(row):\n",
    "    try:\n",
    "        if 'автом' in row:\n",
    "            return 'операции с автомобилем'\n",
    "        elif 'жил' in row or 'недвиж' in row:\n",
    "            return 'операции с недвижимостью'\n",
    "        elif 'свад' in row:\n",
    "            return 'проведение свадьбы'\n",
    "        elif 'образов' in row:\n",
    "            return 'получение образования'\n",
    "    except:\n",
    "        return 'нет категории'"
   ]
  },
  {
   "cell_type": "code",
   "execution_count": 21,
   "id": "94c4a19a",
   "metadata": {
    "deletable": false,
    "id": "94c4a19a"
   },
   "outputs": [
    {
     "data": {
      "text/html": [
       "<div>\n",
       "<style scoped>\n",
       "    .dataframe tbody tr th:only-of-type {\n",
       "        vertical-align: middle;\n",
       "    }\n",
       "\n",
       "    .dataframe tbody tr th {\n",
       "        vertical-align: top;\n",
       "    }\n",
       "\n",
       "    .dataframe thead th {\n",
       "        text-align: right;\n",
       "    }\n",
       "</style>\n",
       "<table border=\"1\" class=\"dataframe\">\n",
       "  <thead>\n",
       "    <tr style=\"text-align: right;\">\n",
       "      <th></th>\n",
       "      <th>children</th>\n",
       "      <th>days_employed</th>\n",
       "      <th>dob_years</th>\n",
       "      <th>education</th>\n",
       "      <th>education_id</th>\n",
       "      <th>family_status</th>\n",
       "      <th>family_status_id</th>\n",
       "      <th>gender</th>\n",
       "      <th>income_type</th>\n",
       "      <th>debt</th>\n",
       "      <th>total_income</th>\n",
       "      <th>purpose</th>\n",
       "      <th>total_income_category</th>\n",
       "      <th>purpose_category</th>\n",
       "    </tr>\n",
       "  </thead>\n",
       "  <tbody>\n",
       "    <tr>\n",
       "      <th>0</th>\n",
       "      <td>1</td>\n",
       "      <td>8437.673028</td>\n",
       "      <td>42</td>\n",
       "      <td>высшее</td>\n",
       "      <td>0</td>\n",
       "      <td>женат / замужем</td>\n",
       "      <td>0</td>\n",
       "      <td>F</td>\n",
       "      <td>сотрудник</td>\n",
       "      <td>0</td>\n",
       "      <td>253875</td>\n",
       "      <td>покупка жилья</td>\n",
       "      <td>B</td>\n",
       "      <td>операции с недвижимостью</td>\n",
       "    </tr>\n",
       "    <tr>\n",
       "      <th>1</th>\n",
       "      <td>1</td>\n",
       "      <td>4024.803754</td>\n",
       "      <td>36</td>\n",
       "      <td>среднее</td>\n",
       "      <td>1</td>\n",
       "      <td>женат / замужем</td>\n",
       "      <td>0</td>\n",
       "      <td>F</td>\n",
       "      <td>сотрудник</td>\n",
       "      <td>0</td>\n",
       "      <td>112080</td>\n",
       "      <td>приобретение автомобиля</td>\n",
       "      <td>C</td>\n",
       "      <td>операции с автомобилем</td>\n",
       "    </tr>\n",
       "    <tr>\n",
       "      <th>2</th>\n",
       "      <td>0</td>\n",
       "      <td>5623.422610</td>\n",
       "      <td>33</td>\n",
       "      <td>среднее</td>\n",
       "      <td>1</td>\n",
       "      <td>женат / замужем</td>\n",
       "      <td>0</td>\n",
       "      <td>M</td>\n",
       "      <td>сотрудник</td>\n",
       "      <td>0</td>\n",
       "      <td>145885</td>\n",
       "      <td>покупка жилья</td>\n",
       "      <td>C</td>\n",
       "      <td>операции с недвижимостью</td>\n",
       "    </tr>\n",
       "    <tr>\n",
       "      <th>3</th>\n",
       "      <td>3</td>\n",
       "      <td>4124.747207</td>\n",
       "      <td>32</td>\n",
       "      <td>среднее</td>\n",
       "      <td>1</td>\n",
       "      <td>женат / замужем</td>\n",
       "      <td>0</td>\n",
       "      <td>M</td>\n",
       "      <td>сотрудник</td>\n",
       "      <td>0</td>\n",
       "      <td>267628</td>\n",
       "      <td>дополнительное образование</td>\n",
       "      <td>B</td>\n",
       "      <td>получение образования</td>\n",
       "    </tr>\n",
       "    <tr>\n",
       "      <th>4</th>\n",
       "      <td>0</td>\n",
       "      <td>340266.072047</td>\n",
       "      <td>53</td>\n",
       "      <td>среднее</td>\n",
       "      <td>1</td>\n",
       "      <td>гражданский брак</td>\n",
       "      <td>1</td>\n",
       "      <td>F</td>\n",
       "      <td>пенсионер</td>\n",
       "      <td>0</td>\n",
       "      <td>158616</td>\n",
       "      <td>сыграть свадьбу</td>\n",
       "      <td>C</td>\n",
       "      <td>проведение свадьбы</td>\n",
       "    </tr>\n",
       "    <tr>\n",
       "      <th>...</th>\n",
       "      <td>...</td>\n",
       "      <td>...</td>\n",
       "      <td>...</td>\n",
       "      <td>...</td>\n",
       "      <td>...</td>\n",
       "      <td>...</td>\n",
       "      <td>...</td>\n",
       "      <td>...</td>\n",
       "      <td>...</td>\n",
       "      <td>...</td>\n",
       "      <td>...</td>\n",
       "      <td>...</td>\n",
       "      <td>...</td>\n",
       "      <td>...</td>\n",
       "    </tr>\n",
       "    <tr>\n",
       "      <th>21520</th>\n",
       "      <td>1</td>\n",
       "      <td>4529.316663</td>\n",
       "      <td>43</td>\n",
       "      <td>среднее</td>\n",
       "      <td>1</td>\n",
       "      <td>гражданский брак</td>\n",
       "      <td>1</td>\n",
       "      <td>F</td>\n",
       "      <td>компаньон</td>\n",
       "      <td>0</td>\n",
       "      <td>224791</td>\n",
       "      <td>операции с жильем</td>\n",
       "      <td>B</td>\n",
       "      <td>операции с недвижимостью</td>\n",
       "    </tr>\n",
       "    <tr>\n",
       "      <th>21521</th>\n",
       "      <td>0</td>\n",
       "      <td>343937.404131</td>\n",
       "      <td>67</td>\n",
       "      <td>среднее</td>\n",
       "      <td>1</td>\n",
       "      <td>женат / замужем</td>\n",
       "      <td>0</td>\n",
       "      <td>F</td>\n",
       "      <td>пенсионер</td>\n",
       "      <td>0</td>\n",
       "      <td>155999</td>\n",
       "      <td>сделка с автомобилем</td>\n",
       "      <td>C</td>\n",
       "      <td>операции с автомобилем</td>\n",
       "    </tr>\n",
       "    <tr>\n",
       "      <th>21522</th>\n",
       "      <td>1</td>\n",
       "      <td>2113.346888</td>\n",
       "      <td>38</td>\n",
       "      <td>среднее</td>\n",
       "      <td>1</td>\n",
       "      <td>гражданский брак</td>\n",
       "      <td>1</td>\n",
       "      <td>M</td>\n",
       "      <td>сотрудник</td>\n",
       "      <td>1</td>\n",
       "      <td>89672</td>\n",
       "      <td>недвижимость</td>\n",
       "      <td>C</td>\n",
       "      <td>операции с недвижимостью</td>\n",
       "    </tr>\n",
       "    <tr>\n",
       "      <th>21523</th>\n",
       "      <td>3</td>\n",
       "      <td>3112.481705</td>\n",
       "      <td>38</td>\n",
       "      <td>среднее</td>\n",
       "      <td>1</td>\n",
       "      <td>женат / замужем</td>\n",
       "      <td>0</td>\n",
       "      <td>M</td>\n",
       "      <td>сотрудник</td>\n",
       "      <td>1</td>\n",
       "      <td>244093</td>\n",
       "      <td>на покупку своего автомобиля</td>\n",
       "      <td>B</td>\n",
       "      <td>операции с автомобилем</td>\n",
       "    </tr>\n",
       "    <tr>\n",
       "      <th>21524</th>\n",
       "      <td>2</td>\n",
       "      <td>1984.507589</td>\n",
       "      <td>40</td>\n",
       "      <td>среднее</td>\n",
       "      <td>1</td>\n",
       "      <td>женат / замужем</td>\n",
       "      <td>0</td>\n",
       "      <td>F</td>\n",
       "      <td>сотрудник</td>\n",
       "      <td>0</td>\n",
       "      <td>82047</td>\n",
       "      <td>на покупку автомобиля</td>\n",
       "      <td>C</td>\n",
       "      <td>операции с автомобилем</td>\n",
       "    </tr>\n",
       "  </tbody>\n",
       "</table>\n",
       "<p>21331 rows × 14 columns</p>\n",
       "</div>"
      ],
      "text/plain": [
       "       children  days_employed  dob_years education  education_id  \\\n",
       "0             1    8437.673028         42    высшее             0   \n",
       "1             1    4024.803754         36   среднее             1   \n",
       "2             0    5623.422610         33   среднее             1   \n",
       "3             3    4124.747207         32   среднее             1   \n",
       "4             0  340266.072047         53   среднее             1   \n",
       "...         ...            ...        ...       ...           ...   \n",
       "21520         1    4529.316663         43   среднее             1   \n",
       "21521         0  343937.404131         67   среднее             1   \n",
       "21522         1    2113.346888         38   среднее             1   \n",
       "21523         3    3112.481705         38   среднее             1   \n",
       "21524         2    1984.507589         40   среднее             1   \n",
       "\n",
       "          family_status  family_status_id gender income_type  debt  \\\n",
       "0       женат / замужем                 0      F   сотрудник     0   \n",
       "1       женат / замужем                 0      F   сотрудник     0   \n",
       "2       женат / замужем                 0      M   сотрудник     0   \n",
       "3       женат / замужем                 0      M   сотрудник     0   \n",
       "4      гражданский брак                 1      F   пенсионер     0   \n",
       "...                 ...               ...    ...         ...   ...   \n",
       "21520  гражданский брак                 1      F   компаньон     0   \n",
       "21521   женат / замужем                 0      F   пенсионер     0   \n",
       "21522  гражданский брак                 1      M   сотрудник     1   \n",
       "21523   женат / замужем                 0      M   сотрудник     1   \n",
       "21524   женат / замужем                 0      F   сотрудник     0   \n",
       "\n",
       "       total_income                       purpose total_income_category  \\\n",
       "0            253875                 покупка жилья                     B   \n",
       "1            112080       приобретение автомобиля                     C   \n",
       "2            145885                 покупка жилья                     C   \n",
       "3            267628    дополнительное образование                     B   \n",
       "4            158616               сыграть свадьбу                     C   \n",
       "...             ...                           ...                   ...   \n",
       "21520        224791             операции с жильем                     B   \n",
       "21521        155999          сделка с автомобилем                     C   \n",
       "21522         89672                  недвижимость                     C   \n",
       "21523        244093  на покупку своего автомобиля                     B   \n",
       "21524         82047         на покупку автомобиля                     C   \n",
       "\n",
       "               purpose_category  \n",
       "0      операции с недвижимостью  \n",
       "1        операции с автомобилем  \n",
       "2      операции с недвижимостью  \n",
       "3         получение образования  \n",
       "4            проведение свадьбы  \n",
       "...                         ...  \n",
       "21520  операции с недвижимостью  \n",
       "21521    операции с автомобилем  \n",
       "21522  операции с недвижимостью  \n",
       "21523    операции с автомобилем  \n",
       "21524    операции с автомобилем  \n",
       "\n",
       "[21331 rows x 14 columns]"
      ]
     },
     "execution_count": 21,
     "metadata": {},
     "output_type": "execute_result"
    }
   ],
   "source": [
    "data['purpose_category'] = data['purpose'].apply(categorize_purpose)\n",
    "data"
   ]
  },
  {
   "cell_type": "markdown",
   "id": "3d596c34",
   "metadata": {
    "deletable": false,
    "editable": false,
    "id": "3d596c34"
   },
   "source": [
    "### Шаг 3. Исследуйте данные и ответьте на вопросы"
   ]
  },
  {
   "cell_type": "markdown",
   "id": "648db036",
   "metadata": {
    "deletable": false,
    "editable": false,
    "id": "648db036"
   },
   "source": [
    "#### 3.1 Есть ли зависимость между количеством детей и возвратом кредита в срок?"
   ]
  },
  {
   "cell_type": "code",
   "execution_count": 22,
   "id": "7fcff25e",
   "metadata": {
    "deletable": false,
    "id": "7fcff25e"
   },
   "outputs": [
    {
     "data": {
      "text/html": [
       "<div>\n",
       "<style scoped>\n",
       "    .dataframe tbody tr th:only-of-type {\n",
       "        vertical-align: middle;\n",
       "    }\n",
       "\n",
       "    .dataframe tbody tr th {\n",
       "        vertical-align: top;\n",
       "    }\n",
       "\n",
       "    .dataframe thead th {\n",
       "        text-align: right;\n",
       "    }\n",
       "</style>\n",
       "<table border=\"1\" class=\"dataframe\">\n",
       "  <thead>\n",
       "    <tr style=\"text-align: right;\">\n",
       "      <th></th>\n",
       "      <th>count_debt_rows</th>\n",
       "      <th>sum_debt_rows</th>\n",
       "      <th>debt_conversion</th>\n",
       "    </tr>\n",
       "    <tr>\n",
       "      <th>children</th>\n",
       "      <th></th>\n",
       "      <th></th>\n",
       "      <th></th>\n",
       "    </tr>\n",
       "  </thead>\n",
       "  <tbody>\n",
       "    <tr>\n",
       "      <th>4</th>\n",
       "      <td>41</td>\n",
       "      <td>4</td>\n",
       "      <td>9.76%</td>\n",
       "    </tr>\n",
       "    <tr>\n",
       "      <th>2</th>\n",
       "      <td>2052</td>\n",
       "      <td>194</td>\n",
       "      <td>9.45%</td>\n",
       "    </tr>\n",
       "    <tr>\n",
       "      <th>1</th>\n",
       "      <td>4808</td>\n",
       "      <td>444</td>\n",
       "      <td>9.23%</td>\n",
       "    </tr>\n",
       "    <tr>\n",
       "      <th>3</th>\n",
       "      <td>330</td>\n",
       "      <td>27</td>\n",
       "      <td>8.18%</td>\n",
       "    </tr>\n",
       "    <tr>\n",
       "      <th>0</th>\n",
       "      <td>14091</td>\n",
       "      <td>1063</td>\n",
       "      <td>7.54%</td>\n",
       "    </tr>\n",
       "    <tr>\n",
       "      <th>5</th>\n",
       "      <td>9</td>\n",
       "      <td>0</td>\n",
       "      <td>0.00%</td>\n",
       "    </tr>\n",
       "  </tbody>\n",
       "</table>\n",
       "</div>"
      ],
      "text/plain": [
       "          count_debt_rows  sum_debt_rows debt_conversion\n",
       "children                                                \n",
       "4                      41              4           9.76%\n",
       "2                    2052            194           9.45%\n",
       "1                    4808            444           9.23%\n",
       "3                     330             27           8.18%\n",
       "0                   14091           1063           7.54%\n",
       "5                       9              0           0.00%"
      ]
     },
     "execution_count": 22,
     "metadata": {},
     "output_type": "execute_result"
    }
   ],
   "source": [
    "#создаем новый DataFrame  \n",
    "children_dependance = pd.DataFrame() \n",
    "#группируем DataFrame по количеству детей и считаем количетсво строк заемщиков для каждой группы \n",
    "children_dependance['count_debt_rows'] = data.groupby('children')['debt'].count()\n",
    "#считаем суммарное число должников для каждой группы\n",
    "children_dependance['sum_debt_rows'] = data.groupby('children')['debt'].sum()\n",
    "#вычисляем конверсию невернувших долг заемщиков\n",
    "children_dependance['debt_conversion'] = children_dependance['sum_debt_rows']/children_dependance['count_debt_rows'] \n",
    "#сортируем в порядке убывания конверсии\n",
    "children_dependance = children_dependance.sort_values(by='debt_conversion', ascending=False)\n",
    "#переводим столбец debt_conversion из доли в проценты\n",
    "children_dependance['debt_conversion'] = children_dependance['debt_conversion'].apply(lambda x: format(x, '.2%'))\n",
    "#выводим DataFrame\n",
    "children_dependance"
   ]
  },
  {
   "cell_type": "markdown",
   "id": "59432b1e",
   "metadata": {
    "deletable": false,
    "id": "2eb9088e"
   },
   "source": [
    "**Вывод:** Прямой зависимости между количеством детей и возвратом кредита не прослеживается. Наблюдается, что в семьях, где детей нет, самое низкое значение конверсии из тех, кто брал в долг. Некорректно брать в расчет значение для семей с 5 детьми из-за маленькой выборки."
   ]
  },
  {
   "cell_type": "markdown",
   "id": "74c9b3a7",
   "metadata": {
    "deletable": false,
    "editable": false,
    "id": "74c9b3a7"
   },
   "source": [
    "#### 3.2 Есть ли зависимость между семейным положением и возвратом кредита в срок?"
   ]
  },
  {
   "cell_type": "code",
   "execution_count": 24,
   "id": "8098ab3b",
   "metadata": {
    "deletable": false,
    "id": "8098ab3b"
   },
   "outputs": [
    {
     "data": {
      "text/html": [
       "<div>\n",
       "<style scoped>\n",
       "    .dataframe tbody tr th:only-of-type {\n",
       "        vertical-align: middle;\n",
       "    }\n",
       "\n",
       "    .dataframe tbody tr th {\n",
       "        vertical-align: top;\n",
       "    }\n",
       "\n",
       "    .dataframe thead th {\n",
       "        text-align: right;\n",
       "    }\n",
       "</style>\n",
       "<table border=\"1\" class=\"dataframe\">\n",
       "  <thead>\n",
       "    <tr style=\"text-align: right;\">\n",
       "      <th></th>\n",
       "      <th>count_debt_rows</th>\n",
       "      <th>sum_debt_rows</th>\n",
       "      <th>debt_conversion</th>\n",
       "    </tr>\n",
       "    <tr>\n",
       "      <th>family_status</th>\n",
       "      <th></th>\n",
       "      <th></th>\n",
       "      <th></th>\n",
       "    </tr>\n",
       "  </thead>\n",
       "  <tbody>\n",
       "    <tr>\n",
       "      <th>Не женат / не замужем</th>\n",
       "      <td>2796</td>\n",
       "      <td>273</td>\n",
       "      <td>9.76%</td>\n",
       "    </tr>\n",
       "    <tr>\n",
       "      <th>гражданский брак</th>\n",
       "      <td>4134</td>\n",
       "      <td>385</td>\n",
       "      <td>9.31%</td>\n",
       "    </tr>\n",
       "    <tr>\n",
       "      <th>женат / замужем</th>\n",
       "      <td>12261</td>\n",
       "      <td>927</td>\n",
       "      <td>7.56%</td>\n",
       "    </tr>\n",
       "    <tr>\n",
       "      <th>в разводе</th>\n",
       "      <td>1189</td>\n",
       "      <td>84</td>\n",
       "      <td>7.06%</td>\n",
       "    </tr>\n",
       "    <tr>\n",
       "      <th>вдовец / вдова</th>\n",
       "      <td>951</td>\n",
       "      <td>63</td>\n",
       "      <td>6.62%</td>\n",
       "    </tr>\n",
       "  </tbody>\n",
       "</table>\n",
       "</div>"
      ],
      "text/plain": [
       "                       count_debt_rows  sum_debt_rows debt_conversion\n",
       "family_status                                                        \n",
       "Не женат / не замужем             2796            273           9.76%\n",
       "гражданский брак                  4134            385           9.31%\n",
       "женат / замужем                  12261            927           7.56%\n",
       "в разводе                         1189             84           7.06%\n",
       "вдовец / вдова                     951             63           6.62%"
      ]
     },
     "execution_count": 24,
     "metadata": {},
     "output_type": "execute_result"
    }
   ],
   "source": [
    "#создаем новый DataFrame  \n",
    "family_status_dependance = pd.DataFrame() \n",
    "#группируем DataFrame по семейному положению и считаем количетсво строк заемщиков для каждой группы \n",
    "family_status_dependance['count_debt_rows'] = data.groupby('family_status')['debt'].count()\n",
    "#считаем суммарное число должников для каждой группы\n",
    "family_status_dependance['sum_debt_rows'] = data.groupby('family_status')['debt'].sum()\n",
    "#вычисляем конверсию невернувших долг заемщиков\n",
    "family_status_dependance['debt_conversion'] = (family_status_dependance['sum_debt_rows']/family_status_dependance['count_debt_rows'])\n",
    "#сортируем в порядке убывания конверсии\n",
    "family_status_dependance=family_status_dependance.sort_values(by='debt_conversion', ascending=False)\n",
    "#переводим столбец debt_conversion из доли в проценты\n",
    "family_status_dependance['debt_conversion'] = family_status_dependance['debt_conversion'].apply(lambda x: format(x, '.2%'))\n",
    "#выводим DataFrame\n",
    "family_status_dependance"
   ]
  },
  {
   "cell_type": "markdown",
   "id": "c389ca63",
   "metadata": {
    "deletable": false,
    "id": "c389ca63"
   },
   "source": [
    "**Вывод:** Самыми надежными в вопросах возврата долга являются вдовцы и вдовы. Наибольшие показатели не возврата долга показывают одинокие люди, а также пары, находящиеся в гражданском браке."
   ]
  },
  {
   "cell_type": "markdown",
   "id": "9529de68",
   "metadata": {
    "deletable": false,
    "editable": false,
    "id": "9529de68"
   },
   "source": [
    "#### 3.3 Есть ли зависимость между уровнем дохода и возвратом кредита в срок?"
   ]
  },
  {
   "cell_type": "code",
   "execution_count": 25,
   "id": "8787f44a",
   "metadata": {
    "deletable": false,
    "id": "8787f44a"
   },
   "outputs": [
    {
     "data": {
      "text/html": [
       "<div>\n",
       "<style scoped>\n",
       "    .dataframe tbody tr th:only-of-type {\n",
       "        vertical-align: middle;\n",
       "    }\n",
       "\n",
       "    .dataframe tbody tr th {\n",
       "        vertical-align: top;\n",
       "    }\n",
       "\n",
       "    .dataframe thead th {\n",
       "        text-align: right;\n",
       "    }\n",
       "</style>\n",
       "<table border=\"1\" class=\"dataframe\">\n",
       "  <thead>\n",
       "    <tr style=\"text-align: right;\">\n",
       "      <th></th>\n",
       "      <th>count_debt_rows</th>\n",
       "      <th>sum_debt_rows</th>\n",
       "      <th>debt_conversion</th>\n",
       "    </tr>\n",
       "    <tr>\n",
       "      <th>total_income_category</th>\n",
       "      <th></th>\n",
       "      <th></th>\n",
       "      <th></th>\n",
       "    </tr>\n",
       "  </thead>\n",
       "  <tbody>\n",
       "    <tr>\n",
       "      <th>E</th>\n",
       "      <td>22</td>\n",
       "      <td>2</td>\n",
       "      <td>9.09%</td>\n",
       "    </tr>\n",
       "    <tr>\n",
       "      <th>C</th>\n",
       "      <td>15921</td>\n",
       "      <td>1353</td>\n",
       "      <td>8.50%</td>\n",
       "    </tr>\n",
       "    <tr>\n",
       "      <th>A</th>\n",
       "      <td>25</td>\n",
       "      <td>2</td>\n",
       "      <td>8.00%</td>\n",
       "    </tr>\n",
       "    <tr>\n",
       "      <th>B</th>\n",
       "      <td>5014</td>\n",
       "      <td>354</td>\n",
       "      <td>7.06%</td>\n",
       "    </tr>\n",
       "    <tr>\n",
       "      <th>D</th>\n",
       "      <td>349</td>\n",
       "      <td>21</td>\n",
       "      <td>6.02%</td>\n",
       "    </tr>\n",
       "  </tbody>\n",
       "</table>\n",
       "</div>"
      ],
      "text/plain": [
       "                       count_debt_rows  sum_debt_rows debt_conversion\n",
       "total_income_category                                                \n",
       "E                                   22              2           9.09%\n",
       "C                                15921           1353           8.50%\n",
       "A                                   25              2           8.00%\n",
       "B                                 5014            354           7.06%\n",
       "D                                  349             21           6.02%"
      ]
     },
     "execution_count": 25,
     "metadata": {},
     "output_type": "execute_result"
    }
   ],
   "source": [
    "#создаем новый DataFrame  \n",
    "income_dependance = pd.DataFrame() \n",
    "#группируем DataFrame по уровню дохода и считаем количетсво строк заемщиков для каждой группы\n",
    "income_dependance['count_debt_rows'] = data.groupby('total_income_category')['debt'].count()\n",
    "#считаем суммарное число должников для каждой группы\n",
    "income_dependance['sum_debt_rows'] = data.groupby('total_income_category')['debt'].sum()\n",
    "#вычисляем конверсию невернувших долг заемщиков, в\n",
    "income_dependance['debt_conversion'] = income_dependance['sum_debt_rows']/income_dependance['count_debt_rows']\n",
    "#сортируем в порядке убывания конверсии\n",
    "income_dependance = income_dependance.sort_values(by='debt_conversion', ascending=False)\n",
    "#переводим столбец debt_conversion из доли в проценты\n",
    "income_dependance['debt_conversion'] = income_dependance['debt_conversion'].apply(lambda x: format(x, '.2%'))\n",
    "#выводим DataFrame\n",
    "income_dependance"
   ]
  },
  {
   "cell_type": "markdown",
   "id": "6dd14b57",
   "metadata": {
    "deletable": false,
    "id": "6dd14b57"
   },
   "source": [
    "**Вывод:** Для общего анализа некорректно брать категории \"А\" и \"Е\" из-за небольшой выборки. Исходя из репрезентативной выборки, наибольшему риску невозврата долга подвержены заемщики категории \"С\", а наименьшему заемщики категории \"D\"."
   ]
  },
  {
   "cell_type": "markdown",
   "id": "1dcc9b12",
   "metadata": {
    "deletable": false,
    "editable": false,
    "id": "1dcc9b12"
   },
   "source": [
    "#### 3.4 Как разные цели кредита влияют на его возврат в срок?"
   ]
  },
  {
   "cell_type": "code",
   "execution_count": 26,
   "id": "c602bc8b",
   "metadata": {
    "deletable": false,
    "id": "c602bc8b",
    "scrolled": true
   },
   "outputs": [
    {
     "data": {
      "text/html": [
       "<div>\n",
       "<style scoped>\n",
       "    .dataframe tbody tr th:only-of-type {\n",
       "        vertical-align: middle;\n",
       "    }\n",
       "\n",
       "    .dataframe tbody tr th {\n",
       "        vertical-align: top;\n",
       "    }\n",
       "\n",
       "    .dataframe thead th {\n",
       "        text-align: right;\n",
       "    }\n",
       "</style>\n",
       "<table border=\"1\" class=\"dataframe\">\n",
       "  <thead>\n",
       "    <tr style=\"text-align: right;\">\n",
       "      <th></th>\n",
       "      <th>count_debt_rows</th>\n",
       "      <th>sum_debt_rows</th>\n",
       "      <th>debt_conversion</th>\n",
       "    </tr>\n",
       "    <tr>\n",
       "      <th>purpose_category</th>\n",
       "      <th></th>\n",
       "      <th></th>\n",
       "      <th></th>\n",
       "    </tr>\n",
       "  </thead>\n",
       "  <tbody>\n",
       "    <tr>\n",
       "      <th>операции с автомобилем</th>\n",
       "      <td>4279</td>\n",
       "      <td>400</td>\n",
       "      <td>9.35%</td>\n",
       "    </tr>\n",
       "    <tr>\n",
       "      <th>получение образования</th>\n",
       "      <td>3988</td>\n",
       "      <td>369</td>\n",
       "      <td>9.25%</td>\n",
       "    </tr>\n",
       "    <tr>\n",
       "      <th>проведение свадьбы</th>\n",
       "      <td>2313</td>\n",
       "      <td>183</td>\n",
       "      <td>7.91%</td>\n",
       "    </tr>\n",
       "    <tr>\n",
       "      <th>операции с недвижимостью</th>\n",
       "      <td>10751</td>\n",
       "      <td>780</td>\n",
       "      <td>7.26%</td>\n",
       "    </tr>\n",
       "  </tbody>\n",
       "</table>\n",
       "</div>"
      ],
      "text/plain": [
       "                          count_debt_rows  sum_debt_rows debt_conversion\n",
       "purpose_category                                                        \n",
       "операции с автомобилем               4279            400           9.35%\n",
       "получение образования                3988            369           9.25%\n",
       "проведение свадьбы                   2313            183           7.91%\n",
       "операции с недвижимостью            10751            780           7.26%"
      ]
     },
     "execution_count": 26,
     "metadata": {},
     "output_type": "execute_result"
    }
   ],
   "source": [
    "#создаем новый DataFrame  \n",
    "purpose_dependance = pd.DataFrame()\n",
    "#группируем DataFrame по целе кредита и считаем количетсво строк заемщиков для каждой группы\n",
    "purpose_dependance['count_debt_rows'] = data.groupby('purpose_category')['debt'].count()\n",
    "#считаем суммарное число должников для каждой группы\n",
    "purpose_dependance['sum_debt_rows'] = data.groupby('purpose_category')['debt'].sum()\n",
    "#вычисляем конверсию невернувших долг заемщиков\n",
    "purpose_dependance['debt_conversion'] = purpose_dependance['sum_debt_rows']/purpose_dependance['count_debt_rows']\n",
    "#сортируем в порядке убывания конверсии\n",
    "purpose_dependance = purpose_dependance.sort_values(by='debt_conversion', ascending=False)\n",
    "#переводим столбец debt_conversion из доли в проценты\n",
    "purpose_dependance['debt_conversion'] = purpose_dependance['debt_conversion'].apply(lambda x: format(x, '.2%'))\n",
    "#выводим DataFrame\n",
    "purpose_dependance"
   ]
  },
  {
   "cell_type": "markdown",
   "id": "cf05ed63",
   "metadata": {
    "deletable": false,
    "id": "cf05ed63"
   },
   "source": [
    "**Вывод:** Заемщики, которые берут средства на приобретение автомобиля и на оплату образования, чаще просрочивают выплаты по долгу."
   ]
  },
  {
   "cell_type": "markdown",
   "id": "46c1f10b",
   "metadata": {
    "deletable": false,
    "editable": false,
    "id": "46c1f10b"
   },
   "source": [
    "#### 3.5 Приведите возможные причины появления пропусков в исходных данных."
   ]
  },
  {
   "cell_type": "markdown",
   "id": "1581b466",
   "metadata": {
    "deletable": false,
    "id": "3697d2a9"
   },
   "source": [
    "*Ответ:* Возможными причинами появления пропусков в исходных данных может явиться человеческий фактор, в виде некооректного набора данных, нежелание заемщика предоставлять все персональные данные, или техническая ошибка при обработке данных."
   ]
  },
  {
   "cell_type": "markdown",
   "id": "3137d257",
   "metadata": {
    "deletable": false,
    "editable": false,
    "id": "3137d257"
   },
   "source": [
    "#### 3.6 Объясните, почему заполнить пропуски медианным значением — лучшее решение для количественных переменных."
   ]
  },
  {
   "cell_type": "markdown",
   "id": "cf40012a",
   "metadata": {
    "deletable": false,
    "id": "cf40012a"
   },
   "source": [
    "*Ответ:* Медиана \"страхует\" от аномальных значений, так как берется значение именно из середины выборки, а не среднее арифметическое, на которое могут сильно влиять аномальные значнения."
   ]
  },
  {
   "cell_type": "markdown",
   "id": "57bc304e",
   "metadata": {
    "deletable": false,
    "editable": false,
    "id": "57bc304e"
   },
   "source": [
    "### Шаг 4: общий вывод."
   ]
  },
  {
   "cell_type": "markdown",
   "id": "1ab75d1c",
   "metadata": {
    "deletable": false,
    "id": "1ab75d1c"
   },
   "source": [
    "В результате исследования было установлено:\n",
    "1. Отсутствует прямая зависимость между количеством детей и возвратом кредита в срок. Заемщики, у которых нет детей, являются самыми надежными клиентами для банка. **В долях эта разница кажется несущественной. Однако если ее переводить в денежный эквивалент в масштабах всего банка, то разница будет ощутимой.**\n",
    "2. Показано, что вдовцы и вдовы чаще возвращают средства банку. Это может быть связано с возврастом заемщика и в связи с этим отказом банка на заем. Или это уже взрослые/состоятельные люди, которые не нуждаются в заеме. Замужние/женатые заемщики более ответственно подходят к вопросу возврата средств, чем неженатые и незамужние.\n",
    "3. Динейной закономерность между уровнем дохода и возврата средств не устновлено. Частично, из-за небольшой выработки категорий \"А\" и \"Е\". **Небольшая выборка категории \"А\" обусловлена высоким доходом заемщиков и отсутствием необходимости в займе. Большой процент невозврата из имеющейся выборки можно обусловить большим размером займа и неспособностью его впоследствии выплатить из-за бытовых трудностей (увольнение с высокооплачиваемой работы, закрытие бизнеса и.т.д.). Небольшая выборка категории \"Е\" скорее говорит нам о том, что банки неохотно выдают займы людям с низким доходом из-за большого риска несвоевременной выплаты.**\n",
    "4. Наблюдется, что процент невозврата кредита за операции с автомобилем и с образованием выше, чем процент на операции с недвижимостью и на проведение свадьбы. Отсюда можно сделать общий вывод, который также подтверждает п.2, о том, что семейные люди более ответственно подходят к вопросу возврата долга, чем неженатые и незамужние."
   ]
  }
 ],
 "metadata": {
  "ExecuteTimeLog": [
   {
    "duration": 52,
    "start_time": "2024-02-02T14:41:48.297Z"
   },
   {
    "duration": 7,
    "start_time": "2024-02-02T14:42:09.537Z"
   },
   {
    "duration": 6,
    "start_time": "2024-02-02T14:42:39.721Z"
   },
   {
    "duration": 7,
    "start_time": "2024-02-02T14:42:49.523Z"
   },
   {
    "duration": 7,
    "start_time": "2024-02-02T14:43:07.889Z"
   },
   {
    "duration": 45,
    "start_time": "2024-02-05T13:47:12.786Z"
   },
   {
    "duration": 456,
    "start_time": "2024-02-05T14:22:56.395Z"
   },
   {
    "duration": 20,
    "start_time": "2024-02-05T14:22:56.853Z"
   },
   {
    "duration": 14,
    "start_time": "2024-02-05T14:22:56.875Z"
   },
   {
    "duration": 10,
    "start_time": "2024-02-05T14:22:56.891Z"
   },
   {
    "duration": 35,
    "start_time": "2024-02-05T14:22:56.902Z"
   },
   {
    "duration": 3,
    "start_time": "2024-02-05T14:22:56.938Z"
   },
   {
    "duration": 28,
    "start_time": "2024-02-05T14:22:56.943Z"
   },
   {
    "duration": 16,
    "start_time": "2024-02-05T14:22:56.973Z"
   },
   {
    "duration": 10,
    "start_time": "2024-02-05T14:22:56.990Z"
   },
   {
    "duration": 3,
    "start_time": "2024-02-05T14:22:57.003Z"
   },
   {
    "duration": 40,
    "start_time": "2024-02-05T14:22:57.008Z"
   },
   {
    "duration": 17,
    "start_time": "2024-02-05T14:22:57.050Z"
   },
   {
    "duration": 3,
    "start_time": "2024-02-05T14:22:57.069Z"
   },
   {
    "duration": 17,
    "start_time": "2024-02-05T14:22:57.073Z"
   },
   {
    "duration": 18,
    "start_time": "2024-02-05T14:22:57.092Z"
   },
   {
    "duration": 16,
    "start_time": "2024-02-05T14:22:57.112Z"
   },
   {
    "duration": 3,
    "start_time": "2024-02-05T14:22:57.129Z"
   },
   {
    "duration": 35,
    "start_time": "2024-02-05T14:22:57.134Z"
   },
   {
    "duration": 11,
    "start_time": "2024-02-05T14:22:57.170Z"
   },
   {
    "duration": 5,
    "start_time": "2024-02-05T14:22:57.182Z"
   },
   {
    "duration": 8,
    "start_time": "2024-02-05T14:22:57.188Z"
   },
   {
    "duration": 5,
    "start_time": "2024-02-05T14:22:57.198Z"
   },
   {
    "duration": 7,
    "start_time": "2024-02-05T14:22:57.204Z"
   },
   {
    "duration": 4,
    "start_time": "2024-02-05T14:22:57.212Z"
   },
   {
    "duration": 8,
    "start_time": "2024-02-05T14:41:12.273Z"
   },
   {
    "duration": 9,
    "start_time": "2024-02-05T14:41:29.835Z"
   },
   {
    "duration": 73,
    "start_time": "2024-02-05T14:43:18.078Z"
   },
   {
    "duration": 12,
    "start_time": "2024-02-05T14:43:42.343Z"
   },
   {
    "duration": 9,
    "start_time": "2024-02-05T14:44:06.585Z"
   },
   {
    "duration": 8,
    "start_time": "2024-02-05T14:44:32.000Z"
   },
   {
    "duration": 7,
    "start_time": "2024-02-05T14:45:22.121Z"
   },
   {
    "duration": 10,
    "start_time": "2024-02-05T14:46:11.133Z"
   },
   {
    "duration": 12,
    "start_time": "2024-02-05T14:47:04.012Z"
   },
   {
    "duration": 12,
    "start_time": "2024-02-05T14:47:18.324Z"
   },
   {
    "duration": 11,
    "start_time": "2024-02-05T14:47:56.958Z"
   },
   {
    "duration": 11,
    "start_time": "2024-02-05T14:48:38.935Z"
   },
   {
    "duration": 6,
    "start_time": "2024-02-05T14:49:36.961Z"
   },
   {
    "duration": 12,
    "start_time": "2024-02-05T14:52:19.995Z"
   },
   {
    "duration": 9,
    "start_time": "2024-02-05T14:52:25.637Z"
   },
   {
    "duration": 9,
    "start_time": "2024-02-05T14:52:33.621Z"
   },
   {
    "duration": 86,
    "start_time": "2024-02-05T14:52:36.900Z"
   },
   {
    "duration": 74,
    "start_time": "2024-02-05T14:52:42.068Z"
   },
   {
    "duration": 10,
    "start_time": "2024-02-05T14:52:47.060Z"
   },
   {
    "duration": 7,
    "start_time": "2024-02-05T14:52:52.612Z"
   },
   {
    "duration": 26,
    "start_time": "2024-02-05T14:54:28.807Z"
   },
   {
    "duration": 6,
    "start_time": "2024-02-05T14:54:44.928Z"
   },
   {
    "duration": 7,
    "start_time": "2024-02-05T14:54:51.952Z"
   },
   {
    "duration": 9,
    "start_time": "2024-02-05T14:56:35.098Z"
   },
   {
    "duration": 7,
    "start_time": "2024-02-05T14:56:49.706Z"
   },
   {
    "duration": 8,
    "start_time": "2024-02-05T14:57:23.259Z"
   },
   {
    "duration": 7,
    "start_time": "2024-02-05T14:59:17.998Z"
   },
   {
    "duration": 7,
    "start_time": "2024-02-05T14:59:58.535Z"
   },
   {
    "duration": 497,
    "start_time": "2024-02-05T15:00:54.050Z"
   },
   {
    "duration": 22,
    "start_time": "2024-02-05T15:00:54.549Z"
   },
   {
    "duration": 52,
    "start_time": "2024-02-05T15:00:54.573Z"
   },
   {
    "duration": 48,
    "start_time": "2024-02-05T15:00:54.627Z"
   },
   {
    "duration": 58,
    "start_time": "2024-02-05T15:00:54.677Z"
   },
   {
    "duration": 4,
    "start_time": "2024-02-05T15:00:54.737Z"
   },
   {
    "duration": 52,
    "start_time": "2024-02-05T15:00:54.742Z"
   },
   {
    "duration": 40,
    "start_time": "2024-02-05T15:00:54.796Z"
   },
   {
    "duration": 55,
    "start_time": "2024-02-05T15:00:54.837Z"
   },
   {
    "duration": 5,
    "start_time": "2024-02-05T15:00:54.893Z"
   },
   {
    "duration": 42,
    "start_time": "2024-02-05T15:00:54.899Z"
   },
   {
    "duration": 10,
    "start_time": "2024-02-05T15:00:54.943Z"
   },
   {
    "duration": 5,
    "start_time": "2024-02-05T15:00:54.954Z"
   },
   {
    "duration": 11,
    "start_time": "2024-02-05T15:00:54.961Z"
   },
   {
    "duration": 22,
    "start_time": "2024-02-05T15:00:54.973Z"
   },
   {
    "duration": 16,
    "start_time": "2024-02-05T15:00:54.996Z"
   },
   {
    "duration": 3,
    "start_time": "2024-02-05T15:00:55.013Z"
   },
   {
    "duration": 16,
    "start_time": "2024-02-05T15:00:55.018Z"
   },
   {
    "duration": 18,
    "start_time": "2024-02-05T15:00:55.036Z"
   },
   {
    "duration": 16,
    "start_time": "2024-02-05T15:00:55.055Z"
   },
   {
    "duration": 12,
    "start_time": "2024-02-05T15:00:55.073Z"
   },
   {
    "duration": 12,
    "start_time": "2024-02-05T15:00:55.086Z"
   },
   {
    "duration": 3,
    "start_time": "2024-02-05T15:00:55.099Z"
   },
   {
    "duration": 12,
    "start_time": "2024-02-05T15:00:55.103Z"
   },
   {
    "duration": 6,
    "start_time": "2024-02-05T15:00:55.117Z"
   },
   {
    "duration": 9,
    "start_time": "2024-02-05T15:08:19.837Z"
   },
   {
    "duration": 9,
    "start_time": "2024-02-05T15:08:32.285Z"
   },
   {
    "duration": 10,
    "start_time": "2024-02-05T15:08:48.811Z"
   },
   {
    "duration": 65,
    "start_time": "2024-02-05T15:09:47.878Z"
   },
   {
    "duration": 11,
    "start_time": "2024-02-05T15:09:57.647Z"
   },
   {
    "duration": 432,
    "start_time": "2024-02-05T15:10:36.710Z"
   },
   {
    "duration": 34,
    "start_time": "2024-02-05T15:10:37.144Z"
   },
   {
    "duration": 15,
    "start_time": "2024-02-05T15:10:37.179Z"
   },
   {
    "duration": 10,
    "start_time": "2024-02-05T15:10:37.195Z"
   },
   {
    "duration": 35,
    "start_time": "2024-02-05T15:10:37.207Z"
   },
   {
    "duration": 22,
    "start_time": "2024-02-05T15:10:37.243Z"
   },
   {
    "duration": 16,
    "start_time": "2024-02-05T15:10:37.266Z"
   },
   {
    "duration": 7,
    "start_time": "2024-02-05T15:10:37.284Z"
   },
   {
    "duration": 7,
    "start_time": "2024-02-05T15:10:37.293Z"
   },
   {
    "duration": 18,
    "start_time": "2024-02-05T15:10:37.303Z"
   },
   {
    "duration": 43,
    "start_time": "2024-02-05T15:10:37.323Z"
   },
   {
    "duration": 9,
    "start_time": "2024-02-05T15:10:37.368Z"
   },
   {
    "duration": 8,
    "start_time": "2024-02-05T15:10:37.379Z"
   },
   {
    "duration": 18,
    "start_time": "2024-02-05T15:10:37.389Z"
   },
   {
    "duration": 24,
    "start_time": "2024-02-05T15:10:37.408Z"
   },
   {
    "duration": 32,
    "start_time": "2024-02-05T15:10:37.433Z"
   },
   {
    "duration": 4,
    "start_time": "2024-02-05T15:10:37.467Z"
   },
   {
    "duration": 15,
    "start_time": "2024-02-05T15:10:37.472Z"
   },
   {
    "duration": 7,
    "start_time": "2024-02-05T15:10:37.488Z"
   },
   {
    "duration": 18,
    "start_time": "2024-02-05T15:10:37.496Z"
   },
   {
    "duration": 15,
    "start_time": "2024-02-05T15:10:37.515Z"
   },
   {
    "duration": 12,
    "start_time": "2024-02-05T15:10:37.531Z"
   },
   {
    "duration": 10,
    "start_time": "2024-02-05T15:10:37.545Z"
   },
   {
    "duration": 9,
    "start_time": "2024-02-05T15:10:37.556Z"
   },
   {
    "duration": 4,
    "start_time": "2024-02-05T15:10:37.567Z"
   },
   {
    "duration": 10,
    "start_time": "2024-02-05T15:13:52.940Z"
   },
   {
    "duration": 87,
    "start_time": "2024-02-05T15:14:05.854Z"
   },
   {
    "duration": 12,
    "start_time": "2024-02-05T15:14:19.661Z"
   },
   {
    "duration": 72,
    "start_time": "2024-02-05T15:20:02.230Z"
   },
   {
    "duration": 21,
    "start_time": "2024-02-05T15:20:22.110Z"
   },
   {
    "duration": 11,
    "start_time": "2024-02-05T15:21:25.961Z"
   },
   {
    "duration": 12,
    "start_time": "2024-02-05T15:26:28.869Z"
   },
   {
    "duration": 10,
    "start_time": "2024-02-05T15:26:31.339Z"
   },
   {
    "duration": 18,
    "start_time": "2024-02-05T15:30:06.083Z"
   },
   {
    "duration": 15,
    "start_time": "2024-02-05T15:30:18.107Z"
   },
   {
    "duration": 47,
    "start_time": "2024-02-06T12:03:18.407Z"
   },
   {
    "duration": 6,
    "start_time": "2024-02-06T12:03:29.903Z"
   },
   {
    "duration": 556,
    "start_time": "2024-02-06T12:03:35.967Z"
   },
   {
    "duration": 23,
    "start_time": "2024-02-06T12:03:36.525Z"
   },
   {
    "duration": 17,
    "start_time": "2024-02-06T12:03:36.553Z"
   },
   {
    "duration": 15,
    "start_time": "2024-02-06T12:03:36.572Z"
   },
   {
    "duration": 37,
    "start_time": "2024-02-06T12:03:36.589Z"
   },
   {
    "duration": 4,
    "start_time": "2024-02-06T12:03:36.627Z"
   },
   {
    "duration": 25,
    "start_time": "2024-02-06T12:03:36.633Z"
   },
   {
    "duration": 5,
    "start_time": "2024-02-06T12:03:36.660Z"
   },
   {
    "duration": 8,
    "start_time": "2024-02-06T12:03:36.668Z"
   },
   {
    "duration": 5,
    "start_time": "2024-02-06T12:03:36.678Z"
   },
   {
    "duration": 37,
    "start_time": "2024-02-06T12:03:36.684Z"
   },
   {
    "duration": 41,
    "start_time": "2024-02-06T12:03:36.723Z"
   },
   {
    "duration": 4,
    "start_time": "2024-02-06T12:03:36.766Z"
   },
   {
    "duration": 15,
    "start_time": "2024-02-06T12:03:36.771Z"
   },
   {
    "duration": 20,
    "start_time": "2024-02-06T12:03:36.787Z"
   },
   {
    "duration": 16,
    "start_time": "2024-02-06T12:03:36.809Z"
   },
   {
    "duration": 33,
    "start_time": "2024-02-06T12:03:36.826Z"
   },
   {
    "duration": 23,
    "start_time": "2024-02-06T12:03:36.861Z"
   },
   {
    "duration": 6,
    "start_time": "2024-02-06T12:03:36.885Z"
   },
   {
    "duration": 4,
    "start_time": "2024-02-06T12:03:36.893Z"
   },
   {
    "duration": 20,
    "start_time": "2024-02-06T12:03:36.898Z"
   },
   {
    "duration": 13,
    "start_time": "2024-02-06T12:03:36.919Z"
   },
   {
    "duration": 34,
    "start_time": "2024-02-06T12:03:36.934Z"
   },
   {
    "duration": 2,
    "start_time": "2024-02-06T12:03:36.970Z"
   },
   {
    "duration": 8,
    "start_time": "2024-02-06T12:03:36.974Z"
   },
   {
    "duration": 68,
    "start_time": "2024-02-06T12:17:47.510Z"
   },
   {
    "duration": 14,
    "start_time": "2024-02-06T12:18:14.694Z"
   },
   {
    "duration": 15,
    "start_time": "2024-02-06T12:19:22.736Z"
   },
   {
    "duration": 12,
    "start_time": "2024-02-06T12:19:36.999Z"
   },
   {
    "duration": 476,
    "start_time": "2024-02-06T12:39:35.362Z"
   },
   {
    "duration": 22,
    "start_time": "2024-02-06T12:39:35.840Z"
   },
   {
    "duration": 16,
    "start_time": "2024-02-06T12:39:35.863Z"
   },
   {
    "duration": 10,
    "start_time": "2024-02-06T12:39:35.881Z"
   },
   {
    "duration": 46,
    "start_time": "2024-02-06T12:39:35.892Z"
   },
   {
    "duration": 20,
    "start_time": "2024-02-06T12:39:35.939Z"
   },
   {
    "duration": 8,
    "start_time": "2024-02-06T12:39:35.960Z"
   },
   {
    "duration": 3,
    "start_time": "2024-02-06T12:39:35.970Z"
   },
   {
    "duration": 9,
    "start_time": "2024-02-06T12:39:35.975Z"
   },
   {
    "duration": 9,
    "start_time": "2024-02-06T12:39:35.988Z"
   },
   {
    "duration": 50,
    "start_time": "2024-02-06T12:39:35.999Z"
   },
   {
    "duration": 15,
    "start_time": "2024-02-06T12:39:36.050Z"
   },
   {
    "duration": 26,
    "start_time": "2024-02-06T12:39:36.067Z"
   },
   {
    "duration": 38,
    "start_time": "2024-02-06T12:39:36.095Z"
   },
   {
    "duration": 42,
    "start_time": "2024-02-06T12:39:36.135Z"
   },
   {
    "duration": 25,
    "start_time": "2024-02-06T12:39:36.179Z"
   },
   {
    "duration": 21,
    "start_time": "2024-02-06T12:39:36.205Z"
   },
   {
    "duration": 37,
    "start_time": "2024-02-06T12:39:36.227Z"
   },
   {
    "duration": 23,
    "start_time": "2024-02-06T12:39:36.265Z"
   },
   {
    "duration": 23,
    "start_time": "2024-02-06T12:39:36.289Z"
   },
   {
    "duration": 21,
    "start_time": "2024-02-06T12:39:36.314Z"
   },
   {
    "duration": 20,
    "start_time": "2024-02-06T12:39:36.337Z"
   },
   {
    "duration": 47,
    "start_time": "2024-02-06T12:39:36.359Z"
   },
   {
    "duration": 24,
    "start_time": "2024-02-06T12:39:36.408Z"
   },
   {
    "duration": 27,
    "start_time": "2024-02-06T12:39:36.434Z"
   },
   {
    "duration": 71,
    "start_time": "2024-02-06T12:42:43.820Z"
   },
   {
    "duration": 26,
    "start_time": "2024-02-06T12:43:38.423Z"
   },
   {
    "duration": 15,
    "start_time": "2024-02-06T12:44:25.271Z"
   },
   {
    "duration": 14,
    "start_time": "2024-02-06T12:45:14.283Z"
   },
   {
    "duration": 525,
    "start_time": "2024-02-06T12:45:35.647Z"
   },
   {
    "duration": 25,
    "start_time": "2024-02-06T12:45:36.175Z"
   },
   {
    "duration": 16,
    "start_time": "2024-02-06T12:45:36.202Z"
   },
   {
    "duration": 17,
    "start_time": "2024-02-06T12:45:36.221Z"
   },
   {
    "duration": 67,
    "start_time": "2024-02-06T12:45:36.240Z"
   },
   {
    "duration": 4,
    "start_time": "2024-02-06T12:45:36.308Z"
   },
   {
    "duration": 26,
    "start_time": "2024-02-06T12:45:36.313Z"
   },
   {
    "duration": 5,
    "start_time": "2024-02-06T12:45:36.340Z"
   },
   {
    "duration": 14,
    "start_time": "2024-02-06T12:45:36.347Z"
   },
   {
    "duration": 10,
    "start_time": "2024-02-06T12:45:36.364Z"
   },
   {
    "duration": 37,
    "start_time": "2024-02-06T12:45:36.376Z"
   },
   {
    "duration": 10,
    "start_time": "2024-02-06T12:45:36.415Z"
   },
   {
    "duration": 6,
    "start_time": "2024-02-06T12:45:36.427Z"
   },
   {
    "duration": 21,
    "start_time": "2024-02-06T12:45:36.459Z"
   },
   {
    "duration": 23,
    "start_time": "2024-02-06T12:45:36.482Z"
   },
   {
    "duration": 17,
    "start_time": "2024-02-06T12:45:36.507Z"
   },
   {
    "duration": 3,
    "start_time": "2024-02-06T12:45:36.526Z"
   },
   {
    "duration": 62,
    "start_time": "2024-02-06T12:45:36.531Z"
   },
   {
    "duration": 7,
    "start_time": "2024-02-06T12:45:36.595Z"
   },
   {
    "duration": 4,
    "start_time": "2024-02-06T12:45:36.604Z"
   },
   {
    "duration": 17,
    "start_time": "2024-02-06T12:45:36.610Z"
   },
   {
    "duration": 11,
    "start_time": "2024-02-06T12:45:36.629Z"
   },
   {
    "duration": 16,
    "start_time": "2024-02-06T12:45:36.660Z"
   },
   {
    "duration": 19,
    "start_time": "2024-02-06T12:45:36.678Z"
   },
   {
    "duration": 19,
    "start_time": "2024-02-06T12:45:36.699Z"
   },
   {
    "duration": 76,
    "start_time": "2024-02-06T13:16:49.084Z"
   },
   {
    "duration": 17,
    "start_time": "2024-02-06T13:17:07.326Z"
   },
   {
    "duration": 14,
    "start_time": "2024-02-06T13:17:24.775Z"
   },
   {
    "duration": 15,
    "start_time": "2024-02-06T13:17:46.967Z"
   },
   {
    "duration": 478,
    "start_time": "2024-02-06T13:17:56.477Z"
   },
   {
    "duration": 20,
    "start_time": "2024-02-06T13:17:56.957Z"
   },
   {
    "duration": 15,
    "start_time": "2024-02-06T13:17:56.979Z"
   },
   {
    "duration": 21,
    "start_time": "2024-02-06T13:17:56.996Z"
   },
   {
    "duration": 51,
    "start_time": "2024-02-06T13:17:57.018Z"
   },
   {
    "duration": 3,
    "start_time": "2024-02-06T13:17:57.070Z"
   },
   {
    "duration": 21,
    "start_time": "2024-02-06T13:17:57.074Z"
   },
   {
    "duration": 9,
    "start_time": "2024-02-06T13:17:57.096Z"
   },
   {
    "duration": 37,
    "start_time": "2024-02-06T13:17:57.106Z"
   },
   {
    "duration": 14,
    "start_time": "2024-02-06T13:17:57.145Z"
   },
   {
    "duration": 49,
    "start_time": "2024-02-06T13:17:57.160Z"
   },
   {
    "duration": 10,
    "start_time": "2024-02-06T13:17:57.210Z"
   },
   {
    "duration": 21,
    "start_time": "2024-02-06T13:17:57.222Z"
   },
   {
    "duration": 34,
    "start_time": "2024-02-06T13:17:57.245Z"
   },
   {
    "duration": 42,
    "start_time": "2024-02-06T13:17:57.281Z"
   },
   {
    "duration": 33,
    "start_time": "2024-02-06T13:17:57.324Z"
   },
   {
    "duration": 17,
    "start_time": "2024-02-06T13:17:57.358Z"
   },
   {
    "duration": 32,
    "start_time": "2024-02-06T13:17:57.376Z"
   },
   {
    "duration": 18,
    "start_time": "2024-02-06T13:17:57.410Z"
   },
   {
    "duration": 21,
    "start_time": "2024-02-06T13:17:57.429Z"
   },
   {
    "duration": 50,
    "start_time": "2024-02-06T13:17:57.452Z"
   },
   {
    "duration": 15,
    "start_time": "2024-02-06T13:17:57.503Z"
   },
   {
    "duration": 33,
    "start_time": "2024-02-06T13:17:57.519Z"
   },
   {
    "duration": 40,
    "start_time": "2024-02-06T13:17:57.555Z"
   },
   {
    "duration": 26,
    "start_time": "2024-02-06T13:17:57.597Z"
   },
   {
    "duration": 14,
    "start_time": "2024-02-06T13:18:14.015Z"
   },
   {
    "duration": 13,
    "start_time": "2024-02-06T13:18:44.968Z"
   },
   {
    "duration": 15,
    "start_time": "2024-02-06T13:19:06.624Z"
   },
   {
    "duration": 11,
    "start_time": "2024-02-06T13:19:36.833Z"
   },
   {
    "duration": 417,
    "start_time": "2024-02-06T13:33:34.417Z"
   },
   {
    "duration": 19,
    "start_time": "2024-02-06T13:33:34.836Z"
   },
   {
    "duration": 22,
    "start_time": "2024-02-06T13:33:34.856Z"
   },
   {
    "duration": 10,
    "start_time": "2024-02-06T13:33:34.880Z"
   },
   {
    "duration": 34,
    "start_time": "2024-02-06T13:33:34.891Z"
   },
   {
    "duration": 3,
    "start_time": "2024-02-06T13:33:34.926Z"
   },
   {
    "duration": 14,
    "start_time": "2024-02-06T13:33:34.931Z"
   },
   {
    "duration": 5,
    "start_time": "2024-02-06T13:33:34.946Z"
   },
   {
    "duration": 8,
    "start_time": "2024-02-06T13:33:34.959Z"
   },
   {
    "duration": 16,
    "start_time": "2024-02-06T13:33:34.969Z"
   },
   {
    "duration": 35,
    "start_time": "2024-02-06T13:33:34.987Z"
   },
   {
    "duration": 10,
    "start_time": "2024-02-06T13:33:35.023Z"
   },
   {
    "duration": 6,
    "start_time": "2024-02-06T13:33:35.035Z"
   },
   {
    "duration": 21,
    "start_time": "2024-02-06T13:33:35.043Z"
   },
   {
    "duration": 27,
    "start_time": "2024-02-06T13:33:35.065Z"
   },
   {
    "duration": 17,
    "start_time": "2024-02-06T13:33:35.093Z"
   },
   {
    "duration": 18,
    "start_time": "2024-02-06T13:33:35.111Z"
   },
   {
    "duration": 19,
    "start_time": "2024-02-06T13:33:35.131Z"
   },
   {
    "duration": 6,
    "start_time": "2024-02-06T13:33:35.152Z"
   },
   {
    "duration": 3,
    "start_time": "2024-02-06T13:33:35.160Z"
   },
   {
    "duration": 16,
    "start_time": "2024-02-06T13:33:35.165Z"
   },
   {
    "duration": 10,
    "start_time": "2024-02-06T13:33:35.183Z"
   },
   {
    "duration": 13,
    "start_time": "2024-02-06T13:33:35.195Z"
   },
   {
    "duration": 57,
    "start_time": "2024-02-06T13:33:35.209Z"
   },
   {
    "duration": 26,
    "start_time": "2024-02-06T13:33:35.267Z"
   },
   {
    "duration": 468,
    "start_time": "2024-02-06T13:37:52.654Z"
   },
   {
    "duration": 21,
    "start_time": "2024-02-06T13:37:53.123Z"
   },
   {
    "duration": 14,
    "start_time": "2024-02-06T13:37:53.145Z"
   },
   {
    "duration": 9,
    "start_time": "2024-02-06T13:37:53.161Z"
   },
   {
    "duration": 32,
    "start_time": "2024-02-06T13:37:53.172Z"
   },
   {
    "duration": 3,
    "start_time": "2024-02-06T13:37:53.206Z"
   },
   {
    "duration": 9,
    "start_time": "2024-02-06T13:37:53.210Z"
   },
   {
    "duration": 4,
    "start_time": "2024-02-06T13:37:53.220Z"
   },
   {
    "duration": 8,
    "start_time": "2024-02-06T13:37:53.226Z"
   },
   {
    "duration": 4,
    "start_time": "2024-02-06T13:37:53.260Z"
   },
   {
    "duration": 32,
    "start_time": "2024-02-06T13:37:53.266Z"
   },
   {
    "duration": 10,
    "start_time": "2024-02-06T13:37:53.300Z"
   },
   {
    "duration": 7,
    "start_time": "2024-02-06T13:37:53.311Z"
   },
   {
    "duration": 12,
    "start_time": "2024-02-06T13:37:53.319Z"
   },
   {
    "duration": 46,
    "start_time": "2024-02-06T13:37:53.332Z"
   },
   {
    "duration": 19,
    "start_time": "2024-02-06T13:37:53.380Z"
   },
   {
    "duration": 3,
    "start_time": "2024-02-06T13:37:53.401Z"
   },
   {
    "duration": 20,
    "start_time": "2024-02-06T13:37:53.405Z"
   },
   {
    "duration": 5,
    "start_time": "2024-02-06T13:37:53.426Z"
   },
   {
    "duration": 4,
    "start_time": "2024-02-06T13:37:53.459Z"
   },
   {
    "duration": 25,
    "start_time": "2024-02-06T13:37:53.465Z"
   },
   {
    "duration": 11,
    "start_time": "2024-02-06T13:37:53.492Z"
   },
   {
    "duration": 13,
    "start_time": "2024-02-06T13:37:53.504Z"
   },
   {
    "duration": 12,
    "start_time": "2024-02-06T13:37:53.519Z"
   },
   {
    "duration": 34,
    "start_time": "2024-02-06T13:37:53.532Z"
   },
   {
    "duration": 438,
    "start_time": "2024-02-06T13:38:22.621Z"
   },
   {
    "duration": 20,
    "start_time": "2024-02-06T13:38:23.061Z"
   },
   {
    "duration": 28,
    "start_time": "2024-02-06T13:38:23.083Z"
   },
   {
    "duration": 31,
    "start_time": "2024-02-06T13:38:23.113Z"
   },
   {
    "duration": 59,
    "start_time": "2024-02-06T13:38:23.146Z"
   },
   {
    "duration": 4,
    "start_time": "2024-02-06T13:38:23.206Z"
   },
   {
    "duration": 27,
    "start_time": "2024-02-06T13:38:23.211Z"
   },
   {
    "duration": 47,
    "start_time": "2024-02-06T13:38:23.240Z"
   },
   {
    "duration": 36,
    "start_time": "2024-02-06T13:38:23.289Z"
   },
   {
    "duration": 24,
    "start_time": "2024-02-06T13:38:23.327Z"
   },
   {
    "duration": 70,
    "start_time": "2024-02-06T13:38:23.352Z"
   },
   {
    "duration": 9,
    "start_time": "2024-02-06T13:38:23.423Z"
   },
   {
    "duration": 30,
    "start_time": "2024-02-06T13:38:23.433Z"
   },
   {
    "duration": 32,
    "start_time": "2024-02-06T13:38:23.465Z"
   },
   {
    "duration": 43,
    "start_time": "2024-02-06T13:38:23.500Z"
   },
   {
    "duration": 29,
    "start_time": "2024-02-06T13:38:23.544Z"
   },
   {
    "duration": 18,
    "start_time": "2024-02-06T13:38:23.574Z"
   },
   {
    "duration": 37,
    "start_time": "2024-02-06T13:38:23.593Z"
   },
   {
    "duration": 53,
    "start_time": "2024-02-06T13:38:23.631Z"
   },
   {
    "duration": 25,
    "start_time": "2024-02-06T13:38:23.685Z"
   },
   {
    "duration": 47,
    "start_time": "2024-02-06T13:38:23.711Z"
   },
   {
    "duration": 21,
    "start_time": "2024-02-06T13:38:23.759Z"
   },
   {
    "duration": 52,
    "start_time": "2024-02-06T13:38:23.782Z"
   },
   {
    "duration": 56,
    "start_time": "2024-02-06T13:38:23.835Z"
   },
   {
    "duration": 50,
    "start_time": "2024-02-06T13:38:23.893Z"
   },
   {
    "duration": 449,
    "start_time": "2024-02-06T13:41:47.901Z"
   },
   {
    "duration": 27,
    "start_time": "2024-02-06T13:41:48.353Z"
   },
   {
    "duration": 15,
    "start_time": "2024-02-06T13:41:48.381Z"
   },
   {
    "duration": 9,
    "start_time": "2024-02-06T13:41:48.398Z"
   },
   {
    "duration": 32,
    "start_time": "2024-02-06T13:41:48.409Z"
   },
   {
    "duration": 3,
    "start_time": "2024-02-06T13:41:48.458Z"
   },
   {
    "duration": 9,
    "start_time": "2024-02-06T13:41:48.462Z"
   },
   {
    "duration": 3,
    "start_time": "2024-02-06T13:41:48.472Z"
   },
   {
    "duration": 5,
    "start_time": "2024-02-06T13:41:48.477Z"
   },
   {
    "duration": 4,
    "start_time": "2024-02-06T13:41:48.484Z"
   },
   {
    "duration": 32,
    "start_time": "2024-02-06T13:41:48.489Z"
   },
   {
    "duration": 38,
    "start_time": "2024-02-06T13:41:48.522Z"
   },
   {
    "duration": 3,
    "start_time": "2024-02-06T13:41:48.562Z"
   },
   {
    "duration": 12,
    "start_time": "2024-02-06T13:41:48.567Z"
   },
   {
    "duration": 20,
    "start_time": "2024-02-06T13:41:48.580Z"
   },
   {
    "duration": 15,
    "start_time": "2024-02-06T13:41:48.601Z"
   },
   {
    "duration": 3,
    "start_time": "2024-02-06T13:41:48.618Z"
   },
   {
    "duration": 45,
    "start_time": "2024-02-06T13:41:48.622Z"
   },
   {
    "duration": 5,
    "start_time": "2024-02-06T13:41:48.668Z"
   },
   {
    "duration": 13,
    "start_time": "2024-02-06T13:41:48.675Z"
   },
   {
    "duration": 20,
    "start_time": "2024-02-06T13:41:48.690Z"
   },
   {
    "duration": 10,
    "start_time": "2024-02-06T13:41:48.711Z"
   },
   {
    "duration": 22,
    "start_time": "2024-02-06T13:41:48.722Z"
   },
   {
    "duration": 27,
    "start_time": "2024-02-06T13:41:48.745Z"
   },
   {
    "duration": 13,
    "start_time": "2024-02-06T13:41:48.774Z"
   },
   {
    "duration": 456,
    "start_time": "2024-02-06T14:10:28.774Z"
   },
   {
    "duration": 20,
    "start_time": "2024-02-06T14:10:29.232Z"
   },
   {
    "duration": 15,
    "start_time": "2024-02-06T14:10:29.253Z"
   },
   {
    "duration": 10,
    "start_time": "2024-02-06T14:10:29.269Z"
   },
   {
    "duration": 36,
    "start_time": "2024-02-06T14:10:29.280Z"
   },
   {
    "duration": 3,
    "start_time": "2024-02-06T14:10:29.317Z"
   },
   {
    "duration": 8,
    "start_time": "2024-02-06T14:10:29.322Z"
   },
   {
    "duration": 3,
    "start_time": "2024-02-06T14:10:29.332Z"
   },
   {
    "duration": 22,
    "start_time": "2024-02-06T14:10:29.337Z"
   },
   {
    "duration": 6,
    "start_time": "2024-02-06T14:10:29.361Z"
   },
   {
    "duration": 35,
    "start_time": "2024-02-06T14:10:29.368Z"
   },
   {
    "duration": 9,
    "start_time": "2024-02-06T14:10:29.405Z"
   },
   {
    "duration": 4,
    "start_time": "2024-02-06T14:10:29.415Z"
   },
   {
    "duration": 39,
    "start_time": "2024-02-06T14:10:29.420Z"
   },
   {
    "duration": 24,
    "start_time": "2024-02-06T14:10:29.461Z"
   },
   {
    "duration": 18,
    "start_time": "2024-02-06T14:10:29.487Z"
   },
   {
    "duration": 3,
    "start_time": "2024-02-06T14:10:29.507Z"
   },
   {
    "duration": 27,
    "start_time": "2024-02-06T14:10:29.512Z"
   },
   {
    "duration": 19,
    "start_time": "2024-02-06T14:10:29.541Z"
   },
   {
    "duration": 3,
    "start_time": "2024-02-06T14:10:29.561Z"
   },
   {
    "duration": 31,
    "start_time": "2024-02-06T14:10:29.565Z"
   },
   {
    "duration": 29,
    "start_time": "2024-02-06T14:10:29.598Z"
   },
   {
    "duration": 26,
    "start_time": "2024-02-06T14:10:29.629Z"
   },
   {
    "duration": 32,
    "start_time": "2024-02-06T14:10:29.656Z"
   },
   {
    "duration": 42,
    "start_time": "2024-02-06T14:10:29.690Z"
   },
   {
    "duration": 465,
    "start_time": "2024-02-06T14:29:42.713Z"
   },
   {
    "duration": 22,
    "start_time": "2024-02-06T14:29:43.180Z"
   },
   {
    "duration": 16,
    "start_time": "2024-02-06T14:29:43.204Z"
   },
   {
    "duration": 10,
    "start_time": "2024-02-06T14:29:43.222Z"
   },
   {
    "duration": 53,
    "start_time": "2024-02-06T14:29:43.233Z"
   },
   {
    "duration": 3,
    "start_time": "2024-02-06T14:29:43.287Z"
   },
   {
    "duration": 13,
    "start_time": "2024-02-06T14:29:43.291Z"
   },
   {
    "duration": 7,
    "start_time": "2024-02-06T14:29:43.306Z"
   },
   {
    "duration": 18,
    "start_time": "2024-02-06T14:29:43.315Z"
   },
   {
    "duration": 12,
    "start_time": "2024-02-06T14:29:43.336Z"
   },
   {
    "duration": 43,
    "start_time": "2024-02-06T14:29:43.349Z"
   },
   {
    "duration": 13,
    "start_time": "2024-02-06T14:29:43.395Z"
   },
   {
    "duration": 4,
    "start_time": "2024-02-06T14:29:43.409Z"
   },
   {
    "duration": 15,
    "start_time": "2024-02-06T14:29:43.415Z"
   },
   {
    "duration": 45,
    "start_time": "2024-02-06T14:29:43.432Z"
   },
   {
    "duration": 25,
    "start_time": "2024-02-06T14:29:43.479Z"
   },
   {
    "duration": 5,
    "start_time": "2024-02-06T14:29:43.506Z"
   },
   {
    "duration": 50,
    "start_time": "2024-02-06T14:29:43.513Z"
   },
   {
    "duration": 13,
    "start_time": "2024-02-06T14:29:43.565Z"
   },
   {
    "duration": 4,
    "start_time": "2024-02-06T14:29:43.580Z"
   },
   {
    "duration": 28,
    "start_time": "2024-02-06T14:29:43.586Z"
   },
   {
    "duration": 13,
    "start_time": "2024-02-06T14:29:43.616Z"
   },
   {
    "duration": 36,
    "start_time": "2024-02-06T14:29:43.630Z"
   },
   {
    "duration": 12,
    "start_time": "2024-02-06T14:29:43.667Z"
   },
   {
    "duration": 15,
    "start_time": "2024-02-06T14:29:43.680Z"
   },
   {
    "duration": 451,
    "start_time": "2024-02-06T14:30:52.485Z"
   },
   {
    "duration": 23,
    "start_time": "2024-02-06T14:30:52.938Z"
   },
   {
    "duration": 15,
    "start_time": "2024-02-06T14:30:52.963Z"
   },
   {
    "duration": 15,
    "start_time": "2024-02-06T14:30:52.980Z"
   },
   {
    "duration": 68,
    "start_time": "2024-02-06T14:30:52.996Z"
   },
   {
    "duration": 4,
    "start_time": "2024-02-06T14:30:53.066Z"
   },
   {
    "duration": 14,
    "start_time": "2024-02-06T14:30:53.071Z"
   },
   {
    "duration": 4,
    "start_time": "2024-02-06T14:30:53.087Z"
   },
   {
    "duration": 10,
    "start_time": "2024-02-06T14:30:53.092Z"
   },
   {
    "duration": 4,
    "start_time": "2024-02-06T14:30:53.104Z"
   },
   {
    "duration": 57,
    "start_time": "2024-02-06T14:30:53.109Z"
   },
   {
    "duration": 10,
    "start_time": "2024-02-06T14:30:53.168Z"
   },
   {
    "duration": 4,
    "start_time": "2024-02-06T14:30:53.179Z"
   },
   {
    "duration": 11,
    "start_time": "2024-02-06T14:30:53.184Z"
   },
   {
    "duration": 19,
    "start_time": "2024-02-06T14:30:53.197Z"
   },
   {
    "duration": 41,
    "start_time": "2024-02-06T14:30:53.218Z"
   },
   {
    "duration": 4,
    "start_time": "2024-02-06T14:30:53.260Z"
   },
   {
    "duration": 32,
    "start_time": "2024-02-06T14:30:53.265Z"
   },
   {
    "duration": 5,
    "start_time": "2024-02-06T14:30:53.298Z"
   },
   {
    "duration": 10,
    "start_time": "2024-02-06T14:30:53.304Z"
   },
   {
    "duration": 29,
    "start_time": "2024-02-06T14:30:53.315Z"
   },
   {
    "duration": 14,
    "start_time": "2024-02-06T14:30:53.358Z"
   },
   {
    "duration": 15,
    "start_time": "2024-02-06T14:30:53.373Z"
   },
   {
    "duration": 15,
    "start_time": "2024-02-06T14:30:53.389Z"
   },
   {
    "duration": 15,
    "start_time": "2024-02-06T14:30:53.405Z"
   },
   {
    "duration": 535,
    "start_time": "2024-02-06T14:30:59.155Z"
   },
   {
    "duration": 22,
    "start_time": "2024-02-06T14:30:59.692Z"
   },
   {
    "duration": 20,
    "start_time": "2024-02-06T14:30:59.717Z"
   },
   {
    "duration": 23,
    "start_time": "2024-02-06T14:30:59.739Z"
   },
   {
    "duration": 36,
    "start_time": "2024-02-06T14:30:59.764Z"
   },
   {
    "duration": 3,
    "start_time": "2024-02-06T14:30:59.801Z"
   },
   {
    "duration": 11,
    "start_time": "2024-02-06T14:30:59.806Z"
   },
   {
    "duration": 5,
    "start_time": "2024-02-06T14:30:59.819Z"
   },
   {
    "duration": 36,
    "start_time": "2024-02-06T14:30:59.826Z"
   },
   {
    "duration": 4,
    "start_time": "2024-02-06T14:30:59.865Z"
   },
   {
    "duration": 45,
    "start_time": "2024-02-06T14:30:59.871Z"
   },
   {
    "duration": 9,
    "start_time": "2024-02-06T14:30:59.918Z"
   },
   {
    "duration": 23,
    "start_time": "2024-02-06T14:30:59.929Z"
   },
   {
    "duration": 12,
    "start_time": "2024-02-06T14:30:59.954Z"
   },
   {
    "duration": 41,
    "start_time": "2024-02-06T14:30:59.967Z"
   },
   {
    "duration": 17,
    "start_time": "2024-02-06T14:31:00.009Z"
   },
   {
    "duration": 4,
    "start_time": "2024-02-06T14:31:00.028Z"
   },
   {
    "duration": 56,
    "start_time": "2024-02-06T14:31:00.034Z"
   },
   {
    "duration": 36,
    "start_time": "2024-02-06T14:31:00.092Z"
   },
   {
    "duration": 50,
    "start_time": "2024-02-06T14:31:00.129Z"
   },
   {
    "duration": 92,
    "start_time": "2024-02-06T14:31:00.180Z"
   },
   {
    "duration": 31,
    "start_time": "2024-02-06T14:31:00.273Z"
   },
   {
    "duration": 55,
    "start_time": "2024-02-06T14:31:00.306Z"
   },
   {
    "duration": 95,
    "start_time": "2024-02-06T14:31:00.362Z"
   },
   {
    "duration": 29,
    "start_time": "2024-02-06T14:31:00.459Z"
   },
   {
    "duration": 116,
    "start_time": "2024-02-07T08:16:32.707Z"
   },
   {
    "duration": 84,
    "start_time": "2024-02-07T08:16:51.557Z"
   },
   {
    "duration": 60,
    "start_time": "2024-02-07T08:17:05.003Z"
   },
   {
    "duration": 754,
    "start_time": "2024-02-07T08:17:21.114Z"
   },
   {
    "duration": 24,
    "start_time": "2024-02-07T08:17:21.870Z"
   },
   {
    "duration": 32,
    "start_time": "2024-02-07T08:17:21.895Z"
   },
   {
    "duration": 15,
    "start_time": "2024-02-07T08:17:21.930Z"
   },
   {
    "duration": 50,
    "start_time": "2024-02-07T08:17:21.947Z"
   },
   {
    "duration": 4,
    "start_time": "2024-02-07T08:17:21.999Z"
   },
   {
    "duration": 40,
    "start_time": "2024-02-07T08:17:22.005Z"
   },
   {
    "duration": 7,
    "start_time": "2024-02-07T08:17:22.047Z"
   },
   {
    "duration": 16,
    "start_time": "2024-02-07T08:17:22.055Z"
   },
   {
    "duration": 5,
    "start_time": "2024-02-07T08:17:22.074Z"
   },
   {
    "duration": 40,
    "start_time": "2024-02-07T08:17:22.081Z"
   },
   {
    "duration": 21,
    "start_time": "2024-02-07T08:17:22.123Z"
   },
   {
    "duration": 18,
    "start_time": "2024-02-07T08:17:22.146Z"
   },
   {
    "duration": 21,
    "start_time": "2024-02-07T08:17:22.166Z"
   },
   {
    "duration": 46,
    "start_time": "2024-02-07T08:17:22.189Z"
   },
   {
    "duration": 19,
    "start_time": "2024-02-07T08:17:22.237Z"
   },
   {
    "duration": 6,
    "start_time": "2024-02-07T08:17:22.258Z"
   },
   {
    "duration": 71,
    "start_time": "2024-02-07T08:17:22.266Z"
   },
   {
    "duration": 6,
    "start_time": "2024-02-07T08:17:22.339Z"
   },
   {
    "duration": 15,
    "start_time": "2024-02-07T08:17:22.346Z"
   },
   {
    "duration": 42,
    "start_time": "2024-02-07T08:17:22.362Z"
   },
   {
    "duration": 15,
    "start_time": "2024-02-07T08:17:22.406Z"
   },
   {
    "duration": 18,
    "start_time": "2024-02-07T08:17:22.433Z"
   },
   {
    "duration": 28,
    "start_time": "2024-02-07T08:17:22.452Z"
   },
   {
    "duration": 31,
    "start_time": "2024-02-07T08:17:22.481Z"
   },
   {
    "duration": 16,
    "start_time": "2024-02-07T08:28:26.785Z"
   },
   {
    "duration": 514,
    "start_time": "2024-02-07T08:44:06.503Z"
   },
   {
    "duration": 82,
    "start_time": "2024-02-07T08:44:19.785Z"
   },
   {
    "duration": 14,
    "start_time": "2024-02-07T08:44:35.395Z"
   },
   {
    "duration": 98,
    "start_time": "2024-02-07T08:45:06.411Z"
   },
   {
    "duration": 524,
    "start_time": "2024-02-07T08:45:16.290Z"
   },
   {
    "duration": 33,
    "start_time": "2024-02-07T08:45:16.816Z"
   },
   {
    "duration": 20,
    "start_time": "2024-02-07T08:45:16.851Z"
   },
   {
    "duration": 11,
    "start_time": "2024-02-07T08:45:16.873Z"
   },
   {
    "duration": 71,
    "start_time": "2024-02-07T08:45:16.885Z"
   },
   {
    "duration": 3,
    "start_time": "2024-02-07T08:45:16.957Z"
   },
   {
    "duration": 19,
    "start_time": "2024-02-07T08:45:16.962Z"
   },
   {
    "duration": 4,
    "start_time": "2024-02-07T08:45:16.983Z"
   },
   {
    "duration": 13,
    "start_time": "2024-02-07T08:45:16.989Z"
   },
   {
    "duration": 4,
    "start_time": "2024-02-07T08:45:17.005Z"
   },
   {
    "duration": 58,
    "start_time": "2024-02-07T08:45:17.011Z"
   },
   {
    "duration": 13,
    "start_time": "2024-02-07T08:45:17.071Z"
   },
   {
    "duration": 15,
    "start_time": "2024-02-07T08:45:17.086Z"
   },
   {
    "duration": 33,
    "start_time": "2024-02-07T08:45:17.103Z"
   },
   {
    "duration": 31,
    "start_time": "2024-02-07T08:45:17.138Z"
   },
   {
    "duration": 19,
    "start_time": "2024-02-07T08:45:17.170Z"
   },
   {
    "duration": 12,
    "start_time": "2024-02-07T08:45:17.191Z"
   },
   {
    "duration": 43,
    "start_time": "2024-02-07T08:45:17.205Z"
   },
   {
    "duration": 6,
    "start_time": "2024-02-07T08:45:17.249Z"
   },
   {
    "duration": 10,
    "start_time": "2024-02-07T08:45:17.257Z"
   },
   {
    "duration": 74,
    "start_time": "2024-02-07T08:45:17.268Z"
   },
   {
    "duration": 102,
    "start_time": "2024-02-07T08:45:17.343Z"
   },
   {
    "duration": 0,
    "start_time": "2024-02-07T08:45:17.446Z"
   },
   {
    "duration": 0,
    "start_time": "2024-02-07T08:45:17.447Z"
   },
   {
    "duration": 0,
    "start_time": "2024-02-07T08:45:17.449Z"
   },
   {
    "duration": 17,
    "start_time": "2024-02-07T08:46:01.134Z"
   },
   {
    "duration": 15,
    "start_time": "2024-02-07T08:46:43.254Z"
   },
   {
    "duration": 15,
    "start_time": "2024-02-07T08:46:57.853Z"
   },
   {
    "duration": 515,
    "start_time": "2024-02-07T08:47:08.580Z"
   },
   {
    "duration": 23,
    "start_time": "2024-02-07T08:47:09.097Z"
   },
   {
    "duration": 64,
    "start_time": "2024-02-07T08:47:09.122Z"
   },
   {
    "duration": 14,
    "start_time": "2024-02-07T08:47:09.188Z"
   },
   {
    "duration": 65,
    "start_time": "2024-02-07T08:47:09.204Z"
   },
   {
    "duration": 3,
    "start_time": "2024-02-07T08:47:09.271Z"
   },
   {
    "duration": 33,
    "start_time": "2024-02-07T08:47:09.276Z"
   },
   {
    "duration": 13,
    "start_time": "2024-02-07T08:47:09.311Z"
   },
   {
    "duration": 17,
    "start_time": "2024-02-07T08:47:09.327Z"
   },
   {
    "duration": 5,
    "start_time": "2024-02-07T08:47:09.347Z"
   },
   {
    "duration": 56,
    "start_time": "2024-02-07T08:47:09.354Z"
   },
   {
    "duration": 11,
    "start_time": "2024-02-07T08:47:09.412Z"
   },
   {
    "duration": 19,
    "start_time": "2024-02-07T08:47:09.425Z"
   },
   {
    "duration": 29,
    "start_time": "2024-02-07T08:47:09.445Z"
   },
   {
    "duration": 38,
    "start_time": "2024-02-07T08:47:09.475Z"
   },
   {
    "duration": 37,
    "start_time": "2024-02-07T08:47:09.515Z"
   },
   {
    "duration": 4,
    "start_time": "2024-02-07T08:47:09.555Z"
   },
   {
    "duration": 50,
    "start_time": "2024-02-07T08:47:09.561Z"
   },
   {
    "duration": 26,
    "start_time": "2024-02-07T08:47:09.613Z"
   },
   {
    "duration": 5,
    "start_time": "2024-02-07T08:47:09.641Z"
   },
   {
    "duration": 40,
    "start_time": "2024-02-07T08:47:09.648Z"
   },
   {
    "duration": 93,
    "start_time": "2024-02-07T08:47:09.690Z"
   },
   {
    "duration": 0,
    "start_time": "2024-02-07T08:47:09.785Z"
   },
   {
    "duration": 0,
    "start_time": "2024-02-07T08:47:09.787Z"
   },
   {
    "duration": 0,
    "start_time": "2024-02-07T08:47:09.789Z"
   },
   {
    "duration": 547,
    "start_time": "2024-02-07T08:47:19.821Z"
   },
   {
    "duration": 26,
    "start_time": "2024-02-07T08:47:20.372Z"
   },
   {
    "duration": 56,
    "start_time": "2024-02-07T08:47:20.399Z"
   },
   {
    "duration": 39,
    "start_time": "2024-02-07T08:47:20.457Z"
   },
   {
    "duration": 82,
    "start_time": "2024-02-07T08:47:20.498Z"
   },
   {
    "duration": 4,
    "start_time": "2024-02-07T08:47:20.582Z"
   },
   {
    "duration": 21,
    "start_time": "2024-02-07T08:47:20.588Z"
   },
   {
    "duration": 21,
    "start_time": "2024-02-07T08:47:20.612Z"
   },
   {
    "duration": 28,
    "start_time": "2024-02-07T08:47:20.636Z"
   },
   {
    "duration": 14,
    "start_time": "2024-02-07T08:47:20.668Z"
   },
   {
    "duration": 65,
    "start_time": "2024-02-07T08:47:20.683Z"
   },
   {
    "duration": 13,
    "start_time": "2024-02-07T08:47:20.750Z"
   },
   {
    "duration": 38,
    "start_time": "2024-02-07T08:47:20.764Z"
   },
   {
    "duration": 30,
    "start_time": "2024-02-07T08:47:20.804Z"
   },
   {
    "duration": 53,
    "start_time": "2024-02-07T08:47:20.836Z"
   },
   {
    "duration": 53,
    "start_time": "2024-02-07T08:47:20.891Z"
   },
   {
    "duration": 11,
    "start_time": "2024-02-07T08:47:20.946Z"
   },
   {
    "duration": 45,
    "start_time": "2024-02-07T08:47:20.959Z"
   },
   {
    "duration": 10,
    "start_time": "2024-02-07T08:47:21.006Z"
   },
   {
    "duration": 22,
    "start_time": "2024-02-07T08:47:21.018Z"
   },
   {
    "duration": 50,
    "start_time": "2024-02-07T08:47:21.041Z"
   },
   {
    "duration": 87,
    "start_time": "2024-02-07T08:47:21.093Z"
   },
   {
    "duration": 0,
    "start_time": "2024-02-07T08:47:21.182Z"
   },
   {
    "duration": 0,
    "start_time": "2024-02-07T08:47:21.183Z"
   },
   {
    "duration": 0,
    "start_time": "2024-02-07T08:47:21.184Z"
   },
   {
    "duration": 18,
    "start_time": "2024-02-07T08:47:23.749Z"
   },
   {
    "duration": 16,
    "start_time": "2024-02-07T08:47:26.446Z"
   },
   {
    "duration": 19,
    "start_time": "2024-02-07T08:47:29.310Z"
   },
   {
    "duration": 15,
    "start_time": "2024-02-07T08:50:26.786Z"
   },
   {
    "duration": 501,
    "start_time": "2024-02-07T08:50:34.237Z"
   },
   {
    "duration": 24,
    "start_time": "2024-02-07T08:50:34.740Z"
   },
   {
    "duration": 16,
    "start_time": "2024-02-07T08:50:34.766Z"
   },
   {
    "duration": 11,
    "start_time": "2024-02-07T08:50:34.785Z"
   },
   {
    "duration": 63,
    "start_time": "2024-02-07T08:50:34.798Z"
   },
   {
    "duration": 4,
    "start_time": "2024-02-07T08:50:34.863Z"
   },
   {
    "duration": 16,
    "start_time": "2024-02-07T08:50:34.869Z"
   },
   {
    "duration": 12,
    "start_time": "2024-02-07T08:50:34.888Z"
   },
   {
    "duration": 7,
    "start_time": "2024-02-07T08:50:34.924Z"
   },
   {
    "duration": 6,
    "start_time": "2024-02-07T08:50:34.933Z"
   },
   {
    "duration": 40,
    "start_time": "2024-02-07T08:50:34.940Z"
   },
   {
    "duration": 13,
    "start_time": "2024-02-07T08:50:34.982Z"
   },
   {
    "duration": 29,
    "start_time": "2024-02-07T08:50:34.996Z"
   },
   {
    "duration": 20,
    "start_time": "2024-02-07T08:50:35.027Z"
   },
   {
    "duration": 25,
    "start_time": "2024-02-07T08:50:35.049Z"
   },
   {
    "duration": 19,
    "start_time": "2024-02-07T08:50:35.076Z"
   },
   {
    "duration": 27,
    "start_time": "2024-02-07T08:50:35.097Z"
   },
   {
    "duration": 42,
    "start_time": "2024-02-07T08:50:35.127Z"
   },
   {
    "duration": 8,
    "start_time": "2024-02-07T08:50:35.172Z"
   },
   {
    "duration": 15,
    "start_time": "2024-02-07T08:50:35.182Z"
   },
   {
    "duration": 38,
    "start_time": "2024-02-07T08:50:35.199Z"
   },
   {
    "duration": 85,
    "start_time": "2024-02-07T08:50:35.239Z"
   },
   {
    "duration": 0,
    "start_time": "2024-02-07T08:50:35.326Z"
   },
   {
    "duration": 0,
    "start_time": "2024-02-07T08:50:35.327Z"
   },
   {
    "duration": 0,
    "start_time": "2024-02-07T08:50:35.328Z"
   },
   {
    "duration": 511,
    "start_time": "2024-02-07T08:51:48.512Z"
   },
   {
    "duration": 24,
    "start_time": "2024-02-07T08:51:49.025Z"
   },
   {
    "duration": 17,
    "start_time": "2024-02-07T08:51:49.051Z"
   },
   {
    "duration": 12,
    "start_time": "2024-02-07T08:51:49.071Z"
   },
   {
    "duration": 68,
    "start_time": "2024-02-07T08:51:49.085Z"
   },
   {
    "duration": 3,
    "start_time": "2024-02-07T08:51:49.155Z"
   },
   {
    "duration": 19,
    "start_time": "2024-02-07T08:51:49.160Z"
   },
   {
    "duration": 8,
    "start_time": "2024-02-07T08:51:49.181Z"
   },
   {
    "duration": 11,
    "start_time": "2024-02-07T08:51:49.191Z"
   },
   {
    "duration": 5,
    "start_time": "2024-02-07T08:51:49.205Z"
   },
   {
    "duration": 38,
    "start_time": "2024-02-07T08:51:49.222Z"
   },
   {
    "duration": 11,
    "start_time": "2024-02-07T08:51:49.262Z"
   },
   {
    "duration": 8,
    "start_time": "2024-02-07T08:51:49.274Z"
   },
   {
    "duration": 21,
    "start_time": "2024-02-07T08:51:49.283Z"
   },
   {
    "duration": 39,
    "start_time": "2024-02-07T08:51:49.306Z"
   },
   {
    "duration": 46,
    "start_time": "2024-02-07T08:51:49.347Z"
   },
   {
    "duration": 3,
    "start_time": "2024-02-07T08:51:49.395Z"
   },
   {
    "duration": 34,
    "start_time": "2024-02-07T08:51:49.400Z"
   },
   {
    "duration": 6,
    "start_time": "2024-02-07T08:51:49.436Z"
   },
   {
    "duration": 7,
    "start_time": "2024-02-07T08:51:49.443Z"
   },
   {
    "duration": 37,
    "start_time": "2024-02-07T08:51:49.452Z"
   },
   {
    "duration": 16,
    "start_time": "2024-02-07T08:51:49.490Z"
   },
   {
    "duration": 28,
    "start_time": "2024-02-07T08:51:49.507Z"
   },
   {
    "duration": 16,
    "start_time": "2024-02-07T08:51:49.536Z"
   },
   {
    "duration": 18,
    "start_time": "2024-02-07T08:51:49.553Z"
   },
   {
    "duration": 74,
    "start_time": "2024-02-07T08:51:56.748Z"
   },
   {
    "duration": 14,
    "start_time": "2024-02-07T08:52:06.420Z"
   },
   {
    "duration": 540,
    "start_time": "2024-02-07T08:55:19.573Z"
   },
   {
    "duration": 25,
    "start_time": "2024-02-07T08:55:20.115Z"
   },
   {
    "duration": 17,
    "start_time": "2024-02-07T08:55:20.142Z"
   },
   {
    "duration": 11,
    "start_time": "2024-02-07T08:55:20.161Z"
   },
   {
    "duration": 70,
    "start_time": "2024-02-07T08:55:20.174Z"
   },
   {
    "duration": 3,
    "start_time": "2024-02-07T08:55:20.246Z"
   },
   {
    "duration": 9,
    "start_time": "2024-02-07T08:55:20.251Z"
   },
   {
    "duration": 4,
    "start_time": "2024-02-07T08:55:20.262Z"
   },
   {
    "duration": 24,
    "start_time": "2024-02-07T08:55:20.268Z"
   },
   {
    "duration": 9,
    "start_time": "2024-02-07T08:55:20.294Z"
   },
   {
    "duration": 53,
    "start_time": "2024-02-07T08:55:20.305Z"
   },
   {
    "duration": 10,
    "start_time": "2024-02-07T08:55:20.360Z"
   },
   {
    "duration": 4,
    "start_time": "2024-02-07T08:55:20.372Z"
   },
   {
    "duration": 13,
    "start_time": "2024-02-07T08:55:20.378Z"
   },
   {
    "duration": 40,
    "start_time": "2024-02-07T08:55:20.393Z"
   },
   {
    "duration": 18,
    "start_time": "2024-02-07T08:55:20.434Z"
   },
   {
    "duration": 3,
    "start_time": "2024-02-07T08:55:20.454Z"
   },
   {
    "duration": 32,
    "start_time": "2024-02-07T08:55:20.459Z"
   },
   {
    "duration": 36,
    "start_time": "2024-02-07T08:55:20.492Z"
   },
   {
    "duration": 11,
    "start_time": "2024-02-07T08:55:20.530Z"
   },
   {
    "duration": 42,
    "start_time": "2024-02-07T08:55:20.543Z"
   },
   {
    "duration": 14,
    "start_time": "2024-02-07T08:55:20.586Z"
   },
   {
    "duration": 22,
    "start_time": "2024-02-07T08:55:20.602Z"
   },
   {
    "duration": 16,
    "start_time": "2024-02-07T08:55:20.625Z"
   },
   {
    "duration": 18,
    "start_time": "2024-02-07T08:55:20.642Z"
   },
   {
    "duration": 86,
    "start_time": "2024-02-07T08:57:10.932Z"
   },
   {
    "duration": 77,
    "start_time": "2024-02-07T08:57:25.708Z"
   },
   {
    "duration": 108,
    "start_time": "2024-02-07T08:57:29.132Z"
   },
   {
    "duration": 513,
    "start_time": "2024-02-07T08:57:44.345Z"
   },
   {
    "duration": 25,
    "start_time": "2024-02-07T08:57:44.861Z"
   },
   {
    "duration": 25,
    "start_time": "2024-02-07T08:57:44.888Z"
   },
   {
    "duration": 11,
    "start_time": "2024-02-07T08:57:44.924Z"
   },
   {
    "duration": 41,
    "start_time": "2024-02-07T08:57:44.937Z"
   },
   {
    "duration": 3,
    "start_time": "2024-02-07T08:57:44.980Z"
   },
   {
    "duration": 58,
    "start_time": "2024-02-07T08:57:44.984Z"
   },
   {
    "duration": 30,
    "start_time": "2024-02-07T08:57:45.044Z"
   },
   {
    "duration": 35,
    "start_time": "2024-02-07T08:57:45.076Z"
   },
   {
    "duration": 60,
    "start_time": "2024-02-07T08:57:45.114Z"
   },
   {
    "duration": 42,
    "start_time": "2024-02-07T08:57:45.176Z"
   },
   {
    "duration": 11,
    "start_time": "2024-02-07T08:57:45.219Z"
   },
   {
    "duration": 27,
    "start_time": "2024-02-07T08:57:45.231Z"
   },
   {
    "duration": 50,
    "start_time": "2024-02-07T08:57:45.260Z"
   },
   {
    "duration": 42,
    "start_time": "2024-02-07T08:57:45.313Z"
   },
   {
    "duration": 19,
    "start_time": "2024-02-07T08:57:45.356Z"
   },
   {
    "duration": 26,
    "start_time": "2024-02-07T08:57:45.377Z"
   },
   {
    "duration": 75,
    "start_time": "2024-02-07T08:57:45.405Z"
   },
   {
    "duration": 9,
    "start_time": "2024-02-07T08:57:45.482Z"
   },
   {
    "duration": 9,
    "start_time": "2024-02-07T08:57:45.493Z"
   },
   {
    "duration": 40,
    "start_time": "2024-02-07T08:57:45.504Z"
   },
   {
    "duration": 20,
    "start_time": "2024-02-07T08:57:45.546Z"
   },
   {
    "duration": 50,
    "start_time": "2024-02-07T08:57:45.569Z"
   },
   {
    "duration": 17,
    "start_time": "2024-02-07T08:57:45.620Z"
   },
   {
    "duration": 25,
    "start_time": "2024-02-07T08:57:45.638Z"
   },
   {
    "duration": 80,
    "start_time": "2024-02-07T09:02:21.402Z"
   },
   {
    "duration": 20,
    "start_time": "2024-02-07T09:02:33.819Z"
   },
   {
    "duration": 431,
    "start_time": "2024-02-07T09:02:56.891Z"
   },
   {
    "duration": 18,
    "start_time": "2024-02-07T09:03:03.627Z"
   },
   {
    "duration": 16,
    "start_time": "2024-02-07T09:03:21.868Z"
   },
   {
    "duration": 505,
    "start_time": "2024-02-07T09:08:25.516Z"
   },
   {
    "duration": 23,
    "start_time": "2024-02-07T09:08:26.023Z"
   },
   {
    "duration": 16,
    "start_time": "2024-02-07T09:08:26.048Z"
   },
   {
    "duration": 11,
    "start_time": "2024-02-07T09:08:26.066Z"
   },
   {
    "duration": 63,
    "start_time": "2024-02-07T09:08:26.078Z"
   },
   {
    "duration": 4,
    "start_time": "2024-02-07T09:08:26.142Z"
   },
   {
    "duration": 9,
    "start_time": "2024-02-07T09:08:26.147Z"
   },
   {
    "duration": 4,
    "start_time": "2024-02-07T09:08:26.158Z"
   },
   {
    "duration": 14,
    "start_time": "2024-02-07T09:08:26.163Z"
   },
   {
    "duration": 4,
    "start_time": "2024-02-07T09:08:26.180Z"
   },
   {
    "duration": 64,
    "start_time": "2024-02-07T09:08:26.186Z"
   },
   {
    "duration": 10,
    "start_time": "2024-02-07T09:08:26.252Z"
   },
   {
    "duration": 4,
    "start_time": "2024-02-07T09:08:26.264Z"
   },
   {
    "duration": 13,
    "start_time": "2024-02-07T09:08:26.270Z"
   },
   {
    "duration": 38,
    "start_time": "2024-02-07T09:08:26.285Z"
   },
   {
    "duration": 17,
    "start_time": "2024-02-07T09:08:26.325Z"
   },
   {
    "duration": 3,
    "start_time": "2024-02-07T09:08:26.344Z"
   },
   {
    "duration": 35,
    "start_time": "2024-02-07T09:08:26.349Z"
   },
   {
    "duration": 5,
    "start_time": "2024-02-07T09:08:26.386Z"
   },
   {
    "duration": 4,
    "start_time": "2024-02-07T09:08:26.393Z"
   },
   {
    "duration": 45,
    "start_time": "2024-02-07T09:08:26.399Z"
   },
   {
    "duration": 34,
    "start_time": "2024-02-07T09:08:26.445Z"
   },
   {
    "duration": 28,
    "start_time": "2024-02-07T09:08:26.481Z"
   },
   {
    "duration": 18,
    "start_time": "2024-02-07T09:08:26.511Z"
   },
   {
    "duration": 18,
    "start_time": "2024-02-07T09:08:26.531Z"
   },
   {
    "duration": 88,
    "start_time": "2024-02-07T09:11:06.237Z"
   },
   {
    "duration": 15,
    "start_time": "2024-02-07T09:11:14.982Z"
   },
   {
    "duration": 19,
    "start_time": "2024-02-07T09:11:30.678Z"
   },
   {
    "duration": 16,
    "start_time": "2024-02-07T09:12:13.215Z"
   },
   {
    "duration": 18,
    "start_time": "2024-02-07T09:12:49.072Z"
   },
   {
    "duration": 503,
    "start_time": "2024-02-07T09:20:46.335Z"
   },
   {
    "duration": 22,
    "start_time": "2024-02-07T09:20:46.840Z"
   },
   {
    "duration": 19,
    "start_time": "2024-02-07T09:20:46.864Z"
   },
   {
    "duration": 22,
    "start_time": "2024-02-07T09:20:46.886Z"
   },
   {
    "duration": 81,
    "start_time": "2024-02-07T09:20:46.910Z"
   },
   {
    "duration": 4,
    "start_time": "2024-02-07T09:20:46.992Z"
   },
   {
    "duration": 47,
    "start_time": "2024-02-07T09:20:46.997Z"
   },
   {
    "duration": 15,
    "start_time": "2024-02-07T09:20:47.045Z"
   },
   {
    "duration": 36,
    "start_time": "2024-02-07T09:20:47.061Z"
   },
   {
    "duration": 90,
    "start_time": "2024-02-07T09:20:47.100Z"
   },
   {
    "duration": 62,
    "start_time": "2024-02-07T09:20:47.193Z"
   },
   {
    "duration": 15,
    "start_time": "2024-02-07T09:20:47.259Z"
   },
   {
    "duration": 11,
    "start_time": "2024-02-07T09:20:47.276Z"
   },
   {
    "duration": 48,
    "start_time": "2024-02-07T09:20:47.289Z"
   },
   {
    "duration": 34,
    "start_time": "2024-02-07T09:20:47.339Z"
   },
   {
    "duration": 45,
    "start_time": "2024-02-07T09:20:47.375Z"
   },
   {
    "duration": 8,
    "start_time": "2024-02-07T09:20:47.421Z"
   },
   {
    "duration": 80,
    "start_time": "2024-02-07T09:20:47.431Z"
   },
   {
    "duration": 19,
    "start_time": "2024-02-07T09:20:47.512Z"
   },
   {
    "duration": 30,
    "start_time": "2024-02-07T09:20:47.533Z"
   },
   {
    "duration": 45,
    "start_time": "2024-02-07T09:20:47.564Z"
   },
   {
    "duration": 24,
    "start_time": "2024-02-07T09:20:47.611Z"
   },
   {
    "duration": 43,
    "start_time": "2024-02-07T09:20:47.637Z"
   },
   {
    "duration": 30,
    "start_time": "2024-02-07T09:20:47.682Z"
   },
   {
    "duration": 34,
    "start_time": "2024-02-07T09:20:47.713Z"
   },
   {
    "duration": 574,
    "start_time": "2024-02-07T11:30:27.569Z"
   },
   {
    "duration": 22,
    "start_time": "2024-02-07T11:30:28.145Z"
   },
   {
    "duration": 16,
    "start_time": "2024-02-07T11:30:28.169Z"
   },
   {
    "duration": 11,
    "start_time": "2024-02-07T11:30:28.187Z"
   },
   {
    "duration": 49,
    "start_time": "2024-02-07T11:30:28.199Z"
   },
   {
    "duration": 3,
    "start_time": "2024-02-07T11:30:28.250Z"
   },
   {
    "duration": 11,
    "start_time": "2024-02-07T11:30:28.255Z"
   },
   {
    "duration": 4,
    "start_time": "2024-02-07T11:30:28.268Z"
   },
   {
    "duration": 22,
    "start_time": "2024-02-07T11:30:28.273Z"
   },
   {
    "duration": 4,
    "start_time": "2024-02-07T11:30:28.298Z"
   },
   {
    "duration": 47,
    "start_time": "2024-02-07T11:30:28.304Z"
   },
   {
    "duration": 40,
    "start_time": "2024-02-07T11:30:28.352Z"
   },
   {
    "duration": 4,
    "start_time": "2024-02-07T11:30:28.393Z"
   },
   {
    "duration": 15,
    "start_time": "2024-02-07T11:30:28.399Z"
   },
   {
    "duration": 25,
    "start_time": "2024-02-07T11:30:28.415Z"
   },
   {
    "duration": 18,
    "start_time": "2024-02-07T11:30:28.442Z"
   },
   {
    "duration": 26,
    "start_time": "2024-02-07T11:30:28.461Z"
   },
   {
    "duration": 31,
    "start_time": "2024-02-07T11:30:28.489Z"
   },
   {
    "duration": 6,
    "start_time": "2024-02-07T11:30:28.522Z"
   },
   {
    "duration": 4,
    "start_time": "2024-02-07T11:30:28.529Z"
   },
   {
    "duration": 54,
    "start_time": "2024-02-07T11:30:28.534Z"
   },
   {
    "duration": 15,
    "start_time": "2024-02-07T11:30:28.590Z"
   },
   {
    "duration": 18,
    "start_time": "2024-02-07T11:30:28.607Z"
   },
   {
    "duration": 17,
    "start_time": "2024-02-07T11:30:28.627Z"
   },
   {
    "duration": 51,
    "start_time": "2024-02-07T11:30:28.645Z"
   },
   {
    "duration": 444,
    "start_time": "2024-02-07T12:35:33.735Z"
   },
   {
    "duration": 22,
    "start_time": "2024-02-07T12:35:34.181Z"
   },
   {
    "duration": 15,
    "start_time": "2024-02-07T12:35:34.205Z"
   },
   {
    "duration": 19,
    "start_time": "2024-02-07T12:35:34.223Z"
   },
   {
    "duration": 51,
    "start_time": "2024-02-07T12:35:34.244Z"
   },
   {
    "duration": 3,
    "start_time": "2024-02-07T12:35:34.297Z"
   },
   {
    "duration": 18,
    "start_time": "2024-02-07T12:35:34.302Z"
   },
   {
    "duration": 10,
    "start_time": "2024-02-07T12:35:34.322Z"
   },
   {
    "duration": 13,
    "start_time": "2024-02-07T12:35:34.333Z"
   },
   {
    "duration": 4,
    "start_time": "2024-02-07T12:35:34.349Z"
   },
   {
    "duration": 58,
    "start_time": "2024-02-07T12:35:34.357Z"
   },
   {
    "duration": 17,
    "start_time": "2024-02-07T12:35:34.417Z"
   },
   {
    "duration": 29,
    "start_time": "2024-02-07T12:35:34.436Z"
   },
   {
    "duration": 72,
    "start_time": "2024-02-07T12:35:34.467Z"
   },
   {
    "duration": 33,
    "start_time": "2024-02-07T12:35:34.540Z"
   },
   {
    "duration": 19,
    "start_time": "2024-02-07T12:35:34.575Z"
   },
   {
    "duration": 7,
    "start_time": "2024-02-07T12:35:34.595Z"
   },
   {
    "duration": 82,
    "start_time": "2024-02-07T12:35:34.604Z"
   },
   {
    "duration": 16,
    "start_time": "2024-02-07T12:35:34.688Z"
   },
   {
    "duration": 5,
    "start_time": "2024-02-07T12:35:34.705Z"
   },
   {
    "duration": 28,
    "start_time": "2024-02-07T12:35:34.712Z"
   },
   {
    "duration": 15,
    "start_time": "2024-02-07T12:35:34.743Z"
   },
   {
    "duration": 39,
    "start_time": "2024-02-07T12:35:34.759Z"
   },
   {
    "duration": 17,
    "start_time": "2024-02-07T12:35:34.800Z"
   },
   {
    "duration": 19,
    "start_time": "2024-02-07T12:35:34.819Z"
   },
   {
    "duration": 75,
    "start_time": "2024-02-07T12:36:41.931Z"
   },
   {
    "duration": 86,
    "start_time": "2024-02-07T12:36:45.624Z"
   },
   {
    "duration": 84,
    "start_time": "2024-02-07T12:36:52.489Z"
   },
   {
    "duration": 81,
    "start_time": "2024-02-07T12:37:25.233Z"
   },
   {
    "duration": 104,
    "start_time": "2024-02-07T12:38:12.642Z"
   },
   {
    "duration": 516,
    "start_time": "2024-02-07T12:38:17.748Z"
   },
   {
    "duration": 24,
    "start_time": "2024-02-07T12:38:18.265Z"
   },
   {
    "duration": 17,
    "start_time": "2024-02-07T12:38:18.290Z"
   },
   {
    "duration": 12,
    "start_time": "2024-02-07T12:38:18.309Z"
   },
   {
    "duration": 37,
    "start_time": "2024-02-07T12:38:18.322Z"
   },
   {
    "duration": 3,
    "start_time": "2024-02-07T12:38:18.361Z"
   },
   {
    "duration": 10,
    "start_time": "2024-02-07T12:38:18.388Z"
   },
   {
    "duration": 4,
    "start_time": "2024-02-07T12:38:18.399Z"
   },
   {
    "duration": 11,
    "start_time": "2024-02-07T12:38:18.405Z"
   },
   {
    "duration": 5,
    "start_time": "2024-02-07T12:38:18.418Z"
   },
   {
    "duration": 63,
    "start_time": "2024-02-07T12:38:18.424Z"
   },
   {
    "duration": 11,
    "start_time": "2024-02-07T12:38:18.489Z"
   },
   {
    "duration": 4,
    "start_time": "2024-02-07T12:38:18.501Z"
   },
   {
    "duration": 18,
    "start_time": "2024-02-07T12:38:18.507Z"
   },
   {
    "duration": 20,
    "start_time": "2024-02-07T12:38:18.526Z"
   },
   {
    "duration": 39,
    "start_time": "2024-02-07T12:38:18.548Z"
   },
   {
    "duration": 3,
    "start_time": "2024-02-07T12:38:18.589Z"
   },
   {
    "duration": 31,
    "start_time": "2024-02-07T12:38:18.594Z"
   },
   {
    "duration": 5,
    "start_time": "2024-02-07T12:38:18.627Z"
   },
   {
    "duration": 7,
    "start_time": "2024-02-07T12:38:18.633Z"
   },
   {
    "duration": 26,
    "start_time": "2024-02-07T12:38:18.641Z"
   },
   {
    "duration": 14,
    "start_time": "2024-02-07T12:38:18.688Z"
   },
   {
    "duration": 80,
    "start_time": "2024-02-07T12:38:18.703Z"
   },
   {
    "duration": 0,
    "start_time": "2024-02-07T12:38:18.785Z"
   },
   {
    "duration": 0,
    "start_time": "2024-02-07T12:38:18.786Z"
   },
   {
    "duration": 0,
    "start_time": "2024-02-07T12:38:18.787Z"
   },
   {
    "duration": 93,
    "start_time": "2024-02-07T12:39:07.227Z"
   },
   {
    "duration": 93,
    "start_time": "2024-02-07T12:39:20.964Z"
   },
   {
    "duration": 76,
    "start_time": "2024-02-07T12:39:24.456Z"
   },
   {
    "duration": 500,
    "start_time": "2024-02-07T12:39:44.573Z"
   },
   {
    "duration": 25,
    "start_time": "2024-02-07T12:39:45.075Z"
   },
   {
    "duration": 52,
    "start_time": "2024-02-07T12:39:45.101Z"
   },
   {
    "duration": 25,
    "start_time": "2024-02-07T12:39:45.155Z"
   },
   {
    "duration": 67,
    "start_time": "2024-02-07T12:39:45.182Z"
   },
   {
    "duration": 4,
    "start_time": "2024-02-07T12:39:45.251Z"
   },
   {
    "duration": 15,
    "start_time": "2024-02-07T12:39:45.257Z"
   },
   {
    "duration": 7,
    "start_time": "2024-02-07T12:39:45.275Z"
   },
   {
    "duration": 9,
    "start_time": "2024-02-07T12:39:45.284Z"
   },
   {
    "duration": 13,
    "start_time": "2024-02-07T12:39:45.296Z"
   },
   {
    "duration": 43,
    "start_time": "2024-02-07T12:39:45.310Z"
   },
   {
    "duration": 10,
    "start_time": "2024-02-07T12:39:45.355Z"
   },
   {
    "duration": 8,
    "start_time": "2024-02-07T12:39:45.367Z"
   },
   {
    "duration": 35,
    "start_time": "2024-02-07T12:39:45.376Z"
   },
   {
    "duration": 38,
    "start_time": "2024-02-07T12:39:45.413Z"
   },
   {
    "duration": 17,
    "start_time": "2024-02-07T12:39:45.453Z"
   },
   {
    "duration": 4,
    "start_time": "2024-02-07T12:39:45.472Z"
   },
   {
    "duration": 33,
    "start_time": "2024-02-07T12:39:45.477Z"
   },
   {
    "duration": 14,
    "start_time": "2024-02-07T12:39:45.512Z"
   },
   {
    "duration": 4,
    "start_time": "2024-02-07T12:39:45.527Z"
   },
   {
    "duration": 29,
    "start_time": "2024-02-07T12:39:45.532Z"
   },
   {
    "duration": 37,
    "start_time": "2024-02-07T12:39:45.563Z"
   },
   {
    "duration": 19,
    "start_time": "2024-02-07T12:39:45.602Z"
   },
   {
    "duration": 21,
    "start_time": "2024-02-07T12:39:45.622Z"
   },
   {
    "duration": 44,
    "start_time": "2024-02-07T12:39:45.644Z"
   },
   {
    "duration": 515,
    "start_time": "2024-02-07T12:42:05.580Z"
   },
   {
    "duration": 21,
    "start_time": "2024-02-07T12:42:06.097Z"
   },
   {
    "duration": 15,
    "start_time": "2024-02-07T12:42:06.120Z"
   },
   {
    "duration": 10,
    "start_time": "2024-02-07T12:42:06.137Z"
   },
   {
    "duration": 55,
    "start_time": "2024-02-07T12:42:06.149Z"
   },
   {
    "duration": 3,
    "start_time": "2024-02-07T12:42:06.205Z"
   },
   {
    "duration": 7,
    "start_time": "2024-02-07T12:42:06.210Z"
   },
   {
    "duration": 3,
    "start_time": "2024-02-07T12:42:06.219Z"
   },
   {
    "duration": 6,
    "start_time": "2024-02-07T12:42:06.224Z"
   },
   {
    "duration": 5,
    "start_time": "2024-02-07T12:42:06.232Z"
   },
   {
    "duration": 64,
    "start_time": "2024-02-07T12:42:06.238Z"
   },
   {
    "duration": 10,
    "start_time": "2024-02-07T12:42:06.303Z"
   },
   {
    "duration": 5,
    "start_time": "2024-02-07T12:42:06.314Z"
   },
   {
    "duration": 16,
    "start_time": "2024-02-07T12:42:06.320Z"
   },
   {
    "duration": 26,
    "start_time": "2024-02-07T12:42:06.337Z"
   },
   {
    "duration": 29,
    "start_time": "2024-02-07T12:42:06.364Z"
   },
   {
    "duration": 3,
    "start_time": "2024-02-07T12:42:06.394Z"
   },
   {
    "duration": 44,
    "start_time": "2024-02-07T12:42:06.398Z"
   },
   {
    "duration": 12,
    "start_time": "2024-02-07T12:42:06.443Z"
   },
   {
    "duration": 6,
    "start_time": "2024-02-07T12:42:06.456Z"
   },
   {
    "duration": 28,
    "start_time": "2024-02-07T12:42:06.463Z"
   },
   {
    "duration": 14,
    "start_time": "2024-02-07T12:42:06.492Z"
   },
   {
    "duration": 23,
    "start_time": "2024-02-07T12:42:06.508Z"
   },
   {
    "duration": 21,
    "start_time": "2024-02-07T12:42:06.533Z"
   },
   {
    "duration": 51,
    "start_time": "2024-02-07T12:42:06.556Z"
   },
   {
    "duration": 465,
    "start_time": "2024-02-07T12:46:35.720Z"
   },
   {
    "duration": 23,
    "start_time": "2024-02-07T12:46:36.187Z"
   },
   {
    "duration": 16,
    "start_time": "2024-02-07T12:46:36.212Z"
   },
   {
    "duration": 10,
    "start_time": "2024-02-07T12:46:36.230Z"
   },
   {
    "duration": 65,
    "start_time": "2024-02-07T12:46:36.243Z"
   },
   {
    "duration": 4,
    "start_time": "2024-02-07T12:46:36.309Z"
   },
   {
    "duration": 11,
    "start_time": "2024-02-07T12:46:36.314Z"
   },
   {
    "duration": 4,
    "start_time": "2024-02-07T12:46:36.327Z"
   },
   {
    "duration": 8,
    "start_time": "2024-02-07T12:46:36.333Z"
   },
   {
    "duration": 4,
    "start_time": "2024-02-07T12:46:36.343Z"
   },
   {
    "duration": 65,
    "start_time": "2024-02-07T12:46:36.348Z"
   },
   {
    "duration": 11,
    "start_time": "2024-02-07T12:46:36.415Z"
   },
   {
    "duration": 3,
    "start_time": "2024-02-07T12:46:36.428Z"
   },
   {
    "duration": 18,
    "start_time": "2024-02-07T12:46:36.434Z"
   },
   {
    "duration": 37,
    "start_time": "2024-02-07T12:46:36.453Z"
   },
   {
    "duration": 18,
    "start_time": "2024-02-07T12:46:36.491Z"
   },
   {
    "duration": 4,
    "start_time": "2024-02-07T12:46:36.511Z"
   },
   {
    "duration": 31,
    "start_time": "2024-02-07T12:46:36.517Z"
   },
   {
    "duration": 7,
    "start_time": "2024-02-07T12:46:36.550Z"
   },
   {
    "duration": 31,
    "start_time": "2024-02-07T12:46:36.558Z"
   },
   {
    "duration": 31,
    "start_time": "2024-02-07T12:46:36.590Z"
   },
   {
    "duration": 14,
    "start_time": "2024-02-07T12:46:36.622Z"
   },
   {
    "duration": 18,
    "start_time": "2024-02-07T12:46:36.638Z"
   },
   {
    "duration": 41,
    "start_time": "2024-02-07T12:46:36.657Z"
   },
   {
    "duration": 18,
    "start_time": "2024-02-07T12:46:36.699Z"
   },
   {
    "duration": 67,
    "start_time": "2024-02-07T13:16:09.720Z"
   },
   {
    "duration": 8,
    "start_time": "2024-02-07T13:16:22.256Z"
   },
   {
    "duration": 15,
    "start_time": "2024-02-07T13:16:41.073Z"
   },
   {
    "duration": 84,
    "start_time": "2024-02-07T13:21:16.869Z"
   },
   {
    "duration": 88,
    "start_time": "2024-02-07T13:21:25.568Z"
   },
   {
    "duration": 101,
    "start_time": "2024-02-07T13:23:16.315Z"
   },
   {
    "duration": 526,
    "start_time": "2024-02-07T13:25:58.596Z"
   },
   {
    "duration": 23,
    "start_time": "2024-02-07T13:25:59.124Z"
   },
   {
    "duration": 18,
    "start_time": "2024-02-07T13:25:59.149Z"
   },
   {
    "duration": 24,
    "start_time": "2024-02-07T13:25:59.169Z"
   },
   {
    "duration": 50,
    "start_time": "2024-02-07T13:25:59.195Z"
   },
   {
    "duration": 4,
    "start_time": "2024-02-07T13:25:59.246Z"
   },
   {
    "duration": 13,
    "start_time": "2024-02-07T13:25:59.251Z"
   },
   {
    "duration": 22,
    "start_time": "2024-02-07T13:25:59.266Z"
   },
   {
    "duration": 11,
    "start_time": "2024-02-07T13:25:59.290Z"
   },
   {
    "duration": 9,
    "start_time": "2024-02-07T13:25:59.303Z"
   },
   {
    "duration": 39,
    "start_time": "2024-02-07T13:25:59.313Z"
   },
   {
    "duration": 43,
    "start_time": "2024-02-07T13:25:59.354Z"
   },
   {
    "duration": 4,
    "start_time": "2024-02-07T13:25:59.399Z"
   },
   {
    "duration": 17,
    "start_time": "2024-02-07T13:25:59.405Z"
   },
   {
    "duration": 22,
    "start_time": "2024-02-07T13:25:59.424Z"
   },
   {
    "duration": 18,
    "start_time": "2024-02-07T13:25:59.447Z"
   },
   {
    "duration": 21,
    "start_time": "2024-02-07T13:25:59.467Z"
   },
   {
    "duration": 30,
    "start_time": "2024-02-07T13:25:59.489Z"
   },
   {
    "duration": 6,
    "start_time": "2024-02-07T13:25:59.520Z"
   },
   {
    "duration": 16,
    "start_time": "2024-02-07T13:25:59.527Z"
   },
   {
    "duration": 50,
    "start_time": "2024-02-07T13:25:59.545Z"
   },
   {
    "duration": 15,
    "start_time": "2024-02-07T13:25:59.596Z"
   },
   {
    "duration": 17,
    "start_time": "2024-02-07T13:25:59.613Z"
   },
   {
    "duration": 16,
    "start_time": "2024-02-07T13:25:59.631Z"
   },
   {
    "duration": 54,
    "start_time": "2024-02-07T13:25:59.649Z"
   },
   {
    "duration": 15,
    "start_time": "2024-02-07T13:27:01.874Z"
   },
   {
    "duration": 514,
    "start_time": "2024-02-07T13:27:12.454Z"
   },
   {
    "duration": 23,
    "start_time": "2024-02-07T13:27:12.970Z"
   },
   {
    "duration": 17,
    "start_time": "2024-02-07T13:27:12.997Z"
   },
   {
    "duration": 11,
    "start_time": "2024-02-07T13:27:13.015Z"
   },
   {
    "duration": 38,
    "start_time": "2024-02-07T13:27:13.028Z"
   },
   {
    "duration": 21,
    "start_time": "2024-02-07T13:27:13.067Z"
   },
   {
    "duration": 8,
    "start_time": "2024-02-07T13:27:13.089Z"
   },
   {
    "duration": 4,
    "start_time": "2024-02-07T13:27:13.099Z"
   },
   {
    "duration": 12,
    "start_time": "2024-02-07T13:27:13.105Z"
   },
   {
    "duration": 9,
    "start_time": "2024-02-07T13:27:13.118Z"
   },
   {
    "duration": 68,
    "start_time": "2024-02-07T13:27:13.128Z"
   },
   {
    "duration": 16,
    "start_time": "2024-02-07T13:27:13.198Z"
   },
   {
    "duration": 8,
    "start_time": "2024-02-07T13:27:13.216Z"
   },
   {
    "duration": 21,
    "start_time": "2024-02-07T13:27:13.226Z"
   },
   {
    "duration": 46,
    "start_time": "2024-02-07T13:27:13.250Z"
   },
   {
    "duration": 18,
    "start_time": "2024-02-07T13:27:13.298Z"
   },
   {
    "duration": 4,
    "start_time": "2024-02-07T13:27:13.318Z"
   },
   {
    "duration": 36,
    "start_time": "2024-02-07T13:27:13.323Z"
   },
   {
    "duration": 28,
    "start_time": "2024-02-07T13:27:13.360Z"
   },
   {
    "duration": 10,
    "start_time": "2024-02-07T13:27:13.390Z"
   },
   {
    "duration": 38,
    "start_time": "2024-02-07T13:27:13.402Z"
   },
   {
    "duration": 25,
    "start_time": "2024-02-07T13:27:13.442Z"
   },
   {
    "duration": 20,
    "start_time": "2024-02-07T13:27:13.468Z"
   },
   {
    "duration": 16,
    "start_time": "2024-02-07T13:27:13.489Z"
   },
   {
    "duration": 24,
    "start_time": "2024-02-07T13:27:13.507Z"
   },
   {
    "duration": 15,
    "start_time": "2024-02-07T13:27:28.033Z"
   },
   {
    "duration": 15,
    "start_time": "2024-02-07T13:27:59.450Z"
   },
   {
    "duration": 67,
    "start_time": "2024-02-07T13:28:40.154Z"
   },
   {
    "duration": 8,
    "start_time": "2024-02-07T13:29:06.316Z"
   },
   {
    "duration": 22,
    "start_time": "2024-02-07T13:32:18.408Z"
   },
   {
    "duration": 28,
    "start_time": "2024-02-07T13:32:34.113Z"
   },
   {
    "duration": 487,
    "start_time": "2024-02-07T13:32:54.319Z"
   },
   {
    "duration": 23,
    "start_time": "2024-02-07T13:32:54.808Z"
   },
   {
    "duration": 17,
    "start_time": "2024-02-07T13:32:54.832Z"
   },
   {
    "duration": 12,
    "start_time": "2024-02-07T13:32:54.851Z"
   },
   {
    "duration": 59,
    "start_time": "2024-02-07T13:32:54.865Z"
   },
   {
    "duration": 3,
    "start_time": "2024-02-07T13:32:54.925Z"
   },
   {
    "duration": 9,
    "start_time": "2024-02-07T13:32:54.930Z"
   },
   {
    "duration": 4,
    "start_time": "2024-02-07T13:32:54.941Z"
   },
   {
    "duration": 9,
    "start_time": "2024-02-07T13:32:54.948Z"
   },
   {
    "duration": 7,
    "start_time": "2024-02-07T13:32:54.987Z"
   },
   {
    "duration": 39,
    "start_time": "2024-02-07T13:32:54.996Z"
   },
   {
    "duration": 13,
    "start_time": "2024-02-07T13:32:55.037Z"
   },
   {
    "duration": 4,
    "start_time": "2024-02-07T13:32:55.052Z"
   },
   {
    "duration": 14,
    "start_time": "2024-02-07T13:32:55.087Z"
   },
   {
    "duration": 22,
    "start_time": "2024-02-07T13:32:55.103Z"
   },
   {
    "duration": 18,
    "start_time": "2024-02-07T13:32:55.127Z"
   },
   {
    "duration": 3,
    "start_time": "2024-02-07T13:32:55.147Z"
   },
   {
    "duration": 60,
    "start_time": "2024-02-07T13:32:55.152Z"
   },
   {
    "duration": 7,
    "start_time": "2024-02-07T13:32:55.214Z"
   },
   {
    "duration": 13,
    "start_time": "2024-02-07T13:32:55.224Z"
   },
   {
    "duration": 49,
    "start_time": "2024-02-07T13:32:55.239Z"
   },
   {
    "duration": 15,
    "start_time": "2024-02-07T13:32:55.290Z"
   },
   {
    "duration": 30,
    "start_time": "2024-02-07T13:32:55.307Z"
   },
   {
    "duration": 17,
    "start_time": "2024-02-07T13:32:55.339Z"
   },
   {
    "duration": 42,
    "start_time": "2024-02-07T13:32:55.358Z"
   },
   {
    "duration": 19,
    "start_time": "2024-02-07T13:32:55.402Z"
   },
   {
    "duration": 513,
    "start_time": "2024-02-07T13:38:30.252Z"
   },
   {
    "duration": 25,
    "start_time": "2024-02-07T13:38:30.767Z"
   },
   {
    "duration": 70,
    "start_time": "2024-02-07T13:38:30.793Z"
   },
   {
    "duration": 59,
    "start_time": "2024-02-07T13:38:30.865Z"
   },
   {
    "duration": 99,
    "start_time": "2024-02-07T13:38:30.926Z"
   },
   {
    "duration": 9,
    "start_time": "2024-02-07T13:38:31.027Z"
   },
   {
    "duration": 30,
    "start_time": "2024-02-07T13:38:31.037Z"
   },
   {
    "duration": 24,
    "start_time": "2024-02-07T13:38:31.069Z"
   },
   {
    "duration": 38,
    "start_time": "2024-02-07T13:38:31.095Z"
   },
   {
    "duration": 41,
    "start_time": "2024-02-07T13:38:31.136Z"
   },
   {
    "duration": 63,
    "start_time": "2024-02-07T13:38:31.178Z"
   },
   {
    "duration": 12,
    "start_time": "2024-02-07T13:38:31.243Z"
   },
   {
    "duration": 36,
    "start_time": "2024-02-07T13:38:31.256Z"
   },
   {
    "duration": 46,
    "start_time": "2024-02-07T13:38:31.294Z"
   },
   {
    "duration": 76,
    "start_time": "2024-02-07T13:38:31.342Z"
   },
   {
    "duration": 32,
    "start_time": "2024-02-07T13:38:31.420Z"
   },
   {
    "duration": 40,
    "start_time": "2024-02-07T13:38:31.454Z"
   },
   {
    "duration": 73,
    "start_time": "2024-02-07T13:38:31.496Z"
   },
   {
    "duration": 32,
    "start_time": "2024-02-07T13:38:31.570Z"
   },
   {
    "duration": 71,
    "start_time": "2024-02-07T13:38:31.604Z"
   },
   {
    "duration": 79,
    "start_time": "2024-02-07T13:38:31.677Z"
   },
   {
    "duration": 44,
    "start_time": "2024-02-07T13:38:31.758Z"
   },
   {
    "duration": 101,
    "start_time": "2024-02-07T13:38:31.804Z"
   },
   {
    "duration": 50,
    "start_time": "2024-02-07T13:38:31.907Z"
   },
   {
    "duration": 48,
    "start_time": "2024-02-07T13:38:31.959Z"
   },
   {
    "duration": 69,
    "start_time": "2024-02-07T13:38:32.009Z"
   },
   {
    "duration": 95,
    "start_time": "2024-02-07T13:54:12.500Z"
   },
   {
    "duration": 465,
    "start_time": "2024-02-07T14:23:42.710Z"
   },
   {
    "duration": 22,
    "start_time": "2024-02-07T14:23:43.177Z"
   },
   {
    "duration": 24,
    "start_time": "2024-02-07T14:23:43.200Z"
   },
   {
    "duration": 11,
    "start_time": "2024-02-07T14:23:43.226Z"
   },
   {
    "duration": 51,
    "start_time": "2024-02-07T14:23:43.239Z"
   },
   {
    "duration": 3,
    "start_time": "2024-02-07T14:23:43.292Z"
   },
   {
    "duration": 9,
    "start_time": "2024-02-07T14:23:43.296Z"
   },
   {
    "duration": 3,
    "start_time": "2024-02-07T14:23:43.307Z"
   },
   {
    "duration": 7,
    "start_time": "2024-02-07T14:23:43.312Z"
   },
   {
    "duration": 4,
    "start_time": "2024-02-07T14:23:43.321Z"
   },
   {
    "duration": 73,
    "start_time": "2024-02-07T14:23:43.326Z"
   },
   {
    "duration": 10,
    "start_time": "2024-02-07T14:23:43.401Z"
   },
   {
    "duration": 4,
    "start_time": "2024-02-07T14:23:43.413Z"
   },
   {
    "duration": 22,
    "start_time": "2024-02-07T14:23:43.419Z"
   },
   {
    "duration": 19,
    "start_time": "2024-02-07T14:23:43.443Z"
   },
   {
    "duration": 34,
    "start_time": "2024-02-07T14:23:43.463Z"
   },
   {
    "duration": 3,
    "start_time": "2024-02-07T14:23:43.499Z"
   },
   {
    "duration": 27,
    "start_time": "2024-02-07T14:23:43.503Z"
   },
   {
    "duration": 5,
    "start_time": "2024-02-07T14:23:43.532Z"
   },
   {
    "duration": 13,
    "start_time": "2024-02-07T14:23:43.539Z"
   },
   {
    "duration": 53,
    "start_time": "2024-02-07T14:23:43.554Z"
   },
   {
    "duration": 14,
    "start_time": "2024-02-07T14:23:43.609Z"
   },
   {
    "duration": 30,
    "start_time": "2024-02-07T14:23:43.624Z"
   },
   {
    "duration": 42,
    "start_time": "2024-02-07T14:23:43.655Z"
   },
   {
    "duration": 17,
    "start_time": "2024-02-07T14:23:43.698Z"
   },
   {
    "duration": 17,
    "start_time": "2024-02-07T14:23:43.717Z"
   },
   {
    "duration": 459,
    "start_time": "2024-02-07T14:24:02.752Z"
   },
   {
    "duration": 21,
    "start_time": "2024-02-07T14:24:03.214Z"
   },
   {
    "duration": 18,
    "start_time": "2024-02-07T14:24:03.236Z"
   },
   {
    "duration": 11,
    "start_time": "2024-02-07T14:24:03.255Z"
   },
   {
    "duration": 51,
    "start_time": "2024-02-07T14:24:03.267Z"
   },
   {
    "duration": 3,
    "start_time": "2024-02-07T14:24:03.320Z"
   },
   {
    "duration": 22,
    "start_time": "2024-02-07T14:24:03.325Z"
   },
   {
    "duration": 4,
    "start_time": "2024-02-07T14:24:03.349Z"
   },
   {
    "duration": 14,
    "start_time": "2024-02-07T14:24:03.355Z"
   },
   {
    "duration": 17,
    "start_time": "2024-02-07T14:24:03.371Z"
   },
   {
    "duration": 45,
    "start_time": "2024-02-07T14:24:03.389Z"
   },
   {
    "duration": 9,
    "start_time": "2024-02-07T14:24:03.436Z"
   },
   {
    "duration": 5,
    "start_time": "2024-02-07T14:24:03.447Z"
   },
   {
    "duration": 25,
    "start_time": "2024-02-07T14:24:03.453Z"
   },
   {
    "duration": 19,
    "start_time": "2024-02-07T14:24:03.480Z"
   },
   {
    "duration": 17,
    "start_time": "2024-02-07T14:24:03.500Z"
   },
   {
    "duration": 4,
    "start_time": "2024-02-07T14:24:03.518Z"
   },
   {
    "duration": 28,
    "start_time": "2024-02-07T14:24:03.523Z"
   },
   {
    "duration": 36,
    "start_time": "2024-02-07T14:24:03.552Z"
   },
   {
    "duration": 7,
    "start_time": "2024-02-07T14:24:03.590Z"
   },
   {
    "duration": 26,
    "start_time": "2024-02-07T14:24:03.599Z"
   },
   {
    "duration": 13,
    "start_time": "2024-02-07T14:24:03.627Z"
   },
   {
    "duration": 53,
    "start_time": "2024-02-07T14:24:03.641Z"
   },
   {
    "duration": 16,
    "start_time": "2024-02-07T14:24:03.696Z"
   },
   {
    "duration": 14,
    "start_time": "2024-02-07T14:24:03.713Z"
   },
   {
    "duration": 21,
    "start_time": "2024-02-07T14:24:03.729Z"
   },
   {
    "duration": 461,
    "start_time": "2024-02-07T14:35:52.049Z"
   },
   {
    "duration": 23,
    "start_time": "2024-02-07T14:35:52.512Z"
   },
   {
    "duration": 18,
    "start_time": "2024-02-07T14:35:52.536Z"
   },
   {
    "duration": 32,
    "start_time": "2024-02-07T14:35:52.556Z"
   },
   {
    "duration": 36,
    "start_time": "2024-02-07T14:35:52.590Z"
   },
   {
    "duration": 3,
    "start_time": "2024-02-07T14:35:52.628Z"
   },
   {
    "duration": 11,
    "start_time": "2024-02-07T14:35:52.633Z"
   },
   {
    "duration": 6,
    "start_time": "2024-02-07T14:35:52.645Z"
   },
   {
    "duration": 8,
    "start_time": "2024-02-07T14:35:52.688Z"
   },
   {
    "duration": 5,
    "start_time": "2024-02-07T14:35:52.699Z"
   },
   {
    "duration": 38,
    "start_time": "2024-02-07T14:35:52.705Z"
   },
   {
    "duration": 12,
    "start_time": "2024-02-07T14:35:52.744Z"
   },
   {
    "duration": 33,
    "start_time": "2024-02-07T14:35:52.757Z"
   },
   {
    "duration": 15,
    "start_time": "2024-02-07T14:35:52.792Z"
   },
   {
    "duration": 27,
    "start_time": "2024-02-07T14:35:52.809Z"
   },
   {
    "duration": 16,
    "start_time": "2024-02-07T14:35:52.837Z"
   },
   {
    "duration": 3,
    "start_time": "2024-02-07T14:35:52.855Z"
   },
   {
    "duration": 52,
    "start_time": "2024-02-07T14:35:52.859Z"
   },
   {
    "duration": 6,
    "start_time": "2024-02-07T14:35:52.913Z"
   },
   {
    "duration": 24,
    "start_time": "2024-02-07T14:35:52.920Z"
   },
   {
    "duration": 25,
    "start_time": "2024-02-07T14:35:52.946Z"
   },
   {
    "duration": 29,
    "start_time": "2024-02-07T14:35:52.973Z"
   },
   {
    "duration": 33,
    "start_time": "2024-02-07T14:35:53.004Z"
   },
   {
    "duration": 18,
    "start_time": "2024-02-07T14:35:53.039Z"
   },
   {
    "duration": 17,
    "start_time": "2024-02-07T14:35:53.088Z"
   },
   {
    "duration": 17,
    "start_time": "2024-02-07T14:35:53.107Z"
   },
   {
    "duration": 478,
    "start_time": "2024-02-07T14:37:44.606Z"
   },
   {
    "duration": 25,
    "start_time": "2024-02-07T14:37:45.086Z"
   },
   {
    "duration": 43,
    "start_time": "2024-02-07T14:37:45.113Z"
   },
   {
    "duration": 40,
    "start_time": "2024-02-07T14:37:45.158Z"
   },
   {
    "duration": 61,
    "start_time": "2024-02-07T14:37:45.200Z"
   },
   {
    "duration": 4,
    "start_time": "2024-02-07T14:37:45.263Z"
   },
   {
    "duration": 19,
    "start_time": "2024-02-07T14:37:45.268Z"
   },
   {
    "duration": 13,
    "start_time": "2024-02-07T14:37:45.289Z"
   },
   {
    "duration": 27,
    "start_time": "2024-02-07T14:37:45.304Z"
   },
   {
    "duration": 9,
    "start_time": "2024-02-07T14:37:45.336Z"
   },
   {
    "duration": 45,
    "start_time": "2024-02-07T14:37:45.346Z"
   },
   {
    "duration": 10,
    "start_time": "2024-02-07T14:37:45.393Z"
   },
   {
    "duration": 6,
    "start_time": "2024-02-07T14:37:45.405Z"
   },
   {
    "duration": 16,
    "start_time": "2024-02-07T14:37:45.413Z"
   },
   {
    "duration": 22,
    "start_time": "2024-02-07T14:37:45.431Z"
   },
   {
    "duration": 42,
    "start_time": "2024-02-07T14:37:45.455Z"
   },
   {
    "duration": 4,
    "start_time": "2024-02-07T14:37:45.498Z"
   },
   {
    "duration": 31,
    "start_time": "2024-02-07T14:37:45.503Z"
   },
   {
    "duration": 5,
    "start_time": "2024-02-07T14:37:45.536Z"
   },
   {
    "duration": 44,
    "start_time": "2024-02-07T14:37:45.543Z"
   },
   {
    "duration": 28,
    "start_time": "2024-02-07T14:37:45.589Z"
   },
   {
    "duration": 15,
    "start_time": "2024-02-07T14:37:45.619Z"
   },
   {
    "duration": 75,
    "start_time": "2024-02-07T14:37:45.635Z"
   },
   {
    "duration": 21,
    "start_time": "2024-02-07T14:37:45.711Z"
   },
   {
    "duration": 61,
    "start_time": "2024-02-07T14:37:45.733Z"
   },
   {
    "duration": 18,
    "start_time": "2024-02-07T14:37:45.795Z"
   },
   {
    "duration": 520,
    "start_time": "2024-02-07T14:38:16.925Z"
   },
   {
    "duration": 22,
    "start_time": "2024-02-07T14:38:17.447Z"
   },
   {
    "duration": 29,
    "start_time": "2024-02-07T14:38:17.473Z"
   },
   {
    "duration": 10,
    "start_time": "2024-02-07T14:38:17.503Z"
   },
   {
    "duration": 42,
    "start_time": "2024-02-07T14:38:17.515Z"
   },
   {
    "duration": 3,
    "start_time": "2024-02-07T14:38:17.559Z"
   },
   {
    "duration": 8,
    "start_time": "2024-02-07T14:38:17.587Z"
   },
   {
    "duration": 4,
    "start_time": "2024-02-07T14:38:17.597Z"
   },
   {
    "duration": 8,
    "start_time": "2024-02-07T14:38:17.603Z"
   },
   {
    "duration": 18,
    "start_time": "2024-02-07T14:38:17.612Z"
   },
   {
    "duration": 62,
    "start_time": "2024-02-07T14:38:17.632Z"
   },
   {
    "duration": 10,
    "start_time": "2024-02-07T14:38:17.696Z"
   },
   {
    "duration": 4,
    "start_time": "2024-02-07T14:38:17.708Z"
   },
   {
    "duration": 17,
    "start_time": "2024-02-07T14:38:17.713Z"
   },
   {
    "duration": 19,
    "start_time": "2024-02-07T14:38:17.732Z"
   },
   {
    "duration": 50,
    "start_time": "2024-02-07T14:38:17.753Z"
   },
   {
    "duration": 4,
    "start_time": "2024-02-07T14:38:17.804Z"
   },
   {
    "duration": 28,
    "start_time": "2024-02-07T14:38:17.810Z"
   },
   {
    "duration": 6,
    "start_time": "2024-02-07T14:38:17.840Z"
   },
   {
    "duration": 10,
    "start_time": "2024-02-07T14:38:17.847Z"
   },
   {
    "duration": 55,
    "start_time": "2024-02-07T14:38:17.858Z"
   },
   {
    "duration": 15,
    "start_time": "2024-02-07T14:38:17.915Z"
   },
   {
    "duration": 62,
    "start_time": "2024-02-07T14:38:17.931Z"
   },
   {
    "duration": 20,
    "start_time": "2024-02-07T14:38:17.995Z"
   },
   {
    "duration": 19,
    "start_time": "2024-02-07T14:38:18.017Z"
   },
   {
    "duration": 51,
    "start_time": "2024-02-07T14:38:18.038Z"
   },
   {
    "duration": 57,
    "start_time": "2024-02-11T12:20:21.397Z"
   },
   {
    "duration": 6,
    "start_time": "2024-02-11T12:20:37.317Z"
   },
   {
    "duration": 7,
    "start_time": "2024-02-11T12:20:53.820Z"
   },
   {
    "duration": 6,
    "start_time": "2024-02-11T12:20:56.281Z"
   },
   {
    "duration": 6,
    "start_time": "2024-02-11T12:21:00.498Z"
   },
   {
    "duration": 682,
    "start_time": "2024-02-11T12:21:19.466Z"
   },
   {
    "duration": 19,
    "start_time": "2024-02-11T12:21:20.150Z"
   },
   {
    "duration": 19,
    "start_time": "2024-02-11T12:21:20.171Z"
   },
   {
    "duration": 10,
    "start_time": "2024-02-11T12:21:20.192Z"
   },
   {
    "duration": 32,
    "start_time": "2024-02-11T12:21:20.204Z"
   },
   {
    "duration": 2,
    "start_time": "2024-02-11T12:21:20.238Z"
   },
   {
    "duration": 20,
    "start_time": "2024-02-11T12:21:20.242Z"
   },
   {
    "duration": 4,
    "start_time": "2024-02-11T12:21:20.263Z"
   },
   {
    "duration": 8,
    "start_time": "2024-02-11T12:21:20.269Z"
   },
   {
    "duration": 8,
    "start_time": "2024-02-11T12:21:20.278Z"
   },
   {
    "duration": 33,
    "start_time": "2024-02-11T12:21:20.287Z"
   },
   {
    "duration": 19,
    "start_time": "2024-02-11T12:21:20.322Z"
   },
   {
    "duration": 4,
    "start_time": "2024-02-11T12:21:20.342Z"
   },
   {
    "duration": 11,
    "start_time": "2024-02-11T12:21:20.348Z"
   },
   {
    "duration": 17,
    "start_time": "2024-02-11T12:21:20.360Z"
   },
   {
    "duration": 15,
    "start_time": "2024-02-11T12:21:20.379Z"
   },
   {
    "duration": 3,
    "start_time": "2024-02-11T12:21:20.395Z"
   },
   {
    "duration": 56,
    "start_time": "2024-02-11T12:21:20.399Z"
   },
   {
    "duration": 5,
    "start_time": "2024-02-11T12:21:20.456Z"
   },
   {
    "duration": 5,
    "start_time": "2024-02-11T12:21:20.462Z"
   },
   {
    "duration": 23,
    "start_time": "2024-02-11T12:21:20.469Z"
   },
   {
    "duration": 13,
    "start_time": "2024-02-11T12:21:20.494Z"
   },
   {
    "duration": 32,
    "start_time": "2024-02-11T12:21:20.533Z"
   },
   {
    "duration": 16,
    "start_time": "2024-02-11T12:21:20.566Z"
   },
   {
    "duration": 14,
    "start_time": "2024-02-11T12:21:20.583Z"
   },
   {
    "duration": 35,
    "start_time": "2024-02-11T12:21:20.599Z"
   },
   {
    "duration": 67,
    "start_time": "2024-02-11T12:26:52.192Z"
   },
   {
    "duration": 13,
    "start_time": "2024-02-11T12:26:55.058Z"
   },
   {
    "duration": 7,
    "start_time": "2024-02-11T12:27:06.117Z"
   },
   {
    "duration": 433,
    "start_time": "2024-02-11T12:27:21.069Z"
   },
   {
    "duration": 21,
    "start_time": "2024-02-11T12:27:21.503Z"
   },
   {
    "duration": 14,
    "start_time": "2024-02-11T12:27:21.526Z"
   },
   {
    "duration": 10,
    "start_time": "2024-02-11T12:27:21.542Z"
   },
   {
    "duration": 52,
    "start_time": "2024-02-11T12:27:21.554Z"
   },
   {
    "duration": 3,
    "start_time": "2024-02-11T12:27:21.607Z"
   },
   {
    "duration": 19,
    "start_time": "2024-02-11T12:27:21.612Z"
   },
   {
    "duration": 4,
    "start_time": "2024-02-11T12:27:21.633Z"
   },
   {
    "duration": 12,
    "start_time": "2024-02-11T12:27:21.638Z"
   },
   {
    "duration": 10,
    "start_time": "2024-02-11T12:27:21.652Z"
   },
   {
    "duration": 33,
    "start_time": "2024-02-11T12:27:21.664Z"
   },
   {
    "duration": 10,
    "start_time": "2024-02-11T12:27:21.698Z"
   },
   {
    "duration": 3,
    "start_time": "2024-02-11T12:27:21.710Z"
   },
   {
    "duration": 12,
    "start_time": "2024-02-11T12:27:21.733Z"
   },
   {
    "duration": 21,
    "start_time": "2024-02-11T12:27:21.748Z"
   },
   {
    "duration": 18,
    "start_time": "2024-02-11T12:27:21.770Z"
   },
   {
    "duration": 3,
    "start_time": "2024-02-11T12:27:21.790Z"
   },
   {
    "duration": 46,
    "start_time": "2024-02-11T12:27:21.795Z"
   },
   {
    "duration": 5,
    "start_time": "2024-02-11T12:27:21.842Z"
   },
   {
    "duration": 8,
    "start_time": "2024-02-11T12:27:21.849Z"
   },
   {
    "duration": 23,
    "start_time": "2024-02-11T12:27:21.858Z"
   },
   {
    "duration": 14,
    "start_time": "2024-02-11T12:27:21.883Z"
   },
   {
    "duration": 59,
    "start_time": "2024-02-11T12:27:21.899Z"
   },
   {
    "duration": 16,
    "start_time": "2024-02-11T12:27:21.959Z"
   },
   {
    "duration": 19,
    "start_time": "2024-02-11T12:27:21.976Z"
   },
   {
    "duration": 18,
    "start_time": "2024-02-11T12:27:21.997Z"
   },
   {
    "duration": 25,
    "start_time": "2024-02-11T12:31:41.574Z"
   },
   {
    "duration": 24,
    "start_time": "2024-02-11T12:31:48.798Z"
   },
   {
    "duration": 477,
    "start_time": "2024-02-11T12:31:55.300Z"
   },
   {
    "duration": 22,
    "start_time": "2024-02-11T12:31:55.779Z"
   },
   {
    "duration": 14,
    "start_time": "2024-02-11T12:31:55.802Z"
   },
   {
    "duration": 23,
    "start_time": "2024-02-11T12:31:55.818Z"
   },
   {
    "duration": 34,
    "start_time": "2024-02-11T12:31:55.842Z"
   },
   {
    "duration": 4,
    "start_time": "2024-02-11T12:31:55.877Z"
   },
   {
    "duration": 10,
    "start_time": "2024-02-11T12:31:55.882Z"
   },
   {
    "duration": 6,
    "start_time": "2024-02-11T12:31:55.894Z"
   },
   {
    "duration": 32,
    "start_time": "2024-02-11T12:31:55.901Z"
   },
   {
    "duration": 4,
    "start_time": "2024-02-11T12:31:55.937Z"
   },
   {
    "duration": 51,
    "start_time": "2024-02-11T12:31:55.942Z"
   },
   {
    "duration": 9,
    "start_time": "2024-02-11T12:31:55.994Z"
   },
   {
    "duration": 5,
    "start_time": "2024-02-11T12:31:56.004Z"
   },
   {
    "duration": 11,
    "start_time": "2024-02-11T12:31:56.010Z"
   },
   {
    "duration": 17,
    "start_time": "2024-02-11T12:31:56.033Z"
   },
   {
    "duration": 15,
    "start_time": "2024-02-11T12:31:56.052Z"
   },
   {
    "duration": 3,
    "start_time": "2024-02-11T12:31:56.069Z"
   },
   {
    "duration": 25,
    "start_time": "2024-02-11T12:31:56.073Z"
   },
   {
    "duration": 5,
    "start_time": "2024-02-11T12:31:56.099Z"
   },
   {
    "duration": 3,
    "start_time": "2024-02-11T12:31:56.132Z"
   },
   {
    "duration": 24,
    "start_time": "2024-02-11T12:31:56.137Z"
   },
   {
    "duration": 13,
    "start_time": "2024-02-11T12:31:56.162Z"
   },
   {
    "duration": 75,
    "start_time": "2024-02-11T12:31:56.176Z"
   },
   {
    "duration": 0,
    "start_time": "2024-02-11T12:31:56.252Z"
   },
   {
    "duration": 0,
    "start_time": "2024-02-11T12:31:56.254Z"
   },
   {
    "duration": 0,
    "start_time": "2024-02-11T12:31:56.255Z"
   },
   {
    "duration": 24,
    "start_time": "2024-02-11T12:32:12.906Z"
   },
   {
    "duration": 444,
    "start_time": "2024-02-11T12:32:39.396Z"
   },
   {
    "duration": 20,
    "start_time": "2024-02-11T12:32:39.842Z"
   },
   {
    "duration": 28,
    "start_time": "2024-02-11T12:32:39.863Z"
   },
   {
    "duration": 9,
    "start_time": "2024-02-11T12:32:39.893Z"
   },
   {
    "duration": 49,
    "start_time": "2024-02-11T12:32:39.904Z"
   },
   {
    "duration": 3,
    "start_time": "2024-02-11T12:32:39.954Z"
   },
   {
    "duration": 27,
    "start_time": "2024-02-11T12:32:39.959Z"
   },
   {
    "duration": 9,
    "start_time": "2024-02-11T12:32:39.987Z"
   },
   {
    "duration": 29,
    "start_time": "2024-02-11T12:32:39.998Z"
   },
   {
    "duration": 17,
    "start_time": "2024-02-11T12:32:40.029Z"
   },
   {
    "duration": 60,
    "start_time": "2024-02-11T12:32:40.048Z"
   },
   {
    "duration": 20,
    "start_time": "2024-02-11T12:32:40.110Z"
   },
   {
    "duration": 15,
    "start_time": "2024-02-11T12:32:40.131Z"
   },
   {
    "duration": 24,
    "start_time": "2024-02-11T12:32:40.149Z"
   },
   {
    "duration": 39,
    "start_time": "2024-02-11T12:32:40.175Z"
   },
   {
    "duration": 15,
    "start_time": "2024-02-11T12:32:40.215Z"
   },
   {
    "duration": 5,
    "start_time": "2024-02-11T12:32:40.231Z"
   },
   {
    "duration": 42,
    "start_time": "2024-02-11T12:32:40.237Z"
   },
   {
    "duration": 5,
    "start_time": "2024-02-11T12:32:40.280Z"
   },
   {
    "duration": 18,
    "start_time": "2024-02-11T12:32:40.286Z"
   },
   {
    "duration": 36,
    "start_time": "2024-02-11T12:32:40.305Z"
   },
   {
    "duration": 13,
    "start_time": "2024-02-11T12:32:40.343Z"
   },
   {
    "duration": 59,
    "start_time": "2024-02-11T12:32:40.357Z"
   },
   {
    "duration": 15,
    "start_time": "2024-02-11T12:32:40.417Z"
   },
   {
    "duration": 30,
    "start_time": "2024-02-11T12:32:40.433Z"
   },
   {
    "duration": 35,
    "start_time": "2024-02-11T12:32:40.464Z"
   },
   {
    "duration": 23,
    "start_time": "2024-02-11T12:33:19.822Z"
   },
   {
    "duration": 45,
    "start_time": "2024-03-05T14:03:14.370Z"
   },
   {
    "duration": 514,
    "start_time": "2025-01-15T09:23:08.878Z"
   },
   {
    "duration": 22,
    "start_time": "2025-01-15T09:23:09.394Z"
   },
   {
    "duration": 15,
    "start_time": "2025-01-15T09:23:09.417Z"
   },
   {
    "duration": 10,
    "start_time": "2025-01-15T09:23:09.434Z"
   },
   {
    "duration": 35,
    "start_time": "2025-01-15T09:23:09.445Z"
   },
   {
    "duration": 3,
    "start_time": "2025-01-15T09:23:09.482Z"
   },
   {
    "duration": 31,
    "start_time": "2025-01-15T09:23:09.486Z"
   },
   {
    "duration": 4,
    "start_time": "2025-01-15T09:23:09.519Z"
   },
   {
    "duration": 11,
    "start_time": "2025-01-15T09:23:09.524Z"
   },
   {
    "duration": 4,
    "start_time": "2025-01-15T09:23:09.538Z"
   },
   {
    "duration": 35,
    "start_time": "2025-01-15T09:23:09.544Z"
   },
   {
    "duration": 10,
    "start_time": "2025-01-15T09:23:09.581Z"
   },
   {
    "duration": 3,
    "start_time": "2025-01-15T09:23:09.593Z"
   },
   {
    "duration": 40,
    "start_time": "2025-01-15T09:23:09.598Z"
   },
   {
    "duration": 29,
    "start_time": "2025-01-15T09:23:09.640Z"
   },
   {
    "duration": 17,
    "start_time": "2025-01-15T09:23:09.671Z"
   },
   {
    "duration": 4,
    "start_time": "2025-01-15T09:23:09.689Z"
   },
   {
    "duration": 63,
    "start_time": "2025-01-15T09:23:09.694Z"
   },
   {
    "duration": 11,
    "start_time": "2025-01-15T09:23:09.759Z"
   },
   {
    "duration": 6,
    "start_time": "2025-01-15T09:23:09.772Z"
   },
   {
    "duration": 57,
    "start_time": "2025-01-15T09:23:09.779Z"
   },
   {
    "duration": 36,
    "start_time": "2025-01-15T09:23:09.838Z"
   },
   {
    "duration": 33,
    "start_time": "2025-01-15T09:23:09.876Z"
   },
   {
    "duration": 18,
    "start_time": "2025-01-15T09:23:09.910Z"
   },
   {
    "duration": 17,
    "start_time": "2025-01-15T09:23:09.930Z"
   },
   {
    "duration": 18,
    "start_time": "2025-01-15T09:23:09.948Z"
   }
  ],
  "colab": {
   "provenance": []
  },
  "kernelspec": {
   "display_name": "Python 3 (ipykernel)",
   "language": "python",
   "name": "python3"
  },
  "language_info": {
   "codemirror_mode": {
    "name": "ipython",
    "version": 3
   },
   "file_extension": ".py",
   "mimetype": "text/x-python",
   "name": "python",
   "nbconvert_exporter": "python",
   "pygments_lexer": "ipython3",
   "version": "3.9.5"
  },
  "toc": {
   "base_numbering": 1,
   "nav_menu": {},
   "number_sections": true,
   "sideBar": true,
   "skip_h1_title": true,
   "title_cell": "Table of Contents",
   "title_sidebar": "Contents",
   "toc_cell": false,
   "toc_position": {},
   "toc_section_display": true,
   "toc_window_display": false
  }
 },
 "nbformat": 4,
 "nbformat_minor": 5
}
