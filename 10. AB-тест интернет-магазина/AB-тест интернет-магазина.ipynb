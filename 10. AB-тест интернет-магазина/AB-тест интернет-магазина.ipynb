{
 "cells": [
  {
   "cell_type": "markdown",
   "metadata": {},
   "source": [
    "# Проверка гипотез по увеличению выручки интернет-магазина \n",
    "Заказчик этого исследования — интернет-магазин. \n",
    "\n",
    "**Цель исследования** - проверить гипотезы по увеличению прибыли\n",
    "\n",
    "**Ход исследования**\n",
    "Данные получим из трех датафреймов. Перед тем, как проводить анализ, проведем их предобработку. \n",
    "\n",
    "Далее проведем приоритизацию 9 гипотез по увеличению выручки интернет-магазина с помощью фрейворка ICE и RICE. \n",
    "\n",
    "Для проведения анализа нужно сформулировать нулевую гипотезу (H0) и альтернативную гипотезу (H1). Нулевая гипотеза предполагает, что между двумя переменными нет статистически значимой связи, а альтернативная гипотеза утверждает обратное. Далее для проверки гипотезы выберем статистический метод. После выбора метода рассчитываем соответствующую статистику и p-value. P-value показывает, насколько вероятно наблюдать такие или ещё более экстремальные результаты при условии, что нулевая гипотеза верна. P-value сравниваем с заданным уровнем значимости (обычно 0,05). Если p-value меньше уровня значимости, то нулевую гипотезу следует отклонить в пользу альтернативной гипотезы.\n",
    "\n",
    "Проанализируем A/B тест на основании которого примем решение о его продолжении или остановке.\n",
    "\n",
    "Таким образом, исследование пройдет в 4 этапа:\n",
    "\n",
    "- обзор данных\n",
    "- предобработка данных\n",
    "- приоритизация гипотез\n",
    "- анализ A/B теста"
   ]
  },
  {
   "cell_type": "markdown",
   "metadata": {},
   "source": [
    "#### Загрузка данных"
   ]
  },
  {
   "cell_type": "code",
   "execution_count": 1,
   "metadata": {},
   "outputs": [],
   "source": [
    "#загружаем библиотеки\n",
    "import numpy as np\n",
    "import pandas as pd\n",
    "import seaborn as sns\n",
    "from matplotlib import pyplot as plt\n",
    "from IPython.display import display\n",
    "import scipy.stats as stats\n",
    "import datetime as dt\n",
    "pd.options.display.max_colwidth = 400"
   ]
  },
  {
   "cell_type": "code",
   "execution_count": null,
   "metadata": {},
   "outputs": [],
   "source": [
    "#приведем тип данных столбца year_of_release к datetime\n",
    "games['year_of_release'] = pd.to_datetime(games['year_of_release'], format='%Y').dt.year"
   ]
  },
  {
   "cell_type": "code",
   "execution_count": 2,
   "metadata": {},
   "outputs": [],
   "source": [
    "#считываем csv-файл\n",
    "hypothesis = pd.read_csv('/datasets/hypothesis.csv', sep=',')"
   ]
  },
  {
   "cell_type": "code",
   "execution_count": 3,
   "metadata": {},
   "outputs": [
    {
     "name": "stdout",
     "output_type": "stream",
     "text": [
      "<class 'pandas.core.frame.DataFrame'>\n",
      "RangeIndex: 9 entries, 0 to 8\n",
      "Data columns (total 5 columns):\n",
      " #   Column      Non-Null Count  Dtype \n",
      "---  ------      --------------  ----- \n",
      " 0   Hypothesis  9 non-null      object\n",
      " 1   Reach       9 non-null      int64 \n",
      " 2   Impact      9 non-null      int64 \n",
      " 3   Confidence  9 non-null      int64 \n",
      " 4   Efforts     9 non-null      int64 \n",
      "dtypes: int64(4), object(1)\n",
      "memory usage: 488.0+ bytes\n"
     ]
    },
    {
     "data": {
      "text/html": [
       "<div>\n",
       "<style scoped>\n",
       "    .dataframe tbody tr th:only-of-type {\n",
       "        vertical-align: middle;\n",
       "    }\n",
       "\n",
       "    .dataframe tbody tr th {\n",
       "        vertical-align: top;\n",
       "    }\n",
       "\n",
       "    .dataframe thead th {\n",
       "        text-align: right;\n",
       "    }\n",
       "</style>\n",
       "<table border=\"1\" class=\"dataframe\">\n",
       "  <thead>\n",
       "    <tr style=\"text-align: right;\">\n",
       "      <th></th>\n",
       "      <th>Hypothesis</th>\n",
       "      <th>Reach</th>\n",
       "      <th>Impact</th>\n",
       "      <th>Confidence</th>\n",
       "      <th>Efforts</th>\n",
       "    </tr>\n",
       "  </thead>\n",
       "  <tbody>\n",
       "    <tr>\n",
       "      <th>0</th>\n",
       "      <td>Добавить два новых канала привлечения трафика, что позволит привлекать на 30% больше пользователей</td>\n",
       "      <td>3</td>\n",
       "      <td>10</td>\n",
       "      <td>8</td>\n",
       "      <td>6</td>\n",
       "    </tr>\n",
       "    <tr>\n",
       "      <th>1</th>\n",
       "      <td>Запустить собственную службу доставки, что сократит срок доставки заказов</td>\n",
       "      <td>2</td>\n",
       "      <td>5</td>\n",
       "      <td>4</td>\n",
       "      <td>10</td>\n",
       "    </tr>\n",
       "    <tr>\n",
       "      <th>2</th>\n",
       "      <td>Добавить блоки рекомендаций товаров на сайт интернет магазина, чтобы повысить конверсию и средний чек заказа</td>\n",
       "      <td>8</td>\n",
       "      <td>3</td>\n",
       "      <td>7</td>\n",
       "      <td>3</td>\n",
       "    </tr>\n",
       "    <tr>\n",
       "      <th>3</th>\n",
       "      <td>Изменить структура категорий, что увеличит конверсию, т.к. пользователи быстрее найдут нужный товар</td>\n",
       "      <td>8</td>\n",
       "      <td>3</td>\n",
       "      <td>3</td>\n",
       "      <td>8</td>\n",
       "    </tr>\n",
       "    <tr>\n",
       "      <th>4</th>\n",
       "      <td>Изменить цвет фона главной страницы, чтобы увеличить вовлеченность пользователей</td>\n",
       "      <td>3</td>\n",
       "      <td>1</td>\n",
       "      <td>1</td>\n",
       "      <td>1</td>\n",
       "    </tr>\n",
       "    <tr>\n",
       "      <th>5</th>\n",
       "      <td>Добавить страницу отзывов клиентов о магазине, что позволит увеличить количество заказов</td>\n",
       "      <td>3</td>\n",
       "      <td>2</td>\n",
       "      <td>2</td>\n",
       "      <td>3</td>\n",
       "    </tr>\n",
       "    <tr>\n",
       "      <th>6</th>\n",
       "      <td>Показать на главной странице баннеры с актуальными акциями и распродажами, чтобы увеличить конверсию</td>\n",
       "      <td>5</td>\n",
       "      <td>3</td>\n",
       "      <td>8</td>\n",
       "      <td>3</td>\n",
       "    </tr>\n",
       "    <tr>\n",
       "      <th>7</th>\n",
       "      <td>Добавить форму подписки на все основные страницы, чтобы собрать базу клиентов для email-рассылок</td>\n",
       "      <td>10</td>\n",
       "      <td>7</td>\n",
       "      <td>8</td>\n",
       "      <td>5</td>\n",
       "    </tr>\n",
       "    <tr>\n",
       "      <th>8</th>\n",
       "      <td>Запустить акцию, дающую скидку на товар в день рождения</td>\n",
       "      <td>1</td>\n",
       "      <td>9</td>\n",
       "      <td>9</td>\n",
       "      <td>5</td>\n",
       "    </tr>\n",
       "  </tbody>\n",
       "</table>\n",
       "</div>"
      ],
      "text/plain": [
       "                                                                                                     Hypothesis  \\\n",
       "0            Добавить два новых канала привлечения трафика, что позволит привлекать на 30% больше пользователей   \n",
       "1                                     Запустить собственную службу доставки, что сократит срок доставки заказов   \n",
       "2  Добавить блоки рекомендаций товаров на сайт интернет магазина, чтобы повысить конверсию и средний чек заказа   \n",
       "3           Изменить структура категорий, что увеличит конверсию, т.к. пользователи быстрее найдут нужный товар   \n",
       "4                              Изменить цвет фона главной страницы, чтобы увеличить вовлеченность пользователей   \n",
       "5                      Добавить страницу отзывов клиентов о магазине, что позволит увеличить количество заказов   \n",
       "6          Показать на главной странице баннеры с актуальными акциями и распродажами, чтобы увеличить конверсию   \n",
       "7              Добавить форму подписки на все основные страницы, чтобы собрать базу клиентов для email-рассылок   \n",
       "8                                                       Запустить акцию, дающую скидку на товар в день рождения   \n",
       "\n",
       "   Reach  Impact  Confidence  Efforts  \n",
       "0      3      10           8        6  \n",
       "1      2       5           4       10  \n",
       "2      8       3           7        3  \n",
       "3      8       3           3        8  \n",
       "4      3       1           1        1  \n",
       "5      3       2           2        3  \n",
       "6      5       3           8        3  \n",
       "7     10       7           8        5  \n",
       "8      1       9           9        5  "
      ]
     },
     "execution_count": 3,
     "metadata": {},
     "output_type": "execute_result"
    }
   ],
   "source": [
    "#выводим информацию и первые 5 строк датафрейма\n",
    "hypothesis.info()\n",
    "hypothesis"
   ]
  },
  {
   "cell_type": "markdown",
   "metadata": {},
   "source": [
    "**Всего в датафрейме 9 записей, 5 столбцов**"
   ]
  },
  {
   "cell_type": "markdown",
   "metadata": {},
   "source": [
    "#### Часть 1. Приоритизация гипотез"
   ]
  },
  {
   "cell_type": "code",
   "execution_count": 4,
   "metadata": {},
   "outputs": [
    {
     "data": {
      "text/html": [
       "<div>\n",
       "<style scoped>\n",
       "    .dataframe tbody tr th:only-of-type {\n",
       "        vertical-align: middle;\n",
       "    }\n",
       "\n",
       "    .dataframe tbody tr th {\n",
       "        vertical-align: top;\n",
       "    }\n",
       "\n",
       "    .dataframe thead th {\n",
       "        text-align: right;\n",
       "    }\n",
       "</style>\n",
       "<table border=\"1\" class=\"dataframe\">\n",
       "  <thead>\n",
       "    <tr style=\"text-align: right;\">\n",
       "      <th></th>\n",
       "      <th>Hypothesis</th>\n",
       "      <th>Reach</th>\n",
       "      <th>Impact</th>\n",
       "      <th>Confidence</th>\n",
       "      <th>Efforts</th>\n",
       "      <th>ICE</th>\n",
       "    </tr>\n",
       "  </thead>\n",
       "  <tbody>\n",
       "    <tr>\n",
       "      <th>8</th>\n",
       "      <td>Запустить акцию, дающую скидку на товар в день рождения</td>\n",
       "      <td>1</td>\n",
       "      <td>9</td>\n",
       "      <td>9</td>\n",
       "      <td>5</td>\n",
       "      <td>16.200000</td>\n",
       "    </tr>\n",
       "    <tr>\n",
       "      <th>0</th>\n",
       "      <td>Добавить два новых канала привлечения трафика, что позволит привлекать на 30% больше пользователей</td>\n",
       "      <td>3</td>\n",
       "      <td>10</td>\n",
       "      <td>8</td>\n",
       "      <td>6</td>\n",
       "      <td>13.333333</td>\n",
       "    </tr>\n",
       "    <tr>\n",
       "      <th>7</th>\n",
       "      <td>Добавить форму подписки на все основные страницы, чтобы собрать базу клиентов для email-рассылок</td>\n",
       "      <td>10</td>\n",
       "      <td>7</td>\n",
       "      <td>8</td>\n",
       "      <td>5</td>\n",
       "      <td>11.200000</td>\n",
       "    </tr>\n",
       "    <tr>\n",
       "      <th>6</th>\n",
       "      <td>Показать на главной странице баннеры с актуальными акциями и распродажами, чтобы увеличить конверсию</td>\n",
       "      <td>5</td>\n",
       "      <td>3</td>\n",
       "      <td>8</td>\n",
       "      <td>3</td>\n",
       "      <td>8.000000</td>\n",
       "    </tr>\n",
       "    <tr>\n",
       "      <th>2</th>\n",
       "      <td>Добавить блоки рекомендаций товаров на сайт интернет магазина, чтобы повысить конверсию и средний чек заказа</td>\n",
       "      <td>8</td>\n",
       "      <td>3</td>\n",
       "      <td>7</td>\n",
       "      <td>3</td>\n",
       "      <td>7.000000</td>\n",
       "    </tr>\n",
       "    <tr>\n",
       "      <th>1</th>\n",
       "      <td>Запустить собственную службу доставки, что сократит срок доставки заказов</td>\n",
       "      <td>2</td>\n",
       "      <td>5</td>\n",
       "      <td>4</td>\n",
       "      <td>10</td>\n",
       "      <td>2.000000</td>\n",
       "    </tr>\n",
       "    <tr>\n",
       "      <th>5</th>\n",
       "      <td>Добавить страницу отзывов клиентов о магазине, что позволит увеличить количество заказов</td>\n",
       "      <td>3</td>\n",
       "      <td>2</td>\n",
       "      <td>2</td>\n",
       "      <td>3</td>\n",
       "      <td>1.333333</td>\n",
       "    </tr>\n",
       "    <tr>\n",
       "      <th>3</th>\n",
       "      <td>Изменить структура категорий, что увеличит конверсию, т.к. пользователи быстрее найдут нужный товар</td>\n",
       "      <td>8</td>\n",
       "      <td>3</td>\n",
       "      <td>3</td>\n",
       "      <td>8</td>\n",
       "      <td>1.125000</td>\n",
       "    </tr>\n",
       "    <tr>\n",
       "      <th>4</th>\n",
       "      <td>Изменить цвет фона главной страницы, чтобы увеличить вовлеченность пользователей</td>\n",
       "      <td>3</td>\n",
       "      <td>1</td>\n",
       "      <td>1</td>\n",
       "      <td>1</td>\n",
       "      <td>1.000000</td>\n",
       "    </tr>\n",
       "  </tbody>\n",
       "</table>\n",
       "</div>"
      ],
      "text/plain": [
       "                                                                                                     Hypothesis  \\\n",
       "8                                                       Запустить акцию, дающую скидку на товар в день рождения   \n",
       "0            Добавить два новых канала привлечения трафика, что позволит привлекать на 30% больше пользователей   \n",
       "7              Добавить форму подписки на все основные страницы, чтобы собрать базу клиентов для email-рассылок   \n",
       "6          Показать на главной странице баннеры с актуальными акциями и распродажами, чтобы увеличить конверсию   \n",
       "2  Добавить блоки рекомендаций товаров на сайт интернет магазина, чтобы повысить конверсию и средний чек заказа   \n",
       "1                                     Запустить собственную службу доставки, что сократит срок доставки заказов   \n",
       "5                      Добавить страницу отзывов клиентов о магазине, что позволит увеличить количество заказов   \n",
       "3           Изменить структура категорий, что увеличит конверсию, т.к. пользователи быстрее найдут нужный товар   \n",
       "4                              Изменить цвет фона главной страницы, чтобы увеличить вовлеченность пользователей   \n",
       "\n",
       "   Reach  Impact  Confidence  Efforts        ICE  \n",
       "8      1       9           9        5  16.200000  \n",
       "0      3      10           8        6  13.333333  \n",
       "7     10       7           8        5  11.200000  \n",
       "6      5       3           8        3   8.000000  \n",
       "2      8       3           7        3   7.000000  \n",
       "1      2       5           4       10   2.000000  \n",
       "5      3       2           2        3   1.333333  \n",
       "3      8       3           3        8   1.125000  \n",
       "4      3       1           1        1   1.000000  "
      ]
     },
     "metadata": {},
     "output_type": "display_data"
    }
   ],
   "source": [
    "#применим фреймфорк ICE для приоритизации гипотез\n",
    "hypothesis['ICE'] = (hypothesis['Impact'] * hypothesis['Confidence']) / hypothesis['Efforts']\n",
    "display(hypothesis.sort_values(by='ICE', ascending = False))"
   ]
  },
  {
   "cell_type": "markdown",
   "metadata": {},
   "source": [
    "**Наиболее перспективные гипотезы по ICE: 8, 0, 7**"
   ]
  },
  {
   "cell_type": "code",
   "execution_count": 5,
   "metadata": {},
   "outputs": [
    {
     "data": {
      "text/html": [
       "<div>\n",
       "<style scoped>\n",
       "    .dataframe tbody tr th:only-of-type {\n",
       "        vertical-align: middle;\n",
       "    }\n",
       "\n",
       "    .dataframe tbody tr th {\n",
       "        vertical-align: top;\n",
       "    }\n",
       "\n",
       "    .dataframe thead th {\n",
       "        text-align: right;\n",
       "    }\n",
       "</style>\n",
       "<table border=\"1\" class=\"dataframe\">\n",
       "  <thead>\n",
       "    <tr style=\"text-align: right;\">\n",
       "      <th></th>\n",
       "      <th>Hypothesis</th>\n",
       "      <th>Reach</th>\n",
       "      <th>Impact</th>\n",
       "      <th>Confidence</th>\n",
       "      <th>Efforts</th>\n",
       "      <th>ICE</th>\n",
       "      <th>RICE</th>\n",
       "    </tr>\n",
       "  </thead>\n",
       "  <tbody>\n",
       "    <tr>\n",
       "      <th>7</th>\n",
       "      <td>Добавить форму подписки на все основные страницы, чтобы собрать базу клиентов для email-рассылок</td>\n",
       "      <td>10</td>\n",
       "      <td>7</td>\n",
       "      <td>8</td>\n",
       "      <td>5</td>\n",
       "      <td>11.200000</td>\n",
       "      <td>112.0</td>\n",
       "    </tr>\n",
       "    <tr>\n",
       "      <th>2</th>\n",
       "      <td>Добавить блоки рекомендаций товаров на сайт интернет магазина, чтобы повысить конверсию и средний чек заказа</td>\n",
       "      <td>8</td>\n",
       "      <td>3</td>\n",
       "      <td>7</td>\n",
       "      <td>3</td>\n",
       "      <td>7.000000</td>\n",
       "      <td>56.0</td>\n",
       "    </tr>\n",
       "    <tr>\n",
       "      <th>0</th>\n",
       "      <td>Добавить два новых канала привлечения трафика, что позволит привлекать на 30% больше пользователей</td>\n",
       "      <td>3</td>\n",
       "      <td>10</td>\n",
       "      <td>8</td>\n",
       "      <td>6</td>\n",
       "      <td>13.333333</td>\n",
       "      <td>40.0</td>\n",
       "    </tr>\n",
       "    <tr>\n",
       "      <th>6</th>\n",
       "      <td>Показать на главной странице баннеры с актуальными акциями и распродажами, чтобы увеличить конверсию</td>\n",
       "      <td>5</td>\n",
       "      <td>3</td>\n",
       "      <td>8</td>\n",
       "      <td>3</td>\n",
       "      <td>8.000000</td>\n",
       "      <td>40.0</td>\n",
       "    </tr>\n",
       "    <tr>\n",
       "      <th>8</th>\n",
       "      <td>Запустить акцию, дающую скидку на товар в день рождения</td>\n",
       "      <td>1</td>\n",
       "      <td>9</td>\n",
       "      <td>9</td>\n",
       "      <td>5</td>\n",
       "      <td>16.200000</td>\n",
       "      <td>16.2</td>\n",
       "    </tr>\n",
       "    <tr>\n",
       "      <th>3</th>\n",
       "      <td>Изменить структура категорий, что увеличит конверсию, т.к. пользователи быстрее найдут нужный товар</td>\n",
       "      <td>8</td>\n",
       "      <td>3</td>\n",
       "      <td>3</td>\n",
       "      <td>8</td>\n",
       "      <td>1.125000</td>\n",
       "      <td>9.0</td>\n",
       "    </tr>\n",
       "    <tr>\n",
       "      <th>1</th>\n",
       "      <td>Запустить собственную службу доставки, что сократит срок доставки заказов</td>\n",
       "      <td>2</td>\n",
       "      <td>5</td>\n",
       "      <td>4</td>\n",
       "      <td>10</td>\n",
       "      <td>2.000000</td>\n",
       "      <td>4.0</td>\n",
       "    </tr>\n",
       "    <tr>\n",
       "      <th>5</th>\n",
       "      <td>Добавить страницу отзывов клиентов о магазине, что позволит увеличить количество заказов</td>\n",
       "      <td>3</td>\n",
       "      <td>2</td>\n",
       "      <td>2</td>\n",
       "      <td>3</td>\n",
       "      <td>1.333333</td>\n",
       "      <td>4.0</td>\n",
       "    </tr>\n",
       "    <tr>\n",
       "      <th>4</th>\n",
       "      <td>Изменить цвет фона главной страницы, чтобы увеличить вовлеченность пользователей</td>\n",
       "      <td>3</td>\n",
       "      <td>1</td>\n",
       "      <td>1</td>\n",
       "      <td>1</td>\n",
       "      <td>1.000000</td>\n",
       "      <td>3.0</td>\n",
       "    </tr>\n",
       "  </tbody>\n",
       "</table>\n",
       "</div>"
      ],
      "text/plain": [
       "                                                                                                     Hypothesis  \\\n",
       "7              Добавить форму подписки на все основные страницы, чтобы собрать базу клиентов для email-рассылок   \n",
       "2  Добавить блоки рекомендаций товаров на сайт интернет магазина, чтобы повысить конверсию и средний чек заказа   \n",
       "0            Добавить два новых канала привлечения трафика, что позволит привлекать на 30% больше пользователей   \n",
       "6          Показать на главной странице баннеры с актуальными акциями и распродажами, чтобы увеличить конверсию   \n",
       "8                                                       Запустить акцию, дающую скидку на товар в день рождения   \n",
       "3           Изменить структура категорий, что увеличит конверсию, т.к. пользователи быстрее найдут нужный товар   \n",
       "1                                     Запустить собственную службу доставки, что сократит срок доставки заказов   \n",
       "5                      Добавить страницу отзывов клиентов о магазине, что позволит увеличить количество заказов   \n",
       "4                              Изменить цвет фона главной страницы, чтобы увеличить вовлеченность пользователей   \n",
       "\n",
       "   Reach  Impact  Confidence  Efforts        ICE   RICE  \n",
       "7     10       7           8        5  11.200000  112.0  \n",
       "2      8       3           7        3   7.000000   56.0  \n",
       "0      3      10           8        6  13.333333   40.0  \n",
       "6      5       3           8        3   8.000000   40.0  \n",
       "8      1       9           9        5  16.200000   16.2  \n",
       "3      8       3           3        8   1.125000    9.0  \n",
       "1      2       5           4       10   2.000000    4.0  \n",
       "5      3       2           2        3   1.333333    4.0  \n",
       "4      3       1           1        1   1.000000    3.0  "
      ]
     },
     "metadata": {},
     "output_type": "display_data"
    }
   ],
   "source": [
    "#применим фреймфорк RICE для приоритизации гипотез\n",
    "hypothesis['RICE'] = (hypothesis['Reach'] * hypothesis['Impact'] * hypothesis['Confidence']) / hypothesis['Efforts']\n",
    "display(hypothesis.sort_values(by='RICE', ascending = False))"
   ]
  },
  {
   "cell_type": "markdown",
   "metadata": {},
   "source": [
    "**Наиболее перспективные гипотезы по RICE: 7, 2, 0**"
   ]
  },
  {
   "cell_type": "markdown",
   "metadata": {},
   "source": [
    "**При применении RICE гипотеза №7 стала самой важной, так как при ее расчете участвует показатель Reach, охват. Его показатель для гипотезы №7 - 10. Для гипотезы №8, которая после применения фреймворка ICE была самой актуальной, показатель охвата равен одному, соответственно применяя фреймворк RICE ее приоритет снижается.**"
   ]
  },
  {
   "cell_type": "markdown",
   "metadata": {},
   "source": [
    "#### Часть 2. Анализ A/B теста"
   ]
  },
  {
   "cell_type": "code",
   "execution_count": 6,
   "metadata": {},
   "outputs": [],
   "source": [
    "#считываем csv-файлы\n",
    "orders = pd.read_csv('/datasets/orders.csv', sep=',')\n",
    "visitors = pd.read_csv('/datasets/visitors.csv', sep=',')"
   ]
  },
  {
   "cell_type": "code",
   "execution_count": 7,
   "metadata": {},
   "outputs": [
    {
     "name": "stdout",
     "output_type": "stream",
     "text": [
      "<class 'pandas.core.frame.DataFrame'>\n",
      "RangeIndex: 1197 entries, 0 to 1196\n",
      "Data columns (total 5 columns):\n",
      " #   Column         Non-Null Count  Dtype \n",
      "---  ------         --------------  ----- \n",
      " 0   transactionId  1197 non-null   int64 \n",
      " 1   visitorId      1197 non-null   int64 \n",
      " 2   date           1197 non-null   object\n",
      " 3   revenue        1197 non-null   int64 \n",
      " 4   group          1197 non-null   object\n",
      "dtypes: int64(3), object(2)\n",
      "memory usage: 46.9+ KB\n"
     ]
    },
    {
     "data": {
      "text/html": [
       "<div>\n",
       "<style scoped>\n",
       "    .dataframe tbody tr th:only-of-type {\n",
       "        vertical-align: middle;\n",
       "    }\n",
       "\n",
       "    .dataframe tbody tr th {\n",
       "        vertical-align: top;\n",
       "    }\n",
       "\n",
       "    .dataframe thead th {\n",
       "        text-align: right;\n",
       "    }\n",
       "</style>\n",
       "<table border=\"1\" class=\"dataframe\">\n",
       "  <thead>\n",
       "    <tr style=\"text-align: right;\">\n",
       "      <th></th>\n",
       "      <th>transactionId</th>\n",
       "      <th>visitorId</th>\n",
       "      <th>date</th>\n",
       "      <th>revenue</th>\n",
       "      <th>group</th>\n",
       "    </tr>\n",
       "  </thead>\n",
       "  <tbody>\n",
       "    <tr>\n",
       "      <th>0</th>\n",
       "      <td>3667963787</td>\n",
       "      <td>3312258926</td>\n",
       "      <td>2019-08-15</td>\n",
       "      <td>1650</td>\n",
       "      <td>B</td>\n",
       "    </tr>\n",
       "    <tr>\n",
       "      <th>1</th>\n",
       "      <td>2804400009</td>\n",
       "      <td>3642806036</td>\n",
       "      <td>2019-08-15</td>\n",
       "      <td>730</td>\n",
       "      <td>B</td>\n",
       "    </tr>\n",
       "    <tr>\n",
       "      <th>2</th>\n",
       "      <td>2961555356</td>\n",
       "      <td>4069496402</td>\n",
       "      <td>2019-08-15</td>\n",
       "      <td>400</td>\n",
       "      <td>A</td>\n",
       "    </tr>\n",
       "    <tr>\n",
       "      <th>3</th>\n",
       "      <td>3797467345</td>\n",
       "      <td>1196621759</td>\n",
       "      <td>2019-08-15</td>\n",
       "      <td>9759</td>\n",
       "      <td>B</td>\n",
       "    </tr>\n",
       "    <tr>\n",
       "      <th>4</th>\n",
       "      <td>2282983706</td>\n",
       "      <td>2322279887</td>\n",
       "      <td>2019-08-15</td>\n",
       "      <td>2308</td>\n",
       "      <td>B</td>\n",
       "    </tr>\n",
       "  </tbody>\n",
       "</table>\n",
       "</div>"
      ],
      "text/plain": [
       "   transactionId   visitorId        date  revenue group\n",
       "0     3667963787  3312258926  2019-08-15     1650     B\n",
       "1     2804400009  3642806036  2019-08-15      730     B\n",
       "2     2961555356  4069496402  2019-08-15      400     A\n",
       "3     3797467345  1196621759  2019-08-15     9759     B\n",
       "4     2282983706  2322279887  2019-08-15     2308     B"
      ]
     },
     "execution_count": 7,
     "metadata": {},
     "output_type": "execute_result"
    }
   ],
   "source": [
    "#выводим информацию и первые 5 строк датафрейма orders\n",
    "orders.info()\n",
    "orders.head()"
   ]
  },
  {
   "cell_type": "code",
   "execution_count": 8,
   "metadata": {},
   "outputs": [
    {
     "data": {
      "text/html": [
       "<div>\n",
       "<style scoped>\n",
       "    .dataframe tbody tr th:only-of-type {\n",
       "        vertical-align: middle;\n",
       "    }\n",
       "\n",
       "    .dataframe tbody tr th {\n",
       "        vertical-align: top;\n",
       "    }\n",
       "\n",
       "    .dataframe thead th {\n",
       "        text-align: right;\n",
       "    }\n",
       "</style>\n",
       "<table border=\"1\" class=\"dataframe\">\n",
       "  <thead>\n",
       "    <tr style=\"text-align: right;\">\n",
       "      <th></th>\n",
       "      <th>transaction_id</th>\n",
       "      <th>visitor_id</th>\n",
       "      <th>date</th>\n",
       "      <th>revenue</th>\n",
       "      <th>group</th>\n",
       "    </tr>\n",
       "  </thead>\n",
       "  <tbody>\n",
       "    <tr>\n",
       "      <th>0</th>\n",
       "      <td>3667963787</td>\n",
       "      <td>3312258926</td>\n",
       "      <td>2019-08-15</td>\n",
       "      <td>1650</td>\n",
       "      <td>B</td>\n",
       "    </tr>\n",
       "    <tr>\n",
       "      <th>1</th>\n",
       "      <td>2804400009</td>\n",
       "      <td>3642806036</td>\n",
       "      <td>2019-08-15</td>\n",
       "      <td>730</td>\n",
       "      <td>B</td>\n",
       "    </tr>\n",
       "    <tr>\n",
       "      <th>2</th>\n",
       "      <td>2961555356</td>\n",
       "      <td>4069496402</td>\n",
       "      <td>2019-08-15</td>\n",
       "      <td>400</td>\n",
       "      <td>A</td>\n",
       "    </tr>\n",
       "    <tr>\n",
       "      <th>3</th>\n",
       "      <td>3797467345</td>\n",
       "      <td>1196621759</td>\n",
       "      <td>2019-08-15</td>\n",
       "      <td>9759</td>\n",
       "      <td>B</td>\n",
       "    </tr>\n",
       "    <tr>\n",
       "      <th>4</th>\n",
       "      <td>2282983706</td>\n",
       "      <td>2322279887</td>\n",
       "      <td>2019-08-15</td>\n",
       "      <td>2308</td>\n",
       "      <td>B</td>\n",
       "    </tr>\n",
       "  </tbody>\n",
       "</table>\n",
       "</div>"
      ],
      "text/plain": [
       "   transaction_id  visitor_id        date  revenue group\n",
       "0      3667963787  3312258926  2019-08-15     1650     B\n",
       "1      2804400009  3642806036  2019-08-15      730     B\n",
       "2      2961555356  4069496402  2019-08-15      400     A\n",
       "3      3797467345  1196621759  2019-08-15     9759     B\n",
       "4      2282983706  2322279887  2019-08-15     2308     B"
      ]
     },
     "execution_count": 8,
     "metadata": {},
     "output_type": "execute_result"
    }
   ],
   "source": [
    "#переименуем столбцы\n",
    "orders = orders.rename(columns={'transactionId': 'transaction_id', 'visitorId': 'visitor_id'})\n",
    "orders.head()"
   ]
  },
  {
   "cell_type": "code",
   "execution_count": 9,
   "metadata": {},
   "outputs": [
    {
     "data": {
      "text/plain": [
       "transaction_id    0\n",
       "visitor_id        0\n",
       "date              0\n",
       "revenue           0\n",
       "group             0\n",
       "dtype: int64"
      ]
     },
     "execution_count": 9,
     "metadata": {},
     "output_type": "execute_result"
    }
   ],
   "source": [
    "#проверим датафрейм orders на пропуски\n",
    "orders.isna().sum()"
   ]
  },
  {
   "cell_type": "markdown",
   "metadata": {},
   "source": [
    "**Пропусков нет**"
   ]
  },
  {
   "cell_type": "code",
   "execution_count": 10,
   "metadata": {},
   "outputs": [
    {
     "data": {
      "text/plain": [
       "0"
      ]
     },
     "execution_count": 10,
     "metadata": {},
     "output_type": "execute_result"
    }
   ],
   "source": [
    "#проверим датафрейм orders на дибликаты\n",
    "orders.duplicated().sum()"
   ]
  },
  {
   "cell_type": "markdown",
   "metadata": {},
   "source": [
    "**Дубликатов нет**"
   ]
  },
  {
   "cell_type": "code",
   "execution_count": 11,
   "metadata": {},
   "outputs": [
    {
     "name": "stdout",
     "output_type": "stream",
     "text": [
      "<class 'pandas.core.frame.DataFrame'>\n",
      "RangeIndex: 62 entries, 0 to 61\n",
      "Data columns (total 3 columns):\n",
      " #   Column    Non-Null Count  Dtype \n",
      "---  ------    --------------  ----- \n",
      " 0   date      62 non-null     object\n",
      " 1   group     62 non-null     object\n",
      " 2   visitors  62 non-null     int64 \n",
      "dtypes: int64(1), object(2)\n",
      "memory usage: 1.6+ KB\n"
     ]
    },
    {
     "data": {
      "text/html": [
       "<div>\n",
       "<style scoped>\n",
       "    .dataframe tbody tr th:only-of-type {\n",
       "        vertical-align: middle;\n",
       "    }\n",
       "\n",
       "    .dataframe tbody tr th {\n",
       "        vertical-align: top;\n",
       "    }\n",
       "\n",
       "    .dataframe thead th {\n",
       "        text-align: right;\n",
       "    }\n",
       "</style>\n",
       "<table border=\"1\" class=\"dataframe\">\n",
       "  <thead>\n",
       "    <tr style=\"text-align: right;\">\n",
       "      <th></th>\n",
       "      <th>date</th>\n",
       "      <th>group</th>\n",
       "      <th>visitors</th>\n",
       "    </tr>\n",
       "  </thead>\n",
       "  <tbody>\n",
       "    <tr>\n",
       "      <th>0</th>\n",
       "      <td>2019-08-01</td>\n",
       "      <td>A</td>\n",
       "      <td>719</td>\n",
       "    </tr>\n",
       "    <tr>\n",
       "      <th>1</th>\n",
       "      <td>2019-08-02</td>\n",
       "      <td>A</td>\n",
       "      <td>619</td>\n",
       "    </tr>\n",
       "    <tr>\n",
       "      <th>2</th>\n",
       "      <td>2019-08-03</td>\n",
       "      <td>A</td>\n",
       "      <td>507</td>\n",
       "    </tr>\n",
       "    <tr>\n",
       "      <th>3</th>\n",
       "      <td>2019-08-04</td>\n",
       "      <td>A</td>\n",
       "      <td>717</td>\n",
       "    </tr>\n",
       "    <tr>\n",
       "      <th>4</th>\n",
       "      <td>2019-08-05</td>\n",
       "      <td>A</td>\n",
       "      <td>756</td>\n",
       "    </tr>\n",
       "  </tbody>\n",
       "</table>\n",
       "</div>"
      ],
      "text/plain": [
       "         date group  visitors\n",
       "0  2019-08-01     A       719\n",
       "1  2019-08-02     A       619\n",
       "2  2019-08-03     A       507\n",
       "3  2019-08-04     A       717\n",
       "4  2019-08-05     A       756"
      ]
     },
     "execution_count": 11,
     "metadata": {},
     "output_type": "execute_result"
    }
   ],
   "source": [
    "#выводим информацию и первые 5 строк датафрейма visitors\n",
    "visitors.info()\n",
    "visitors.head()"
   ]
  },
  {
   "cell_type": "code",
   "execution_count": 12,
   "metadata": {},
   "outputs": [
    {
     "data": {
      "text/plain": [
       "date        0\n",
       "group       0\n",
       "visitors    0\n",
       "dtype: int64"
      ]
     },
     "execution_count": 12,
     "metadata": {},
     "output_type": "execute_result"
    }
   ],
   "source": [
    "#проверим датафрейм visitors на пропуски\n",
    "visitors.isna().sum()"
   ]
  },
  {
   "cell_type": "markdown",
   "metadata": {},
   "source": [
    "**Пропусков нет**"
   ]
  },
  {
   "cell_type": "code",
   "execution_count": 13,
   "metadata": {},
   "outputs": [
    {
     "data": {
      "text/plain": [
       "0"
      ]
     },
     "execution_count": 13,
     "metadata": {},
     "output_type": "execute_result"
    }
   ],
   "source": [
    "#проверим датафрейм visitors на дибликаты\n",
    "visitors.duplicated().sum()"
   ]
  },
  {
   "cell_type": "markdown",
   "metadata": {},
   "source": [
    "**Дубликатов нет**"
   ]
  },
  {
   "cell_type": "code",
   "execution_count": 14,
   "metadata": {},
   "outputs": [
    {
     "name": "stdout",
     "output_type": "stream",
     "text": [
      "Количество посетителей в группе А: 18736\n",
      "Количество посетителей в группе B: 18916\n",
      "Количество покупок в группе A: 557\n",
      "Количество покупок в группе B: 640\n"
     ]
    }
   ],
   "source": [
    "#посмотрим на разбиение по группам\n",
    "print('Количество посетителей в группе А: {}\\n'\n",
    "      'Количество посетителей в группе B: {}'.format(visitors[visitors['group']=='A']['visitors'].sum(), \n",
    "                                                 visitors[visitors['group']=='B']['visitors'].sum()))\n",
    "purchasesA = len(orders[orders['group']=='A'])\n",
    "purchasesB = len(orders[orders['group']=='B'])\n",
    "print('Количество покупок в группе A: {}'.format(purchasesA))\n",
    "print('Количество покупок в группе B: {}'.format(purchasesB))"
   ]
  },
  {
   "cell_type": "markdown",
   "metadata": {},
   "source": [
    "**Разница в посетителях между группами 180, меньше 5% от общего числа пользователей, разбиение нормальное.**"
   ]
  },
  {
   "cell_type": "code",
   "execution_count": 15,
   "metadata": {},
   "outputs": [
    {
     "data": {
      "text/plain": [
       "array([4069496402,  963407295,  351125977, 3234906277,  199603092,\n",
       "        237748145, 3803269165, 2038680547, 2378935119, 4256040402,\n",
       "       2712142231,    8300375,  276558944,  457167155, 3062433592,\n",
       "       1738359350, 2458001652, 2716752286, 3891541246, 1648269707,\n",
       "       3656415546, 2686716486, 2954449915, 2927087541, 2579882178,\n",
       "       3957174400, 2780786433, 3984495233,  818047933, 1668030113,\n",
       "       3717692402, 2044997962, 1959144690, 1294878855, 1404934699,\n",
       "       2587333274, 3202540741, 1333886533, 2600415354, 3951559397,\n",
       "        393266494, 3972127743, 4120364173, 4266935830, 1230306981,\n",
       "       1614305549,  477780734, 1602967004, 1801183820, 4186807279,\n",
       "       3766097110, 3941795274,  471551937, 1316129916,  232979603,\n",
       "       2654030115, 3963646447, 2949041841])"
      ]
     },
     "metadata": {},
     "output_type": "display_data"
    },
    {
     "name": "stdout",
     "output_type": "stream",
     "text": [
      "Количество пользователей в двух группах: 58\n",
      "Всего пользователей в тесте: 1031\n"
     ]
    }
   ],
   "source": [
    "#проверим группы на пересечение\n",
    "a_g = orders[orders['group'] == 'A']['visitor_id']\n",
    "b_g = orders[orders['group'] == 'B']['visitor_id']\n",
    "orders_ab = orders.query('visitor_id in @a_g and visitor_id in @b_g')\n",
    "display(orders_ab['visitor_id'].unique())\n",
    "print('Количество пользователей в двух группах:', orders_ab['visitor_id'].nunique())\n",
    "print('Всего пользователей в тесте:', orders['visitor_id'].nunique())"
   ]
  },
  {
   "cell_type": "markdown",
   "metadata": {},
   "source": [
    "**Одновременно в двух группах присутствуют 58 пользователей. Всего 1031 пользователь, то есть процент пересекающихся составляет 5.6%. Удалим им для дальнейшего корректного проведения теста.**"
   ]
  },
  {
   "cell_type": "code",
   "execution_count": 16,
   "metadata": {},
   "outputs": [
    {
     "name": "stdout",
     "output_type": "stream",
     "text": [
      "Всего пользователей осталось: 973\n"
     ]
    }
   ],
   "source": [
    "#удалим пересекающихся пользователей\n",
    "orders = orders.query('visitor_id not in @orders_ab[\"visitor_id\"]')\n",
    "print('Всего пользователей осталось:', orders['visitor_id'].nunique())"
   ]
  },
  {
   "cell_type": "code",
   "execution_count": 17,
   "metadata": {},
   "outputs": [],
   "source": [
    "#создаем массив уникальных пар значений дат и групп теста\n",
    "datesGroups = orders[['date','group']].drop_duplicates() "
   ]
  },
  {
   "cell_type": "code",
   "execution_count": 18,
   "metadata": {},
   "outputs": [],
   "source": [
    "#вычислим максимальную дату\n",
    "ordersAggregated = datesGroups.apply(\n",
    "    lambda x: orders[\n",
    "        np.logical_and(\n",
    "            orders['date'] <= x['date'], orders['group'] == x['group']\n",
    "        )\n",
    "    ].agg(\n",
    "        {\n",
    "            'date': 'max',\n",
    "            'group': 'max',\n",
    "            'transaction_id': 'nunique',\n",
    "            'visitor_id': 'nunique',\n",
    "            'revenue': 'sum',\n",
    "        }\n",
    "    ),\n",
    "    axis=1,\n",
    ").sort_values(by=['date', 'group'])"
   ]
  },
  {
   "cell_type": "code",
   "execution_count": 19,
   "metadata": {},
   "outputs": [],
   "source": [
    "#получим агрегированные кумулятивные данные по дням \n",
    "visitorsAggregated = datesGroups.apply(\n",
    "    lambda x: visitors[\n",
    "        np.logical_and(\n",
    "            visitors['date'] <= x['date'], visitors['group'] == x['group']\n",
    "        )\n",
    "    ].agg({'date': 'max', 'group': 'max', 'visitors': 'sum'}),\n",
    "    axis=1,\n",
    ").sort_values(by=['date', 'group'])"
   ]
  },
  {
   "cell_type": "code",
   "execution_count": 20,
   "metadata": {},
   "outputs": [
    {
     "data": {
      "text/html": [
       "<div>\n",
       "<style scoped>\n",
       "    .dataframe tbody tr th:only-of-type {\n",
       "        vertical-align: middle;\n",
       "    }\n",
       "\n",
       "    .dataframe tbody tr th {\n",
       "        vertical-align: top;\n",
       "    }\n",
       "\n",
       "    .dataframe thead th {\n",
       "        text-align: right;\n",
       "    }\n",
       "</style>\n",
       "<table border=\"1\" class=\"dataframe\">\n",
       "  <thead>\n",
       "    <tr style=\"text-align: right;\">\n",
       "      <th></th>\n",
       "      <th>date</th>\n",
       "      <th>group</th>\n",
       "      <th>orders</th>\n",
       "      <th>buyers</th>\n",
       "      <th>revenue</th>\n",
       "      <th>visitors</th>\n",
       "    </tr>\n",
       "  </thead>\n",
       "  <tbody>\n",
       "    <tr>\n",
       "      <th>0</th>\n",
       "      <td>2019-08-01</td>\n",
       "      <td>A</td>\n",
       "      <td>23</td>\n",
       "      <td>19</td>\n",
       "      <td>142779</td>\n",
       "      <td>719</td>\n",
       "    </tr>\n",
       "    <tr>\n",
       "      <th>1</th>\n",
       "      <td>2019-08-01</td>\n",
       "      <td>B</td>\n",
       "      <td>17</td>\n",
       "      <td>17</td>\n",
       "      <td>59758</td>\n",
       "      <td>713</td>\n",
       "    </tr>\n",
       "    <tr>\n",
       "      <th>2</th>\n",
       "      <td>2019-08-02</td>\n",
       "      <td>A</td>\n",
       "      <td>42</td>\n",
       "      <td>36</td>\n",
       "      <td>234381</td>\n",
       "      <td>1338</td>\n",
       "    </tr>\n",
       "    <tr>\n",
       "      <th>3</th>\n",
       "      <td>2019-08-02</td>\n",
       "      <td>B</td>\n",
       "      <td>40</td>\n",
       "      <td>39</td>\n",
       "      <td>221801</td>\n",
       "      <td>1294</td>\n",
       "    </tr>\n",
       "    <tr>\n",
       "      <th>4</th>\n",
       "      <td>2019-08-03</td>\n",
       "      <td>A</td>\n",
       "      <td>66</td>\n",
       "      <td>60</td>\n",
       "      <td>346854</td>\n",
       "      <td>1845</td>\n",
       "    </tr>\n",
       "  </tbody>\n",
       "</table>\n",
       "</div>"
      ],
      "text/plain": [
       "         date group  orders  buyers  revenue  visitors\n",
       "0  2019-08-01     A      23      19   142779       719\n",
       "1  2019-08-01     B      17      17    59758       713\n",
       "2  2019-08-02     A      42      36   234381      1338\n",
       "3  2019-08-02     B      40      39   221801      1294\n",
       "4  2019-08-03     A      66      60   346854      1845"
      ]
     },
     "execution_count": 20,
     "metadata": {},
     "output_type": "execute_result"
    }
   ],
   "source": [
    "#объединим обе таблицы\n",
    "cumulativeData = ordersAggregated.merge(visitorsAggregated, left_on=['date', 'group'], right_on=['date', 'group'])\n",
    "cumulativeData.columns = ['date', 'group', 'orders', 'buyers', 'revenue', 'visitors']\n",
    "cumulativeData.head() "
   ]
  },
  {
   "cell_type": "markdown",
   "metadata": {},
   "source": [
    "##### График кумулятивной выручки по группам"
   ]
  },
  {
   "cell_type": "code",
   "execution_count": 21,
   "metadata": {},
   "outputs": [],
   "source": [
    "#создаем датафреймы с кумулятивным количеством заказов и кумулятивной выручкой по дням в каждой группе\n",
    "cumulativeRevenueA = cumulativeData[cumulativeData['group']=='A'][['date','revenue', 'orders']]\n",
    "cumulativeRevenueB = cumulativeData[cumulativeData['group']=='B'][['date','revenue', 'orders']]"
   ]
  },
  {
   "cell_type": "code",
   "execution_count": 22,
   "metadata": {
    "scrolled": false
   },
   "outputs": [
    {
     "data": {
      "image/png": "[encoded data removed]",
      "text/plain": [
       "<Figure size 1080x360 with 1 Axes>"
      ]
     },
     "metadata": {
      "needs_background": "light"
     },
     "output_type": "display_data"
    }
   ],
   "source": [
    "#построим графики\n",
    "plt.figure(figsize=(15,5))\n",
    "plt.plot(cumulativeRevenueA['date'], cumulativeRevenueA['revenue'], label='A')\n",
    "plt.plot(cumulativeRevenueB['date'], cumulativeRevenueB['revenue'], label='B')\n",
    "plt.title('График кумулятивной выручки по дням и группам')\n",
    "plt.xticks(rotation=90)\n",
    "plt.grid()\n",
    "plt.legend();"
   ]
  },
  {
   "cell_type": "markdown",
   "metadata": {},
   "source": [
    "**Выручки практически равномерно увеличивается по группам вплоть до 14 августа. Далее выручка группы B увеличивается, а 18 августа наблюдается значительный рост. Скорее всего был крупный заказ.**"
   ]
  },
  {
   "cell_type": "markdown",
   "metadata": {},
   "source": [
    "##### График кумулятивного среднего чека по группам"
   ]
  },
  {
   "cell_type": "code",
   "execution_count": 23,
   "metadata": {},
   "outputs": [
    {
     "data": {
      "image/png": "[encoded data removed]",
      "text/plain": [
       "<Figure size 1080x360 with 1 Axes>"
      ]
     },
     "metadata": {
      "needs_background": "light"
     },
     "output_type": "display_data"
    }
   ],
   "source": [
    "#построим графики среднего чека по группам\n",
    "plt.figure(figsize=(15,5))\n",
    "plt.plot(cumulativeRevenueA['date'], cumulativeRevenueA['revenue']/cumulativeRevenueA['orders'], label='A')\n",
    "plt.plot(cumulativeRevenueB['date'], cumulativeRevenueB['revenue']/cumulativeRevenueB['orders'], label='B')\n",
    "plt.title('График кумулятивного среднего чека по группам')\n",
    "plt.xticks(rotation=90)\n",
    "plt.grid()\n",
    "plt.legend();"
   ]
  },
  {
   "cell_type": "markdown",
   "metadata": {},
   "source": [
    "**Предположения о крупном заказе 18 августа подтверждаются среним чеком, который за сутки вырос на 3т.р.**"
   ]
  },
  {
   "cell_type": "markdown",
   "metadata": {},
   "source": [
    "##### График относительного изменения кумулятивного среднего чека"
   ]
  },
  {
   "cell_type": "code",
   "execution_count": 24,
   "metadata": {},
   "outputs": [],
   "source": [
    "#собираем данные в одном датафрейме\n",
    "mergedCumulativeRevenue = cumulativeRevenueA.merge(cumulativeRevenueB, left_on='date', right_on='date', how='left', suffixes=['A', 'B'])"
   ]
  },
  {
   "cell_type": "code",
   "execution_count": 25,
   "metadata": {},
   "outputs": [
    {
     "data": {
      "image/png": "[encoded data removed]",
      "text/plain": [
       "<Figure size 1080x360 with 1 Axes>"
      ]
     },
     "metadata": {
      "needs_background": "light"
     },
     "output_type": "display_data"
    }
   ],
   "source": [
    "#построим график\n",
    "plt.figure(figsize=(15,5))\n",
    "plt.plot(mergedCumulativeRevenue['date'], (mergedCumulativeRevenue['revenueB']/mergedCumulativeRevenue['ordersB'])/(mergedCumulativeRevenue['revenueA']/mergedCumulativeRevenue['ordersA'])-1)\n",
    "plt.title('График относительного изменения кумулятивного среднего чека')\n",
    "plt.axhline(y=0, color='black', linestyle='--') \n",
    "plt.xticks(rotation=90)\n",
    "plt.grid();"
   ]
  },
  {
   "cell_type": "markdown",
   "metadata": {},
   "source": [
    "**Учитывая скачки на графике, в данных явно присутствуют выбросы, от которых следует избавиться.**"
   ]
  },
  {
   "cell_type": "markdown",
   "metadata": {},
   "source": [
    "##### График кумулятивного среднего количества заказов на посетителя по группам"
   ]
  },
  {
   "cell_type": "code",
   "execution_count": 26,
   "metadata": {},
   "outputs": [],
   "source": [
    "#считаем среднее количество заказов на посетителя\n",
    "cumulativeData['conversion'] = cumulativeData['orders']/cumulativeData['visitors']\n",
    "cumulativeDataA = cumulativeData[cumulativeData['group']=='A']\n",
    "cumulativeDataB = cumulativeData[cumulativeData['group']=='B']"
   ]
  },
  {
   "cell_type": "code",
   "execution_count": 27,
   "metadata": {},
   "outputs": [
    {
     "data": {
      "image/png": "[encoded data removed]",
      "text/plain": [
       "<Figure size 1080x360 with 1 Axes>"
      ]
     },
     "metadata": {
      "needs_background": "light"
     },
     "output_type": "display_data"
    }
   ],
   "source": [
    "#построим график\n",
    "plt.figure(figsize=(15,5))\n",
    "plt.plot(cumulativeDataA['date'], cumulativeDataA['conversion'], label='A')\n",
    "plt.plot(cumulativeDataB['date'], cumulativeDataB['conversion'], label='B')\n",
    "plt.title('График кумулятивного среднего количества заказов на посетителя по группам')\n",
    "plt.xticks(rotation=90)\n",
    "plt.grid()\n",
    "plt.legend();"
   ]
  },
  {
   "cell_type": "markdown",
   "metadata": {},
   "source": [
    "**После всплеска 2 августа среднее количество заказов группы A резко упало и нормализовалось только к 11 августа. Число заказов группы B начинает расти 4 августа и к 6 августа уже превышает конверсию группы A. Начиная с этого периода и до конца исследования, конверсия группы B значительно превышает аналогичный параметр группы A.**"
   ]
  },
  {
   "cell_type": "markdown",
   "metadata": {},
   "source": [
    "##### График относительного изменения кумулятивного среднего количества заказов"
   ]
  },
  {
   "cell_type": "code",
   "execution_count": 28,
   "metadata": {},
   "outputs": [],
   "source": [
    "#собираем данные в одном датафрейме\n",
    "mergedCumulativeConversions = cumulativeDataA[['date','conversion']].merge(cumulativeDataB[['date','conversion']], left_on='date', right_on='date', how='left', suffixes=['A', 'B'])"
   ]
  },
  {
   "cell_type": "code",
   "execution_count": 29,
   "metadata": {},
   "outputs": [
    {
     "data": {
      "image/png": "[encoded data removed]",
      "text/plain": [
       "<Figure size 1080x360 with 1 Axes>"
      ]
     },
     "metadata": {
      "needs_background": "light"
     },
     "output_type": "display_data"
    }
   ],
   "source": [
    "#построим график\n",
    "plt.figure(figsize=(15,5))\n",
    "plt.plot(mergedCumulativeConversions['date'], mergedCumulativeConversions['conversionB']/mergedCumulativeConversions['conversionA']-1, label=\"Относительный прирост кумулятивного среднего количества заказов на посетителя группы B относительно группы A\")\n",
    "plt.title('График относительного изменения кумулятивного среднего количества заказов')\n",
    "plt.axhline(y=0, color='black', linestyle='--')\n",
    "plt.axhline(y=-0.1, color='grey', linestyle='--')\n",
    "plt.xticks(rotation=90)\n",
    "plt.grid()\n",
    "plt.legend();"
   ]
  },
  {
   "cell_type": "markdown",
   "metadata": {},
   "source": [
    "**Отчасти график дублирует предыдущий, 5 августа среднее количество заказов группы B начинает превосходить ту же метрику группы А. Можно сделать промежуточный вывод о том, что к 6 августа начинают работать нововведения интернет-магазина.**"
   ]
  },
  {
   "cell_type": "markdown",
   "metadata": {},
   "source": [
    "##### Точечный график количества заказов по пользователям"
   ]
  },
  {
   "cell_type": "code",
   "execution_count": 30,
   "metadata": {},
   "outputs": [
    {
     "name": "stdout",
     "output_type": "stream",
     "text": [
      "         userId  orders\n",
      "908  3967698036       3\n",
      "55    249864742       3\n",
      "478  2108163459       3\n",
      "687  2988190573       3\n",
      "890  3908431265       3\n",
      "138   611059232       3\n",
      "632  2742574263       3\n",
      "157   678354126       2\n",
      "323  1404560065       2\n",
      "452  1985475298       2\n"
     ]
    }
   ],
   "source": [
    "#посчитаем количество заказов по пользователям\n",
    "ordersByUsers = (\n",
    "    orders.groupby('visitor_id', as_index=False)\n",
    "    .agg({'transaction_id': 'nunique'})\n",
    ")\n",
    "ordersByUsers.columns = ['userId', 'orders']\n",
    "print(ordersByUsers.sort_values(by='orders', ascending=False).head(10)) "
   ]
  },
  {
   "cell_type": "code",
   "execution_count": 31,
   "metadata": {},
   "outputs": [
    {
     "data": {
      "image/png": "[encoded data removed]",
      "text/plain": [
       "<Figure size 1080x360 with 1 Axes>"
      ]
     },
     "metadata": {
      "needs_background": "light"
     },
     "output_type": "display_data"
    }
   ],
   "source": [
    "#построим график\n",
    "plt.figure(figsize=(15,5))\n",
    "plt.title('Точечный график количества заказов по пользователям')\n",
    "x_values = pd.Series(range(0,len(ordersByUsers)))\n",
    "plt.grid()\n",
    "plt.scatter(x_values, ordersByUsers['orders']);"
   ]
  },
  {
   "cell_type": "markdown",
   "metadata": {},
   "source": [
    "**Большинство пользователей совершили только один заказ. Достаточно для анализа пользователей, которые совершили 2 заказа. Данных тех, кто совершил больше двух заказов, можно отнести к выбросам. Осталось определиться с пользователями, которые совершили 3 заказа.**"
   ]
  },
  {
   "cell_type": "markdown",
   "metadata": {},
   "source": [
    "##### Подсчет 95-й  99-й перцентилей количества заказов"
   ]
  },
  {
   "cell_type": "code",
   "execution_count": 32,
   "metadata": {},
   "outputs": [
    {
     "name": "stdout",
     "output_type": "stream",
     "text": [
      "[1. 2.]\n"
     ]
    }
   ],
   "source": [
    "print(np.percentile(ordersByUsers['orders'], [95, 99])) "
   ]
  },
  {
   "cell_type": "markdown",
   "metadata": {},
   "source": [
    "**Отнесем данные пользователей, совершивших больше двух заказов к выбросам.**"
   ]
  },
  {
   "cell_type": "markdown",
   "metadata": {},
   "source": [
    "##### Точечный график стоимостей заказов"
   ]
  },
  {
   "cell_type": "code",
   "execution_count": 33,
   "metadata": {},
   "outputs": [
    {
     "data": {
      "image/png": "[encoded data removed]",
      "text/plain": [
       "<Figure size 1080x360 with 1 Axes>"
      ]
     },
     "metadata": {
      "needs_background": "light"
     },
     "output_type": "display_data"
    }
   ],
   "source": [
    "#построим график\n",
    "plt.figure(figsize=(15,5))\n",
    "x_values = pd.Series(range(0,len(orders['revenue'])))\n",
    "plt.scatter(x_values, orders['revenue'])\n",
    "plt.title('Точечный график стоимостей заказов')\n",
    "plt.grid();"
   ]
  },
  {
   "cell_type": "code",
   "execution_count": 34,
   "metadata": {
    "scrolled": true
   },
   "outputs": [
    {
     "data": {
      "image/png": "[encoded data removed]",
      "text/plain": [
       "<Figure size 1080x360 with 1 Axes>"
      ]
     },
     "metadata": {
      "needs_background": "light"
     },
     "output_type": "display_data"
    }
   ],
   "source": [
    "new_orders = orders[orders['revenue']<=200000]['revenue']\n",
    "plt.figure(figsize=(15,5))\n",
    "xx_values = pd.Series(range(0,len(new_orders)))\n",
    "plt.scatter(xx_values, new_orders);\n",
    "plt.title('Точечный график стоимостей заказов')\n",
    "plt.grid();"
   ]
  },
  {
   "cell_type": "markdown",
   "metadata": {},
   "source": [
    "**Подавляющее большинство совершаемых заказов укладывается в сумму 20т.р. Для определения более точного распределения посчитаем перцентили**"
   ]
  },
  {
   "cell_type": "markdown",
   "metadata": {},
   "source": [
    "##### Подсчет 95-й 99-й перцентилей стоимости заказов"
   ]
  },
  {
   "cell_type": "code",
   "execution_count": 35,
   "metadata": {},
   "outputs": [
    {
     "name": "stdout",
     "output_type": "stream",
     "text": [
      "[26785. 53904.]\n"
     ]
    }
   ],
   "source": [
    "print(np.percentile(orders['revenue'], [95, 99]))"
   ]
  },
  {
   "cell_type": "code",
   "execution_count": 36,
   "metadata": {},
   "outputs": [
    {
     "name": "stdout",
     "output_type": "stream",
     "text": [
      "[26785. 30649. 34792. 42353. 53904.]\n"
     ]
    }
   ],
   "source": [
    "#посчитаем промежуточные значения между 95 и 99 перцентилем\n",
    "print(np.percentile(orders['revenue'], [95, 96, 97, 98, 99])) "
   ]
  },
  {
   "cell_type": "markdown",
   "metadata": {},
   "source": [
    "**Установим границу в стоимости заказа 98-й перцентиль**"
   ]
  },
  {
   "cell_type": "markdown",
   "metadata": {},
   "source": [
    "##### Подсчет различий в среднем количестве заказов по группам по \"сырым\" данным"
   ]
  },
  {
   "cell_type": "markdown",
   "metadata": {},
   "source": [
    "**Сформулируем гипотезы. Нулевая: различий в среднем количестве заказов между группами нет. Альтернативная: различия в среднем между группами есть.**"
   ]
  },
  {
   "cell_type": "code",
   "execution_count": 37,
   "metadata": {},
   "outputs": [],
   "source": [
    "#подготовим данные\n",
    "visitorsADaily = visitors[visitors['group'] == 'A'][['date', 'visitors']]\n",
    "visitorsADaily.columns = ['date', 'visitorsPerDateA']\n",
    "\n",
    "visitorsACummulative = visitorsADaily.apply(\n",
    "    lambda x: visitorsADaily[visitorsADaily['date'] <= x['date']].agg(\n",
    "        {'date': 'max', 'visitorsPerDateA': 'sum'}\n",
    "    ),\n",
    "    axis=1,\n",
    ")\n",
    "visitorsACummulative.columns = ['date', 'visitorsCummulativeA']\n",
    "\n",
    "visitorsBDaily = visitors[visitors['group'] == 'B'][['date', 'visitors']]\n",
    "visitorsBDaily.columns = ['date', 'visitorsPerDateB']\n",
    "\n",
    "visitorsBCummulative = visitorsBDaily.apply(\n",
    "    lambda x: visitorsBDaily[visitorsBDaily['date'] <= x['date']].agg(\n",
    "        {'date': 'max', 'visitorsPerDateB': 'sum'}\n",
    "    ),\n",
    "    axis=1,\n",
    ")\n",
    "visitorsBCummulative.columns = ['date', 'visitorsCummulativeB']\n",
    "\n",
    "ordersADaily = (\n",
    "    orders[orders['group'] == 'A'][['date', 'transaction_id', 'visitor_id', 'revenue']]\n",
    "    .groupby('date', as_index=False)\n",
    "    .agg({'transaction_id': pd.Series.nunique, 'revenue': 'sum'})\n",
    ")\n",
    "ordersADaily.columns = ['date', 'ordersPerDateA', 'revenuePerDateA']\n",
    "\n",
    "ordersACummulative = ordersADaily.apply(\n",
    "    lambda x: ordersADaily[ordersADaily['date'] <= x['date']].agg(\n",
    "        {'date': 'max', 'ordersPerDateA': 'sum', 'revenuePerDateA': 'sum'}\n",
    "    ),\n",
    "    axis=1,\n",
    ").sort_values(by=['date'])\n",
    "ordersACummulative.columns = [\n",
    "    'date',\n",
    "    'ordersCummulativeA',\n",
    "    'revenueCummulativeA',\n",
    "]\n",
    "\n",
    "ordersBDaily = (\n",
    "    orders[orders['group'] == 'B'][['date', 'transaction_id', 'visitor_id', 'revenue']]\n",
    "    .groupby('date', as_index=False)\n",
    "    .agg({'transaction_id': pd.Series.nunique, 'revenue': 'sum'})\n",
    ")\n",
    "ordersBDaily.columns = ['date', 'ordersPerDateB', 'revenuePerDateB']\n",
    "\n",
    "ordersBCummulative = ordersBDaily.apply(\n",
    "    lambda x: ordersBDaily[ordersBDaily['date'] <= x['date']].agg(\n",
    "        {'date': 'max', 'ordersPerDateB': 'sum', 'revenuePerDateB': 'sum'}\n",
    "    ),\n",
    "    axis=1,\n",
    ").sort_values(by=['date'])\n",
    "ordersBCummulative.columns = [\n",
    "    'date',\n",
    "    'ordersCummulativeB',\n",
    "    'revenueCummulativeB',\n",
    "]"
   ]
  },
  {
   "cell_type": "code",
   "execution_count": 38,
   "metadata": {},
   "outputs": [
    {
     "data": {
      "text/html": [
       "<div>\n",
       "<style scoped>\n",
       "    .dataframe tbody tr th:only-of-type {\n",
       "        vertical-align: middle;\n",
       "    }\n",
       "\n",
       "    .dataframe tbody tr th {\n",
       "        vertical-align: top;\n",
       "    }\n",
       "\n",
       "    .dataframe thead th {\n",
       "        text-align: right;\n",
       "    }\n",
       "</style>\n",
       "<table border=\"1\" class=\"dataframe\">\n",
       "  <thead>\n",
       "    <tr style=\"text-align: right;\">\n",
       "      <th></th>\n",
       "      <th>date</th>\n",
       "      <th>ordersPerDateA</th>\n",
       "      <th>revenuePerDateA</th>\n",
       "      <th>ordersPerDateB</th>\n",
       "      <th>revenuePerDateB</th>\n",
       "      <th>ordersCummulativeA</th>\n",
       "      <th>revenueCummulativeA</th>\n",
       "      <th>ordersCummulativeB</th>\n",
       "      <th>revenueCummulativeB</th>\n",
       "      <th>visitorsPerDateA</th>\n",
       "      <th>visitorsPerDateB</th>\n",
       "      <th>visitorsCummulativeA</th>\n",
       "      <th>visitorsCummulativeB</th>\n",
       "    </tr>\n",
       "  </thead>\n",
       "  <tbody>\n",
       "    <tr>\n",
       "      <th>0</th>\n",
       "      <td>2019-08-01</td>\n",
       "      <td>23</td>\n",
       "      <td>142779</td>\n",
       "      <td>17</td>\n",
       "      <td>59758</td>\n",
       "      <td>23</td>\n",
       "      <td>142779</td>\n",
       "      <td>17</td>\n",
       "      <td>59758</td>\n",
       "      <td>719</td>\n",
       "      <td>713</td>\n",
       "      <td>719</td>\n",
       "      <td>713</td>\n",
       "    </tr>\n",
       "    <tr>\n",
       "      <th>1</th>\n",
       "      <td>2019-08-02</td>\n",
       "      <td>19</td>\n",
       "      <td>91602</td>\n",
       "      <td>23</td>\n",
       "      <td>162043</td>\n",
       "      <td>42</td>\n",
       "      <td>234381</td>\n",
       "      <td>40</td>\n",
       "      <td>221801</td>\n",
       "      <td>619</td>\n",
       "      <td>581</td>\n",
       "      <td>1338</td>\n",
       "      <td>1294</td>\n",
       "    </tr>\n",
       "    <tr>\n",
       "      <th>2</th>\n",
       "      <td>2019-08-03</td>\n",
       "      <td>24</td>\n",
       "      <td>112473</td>\n",
       "      <td>14</td>\n",
       "      <td>67049</td>\n",
       "      <td>66</td>\n",
       "      <td>346854</td>\n",
       "      <td>54</td>\n",
       "      <td>288850</td>\n",
       "      <td>507</td>\n",
       "      <td>509</td>\n",
       "      <td>1845</td>\n",
       "      <td>1803</td>\n",
       "    </tr>\n",
       "    <tr>\n",
       "      <th>3</th>\n",
       "      <td>2019-08-04</td>\n",
       "      <td>11</td>\n",
       "      <td>41176</td>\n",
       "      <td>14</td>\n",
       "      <td>96890</td>\n",
       "      <td>77</td>\n",
       "      <td>388030</td>\n",
       "      <td>68</td>\n",
       "      <td>385740</td>\n",
       "      <td>717</td>\n",
       "      <td>770</td>\n",
       "      <td>2562</td>\n",
       "      <td>2573</td>\n",
       "    </tr>\n",
       "    <tr>\n",
       "      <th>4</th>\n",
       "      <td>2019-08-05</td>\n",
       "      <td>22</td>\n",
       "      <td>86383</td>\n",
       "      <td>21</td>\n",
       "      <td>89908</td>\n",
       "      <td>99</td>\n",
       "      <td>474413</td>\n",
       "      <td>89</td>\n",
       "      <td>475648</td>\n",
       "      <td>756</td>\n",
       "      <td>707</td>\n",
       "      <td>3318</td>\n",
       "      <td>3280</td>\n",
       "    </tr>\n",
       "  </tbody>\n",
       "</table>\n",
       "</div>"
      ],
      "text/plain": [
       "         date  ordersPerDateA  revenuePerDateA  ordersPerDateB  \\\n",
       "0  2019-08-01              23           142779              17   \n",
       "1  2019-08-02              19            91602              23   \n",
       "2  2019-08-03              24           112473              14   \n",
       "3  2019-08-04              11            41176              14   \n",
       "4  2019-08-05              22            86383              21   \n",
       "\n",
       "   revenuePerDateB  ordersCummulativeA  revenueCummulativeA  \\\n",
       "0            59758                  23               142779   \n",
       "1           162043                  42               234381   \n",
       "2            67049                  66               346854   \n",
       "3            96890                  77               388030   \n",
       "4            89908                  99               474413   \n",
       "\n",
       "   ordersCummulativeB  revenueCummulativeB  visitorsPerDateA  \\\n",
       "0                  17                59758               719   \n",
       "1                  40               221801               619   \n",
       "2                  54               288850               507   \n",
       "3                  68               385740               717   \n",
       "4                  89               475648               756   \n",
       "\n",
       "   visitorsPerDateB  visitorsCummulativeA  visitorsCummulativeB  \n",
       "0               713                   719                   713  \n",
       "1               581                  1338                  1294  \n",
       "2               509                  1845                  1803  \n",
       "3               770                  2562                  2573  \n",
       "4               707                  3318                  3280  "
      ]
     },
     "execution_count": 38,
     "metadata": {},
     "output_type": "execute_result"
    }
   ],
   "source": [
    "#объединим все в одну таблицу\n",
    "data = (\n",
    "    ordersADaily.merge(\n",
    "        ordersBDaily, left_on='date', right_on='date', how='left'\n",
    "    )\n",
    "    .merge(ordersACummulative, left_on='date', right_on='date', how='left')\n",
    "    .merge(ordersBCummulative, left_on='date', right_on='date', how='left')\n",
    "    .merge(visitorsADaily, left_on='date', right_on='date', how='left')\n",
    "    .merge(visitorsBDaily, left_on='date', right_on='date', how='left')\n",
    "    .merge(visitorsACummulative, left_on='date', right_on='date', how='left')\n",
    "    .merge(visitorsBCummulative, left_on='date', right_on='date', how='left')\n",
    ")\n",
    "\n",
    "data.head() "
   ]
  },
  {
   "cell_type": "code",
   "execution_count": 39,
   "metadata": {},
   "outputs": [],
   "source": [
    "#создадим переменные ordersByUsersA и ordersByUsersB\n",
    "ordersByUsersA = (\n",
    "    orders[orders['group'] == 'A']\n",
    "    .groupby('visitor_id', as_index=False)\n",
    "    .agg({'transaction_id': pd.Series.nunique})\n",
    ")\n",
    "ordersByUsersA.columns = ['visitor_id', 'orders']\n",
    "\n",
    "ordersByUsersB = (\n",
    "    orders[orders['group'] == 'B']\n",
    "    .groupby('visitor_id', as_index=False)\n",
    "    .agg({'transaction_id': pd.Series.nunique})\n",
    ")\n",
    "ordersByUsersB.columns = ['visitor_id', 'orders'] "
   ]
  },
  {
   "cell_type": "code",
   "execution_count": 40,
   "metadata": {},
   "outputs": [
    {
     "name": "stdout",
     "output_type": "stream",
     "text": [
      "P-value равно 0.011\n",
      "Разница между A и B группой равна 0.160\n"
     ]
    }
   ],
   "source": [
    "#объявим переменные sampleA и sampleB\n",
    "sampleA = pd.concat(\n",
    "    [\n",
    "        ordersByUsersA['orders'],\n",
    "        pd.Series(\n",
    "            0,\n",
    "            index=np.arange(\n",
    "                data['visitorsPerDateA'].sum() - len(ordersByUsersA['orders'])\n",
    "            ),\n",
    "            name='orders',\n",
    "        ),\n",
    "    ],\n",
    "    axis=0,\n",
    ")\n",
    "\n",
    "sampleB = pd.concat(\n",
    "    [\n",
    "        ordersByUsersB['orders'],\n",
    "        pd.Series(\n",
    "            0,\n",
    "            index=np.arange(\n",
    "                data['visitorsPerDateB'].sum() - len(ordersByUsersB['orders'])\n",
    "            ),\n",
    "            name='orders',\n",
    "        ),\n",
    "    ],\n",
    "    axis=0,\n",
    ")\n",
    "\n",
    "print('P-value равно', \"{0:.3f}\".format(stats.mannwhitneyu(sampleA, sampleB)[1]))\n",
    "\n",
    "print('Разница между A и B группой равна', \"{0:.3f}\".format(sampleB.mean() / sampleA.mean() - 1))"
   ]
  },
  {
   "cell_type": "markdown",
   "metadata": {},
   "source": [
    "**P-value = 0.011 меньше 0.05. Значит, нулевую гипотезу о том, что статистически значимых различий в среднем числе заказов между группами нет, отвергаем. Относительный выигрыш группы B равен 16%**"
   ]
  },
  {
   "cell_type": "markdown",
   "metadata": {},
   "source": [
    "##### Подсчет различий в среднем чеке заказа по группам по \"сырым\" данным"
   ]
  },
  {
   "cell_type": "markdown",
   "metadata": {},
   "source": [
    "**Сформулируем гипотезы. Нулевая гипотеза: различий в среднем чеке между группами нет. Альтернативная гипотеза: различия в среднем чеке между группами есть.**"
   ]
  },
  {
   "cell_type": "code",
   "execution_count": 41,
   "metadata": {},
   "outputs": [
    {
     "name": "stdout",
     "output_type": "stream",
     "text": [
      "P-value равно 0.829\n",
      "Разница между A и B группой равна 0.287\n"
     ]
    }
   ],
   "source": [
    "#произведем рассчет\n",
    "print('P-value равно', '{0:.3f}'.format(stats.mannwhitneyu(orders[orders['group']=='A']['revenue'], orders[orders['group']=='B']['revenue'])[1]))\n",
    "print('Разница между A и B группой равна', '{0:.3f}'.format(orders[orders['group']=='B']['revenue'].mean()/orders[orders['group']=='A']['revenue'].mean()-1)) "
   ]
  },
  {
   "cell_type": "markdown",
   "metadata": {},
   "source": [
    "**P-value значительно больше 0.05. Значит, причин отвергать нулевую гипотезу и считать, что в среднем чеке есть различия, нет. Разница в 28.7% между средними чека группы не является значимой с точки зрения статистики.**"
   ]
  },
  {
   "cell_type": "markdown",
   "metadata": {},
   "source": [
    "##### Подсчет различий в среднем количестве заказов по группам по \"очищенным\" данным"
   ]
  },
  {
   "cell_type": "markdown",
   "metadata": {},
   "source": [
    "**Сформулируем гипотезы. Нулевая: различий в среднем количестве заказов между группами нет. Альтернативная: различия в среднем между группами есть.**"
   ]
  },
  {
   "cell_type": "code",
   "execution_count": 42,
   "metadata": {},
   "outputs": [
    {
     "name": "stdout",
     "output_type": "stream",
     "text": [
      "1099    148427295\n",
      "33      249864742\n",
      "684     358944393\n",
      "648     382846391\n",
      "58      611059232\n",
      "Name: visitor_id, dtype: int64\n",
      "28\n"
     ]
    }
   ],
   "source": [
    "#сделаем срезы пользователей с числом заказов больше 2 и дороже 42 353\n",
    "usersWithManyOrders = pd.concat(\n",
    "    [\n",
    "        ordersByUsersA[ordersByUsersA['orders'] > 2]['visitor_id'],\n",
    "        ordersByUsersB[ordersByUsersB['orders'] > 2]['visitor_id'],\n",
    "    ],\n",
    "    axis=0,\n",
    ")\n",
    "usersWithExpensiveOrders = orders[orders['revenue'] > 42353]['visitor_id']\n",
    "abnormalUsers = (\n",
    "    pd.concat([usersWithManyOrders, usersWithExpensiveOrders], axis=0)\n",
    "    .drop_duplicates()\n",
    "    .sort_values()\n",
    ")\n",
    "print(abnormalUsers.head(5))\n",
    "print(abnormalUsers.shape[0]) "
   ]
  },
  {
   "cell_type": "markdown",
   "metadata": {},
   "source": [
    "**Всего 28 аномальных пользователей.**"
   ]
  },
  {
   "cell_type": "code",
   "execution_count": 43,
   "metadata": {},
   "outputs": [
    {
     "name": "stdout",
     "output_type": "stream",
     "text": [
      "P-value равно 0.004\n",
      "Разница между A и B группой равна 0.209\n"
     ]
    }
   ],
   "source": [
    "#посчитаем статистическую значимость различий\n",
    "sampleAFiltered = pd.concat(\n",
    "    [\n",
    "        ordersByUsersA[\n",
    "            np.logical_not(ordersByUsersA['visitor_id'].isin(abnormalUsers))\n",
    "        ]['orders'],\n",
    "        pd.Series(\n",
    "            0,\n",
    "            index=np.arange(\n",
    "                data['visitorsPerDateA'].sum() - len(ordersByUsersA['orders'])\n",
    "            ),\n",
    "            name='orders',\n",
    "        ),\n",
    "    ],\n",
    "    axis=0,\n",
    ")\n",
    "\n",
    "sampleBFiltered = pd.concat(\n",
    "    [\n",
    "        ordersByUsersB[\n",
    "            np.logical_not(ordersByUsersB['visitor_id'].isin(abnormalUsers))\n",
    "        ]['orders'],\n",
    "        pd.Series(\n",
    "            0,\n",
    "            index=np.arange(\n",
    "                data['visitorsPerDateB'].sum() - len(ordersByUsersB['orders'])\n",
    "            ),\n",
    "            name='orders',\n",
    "        ),\n",
    "    ],\n",
    "    axis=0,\n",
    ") \n",
    "\n",
    "print('P-value равно', '{0:.3f}'.format(stats.mannwhitneyu(sampleAFiltered, sampleBFiltered)[1]))\n",
    "print('Разница между A и B группой равна', '{0:.3f}'.format(sampleBFiltered.mean()/sampleAFiltered.mean()-1)) "
   ]
  },
  {
   "cell_type": "markdown",
   "metadata": {},
   "source": [
    "**По \"очищенным данным\" p-value = 0.004 меньше 0.05. Значит, нулевую гипотезу о том, что статистически значимых различий в среднем числе заказов между группами нет, отвергаем. Относительный выигрыш группы B равен уже 20.9%.**"
   ]
  },
  {
   "cell_type": "markdown",
   "metadata": {},
   "source": [
    "##### Подсчет различий в среднем чеке заказа по группам по \"очищенным\" данным"
   ]
  },
  {
   "cell_type": "markdown",
   "metadata": {},
   "source": [
    "**Сформулируем гипотезы. Нулевая гипотеза: различий в среднем чеке между группами нет. Альтернативная гипотеза: различия в среднем чеке между группами есть.**"
   ]
  },
  {
   "cell_type": "code",
   "execution_count": 44,
   "metadata": {},
   "outputs": [
    {
     "name": "stdout",
     "output_type": "stream",
     "text": [
      "P-value равно 0.858\n",
      "Разница между A и B группой равна 0.079\n"
     ]
    }
   ],
   "source": [
    "#произведем рассчет\n",
    "print(\n",
    "    'P-value равно',\n",
    "    '{0:.3f}'.format(\n",
    "        stats.mannwhitneyu(\n",
    "            orders[\n",
    "                np.logical_and(\n",
    "                    orders['group'] == 'A',\n",
    "                    np.logical_not(orders['visitor_id'].isin(abnormalUsers)),\n",
    "                )\n",
    "            ]['revenue'],\n",
    "            orders[\n",
    "                np.logical_and(\n",
    "                    orders['group'] == 'B',\n",
    "                    np.logical_not(orders['visitor_id'].isin(abnormalUsers)),\n",
    "                )\n",
    "            ]['revenue'],\n",
    "        )[1]\n",
    "    )\n",
    ")\n",
    "\n",
    "print(\n",
    "    'Разница между A и B группой равна',\n",
    "    \"{0:.3f}\".format(\n",
    "        orders[\n",
    "            np.logical_and(\n",
    "                orders['group'] == 'B',\n",
    "                np.logical_not(orders['visitor_id'].isin(abnormalUsers)),\n",
    "            )\n",
    "        ]['revenue'].mean()\n",
    "        / orders[\n",
    "            np.logical_and(\n",
    "                orders['group'] == 'A',\n",
    "                np.logical_not(orders['visitor_id'].isin(abnormalUsers)),\n",
    "            )\n",
    "        ]['revenue'].mean()\n",
    "        - 1\n",
    "    )\n",
    ") "
   ]
  },
  {
   "cell_type": "markdown",
   "metadata": {},
   "source": [
    "**P-value значительно больше 0.05, нулевую гипотезу не отвергаем. Разница в среднем чеке после избавления от выбросов снизилась с 26% до 7.9%. Наблюдаемое различие в 7.9% не является статистически значимым.**"
   ]
  },
  {
   "cell_type": "markdown",
   "metadata": {},
   "source": [
    "##### Решение по результатам теста"
   ]
  },
  {
   "cell_type": "markdown",
   "metadata": {},
   "source": [
    "**По результатам исследования было выявлено**\n",
    "* конверсия до и после обработки данных выше у группы B - на 16%, а затем и на 20.9% соответственно\n",
    "* до обработки данных средний чек группы B был выше на 25.9%, по очищенным данным средние чеки группы практически одинаковые\n",
    "* график различия конверсии между группами показывает, что результаты группы B лучше группы A\n",
    "\n",
    "**Результаты показывают, что дальнейшее тестирование можно не продолжать и зафиксировать победу группы B над группой A. Тест \"окрасился\" только на половину, по числу заказов при практически идентичном среднем чеке, однако выручка все равно будет расти.**"
   ]
  }
 ],
 "metadata": {
  "ExecuteTimeLog": [
   {
    "duration": 1433,
    "start_time": "2024-10-07T09:40:00.467Z"
   },
   {
    "duration": 74,
    "start_time": "2024-10-07T09:45:09.425Z"
   },
   {
    "duration": 39,
    "start_time": "2024-10-07T09:45:19.680Z"
   },
   {
    "duration": 27,
    "start_time": "2024-10-07T09:46:08.967Z"
   },
   {
    "duration": 14,
    "start_time": "2024-10-07T09:46:09.186Z"
   },
   {
    "duration": 16,
    "start_time": "2024-10-07T09:46:25.618Z"
   },
   {
    "duration": 98,
    "start_time": "2024-10-07T09:58:50.195Z"
   },
   {
    "duration": 1131,
    "start_time": "2024-10-07T09:58:59.250Z"
   },
   {
    "duration": 27,
    "start_time": "2024-10-07T09:59:00.383Z"
   },
   {
    "duration": 78,
    "start_time": "2024-10-07T09:59:00.412Z"
   },
   {
    "duration": 178,
    "start_time": "2024-10-07T09:59:00.491Z"
   },
   {
    "duration": 7,
    "start_time": "2024-10-07T09:59:11.311Z"
   },
   {
    "duration": 1132,
    "start_time": "2024-10-07T09:59:20.248Z"
   },
   {
    "duration": 28,
    "start_time": "2024-10-07T09:59:21.382Z"
   },
   {
    "duration": 73,
    "start_time": "2024-10-07T09:59:21.412Z"
   },
   {
    "duration": 13,
    "start_time": "2024-10-07T09:59:21.486Z"
   },
   {
    "duration": 1198,
    "start_time": "2024-10-07T10:03:16.942Z"
   },
   {
    "duration": 7,
    "start_time": "2024-10-07T10:03:25.278Z"
   },
   {
    "duration": 1167,
    "start_time": "2024-10-07T10:03:44.548Z"
   },
   {
    "duration": 27,
    "start_time": "2024-10-07T10:03:45.718Z"
   },
   {
    "duration": 18,
    "start_time": "2024-10-07T10:03:45.748Z"
   },
   {
    "duration": 21,
    "start_time": "2024-10-07T10:03:45.768Z"
   },
   {
    "duration": 29,
    "start_time": "2024-10-07T10:03:45.791Z"
   },
   {
    "duration": 71,
    "start_time": "2024-10-07T10:04:12.479Z"
   },
   {
    "duration": 27,
    "start_time": "2024-10-07T10:05:12.985Z"
   },
   {
    "duration": 1157,
    "start_time": "2024-10-07T10:05:17.805Z"
   },
   {
    "duration": 28,
    "start_time": "2024-10-07T10:05:18.964Z"
   },
   {
    "duration": 18,
    "start_time": "2024-10-07T10:05:18.993Z"
   },
   {
    "duration": 8,
    "start_time": "2024-10-07T10:05:19.012Z"
   },
   {
    "duration": 29,
    "start_time": "2024-10-07T10:05:19.021Z"
   },
   {
    "duration": 2,
    "start_time": "2024-10-07T10:12:42.822Z"
   },
   {
    "duration": 2,
    "start_time": "2024-10-07T10:12:45.700Z"
   },
   {
    "duration": 2,
    "start_time": "2024-10-07T10:14:07.463Z"
   },
   {
    "duration": 1169,
    "start_time": "2024-10-07T10:14:24.409Z"
   },
   {
    "duration": 27,
    "start_time": "2024-10-07T10:14:25.580Z"
   },
   {
    "duration": 17,
    "start_time": "2024-10-07T10:14:25.609Z"
   },
   {
    "duration": 45,
    "start_time": "2024-10-07T10:14:25.627Z"
   },
   {
    "duration": 8,
    "start_time": "2024-10-07T10:14:25.674Z"
   },
   {
    "duration": 2,
    "start_time": "2024-10-07T10:17:13.069Z"
   },
   {
    "duration": 1216,
    "start_time": "2024-10-07T10:17:40.730Z"
   },
   {
    "duration": 26,
    "start_time": "2024-10-07T10:17:41.948Z"
   },
   {
    "duration": 17,
    "start_time": "2024-10-07T10:17:41.976Z"
   },
   {
    "duration": 11,
    "start_time": "2024-10-07T10:17:41.994Z"
   },
   {
    "duration": 88,
    "start_time": "2024-10-07T10:17:42.007Z"
   },
   {
    "duration": 171,
    "start_time": "2024-10-07T12:08:43.264Z"
   },
   {
    "duration": 19,
    "start_time": "2024-10-07T12:09:02.512Z"
   },
   {
    "duration": 1199,
    "start_time": "2024-10-07T12:09:29.649Z"
   },
   {
    "duration": 28,
    "start_time": "2024-10-07T12:09:30.849Z"
   },
   {
    "duration": 27,
    "start_time": "2024-10-07T12:09:30.878Z"
   },
   {
    "duration": 19,
    "start_time": "2024-10-07T12:09:30.907Z"
   },
   {
    "duration": 18,
    "start_time": "2024-10-07T12:09:30.928Z"
   },
   {
    "duration": 72,
    "start_time": "2024-10-07T12:09:30.947Z"
   },
   {
    "duration": 18,
    "start_time": "2024-10-07T12:09:31.020Z"
   },
   {
    "duration": 54,
    "start_time": "2024-10-07T12:09:31.039Z"
   },
   {
    "duration": 4,
    "start_time": "2024-10-07T12:21:13.641Z"
   },
   {
    "duration": 132,
    "start_time": "2024-10-07T12:21:43.223Z"
   },
   {
    "duration": 11,
    "start_time": "2024-10-07T12:32:09.916Z"
   },
   {
    "duration": 1166,
    "start_time": "2024-10-07T12:32:16.293Z"
   },
   {
    "duration": 27,
    "start_time": "2024-10-07T12:32:17.461Z"
   },
   {
    "duration": 17,
    "start_time": "2024-10-07T12:32:17.489Z"
   },
   {
    "duration": 25,
    "start_time": "2024-10-07T12:32:17.507Z"
   },
   {
    "duration": 7,
    "start_time": "2024-10-07T12:32:17.534Z"
   },
   {
    "duration": 69,
    "start_time": "2024-10-07T12:32:17.542Z"
   },
   {
    "duration": 17,
    "start_time": "2024-10-07T12:32:17.612Z"
   },
   {
    "duration": 19,
    "start_time": "2024-10-07T12:32:17.630Z"
   },
   {
    "duration": 33,
    "start_time": "2024-10-07T12:32:17.650Z"
   },
   {
    "duration": 32,
    "start_time": "2024-10-07T12:32:17.685Z"
   },
   {
    "duration": 120,
    "start_time": "2024-10-07T12:32:17.719Z"
   },
   {
    "duration": 1162,
    "start_time": "2024-10-07T12:38:14.749Z"
   },
   {
    "duration": 34,
    "start_time": "2024-10-07T12:38:15.913Z"
   },
   {
    "duration": 19,
    "start_time": "2024-10-07T12:38:15.951Z"
   },
   {
    "duration": 21,
    "start_time": "2024-10-07T12:38:15.971Z"
   },
   {
    "duration": 12,
    "start_time": "2024-10-07T12:38:15.994Z"
   },
   {
    "duration": 54,
    "start_time": "2024-10-07T12:38:16.008Z"
   },
   {
    "duration": 18,
    "start_time": "2024-10-07T12:38:16.063Z"
   },
   {
    "duration": 21,
    "start_time": "2024-10-07T12:38:16.082Z"
   },
   {
    "duration": 22,
    "start_time": "2024-10-07T12:38:16.105Z"
   },
   {
    "duration": 8,
    "start_time": "2024-10-07T12:38:16.129Z"
   },
   {
    "duration": 118,
    "start_time": "2024-10-07T12:38:16.138Z"
   },
   {
    "duration": 139,
    "start_time": "2024-10-07T12:39:09.946Z"
   },
   {
    "duration": 139,
    "start_time": "2024-10-07T12:49:28.841Z"
   },
   {
    "duration": 94,
    "start_time": "2024-10-07T12:51:13.356Z"
   },
   {
    "duration": 7,
    "start_time": "2024-10-07T12:52:43.080Z"
   },
   {
    "duration": 8,
    "start_time": "2024-10-07T12:52:51.790Z"
   },
   {
    "duration": 231,
    "start_time": "2024-10-07T12:57:04.534Z"
   },
   {
    "duration": 236,
    "start_time": "2024-10-07T13:01:02.018Z"
   },
   {
    "duration": 259,
    "start_time": "2024-10-07T13:12:06.452Z"
   },
   {
    "duration": 3,
    "start_time": "2024-10-07T13:13:00.440Z"
   },
   {
    "duration": 1098,
    "start_time": "2024-10-07T13:13:07.710Z"
   },
   {
    "duration": 26,
    "start_time": "2024-10-07T13:13:08.810Z"
   },
   {
    "duration": 18,
    "start_time": "2024-10-07T13:13:08.837Z"
   },
   {
    "duration": 23,
    "start_time": "2024-10-07T13:13:08.856Z"
   },
   {
    "duration": 24,
    "start_time": "2024-10-07T13:13:08.881Z"
   },
   {
    "duration": 75,
    "start_time": "2024-10-07T13:13:08.907Z"
   },
   {
    "duration": 105,
    "start_time": "2024-10-07T13:13:08.983Z"
   },
   {
    "duration": 11,
    "start_time": "2024-10-07T13:13:09.089Z"
   },
   {
    "duration": 25,
    "start_time": "2024-10-07T13:13:09.101Z"
   },
   {
    "duration": 4,
    "start_time": "2024-10-07T13:13:09.128Z"
   },
   {
    "duration": 147,
    "start_time": "2024-10-07T13:13:09.133Z"
   },
   {
    "duration": 105,
    "start_time": "2024-10-07T13:13:09.281Z"
   },
   {
    "duration": 20,
    "start_time": "2024-10-07T13:13:09.388Z"
   },
   {
    "duration": 350,
    "start_time": "2024-10-07T13:13:09.410Z"
   },
   {
    "duration": 1127,
    "start_time": "2024-10-07T13:13:17.362Z"
   },
   {
    "duration": 27,
    "start_time": "2024-10-07T13:13:18.491Z"
   },
   {
    "duration": 18,
    "start_time": "2024-10-07T13:13:18.519Z"
   },
   {
    "duration": 21,
    "start_time": "2024-10-07T13:13:18.538Z"
   },
   {
    "duration": 9,
    "start_time": "2024-10-07T13:13:18.561Z"
   },
   {
    "duration": 59,
    "start_time": "2024-10-07T13:13:18.571Z"
   },
   {
    "duration": 17,
    "start_time": "2024-10-07T13:13:18.632Z"
   },
   {
    "duration": 99,
    "start_time": "2024-10-07T13:13:18.651Z"
   },
   {
    "duration": 27,
    "start_time": "2024-10-07T13:13:18.752Z"
   },
   {
    "duration": 5,
    "start_time": "2024-10-07T13:13:18.781Z"
   },
   {
    "duration": 161,
    "start_time": "2024-10-07T13:13:18.787Z"
   },
   {
    "duration": 104,
    "start_time": "2024-10-07T13:13:18.949Z"
   },
   {
    "duration": 32,
    "start_time": "2024-10-07T13:13:19.055Z"
   },
   {
    "duration": 294,
    "start_time": "2024-10-07T13:13:19.089Z"
   },
   {
    "duration": 256,
    "start_time": "2024-10-07T13:14:46.947Z"
   },
   {
    "duration": 12,
    "start_time": "2024-10-07T13:16:24.542Z"
   },
   {
    "duration": 12,
    "start_time": "2024-10-07T13:16:48.606Z"
   },
   {
    "duration": 376,
    "start_time": "2024-10-07T13:17:11.214Z"
   },
   {
    "duration": 1134,
    "start_time": "2024-10-07T13:17:18.972Z"
   },
   {
    "duration": 29,
    "start_time": "2024-10-07T13:17:20.108Z"
   },
   {
    "duration": 19,
    "start_time": "2024-10-07T13:17:20.139Z"
   },
   {
    "duration": 26,
    "start_time": "2024-10-07T13:17:20.159Z"
   },
   {
    "duration": 30,
    "start_time": "2024-10-07T13:17:20.187Z"
   },
   {
    "duration": 67,
    "start_time": "2024-10-07T13:17:20.219Z"
   },
   {
    "duration": 18,
    "start_time": "2024-10-07T13:17:20.288Z"
   },
   {
    "duration": 28,
    "start_time": "2024-10-07T13:17:20.307Z"
   },
   {
    "duration": 32,
    "start_time": "2024-10-07T13:17:20.336Z"
   },
   {
    "duration": 26,
    "start_time": "2024-10-07T13:17:20.370Z"
   },
   {
    "duration": 29,
    "start_time": "2024-10-07T13:17:20.397Z"
   },
   {
    "duration": 187,
    "start_time": "2024-10-07T13:17:20.427Z"
   },
   {
    "duration": 383,
    "start_time": "2024-10-07T13:17:20.615Z"
   },
   {
    "duration": 0,
    "start_time": "2024-10-07T13:17:21.000Z"
   },
   {
    "duration": 0,
    "start_time": "2024-10-07T13:17:21.001Z"
   },
   {
    "duration": 1092,
    "start_time": "2024-10-07T13:18:02.814Z"
   },
   {
    "duration": 26,
    "start_time": "2024-10-07T13:18:03.908Z"
   },
   {
    "duration": 16,
    "start_time": "2024-10-07T13:18:03.936Z"
   },
   {
    "duration": 37,
    "start_time": "2024-10-07T13:18:03.954Z"
   },
   {
    "duration": 13,
    "start_time": "2024-10-07T13:18:03.992Z"
   },
   {
    "duration": 70,
    "start_time": "2024-10-07T13:18:04.006Z"
   },
   {
    "duration": 17,
    "start_time": "2024-10-07T13:18:04.078Z"
   },
   {
    "duration": 28,
    "start_time": "2024-10-07T13:18:04.096Z"
   },
   {
    "duration": 32,
    "start_time": "2024-10-07T13:18:04.125Z"
   },
   {
    "duration": 25,
    "start_time": "2024-10-07T13:18:04.159Z"
   },
   {
    "duration": 169,
    "start_time": "2024-10-07T13:18:04.185Z"
   },
   {
    "duration": 104,
    "start_time": "2024-10-07T13:18:04.355Z"
   },
   {
    "duration": 80,
    "start_time": "2024-10-07T13:18:04.460Z"
   },
   {
    "duration": 292,
    "start_time": "2024-10-07T13:18:04.541Z"
   },
   {
    "duration": 1075,
    "start_time": "2024-10-07T13:18:19.035Z"
   },
   {
    "duration": 28,
    "start_time": "2024-10-07T13:18:20.111Z"
   },
   {
    "duration": 18,
    "start_time": "2024-10-07T13:18:20.140Z"
   },
   {
    "duration": 7,
    "start_time": "2024-10-07T13:18:20.160Z"
   },
   {
    "duration": 8,
    "start_time": "2024-10-07T13:18:20.170Z"
   },
   {
    "duration": 93,
    "start_time": "2024-10-07T13:18:20.179Z"
   },
   {
    "duration": 17,
    "start_time": "2024-10-07T13:18:20.273Z"
   },
   {
    "duration": 24,
    "start_time": "2024-10-07T13:18:20.291Z"
   },
   {
    "duration": 19,
    "start_time": "2024-10-07T13:18:20.317Z"
   },
   {
    "duration": 24,
    "start_time": "2024-10-07T13:18:20.337Z"
   },
   {
    "duration": 48,
    "start_time": "2024-10-07T13:18:20.362Z"
   },
   {
    "duration": 155,
    "start_time": "2024-10-07T13:18:20.411Z"
   },
   {
    "duration": 613,
    "start_time": "2024-10-07T13:18:20.568Z"
   },
   {
    "duration": 0,
    "start_time": "2024-10-07T13:18:21.182Z"
   },
   {
    "duration": 0,
    "start_time": "2024-10-07T13:18:21.183Z"
   },
   {
    "duration": 1094,
    "start_time": "2024-10-07T13:19:57.021Z"
   },
   {
    "duration": 27,
    "start_time": "2024-10-07T13:19:58.116Z"
   },
   {
    "duration": 17,
    "start_time": "2024-10-07T13:19:58.144Z"
   },
   {
    "duration": 8,
    "start_time": "2024-10-07T13:19:58.162Z"
   },
   {
    "duration": 11,
    "start_time": "2024-10-07T13:19:58.171Z"
   },
   {
    "duration": 62,
    "start_time": "2024-10-07T13:19:58.183Z"
   },
   {
    "duration": 16,
    "start_time": "2024-10-07T13:19:58.247Z"
   },
   {
    "duration": 16,
    "start_time": "2024-10-07T13:19:58.264Z"
   },
   {
    "duration": 18,
    "start_time": "2024-10-07T13:19:58.281Z"
   },
   {
    "duration": 4,
    "start_time": "2024-10-07T13:19:58.301Z"
   },
   {
    "duration": 143,
    "start_time": "2024-10-07T13:19:58.306Z"
   },
   {
    "duration": 117,
    "start_time": "2024-10-07T13:19:58.450Z"
   },
   {
    "duration": 43,
    "start_time": "2024-10-07T13:19:58.569Z"
   },
   {
    "duration": 382,
    "start_time": "2024-10-07T13:19:58.614Z"
   },
   {
    "duration": 259,
    "start_time": "2024-10-07T13:21:01.603Z"
   },
   {
    "duration": 272,
    "start_time": "2024-10-07T13:21:18.861Z"
   },
   {
    "duration": 278,
    "start_time": "2024-10-07T13:29:19.234Z"
   },
   {
    "duration": 242,
    "start_time": "2024-10-07T13:29:56.236Z"
   },
   {
    "duration": 271,
    "start_time": "2024-10-07T13:30:08.996Z"
   },
   {
    "duration": 224,
    "start_time": "2024-10-07T13:43:04.224Z"
   },
   {
    "duration": 217,
    "start_time": "2024-10-07T13:43:14.481Z"
   },
   {
    "duration": 305,
    "start_time": "2024-10-07T13:43:24.376Z"
   },
   {
    "duration": 251,
    "start_time": "2024-10-07T13:43:33.874Z"
   },
   {
    "duration": 277,
    "start_time": "2024-10-07T13:45:09.365Z"
   },
   {
    "duration": 322,
    "start_time": "2024-10-07T13:52:04.599Z"
   },
   {
    "duration": 330,
    "start_time": "2024-10-07T13:52:07.992Z"
   },
   {
    "duration": 314,
    "start_time": "2024-10-07T13:52:21.448Z"
   },
   {
    "duration": 377,
    "start_time": "2024-10-07T13:52:31.505Z"
   },
   {
    "duration": 366,
    "start_time": "2024-10-07T13:52:50.089Z"
   },
   {
    "duration": 1093,
    "start_time": "2024-10-07T13:53:05.446Z"
   },
   {
    "duration": 29,
    "start_time": "2024-10-07T13:53:06.541Z"
   },
   {
    "duration": 46,
    "start_time": "2024-10-07T13:53:06.571Z"
   },
   {
    "duration": 47,
    "start_time": "2024-10-07T13:53:06.619Z"
   },
   {
    "duration": 46,
    "start_time": "2024-10-07T13:53:06.667Z"
   },
   {
    "duration": 79,
    "start_time": "2024-10-07T13:53:06.715Z"
   },
   {
    "duration": 21,
    "start_time": "2024-10-07T13:53:06.795Z"
   },
   {
    "duration": 37,
    "start_time": "2024-10-07T13:53:06.818Z"
   },
   {
    "duration": 109,
    "start_time": "2024-10-07T13:53:06.857Z"
   },
   {
    "duration": 45,
    "start_time": "2024-10-07T13:53:06.968Z"
   },
   {
    "duration": 178,
    "start_time": "2024-10-07T13:53:07.014Z"
   },
   {
    "duration": 123,
    "start_time": "2024-10-07T13:53:07.193Z"
   },
   {
    "duration": 8,
    "start_time": "2024-10-07T13:53:07.318Z"
   },
   {
    "duration": 305,
    "start_time": "2024-10-07T13:53:07.328Z"
   },
   {
    "duration": 291,
    "start_time": "2024-10-07T13:53:07.634Z"
   },
   {
    "duration": 359,
    "start_time": "2024-10-07T13:53:07.927Z"
   },
   {
    "duration": 2,
    "start_time": "2024-10-07T14:05:01.954Z"
   },
   {
    "duration": 3,
    "start_time": "2024-10-07T14:07:31.209Z"
   },
   {
    "duration": 5,
    "start_time": "2024-10-07T14:07:42.961Z"
   },
   {
    "duration": 5,
    "start_time": "2024-10-07T14:10:47.044Z"
   },
   {
    "duration": 1225,
    "start_time": "2024-10-07T14:10:58.393Z"
   },
   {
    "duration": 26,
    "start_time": "2024-10-07T14:10:59.620Z"
   },
   {
    "duration": 17,
    "start_time": "2024-10-07T14:10:59.648Z"
   },
   {
    "duration": 21,
    "start_time": "2024-10-07T14:10:59.667Z"
   },
   {
    "duration": 8,
    "start_time": "2024-10-07T14:10:59.690Z"
   },
   {
    "duration": 53,
    "start_time": "2024-10-07T14:10:59.700Z"
   },
   {
    "duration": 18,
    "start_time": "2024-10-07T14:10:59.754Z"
   },
   {
    "duration": 71,
    "start_time": "2024-10-07T14:10:59.773Z"
   },
   {
    "duration": 31,
    "start_time": "2024-10-07T14:10:59.846Z"
   },
   {
    "duration": 6,
    "start_time": "2024-10-07T14:10:59.878Z"
   },
   {
    "duration": 155,
    "start_time": "2024-10-07T14:10:59.885Z"
   },
   {
    "duration": 99,
    "start_time": "2024-10-07T14:11:00.042Z"
   },
   {
    "duration": 63,
    "start_time": "2024-10-07T14:11:00.143Z"
   },
   {
    "duration": 33,
    "start_time": "2024-10-07T14:11:00.208Z"
   },
   {
    "duration": 353,
    "start_time": "2024-10-07T14:11:00.243Z"
   },
   {
    "duration": 280,
    "start_time": "2024-10-07T14:11:00.597Z"
   },
   {
    "duration": 393,
    "start_time": "2024-10-07T14:11:00.878Z"
   },
   {
    "duration": 4,
    "start_time": "2024-10-07T14:11:01.273Z"
   },
   {
    "duration": 57,
    "start_time": "2024-10-07T14:11:01.279Z"
   },
   {
    "duration": 5,
    "start_time": "2024-10-07T14:12:31.106Z"
   },
   {
    "duration": 308,
    "start_time": "2024-10-07T14:12:31.234Z"
   },
   {
    "duration": 7,
    "start_time": "2024-10-07T14:12:55.675Z"
   },
   {
    "duration": 349,
    "start_time": "2024-10-07T14:12:55.818Z"
   },
   {
    "duration": 156,
    "start_time": "2024-10-07T14:13:50.994Z"
   },
   {
    "duration": 241,
    "start_time": "2024-10-07T14:13:56.315Z"
   },
   {
    "duration": 254,
    "start_time": "2024-10-07T14:14:13.332Z"
   },
   {
    "duration": 336,
    "start_time": "2024-10-07T14:14:24.509Z"
   },
   {
    "duration": 1073,
    "start_time": "2024-10-07T15:20:17.439Z"
   },
   {
    "duration": 28,
    "start_time": "2024-10-07T15:20:18.513Z"
   },
   {
    "duration": 19,
    "start_time": "2024-10-07T15:20:18.542Z"
   },
   {
    "duration": 8,
    "start_time": "2024-10-07T15:20:18.563Z"
   },
   {
    "duration": 14,
    "start_time": "2024-10-07T15:20:18.573Z"
   },
   {
    "duration": 64,
    "start_time": "2024-10-07T15:20:18.589Z"
   },
   {
    "duration": 18,
    "start_time": "2024-10-07T15:20:18.654Z"
   },
   {
    "duration": 24,
    "start_time": "2024-10-07T15:20:18.673Z"
   },
   {
    "duration": 27,
    "start_time": "2024-10-07T15:20:18.699Z"
   },
   {
    "duration": 16,
    "start_time": "2024-10-07T15:20:18.727Z"
   },
   {
    "duration": 157,
    "start_time": "2024-10-07T15:20:18.744Z"
   },
   {
    "duration": 108,
    "start_time": "2024-10-07T15:20:18.902Z"
   },
   {
    "duration": 10,
    "start_time": "2024-10-07T15:20:19.011Z"
   },
   {
    "duration": 10,
    "start_time": "2024-10-07T15:20:19.024Z"
   },
   {
    "duration": 327,
    "start_time": "2024-10-07T15:20:19.036Z"
   },
   {
    "duration": 281,
    "start_time": "2024-10-07T15:20:19.364Z"
   },
   {
    "duration": 6,
    "start_time": "2024-10-07T15:20:19.646Z"
   },
   {
    "duration": 360,
    "start_time": "2024-10-07T15:20:19.654Z"
   },
   {
    "duration": 5,
    "start_time": "2024-10-07T15:20:20.015Z"
   },
   {
    "duration": 280,
    "start_time": "2024-10-07T15:20:20.021Z"
   },
   {
    "duration": 8,
    "start_time": "2024-10-07T15:22:27.245Z"
   },
   {
    "duration": 7,
    "start_time": "2024-10-07T15:22:58.853Z"
   },
   {
    "duration": 59,
    "start_time": "2024-10-07T15:23:46.600Z"
   },
   {
    "duration": 414,
    "start_time": "2024-10-07T15:23:52.880Z"
   },
   {
    "duration": 119,
    "start_time": "2024-10-07T15:36:56.844Z"
   },
   {
    "duration": 64,
    "start_time": "2024-10-07T15:37:10.101Z"
   },
   {
    "duration": 62,
    "start_time": "2024-10-07T15:37:42.703Z"
   },
   {
    "duration": 67,
    "start_time": "2024-10-07T15:37:50.422Z"
   },
   {
    "duration": 72,
    "start_time": "2024-10-07T15:38:28.103Z"
   },
   {
    "duration": 64,
    "start_time": "2024-10-07T15:38:44.703Z"
   },
   {
    "duration": 1204,
    "start_time": "2024-10-07T15:40:34.533Z"
   },
   {
    "duration": 27,
    "start_time": "2024-10-07T15:40:35.739Z"
   },
   {
    "duration": 17,
    "start_time": "2024-10-07T15:40:35.768Z"
   },
   {
    "duration": 19,
    "start_time": "2024-10-07T15:40:35.787Z"
   },
   {
    "duration": 17,
    "start_time": "2024-10-07T15:40:35.808Z"
   },
   {
    "duration": 67,
    "start_time": "2024-10-07T15:40:35.826Z"
   },
   {
    "duration": 17,
    "start_time": "2024-10-07T15:40:35.894Z"
   },
   {
    "duration": 53,
    "start_time": "2024-10-07T15:40:35.913Z"
   },
   {
    "duration": 43,
    "start_time": "2024-10-07T15:40:35.967Z"
   },
   {
    "duration": 15,
    "start_time": "2024-10-07T15:40:36.013Z"
   },
   {
    "duration": 24,
    "start_time": "2024-10-07T15:40:36.029Z"
   },
   {
    "duration": 419,
    "start_time": "2024-10-07T15:40:36.054Z"
   },
   {
    "duration": 0,
    "start_time": "2024-10-07T15:40:36.475Z"
   },
   {
    "duration": 0,
    "start_time": "2024-10-07T15:40:36.476Z"
   },
   {
    "duration": 0,
    "start_time": "2024-10-07T15:40:36.478Z"
   },
   {
    "duration": 0,
    "start_time": "2024-10-07T15:40:36.479Z"
   },
   {
    "duration": 0,
    "start_time": "2024-10-07T15:40:36.480Z"
   },
   {
    "duration": 0,
    "start_time": "2024-10-07T15:40:36.482Z"
   },
   {
    "duration": 0,
    "start_time": "2024-10-07T15:40:36.483Z"
   },
   {
    "duration": 0,
    "start_time": "2024-10-07T15:40:36.484Z"
   },
   {
    "duration": 0,
    "start_time": "2024-10-07T15:40:36.485Z"
   },
   {
    "duration": 0,
    "start_time": "2024-10-07T15:40:36.486Z"
   },
   {
    "duration": 1141,
    "start_time": "2024-10-07T15:42:02.097Z"
   },
   {
    "duration": 27,
    "start_time": "2024-10-07T15:42:03.240Z"
   },
   {
    "duration": 46,
    "start_time": "2024-10-07T15:42:03.268Z"
   },
   {
    "duration": 8,
    "start_time": "2024-10-07T15:42:03.316Z"
   },
   {
    "duration": 32,
    "start_time": "2024-10-07T15:42:03.325Z"
   },
   {
    "duration": 87,
    "start_time": "2024-10-07T15:42:03.359Z"
   },
   {
    "duration": 40,
    "start_time": "2024-10-07T15:42:03.448Z"
   },
   {
    "duration": 189,
    "start_time": "2024-10-07T15:42:03.489Z"
   },
   {
    "duration": 25,
    "start_time": "2024-10-07T15:42:03.679Z"
   },
   {
    "duration": 20,
    "start_time": "2024-10-07T15:42:03.707Z"
   },
   {
    "duration": 14,
    "start_time": "2024-10-07T15:42:03.728Z"
   },
   {
    "duration": 155,
    "start_time": "2024-10-07T15:42:03.743Z"
   },
   {
    "duration": 0,
    "start_time": "2024-10-07T15:42:03.899Z"
   },
   {
    "duration": 0,
    "start_time": "2024-10-07T15:42:03.900Z"
   },
   {
    "duration": 0,
    "start_time": "2024-10-07T15:42:03.901Z"
   },
   {
    "duration": 0,
    "start_time": "2024-10-07T15:42:03.902Z"
   },
   {
    "duration": 0,
    "start_time": "2024-10-07T15:42:03.903Z"
   },
   {
    "duration": 0,
    "start_time": "2024-10-07T15:42:03.904Z"
   },
   {
    "duration": 0,
    "start_time": "2024-10-07T15:42:03.905Z"
   },
   {
    "duration": 0,
    "start_time": "2024-10-07T15:42:03.907Z"
   },
   {
    "duration": 0,
    "start_time": "2024-10-07T15:42:03.908Z"
   },
   {
    "duration": 0,
    "start_time": "2024-10-07T15:42:03.909Z"
   },
   {
    "duration": 0,
    "start_time": "2024-10-07T15:42:03.910Z"
   },
   {
    "duration": 20,
    "start_time": "2024-10-07T15:43:06.918Z"
   },
   {
    "duration": 1100,
    "start_time": "2024-10-07T15:43:26.209Z"
   },
   {
    "duration": 27,
    "start_time": "2024-10-07T15:43:27.311Z"
   },
   {
    "duration": 18,
    "start_time": "2024-10-07T15:43:27.340Z"
   },
   {
    "duration": 33,
    "start_time": "2024-10-07T15:43:27.361Z"
   },
   {
    "duration": 7,
    "start_time": "2024-10-07T15:43:27.396Z"
   },
   {
    "duration": 154,
    "start_time": "2024-10-07T15:43:27.405Z"
   },
   {
    "duration": 39,
    "start_time": "2024-10-07T15:43:27.561Z"
   },
   {
    "duration": 78,
    "start_time": "2024-10-07T15:43:27.601Z"
   },
   {
    "duration": 12,
    "start_time": "2024-10-07T15:43:27.680Z"
   },
   {
    "duration": 20,
    "start_time": "2024-10-07T15:43:27.694Z"
   },
   {
    "duration": 16,
    "start_time": "2024-10-07T15:43:27.715Z"
   },
   {
    "duration": 109,
    "start_time": "2024-10-07T15:43:27.733Z"
   },
   {
    "duration": 0,
    "start_time": "2024-10-07T15:43:27.844Z"
   },
   {
    "duration": 0,
    "start_time": "2024-10-07T15:43:27.845Z"
   },
   {
    "duration": 0,
    "start_time": "2024-10-07T15:43:27.846Z"
   },
   {
    "duration": 0,
    "start_time": "2024-10-07T15:43:27.847Z"
   },
   {
    "duration": 0,
    "start_time": "2024-10-07T15:43:27.848Z"
   },
   {
    "duration": 0,
    "start_time": "2024-10-07T15:43:27.849Z"
   },
   {
    "duration": 0,
    "start_time": "2024-10-07T15:43:27.850Z"
   },
   {
    "duration": 0,
    "start_time": "2024-10-07T15:43:27.851Z"
   },
   {
    "duration": 0,
    "start_time": "2024-10-07T15:43:27.851Z"
   },
   {
    "duration": 0,
    "start_time": "2024-10-07T15:43:27.853Z"
   },
   {
    "duration": 0,
    "start_time": "2024-10-07T15:43:27.853Z"
   },
   {
    "duration": 1218,
    "start_time": "2024-10-07T15:44:01.291Z"
   },
   {
    "duration": 28,
    "start_time": "2024-10-07T15:44:02.511Z"
   },
   {
    "duration": 20,
    "start_time": "2024-10-07T15:44:02.540Z"
   },
   {
    "duration": 27,
    "start_time": "2024-10-07T15:44:02.562Z"
   },
   {
    "duration": 17,
    "start_time": "2024-10-07T15:44:02.591Z"
   },
   {
    "duration": 79,
    "start_time": "2024-10-07T15:44:02.610Z"
   },
   {
    "duration": 17,
    "start_time": "2024-10-07T15:44:02.691Z"
   },
   {
    "duration": 24,
    "start_time": "2024-10-07T15:44:02.709Z"
   },
   {
    "duration": 19,
    "start_time": "2024-10-07T15:44:02.735Z"
   },
   {
    "duration": 46,
    "start_time": "2024-10-07T15:44:02.756Z"
   },
   {
    "duration": 19,
    "start_time": "2024-10-07T15:44:02.803Z"
   },
   {
    "duration": 239,
    "start_time": "2024-10-07T15:44:02.823Z"
   },
   {
    "duration": 391,
    "start_time": "2024-10-07T15:44:03.064Z"
   },
   {
    "duration": 0,
    "start_time": "2024-10-07T15:44:03.456Z"
   },
   {
    "duration": 0,
    "start_time": "2024-10-07T15:44:03.457Z"
   },
   {
    "duration": 0,
    "start_time": "2024-10-07T15:44:03.458Z"
   },
   {
    "duration": 0,
    "start_time": "2024-10-07T15:44:03.459Z"
   },
   {
    "duration": 0,
    "start_time": "2024-10-07T15:44:03.460Z"
   },
   {
    "duration": 0,
    "start_time": "2024-10-07T15:44:03.461Z"
   },
   {
    "duration": 0,
    "start_time": "2024-10-07T15:44:03.462Z"
   },
   {
    "duration": 1,
    "start_time": "2024-10-07T15:44:03.462Z"
   },
   {
    "duration": 0,
    "start_time": "2024-10-07T15:44:03.463Z"
   },
   {
    "duration": 0,
    "start_time": "2024-10-07T15:44:03.464Z"
   },
   {
    "duration": 1100,
    "start_time": "2024-10-07T15:44:18.607Z"
   },
   {
    "duration": 27,
    "start_time": "2024-10-07T15:44:19.709Z"
   },
   {
    "duration": 22,
    "start_time": "2024-10-07T15:44:19.737Z"
   },
   {
    "duration": 15,
    "start_time": "2024-10-07T15:44:19.761Z"
   },
   {
    "duration": 16,
    "start_time": "2024-10-07T15:44:19.777Z"
   },
   {
    "duration": 82,
    "start_time": "2024-10-07T15:44:19.794Z"
   },
   {
    "duration": 17,
    "start_time": "2024-10-07T15:44:19.877Z"
   },
   {
    "duration": 32,
    "start_time": "2024-10-07T15:44:19.895Z"
   },
   {
    "duration": 37,
    "start_time": "2024-10-07T15:44:19.928Z"
   },
   {
    "duration": 14,
    "start_time": "2024-10-07T15:44:19.967Z"
   },
   {
    "duration": 179,
    "start_time": "2024-10-07T15:44:19.982Z"
   },
   {
    "duration": 107,
    "start_time": "2024-10-07T15:44:20.163Z"
   },
   {
    "duration": 87,
    "start_time": "2024-10-07T15:44:20.271Z"
   },
   {
    "duration": 61,
    "start_time": "2024-10-07T15:44:20.359Z"
   },
   {
    "duration": 311,
    "start_time": "2024-10-07T15:44:20.422Z"
   },
   {
    "duration": 272,
    "start_time": "2024-10-07T15:44:20.735Z"
   },
   {
    "duration": 5,
    "start_time": "2024-10-07T15:44:21.009Z"
   },
   {
    "duration": 372,
    "start_time": "2024-10-07T15:44:21.015Z"
   },
   {
    "duration": 4,
    "start_time": "2024-10-07T15:44:21.388Z"
   },
   {
    "duration": 392,
    "start_time": "2024-10-07T15:44:21.394Z"
   },
   {
    "duration": 7,
    "start_time": "2024-10-07T15:44:21.787Z"
   },
   {
    "duration": 395,
    "start_time": "2024-10-07T15:44:21.795Z"
   },
   {
    "duration": 137,
    "start_time": "2024-10-07T15:46:15.480Z"
   },
   {
    "duration": 141,
    "start_time": "2024-10-07T15:46:24.738Z"
   },
   {
    "duration": 141,
    "start_time": "2024-10-07T15:46:31.226Z"
   },
   {
    "duration": 133,
    "start_time": "2024-10-07T15:48:41.061Z"
   },
   {
    "duration": 151,
    "start_time": "2024-10-07T15:50:15.816Z"
   },
   {
    "duration": 1112,
    "start_time": "2024-10-07T15:50:26.406Z"
   },
   {
    "duration": 27,
    "start_time": "2024-10-07T15:50:27.520Z"
   },
   {
    "duration": 110,
    "start_time": "2024-10-07T15:50:27.549Z"
   },
   {
    "duration": 72,
    "start_time": "2024-10-07T15:50:27.662Z"
   },
   {
    "duration": 33,
    "start_time": "2024-10-07T15:50:27.736Z"
   },
   {
    "duration": 88,
    "start_time": "2024-10-07T15:50:27.771Z"
   },
   {
    "duration": 19,
    "start_time": "2024-10-07T15:50:27.860Z"
   },
   {
    "duration": 48,
    "start_time": "2024-10-07T15:50:27.881Z"
   },
   {
    "duration": 23,
    "start_time": "2024-10-07T15:50:27.931Z"
   },
   {
    "duration": 13,
    "start_time": "2024-10-07T15:50:27.957Z"
   },
   {
    "duration": 166,
    "start_time": "2024-10-07T15:50:27.972Z"
   },
   {
    "duration": 106,
    "start_time": "2024-10-07T15:50:28.140Z"
   },
   {
    "duration": 9,
    "start_time": "2024-10-07T15:50:28.247Z"
   },
   {
    "duration": 108,
    "start_time": "2024-10-07T15:50:28.258Z"
   },
   {
    "duration": 292,
    "start_time": "2024-10-07T15:50:28.367Z"
   },
   {
    "duration": 264,
    "start_time": "2024-10-07T15:50:28.661Z"
   },
   {
    "duration": 5,
    "start_time": "2024-10-07T15:50:28.927Z"
   },
   {
    "duration": 359,
    "start_time": "2024-10-07T15:50:28.933Z"
   },
   {
    "duration": 5,
    "start_time": "2024-10-07T15:50:29.293Z"
   },
   {
    "duration": 329,
    "start_time": "2024-10-07T15:50:29.299Z"
   },
   {
    "duration": 8,
    "start_time": "2024-10-07T15:50:29.630Z"
   },
   {
    "duration": 461,
    "start_time": "2024-10-07T15:50:29.639Z"
   },
   {
    "duration": 135,
    "start_time": "2024-10-07T15:53:29.770Z"
   },
   {
    "duration": 126,
    "start_time": "2024-10-07T15:53:30.237Z"
   },
   {
    "duration": 136,
    "start_time": "2024-10-07T15:53:52.718Z"
   },
   {
    "duration": 155,
    "start_time": "2024-10-07T15:53:55.063Z"
   },
   {
    "duration": 97,
    "start_time": "2024-10-07T15:54:51.903Z"
   },
   {
    "duration": 92,
    "start_time": "2024-10-07T15:54:52.326Z"
   },
   {
    "duration": 1077,
    "start_time": "2024-10-07T15:55:03.439Z"
   },
   {
    "duration": 27,
    "start_time": "2024-10-07T15:55:04.518Z"
   },
   {
    "duration": 17,
    "start_time": "2024-10-07T15:55:04.547Z"
   },
   {
    "duration": 13,
    "start_time": "2024-10-07T15:55:04.567Z"
   },
   {
    "duration": 16,
    "start_time": "2024-10-07T15:55:04.581Z"
   },
   {
    "duration": 71,
    "start_time": "2024-10-07T15:55:04.598Z"
   },
   {
    "duration": 19,
    "start_time": "2024-10-07T15:55:04.671Z"
   },
   {
    "duration": 18,
    "start_time": "2024-10-07T15:55:04.691Z"
   },
   {
    "duration": 14,
    "start_time": "2024-10-07T15:55:04.711Z"
   },
   {
    "duration": 21,
    "start_time": "2024-10-07T15:55:04.727Z"
   },
   {
    "duration": 161,
    "start_time": "2024-10-07T15:55:04.750Z"
   },
   {
    "duration": 138,
    "start_time": "2024-10-07T15:55:04.912Z"
   },
   {
    "duration": 102,
    "start_time": "2024-10-07T15:55:05.051Z"
   },
   {
    "duration": 172,
    "start_time": "2024-10-07T15:55:05.155Z"
   },
   {
    "duration": 9,
    "start_time": "2024-10-07T15:55:05.329Z"
   },
   {
    "duration": 49,
    "start_time": "2024-10-07T15:55:05.339Z"
   },
   {
    "duration": 393,
    "start_time": "2024-10-07T15:55:05.389Z"
   },
   {
    "duration": 300,
    "start_time": "2024-10-07T15:55:05.784Z"
   },
   {
    "duration": 6,
    "start_time": "2024-10-07T15:55:06.086Z"
   },
   {
    "duration": 359,
    "start_time": "2024-10-07T15:55:06.107Z"
   },
   {
    "duration": 4,
    "start_time": "2024-10-07T15:55:06.468Z"
   },
   {
    "duration": 354,
    "start_time": "2024-10-07T15:55:06.473Z"
   },
   {
    "duration": 8,
    "start_time": "2024-10-07T15:55:06.829Z"
   },
   {
    "duration": 416,
    "start_time": "2024-10-07T15:55:06.839Z"
   },
   {
    "duration": 1125,
    "start_time": "2024-10-07T15:55:33.630Z"
   },
   {
    "duration": 27,
    "start_time": "2024-10-07T15:55:34.757Z"
   },
   {
    "duration": 18,
    "start_time": "2024-10-07T15:55:34.785Z"
   },
   {
    "duration": 15,
    "start_time": "2024-10-07T15:55:34.805Z"
   },
   {
    "duration": 33,
    "start_time": "2024-10-07T15:55:34.822Z"
   },
   {
    "duration": 75,
    "start_time": "2024-10-07T15:55:34.856Z"
   },
   {
    "duration": 17,
    "start_time": "2024-10-07T15:55:34.933Z"
   },
   {
    "duration": 31,
    "start_time": "2024-10-07T15:55:34.951Z"
   },
   {
    "duration": 48,
    "start_time": "2024-10-07T15:55:34.983Z"
   },
   {
    "duration": 27,
    "start_time": "2024-10-07T15:55:35.034Z"
   },
   {
    "duration": 167,
    "start_time": "2024-10-07T15:55:35.062Z"
   },
   {
    "duration": 119,
    "start_time": "2024-10-07T15:55:35.231Z"
   },
   {
    "duration": 45,
    "start_time": "2024-10-07T15:55:35.351Z"
   },
   {
    "duration": 18,
    "start_time": "2024-10-07T15:55:35.397Z"
   },
   {
    "duration": 321,
    "start_time": "2024-10-07T15:55:35.416Z"
   },
   {
    "duration": 279,
    "start_time": "2024-10-07T15:55:35.739Z"
   },
   {
    "duration": 6,
    "start_time": "2024-10-07T15:55:36.020Z"
   },
   {
    "duration": 430,
    "start_time": "2024-10-07T15:55:36.028Z"
   },
   {
    "duration": 6,
    "start_time": "2024-10-07T15:55:36.460Z"
   },
   {
    "duration": 299,
    "start_time": "2024-10-07T15:55:36.467Z"
   },
   {
    "duration": 7,
    "start_time": "2024-10-07T15:55:36.768Z"
   },
   {
    "duration": 411,
    "start_time": "2024-10-07T15:55:36.776Z"
   },
   {
    "duration": 110,
    "start_time": "2024-10-07T16:08:01.469Z"
   },
   {
    "duration": 105,
    "start_time": "2024-10-07T16:08:12.884Z"
   },
   {
    "duration": 99,
    "start_time": "2024-10-07T16:09:27.950Z"
   },
   {
    "duration": 107,
    "start_time": "2024-10-07T16:09:40.510Z"
   },
   {
    "duration": 183,
    "start_time": "2024-10-07T16:09:51.726Z"
   },
   {
    "duration": 129,
    "start_time": "2024-10-07T16:10:02.431Z"
   },
   {
    "duration": 363,
    "start_time": "2024-10-07T16:10:58.224Z"
   },
   {
    "duration": 310,
    "start_time": "2024-10-07T16:11:24.946Z"
   },
   {
    "duration": 349,
    "start_time": "2024-10-07T16:11:58.443Z"
   },
   {
    "duration": 375,
    "start_time": "2024-10-07T16:12:35.923Z"
   },
   {
    "duration": 146,
    "start_time": "2024-10-07T16:13:06.495Z"
   },
   {
    "duration": 136,
    "start_time": "2024-10-07T16:13:19.837Z"
   },
   {
    "duration": 1380,
    "start_time": "2024-10-07T16:15:03.931Z"
   },
   {
    "duration": 117,
    "start_time": "2024-10-07T16:15:40.233Z"
   },
   {
    "duration": 120,
    "start_time": "2024-10-07T16:15:43.697Z"
   },
   {
    "duration": 8,
    "start_time": "2024-10-07T16:19:02.494Z"
   },
   {
    "duration": 6,
    "start_time": "2024-10-07T16:19:14.942Z"
   },
   {
    "duration": 1588,
    "start_time": "2024-10-07T16:19:20.094Z"
   },
   {
    "duration": 9,
    "start_time": "2024-10-07T16:19:57.208Z"
   },
   {
    "duration": 8,
    "start_time": "2024-10-07T16:20:03.347Z"
   },
   {
    "duration": 126,
    "start_time": "2024-10-07T16:20:05.215Z"
   },
   {
    "duration": 4,
    "start_time": "2024-10-07T16:25:17.768Z"
   },
   {
    "duration": 4,
    "start_time": "2024-10-07T16:25:33.312Z"
   },
   {
    "duration": 3,
    "start_time": "2024-10-07T16:26:03.714Z"
   },
   {
    "duration": 5,
    "start_time": "2024-10-07T16:28:27.340Z"
   },
   {
    "duration": 4,
    "start_time": "2024-10-07T16:31:01.136Z"
   },
   {
    "duration": 5,
    "start_time": "2024-10-07T16:31:02.113Z"
   },
   {
    "duration": 8,
    "start_time": "2024-10-07T16:34:42.494Z"
   },
   {
    "duration": 137,
    "start_time": "2024-10-07T16:34:42.625Z"
   },
   {
    "duration": 3,
    "start_time": "2024-10-07T16:34:43.870Z"
   },
   {
    "duration": 4,
    "start_time": "2024-10-07T16:34:44.047Z"
   },
   {
    "duration": 110,
    "start_time": "2024-10-07T16:36:22.909Z"
   },
   {
    "duration": 103,
    "start_time": "2024-10-07T16:36:26.378Z"
   },
   {
    "duration": 139,
    "start_time": "2024-10-07T16:37:24.068Z"
   },
   {
    "duration": 138,
    "start_time": "2024-10-07T16:37:50.827Z"
   },
   {
    "duration": 108,
    "start_time": "2024-10-07T16:38:14.113Z"
   },
   {
    "duration": 140,
    "start_time": "2024-10-07T16:39:00.208Z"
   },
   {
    "duration": 132,
    "start_time": "2024-10-07T16:39:26.479Z"
   },
   {
    "duration": 147,
    "start_time": "2024-10-07T16:40:35.272Z"
   },
   {
    "duration": 154,
    "start_time": "2024-10-07T16:40:45.153Z"
   },
   {
    "duration": 208,
    "start_time": "2024-10-07T16:41:34.722Z"
   },
   {
    "duration": 152,
    "start_time": "2024-10-07T16:42:09.396Z"
   },
   {
    "duration": 1131,
    "start_time": "2024-10-07T16:46:58.570Z"
   },
   {
    "duration": 26,
    "start_time": "2024-10-07T16:46:59.703Z"
   },
   {
    "duration": 17,
    "start_time": "2024-10-07T16:46:59.731Z"
   },
   {
    "duration": 12,
    "start_time": "2024-10-07T16:46:59.750Z"
   },
   {
    "duration": 8,
    "start_time": "2024-10-07T16:46:59.763Z"
   },
   {
    "duration": 72,
    "start_time": "2024-10-07T16:46:59.773Z"
   },
   {
    "duration": 21,
    "start_time": "2024-10-07T16:46:59.846Z"
   },
   {
    "duration": 60,
    "start_time": "2024-10-07T16:46:59.868Z"
   },
   {
    "duration": 16,
    "start_time": "2024-10-07T16:46:59.929Z"
   },
   {
    "duration": 130,
    "start_time": "2024-10-07T16:46:59.948Z"
   },
   {
    "duration": 236,
    "start_time": "2024-10-07T16:47:00.080Z"
   },
   {
    "duration": 115,
    "start_time": "2024-10-07T16:47:00.318Z"
   },
   {
    "duration": 45,
    "start_time": "2024-10-07T16:47:00.435Z"
   },
   {
    "duration": 37,
    "start_time": "2024-10-07T16:47:00.481Z"
   },
   {
    "duration": 278,
    "start_time": "2024-10-07T16:47:00.519Z"
   },
   {
    "duration": 270,
    "start_time": "2024-10-07T16:47:00.799Z"
   },
   {
    "duration": 6,
    "start_time": "2024-10-07T16:47:01.070Z"
   },
   {
    "duration": 408,
    "start_time": "2024-10-07T16:47:01.077Z"
   },
   {
    "duration": 5,
    "start_time": "2024-10-07T16:47:01.486Z"
   },
   {
    "duration": 316,
    "start_time": "2024-10-07T16:47:01.493Z"
   },
   {
    "duration": 7,
    "start_time": "2024-10-07T16:47:01.811Z"
   },
   {
    "duration": 409,
    "start_time": "2024-10-07T16:47:01.819Z"
   },
   {
    "duration": 10,
    "start_time": "2024-10-07T16:47:02.230Z"
   },
   {
    "duration": 143,
    "start_time": "2024-10-07T16:47:02.242Z"
   },
   {
    "duration": 4,
    "start_time": "2024-10-07T16:47:02.386Z"
   },
   {
    "duration": 12,
    "start_time": "2024-10-07T16:47:02.391Z"
   },
   {
    "duration": 175,
    "start_time": "2024-10-07T16:47:02.406Z"
   },
   {
    "duration": 161,
    "start_time": "2024-10-07T16:47:02.584Z"
   },
   {
    "duration": 4,
    "start_time": "2024-10-07T16:47:31.029Z"
   },
   {
    "duration": 3,
    "start_time": "2024-10-07T16:47:50.430Z"
   },
   {
    "duration": 4,
    "start_time": "2024-10-07T16:48:00.854Z"
   },
   {
    "duration": 4,
    "start_time": "2024-10-07T16:48:20.534Z"
   },
   {
    "duration": 4,
    "start_time": "2024-10-07T16:48:20.661Z"
   },
   {
    "duration": 4,
    "start_time": "2024-10-07T16:51:32.540Z"
   },
   {
    "duration": 4,
    "start_time": "2024-10-07T16:51:49.302Z"
   },
   {
    "duration": 1118,
    "start_time": "2024-10-07T16:52:12.093Z"
   },
   {
    "duration": 27,
    "start_time": "2024-10-07T16:52:13.213Z"
   },
   {
    "duration": 20,
    "start_time": "2024-10-07T16:52:13.242Z"
   },
   {
    "duration": 51,
    "start_time": "2024-10-07T16:52:13.265Z"
   },
   {
    "duration": 99,
    "start_time": "2024-10-07T16:52:13.317Z"
   },
   {
    "duration": 52,
    "start_time": "2024-10-07T16:52:13.417Z"
   },
   {
    "duration": 18,
    "start_time": "2024-10-07T16:52:13.470Z"
   },
   {
    "duration": 31,
    "start_time": "2024-10-07T16:52:13.489Z"
   },
   {
    "duration": 23,
    "start_time": "2024-10-07T16:52:13.522Z"
   },
   {
    "duration": 9,
    "start_time": "2024-10-07T16:52:13.547Z"
   },
   {
    "duration": 144,
    "start_time": "2024-10-07T16:52:13.557Z"
   },
   {
    "duration": 105,
    "start_time": "2024-10-07T16:52:13.702Z"
   },
   {
    "duration": 9,
    "start_time": "2024-10-07T16:52:13.808Z"
   },
   {
    "duration": 8,
    "start_time": "2024-10-07T16:52:13.818Z"
   },
   {
    "duration": 293,
    "start_time": "2024-10-07T16:52:13.827Z"
   },
   {
    "duration": 303,
    "start_time": "2024-10-07T16:52:14.121Z"
   },
   {
    "duration": 7,
    "start_time": "2024-10-07T16:52:14.426Z"
   },
   {
    "duration": 372,
    "start_time": "2024-10-07T16:52:14.435Z"
   },
   {
    "duration": 4,
    "start_time": "2024-10-07T16:52:14.809Z"
   },
   {
    "duration": 321,
    "start_time": "2024-10-07T16:52:14.815Z"
   },
   {
    "duration": 7,
    "start_time": "2024-10-07T16:52:15.137Z"
   },
   {
    "duration": 506,
    "start_time": "2024-10-07T16:52:15.145Z"
   },
   {
    "duration": 11,
    "start_time": "2024-10-07T16:52:15.653Z"
   },
   {
    "duration": 231,
    "start_time": "2024-10-07T16:52:15.665Z"
   },
   {
    "duration": 4,
    "start_time": "2024-10-07T16:52:15.897Z"
   },
   {
    "duration": 59,
    "start_time": "2024-10-07T16:52:15.902Z"
   },
   {
    "duration": 238,
    "start_time": "2024-10-07T16:52:15.962Z"
   },
   {
    "duration": 158,
    "start_time": "2024-10-07T16:52:16.203Z"
   },
   {
    "duration": 3,
    "start_time": "2024-10-07T16:52:16.363Z"
   },
   {
    "duration": 19,
    "start_time": "2024-10-07T16:52:16.368Z"
   },
   {
    "duration": 193,
    "start_time": "2024-10-07T16:55:19.586Z"
   },
   {
    "duration": 133,
    "start_time": "2024-10-07T16:55:48.139Z"
   },
   {
    "duration": 1144,
    "start_time": "2024-10-07T16:59:39.102Z"
   },
   {
    "duration": 27,
    "start_time": "2024-10-07T16:59:40.248Z"
   },
   {
    "duration": 16,
    "start_time": "2024-10-07T16:59:40.276Z"
   },
   {
    "duration": 9,
    "start_time": "2024-10-07T16:59:40.294Z"
   },
   {
    "duration": 7,
    "start_time": "2024-10-07T16:59:40.304Z"
   },
   {
    "duration": 54,
    "start_time": "2024-10-07T16:59:40.313Z"
   },
   {
    "duration": 18,
    "start_time": "2024-10-07T16:59:40.368Z"
   },
   {
    "duration": 13,
    "start_time": "2024-10-07T16:59:40.388Z"
   },
   {
    "duration": 15,
    "start_time": "2024-10-07T16:59:40.402Z"
   },
   {
    "duration": 4,
    "start_time": "2024-10-07T16:59:40.421Z"
   },
   {
    "duration": 165,
    "start_time": "2024-10-07T16:59:40.427Z"
   },
   {
    "duration": 100,
    "start_time": "2024-10-07T16:59:40.594Z"
   },
   {
    "duration": 9,
    "start_time": "2024-10-07T16:59:40.707Z"
   },
   {
    "duration": 9,
    "start_time": "2024-10-07T16:59:40.718Z"
   },
   {
    "duration": 289,
    "start_time": "2024-10-07T16:59:40.729Z"
   },
   {
    "duration": 277,
    "start_time": "2024-10-07T16:59:41.019Z"
   },
   {
    "duration": 12,
    "start_time": "2024-10-07T16:59:41.298Z"
   },
   {
    "duration": 369,
    "start_time": "2024-10-07T16:59:41.311Z"
   },
   {
    "duration": 4,
    "start_time": "2024-10-07T16:59:41.682Z"
   },
   {
    "duration": 389,
    "start_time": "2024-10-07T16:59:41.688Z"
   },
   {
    "duration": 7,
    "start_time": "2024-10-07T16:59:42.078Z"
   },
   {
    "duration": 408,
    "start_time": "2024-10-07T16:59:42.086Z"
   },
   {
    "duration": 14,
    "start_time": "2024-10-07T16:59:42.495Z"
   },
   {
    "duration": 158,
    "start_time": "2024-10-07T16:59:42.511Z"
   },
   {
    "duration": 3,
    "start_time": "2024-10-07T16:59:42.671Z"
   },
   {
    "duration": 12,
    "start_time": "2024-10-07T16:59:42.675Z"
   },
   {
    "duration": 141,
    "start_time": "2024-10-07T16:59:42.688Z"
   },
   {
    "duration": 139,
    "start_time": "2024-10-07T16:59:42.832Z"
   },
   {
    "duration": 4,
    "start_time": "2024-10-07T16:59:42.973Z"
   },
   {
    "duration": 23,
    "start_time": "2024-10-07T16:59:42.978Z"
   },
   {
    "duration": 58,
    "start_time": "2024-10-08T09:53:48.217Z"
   },
   {
    "duration": 1370,
    "start_time": "2024-10-08T09:54:43.386Z"
   },
   {
    "duration": 98,
    "start_time": "2024-10-08T09:54:44.758Z"
   },
   {
    "duration": 22,
    "start_time": "2024-10-08T09:54:44.857Z"
   },
   {
    "duration": 9,
    "start_time": "2024-10-08T09:54:44.880Z"
   },
   {
    "duration": 9,
    "start_time": "2024-10-08T09:54:44.891Z"
   },
   {
    "duration": 181,
    "start_time": "2024-10-08T09:54:44.901Z"
   },
   {
    "duration": 22,
    "start_time": "2024-10-08T09:54:45.083Z"
   },
   {
    "duration": 69,
    "start_time": "2024-10-08T09:54:45.106Z"
   },
   {
    "duration": 45,
    "start_time": "2024-10-08T09:54:45.177Z"
   },
   {
    "duration": 5,
    "start_time": "2024-10-08T09:54:45.224Z"
   },
   {
    "duration": 180,
    "start_time": "2024-10-08T09:54:45.230Z"
   },
   {
    "duration": 124,
    "start_time": "2024-10-08T09:54:45.412Z"
   },
   {
    "duration": 18,
    "start_time": "2024-10-08T09:54:45.537Z"
   },
   {
    "duration": 9,
    "start_time": "2024-10-08T09:54:45.557Z"
   },
   {
    "duration": 340,
    "start_time": "2024-10-08T09:54:45.568Z"
   },
   {
    "duration": 316,
    "start_time": "2024-10-08T09:54:45.909Z"
   },
   {
    "duration": 6,
    "start_time": "2024-10-08T09:54:46.226Z"
   },
   {
    "duration": 442,
    "start_time": "2024-10-08T09:54:46.234Z"
   },
   {
    "duration": 7,
    "start_time": "2024-10-08T09:54:46.678Z"
   },
   {
    "duration": 343,
    "start_time": "2024-10-08T09:54:46.686Z"
   },
   {
    "duration": 7,
    "start_time": "2024-10-08T09:54:47.031Z"
   },
   {
    "duration": 452,
    "start_time": "2024-10-08T09:54:47.040Z"
   },
   {
    "duration": 10,
    "start_time": "2024-10-08T09:54:47.493Z"
   },
   {
    "duration": 154,
    "start_time": "2024-10-08T09:54:47.505Z"
   },
   {
    "duration": 4,
    "start_time": "2024-10-08T09:54:47.661Z"
   },
   {
    "duration": 39,
    "start_time": "2024-10-08T09:54:47.666Z"
   },
   {
    "duration": 204,
    "start_time": "2024-10-08T09:54:47.707Z"
   },
   {
    "duration": 167,
    "start_time": "2024-10-08T09:54:47.913Z"
   },
   {
    "duration": 4,
    "start_time": "2024-10-08T09:54:48.082Z"
   },
   {
    "duration": 24,
    "start_time": "2024-10-08T09:54:48.087Z"
   },
   {
    "duration": 280,
    "start_time": "2024-10-08T09:54:48.113Z"
   },
   {
    "duration": 104,
    "start_time": "2024-10-08T09:56:29.519Z"
   },
   {
    "duration": 201,
    "start_time": "2024-10-08T09:57:09.669Z"
   },
   {
    "duration": 182,
    "start_time": "2024-10-08T09:58:51.896Z"
   },
   {
    "duration": 23,
    "start_time": "2024-10-08T09:58:52.080Z"
   },
   {
    "duration": 14,
    "start_time": "2024-10-08T10:01:32.786Z"
   },
   {
    "duration": 133,
    "start_time": "2024-10-08T10:02:29.725Z"
   },
   {
    "duration": 126,
    "start_time": "2024-10-08T10:02:43.962Z"
   },
   {
    "duration": 1143,
    "start_time": "2024-10-08T10:03:03.856Z"
   },
   {
    "duration": 34,
    "start_time": "2024-10-08T10:03:05.001Z"
   },
   {
    "duration": 37,
    "start_time": "2024-10-08T10:03:05.037Z"
   },
   {
    "duration": 26,
    "start_time": "2024-10-08T10:03:05.075Z"
   },
   {
    "duration": 20,
    "start_time": "2024-10-08T10:03:05.104Z"
   },
   {
    "duration": 91,
    "start_time": "2024-10-08T10:03:05.126Z"
   },
   {
    "duration": 21,
    "start_time": "2024-10-08T10:03:05.219Z"
   },
   {
    "duration": 51,
    "start_time": "2024-10-08T10:03:05.242Z"
   },
   {
    "duration": 65,
    "start_time": "2024-10-08T10:03:05.295Z"
   },
   {
    "duration": 120,
    "start_time": "2024-10-08T10:03:05.362Z"
   },
   {
    "duration": 204,
    "start_time": "2024-10-08T10:03:05.483Z"
   },
   {
    "duration": 117,
    "start_time": "2024-10-08T10:03:05.689Z"
   },
   {
    "duration": 27,
    "start_time": "2024-10-08T10:03:05.808Z"
   },
   {
    "duration": 56,
    "start_time": "2024-10-08T10:03:05.838Z"
   },
   {
    "duration": 375,
    "start_time": "2024-10-08T10:03:05.896Z"
   },
   {
    "duration": 328,
    "start_time": "2024-10-08T10:03:06.273Z"
   },
   {
    "duration": 5,
    "start_time": "2024-10-08T10:03:06.603Z"
   },
   {
    "duration": 426,
    "start_time": "2024-10-08T10:03:06.610Z"
   },
   {
    "duration": 5,
    "start_time": "2024-10-08T10:03:07.038Z"
   },
   {
    "duration": 384,
    "start_time": "2024-10-08T10:03:07.044Z"
   },
   {
    "duration": 8,
    "start_time": "2024-10-08T10:03:07.429Z"
   },
   {
    "duration": 511,
    "start_time": "2024-10-08T10:03:07.438Z"
   },
   {
    "duration": 9,
    "start_time": "2024-10-08T10:03:07.950Z"
   },
   {
    "duration": 160,
    "start_time": "2024-10-08T10:03:07.961Z"
   },
   {
    "duration": 16,
    "start_time": "2024-10-08T10:03:08.122Z"
   },
   {
    "duration": 31,
    "start_time": "2024-10-08T10:03:08.140Z"
   },
   {
    "duration": 174,
    "start_time": "2024-10-08T10:03:08.173Z"
   },
   {
    "duration": 167,
    "start_time": "2024-10-08T10:03:08.349Z"
   },
   {
    "duration": 5,
    "start_time": "2024-10-08T10:03:08.518Z"
   },
   {
    "duration": 41,
    "start_time": "2024-10-08T10:03:08.524Z"
   },
   {
    "duration": 283,
    "start_time": "2024-10-08T10:03:08.567Z"
   },
   {
    "duration": 24,
    "start_time": "2024-10-08T10:03:08.852Z"
   },
   {
    "duration": 238,
    "start_time": "2024-10-08T10:03:08.877Z"
   },
   {
    "duration": 127,
    "start_time": "2024-10-08T10:04:10.168Z"
   },
   {
    "duration": 7,
    "start_time": "2024-10-08T11:28:31.788Z"
   },
   {
    "duration": 29,
    "start_time": "2024-10-08T11:30:30.666Z"
   },
   {
    "duration": 3,
    "start_time": "2024-10-08T11:42:33.414Z"
   },
   {
    "duration": 15,
    "start_time": "2024-10-08T11:43:51.563Z"
   },
   {
    "duration": 1110,
    "start_time": "2024-10-08T11:46:40.374Z"
   },
   {
    "duration": 31,
    "start_time": "2024-10-08T11:46:41.486Z"
   },
   {
    "duration": 20,
    "start_time": "2024-10-08T11:46:41.519Z"
   },
   {
    "duration": 11,
    "start_time": "2024-10-08T11:46:41.542Z"
   },
   {
    "duration": 13,
    "start_time": "2024-10-08T11:46:41.554Z"
   },
   {
    "duration": 79,
    "start_time": "2024-10-08T11:46:41.568Z"
   },
   {
    "duration": 21,
    "start_time": "2024-10-08T11:46:41.648Z"
   },
   {
    "duration": 14,
    "start_time": "2024-10-08T11:46:41.671Z"
   },
   {
    "duration": 17,
    "start_time": "2024-10-08T11:46:41.687Z"
   },
   {
    "duration": 5,
    "start_time": "2024-10-08T11:46:41.707Z"
   },
   {
    "duration": 170,
    "start_time": "2024-10-08T11:46:41.713Z"
   },
   {
    "duration": 115,
    "start_time": "2024-10-08T11:46:41.885Z"
   },
   {
    "duration": 20,
    "start_time": "2024-10-08T11:46:42.002Z"
   },
   {
    "duration": 11,
    "start_time": "2024-10-08T11:46:42.024Z"
   },
   {
    "duration": 339,
    "start_time": "2024-10-08T11:46:42.037Z"
   },
   {
    "duration": 317,
    "start_time": "2024-10-08T11:46:42.378Z"
   },
   {
    "duration": 7,
    "start_time": "2024-10-08T11:46:42.697Z"
   },
   {
    "duration": 453,
    "start_time": "2024-10-08T11:46:42.706Z"
   },
   {
    "duration": 6,
    "start_time": "2024-10-08T11:46:43.160Z"
   },
   {
    "duration": 343,
    "start_time": "2024-10-08T11:46:43.167Z"
   },
   {
    "duration": 12,
    "start_time": "2024-10-08T11:46:43.512Z"
   },
   {
    "duration": 460,
    "start_time": "2024-10-08T11:46:43.525Z"
   },
   {
    "duration": 10,
    "start_time": "2024-10-08T11:46:43.987Z"
   },
   {
    "duration": 155,
    "start_time": "2024-10-08T11:46:43.998Z"
   },
   {
    "duration": 4,
    "start_time": "2024-10-08T11:46:44.155Z"
   },
   {
    "duration": 18,
    "start_time": "2024-10-08T11:46:44.160Z"
   },
   {
    "duration": 158,
    "start_time": "2024-10-08T11:46:44.180Z"
   },
   {
    "duration": 174,
    "start_time": "2024-10-08T11:46:44.341Z"
   },
   {
    "duration": 5,
    "start_time": "2024-10-08T11:46:44.520Z"
   },
   {
    "duration": 12,
    "start_time": "2024-10-08T11:46:44.526Z"
   },
   {
    "duration": 299,
    "start_time": "2024-10-08T11:46:44.539Z"
   },
   {
    "duration": 24,
    "start_time": "2024-10-08T11:46:44.840Z"
   },
   {
    "duration": 213,
    "start_time": "2024-10-08T11:46:44.866Z"
   },
   {
    "duration": 29,
    "start_time": "2024-10-08T11:46:45.081Z"
   },
   {
    "duration": 11,
    "start_time": "2024-10-08T11:46:45.121Z"
   },
   {
    "duration": 824,
    "start_time": "2024-10-08T11:53:41.301Z"
   },
   {
    "duration": 9,
    "start_time": "2024-10-08T11:54:11.460Z"
   },
   {
    "duration": 8,
    "start_time": "2024-10-08T11:55:47.467Z"
   },
   {
    "duration": 30,
    "start_time": "2024-10-08T11:55:57.658Z"
   },
   {
    "duration": 1094,
    "start_time": "2024-10-08T11:59:39.073Z"
   },
   {
    "duration": 31,
    "start_time": "2024-10-08T11:59:40.169Z"
   },
   {
    "duration": 17,
    "start_time": "2024-10-08T11:59:40.202Z"
   },
   {
    "duration": 8,
    "start_time": "2024-10-08T11:59:40.221Z"
   },
   {
    "duration": 8,
    "start_time": "2024-10-08T11:59:40.230Z"
   },
   {
    "duration": 64,
    "start_time": "2024-10-08T11:59:40.239Z"
   },
   {
    "duration": 20,
    "start_time": "2024-10-08T11:59:40.305Z"
   },
   {
    "duration": 13,
    "start_time": "2024-10-08T11:59:40.327Z"
   },
   {
    "duration": 16,
    "start_time": "2024-10-08T11:59:40.341Z"
   },
   {
    "duration": 13,
    "start_time": "2024-10-08T11:59:40.359Z"
   },
   {
    "duration": 178,
    "start_time": "2024-10-08T11:59:40.374Z"
   },
   {
    "duration": 119,
    "start_time": "2024-10-08T11:59:40.554Z"
   },
   {
    "duration": 29,
    "start_time": "2024-10-08T11:59:40.674Z"
   },
   {
    "duration": 7,
    "start_time": "2024-10-08T11:59:40.705Z"
   },
   {
    "duration": 313,
    "start_time": "2024-10-08T11:59:40.713Z"
   },
   {
    "duration": 315,
    "start_time": "2024-10-08T11:59:41.027Z"
   },
   {
    "duration": 6,
    "start_time": "2024-10-08T11:59:41.344Z"
   },
   {
    "duration": 414,
    "start_time": "2024-10-08T11:59:41.351Z"
   },
   {
    "duration": 4,
    "start_time": "2024-10-08T11:59:41.767Z"
   },
   {
    "duration": 336,
    "start_time": "2024-10-08T11:59:41.773Z"
   },
   {
    "duration": 14,
    "start_time": "2024-10-08T11:59:42.111Z"
   },
   {
    "duration": 444,
    "start_time": "2024-10-08T11:59:42.127Z"
   },
   {
    "duration": 10,
    "start_time": "2024-10-08T11:59:42.573Z"
   },
   {
    "duration": 155,
    "start_time": "2024-10-08T11:59:42.585Z"
   },
   {
    "duration": 5,
    "start_time": "2024-10-08T11:59:42.741Z"
   },
   {
    "duration": 5,
    "start_time": "2024-10-08T11:59:42.747Z"
   },
   {
    "duration": 193,
    "start_time": "2024-10-08T11:59:42.754Z"
   },
   {
    "duration": 162,
    "start_time": "2024-10-08T11:59:42.951Z"
   },
   {
    "duration": 8,
    "start_time": "2024-10-08T11:59:43.115Z"
   },
   {
    "duration": 14,
    "start_time": "2024-10-08T11:59:43.125Z"
   },
   {
    "duration": 252,
    "start_time": "2024-10-08T11:59:43.141Z"
   },
   {
    "duration": 33,
    "start_time": "2024-10-08T11:59:43.395Z"
   },
   {
    "duration": 150,
    "start_time": "2024-10-08T11:59:43.430Z"
   },
   {
    "duration": 30,
    "start_time": "2024-10-08T11:59:43.582Z"
   },
   {
    "duration": 12,
    "start_time": "2024-10-08T11:59:43.621Z"
   },
   {
    "duration": 10,
    "start_time": "2024-10-08T11:59:43.634Z"
   },
   {
    "duration": 31,
    "start_time": "2024-10-08T11:59:43.646Z"
   },
   {
    "duration": 1179,
    "start_time": "2024-10-08T12:05:35.701Z"
   },
   {
    "duration": 32,
    "start_time": "2024-10-08T12:05:36.882Z"
   },
   {
    "duration": 34,
    "start_time": "2024-10-08T12:05:36.915Z"
   },
   {
    "duration": 25,
    "start_time": "2024-10-08T12:05:36.950Z"
   },
   {
    "duration": 29,
    "start_time": "2024-10-08T12:05:36.977Z"
   },
   {
    "duration": 77,
    "start_time": "2024-10-08T12:05:37.007Z"
   },
   {
    "duration": 19,
    "start_time": "2024-10-08T12:05:37.085Z"
   },
   {
    "duration": 22,
    "start_time": "2024-10-08T12:05:37.105Z"
   },
   {
    "duration": 55,
    "start_time": "2024-10-08T12:05:37.129Z"
   },
   {
    "duration": 27,
    "start_time": "2024-10-08T12:05:37.185Z"
   },
   {
    "duration": 194,
    "start_time": "2024-10-08T12:05:37.214Z"
   },
   {
    "duration": 115,
    "start_time": "2024-10-08T12:05:37.410Z"
   },
   {
    "duration": 8,
    "start_time": "2024-10-08T12:05:37.526Z"
   },
   {
    "duration": 80,
    "start_time": "2024-10-08T12:05:37.537Z"
   },
   {
    "duration": 338,
    "start_time": "2024-10-08T12:05:37.618Z"
   },
   {
    "duration": 314,
    "start_time": "2024-10-08T12:05:37.958Z"
   },
   {
    "duration": 5,
    "start_time": "2024-10-08T12:05:38.274Z"
   },
   {
    "duration": 440,
    "start_time": "2024-10-08T12:05:38.281Z"
   },
   {
    "duration": 6,
    "start_time": "2024-10-08T12:05:38.722Z"
   },
   {
    "duration": 377,
    "start_time": "2024-10-08T12:05:38.729Z"
   },
   {
    "duration": 13,
    "start_time": "2024-10-08T12:05:39.108Z"
   },
   {
    "duration": 455,
    "start_time": "2024-10-08T12:05:39.123Z"
   },
   {
    "duration": 9,
    "start_time": "2024-10-08T12:05:39.580Z"
   },
   {
    "duration": 165,
    "start_time": "2024-10-08T12:05:39.591Z"
   },
   {
    "duration": 4,
    "start_time": "2024-10-08T12:05:39.758Z"
   },
   {
    "duration": 12,
    "start_time": "2024-10-08T12:05:39.764Z"
   },
   {
    "duration": 193,
    "start_time": "2024-10-08T12:05:39.778Z"
   },
   {
    "duration": 171,
    "start_time": "2024-10-08T12:05:39.973Z"
   },
   {
    "duration": 5,
    "start_time": "2024-10-08T12:05:40.146Z"
   },
   {
    "duration": 34,
    "start_time": "2024-10-08T12:05:40.153Z"
   },
   {
    "duration": 262,
    "start_time": "2024-10-08T12:05:40.189Z"
   },
   {
    "duration": 25,
    "start_time": "2024-10-08T12:05:40.452Z"
   },
   {
    "duration": 231,
    "start_time": "2024-10-08T12:05:40.479Z"
   },
   {
    "duration": 34,
    "start_time": "2024-10-08T12:05:40.712Z"
   },
   {
    "duration": 42,
    "start_time": "2024-10-08T12:05:40.747Z"
   },
   {
    "duration": 74,
    "start_time": "2024-10-08T12:05:40.790Z"
   },
   {
    "duration": 32,
    "start_time": "2024-10-08T12:05:40.866Z"
   },
   {
    "duration": 905,
    "start_time": "2024-10-08T12:07:28.893Z"
   },
   {
    "duration": 19,
    "start_time": "2024-10-08T12:07:47.328Z"
   },
   {
    "duration": 1089,
    "start_time": "2024-10-08T12:13:55.581Z"
   },
   {
    "duration": 31,
    "start_time": "2024-10-08T12:13:56.672Z"
   },
   {
    "duration": 28,
    "start_time": "2024-10-08T12:13:56.705Z"
   },
   {
    "duration": 73,
    "start_time": "2024-10-08T12:13:56.734Z"
   },
   {
    "duration": 65,
    "start_time": "2024-10-08T12:13:56.809Z"
   },
   {
    "duration": 80,
    "start_time": "2024-10-08T12:13:56.875Z"
   },
   {
    "duration": 17,
    "start_time": "2024-10-08T12:13:56.957Z"
   },
   {
    "duration": 15,
    "start_time": "2024-10-08T12:13:56.975Z"
   },
   {
    "duration": 16,
    "start_time": "2024-10-08T12:13:56.991Z"
   },
   {
    "duration": 29,
    "start_time": "2024-10-08T12:13:57.009Z"
   },
   {
    "duration": 191,
    "start_time": "2024-10-08T12:13:57.039Z"
   },
   {
    "duration": 139,
    "start_time": "2024-10-08T12:13:57.232Z"
   },
   {
    "duration": 10,
    "start_time": "2024-10-08T12:13:57.373Z"
   },
   {
    "duration": 8,
    "start_time": "2024-10-08T12:13:57.386Z"
   },
   {
    "duration": 332,
    "start_time": "2024-10-08T12:13:57.396Z"
   },
   {
    "duration": 316,
    "start_time": "2024-10-08T12:13:57.729Z"
   },
   {
    "duration": 5,
    "start_time": "2024-10-08T12:13:58.047Z"
   },
   {
    "duration": 440,
    "start_time": "2024-10-08T12:13:58.054Z"
   },
   {
    "duration": 5,
    "start_time": "2024-10-08T12:13:58.496Z"
   },
   {
    "duration": 351,
    "start_time": "2024-10-08T12:13:58.503Z"
   },
   {
    "duration": 8,
    "start_time": "2024-10-08T12:13:58.855Z"
   },
   {
    "duration": 460,
    "start_time": "2024-10-08T12:13:58.865Z"
   },
   {
    "duration": 9,
    "start_time": "2024-10-08T12:13:59.326Z"
   },
   {
    "duration": 149,
    "start_time": "2024-10-08T12:13:59.337Z"
   },
   {
    "duration": 4,
    "start_time": "2024-10-08T12:13:59.487Z"
   },
   {
    "duration": 11,
    "start_time": "2024-10-08T12:13:59.493Z"
   },
   {
    "duration": 161,
    "start_time": "2024-10-08T12:13:59.505Z"
   },
   {
    "duration": 159,
    "start_time": "2024-10-08T12:13:59.668Z"
   },
   {
    "duration": 4,
    "start_time": "2024-10-08T12:13:59.829Z"
   },
   {
    "duration": 16,
    "start_time": "2024-10-08T12:13:59.835Z"
   },
   {
    "duration": 277,
    "start_time": "2024-10-08T12:13:59.853Z"
   },
   {
    "duration": 23,
    "start_time": "2024-10-08T12:14:00.132Z"
   },
   {
    "duration": 147,
    "start_time": "2024-10-08T12:14:00.156Z"
   },
   {
    "duration": 34,
    "start_time": "2024-10-08T12:14:00.305Z"
   },
   {
    "duration": 19,
    "start_time": "2024-10-08T12:14:00.340Z"
   },
   {
    "duration": 95,
    "start_time": "2024-10-08T12:14:00.360Z"
   },
   {
    "duration": 39,
    "start_time": "2024-10-08T12:14:00.456Z"
   },
   {
    "duration": 12,
    "start_time": "2024-10-08T12:14:00.497Z"
   },
   {
    "duration": 1199,
    "start_time": "2024-10-08T12:23:07.884Z"
   },
   {
    "duration": 32,
    "start_time": "2024-10-08T12:23:09.085Z"
   },
   {
    "duration": 18,
    "start_time": "2024-10-08T12:23:09.118Z"
   },
   {
    "duration": 8,
    "start_time": "2024-10-08T12:23:09.138Z"
   },
   {
    "duration": 8,
    "start_time": "2024-10-08T12:23:09.148Z"
   },
   {
    "duration": 59,
    "start_time": "2024-10-08T12:23:09.157Z"
   },
   {
    "duration": 19,
    "start_time": "2024-10-08T12:23:09.218Z"
   },
   {
    "duration": 12,
    "start_time": "2024-10-08T12:23:09.238Z"
   },
   {
    "duration": 16,
    "start_time": "2024-10-08T12:23:09.252Z"
   },
   {
    "duration": 5,
    "start_time": "2024-10-08T12:23:09.270Z"
   },
   {
    "duration": 188,
    "start_time": "2024-10-08T12:23:09.277Z"
   },
   {
    "duration": 119,
    "start_time": "2024-10-08T12:23:09.466Z"
   },
   {
    "duration": 12,
    "start_time": "2024-10-08T12:23:09.586Z"
   },
   {
    "duration": 7,
    "start_time": "2024-10-08T12:23:09.600Z"
   },
   {
    "duration": 390,
    "start_time": "2024-10-08T12:23:09.622Z"
   },
   {
    "duration": 320,
    "start_time": "2024-10-08T12:23:10.013Z"
   },
   {
    "duration": 6,
    "start_time": "2024-10-08T12:23:10.335Z"
   },
   {
    "duration": 409,
    "start_time": "2024-10-08T12:23:10.342Z"
   },
   {
    "duration": 5,
    "start_time": "2024-10-08T12:23:10.753Z"
   },
   {
    "duration": 393,
    "start_time": "2024-10-08T12:23:10.759Z"
   },
   {
    "duration": 8,
    "start_time": "2024-10-08T12:23:11.154Z"
   },
   {
    "duration": 405,
    "start_time": "2024-10-08T12:23:11.163Z"
   },
   {
    "duration": 9,
    "start_time": "2024-10-08T12:23:11.570Z"
   },
   {
    "duration": 155,
    "start_time": "2024-10-08T12:23:11.580Z"
   },
   {
    "duration": 4,
    "start_time": "2024-10-08T12:23:11.737Z"
   },
   {
    "duration": 4,
    "start_time": "2024-10-08T12:23:11.743Z"
   },
   {
    "duration": 174,
    "start_time": "2024-10-08T12:23:11.749Z"
   },
   {
    "duration": 158,
    "start_time": "2024-10-08T12:23:11.926Z"
   },
   {
    "duration": 4,
    "start_time": "2024-10-08T12:23:12.086Z"
   },
   {
    "duration": 42,
    "start_time": "2024-10-08T12:23:12.091Z"
   },
   {
    "duration": 262,
    "start_time": "2024-10-08T12:23:12.135Z"
   },
   {
    "duration": 25,
    "start_time": "2024-10-08T12:23:12.399Z"
   },
   {
    "duration": 140,
    "start_time": "2024-10-08T12:23:12.426Z"
   },
   {
    "duration": 28,
    "start_time": "2024-10-08T12:23:12.568Z"
   },
   {
    "duration": 28,
    "start_time": "2024-10-08T12:23:12.597Z"
   },
   {
    "duration": 9,
    "start_time": "2024-10-08T12:23:12.626Z"
   },
   {
    "duration": 38,
    "start_time": "2024-10-08T12:23:12.636Z"
   },
   {
    "duration": 15,
    "start_time": "2024-10-08T12:23:12.676Z"
   },
   {
    "duration": 1149,
    "start_time": "2024-10-08T12:33:38.379Z"
   },
   {
    "duration": 33,
    "start_time": "2024-10-08T12:33:39.530Z"
   },
   {
    "duration": 24,
    "start_time": "2024-10-08T12:33:39.565Z"
   },
   {
    "duration": 9,
    "start_time": "2024-10-08T12:33:39.590Z"
   },
   {
    "duration": 8,
    "start_time": "2024-10-08T12:33:39.601Z"
   },
   {
    "duration": 85,
    "start_time": "2024-10-08T12:33:39.610Z"
   },
   {
    "duration": 20,
    "start_time": "2024-10-08T12:33:39.697Z"
   },
   {
    "duration": 78,
    "start_time": "2024-10-08T12:33:39.718Z"
   },
   {
    "duration": 21,
    "start_time": "2024-10-08T12:33:39.797Z"
   },
   {
    "duration": 7,
    "start_time": "2024-10-08T12:33:39.819Z"
   },
   {
    "duration": 169,
    "start_time": "2024-10-08T12:33:39.828Z"
   },
   {
    "duration": 124,
    "start_time": "2024-10-08T12:33:39.998Z"
   },
   {
    "duration": 9,
    "start_time": "2024-10-08T12:33:40.124Z"
   },
   {
    "duration": 48,
    "start_time": "2024-10-08T12:33:40.135Z"
   },
   {
    "duration": 358,
    "start_time": "2024-10-08T12:33:40.184Z"
   },
   {
    "duration": 349,
    "start_time": "2024-10-08T12:33:40.544Z"
   },
   {
    "duration": 6,
    "start_time": "2024-10-08T12:33:40.895Z"
   },
   {
    "duration": 434,
    "start_time": "2024-10-08T12:33:40.903Z"
   },
   {
    "duration": 6,
    "start_time": "2024-10-08T12:33:41.338Z"
   },
   {
    "duration": 346,
    "start_time": "2024-10-08T12:33:41.346Z"
   },
   {
    "duration": 16,
    "start_time": "2024-10-08T12:33:41.694Z"
   },
   {
    "duration": 572,
    "start_time": "2024-10-08T12:33:41.711Z"
   },
   {
    "duration": 9,
    "start_time": "2024-10-08T12:33:42.285Z"
   },
   {
    "duration": 163,
    "start_time": "2024-10-08T12:33:42.295Z"
   },
   {
    "duration": 4,
    "start_time": "2024-10-08T12:33:42.460Z"
   },
   {
    "duration": 12,
    "start_time": "2024-10-08T12:33:42.465Z"
   },
   {
    "duration": 168,
    "start_time": "2024-10-08T12:33:42.478Z"
   },
   {
    "duration": 172,
    "start_time": "2024-10-08T12:33:42.647Z"
   },
   {
    "duration": 4,
    "start_time": "2024-10-08T12:33:42.821Z"
   },
   {
    "duration": 77,
    "start_time": "2024-10-08T12:33:42.827Z"
   },
   {
    "duration": 269,
    "start_time": "2024-10-08T12:33:42.906Z"
   },
   {
    "duration": 25,
    "start_time": "2024-10-08T12:33:43.177Z"
   },
   {
    "duration": 153,
    "start_time": "2024-10-08T12:33:43.203Z"
   },
   {
    "duration": 28,
    "start_time": "2024-10-08T12:33:43.357Z"
   },
   {
    "duration": 9,
    "start_time": "2024-10-08T12:33:43.387Z"
   },
   {
    "duration": 35,
    "start_time": "2024-10-08T12:33:43.398Z"
   },
   {
    "duration": 43,
    "start_time": "2024-10-08T12:33:43.435Z"
   },
   {
    "duration": 13,
    "start_time": "2024-10-08T12:33:43.480Z"
   },
   {
    "duration": 1104,
    "start_time": "2024-10-08T12:45:21.069Z"
   },
   {
    "duration": 31,
    "start_time": "2024-10-08T12:45:22.175Z"
   },
   {
    "duration": 53,
    "start_time": "2024-10-08T12:45:22.208Z"
   },
   {
    "duration": 9,
    "start_time": "2024-10-08T12:45:22.263Z"
   },
   {
    "duration": 9,
    "start_time": "2024-10-08T12:45:22.274Z"
   },
   {
    "duration": 59,
    "start_time": "2024-10-08T12:45:22.284Z"
   },
   {
    "duration": 19,
    "start_time": "2024-10-08T12:45:22.345Z"
   },
   {
    "duration": 19,
    "start_time": "2024-10-08T12:45:22.365Z"
   },
   {
    "duration": 16,
    "start_time": "2024-10-08T12:45:22.385Z"
   },
   {
    "duration": 6,
    "start_time": "2024-10-08T12:45:22.404Z"
   },
   {
    "duration": 165,
    "start_time": "2024-10-08T12:45:22.411Z"
   },
   {
    "duration": 118,
    "start_time": "2024-10-08T12:45:22.578Z"
   },
   {
    "duration": 9,
    "start_time": "2024-10-08T12:45:22.697Z"
   },
   {
    "duration": 20,
    "start_time": "2024-10-08T12:45:22.707Z"
   },
   {
    "duration": 339,
    "start_time": "2024-10-08T12:45:22.728Z"
   },
   {
    "duration": 311,
    "start_time": "2024-10-08T12:45:23.068Z"
   },
   {
    "duration": 6,
    "start_time": "2024-10-08T12:45:23.380Z"
   },
   {
    "duration": 428,
    "start_time": "2024-10-08T12:45:23.387Z"
   },
   {
    "duration": 5,
    "start_time": "2024-10-08T12:45:23.821Z"
   },
   {
    "duration": 339,
    "start_time": "2024-10-08T12:45:23.827Z"
   },
   {
    "duration": 7,
    "start_time": "2024-10-08T12:45:24.167Z"
   },
   {
    "duration": 481,
    "start_time": "2024-10-08T12:45:24.175Z"
   },
   {
    "duration": 9,
    "start_time": "2024-10-08T12:45:24.657Z"
   },
   {
    "duration": 155,
    "start_time": "2024-10-08T12:45:24.668Z"
   },
   {
    "duration": 5,
    "start_time": "2024-10-08T12:45:24.824Z"
   },
   {
    "duration": 12,
    "start_time": "2024-10-08T12:45:24.830Z"
   },
   {
    "duration": 281,
    "start_time": "2024-10-08T12:45:24.843Z"
   },
   {
    "duration": 163,
    "start_time": "2024-10-08T12:45:25.127Z"
   },
   {
    "duration": 5,
    "start_time": "2024-10-08T12:45:25.291Z"
   },
   {
    "duration": 7,
    "start_time": "2024-10-08T12:45:25.297Z"
   },
   {
    "duration": 290,
    "start_time": "2024-10-08T12:45:25.306Z"
   },
   {
    "duration": 34,
    "start_time": "2024-10-08T12:45:25.598Z"
   },
   {
    "duration": 146,
    "start_time": "2024-10-08T12:45:25.633Z"
   },
   {
    "duration": 29,
    "start_time": "2024-10-08T12:45:25.781Z"
   },
   {
    "duration": 18,
    "start_time": "2024-10-08T12:45:25.811Z"
   },
   {
    "duration": 19,
    "start_time": "2024-10-08T12:45:25.831Z"
   },
   {
    "duration": 51,
    "start_time": "2024-10-08T12:45:25.852Z"
   },
   {
    "duration": 24,
    "start_time": "2024-10-08T12:45:25.905Z"
   },
   {
    "duration": 1254,
    "start_time": "2024-10-08T13:29:20.061Z"
   },
   {
    "duration": 26,
    "start_time": "2024-10-08T13:29:21.317Z"
   },
   {
    "duration": 29,
    "start_time": "2024-10-08T13:29:21.344Z"
   },
   {
    "duration": 21,
    "start_time": "2024-10-08T13:29:21.374Z"
   },
   {
    "duration": 12,
    "start_time": "2024-10-08T13:29:21.401Z"
   },
   {
    "duration": 49,
    "start_time": "2024-10-08T13:29:21.414Z"
   },
   {
    "duration": 21,
    "start_time": "2024-10-08T13:29:21.465Z"
   },
   {
    "duration": 27,
    "start_time": "2024-10-08T13:29:21.494Z"
   },
   {
    "duration": 17,
    "start_time": "2024-10-08T13:29:21.522Z"
   },
   {
    "duration": 4,
    "start_time": "2024-10-08T13:29:21.540Z"
   },
   {
    "duration": 165,
    "start_time": "2024-10-08T13:29:21.546Z"
   },
   {
    "duration": 121,
    "start_time": "2024-10-08T13:29:21.712Z"
   },
   {
    "duration": 9,
    "start_time": "2024-10-08T13:29:21.834Z"
   },
   {
    "duration": 8,
    "start_time": "2024-10-08T13:29:21.845Z"
   },
   {
    "duration": 356,
    "start_time": "2024-10-08T13:29:21.854Z"
   },
   {
    "duration": 332,
    "start_time": "2024-10-08T13:29:22.212Z"
   },
   {
    "duration": 5,
    "start_time": "2024-10-08T13:29:22.546Z"
   },
   {
    "duration": 464,
    "start_time": "2024-10-08T13:29:22.553Z"
   },
   {
    "duration": 5,
    "start_time": "2024-10-08T13:29:23.019Z"
   },
   {
    "duration": 351,
    "start_time": "2024-10-08T13:29:23.026Z"
   },
   {
    "duration": 12,
    "start_time": "2024-10-08T13:29:23.381Z"
   },
   {
    "duration": 431,
    "start_time": "2024-10-08T13:29:23.399Z"
   },
   {
    "duration": 55,
    "start_time": "2024-10-08T13:29:23.832Z"
   },
   {
    "duration": 324,
    "start_time": "2024-10-08T13:29:23.889Z"
   },
   {
    "duration": 4,
    "start_time": "2024-10-08T13:29:24.215Z"
   },
   {
    "duration": 10,
    "start_time": "2024-10-08T13:29:24.276Z"
   },
   {
    "duration": 408,
    "start_time": "2024-10-08T13:29:24.288Z"
   },
   {
    "duration": 324,
    "start_time": "2024-10-08T13:29:24.698Z"
   },
   {
    "duration": 5,
    "start_time": "2024-10-08T13:29:25.075Z"
   },
   {
    "duration": 24,
    "start_time": "2024-10-08T13:29:25.081Z"
   },
   {
    "duration": 571,
    "start_time": "2024-10-08T13:29:25.107Z"
   },
   {
    "duration": 29,
    "start_time": "2024-10-08T13:29:25.682Z"
   },
   {
    "duration": 153,
    "start_time": "2024-10-08T13:29:25.712Z"
   },
   {
    "duration": 45,
    "start_time": "2024-10-08T13:29:25.867Z"
   },
   {
    "duration": 36,
    "start_time": "2024-10-08T13:29:25.914Z"
   },
   {
    "duration": 8,
    "start_time": "2024-10-08T13:29:25.952Z"
   },
   {
    "duration": 42,
    "start_time": "2024-10-08T13:29:25.962Z"
   },
   {
    "duration": 13,
    "start_time": "2024-10-08T13:29:26.006Z"
   },
   {
    "duration": 19,
    "start_time": "2024-10-08T13:48:31.702Z"
   },
   {
    "duration": 34,
    "start_time": "2024-10-08T13:49:01.013Z"
   },
   {
    "duration": 13,
    "start_time": "2024-10-08T13:54:15.411Z"
   },
   {
    "duration": 3,
    "start_time": "2024-10-08T13:54:36.004Z"
   },
   {
    "duration": 31,
    "start_time": "2024-10-08T13:54:36.390Z"
   },
   {
    "duration": 16,
    "start_time": "2024-10-08T13:54:36.881Z"
   },
   {
    "duration": 11,
    "start_time": "2024-10-08T13:54:45.470Z"
   },
   {
    "duration": 120,
    "start_time": "2024-10-08T13:57:37.319Z"
   },
   {
    "duration": 14,
    "start_time": "2024-10-08T13:57:45.436Z"
   },
   {
    "duration": 9,
    "start_time": "2024-10-08T14:06:40.078Z"
   },
   {
    "duration": 16,
    "start_time": "2024-10-08T14:06:44.583Z"
   },
   {
    "duration": 8,
    "start_time": "2024-10-08T14:07:22.832Z"
   },
   {
    "duration": 11,
    "start_time": "2024-10-08T14:08:11.595Z"
   },
   {
    "duration": 6,
    "start_time": "2024-10-08T14:08:18.248Z"
   },
   {
    "duration": 8,
    "start_time": "2024-10-08T14:39:49.855Z"
   },
   {
    "duration": 6,
    "start_time": "2024-10-08T14:40:03.834Z"
   },
   {
    "duration": 1174,
    "start_time": "2024-10-08T14:44:46.168Z"
   },
   {
    "duration": 32,
    "start_time": "2024-10-08T14:44:47.345Z"
   },
   {
    "duration": 25,
    "start_time": "2024-10-08T14:44:47.378Z"
   },
   {
    "duration": 15,
    "start_time": "2024-10-08T14:44:47.406Z"
   },
   {
    "duration": 38,
    "start_time": "2024-10-08T14:44:47.424Z"
   },
   {
    "duration": 69,
    "start_time": "2024-10-08T14:44:47.464Z"
   },
   {
    "duration": 16,
    "start_time": "2024-10-08T14:44:47.534Z"
   },
   {
    "duration": 22,
    "start_time": "2024-10-08T14:44:47.552Z"
   },
   {
    "duration": 51,
    "start_time": "2024-10-08T14:44:47.575Z"
   },
   {
    "duration": 11,
    "start_time": "2024-10-08T14:44:47.628Z"
   },
   {
    "duration": 14,
    "start_time": "2024-10-08T14:44:47.641Z"
   },
   {
    "duration": 17,
    "start_time": "2024-10-08T14:44:47.657Z"
   },
   {
    "duration": 5,
    "start_time": "2024-10-08T14:44:47.676Z"
   },
   {
    "duration": 6,
    "start_time": "2024-10-08T14:44:47.684Z"
   },
   {
    "duration": 184,
    "start_time": "2024-10-08T14:44:47.691Z"
   },
   {
    "duration": 117,
    "start_time": "2024-10-08T14:44:47.876Z"
   },
   {
    "duration": 9,
    "start_time": "2024-10-08T14:44:47.995Z"
   },
   {
    "duration": 7,
    "start_time": "2024-10-08T14:44:48.021Z"
   },
   {
    "duration": 341,
    "start_time": "2024-10-08T14:44:48.030Z"
   },
   {
    "duration": 341,
    "start_time": "2024-10-08T14:44:48.373Z"
   },
   {
    "duration": 14,
    "start_time": "2024-10-08T14:44:48.715Z"
   },
   {
    "duration": 482,
    "start_time": "2024-10-08T14:44:48.731Z"
   },
   {
    "duration": 10,
    "start_time": "2024-10-08T14:44:49.214Z"
   },
   {
    "duration": 336,
    "start_time": "2024-10-08T14:44:49.226Z"
   },
   {
    "duration": 9,
    "start_time": "2024-10-08T14:44:49.564Z"
   },
   {
    "duration": 453,
    "start_time": "2024-10-08T14:44:49.575Z"
   },
   {
    "duration": 10,
    "start_time": "2024-10-08T14:44:50.030Z"
   },
   {
    "duration": 163,
    "start_time": "2024-10-08T14:44:50.042Z"
   },
   {
    "duration": 5,
    "start_time": "2024-10-08T14:44:50.207Z"
   },
   {
    "duration": 13,
    "start_time": "2024-10-08T14:44:50.213Z"
   },
   {
    "duration": 167,
    "start_time": "2024-10-08T14:44:50.228Z"
   },
   {
    "duration": 161,
    "start_time": "2024-10-08T14:44:50.397Z"
   },
   {
    "duration": 5,
    "start_time": "2024-10-08T14:44:50.559Z"
   },
   {
    "duration": 10,
    "start_time": "2024-10-08T14:44:50.566Z"
   },
   {
    "duration": 278,
    "start_time": "2024-10-08T14:44:50.577Z"
   },
   {
    "duration": 27,
    "start_time": "2024-10-08T14:44:50.857Z"
   },
   {
    "duration": 150,
    "start_time": "2024-10-08T14:44:50.886Z"
   },
   {
    "duration": 30,
    "start_time": "2024-10-08T14:44:51.038Z"
   },
   {
    "duration": 11,
    "start_time": "2024-10-08T14:44:51.070Z"
   },
   {
    "duration": 26,
    "start_time": "2024-10-08T14:44:51.082Z"
   },
   {
    "duration": 35,
    "start_time": "2024-10-08T14:44:51.120Z"
   },
   {
    "duration": 14,
    "start_time": "2024-10-08T14:44:51.157Z"
   },
   {
    "duration": 55,
    "start_time": "2024-10-08T19:32:38.671Z"
   },
   {
    "duration": 1328,
    "start_time": "2024-10-08T19:34:17.893Z"
   },
   {
    "duration": 71,
    "start_time": "2024-10-08T19:34:19.223Z"
   },
   {
    "duration": 20,
    "start_time": "2024-10-08T19:34:19.295Z"
   },
   {
    "duration": 25,
    "start_time": "2024-10-08T19:34:19.317Z"
   },
   {
    "duration": 11,
    "start_time": "2024-10-08T19:34:19.345Z"
   },
   {
    "duration": 157,
    "start_time": "2024-10-08T19:34:19.358Z"
   },
   {
    "duration": 15,
    "start_time": "2024-10-08T19:34:19.517Z"
   },
   {
    "duration": 15,
    "start_time": "2024-10-08T19:34:19.534Z"
   },
   {
    "duration": 14,
    "start_time": "2024-10-08T19:34:19.551Z"
   },
   {
    "duration": 29,
    "start_time": "2024-10-08T19:34:19.567Z"
   },
   {
    "duration": 16,
    "start_time": "2024-10-08T19:34:19.598Z"
   },
   {
    "duration": 6,
    "start_time": "2024-10-08T19:34:19.616Z"
   },
   {
    "duration": 62,
    "start_time": "2024-10-08T19:34:19.624Z"
   },
   {
    "duration": 8,
    "start_time": "2024-10-08T19:34:19.690Z"
   },
   {
    "duration": 130,
    "start_time": "2024-10-08T19:34:19.699Z"
   },
   {
    "duration": 0,
    "start_time": "2024-10-08T19:34:19.831Z"
   },
   {
    "duration": 0,
    "start_time": "2024-10-08T19:34:19.833Z"
   },
   {
    "duration": 0,
    "start_time": "2024-10-08T19:34:19.835Z"
   },
   {
    "duration": 0,
    "start_time": "2024-10-08T19:34:19.836Z"
   },
   {
    "duration": 0,
    "start_time": "2024-10-08T19:34:19.838Z"
   },
   {
    "duration": 0,
    "start_time": "2024-10-08T19:34:19.839Z"
   },
   {
    "duration": 0,
    "start_time": "2024-10-08T19:34:19.841Z"
   },
   {
    "duration": 0,
    "start_time": "2024-10-08T19:34:19.842Z"
   },
   {
    "duration": 0,
    "start_time": "2024-10-08T19:34:19.844Z"
   },
   {
    "duration": 0,
    "start_time": "2024-10-08T19:34:19.845Z"
   },
   {
    "duration": 0,
    "start_time": "2024-10-08T19:34:19.847Z"
   },
   {
    "duration": 1,
    "start_time": "2024-10-08T19:34:19.848Z"
   },
   {
    "duration": 0,
    "start_time": "2024-10-08T19:34:19.850Z"
   },
   {
    "duration": 0,
    "start_time": "2024-10-08T19:34:19.852Z"
   },
   {
    "duration": 0,
    "start_time": "2024-10-08T19:34:19.853Z"
   },
   {
    "duration": 0,
    "start_time": "2024-10-08T19:34:19.855Z"
   },
   {
    "duration": 0,
    "start_time": "2024-10-08T19:34:19.856Z"
   },
   {
    "duration": 0,
    "start_time": "2024-10-08T19:34:19.857Z"
   },
   {
    "duration": 0,
    "start_time": "2024-10-08T19:34:19.858Z"
   },
   {
    "duration": 0,
    "start_time": "2024-10-08T19:34:19.859Z"
   },
   {
    "duration": 0,
    "start_time": "2024-10-08T19:34:19.860Z"
   },
   {
    "duration": 0,
    "start_time": "2024-10-08T19:34:19.861Z"
   },
   {
    "duration": 0,
    "start_time": "2024-10-08T19:34:19.862Z"
   },
   {
    "duration": 0,
    "start_time": "2024-10-08T19:34:19.863Z"
   },
   {
    "duration": 0,
    "start_time": "2024-10-08T19:34:19.864Z"
   },
   {
    "duration": 0,
    "start_time": "2024-10-08T19:34:19.865Z"
   },
   {
    "duration": 1,
    "start_time": "2024-10-08T19:34:19.866Z"
   },
   {
    "duration": 0,
    "start_time": "2024-10-08T19:34:19.868Z"
   },
   {
    "duration": 0,
    "start_time": "2024-10-08T19:34:19.869Z"
   },
   {
    "duration": 1173,
    "start_time": "2024-10-08T19:35:06.411Z"
   },
   {
    "duration": 26,
    "start_time": "2024-10-08T19:35:07.586Z"
   },
   {
    "duration": 20,
    "start_time": "2024-10-08T19:35:07.614Z"
   },
   {
    "duration": 16,
    "start_time": "2024-10-08T19:35:07.635Z"
   },
   {
    "duration": 12,
    "start_time": "2024-10-08T19:35:07.653Z"
   },
   {
    "duration": 50,
    "start_time": "2024-10-08T19:35:07.667Z"
   },
   {
    "duration": 22,
    "start_time": "2024-10-08T19:35:07.719Z"
   },
   {
    "duration": 13,
    "start_time": "2024-10-08T19:35:07.743Z"
   },
   {
    "duration": 17,
    "start_time": "2024-10-08T19:35:07.758Z"
   },
   {
    "duration": 11,
    "start_time": "2024-10-08T19:35:07.776Z"
   },
   {
    "duration": 19,
    "start_time": "2024-10-08T19:35:07.789Z"
   },
   {
    "duration": 7,
    "start_time": "2024-10-08T19:35:07.811Z"
   },
   {
    "duration": 6,
    "start_time": "2024-10-08T19:35:07.820Z"
   },
   {
    "duration": 38,
    "start_time": "2024-10-08T19:35:07.830Z"
   },
   {
    "duration": 15,
    "start_time": "2024-10-08T19:35:07.869Z"
   },
   {
    "duration": 167,
    "start_time": "2024-10-08T19:35:07.885Z"
   },
   {
    "duration": 126,
    "start_time": "2024-10-08T19:35:08.053Z"
   },
   {
    "duration": 12,
    "start_time": "2024-10-08T19:35:08.181Z"
   },
   {
    "duration": 14,
    "start_time": "2024-10-08T19:35:08.194Z"
   },
   {
    "duration": 355,
    "start_time": "2024-10-08T19:35:08.209Z"
   },
   {
    "duration": 301,
    "start_time": "2024-10-08T19:35:08.565Z"
   },
   {
    "duration": 6,
    "start_time": "2024-10-08T19:35:08.867Z"
   },
   {
    "duration": 397,
    "start_time": "2024-10-08T19:35:08.875Z"
   },
   {
    "duration": 5,
    "start_time": "2024-10-08T19:35:09.274Z"
   },
   {
    "duration": 358,
    "start_time": "2024-10-08T19:35:09.281Z"
   },
   {
    "duration": 8,
    "start_time": "2024-10-08T19:35:09.641Z"
   },
   {
    "duration": 458,
    "start_time": "2024-10-08T19:35:09.651Z"
   },
   {
    "duration": 10,
    "start_time": "2024-10-08T19:35:10.111Z"
   },
   {
    "duration": 153,
    "start_time": "2024-10-08T19:35:10.122Z"
   },
   {
    "duration": 4,
    "start_time": "2024-10-08T19:35:10.277Z"
   },
   {
    "duration": 4,
    "start_time": "2024-10-08T19:35:10.283Z"
   },
   {
    "duration": 172,
    "start_time": "2024-10-08T19:35:10.289Z"
   },
   {
    "duration": 168,
    "start_time": "2024-10-08T19:35:10.465Z"
   },
   {
    "duration": 4,
    "start_time": "2024-10-08T19:35:10.635Z"
   },
   {
    "duration": 5,
    "start_time": "2024-10-08T19:35:10.640Z"
   },
   {
    "duration": 300,
    "start_time": "2024-10-08T19:35:10.646Z"
   },
   {
    "duration": 35,
    "start_time": "2024-10-08T19:35:10.948Z"
   },
   {
    "duration": 140,
    "start_time": "2024-10-08T19:35:10.985Z"
   },
   {
    "duration": 39,
    "start_time": "2024-10-08T19:35:11.127Z"
   },
   {
    "duration": 11,
    "start_time": "2024-10-08T19:35:11.168Z"
   },
   {
    "duration": 10,
    "start_time": "2024-10-08T19:35:11.183Z"
   },
   {
    "duration": 31,
    "start_time": "2024-10-08T19:35:11.194Z"
   },
   {
    "duration": 45,
    "start_time": "2024-10-08T19:35:11.228Z"
   },
   {
    "duration": 11,
    "start_time": "2024-10-08T19:40:25.737Z"
   },
   {
    "duration": 10,
    "start_time": "2024-10-08T19:41:56.274Z"
   },
   {
    "duration": 8,
    "start_time": "2024-10-08T19:42:03.717Z"
   },
   {
    "duration": 1208,
    "start_time": "2024-10-08T20:18:04.228Z"
   },
   {
    "duration": 27,
    "start_time": "2024-10-08T20:18:05.438Z"
   },
   {
    "duration": 20,
    "start_time": "2024-10-08T20:18:05.467Z"
   },
   {
    "duration": 12,
    "start_time": "2024-10-08T20:18:05.490Z"
   },
   {
    "duration": 12,
    "start_time": "2024-10-08T20:18:05.504Z"
   },
   {
    "duration": 55,
    "start_time": "2024-10-08T20:18:05.517Z"
   },
   {
    "duration": 15,
    "start_time": "2024-10-08T20:18:05.574Z"
   },
   {
    "duration": 8,
    "start_time": "2024-10-08T20:18:05.590Z"
   },
   {
    "duration": 6,
    "start_time": "2024-10-08T20:18:05.600Z"
   },
   {
    "duration": 19,
    "start_time": "2024-10-08T20:18:05.608Z"
   },
   {
    "duration": 17,
    "start_time": "2024-10-08T20:18:05.628Z"
   },
   {
    "duration": 25,
    "start_time": "2024-10-08T20:18:05.647Z"
   },
   {
    "duration": 7,
    "start_time": "2024-10-08T20:18:05.673Z"
   },
   {
    "duration": 8,
    "start_time": "2024-10-08T20:18:05.683Z"
   },
   {
    "duration": 6,
    "start_time": "2024-10-08T20:18:05.692Z"
   },
   {
    "duration": 194,
    "start_time": "2024-10-08T20:18:05.699Z"
   },
   {
    "duration": 126,
    "start_time": "2024-10-08T20:18:05.895Z"
   },
   {
    "duration": 9,
    "start_time": "2024-10-08T20:18:06.022Z"
   },
   {
    "duration": 8,
    "start_time": "2024-10-08T20:18:06.033Z"
   },
   {
    "duration": 375,
    "start_time": "2024-10-08T20:18:06.042Z"
   },
   {
    "duration": 307,
    "start_time": "2024-10-08T20:18:06.418Z"
   },
   {
    "duration": 5,
    "start_time": "2024-10-08T20:18:06.727Z"
   },
   {
    "duration": 446,
    "start_time": "2024-10-08T20:18:06.734Z"
   },
   {
    "duration": 5,
    "start_time": "2024-10-08T20:18:07.181Z"
   },
   {
    "duration": 352,
    "start_time": "2024-10-08T20:18:07.187Z"
   },
   {
    "duration": 7,
    "start_time": "2024-10-08T20:18:07.541Z"
   },
   {
    "duration": 619,
    "start_time": "2024-10-08T20:18:07.549Z"
   },
   {
    "duration": 9,
    "start_time": "2024-10-08T20:18:08.169Z"
   },
   {
    "duration": 152,
    "start_time": "2024-10-08T20:18:08.180Z"
   },
   {
    "duration": 4,
    "start_time": "2024-10-08T20:18:08.334Z"
   },
   {
    "duration": 6,
    "start_time": "2024-10-08T20:18:08.339Z"
   },
   {
    "duration": 170,
    "start_time": "2024-10-08T20:18:08.346Z"
   },
   {
    "duration": 160,
    "start_time": "2024-10-08T20:18:08.517Z"
   },
   {
    "duration": 4,
    "start_time": "2024-10-08T20:18:08.679Z"
   },
   {
    "duration": 4,
    "start_time": "2024-10-08T20:18:08.684Z"
   },
   {
    "duration": 267,
    "start_time": "2024-10-08T20:18:08.689Z"
   },
   {
    "duration": 31,
    "start_time": "2024-10-08T20:18:08.957Z"
   },
   {
    "duration": 145,
    "start_time": "2024-10-08T20:18:08.989Z"
   },
   {
    "duration": 35,
    "start_time": "2024-10-08T20:18:09.136Z"
   },
   {
    "duration": 13,
    "start_time": "2024-10-08T20:18:09.173Z"
   },
   {
    "duration": 9,
    "start_time": "2024-10-08T20:18:09.190Z"
   },
   {
    "duration": 29,
    "start_time": "2024-10-08T20:18:09.201Z"
   },
   {
    "duration": 45,
    "start_time": "2024-10-08T20:18:09.232Z"
   },
   {
    "duration": 45,
    "start_time": "2024-10-09T06:55:17.811Z"
   },
   {
    "duration": 6,
    "start_time": "2024-10-09T06:55:32.608Z"
   },
   {
    "duration": 1387,
    "start_time": "2024-10-09T06:55:38.265Z"
   },
   {
    "duration": 83,
    "start_time": "2024-10-09T06:55:39.654Z"
   },
   {
    "duration": 18,
    "start_time": "2024-10-09T06:55:39.738Z"
   },
   {
    "duration": 20,
    "start_time": "2024-10-09T06:55:39.758Z"
   },
   {
    "duration": 14,
    "start_time": "2024-10-09T06:55:39.784Z"
   },
   {
    "duration": 143,
    "start_time": "2024-10-09T06:55:39.799Z"
   },
   {
    "duration": 16,
    "start_time": "2024-10-09T06:55:39.943Z"
   },
   {
    "duration": 8,
    "start_time": "2024-10-09T06:55:39.960Z"
   },
   {
    "duration": 9,
    "start_time": "2024-10-09T06:55:39.970Z"
   },
   {
    "duration": 7,
    "start_time": "2024-10-09T06:55:39.989Z"
   },
   {
    "duration": 14,
    "start_time": "2024-10-09T06:55:39.998Z"
   },
   {
    "duration": 8,
    "start_time": "2024-10-09T06:55:40.013Z"
   },
   {
    "duration": 26,
    "start_time": "2024-10-09T06:55:40.022Z"
   },
   {
    "duration": 9,
    "start_time": "2024-10-09T06:55:40.049Z"
   },
   {
    "duration": 1950,
    "start_time": "2024-10-09T06:55:40.060Z"
   },
   {
    "duration": 0,
    "start_time": "2024-10-09T06:55:42.012Z"
   },
   {
    "duration": 0,
    "start_time": "2024-10-09T06:55:42.013Z"
   },
   {
    "duration": 0,
    "start_time": "2024-10-09T06:55:42.014Z"
   },
   {
    "duration": 0,
    "start_time": "2024-10-09T06:55:42.016Z"
   },
   {
    "duration": 0,
    "start_time": "2024-10-09T06:55:42.017Z"
   },
   {
    "duration": 0,
    "start_time": "2024-10-09T06:55:42.018Z"
   },
   {
    "duration": 0,
    "start_time": "2024-10-09T06:55:42.019Z"
   },
   {
    "duration": 0,
    "start_time": "2024-10-09T06:55:42.020Z"
   },
   {
    "duration": 0,
    "start_time": "2024-10-09T06:55:42.021Z"
   },
   {
    "duration": 0,
    "start_time": "2024-10-09T06:55:42.022Z"
   },
   {
    "duration": 0,
    "start_time": "2024-10-09T06:55:42.022Z"
   },
   {
    "duration": 0,
    "start_time": "2024-10-09T06:55:42.024Z"
   },
   {
    "duration": 0,
    "start_time": "2024-10-09T06:55:42.025Z"
   },
   {
    "duration": 0,
    "start_time": "2024-10-09T06:55:42.026Z"
   },
   {
    "duration": 0,
    "start_time": "2024-10-09T06:55:42.027Z"
   },
   {
    "duration": 0,
    "start_time": "2024-10-09T06:55:42.028Z"
   },
   {
    "duration": 0,
    "start_time": "2024-10-09T06:55:42.029Z"
   },
   {
    "duration": 0,
    "start_time": "2024-10-09T06:55:42.030Z"
   },
   {
    "duration": 0,
    "start_time": "2024-10-09T06:55:42.031Z"
   },
   {
    "duration": 0,
    "start_time": "2024-10-09T06:55:42.032Z"
   },
   {
    "duration": 0,
    "start_time": "2024-10-09T06:55:42.033Z"
   },
   {
    "duration": 0,
    "start_time": "2024-10-09T06:55:42.035Z"
   },
   {
    "duration": 0,
    "start_time": "2024-10-09T06:55:42.036Z"
   },
   {
    "duration": 0,
    "start_time": "2024-10-09T06:55:42.037Z"
   },
   {
    "duration": 0,
    "start_time": "2024-10-09T06:55:42.037Z"
   },
   {
    "duration": 0,
    "start_time": "2024-10-09T06:55:42.038Z"
   },
   {
    "duration": 0,
    "start_time": "2024-10-09T06:55:42.039Z"
   },
   {
    "duration": 0,
    "start_time": "2024-10-09T06:55:42.040Z"
   },
   {
    "duration": 1,
    "start_time": "2024-10-09T06:55:42.041Z"
   },
   {
    "duration": 2151,
    "start_time": "2024-10-09T06:56:28.002Z"
   },
   {
    "duration": 9,
    "start_time": "2024-10-09T06:57:25.451Z"
   },
   {
    "duration": 10,
    "start_time": "2024-10-09T07:00:07.752Z"
   },
   {
    "duration": 9,
    "start_time": "2024-10-09T07:01:43.398Z"
   },
   {
    "duration": 8,
    "start_time": "2024-10-09T07:12:03.391Z"
   },
   {
    "duration": 9,
    "start_time": "2024-10-09T07:12:29.617Z"
   },
   {
    "duration": 8,
    "start_time": "2024-10-09T07:13:35.945Z"
   },
   {
    "duration": 12,
    "start_time": "2024-10-09T07:13:58.250Z"
   },
   {
    "duration": 9,
    "start_time": "2024-10-09T07:14:18.115Z"
   },
   {
    "duration": 11,
    "start_time": "2024-10-09T07:56:23.130Z"
   },
   {
    "duration": 10,
    "start_time": "2024-10-09T07:56:33.936Z"
   },
   {
    "duration": 9,
    "start_time": "2024-10-09T07:57:52.577Z"
   },
   {
    "duration": 310,
    "start_time": "2024-10-09T08:18:52.742Z"
   },
   {
    "duration": 13,
    "start_time": "2024-10-09T08:19:24.702Z"
   },
   {
    "duration": 112,
    "start_time": "2024-10-09T08:19:42.936Z"
   },
   {
    "duration": 1223,
    "start_time": "2024-10-09T08:19:53.504Z"
   },
   {
    "duration": 28,
    "start_time": "2024-10-09T08:19:54.729Z"
   },
   {
    "duration": 19,
    "start_time": "2024-10-09T08:19:54.758Z"
   },
   {
    "duration": 12,
    "start_time": "2024-10-09T08:19:54.779Z"
   },
   {
    "duration": 12,
    "start_time": "2024-10-09T08:19:54.792Z"
   },
   {
    "duration": 65,
    "start_time": "2024-10-09T08:19:54.805Z"
   },
   {
    "duration": 15,
    "start_time": "2024-10-09T08:19:54.872Z"
   },
   {
    "duration": 28,
    "start_time": "2024-10-09T08:19:54.889Z"
   },
   {
    "duration": 6,
    "start_time": "2024-10-09T08:19:54.919Z"
   },
   {
    "duration": 6,
    "start_time": "2024-10-09T08:19:54.928Z"
   },
   {
    "duration": 16,
    "start_time": "2024-10-09T08:19:54.935Z"
   },
   {
    "duration": 10,
    "start_time": "2024-10-09T08:19:54.953Z"
   },
   {
    "duration": 6,
    "start_time": "2024-10-09T08:19:54.976Z"
   },
   {
    "duration": 17,
    "start_time": "2024-10-09T08:19:54.983Z"
   },
   {
    "duration": 91,
    "start_time": "2024-10-09T08:19:55.002Z"
   },
   {
    "duration": 0,
    "start_time": "2024-10-09T08:19:55.096Z"
   },
   {
    "duration": 0,
    "start_time": "2024-10-09T08:19:55.098Z"
   },
   {
    "duration": 0,
    "start_time": "2024-10-09T08:19:55.099Z"
   },
   {
    "duration": 0,
    "start_time": "2024-10-09T08:19:55.100Z"
   },
   {
    "duration": 0,
    "start_time": "2024-10-09T08:19:55.102Z"
   },
   {
    "duration": 0,
    "start_time": "2024-10-09T08:19:55.103Z"
   },
   {
    "duration": 0,
    "start_time": "2024-10-09T08:19:55.104Z"
   },
   {
    "duration": 0,
    "start_time": "2024-10-09T08:19:55.105Z"
   },
   {
    "duration": 0,
    "start_time": "2024-10-09T08:19:55.107Z"
   },
   {
    "duration": 0,
    "start_time": "2024-10-09T08:19:55.108Z"
   },
   {
    "duration": 0,
    "start_time": "2024-10-09T08:19:55.109Z"
   },
   {
    "duration": 0,
    "start_time": "2024-10-09T08:19:55.111Z"
   },
   {
    "duration": 0,
    "start_time": "2024-10-09T08:19:55.112Z"
   },
   {
    "duration": 0,
    "start_time": "2024-10-09T08:19:55.113Z"
   },
   {
    "duration": 0,
    "start_time": "2024-10-09T08:19:55.114Z"
   },
   {
    "duration": 0,
    "start_time": "2024-10-09T08:19:55.116Z"
   },
   {
    "duration": 0,
    "start_time": "2024-10-09T08:19:55.117Z"
   },
   {
    "duration": 0,
    "start_time": "2024-10-09T08:19:55.118Z"
   },
   {
    "duration": 0,
    "start_time": "2024-10-09T08:19:55.119Z"
   },
   {
    "duration": 0,
    "start_time": "2024-10-09T08:19:55.121Z"
   },
   {
    "duration": 0,
    "start_time": "2024-10-09T08:19:55.122Z"
   },
   {
    "duration": 0,
    "start_time": "2024-10-09T08:19:55.123Z"
   },
   {
    "duration": 0,
    "start_time": "2024-10-09T08:19:55.124Z"
   },
   {
    "duration": 0,
    "start_time": "2024-10-09T08:19:55.125Z"
   },
   {
    "duration": 0,
    "start_time": "2024-10-09T08:19:55.127Z"
   },
   {
    "duration": 0,
    "start_time": "2024-10-09T08:19:55.128Z"
   },
   {
    "duration": 0,
    "start_time": "2024-10-09T08:19:55.130Z"
   },
   {
    "duration": 0,
    "start_time": "2024-10-09T08:19:55.131Z"
   },
   {
    "duration": 0,
    "start_time": "2024-10-09T08:19:55.132Z"
   },
   {
    "duration": 0,
    "start_time": "2024-10-09T08:19:55.175Z"
   },
   {
    "duration": 0,
    "start_time": "2024-10-09T08:19:55.176Z"
   },
   {
    "duration": 0,
    "start_time": "2024-10-09T08:19:55.178Z"
   },
   {
    "duration": 0,
    "start_time": "2024-10-09T08:19:55.178Z"
   },
   {
    "duration": 92,
    "start_time": "2024-10-09T08:20:15.280Z"
   },
   {
    "duration": 119,
    "start_time": "2024-10-09T08:20:25.416Z"
   },
   {
    "duration": 9,
    "start_time": "2024-10-09T08:20:47.313Z"
   },
   {
    "duration": 97,
    "start_time": "2024-10-09T08:23:38.231Z"
   },
   {
    "duration": 94,
    "start_time": "2024-10-09T08:23:53.142Z"
   },
   {
    "duration": 87,
    "start_time": "2024-10-09T08:23:59.094Z"
   },
   {
    "duration": 1199,
    "start_time": "2024-10-09T08:24:04.638Z"
   },
   {
    "duration": 28,
    "start_time": "2024-10-09T08:24:05.839Z"
   },
   {
    "duration": 28,
    "start_time": "2024-10-09T08:24:05.869Z"
   },
   {
    "duration": 34,
    "start_time": "2024-10-09T08:24:05.899Z"
   },
   {
    "duration": 27,
    "start_time": "2024-10-09T08:24:05.935Z"
   },
   {
    "duration": 86,
    "start_time": "2024-10-09T08:24:05.963Z"
   },
   {
    "duration": 15,
    "start_time": "2024-10-09T08:24:06.050Z"
   },
   {
    "duration": 31,
    "start_time": "2024-10-09T08:24:06.067Z"
   },
   {
    "duration": 11,
    "start_time": "2024-10-09T08:24:06.101Z"
   },
   {
    "duration": 40,
    "start_time": "2024-10-09T08:24:06.116Z"
   },
   {
    "duration": 51,
    "start_time": "2024-10-09T08:24:06.158Z"
   },
   {
    "duration": 6,
    "start_time": "2024-10-09T08:24:06.211Z"
   },
   {
    "duration": 29,
    "start_time": "2024-10-09T08:24:06.219Z"
   },
   {
    "duration": 92,
    "start_time": "2024-10-09T08:24:06.250Z"
   },
   {
    "duration": 0,
    "start_time": "2024-10-09T08:24:06.345Z"
   },
   {
    "duration": 0,
    "start_time": "2024-10-09T08:24:06.346Z"
   },
   {
    "duration": 0,
    "start_time": "2024-10-09T08:24:06.347Z"
   },
   {
    "duration": 0,
    "start_time": "2024-10-09T08:24:06.348Z"
   },
   {
    "duration": 0,
    "start_time": "2024-10-09T08:24:06.349Z"
   },
   {
    "duration": 0,
    "start_time": "2024-10-09T08:24:06.350Z"
   },
   {
    "duration": 0,
    "start_time": "2024-10-09T08:24:06.351Z"
   },
   {
    "duration": 0,
    "start_time": "2024-10-09T08:24:06.352Z"
   },
   {
    "duration": 0,
    "start_time": "2024-10-09T08:24:06.353Z"
   },
   {
    "duration": 0,
    "start_time": "2024-10-09T08:24:06.354Z"
   },
   {
    "duration": 0,
    "start_time": "2024-10-09T08:24:06.355Z"
   },
   {
    "duration": 0,
    "start_time": "2024-10-09T08:24:06.356Z"
   },
   {
    "duration": 0,
    "start_time": "2024-10-09T08:24:06.357Z"
   },
   {
    "duration": 0,
    "start_time": "2024-10-09T08:24:06.358Z"
   },
   {
    "duration": 0,
    "start_time": "2024-10-09T08:24:06.359Z"
   },
   {
    "duration": 0,
    "start_time": "2024-10-09T08:24:06.360Z"
   },
   {
    "duration": 0,
    "start_time": "2024-10-09T08:24:06.361Z"
   },
   {
    "duration": 0,
    "start_time": "2024-10-09T08:24:06.363Z"
   },
   {
    "duration": 0,
    "start_time": "2024-10-09T08:24:06.364Z"
   },
   {
    "duration": 0,
    "start_time": "2024-10-09T08:24:06.365Z"
   },
   {
    "duration": 0,
    "start_time": "2024-10-09T08:24:06.366Z"
   },
   {
    "duration": 0,
    "start_time": "2024-10-09T08:24:06.367Z"
   },
   {
    "duration": 0,
    "start_time": "2024-10-09T08:24:06.369Z"
   },
   {
    "duration": 0,
    "start_time": "2024-10-09T08:24:06.370Z"
   },
   {
    "duration": 0,
    "start_time": "2024-10-09T08:24:06.371Z"
   },
   {
    "duration": 0,
    "start_time": "2024-10-09T08:24:06.372Z"
   },
   {
    "duration": 0,
    "start_time": "2024-10-09T08:24:06.373Z"
   },
   {
    "duration": 0,
    "start_time": "2024-10-09T08:24:06.374Z"
   },
   {
    "duration": 0,
    "start_time": "2024-10-09T08:24:06.375Z"
   },
   {
    "duration": 0,
    "start_time": "2024-10-09T08:24:06.376Z"
   },
   {
    "duration": 0,
    "start_time": "2024-10-09T08:24:06.376Z"
   },
   {
    "duration": 0,
    "start_time": "2024-10-09T08:24:06.378Z"
   },
   {
    "duration": 0,
    "start_time": "2024-10-09T08:24:06.379Z"
   },
   {
    "duration": 0,
    "start_time": "2024-10-09T08:24:06.381Z"
   },
   {
    "duration": 16,
    "start_time": "2024-10-09T08:24:33.849Z"
   },
   {
    "duration": 18,
    "start_time": "2024-10-09T08:25:58.169Z"
   },
   {
    "duration": 1901,
    "start_time": "2024-10-09T08:26:25.570Z"
   },
   {
    "duration": 18,
    "start_time": "2024-10-09T08:26:31.684Z"
   },
   {
    "duration": 19,
    "start_time": "2024-10-09T08:26:32.493Z"
   },
   {
    "duration": 8,
    "start_time": "2024-10-09T08:26:39.530Z"
   },
   {
    "duration": 8,
    "start_time": "2024-10-09T08:26:48.707Z"
   },
   {
    "duration": 1208,
    "start_time": "2024-10-09T08:27:06.475Z"
   },
   {
    "duration": 28,
    "start_time": "2024-10-09T08:27:07.687Z"
   },
   {
    "duration": 20,
    "start_time": "2024-10-09T08:27:07.716Z"
   },
   {
    "duration": 12,
    "start_time": "2024-10-09T08:27:07.738Z"
   },
   {
    "duration": 12,
    "start_time": "2024-10-09T08:27:07.752Z"
   },
   {
    "duration": 73,
    "start_time": "2024-10-09T08:27:07.765Z"
   },
   {
    "duration": 15,
    "start_time": "2024-10-09T08:27:07.840Z"
   },
   {
    "duration": 34,
    "start_time": "2024-10-09T08:27:07.857Z"
   },
   {
    "duration": 12,
    "start_time": "2024-10-09T08:27:07.893Z"
   },
   {
    "duration": 6,
    "start_time": "2024-10-09T08:27:07.908Z"
   },
   {
    "duration": 13,
    "start_time": "2024-10-09T08:27:07.916Z"
   },
   {
    "duration": 5,
    "start_time": "2024-10-09T08:27:07.930Z"
   },
   {
    "duration": 4,
    "start_time": "2024-10-09T08:27:07.937Z"
   },
   {
    "duration": 7,
    "start_time": "2024-10-09T08:27:07.942Z"
   },
   {
    "duration": 45,
    "start_time": "2024-10-09T08:27:07.951Z"
   },
   {
    "duration": 114,
    "start_time": "2024-10-09T08:27:07.998Z"
   },
   {
    "duration": 11,
    "start_time": "2024-10-09T08:27:08.113Z"
   },
   {
    "duration": 10,
    "start_time": "2024-10-09T08:27:08.128Z"
   },
   {
    "duration": 8,
    "start_time": "2024-10-09T08:27:08.140Z"
   },
   {
    "duration": 4,
    "start_time": "2024-10-09T08:27:08.149Z"
   },
   {
    "duration": 208,
    "start_time": "2024-10-09T08:27:08.155Z"
   },
   {
    "duration": 123,
    "start_time": "2024-10-09T08:27:08.365Z"
   },
   {
    "duration": 9,
    "start_time": "2024-10-09T08:27:08.490Z"
   },
   {
    "duration": 13,
    "start_time": "2024-10-09T08:27:08.500Z"
   },
   {
    "duration": 350,
    "start_time": "2024-10-09T08:27:08.515Z"
   },
   {
    "duration": 309,
    "start_time": "2024-10-09T08:27:08.866Z"
   },
   {
    "duration": 13,
    "start_time": "2024-10-09T08:27:09.178Z"
   },
   {
    "duration": 430,
    "start_time": "2024-10-09T08:27:09.194Z"
   },
   {
    "duration": 5,
    "start_time": "2024-10-09T08:27:09.625Z"
   },
   {
    "duration": 326,
    "start_time": "2024-10-09T08:27:09.632Z"
   },
   {
    "duration": 7,
    "start_time": "2024-10-09T08:27:09.960Z"
   },
   {
    "duration": 441,
    "start_time": "2024-10-09T08:27:09.979Z"
   },
   {
    "duration": 9,
    "start_time": "2024-10-09T08:27:10.422Z"
   },
   {
    "duration": 181,
    "start_time": "2024-10-09T08:27:10.433Z"
   },
   {
    "duration": 5,
    "start_time": "2024-10-09T08:27:10.616Z"
   },
   {
    "duration": 37,
    "start_time": "2024-10-09T08:27:10.623Z"
   },
   {
    "duration": 153,
    "start_time": "2024-10-09T08:27:10.663Z"
   },
   {
    "duration": 154,
    "start_time": "2024-10-09T08:27:10.817Z"
   },
   {
    "duration": 11,
    "start_time": "2024-10-09T08:27:10.977Z"
   },
   {
    "duration": 5,
    "start_time": "2024-10-09T08:27:10.989Z"
   },
   {
    "duration": 255,
    "start_time": "2024-10-09T08:27:10.995Z"
   },
   {
    "duration": 39,
    "start_time": "2024-10-09T08:27:11.251Z"
   },
   {
    "duration": 151,
    "start_time": "2024-10-09T08:27:11.292Z"
   },
   {
    "duration": 48,
    "start_time": "2024-10-09T08:27:11.445Z"
   },
   {
    "duration": 10,
    "start_time": "2024-10-09T08:27:11.494Z"
   },
   {
    "duration": 57,
    "start_time": "2024-10-09T08:27:11.505Z"
   },
   {
    "duration": 34,
    "start_time": "2024-10-09T08:27:11.564Z"
   },
   {
    "duration": 13,
    "start_time": "2024-10-09T08:27:11.599Z"
   },
   {
    "duration": 9,
    "start_time": "2024-10-09T08:59:36.171Z"
   },
   {
    "duration": 11,
    "start_time": "2024-10-09T09:00:06.468Z"
   },
   {
    "duration": 1345,
    "start_time": "2024-10-09T09:00:13.588Z"
   },
   {
    "duration": 28,
    "start_time": "2024-10-09T09:00:14.934Z"
   },
   {
    "duration": 17,
    "start_time": "2024-10-09T09:00:14.964Z"
   },
   {
    "duration": 78,
    "start_time": "2024-10-09T09:00:14.983Z"
   },
   {
    "duration": 43,
    "start_time": "2024-10-09T09:00:15.062Z"
   },
   {
    "duration": 66,
    "start_time": "2024-10-09T09:00:15.106Z"
   },
   {
    "duration": 15,
    "start_time": "2024-10-09T09:00:15.173Z"
   },
   {
    "duration": 34,
    "start_time": "2024-10-09T09:00:15.189Z"
   },
   {
    "duration": 14,
    "start_time": "2024-10-09T09:00:15.224Z"
   },
   {
    "duration": 93,
    "start_time": "2024-10-09T09:00:15.240Z"
   },
   {
    "duration": 36,
    "start_time": "2024-10-09T09:00:15.334Z"
   },
   {
    "duration": 22,
    "start_time": "2024-10-09T09:00:15.372Z"
   },
   {
    "duration": 21,
    "start_time": "2024-10-09T09:00:15.396Z"
   },
   {
    "duration": 21,
    "start_time": "2024-10-09T09:00:15.418Z"
   },
   {
    "duration": 20,
    "start_time": "2024-10-09T09:00:15.440Z"
   },
   {
    "duration": 110,
    "start_time": "2024-10-09T09:00:15.461Z"
   },
   {
    "duration": 9,
    "start_time": "2024-10-09T09:00:15.573Z"
   },
   {
    "duration": 56,
    "start_time": "2024-10-09T09:00:15.584Z"
   },
   {
    "duration": 8,
    "start_time": "2024-10-09T09:00:15.641Z"
   },
   {
    "duration": 26,
    "start_time": "2024-10-09T09:00:15.650Z"
   },
   {
    "duration": 159,
    "start_time": "2024-10-09T09:00:15.677Z"
   },
   {
    "duration": 119,
    "start_time": "2024-10-09T09:00:15.837Z"
   },
   {
    "duration": 8,
    "start_time": "2024-10-09T09:00:15.957Z"
   },
   {
    "duration": 6,
    "start_time": "2024-10-09T09:00:15.975Z"
   },
   {
    "duration": 327,
    "start_time": "2024-10-09T09:00:15.983Z"
   },
   {
    "duration": 312,
    "start_time": "2024-10-09T09:00:16.311Z"
   },
   {
    "duration": 6,
    "start_time": "2024-10-09T09:00:16.624Z"
   },
   {
    "duration": 418,
    "start_time": "2024-10-09T09:00:16.634Z"
   },
   {
    "duration": 7,
    "start_time": "2024-10-09T09:00:17.054Z"
   },
   {
    "duration": 323,
    "start_time": "2024-10-09T09:00:17.063Z"
   },
   {
    "duration": 7,
    "start_time": "2024-10-09T09:00:17.389Z"
   },
   {
    "duration": 406,
    "start_time": "2024-10-09T09:00:17.398Z"
   },
   {
    "duration": 10,
    "start_time": "2024-10-09T09:00:17.806Z"
   },
   {
    "duration": 178,
    "start_time": "2024-10-09T09:00:17.818Z"
   },
   {
    "duration": 4,
    "start_time": "2024-10-09T09:00:17.998Z"
   },
   {
    "duration": 9,
    "start_time": "2024-10-09T09:00:18.004Z"
   },
   {
    "duration": 170,
    "start_time": "2024-10-09T09:00:18.014Z"
   },
   {
    "duration": 178,
    "start_time": "2024-10-09T09:00:18.186Z"
   },
   {
    "duration": 4,
    "start_time": "2024-10-09T09:00:18.365Z"
   },
   {
    "duration": 4,
    "start_time": "2024-10-09T09:00:18.376Z"
   },
   {
    "duration": 268,
    "start_time": "2024-10-09T09:00:18.382Z"
   },
   {
    "duration": 30,
    "start_time": "2024-10-09T09:00:18.652Z"
   },
   {
    "duration": 124,
    "start_time": "2024-10-09T09:00:18.683Z"
   },
   {
    "duration": 28,
    "start_time": "2024-10-09T09:00:18.808Z"
   },
   {
    "duration": 9,
    "start_time": "2024-10-09T09:00:18.838Z"
   },
   {
    "duration": 27,
    "start_time": "2024-10-09T09:00:18.848Z"
   },
   {
    "duration": 27,
    "start_time": "2024-10-09T09:00:18.877Z"
   },
   {
    "duration": 12,
    "start_time": "2024-10-09T09:00:18.906Z"
   },
   {
    "duration": 16,
    "start_time": "2024-10-09T09:09:25.346Z"
   },
   {
    "duration": 1178,
    "start_time": "2024-10-09T09:12:29.954Z"
   },
   {
    "duration": 28,
    "start_time": "2024-10-09T09:12:31.134Z"
   },
   {
    "duration": 18,
    "start_time": "2024-10-09T09:12:31.163Z"
   },
   {
    "duration": 11,
    "start_time": "2024-10-09T09:12:31.183Z"
   },
   {
    "duration": 12,
    "start_time": "2024-10-09T09:12:31.195Z"
   },
   {
    "duration": 78,
    "start_time": "2024-10-09T09:12:31.208Z"
   },
   {
    "duration": 14,
    "start_time": "2024-10-09T09:12:31.288Z"
   },
   {
    "duration": 127,
    "start_time": "2024-10-09T09:12:31.304Z"
   },
   {
    "duration": 19,
    "start_time": "2024-10-09T09:12:31.432Z"
   },
   {
    "duration": 42,
    "start_time": "2024-10-09T09:12:31.453Z"
   },
   {
    "duration": 24,
    "start_time": "2024-10-09T09:12:31.496Z"
   },
   {
    "duration": 20,
    "start_time": "2024-10-09T09:12:31.521Z"
   },
   {
    "duration": 36,
    "start_time": "2024-10-09T09:12:31.542Z"
   },
   {
    "duration": 12,
    "start_time": "2024-10-09T09:12:31.579Z"
   },
   {
    "duration": 74,
    "start_time": "2024-10-09T09:12:31.593Z"
   },
   {
    "duration": 122,
    "start_time": "2024-10-09T09:12:31.669Z"
   },
   {
    "duration": 9,
    "start_time": "2024-10-09T09:12:31.793Z"
   },
   {
    "duration": 28,
    "start_time": "2024-10-09T09:12:31.804Z"
   },
   {
    "duration": 157,
    "start_time": "2024-10-09T09:12:31.834Z"
   },
   {
    "duration": 119,
    "start_time": "2024-10-09T09:12:31.993Z"
   },
   {
    "duration": 49,
    "start_time": "2024-10-09T09:12:32.113Z"
   },
   {
    "duration": 7,
    "start_time": "2024-10-09T09:12:32.164Z"
   },
   {
    "duration": 330,
    "start_time": "2024-10-09T09:12:32.172Z"
   },
   {
    "duration": 321,
    "start_time": "2024-10-09T09:12:32.504Z"
   },
   {
    "duration": 7,
    "start_time": "2024-10-09T09:12:32.828Z"
   },
   {
    "duration": 417,
    "start_time": "2024-10-09T09:12:32.838Z"
   },
   {
    "duration": 6,
    "start_time": "2024-10-09T09:12:33.256Z"
   },
   {
    "duration": 309,
    "start_time": "2024-10-09T09:12:33.265Z"
   },
   {
    "duration": 7,
    "start_time": "2024-10-09T09:12:33.575Z"
   },
   {
    "duration": 401,
    "start_time": "2024-10-09T09:12:33.583Z"
   },
   {
    "duration": 9,
    "start_time": "2024-10-09T09:12:33.986Z"
   },
   {
    "duration": 177,
    "start_time": "2024-10-09T09:12:33.996Z"
   },
   {
    "duration": 4,
    "start_time": "2024-10-09T09:12:34.174Z"
   },
   {
    "duration": 6,
    "start_time": "2024-10-09T09:12:34.180Z"
   },
   {
    "duration": 154,
    "start_time": "2024-10-09T09:12:34.188Z"
   },
   {
    "duration": 155,
    "start_time": "2024-10-09T09:12:34.344Z"
   },
   {
    "duration": 3,
    "start_time": "2024-10-09T09:12:34.501Z"
   },
   {
    "duration": 10,
    "start_time": "2024-10-09T09:12:34.506Z"
   },
   {
    "duration": 269,
    "start_time": "2024-10-09T09:12:34.518Z"
   },
   {
    "duration": 26,
    "start_time": "2024-10-09T09:12:34.788Z"
   },
   {
    "duration": 127,
    "start_time": "2024-10-09T09:12:34.815Z"
   },
   {
    "duration": 35,
    "start_time": "2024-10-09T09:12:34.944Z"
   },
   {
    "duration": 9,
    "start_time": "2024-10-09T09:12:34.980Z"
   },
   {
    "duration": 9,
    "start_time": "2024-10-09T09:12:34.991Z"
   },
   {
    "duration": 95,
    "start_time": "2024-10-09T09:12:35.002Z"
   },
   {
    "duration": 13,
    "start_time": "2024-10-09T09:12:35.099Z"
   },
   {
    "duration": 1097,
    "start_time": "2024-10-09T09:13:38.326Z"
   },
   {
    "duration": 27,
    "start_time": "2024-10-09T09:13:39.425Z"
   },
   {
    "duration": 19,
    "start_time": "2024-10-09T09:13:39.454Z"
   },
   {
    "duration": 12,
    "start_time": "2024-10-09T09:13:39.476Z"
   },
   {
    "duration": 13,
    "start_time": "2024-10-09T09:13:39.489Z"
   },
   {
    "duration": 52,
    "start_time": "2024-10-09T09:13:39.505Z"
   },
   {
    "duration": 17,
    "start_time": "2024-10-09T09:13:39.559Z"
   },
   {
    "duration": 11,
    "start_time": "2024-10-09T09:13:39.578Z"
   },
   {
    "duration": 9,
    "start_time": "2024-10-09T09:13:39.591Z"
   },
   {
    "duration": 6,
    "start_time": "2024-10-09T09:13:39.603Z"
   },
   {
    "duration": 16,
    "start_time": "2024-10-09T09:13:39.610Z"
   },
   {
    "duration": 44,
    "start_time": "2024-10-09T09:13:39.627Z"
   },
   {
    "duration": 15,
    "start_time": "2024-10-09T09:13:39.672Z"
   },
   {
    "duration": 7,
    "start_time": "2024-10-09T09:13:39.689Z"
   },
   {
    "duration": 11,
    "start_time": "2024-10-09T09:13:39.698Z"
   },
   {
    "duration": 120,
    "start_time": "2024-10-09T09:13:39.711Z"
   },
   {
    "duration": 6,
    "start_time": "2024-10-09T09:13:39.833Z"
   },
   {
    "duration": 166,
    "start_time": "2024-10-09T09:13:39.840Z"
   },
   {
    "duration": 176,
    "start_time": "2024-10-09T09:13:40.008Z"
   },
   {
    "duration": 10,
    "start_time": "2024-10-09T09:13:40.186Z"
   },
   {
    "duration": 8,
    "start_time": "2024-10-09T09:13:40.197Z"
   },
   {
    "duration": 327,
    "start_time": "2024-10-09T09:13:40.206Z"
   },
   {
    "duration": 462,
    "start_time": "2024-10-09T09:13:40.535Z"
   },
   {
    "duration": 6,
    "start_time": "2024-10-09T09:13:40.998Z"
   },
   {
    "duration": 457,
    "start_time": "2024-10-09T09:13:41.006Z"
   },
   {
    "duration": 11,
    "start_time": "2024-10-09T09:13:41.465Z"
   },
   {
    "duration": 309,
    "start_time": "2024-10-09T09:13:41.478Z"
   },
   {
    "duration": 8,
    "start_time": "2024-10-09T09:13:41.790Z"
   },
   {
    "duration": 429,
    "start_time": "2024-10-09T09:13:41.799Z"
   },
   {
    "duration": 9,
    "start_time": "2024-10-09T09:13:42.229Z"
   },
   {
    "duration": 168,
    "start_time": "2024-10-09T09:13:42.240Z"
   },
   {
    "duration": 4,
    "start_time": "2024-10-09T09:13:42.410Z"
   },
   {
    "duration": 4,
    "start_time": "2024-10-09T09:13:42.416Z"
   },
   {
    "duration": 165,
    "start_time": "2024-10-09T09:13:42.422Z"
   },
   {
    "duration": 152,
    "start_time": "2024-10-09T09:13:42.589Z"
   },
   {
    "duration": 4,
    "start_time": "2024-10-09T09:13:42.742Z"
   },
   {
    "duration": 6,
    "start_time": "2024-10-09T09:13:42.748Z"
   },
   {
    "duration": 278,
    "start_time": "2024-10-09T09:13:42.756Z"
   },
   {
    "duration": 26,
    "start_time": "2024-10-09T09:13:43.036Z"
   },
   {
    "duration": 145,
    "start_time": "2024-10-09T09:13:43.063Z"
   },
   {
    "duration": 28,
    "start_time": "2024-10-09T09:13:43.210Z"
   },
   {
    "duration": 10,
    "start_time": "2024-10-09T09:13:43.240Z"
   },
   {
    "duration": 26,
    "start_time": "2024-10-09T09:13:43.251Z"
   },
   {
    "duration": 30,
    "start_time": "2024-10-09T09:13:43.279Z"
   },
   {
    "duration": 79,
    "start_time": "2024-10-09T09:13:43.310Z"
   },
   {
    "duration": 11,
    "start_time": "2024-10-09T09:14:41.731Z"
   },
   {
    "duration": 29,
    "start_time": "2024-10-09T09:21:30.266Z"
   },
   {
    "duration": 27,
    "start_time": "2024-10-09T09:21:53.376Z"
   },
   {
    "duration": 28,
    "start_time": "2024-10-09T09:23:10.427Z"
   },
   {
    "duration": 1114,
    "start_time": "2024-10-09T09:23:53.212Z"
   },
   {
    "duration": 28,
    "start_time": "2024-10-09T09:23:54.328Z"
   },
   {
    "duration": 21,
    "start_time": "2024-10-09T09:23:54.357Z"
   },
   {
    "duration": 12,
    "start_time": "2024-10-09T09:23:54.381Z"
   },
   {
    "duration": 13,
    "start_time": "2024-10-09T09:23:54.394Z"
   },
   {
    "duration": 61,
    "start_time": "2024-10-09T09:23:54.408Z"
   },
   {
    "duration": 16,
    "start_time": "2024-10-09T09:23:54.471Z"
   },
   {
    "duration": 10,
    "start_time": "2024-10-09T09:23:54.489Z"
   },
   {
    "duration": 12,
    "start_time": "2024-10-09T09:23:54.501Z"
   },
   {
    "duration": 21,
    "start_time": "2024-10-09T09:23:54.516Z"
   },
   {
    "duration": 14,
    "start_time": "2024-10-09T09:23:54.539Z"
   },
   {
    "duration": 5,
    "start_time": "2024-10-09T09:23:54.554Z"
   },
   {
    "duration": 5,
    "start_time": "2024-10-09T09:23:54.576Z"
   },
   {
    "duration": 8,
    "start_time": "2024-10-09T09:23:54.582Z"
   },
   {
    "duration": 11,
    "start_time": "2024-10-09T09:23:54.592Z"
   },
   {
    "duration": 125,
    "start_time": "2024-10-09T09:23:54.604Z"
   },
   {
    "duration": 5,
    "start_time": "2024-10-09T09:23:54.730Z"
   },
   {
    "duration": 155,
    "start_time": "2024-10-09T09:23:54.736Z"
   },
   {
    "duration": 117,
    "start_time": "2024-10-09T09:23:54.893Z"
   },
   {
    "duration": 12,
    "start_time": "2024-10-09T09:23:55.011Z"
   },
   {
    "duration": 5,
    "start_time": "2024-10-09T09:23:55.024Z"
   },
   {
    "duration": 321,
    "start_time": "2024-10-09T09:23:55.031Z"
   },
   {
    "duration": 301,
    "start_time": "2024-10-09T09:23:55.354Z"
   },
   {
    "duration": 5,
    "start_time": "2024-10-09T09:23:55.656Z"
   },
   {
    "duration": 395,
    "start_time": "2024-10-09T09:23:55.663Z"
   },
   {
    "duration": 5,
    "start_time": "2024-10-09T09:23:56.059Z"
   },
   {
    "duration": 322,
    "start_time": "2024-10-09T09:23:56.066Z"
   },
   {
    "duration": 7,
    "start_time": "2024-10-09T09:23:56.392Z"
   },
   {
    "duration": 394,
    "start_time": "2024-10-09T09:23:56.401Z"
   },
   {
    "duration": 9,
    "start_time": "2024-10-09T09:23:56.796Z"
   },
   {
    "duration": 166,
    "start_time": "2024-10-09T09:23:56.806Z"
   },
   {
    "duration": 4,
    "start_time": "2024-10-09T09:23:56.975Z"
   },
   {
    "duration": 155,
    "start_time": "2024-10-09T09:23:56.980Z"
   },
   {
    "duration": 146,
    "start_time": "2024-10-09T09:23:57.137Z"
   },
   {
    "duration": 4,
    "start_time": "2024-10-09T09:23:57.284Z"
   },
   {
    "duration": 6,
    "start_time": "2024-10-09T09:23:57.289Z"
   },
   {
    "duration": 258,
    "start_time": "2024-10-09T09:23:57.296Z"
   },
   {
    "duration": 35,
    "start_time": "2024-10-09T09:23:57.555Z"
   },
   {
    "duration": 143,
    "start_time": "2024-10-09T09:23:57.591Z"
   },
   {
    "duration": 27,
    "start_time": "2024-10-09T09:23:57.736Z"
   },
   {
    "duration": 17,
    "start_time": "2024-10-09T09:23:57.764Z"
   },
   {
    "duration": 8,
    "start_time": "2024-10-09T09:23:57.783Z"
   },
   {
    "duration": 29,
    "start_time": "2024-10-09T09:23:57.792Z"
   },
   {
    "duration": 12,
    "start_time": "2024-10-09T09:23:57.823Z"
   },
   {
    "duration": 8,
    "start_time": "2024-10-09T09:28:33.253Z"
   },
   {
    "duration": 1244,
    "start_time": "2024-10-09T09:28:48.732Z"
   },
   {
    "duration": 29,
    "start_time": "2024-10-09T09:28:49.977Z"
   },
   {
    "duration": 19,
    "start_time": "2024-10-09T09:28:50.007Z"
   },
   {
    "duration": 22,
    "start_time": "2024-10-09T09:28:50.028Z"
   },
   {
    "duration": 11,
    "start_time": "2024-10-09T09:28:50.051Z"
   },
   {
    "duration": 59,
    "start_time": "2024-10-09T09:28:50.064Z"
   },
   {
    "duration": 15,
    "start_time": "2024-10-09T09:28:50.125Z"
   },
   {
    "duration": 9,
    "start_time": "2024-10-09T09:28:50.141Z"
   },
   {
    "duration": 8,
    "start_time": "2024-10-09T09:28:50.152Z"
   },
   {
    "duration": 10,
    "start_time": "2024-10-09T09:28:50.163Z"
   },
   {
    "duration": 15,
    "start_time": "2024-10-09T09:28:50.174Z"
   },
   {
    "duration": 5,
    "start_time": "2024-10-09T09:28:50.191Z"
   },
   {
    "duration": 5,
    "start_time": "2024-10-09T09:28:50.197Z"
   },
   {
    "duration": 8,
    "start_time": "2024-10-09T09:28:50.204Z"
   },
   {
    "duration": 15,
    "start_time": "2024-10-09T09:28:50.213Z"
   },
   {
    "duration": 137,
    "start_time": "2024-10-09T09:28:50.230Z"
   },
   {
    "duration": 10,
    "start_time": "2024-10-09T09:28:50.368Z"
   },
   {
    "duration": 158,
    "start_time": "2024-10-09T09:28:50.379Z"
   },
   {
    "duration": 140,
    "start_time": "2024-10-09T09:28:50.538Z"
   },
   {
    "duration": 12,
    "start_time": "2024-10-09T09:28:50.679Z"
   },
   {
    "duration": 18,
    "start_time": "2024-10-09T09:28:50.693Z"
   },
   {
    "duration": 335,
    "start_time": "2024-10-09T09:28:50.712Z"
   },
   {
    "duration": 305,
    "start_time": "2024-10-09T09:28:51.049Z"
   },
   {
    "duration": 5,
    "start_time": "2024-10-09T09:28:51.356Z"
   },
   {
    "duration": 493,
    "start_time": "2024-10-09T09:28:51.363Z"
   },
   {
    "duration": 5,
    "start_time": "2024-10-09T09:28:51.857Z"
   },
   {
    "duration": 316,
    "start_time": "2024-10-09T09:28:51.863Z"
   },
   {
    "duration": 7,
    "start_time": "2024-10-09T09:28:52.182Z"
   },
   {
    "duration": 414,
    "start_time": "2024-10-09T09:28:52.190Z"
   },
   {
    "duration": 9,
    "start_time": "2024-10-09T09:28:52.605Z"
   },
   {
    "duration": 172,
    "start_time": "2024-10-09T09:28:52.616Z"
   },
   {
    "duration": 5,
    "start_time": "2024-10-09T09:28:52.789Z"
   },
   {
    "duration": 162,
    "start_time": "2024-10-09T09:28:52.796Z"
   },
   {
    "duration": 153,
    "start_time": "2024-10-09T09:28:52.960Z"
   },
   {
    "duration": 5,
    "start_time": "2024-10-09T09:28:53.114Z"
   },
   {
    "duration": 7,
    "start_time": "2024-10-09T09:28:53.120Z"
   },
   {
    "duration": 277,
    "start_time": "2024-10-09T09:28:53.128Z"
   },
   {
    "duration": 27,
    "start_time": "2024-10-09T09:28:53.406Z"
   },
   {
    "duration": 142,
    "start_time": "2024-10-09T09:28:53.435Z"
   },
   {
    "duration": 26,
    "start_time": "2024-10-09T09:28:53.578Z"
   },
   {
    "duration": 8,
    "start_time": "2024-10-09T09:28:53.606Z"
   },
   {
    "duration": 9,
    "start_time": "2024-10-09T09:28:53.615Z"
   },
   {
    "duration": 53,
    "start_time": "2024-10-09T09:28:53.625Z"
   },
   {
    "duration": 13,
    "start_time": "2024-10-09T09:28:53.679Z"
   },
   {
    "duration": 10,
    "start_time": "2024-10-09T09:33:54.997Z"
   },
   {
    "duration": 8,
    "start_time": "2024-10-09T09:34:17.613Z"
   },
   {
    "duration": 8,
    "start_time": "2024-10-09T09:34:20.231Z"
   },
   {
    "duration": 8,
    "start_time": "2024-10-09T09:34:25.956Z"
   },
   {
    "duration": 8,
    "start_time": "2024-10-09T09:34:32.254Z"
   },
   {
    "duration": 7,
    "start_time": "2024-10-09T09:35:20.994Z"
   },
   {
    "duration": 114,
    "start_time": "2024-10-09T09:42:45.757Z"
   },
   {
    "duration": 91,
    "start_time": "2024-10-09T09:42:50.890Z"
   },
   {
    "duration": 1550,
    "start_time": "2024-10-09T09:42:54.467Z"
   },
   {
    "duration": 4,
    "start_time": "2024-10-09T09:43:10.435Z"
   },
   {
    "duration": 5,
    "start_time": "2024-10-09T09:43:19.170Z"
   },
   {
    "duration": 9,
    "start_time": "2024-10-09T09:45:48.951Z"
   },
   {
    "duration": 4,
    "start_time": "2024-10-09T09:45:52.095Z"
   },
   {
    "duration": 10,
    "start_time": "2024-10-09T09:52:54.981Z"
   },
   {
    "duration": 35,
    "start_time": "2024-10-09T09:53:27.884Z"
   },
   {
    "duration": 12,
    "start_time": "2024-10-09T09:54:57.608Z"
   },
   {
    "duration": 13,
    "start_time": "2024-10-09T09:55:18.343Z"
   },
   {
    "duration": 1174,
    "start_time": "2024-10-09T09:58:06.148Z"
   },
   {
    "duration": 28,
    "start_time": "2024-10-09T09:58:07.323Z"
   },
   {
    "duration": 19,
    "start_time": "2024-10-09T09:58:07.353Z"
   },
   {
    "duration": 14,
    "start_time": "2024-10-09T09:58:07.373Z"
   },
   {
    "duration": 12,
    "start_time": "2024-10-09T09:58:07.389Z"
   },
   {
    "duration": 53,
    "start_time": "2024-10-09T09:58:07.402Z"
   },
   {
    "duration": 17,
    "start_time": "2024-10-09T09:58:07.457Z"
   },
   {
    "duration": 56,
    "start_time": "2024-10-09T09:58:07.475Z"
   },
   {
    "duration": 69,
    "start_time": "2024-10-09T09:58:07.533Z"
   },
   {
    "duration": 20,
    "start_time": "2024-10-09T09:58:07.605Z"
   },
   {
    "duration": 13,
    "start_time": "2024-10-09T09:58:07.627Z"
   },
   {
    "duration": 32,
    "start_time": "2024-10-09T09:58:07.642Z"
   },
   {
    "duration": 4,
    "start_time": "2024-10-09T09:58:07.675Z"
   },
   {
    "duration": 17,
    "start_time": "2024-10-09T09:58:07.681Z"
   },
   {
    "duration": 23,
    "start_time": "2024-10-09T09:58:07.699Z"
   },
   {
    "duration": 159,
    "start_time": "2024-10-09T09:58:07.724Z"
   },
   {
    "duration": 5,
    "start_time": "2024-10-09T09:58:07.884Z"
   },
   {
    "duration": 162,
    "start_time": "2024-10-09T09:58:07.891Z"
   },
   {
    "duration": 114,
    "start_time": "2024-10-09T09:58:08.055Z"
   },
   {
    "duration": 18,
    "start_time": "2024-10-09T09:58:08.171Z"
   },
   {
    "duration": 9,
    "start_time": "2024-10-09T09:58:08.191Z"
   },
   {
    "duration": 348,
    "start_time": "2024-10-09T09:58:08.202Z"
   },
   {
    "duration": 305,
    "start_time": "2024-10-09T09:58:08.552Z"
   },
   {
    "duration": 5,
    "start_time": "2024-10-09T09:58:08.859Z"
   },
   {
    "duration": 398,
    "start_time": "2024-10-09T09:58:08.866Z"
   },
   {
    "duration": 17,
    "start_time": "2024-10-09T09:58:09.266Z"
   },
   {
    "duration": 313,
    "start_time": "2024-10-09T09:58:09.285Z"
   },
   {
    "duration": 6,
    "start_time": "2024-10-09T09:58:09.601Z"
   },
   {
    "duration": 393,
    "start_time": "2024-10-09T09:58:09.609Z"
   },
   {
    "duration": 9,
    "start_time": "2024-10-09T09:58:10.004Z"
   },
   {
    "duration": 166,
    "start_time": "2024-10-09T09:58:10.014Z"
   },
   {
    "duration": 4,
    "start_time": "2024-10-09T09:58:10.181Z"
   },
   {
    "duration": 164,
    "start_time": "2024-10-09T09:58:10.187Z"
   },
   {
    "duration": 154,
    "start_time": "2024-10-09T09:58:10.353Z"
   },
   {
    "duration": 5,
    "start_time": "2024-10-09T09:58:10.508Z"
   },
   {
    "duration": 5,
    "start_time": "2024-10-09T09:58:10.514Z"
   },
   {
    "duration": 288,
    "start_time": "2024-10-09T09:58:10.521Z"
   },
   {
    "duration": 26,
    "start_time": "2024-10-09T09:58:10.811Z"
   },
   {
    "duration": 140,
    "start_time": "2024-10-09T09:58:10.839Z"
   },
   {
    "duration": 29,
    "start_time": "2024-10-09T09:58:10.981Z"
   },
   {
    "duration": 11,
    "start_time": "2024-10-09T09:58:11.012Z"
   },
   {
    "duration": 9,
    "start_time": "2024-10-09T09:58:11.024Z"
   },
   {
    "duration": 59,
    "start_time": "2024-10-09T09:58:11.035Z"
   },
   {
    "duration": 13,
    "start_time": "2024-10-09T09:58:11.096Z"
   },
   {
    "duration": 1190,
    "start_time": "2024-10-09T10:13:28.876Z"
   },
   {
    "duration": 27,
    "start_time": "2024-10-09T10:13:30.068Z"
   },
   {
    "duration": 19,
    "start_time": "2024-10-09T10:13:30.097Z"
   },
   {
    "duration": 20,
    "start_time": "2024-10-09T10:13:30.118Z"
   },
   {
    "duration": 16,
    "start_time": "2024-10-09T10:13:30.139Z"
   },
   {
    "duration": 119,
    "start_time": "2024-10-09T10:13:30.157Z"
   },
   {
    "duration": 15,
    "start_time": "2024-10-09T10:13:30.278Z"
   },
   {
    "duration": 16,
    "start_time": "2024-10-09T10:13:30.295Z"
   },
   {
    "duration": 40,
    "start_time": "2024-10-09T10:13:30.313Z"
   },
   {
    "duration": 17,
    "start_time": "2024-10-09T10:13:30.355Z"
   },
   {
    "duration": 27,
    "start_time": "2024-10-09T10:13:30.374Z"
   },
   {
    "duration": 30,
    "start_time": "2024-10-09T10:13:30.403Z"
   },
   {
    "duration": 22,
    "start_time": "2024-10-09T10:13:30.434Z"
   },
   {
    "duration": 24,
    "start_time": "2024-10-09T10:13:30.457Z"
   },
   {
    "duration": 19,
    "start_time": "2024-10-09T10:13:30.482Z"
   },
   {
    "duration": 115,
    "start_time": "2024-10-09T10:13:30.502Z"
   },
   {
    "duration": 5,
    "start_time": "2024-10-09T10:13:30.618Z"
   },
   {
    "duration": 175,
    "start_time": "2024-10-09T10:13:30.625Z"
   },
   {
    "duration": 118,
    "start_time": "2024-10-09T10:13:30.801Z"
   },
   {
    "duration": 12,
    "start_time": "2024-10-09T10:13:30.921Z"
   },
   {
    "duration": 14,
    "start_time": "2024-10-09T10:13:30.934Z"
   },
   {
    "duration": 312,
    "start_time": "2024-10-09T10:13:30.949Z"
   },
   {
    "duration": 306,
    "start_time": "2024-10-09T10:13:31.263Z"
   },
   {
    "duration": 8,
    "start_time": "2024-10-09T10:13:31.570Z"
   },
   {
    "duration": 396,
    "start_time": "2024-10-09T10:13:31.579Z"
   },
   {
    "duration": 5,
    "start_time": "2024-10-09T10:13:31.977Z"
   },
   {
    "duration": 307,
    "start_time": "2024-10-09T10:13:31.983Z"
   },
   {
    "duration": 7,
    "start_time": "2024-10-09T10:13:32.293Z"
   },
   {
    "duration": 405,
    "start_time": "2024-10-09T10:13:32.302Z"
   },
   {
    "duration": 10,
    "start_time": "2024-10-09T10:13:32.708Z"
   },
   {
    "duration": 170,
    "start_time": "2024-10-09T10:13:32.719Z"
   },
   {
    "duration": 4,
    "start_time": "2024-10-09T10:13:32.891Z"
   },
   {
    "duration": 157,
    "start_time": "2024-10-09T10:13:32.897Z"
   },
   {
    "duration": 146,
    "start_time": "2024-10-09T10:13:33.055Z"
   },
   {
    "duration": 4,
    "start_time": "2024-10-09T10:13:33.203Z"
   },
   {
    "duration": 9,
    "start_time": "2024-10-09T10:13:33.208Z"
   },
   {
    "duration": 272,
    "start_time": "2024-10-09T10:13:33.219Z"
   },
   {
    "duration": 26,
    "start_time": "2024-10-09T10:13:33.492Z"
   },
   {
    "duration": 175,
    "start_time": "2024-10-09T10:13:33.519Z"
   },
   {
    "duration": 29,
    "start_time": "2024-10-09T10:13:33.696Z"
   },
   {
    "duration": 9,
    "start_time": "2024-10-09T10:13:33.727Z"
   },
   {
    "duration": 9,
    "start_time": "2024-10-09T10:13:33.737Z"
   },
   {
    "duration": 88,
    "start_time": "2024-10-09T10:13:33.748Z"
   },
   {
    "duration": 12,
    "start_time": "2024-10-09T10:13:33.837Z"
   },
   {
    "duration": 120,
    "start_time": "2024-10-09T10:16:34.515Z"
   },
   {
    "duration": 109,
    "start_time": "2024-10-09T10:16:40.234Z"
   },
   {
    "duration": 1117,
    "start_time": "2024-10-09T10:16:56.096Z"
   },
   {
    "duration": 28,
    "start_time": "2024-10-09T10:16:57.214Z"
   },
   {
    "duration": 18,
    "start_time": "2024-10-09T10:16:57.244Z"
   },
   {
    "duration": 51,
    "start_time": "2024-10-09T10:16:57.264Z"
   },
   {
    "duration": 12,
    "start_time": "2024-10-09T10:16:57.317Z"
   },
   {
    "duration": 55,
    "start_time": "2024-10-09T10:16:57.331Z"
   },
   {
    "duration": 13,
    "start_time": "2024-10-09T10:16:57.388Z"
   },
   {
    "duration": 16,
    "start_time": "2024-10-09T10:16:57.402Z"
   },
   {
    "duration": 7,
    "start_time": "2024-10-09T10:16:57.419Z"
   },
   {
    "duration": 6,
    "start_time": "2024-10-09T10:16:57.428Z"
   },
   {
    "duration": 13,
    "start_time": "2024-10-09T10:16:57.435Z"
   },
   {
    "duration": 5,
    "start_time": "2024-10-09T10:16:57.449Z"
   },
   {
    "duration": 6,
    "start_time": "2024-10-09T10:16:57.455Z"
   },
   {
    "duration": 8,
    "start_time": "2024-10-09T10:16:57.475Z"
   },
   {
    "duration": 11,
    "start_time": "2024-10-09T10:16:57.484Z"
   },
   {
    "duration": 115,
    "start_time": "2024-10-09T10:16:57.496Z"
   },
   {
    "duration": 4,
    "start_time": "2024-10-09T10:16:57.613Z"
   },
   {
    "duration": 216,
    "start_time": "2024-10-09T10:16:57.619Z"
   },
   {
    "duration": 116,
    "start_time": "2024-10-09T10:16:57.836Z"
   },
   {
    "duration": 24,
    "start_time": "2024-10-09T10:16:57.953Z"
   },
   {
    "duration": 7,
    "start_time": "2024-10-09T10:16:57.978Z"
   },
   {
    "duration": 351,
    "start_time": "2024-10-09T10:16:57.986Z"
   },
   {
    "duration": 309,
    "start_time": "2024-10-09T10:16:58.339Z"
   },
   {
    "duration": 6,
    "start_time": "2024-10-09T10:16:58.649Z"
   },
   {
    "duration": 401,
    "start_time": "2024-10-09T10:16:58.656Z"
   },
   {
    "duration": 5,
    "start_time": "2024-10-09T10:16:59.058Z"
   },
   {
    "duration": 326,
    "start_time": "2024-10-09T10:16:59.064Z"
   },
   {
    "duration": 7,
    "start_time": "2024-10-09T10:16:59.393Z"
   },
   {
    "duration": 409,
    "start_time": "2024-10-09T10:16:59.401Z"
   },
   {
    "duration": 9,
    "start_time": "2024-10-09T10:16:59.812Z"
   },
   {
    "duration": 161,
    "start_time": "2024-10-09T10:16:59.822Z"
   },
   {
    "duration": 5,
    "start_time": "2024-10-09T10:16:59.984Z"
   },
   {
    "duration": 166,
    "start_time": "2024-10-09T10:16:59.990Z"
   },
   {
    "duration": 172,
    "start_time": "2024-10-09T10:17:00.157Z"
   },
   {
    "duration": 4,
    "start_time": "2024-10-09T10:17:00.330Z"
   },
   {
    "duration": 24,
    "start_time": "2024-10-09T10:17:00.336Z"
   },
   {
    "duration": 270,
    "start_time": "2024-10-09T10:17:00.362Z"
   },
   {
    "duration": 43,
    "start_time": "2024-10-09T10:17:00.634Z"
   },
   {
    "duration": 126,
    "start_time": "2024-10-09T10:17:00.679Z"
   },
   {
    "duration": 28,
    "start_time": "2024-10-09T10:17:00.807Z"
   },
   {
    "duration": 10,
    "start_time": "2024-10-09T10:17:00.836Z"
   },
   {
    "duration": 54,
    "start_time": "2024-10-09T10:17:00.848Z"
   },
   {
    "duration": 37,
    "start_time": "2024-10-09T10:17:00.904Z"
   },
   {
    "duration": 13,
    "start_time": "2024-10-09T10:17:00.942Z"
   },
   {
    "duration": 1155,
    "start_time": "2024-10-09T14:58:02.235Z"
   },
   {
    "duration": 33,
    "start_time": "2024-10-09T14:58:03.392Z"
   },
   {
    "duration": 48,
    "start_time": "2024-10-09T14:58:03.427Z"
   },
   {
    "duration": 12,
    "start_time": "2024-10-09T14:58:03.477Z"
   },
   {
    "duration": 12,
    "start_time": "2024-10-09T14:58:03.491Z"
   },
   {
    "duration": 76,
    "start_time": "2024-10-09T14:58:03.505Z"
   },
   {
    "duration": 14,
    "start_time": "2024-10-09T14:58:03.582Z"
   },
   {
    "duration": 46,
    "start_time": "2024-10-09T14:58:03.598Z"
   },
   {
    "duration": 21,
    "start_time": "2024-10-09T14:58:03.645Z"
   },
   {
    "duration": 21,
    "start_time": "2024-10-09T14:58:03.668Z"
   },
   {
    "duration": 19,
    "start_time": "2024-10-09T14:58:03.691Z"
   },
   {
    "duration": 86,
    "start_time": "2024-10-09T14:58:03.712Z"
   },
   {
    "duration": 11,
    "start_time": "2024-10-09T14:58:03.800Z"
   },
   {
    "duration": 42,
    "start_time": "2024-10-09T14:58:03.812Z"
   },
   {
    "duration": 28,
    "start_time": "2024-10-09T14:58:03.856Z"
   },
   {
    "duration": 183,
    "start_time": "2024-10-09T14:58:03.885Z"
   },
   {
    "duration": 5,
    "start_time": "2024-10-09T14:58:04.122Z"
   },
   {
    "duration": 397,
    "start_time": "2024-10-09T14:58:04.128Z"
   },
   {
    "duration": 228,
    "start_time": "2024-10-09T14:58:04.526Z"
   },
   {
    "duration": 66,
    "start_time": "2024-10-09T14:58:04.756Z"
   },
   {
    "duration": 19,
    "start_time": "2024-10-09T14:58:04.824Z"
   },
   {
    "duration": 490,
    "start_time": "2024-10-09T14:58:04.845Z"
   },
   {
    "duration": 335,
    "start_time": "2024-10-09T14:58:05.337Z"
   },
   {
    "duration": 6,
    "start_time": "2024-10-09T14:58:05.674Z"
   },
   {
    "duration": 420,
    "start_time": "2024-10-09T14:58:05.682Z"
   },
   {
    "duration": 5,
    "start_time": "2024-10-09T14:58:06.104Z"
   },
   {
    "duration": 360,
    "start_time": "2024-10-09T14:58:06.111Z"
   },
   {
    "duration": 8,
    "start_time": "2024-10-09T14:58:06.474Z"
   },
   {
    "duration": 414,
    "start_time": "2024-10-09T14:58:06.484Z"
   },
   {
    "duration": 9,
    "start_time": "2024-10-09T14:58:06.900Z"
   },
   {
    "duration": 182,
    "start_time": "2024-10-09T14:58:06.910Z"
   },
   {
    "duration": 5,
    "start_time": "2024-10-09T14:58:07.094Z"
   },
   {
    "duration": 173,
    "start_time": "2024-10-09T14:58:07.100Z"
   },
   {
    "duration": 175,
    "start_time": "2024-10-09T14:58:07.275Z"
   },
   {
    "duration": 4,
    "start_time": "2024-10-09T14:58:07.452Z"
   },
   {
    "duration": 5,
    "start_time": "2024-10-09T14:58:07.457Z"
   },
   {
    "duration": 292,
    "start_time": "2024-10-09T14:58:07.464Z"
   },
   {
    "duration": 27,
    "start_time": "2024-10-09T14:58:07.757Z"
   },
   {
    "duration": 135,
    "start_time": "2024-10-09T14:58:07.786Z"
   },
   {
    "duration": 30,
    "start_time": "2024-10-09T14:58:07.923Z"
   },
   {
    "duration": 10,
    "start_time": "2024-10-09T14:58:07.955Z"
   },
   {
    "duration": 86,
    "start_time": "2024-10-09T14:58:07.967Z"
   },
   {
    "duration": 33,
    "start_time": "2024-10-09T14:58:08.055Z"
   },
   {
    "duration": 19,
    "start_time": "2024-10-09T14:58:08.090Z"
   }
  ],
  "kernelspec": {
   "display_name": "Python 3 (ipykernel)",
   "language": "python",
   "name": "python3"
  },
  "language_info": {
   "codemirror_mode": {
    "name": "ipython",
    "version": 3
   },
   "file_extension": ".py",
   "mimetype": "text/x-python",
   "name": "python",
   "nbconvert_exporter": "python",
   "pygments_lexer": "ipython3",
   "version": "3.9.5"
  },
  "toc": {
   "base_numbering": 1,
   "nav_menu": {},
   "number_sections": true,
   "sideBar": true,
   "skip_h1_title": true,
   "title_cell": "Table of Contents",
   "title_sidebar": "Contents",
   "toc_cell": false,
   "toc_position": {
    "height": "calc(100% - 180px)",
    "left": "10px",
    "top": "150px",
    "width": "165px"
   },
   "toc_section_display": true,
   "toc_window_display": true
  }
 },
 "nbformat": 4,
 "nbformat_minor": 2
}
