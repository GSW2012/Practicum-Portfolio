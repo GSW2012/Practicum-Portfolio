{
 "cells": [
  {
   "cell_type": "markdown",
   "id": "e07cfb36",
   "metadata": {},
   "source": [
    "# Исследование сервиса аренды самокатов GoFast\n",
    "Заказчик этого исследования — сервиса аренды самокатов GoFast. \n",
    "\n",
    "Нам передали данные о некоторых пользователях из нескольких городов, а также об их поездках. Необходимо проанализировать данные и проверить некоторые гипотезы, которые могут помочь бизнесу вырасти.\n",
    "\n",
    "Чтобы совершать поездки по городу, пользователи сервиса GoFast пользуются мобильным приложением. Сервисом можно пользоваться без подписки и с подпиской Ultra\n",
    "\n",
    "**Цель исследования** - проанализировать данные о использовании сервиса пользователями без подписки и с подпиской Ultra\n",
    "\n",
    "**Ход исследования**\n",
    "Данные получим из трех датафреймов. Перед тем, как проводить анализ, проведем их предобработку, проверим их на предмет наличия дубликатов и пропусков.\n",
    "\n",
    "Далее опишем и визуализируем общую информацию о пользователях и поездках, после чего объеденим данные в один датафрейм. \n",
    "\n",
    "Создадим датафрейм с агрегированными данными о поездках на основе датафрейма с объединёнными данными и посчитаем помесячную выручку, которую принёс каждый пользователь.\n",
    "\n",
    "Проверим гипотезы, на основании которых будут проводиться акции для увеличения количетсва пользователей с подпиской.\n",
    "\n",
    "Таким образом, исследование пройдет в 5 этапов:\n",
    "\n",
    "- обзор данных\n",
    "- предобработка данных\n",
    "- визуализация общей информации о пользователей\n",
    "- подсчет помесячной выручки\n",
    "- проверка гипотез"
   ]
  },
  {
   "cell_type": "code",
   "execution_count": 1,
   "id": "72576667",
   "metadata": {},
   "outputs": [],
   "source": [
    "import pandas as pd\n",
    "import matplotlib.pyplot as plt\n",
    "import seaborn as sns\n",
    "import plotly.express as px\n",
    "import numpy as np\n",
    "from scipy import stats as st"
   ]
  },
  {
   "cell_type": "markdown",
   "id": "c42cbe00",
   "metadata": {},
   "source": [
    "#### Шаг 1. Загрузка данных"
   ]
  },
  {
   "cell_type": "code",
   "execution_count": 2,
   "id": "eff9f206",
   "metadata": {},
   "outputs": [],
   "source": [
    "#считываем csv-файлы\n",
    "users_go = pd.read_csv('/datasets/users_go.csv')\n",
    "rides_go = pd.read_csv('/datasets/rides_go.csv')\n",
    "subscriptions_go = pd.read_csv('/datasets/subscriptions_go.csv')"
   ]
  },
  {
   "cell_type": "code",
   "execution_count": 3,
   "id": "bf1e0959",
   "metadata": {},
   "outputs": [
    {
     "name": "stdout",
     "output_type": "stream",
     "text": [
      "<class 'pandas.core.frame.DataFrame'>\n",
      "RangeIndex: 1565 entries, 0 to 1564\n",
      "Data columns (total 5 columns):\n",
      " #   Column             Non-Null Count  Dtype \n",
      "---  ------             --------------  ----- \n",
      " 0   user_id            1565 non-null   int64 \n",
      " 1   name               1565 non-null   object\n",
      " 2   age                1565 non-null   int64 \n",
      " 3   city               1565 non-null   object\n",
      " 4   subscription_type  1565 non-null   object\n",
      "dtypes: int64(2), object(3)\n",
      "memory usage: 61.3+ KB\n"
     ]
    },
    {
     "data": {
      "text/html": [
       "<div>\n",
       "<style scoped>\n",
       "    .dataframe tbody tr th:only-of-type {\n",
       "        vertical-align: middle;\n",
       "    }\n",
       "\n",
       "    .dataframe tbody tr th {\n",
       "        vertical-align: top;\n",
       "    }\n",
       "\n",
       "    .dataframe thead th {\n",
       "        text-align: right;\n",
       "    }\n",
       "</style>\n",
       "<table border=\"1\" class=\"dataframe\">\n",
       "  <thead>\n",
       "    <tr style=\"text-align: right;\">\n",
       "      <th></th>\n",
       "      <th>user_id</th>\n",
       "      <th>name</th>\n",
       "      <th>age</th>\n",
       "      <th>city</th>\n",
       "      <th>subscription_type</th>\n",
       "    </tr>\n",
       "  </thead>\n",
       "  <tbody>\n",
       "    <tr>\n",
       "      <th>0</th>\n",
       "      <td>1</td>\n",
       "      <td>Кира</td>\n",
       "      <td>22</td>\n",
       "      <td>Тюмень</td>\n",
       "      <td>ultra</td>\n",
       "    </tr>\n",
       "    <tr>\n",
       "      <th>1</th>\n",
       "      <td>2</td>\n",
       "      <td>Станислав</td>\n",
       "      <td>31</td>\n",
       "      <td>Омск</td>\n",
       "      <td>ultra</td>\n",
       "    </tr>\n",
       "    <tr>\n",
       "      <th>2</th>\n",
       "      <td>3</td>\n",
       "      <td>Алексей</td>\n",
       "      <td>20</td>\n",
       "      <td>Москва</td>\n",
       "      <td>ultra</td>\n",
       "    </tr>\n",
       "    <tr>\n",
       "      <th>3</th>\n",
       "      <td>4</td>\n",
       "      <td>Константин</td>\n",
       "      <td>26</td>\n",
       "      <td>Ростов-на-Дону</td>\n",
       "      <td>ultra</td>\n",
       "    </tr>\n",
       "    <tr>\n",
       "      <th>4</th>\n",
       "      <td>5</td>\n",
       "      <td>Адель</td>\n",
       "      <td>28</td>\n",
       "      <td>Омск</td>\n",
       "      <td>ultra</td>\n",
       "    </tr>\n",
       "  </tbody>\n",
       "</table>\n",
       "</div>"
      ],
      "text/plain": [
       "   user_id        name  age            city subscription_type\n",
       "0        1        Кира   22          Тюмень             ultra\n",
       "1        2   Станислав   31            Омск             ultra\n",
       "2        3     Алексей   20          Москва             ultra\n",
       "3        4  Константин   26  Ростов-на-Дону             ultra\n",
       "4        5       Адель   28            Омск             ultra"
      ]
     },
     "execution_count": 3,
     "metadata": {},
     "output_type": "execute_result"
    }
   ],
   "source": [
    "#выводим информацию и первые 5 строк датафрейма users_go\n",
    "users_go.info()\n",
    "users_go.head()"
   ]
  },
  {
   "cell_type": "markdown",
   "id": "c1341cba",
   "metadata": {},
   "source": [
    "**Всего в датафрейме 1565 записей, 5 столбцов**"
   ]
  },
  {
   "cell_type": "code",
   "execution_count": 4,
   "id": "ece3de1a",
   "metadata": {},
   "outputs": [
    {
     "name": "stdout",
     "output_type": "stream",
     "text": [
      "<class 'pandas.core.frame.DataFrame'>\n",
      "RangeIndex: 18068 entries, 0 to 18067\n",
      "Data columns (total 4 columns):\n",
      " #   Column    Non-Null Count  Dtype  \n",
      "---  ------    --------------  -----  \n",
      " 0   user_id   18068 non-null  int64  \n",
      " 1   distance  18068 non-null  float64\n",
      " 2   duration  18068 non-null  float64\n",
      " 3   date      18068 non-null  object \n",
      "dtypes: float64(2), int64(1), object(1)\n",
      "memory usage: 564.8+ KB\n"
     ]
    },
    {
     "data": {
      "text/html": [
       "<div>\n",
       "<style scoped>\n",
       "    .dataframe tbody tr th:only-of-type {\n",
       "        vertical-align: middle;\n",
       "    }\n",
       "\n",
       "    .dataframe tbody tr th {\n",
       "        vertical-align: top;\n",
       "    }\n",
       "\n",
       "    .dataframe thead th {\n",
       "        text-align: right;\n",
       "    }\n",
       "</style>\n",
       "<table border=\"1\" class=\"dataframe\">\n",
       "  <thead>\n",
       "    <tr style=\"text-align: right;\">\n",
       "      <th></th>\n",
       "      <th>user_id</th>\n",
       "      <th>distance</th>\n",
       "      <th>duration</th>\n",
       "      <th>date</th>\n",
       "    </tr>\n",
       "  </thead>\n",
       "  <tbody>\n",
       "    <tr>\n",
       "      <th>0</th>\n",
       "      <td>1</td>\n",
       "      <td>4409.919140</td>\n",
       "      <td>25.599769</td>\n",
       "      <td>2021-01-01</td>\n",
       "    </tr>\n",
       "    <tr>\n",
       "      <th>1</th>\n",
       "      <td>1</td>\n",
       "      <td>2617.592153</td>\n",
       "      <td>15.816871</td>\n",
       "      <td>2021-01-18</td>\n",
       "    </tr>\n",
       "    <tr>\n",
       "      <th>2</th>\n",
       "      <td>1</td>\n",
       "      <td>754.159807</td>\n",
       "      <td>6.232113</td>\n",
       "      <td>2021-04-20</td>\n",
       "    </tr>\n",
       "    <tr>\n",
       "      <th>3</th>\n",
       "      <td>1</td>\n",
       "      <td>2694.783254</td>\n",
       "      <td>18.511000</td>\n",
       "      <td>2021-08-11</td>\n",
       "    </tr>\n",
       "    <tr>\n",
       "      <th>4</th>\n",
       "      <td>1</td>\n",
       "      <td>4028.687306</td>\n",
       "      <td>26.265803</td>\n",
       "      <td>2021-08-28</td>\n",
       "    </tr>\n",
       "  </tbody>\n",
       "</table>\n",
       "</div>"
      ],
      "text/plain": [
       "   user_id     distance   duration        date\n",
       "0        1  4409.919140  25.599769  2021-01-01\n",
       "1        1  2617.592153  15.816871  2021-01-18\n",
       "2        1   754.159807   6.232113  2021-04-20\n",
       "3        1  2694.783254  18.511000  2021-08-11\n",
       "4        1  4028.687306  26.265803  2021-08-28"
      ]
     },
     "execution_count": 4,
     "metadata": {},
     "output_type": "execute_result"
    }
   ],
   "source": [
    "#выводим информацию и первые 5 строк датафрейма rides_go\n",
    "rides_go.info()\n",
    "rides_go.head()"
   ]
  },
  {
   "cell_type": "markdown",
   "id": "dff93eae",
   "metadata": {},
   "source": [
    "**Всего в датафрейме 18068 записей, 4 столбца**"
   ]
  },
  {
   "cell_type": "code",
   "execution_count": 5,
   "id": "b99dba22",
   "metadata": {},
   "outputs": [
    {
     "name": "stdout",
     "output_type": "stream",
     "text": [
      "<class 'pandas.core.frame.DataFrame'>\n",
      "RangeIndex: 2 entries, 0 to 1\n",
      "Data columns (total 4 columns):\n",
      " #   Column             Non-Null Count  Dtype \n",
      "---  ------             --------------  ----- \n",
      " 0   subscription_type  2 non-null      object\n",
      " 1   minute_price       2 non-null      int64 \n",
      " 2   start_ride_price   2 non-null      int64 \n",
      " 3   subscription_fee   2 non-null      int64 \n",
      "dtypes: int64(3), object(1)\n",
      "memory usage: 192.0+ bytes\n"
     ]
    },
    {
     "data": {
      "text/html": [
       "<div>\n",
       "<style scoped>\n",
       "    .dataframe tbody tr th:only-of-type {\n",
       "        vertical-align: middle;\n",
       "    }\n",
       "\n",
       "    .dataframe tbody tr th {\n",
       "        vertical-align: top;\n",
       "    }\n",
       "\n",
       "    .dataframe thead th {\n",
       "        text-align: right;\n",
       "    }\n",
       "</style>\n",
       "<table border=\"1\" class=\"dataframe\">\n",
       "  <thead>\n",
       "    <tr style=\"text-align: right;\">\n",
       "      <th></th>\n",
       "      <th>subscription_type</th>\n",
       "      <th>minute_price</th>\n",
       "      <th>start_ride_price</th>\n",
       "      <th>subscription_fee</th>\n",
       "    </tr>\n",
       "  </thead>\n",
       "  <tbody>\n",
       "    <tr>\n",
       "      <th>0</th>\n",
       "      <td>free</td>\n",
       "      <td>8</td>\n",
       "      <td>50</td>\n",
       "      <td>0</td>\n",
       "    </tr>\n",
       "    <tr>\n",
       "      <th>1</th>\n",
       "      <td>ultra</td>\n",
       "      <td>6</td>\n",
       "      <td>0</td>\n",
       "      <td>199</td>\n",
       "    </tr>\n",
       "  </tbody>\n",
       "</table>\n",
       "</div>"
      ],
      "text/plain": [
       "  subscription_type  minute_price  start_ride_price  subscription_fee\n",
       "0              free             8                50                 0\n",
       "1             ultra             6                 0               199"
      ]
     },
     "execution_count": 5,
     "metadata": {},
     "output_type": "execute_result"
    }
   ],
   "source": [
    "#выводим информацию и первые 5 строк датафрейма subscriptions_go\n",
    "subscriptions_go.info()\n",
    "subscriptions_go.head()"
   ]
  },
  {
   "cell_type": "markdown",
   "id": "3776e189",
   "metadata": {},
   "source": [
    "**Всего в датафрейме 2 записи, 4 столбца**"
   ]
  },
  {
   "cell_type": "markdown",
   "id": "e95ebca7",
   "metadata": {},
   "source": [
    "#### Шаг 2. Предобработка данных"
   ]
  },
  {
   "cell_type": "code",
   "execution_count": 6,
   "id": "af6d202c",
   "metadata": {},
   "outputs": [
    {
     "data": {
      "text/plain": [
       "user_id              0\n",
       "name                 0\n",
       "age                  0\n",
       "city                 0\n",
       "subscription_type    0\n",
       "dtype: int64"
      ]
     },
     "execution_count": 6,
     "metadata": {},
     "output_type": "execute_result"
    }
   ],
   "source": [
    "#проверим датафрейм users_go на пропуски\n",
    "users_go.isna().sum()"
   ]
  },
  {
   "cell_type": "code",
   "execution_count": 7,
   "id": "30e4e9dd",
   "metadata": {},
   "outputs": [
    {
     "data": {
      "text/plain": [
       "user_id     0\n",
       "distance    0\n",
       "duration    0\n",
       "date        0\n",
       "dtype: int64"
      ]
     },
     "execution_count": 7,
     "metadata": {},
     "output_type": "execute_result"
    }
   ],
   "source": [
    "#проверим датафрейм users_go на пропуски\n",
    "rides_go.isna().sum()"
   ]
  },
  {
   "cell_type": "code",
   "execution_count": 8,
   "id": "edc68f05",
   "metadata": {},
   "outputs": [
    {
     "data": {
      "text/plain": [
       "subscription_type    0\n",
       "minute_price         0\n",
       "start_ride_price     0\n",
       "subscription_fee     0\n",
       "dtype: int64"
      ]
     },
     "execution_count": 8,
     "metadata": {},
     "output_type": "execute_result"
    }
   ],
   "source": [
    "#проверим датафрейм users_go на пропуски\n",
    "subscriptions_go.isna().sum()"
   ]
  },
  {
   "cell_type": "markdown",
   "id": "aa241b8e",
   "metadata": {},
   "source": [
    "**Пропусков в исходных датафреймах нет**"
   ]
  },
  {
   "cell_type": "code",
   "execution_count": 9,
   "id": "62d96138",
   "metadata": {},
   "outputs": [],
   "source": [
    "#приводим столбец date из датафрейма rides_go к типу даты.\n",
    "rides_go['date'] = pd.to_datetime(rides_go['date'], format = '%Y-%m-%d')"
   ]
  },
  {
   "cell_type": "code",
   "execution_count": 10,
   "id": "5b67b842",
   "metadata": {},
   "outputs": [
    {
     "data": {
      "text/plain": [
       "0    1\n",
       "1    1\n",
       "2    4\n",
       "3    8\n",
       "4    8\n",
       "Name: month, dtype: int64"
      ]
     },
     "execution_count": 10,
     "metadata": {},
     "output_type": "execute_result"
    }
   ],
   "source": [
    "#добавим новый столбец с номером месяца\n",
    "rides_go['month'] = rides_go['date'].dt.month\n",
    "rides_go['month'].head()"
   ]
  },
  {
   "cell_type": "code",
   "execution_count": 11,
   "id": "6d169cef",
   "metadata": {},
   "outputs": [
    {
     "name": "stdout",
     "output_type": "stream",
     "text": [
      "Записи с 2021-01-01 00:00:00 по 2021-12-30 00:00:00\n"
     ]
    }
   ],
   "source": [
    "print('Записи с', rides_go['date'].min(), 'по', rides_go['date'].max())"
   ]
  },
  {
   "cell_type": "code",
   "execution_count": 12,
   "id": "fe1e27df",
   "metadata": {},
   "outputs": [
    {
     "data": {
      "text/plain": [
       "count    18068.000000\n",
       "mean        17.805011\n",
       "std          6.091051\n",
       "min          0.500000\n",
       "25%         13.597563\n",
       "50%         17.678395\n",
       "75%         21.724800\n",
       "max         40.823963\n",
       "Name: duration, dtype: float64"
      ]
     },
     "execution_count": 12,
     "metadata": {},
     "output_type": "execute_result"
    }
   ],
   "source": [
    "rides_go['duration'].describe()"
   ]
  },
  {
   "cell_type": "code",
   "execution_count": 13,
   "id": "ee4d9322",
   "metadata": {},
   "outputs": [
    {
     "data": {
      "text/plain": [
       "31"
      ]
     },
     "execution_count": 13,
     "metadata": {},
     "output_type": "execute_result"
    }
   ],
   "source": [
    "#проверим датафрейм users_go на дубликаты\n",
    "users_go.duplicated().sum()"
   ]
  },
  {
   "cell_type": "code",
   "execution_count": 14,
   "id": "6f030add",
   "metadata": {},
   "outputs": [],
   "source": [
    "#удалим дубликаты в датафрейме users_go\n",
    "users_go.drop_duplicates(inplace=True)"
   ]
  },
  {
   "cell_type": "code",
   "execution_count": 15,
   "id": "00c6348d",
   "metadata": {},
   "outputs": [
    {
     "data": {
      "text/plain": [
       "0"
      ]
     },
     "execution_count": 15,
     "metadata": {},
     "output_type": "execute_result"
    }
   ],
   "source": [
    "users_go.duplicated().sum()"
   ]
  },
  {
   "cell_type": "code",
   "execution_count": 16,
   "id": "068caa84",
   "metadata": {},
   "outputs": [
    {
     "data": {
      "text/plain": [
       "0"
      ]
     },
     "execution_count": 16,
     "metadata": {},
     "output_type": "execute_result"
    }
   ],
   "source": [
    "#проверим датафрейм rides_go на дубликаты\n",
    "rides_go.duplicated().sum()"
   ]
  },
  {
   "cell_type": "code",
   "execution_count": 17,
   "id": "f299e5db",
   "metadata": {},
   "outputs": [
    {
     "data": {
      "text/plain": [
       "0"
      ]
     },
     "execution_count": 17,
     "metadata": {},
     "output_type": "execute_result"
    }
   ],
   "source": [
    "#проверим датафрейм subscriptions_go на дубликаты\n",
    "subscriptions_go.duplicated().sum()"
   ]
  },
  {
   "cell_type": "markdown",
   "id": "ff7a40f7",
   "metadata": {},
   "source": [
    "**В ходе предобработки данных проверили датафреймы на пропуски и удалили дубликаты, а также привели столбец date к типу даты**"
   ]
  },
  {
   "cell_type": "markdown",
   "id": "212593c7",
   "metadata": {},
   "source": [
    "#### Шаг 3. Исследовательский анализ данных"
   ]
  },
  {
   "cell_type": "code",
   "execution_count": 18,
   "id": "e3a4274c",
   "metadata": {},
   "outputs": [
    {
     "data": {
      "text/plain": [
       "Пятигорск         219\n",
       "Екатеринбург      204\n",
       "Ростов-на-Дону    198\n",
       "Краснодар         193\n",
       "Сочи              189\n",
       "Омск              183\n",
       "Тюмень            180\n",
       "Москва            168\n",
       "Name: city, dtype: int64"
      ]
     },
     "execution_count": 18,
     "metadata": {},
     "output_type": "execute_result"
    }
   ],
   "source": [
    "#изучим частоту встречаемости городов\n",
    "users_per_city = users_go['city'].value_counts()\n",
    "users_per_city"
   ]
  },
  {
   "cell_type": "code",
   "execution_count": 19,
   "id": "694cfa79",
   "metadata": {},
   "outputs": [
    {
     "data": {
      "image/png": "[encoded data removed]",
      "text/plain": [
       "<Figure size 504x504 with 1 Axes>"
      ]
     },
     "metadata": {},
     "output_type": "display_data"
    }
   ],
   "source": [
    "users_go['city'].value_counts().plot(\n",
    "    kind = 'pie', \n",
    "    y = users_per_city,\n",
    "    autopct = '%1.0f%%',\n",
    "    figsize=(7,7), \n",
    "    title = 'Распределение пользователей по городам');"
   ]
  },
  {
   "cell_type": "code",
   "execution_count": 20,
   "id": "9fc62362",
   "metadata": {},
   "outputs": [
    {
     "data": {
      "image/png": "[encoded data removed]",
      "text/plain": [
       "<Figure size 720x360 with 1 Axes>"
      ]
     },
     "metadata": {
      "needs_background": "light"
     },
     "output_type": "display_data"
    },
    {
     "name": "stdout",
     "output_type": "stream",
     "text": [
      "Количество пользователей по городам \n"
     ]
    },
    {
     "data": {
      "text/html": [
       "<div>\n",
       "<style scoped>\n",
       "    .dataframe tbody tr th:only-of-type {\n",
       "        vertical-align: middle;\n",
       "    }\n",
       "\n",
       "    .dataframe tbody tr th {\n",
       "        vertical-align: top;\n",
       "    }\n",
       "\n",
       "    .dataframe thead th {\n",
       "        text-align: right;\n",
       "    }\n",
       "</style>\n",
       "<table border=\"1\" class=\"dataframe\">\n",
       "  <thead>\n",
       "    <tr style=\"text-align: right;\">\n",
       "      <th></th>\n",
       "      <th>user_id</th>\n",
       "    </tr>\n",
       "    <tr>\n",
       "      <th>city</th>\n",
       "      <th></th>\n",
       "    </tr>\n",
       "  </thead>\n",
       "  <tbody>\n",
       "    <tr>\n",
       "      <th>Пятигорск</th>\n",
       "      <td>219</td>\n",
       "    </tr>\n",
       "    <tr>\n",
       "      <th>Екатеринбург</th>\n",
       "      <td>204</td>\n",
       "    </tr>\n",
       "    <tr>\n",
       "      <th>Ростов-на-Дону</th>\n",
       "      <td>198</td>\n",
       "    </tr>\n",
       "    <tr>\n",
       "      <th>Краснодар</th>\n",
       "      <td>193</td>\n",
       "    </tr>\n",
       "    <tr>\n",
       "      <th>Сочи</th>\n",
       "      <td>189</td>\n",
       "    </tr>\n",
       "    <tr>\n",
       "      <th>Омск</th>\n",
       "      <td>183</td>\n",
       "    </tr>\n",
       "    <tr>\n",
       "      <th>Тюмень</th>\n",
       "      <td>180</td>\n",
       "    </tr>\n",
       "    <tr>\n",
       "      <th>Москва</th>\n",
       "      <td>168</td>\n",
       "    </tr>\n",
       "  </tbody>\n",
       "</table>\n",
       "</div>"
      ],
      "text/plain": [
       "                user_id\n",
       "city                   \n",
       "Пятигорск           219\n",
       "Екатеринбург        204\n",
       "Ростов-на-Дону      198\n",
       "Краснодар           193\n",
       "Сочи                189\n",
       "Омск                183\n",
       "Тюмень              180\n",
       "Москва              168"
      ]
     },
     "execution_count": 20,
     "metadata": {},
     "output_type": "execute_result"
    }
   ],
   "source": [
    "(\n",
    "    users_go.pivot_table(index='city', values='user_id', aggfunc='count').sort_values(by='user_id', ascending=True)\n",
    "    .plot(kind='barh', grid=True, figsize=(10, 5))\n",
    ")\n",
    "plt.title('Количество пользователей по городам')\n",
    "plt.ylabel('Города')\n",
    "plt.xlabel('Количество пользователей')\n",
    "\n",
    "plt.show()\n",
    "print('Количество пользователей по городам ') \n",
    "users_go.pivot_table(index='city', values='user_id', aggfunc='count').sort_values(by='user_id', ascending=False)"
   ]
  },
  {
   "cell_type": "markdown",
   "id": "de22ca95",
   "metadata": {},
   "source": [
    "**Визуализация показывает, что распределение по городам примерно одинаковое. Самое большое количество пользователей в Пятигорске, меньше всего пользователей в Москве.**"
   ]
  },
  {
   "cell_type": "code",
   "execution_count": 21,
   "id": "dc407604",
   "metadata": {},
   "outputs": [
    {
     "data": {
      "text/plain": [
       "free     835\n",
       "ultra    699\n",
       "Name: subscription_type, dtype: int64"
      ]
     },
     "execution_count": 21,
     "metadata": {},
     "output_type": "execute_result"
    }
   ],
   "source": [
    "#изучим соотношение пользователей с подпиской и без\n",
    "subscriptions_ratio = users_go['subscription_type'].value_counts()\n",
    "subscriptions_ratio"
   ]
  },
  {
   "cell_type": "code",
   "execution_count": 22,
   "id": "5945a477",
   "metadata": {},
   "outputs": [
    {
     "data": {
      "image/png": "[encoded data removed]",
      "text/plain": [
       "<Figure size 360x360 with 1 Axes>"
      ]
     },
     "metadata": {},
     "output_type": "display_data"
    }
   ],
   "source": [
    "users_go['subscription_type'].value_counts().plot(\n",
    "    kind = 'pie', \n",
    "    y = subscriptions_ratio, \n",
    "    autopct = '%1.0f%%', \n",
    "    figsize=(5,5),\n",
    "    title = 'Процентное соотношение пользователей в зависимости от тарифа');"
   ]
  },
  {
   "cell_type": "markdown",
   "id": "2a86d3ed",
   "metadata": {},
   "source": [
    "**Количество пользователей без подписки чуть больше, чем с подпиской Ultra - приблизительно на 8%**"
   ]
  },
  {
   "cell_type": "code",
   "execution_count": 23,
   "id": "a165dce5",
   "metadata": {},
   "outputs": [
    {
     "data": {
      "text/plain": [
       "count    1534.000000\n",
       "mean       24.903520\n",
       "std         4.572367\n",
       "min        12.000000\n",
       "25%        22.000000\n",
       "50%        25.000000\n",
       "75%        28.000000\n",
       "max        43.000000\n",
       "Name: age, dtype: float64"
      ]
     },
     "execution_count": 23,
     "metadata": {},
     "output_type": "execute_result"
    }
   ],
   "source": [
    "#изучим возраст пользователей\n",
    "users_go['age'].describe()"
   ]
  },
  {
   "cell_type": "code",
   "execution_count": 24,
   "id": "51c3dc27",
   "metadata": {},
   "outputs": [
    {
     "data": {
      "image/png": "[encoded data removed]",
      "text/plain": [
       "<Figure size 720x360 with 1 Axes>"
      ]
     },
     "metadata": {
      "needs_background": "light"
     },
     "output_type": "display_data"
    }
   ],
   "source": [
    "(\n",
    "    users_go.pivot_table(index='age', values='user_id', aggfunc='count').sort_values(by='age', ascending=True)\n",
    "    .plot(kind='bar' , grid=True, figsize=(10, 5))\n",
    ")\n",
    "plt.title('Количество пользователей по возрастам')\n",
    "plt.xlabel('Возраст')\n",
    "plt.ylabel('Количество')\n",
    "plt.show()"
   ]
  },
  {
   "cell_type": "markdown",
   "id": "8d7dd9d2",
   "metadata": {},
   "source": [
    "**Возраст пользователей описывается нормальным распредлением с медианой в 25 лет**"
   ]
  },
  {
   "cell_type": "code",
   "execution_count": 25,
   "id": "fbcba743",
   "metadata": {},
   "outputs": [
    {
     "data": {
      "text/plain": [
       "count    18068.000000\n",
       "mean      3070.659976\n",
       "std       1116.831209\n",
       "min          0.855683\n",
       "25%       2543.226360\n",
       "50%       3133.609994\n",
       "75%       3776.222735\n",
       "max       7211.007745\n",
       "Name: distance, dtype: float64"
      ]
     },
     "execution_count": 25,
     "metadata": {},
     "output_type": "execute_result"
    }
   ],
   "source": [
    "#изучим расстояние, которое пользователь преодолел за одну поездку\n",
    "rides_go['distance'].describe()"
   ]
  },
  {
   "cell_type": "code",
   "execution_count": 26,
   "id": "3c25e818",
   "metadata": {},
   "outputs": [
    {
     "data": {
      "image/png": "[encoded data removed]",
      "text/plain": [
       "<Figure size 432x288 with 1 Axes>"
      ]
     },
     "metadata": {
      "needs_background": "light"
     },
     "output_type": "display_data"
    }
   ],
   "source": [
    "plt.hist(rides_go['distance'], bins=500, range=(0,7300))\n",
    "plt.title('Количество поездок в зависимости от расстояния поездки')\n",
    "plt.xlabel('Расстояние в метрах')\n",
    "plt.ylabel('Количество поездок')\n",
    "plt.show()"
   ]
  },
  {
   "cell_type": "markdown",
   "id": "0dee450e",
   "metadata": {},
   "source": [
    "**Медиана одной поездки составляет 3133 метра, немногим больше среднего значения в 3070 метров за одну поездку**"
   ]
  },
  {
   "cell_type": "code",
   "execution_count": 27,
   "id": "9cde37fb",
   "metadata": {},
   "outputs": [
    {
     "data": {
      "image/png": "[encoded data removed]",
      "text/plain": [
       "<Figure size 432x288 with 1 Axes>"
      ]
     },
     "metadata": {
      "needs_background": "light"
     },
     "output_type": "display_data"
    }
   ],
   "source": [
    "sns.boxplot(x=rides_go['distance'], color='blue')\n",
    "plt.title('Расстояние, преодоленное за одну поездку')\n",
    "plt.xlabel('Расстояние, м')\n",
    "_ = plt.xlim(0, 7300)"
   ]
  },
  {
   "cell_type": "code",
   "execution_count": 28,
   "id": "f1f6dd80",
   "metadata": {},
   "outputs": [
    {
     "data": {
      "text/plain": [
       "count    18068.000000\n",
       "mean        17.805011\n",
       "std          6.091051\n",
       "min          0.500000\n",
       "25%         13.597563\n",
       "50%         17.678395\n",
       "75%         21.724800\n",
       "max         40.823963\n",
       "Name: duration, dtype: float64"
      ]
     },
     "execution_count": 28,
     "metadata": {},
     "output_type": "execute_result"
    }
   ],
   "source": [
    "#изучим продолжительность поездок\n",
    "rides_go['duration'].describe()"
   ]
  },
  {
   "cell_type": "code",
   "execution_count": 29,
   "id": "2a099dc8",
   "metadata": {
    "scrolled": true
   },
   "outputs": [
    {
     "data": {
      "image/png": "[encoded data removed]",
      "text/plain": [
       "<Figure size 432x288 with 1 Axes>"
      ]
     },
     "metadata": {
      "needs_background": "light"
     },
     "output_type": "display_data"
    }
   ],
   "source": [
    "plt.hist(rides_go['duration'], bins=50, range=(0,41))\n",
    "plt.title('Количество поездок в зависимости от продолжительности')\n",
    "plt.xlabel('продолжительность поездки')\n",
    "plt.ylabel('Количество поездок')\n",
    "plt.show()"
   ]
  },
  {
   "cell_type": "markdown",
   "id": "a92ce176",
   "metadata": {},
   "source": [
    "**Медиана одной поездки по времени составляет чуть больше 17 минут и практически совпадает со средним значением**"
   ]
  },
  {
   "cell_type": "code",
   "execution_count": 30,
   "id": "fa8ec499",
   "metadata": {},
   "outputs": [
    {
     "data": {
      "image/png": "[encoded data removed]",
      "text/plain": [
       "<Figure size 432x288 with 1 Axes>"
      ]
     },
     "metadata": {
      "needs_background": "light"
     },
     "output_type": "display_data"
    }
   ],
   "source": [
    "sns.boxplot(x=rides_go['duration'], color='blue')\n",
    "plt.title('Время, затраченное за одну поездку')\n",
    "plt.xlabel('Время, мин')\n",
    "_ = plt.xlim(0, 41)"
   ]
  },
  {
   "cell_type": "markdown",
   "id": "908ca207",
   "metadata": {},
   "source": [
    "**Промежуточные выводы**\n",
    "* преимущественно сервисом пользуются южные города, такие как Пятигорск, Ростов на Дону, Красноадр, Сочи\n",
    "* количество пользователей бехз подписки приблизительно на 8% превышает пользователей с подпиской Ultra\n",
    "* средний возраст пользователя составляет 25 лет\n",
    "* расстояние, которое в среднем преодолевает пользователь за одну поездку - 3133 метра\n",
    "* время, которое в среднем пользователь  тратит за одну поездку - чуть больше 17 минут"
   ]
  },
  {
   "cell_type": "markdown",
   "id": "4ef51331",
   "metadata": {},
   "source": [
    "#### Шаг 4. Объединение данных"
   ]
  },
  {
   "cell_type": "code",
   "execution_count": 31,
   "id": "12228d8a",
   "metadata": {},
   "outputs": [
    {
     "name": "stdout",
     "output_type": "stream",
     "text": [
      "<class 'pandas.core.frame.DataFrame'>\n",
      "Int64Index: 1534 entries, 0 to 1533\n",
      "Data columns (total 5 columns):\n",
      " #   Column             Non-Null Count  Dtype \n",
      "---  ------             --------------  ----- \n",
      " 0   user_id            1534 non-null   int64 \n",
      " 1   name               1534 non-null   object\n",
      " 2   age                1534 non-null   int64 \n",
      " 3   city               1534 non-null   object\n",
      " 4   subscription_type  1534 non-null   object\n",
      "dtypes: int64(2), object(3)\n",
      "memory usage: 71.9+ KB\n",
      "<class 'pandas.core.frame.DataFrame'>\n",
      "RangeIndex: 18068 entries, 0 to 18067\n",
      "Data columns (total 5 columns):\n",
      " #   Column    Non-Null Count  Dtype         \n",
      "---  ------    --------------  -----         \n",
      " 0   user_id   18068 non-null  int64         \n",
      " 1   distance  18068 non-null  float64       \n",
      " 2   duration  18068 non-null  float64       \n",
      " 3   date      18068 non-null  datetime64[ns]\n",
      " 4   month     18068 non-null  int64         \n",
      "dtypes: datetime64[ns](1), float64(2), int64(2)\n",
      "memory usage: 705.9 KB\n",
      "<class 'pandas.core.frame.DataFrame'>\n",
      "RangeIndex: 2 entries, 0 to 1\n",
      "Data columns (total 4 columns):\n",
      " #   Column             Non-Null Count  Dtype \n",
      "---  ------             --------------  ----- \n",
      " 0   subscription_type  2 non-null      object\n",
      " 1   minute_price       2 non-null      int64 \n",
      " 2   start_ride_price   2 non-null      int64 \n",
      " 3   subscription_fee   2 non-null      int64 \n",
      "dtypes: int64(3), object(1)\n",
      "memory usage: 192.0+ bytes\n"
     ]
    }
   ],
   "source": [
    "#проверим размерность датафреймов до объединения\n",
    "users_go.info()\n",
    "rides_go.info()\n",
    "subscriptions_go.info()"
   ]
  },
  {
   "cell_type": "code",
   "execution_count": 32,
   "id": "a65b6db6",
   "metadata": {},
   "outputs": [],
   "source": [
    "#объденим датафреймы в один общий\n",
    "df = pd.merge(users_go, subscriptions_go, on='subscription_type')\n",
    "df = pd.merge(rides_go, df, on='user_id')"
   ]
  },
  {
   "cell_type": "code",
   "execution_count": 33,
   "id": "6bf288b5",
   "metadata": {},
   "outputs": [
    {
     "name": "stdout",
     "output_type": "stream",
     "text": [
      "Количество явных дубликатов в датафрейме =  0 \n",
      "\n",
      "<class 'pandas.core.frame.DataFrame'>\n",
      "Int64Index: 18068 entries, 0 to 18067\n",
      "Data columns (total 12 columns):\n",
      " #   Column             Non-Null Count  Dtype         \n",
      "---  ------             --------------  -----         \n",
      " 0   user_id            18068 non-null  int64         \n",
      " 1   distance           18068 non-null  float64       \n",
      " 2   duration           18068 non-null  float64       \n",
      " 3   date               18068 non-null  datetime64[ns]\n",
      " 4   month              18068 non-null  int64         \n",
      " 5   name               18068 non-null  object        \n",
      " 6   age                18068 non-null  int64         \n",
      " 7   city               18068 non-null  object        \n",
      " 8   subscription_type  18068 non-null  object        \n",
      " 9   minute_price       18068 non-null  int64         \n",
      " 10  start_ride_price   18068 non-null  int64         \n",
      " 11  subscription_fee   18068 non-null  int64         \n",
      "dtypes: datetime64[ns](1), float64(2), int64(6), object(3)\n",
      "memory usage: 1.8+ MB\n"
     ]
    }
   ],
   "source": [
    "print('Количество явных дубликатов в датафрейме = ', df.duplicated().sum(), '\\n')\n",
    "df.info()"
   ]
  },
  {
   "cell_type": "code",
   "execution_count": 34,
   "id": "5462ffae",
   "metadata": {},
   "outputs": [
    {
     "data": {
      "text/plain": [
       "user_id              0\n",
       "distance             0\n",
       "duration             0\n",
       "date                 0\n",
       "month                0\n",
       "name                 0\n",
       "age                  0\n",
       "city                 0\n",
       "subscription_type    0\n",
       "minute_price         0\n",
       "start_ride_price     0\n",
       "subscription_fee     0\n",
       "dtype: int64"
      ]
     },
     "execution_count": 34,
     "metadata": {},
     "output_type": "execute_result"
    }
   ],
   "source": [
    "df.isna().sum()"
   ]
  },
  {
   "cell_type": "markdown",
   "id": "7266b705",
   "metadata": {},
   "source": [
    "**В полученном датафрейме 18068 строк. После объединения количество столбцов уменьшилось с 14 до 12, так как по двум из них объеденили датафреймы. Пропусков нет**"
   ]
  },
  {
   "cell_type": "code",
   "execution_count": 35,
   "id": "02351ff0",
   "metadata": {
    "scrolled": false
   },
   "outputs": [
    {
     "data": {
      "text/html": [
       "<div>\n",
       "<style scoped>\n",
       "    .dataframe tbody tr th:only-of-type {\n",
       "        vertical-align: middle;\n",
       "    }\n",
       "\n",
       "    .dataframe tbody tr th {\n",
       "        vertical-align: top;\n",
       "    }\n",
       "\n",
       "    .dataframe thead th {\n",
       "        text-align: right;\n",
       "    }\n",
       "</style>\n",
       "<table border=\"1\" class=\"dataframe\">\n",
       "  <thead>\n",
       "    <tr style=\"text-align: right;\">\n",
       "      <th></th>\n",
       "      <th>user_id</th>\n",
       "      <th>distance</th>\n",
       "      <th>duration</th>\n",
       "      <th>date</th>\n",
       "      <th>month</th>\n",
       "      <th>name</th>\n",
       "      <th>age</th>\n",
       "      <th>city</th>\n",
       "      <th>subscription_type</th>\n",
       "      <th>minute_price</th>\n",
       "      <th>start_ride_price</th>\n",
       "      <th>subscription_fee</th>\n",
       "    </tr>\n",
       "  </thead>\n",
       "  <tbody>\n",
       "    <tr>\n",
       "      <th>6500</th>\n",
       "      <td>700</td>\n",
       "      <td>2515.690719</td>\n",
       "      <td>14.944286</td>\n",
       "      <td>2021-01-02</td>\n",
       "      <td>1</td>\n",
       "      <td>Айдар</td>\n",
       "      <td>22</td>\n",
       "      <td>Омск</td>\n",
       "      <td>free</td>\n",
       "      <td>8</td>\n",
       "      <td>50</td>\n",
       "      <td>0</td>\n",
       "    </tr>\n",
       "    <tr>\n",
       "      <th>6501</th>\n",
       "      <td>700</td>\n",
       "      <td>846.932642</td>\n",
       "      <td>16.234663</td>\n",
       "      <td>2021-02-01</td>\n",
       "      <td>2</td>\n",
       "      <td>Айдар</td>\n",
       "      <td>22</td>\n",
       "      <td>Омск</td>\n",
       "      <td>free</td>\n",
       "      <td>8</td>\n",
       "      <td>50</td>\n",
       "      <td>0</td>\n",
       "    </tr>\n",
       "    <tr>\n",
       "      <th>6502</th>\n",
       "      <td>700</td>\n",
       "      <td>4004.434142</td>\n",
       "      <td>20.016628</td>\n",
       "      <td>2021-02-04</td>\n",
       "      <td>2</td>\n",
       "      <td>Айдар</td>\n",
       "      <td>22</td>\n",
       "      <td>Омск</td>\n",
       "      <td>free</td>\n",
       "      <td>8</td>\n",
       "      <td>50</td>\n",
       "      <td>0</td>\n",
       "    </tr>\n",
       "    <tr>\n",
       "      <th>6503</th>\n",
       "      <td>700</td>\n",
       "      <td>1205.911290</td>\n",
       "      <td>9.782872</td>\n",
       "      <td>2021-02-10</td>\n",
       "      <td>2</td>\n",
       "      <td>Айдар</td>\n",
       "      <td>22</td>\n",
       "      <td>Омск</td>\n",
       "      <td>free</td>\n",
       "      <td>8</td>\n",
       "      <td>50</td>\n",
       "      <td>0</td>\n",
       "    </tr>\n",
       "    <tr>\n",
       "      <th>6504</th>\n",
       "      <td>700</td>\n",
       "      <td>3047.379435</td>\n",
       "      <td>17.427673</td>\n",
       "      <td>2021-02-14</td>\n",
       "      <td>2</td>\n",
       "      <td>Айдар</td>\n",
       "      <td>22</td>\n",
       "      <td>Омск</td>\n",
       "      <td>free</td>\n",
       "      <td>8</td>\n",
       "      <td>50</td>\n",
       "      <td>0</td>\n",
       "    </tr>\n",
       "    <tr>\n",
       "      <th>...</th>\n",
       "      <td>...</td>\n",
       "      <td>...</td>\n",
       "      <td>...</td>\n",
       "      <td>...</td>\n",
       "      <td>...</td>\n",
       "      <td>...</td>\n",
       "      <td>...</td>\n",
       "      <td>...</td>\n",
       "      <td>...</td>\n",
       "      <td>...</td>\n",
       "      <td>...</td>\n",
       "      <td>...</td>\n",
       "    </tr>\n",
       "    <tr>\n",
       "      <th>18063</th>\n",
       "      <td>1534</td>\n",
       "      <td>3781.098080</td>\n",
       "      <td>19.822962</td>\n",
       "      <td>2021-11-04</td>\n",
       "      <td>11</td>\n",
       "      <td>Альберт</td>\n",
       "      <td>25</td>\n",
       "      <td>Краснодар</td>\n",
       "      <td>free</td>\n",
       "      <td>8</td>\n",
       "      <td>50</td>\n",
       "      <td>0</td>\n",
       "    </tr>\n",
       "    <tr>\n",
       "      <th>18064</th>\n",
       "      <td>1534</td>\n",
       "      <td>2840.423057</td>\n",
       "      <td>21.409799</td>\n",
       "      <td>2021-11-16</td>\n",
       "      <td>11</td>\n",
       "      <td>Альберт</td>\n",
       "      <td>25</td>\n",
       "      <td>Краснодар</td>\n",
       "      <td>free</td>\n",
       "      <td>8</td>\n",
       "      <td>50</td>\n",
       "      <td>0</td>\n",
       "    </tr>\n",
       "    <tr>\n",
       "      <th>18065</th>\n",
       "      <td>1534</td>\n",
       "      <td>3826.185507</td>\n",
       "      <td>18.435051</td>\n",
       "      <td>2021-11-18</td>\n",
       "      <td>11</td>\n",
       "      <td>Альберт</td>\n",
       "      <td>25</td>\n",
       "      <td>Краснодар</td>\n",
       "      <td>free</td>\n",
       "      <td>8</td>\n",
       "      <td>50</td>\n",
       "      <td>0</td>\n",
       "    </tr>\n",
       "    <tr>\n",
       "      <th>18066</th>\n",
       "      <td>1534</td>\n",
       "      <td>2902.308661</td>\n",
       "      <td>16.674362</td>\n",
       "      <td>2021-11-27</td>\n",
       "      <td>11</td>\n",
       "      <td>Альберт</td>\n",
       "      <td>25</td>\n",
       "      <td>Краснодар</td>\n",
       "      <td>free</td>\n",
       "      <td>8</td>\n",
       "      <td>50</td>\n",
       "      <td>0</td>\n",
       "    </tr>\n",
       "    <tr>\n",
       "      <th>18067</th>\n",
       "      <td>1534</td>\n",
       "      <td>2371.711192</td>\n",
       "      <td>15.893917</td>\n",
       "      <td>2021-12-29</td>\n",
       "      <td>12</td>\n",
       "      <td>Альберт</td>\n",
       "      <td>25</td>\n",
       "      <td>Краснодар</td>\n",
       "      <td>free</td>\n",
       "      <td>8</td>\n",
       "      <td>50</td>\n",
       "      <td>0</td>\n",
       "    </tr>\n",
       "  </tbody>\n",
       "</table>\n",
       "<p>11568 rows × 12 columns</p>\n",
       "</div>"
      ],
      "text/plain": [
       "       user_id     distance   duration       date  month     name  age  \\\n",
       "6500       700  2515.690719  14.944286 2021-01-02      1    Айдар   22   \n",
       "6501       700   846.932642  16.234663 2021-02-01      2    Айдар   22   \n",
       "6502       700  4004.434142  20.016628 2021-02-04      2    Айдар   22   \n",
       "6503       700  1205.911290   9.782872 2021-02-10      2    Айдар   22   \n",
       "6504       700  3047.379435  17.427673 2021-02-14      2    Айдар   22   \n",
       "...        ...          ...        ...        ...    ...      ...  ...   \n",
       "18063     1534  3781.098080  19.822962 2021-11-04     11  Альберт   25   \n",
       "18064     1534  2840.423057  21.409799 2021-11-16     11  Альберт   25   \n",
       "18065     1534  3826.185507  18.435051 2021-11-18     11  Альберт   25   \n",
       "18066     1534  2902.308661  16.674362 2021-11-27     11  Альберт   25   \n",
       "18067     1534  2371.711192  15.893917 2021-12-29     12  Альберт   25   \n",
       "\n",
       "            city subscription_type  minute_price  start_ride_price  \\\n",
       "6500        Омск              free             8                50   \n",
       "6501        Омск              free             8                50   \n",
       "6502        Омск              free             8                50   \n",
       "6503        Омск              free             8                50   \n",
       "6504        Омск              free             8                50   \n",
       "...          ...               ...           ...               ...   \n",
       "18063  Краснодар              free             8                50   \n",
       "18064  Краснодар              free             8                50   \n",
       "18065  Краснодар              free             8                50   \n",
       "18066  Краснодар              free             8                50   \n",
       "18067  Краснодар              free             8                50   \n",
       "\n",
       "       subscription_fee  \n",
       "6500                  0  \n",
       "6501                  0  \n",
       "6502                  0  \n",
       "6503                  0  \n",
       "6504                  0  \n",
       "...                 ...  \n",
       "18063                 0  \n",
       "18064                 0  \n",
       "18065                 0  \n",
       "18066                 0  \n",
       "18067                 0  \n",
       "\n",
       "[11568 rows x 12 columns]"
      ]
     },
     "execution_count": 35,
     "metadata": {},
     "output_type": "execute_result"
    }
   ],
   "source": [
    "#создадим датафрейм с данными о пользователях без подписки\n",
    "free_sub = df.query(\"`subscription_type` == 'free'\")\n",
    "free_sub"
   ]
  },
  {
   "cell_type": "code",
   "execution_count": 36,
   "id": "eba6bb4e",
   "metadata": {},
   "outputs": [
    {
     "data": {
      "text/html": [
       "<div>\n",
       "<style scoped>\n",
       "    .dataframe tbody tr th:only-of-type {\n",
       "        vertical-align: middle;\n",
       "    }\n",
       "\n",
       "    .dataframe tbody tr th {\n",
       "        vertical-align: top;\n",
       "    }\n",
       "\n",
       "    .dataframe thead th {\n",
       "        text-align: right;\n",
       "    }\n",
       "</style>\n",
       "<table border=\"1\" class=\"dataframe\">\n",
       "  <thead>\n",
       "    <tr style=\"text-align: right;\">\n",
       "      <th></th>\n",
       "      <th>user_id</th>\n",
       "      <th>distance</th>\n",
       "      <th>duration</th>\n",
       "      <th>date</th>\n",
       "      <th>month</th>\n",
       "      <th>name</th>\n",
       "      <th>age</th>\n",
       "      <th>city</th>\n",
       "      <th>subscription_type</th>\n",
       "      <th>minute_price</th>\n",
       "      <th>start_ride_price</th>\n",
       "      <th>subscription_fee</th>\n",
       "    </tr>\n",
       "  </thead>\n",
       "  <tbody>\n",
       "    <tr>\n",
       "      <th>0</th>\n",
       "      <td>1</td>\n",
       "      <td>4409.919140</td>\n",
       "      <td>25.599769</td>\n",
       "      <td>2021-01-01</td>\n",
       "      <td>1</td>\n",
       "      <td>Кира</td>\n",
       "      <td>22</td>\n",
       "      <td>Тюмень</td>\n",
       "      <td>ultra</td>\n",
       "      <td>6</td>\n",
       "      <td>0</td>\n",
       "      <td>199</td>\n",
       "    </tr>\n",
       "    <tr>\n",
       "      <th>1</th>\n",
       "      <td>1</td>\n",
       "      <td>2617.592153</td>\n",
       "      <td>15.816871</td>\n",
       "      <td>2021-01-18</td>\n",
       "      <td>1</td>\n",
       "      <td>Кира</td>\n",
       "      <td>22</td>\n",
       "      <td>Тюмень</td>\n",
       "      <td>ultra</td>\n",
       "      <td>6</td>\n",
       "      <td>0</td>\n",
       "      <td>199</td>\n",
       "    </tr>\n",
       "    <tr>\n",
       "      <th>2</th>\n",
       "      <td>1</td>\n",
       "      <td>754.159807</td>\n",
       "      <td>6.232113</td>\n",
       "      <td>2021-04-20</td>\n",
       "      <td>4</td>\n",
       "      <td>Кира</td>\n",
       "      <td>22</td>\n",
       "      <td>Тюмень</td>\n",
       "      <td>ultra</td>\n",
       "      <td>6</td>\n",
       "      <td>0</td>\n",
       "      <td>199</td>\n",
       "    </tr>\n",
       "    <tr>\n",
       "      <th>3</th>\n",
       "      <td>1</td>\n",
       "      <td>2694.783254</td>\n",
       "      <td>18.511000</td>\n",
       "      <td>2021-08-11</td>\n",
       "      <td>8</td>\n",
       "      <td>Кира</td>\n",
       "      <td>22</td>\n",
       "      <td>Тюмень</td>\n",
       "      <td>ultra</td>\n",
       "      <td>6</td>\n",
       "      <td>0</td>\n",
       "      <td>199</td>\n",
       "    </tr>\n",
       "    <tr>\n",
       "      <th>4</th>\n",
       "      <td>1</td>\n",
       "      <td>4028.687306</td>\n",
       "      <td>26.265803</td>\n",
       "      <td>2021-08-28</td>\n",
       "      <td>8</td>\n",
       "      <td>Кира</td>\n",
       "      <td>22</td>\n",
       "      <td>Тюмень</td>\n",
       "      <td>ultra</td>\n",
       "      <td>6</td>\n",
       "      <td>0</td>\n",
       "      <td>199</td>\n",
       "    </tr>\n",
       "    <tr>\n",
       "      <th>...</th>\n",
       "      <td>...</td>\n",
       "      <td>...</td>\n",
       "      <td>...</td>\n",
       "      <td>...</td>\n",
       "      <td>...</td>\n",
       "      <td>...</td>\n",
       "      <td>...</td>\n",
       "      <td>...</td>\n",
       "      <td>...</td>\n",
       "      <td>...</td>\n",
       "      <td>...</td>\n",
       "      <td>...</td>\n",
       "    </tr>\n",
       "    <tr>\n",
       "      <th>6495</th>\n",
       "      <td>699</td>\n",
       "      <td>3973.046497</td>\n",
       "      <td>24.671163</td>\n",
       "      <td>2021-08-29</td>\n",
       "      <td>8</td>\n",
       "      <td>Оксана</td>\n",
       "      <td>22</td>\n",
       "      <td>Москва</td>\n",
       "      <td>ultra</td>\n",
       "      <td>6</td>\n",
       "      <td>0</td>\n",
       "      <td>199</td>\n",
       "    </tr>\n",
       "    <tr>\n",
       "      <th>6496</th>\n",
       "      <td>699</td>\n",
       "      <td>3288.702563</td>\n",
       "      <td>15.892886</td>\n",
       "      <td>2021-09-12</td>\n",
       "      <td>9</td>\n",
       "      <td>Оксана</td>\n",
       "      <td>22</td>\n",
       "      <td>Москва</td>\n",
       "      <td>ultra</td>\n",
       "      <td>6</td>\n",
       "      <td>0</td>\n",
       "      <td>199</td>\n",
       "    </tr>\n",
       "    <tr>\n",
       "      <th>6497</th>\n",
       "      <td>699</td>\n",
       "      <td>3076.159348</td>\n",
       "      <td>14.389525</td>\n",
       "      <td>2021-09-26</td>\n",
       "      <td>9</td>\n",
       "      <td>Оксана</td>\n",
       "      <td>22</td>\n",
       "      <td>Москва</td>\n",
       "      <td>ultra</td>\n",
       "      <td>6</td>\n",
       "      <td>0</td>\n",
       "      <td>199</td>\n",
       "    </tr>\n",
       "    <tr>\n",
       "      <th>6498</th>\n",
       "      <td>699</td>\n",
       "      <td>4707.845501</td>\n",
       "      <td>15.839579</td>\n",
       "      <td>2021-10-17</td>\n",
       "      <td>10</td>\n",
       "      <td>Оксана</td>\n",
       "      <td>22</td>\n",
       "      <td>Москва</td>\n",
       "      <td>ultra</td>\n",
       "      <td>6</td>\n",
       "      <td>0</td>\n",
       "      <td>199</td>\n",
       "    </tr>\n",
       "    <tr>\n",
       "      <th>6499</th>\n",
       "      <td>699</td>\n",
       "      <td>3202.890770</td>\n",
       "      <td>25.217345</td>\n",
       "      <td>2021-12-03</td>\n",
       "      <td>12</td>\n",
       "      <td>Оксана</td>\n",
       "      <td>22</td>\n",
       "      <td>Москва</td>\n",
       "      <td>ultra</td>\n",
       "      <td>6</td>\n",
       "      <td>0</td>\n",
       "      <td>199</td>\n",
       "    </tr>\n",
       "  </tbody>\n",
       "</table>\n",
       "<p>6500 rows × 12 columns</p>\n",
       "</div>"
      ],
      "text/plain": [
       "      user_id     distance   duration       date  month    name  age    city  \\\n",
       "0           1  4409.919140  25.599769 2021-01-01      1    Кира   22  Тюмень   \n",
       "1           1  2617.592153  15.816871 2021-01-18      1    Кира   22  Тюмень   \n",
       "2           1   754.159807   6.232113 2021-04-20      4    Кира   22  Тюмень   \n",
       "3           1  2694.783254  18.511000 2021-08-11      8    Кира   22  Тюмень   \n",
       "4           1  4028.687306  26.265803 2021-08-28      8    Кира   22  Тюмень   \n",
       "...       ...          ...        ...        ...    ...     ...  ...     ...   \n",
       "6495      699  3973.046497  24.671163 2021-08-29      8  Оксана   22  Москва   \n",
       "6496      699  3288.702563  15.892886 2021-09-12      9  Оксана   22  Москва   \n",
       "6497      699  3076.159348  14.389525 2021-09-26      9  Оксана   22  Москва   \n",
       "6498      699  4707.845501  15.839579 2021-10-17     10  Оксана   22  Москва   \n",
       "6499      699  3202.890770  25.217345 2021-12-03     12  Оксана   22  Москва   \n",
       "\n",
       "     subscription_type  minute_price  start_ride_price  subscription_fee  \n",
       "0                ultra             6                 0               199  \n",
       "1                ultra             6                 0               199  \n",
       "2                ultra             6                 0               199  \n",
       "3                ultra             6                 0               199  \n",
       "4                ultra             6                 0               199  \n",
       "...                ...           ...               ...               ...  \n",
       "6495             ultra             6                 0               199  \n",
       "6496             ultra             6                 0               199  \n",
       "6497             ultra             6                 0               199  \n",
       "6498             ultra             6                 0               199  \n",
       "6499             ultra             6                 0               199  \n",
       "\n",
       "[6500 rows x 12 columns]"
      ]
     },
     "execution_count": 36,
     "metadata": {},
     "output_type": "execute_result"
    }
   ],
   "source": [
    "#создадим датафрейм с данными о пользователях с подпиской\n",
    "ultra_sub = df.query(\"`subscription_type` == 'ultra'\")\n",
    "ultra_sub"
   ]
  },
  {
   "cell_type": "code",
   "execution_count": 37,
   "id": "ca9176c0",
   "metadata": {},
   "outputs": [
    {
     "data": {
      "text/plain": [
       "count    11568.000000\n",
       "mean      3045.495282\n",
       "std       1246.173806\n",
       "min          0.855683\n",
       "25%       2366.562689\n",
       "50%       3114.648465\n",
       "75%       3905.697894\n",
       "max       7211.007745\n",
       "Name: distance, dtype: float64"
      ]
     },
     "execution_count": 37,
     "metadata": {},
     "output_type": "execute_result"
    }
   ],
   "source": [
    "free_sub['distance'].describe()"
   ]
  },
  {
   "cell_type": "code",
   "execution_count": 38,
   "id": "65611fc9",
   "metadata": {},
   "outputs": [
    {
     "data": {
      "image/png": "[encoded data removed]",
      "text/plain": [
       "<Figure size 432x288 with 1 Axes>"
      ]
     },
     "metadata": {
      "needs_background": "light"
     },
     "output_type": "display_data"
    },
    {
     "data": {
      "text/plain": [
       "<Figure size 1440x1440 with 0 Axes>"
      ]
     },
     "metadata": {},
     "output_type": "display_data"
    }
   ],
   "source": [
    "#визуализируем информацию о расстоянии для пользоватлей без подписки\n",
    "plt.hist(free_sub['distance'], bins=40, range = (0, 7300))\n",
    "plt.title('Расстояние, бесплатный тариф')\n",
    "plt.xlabel('Расстояние, м')\n",
    "plt.ylabel('Количество поездок')\n",
    "plt.figure(figsize=(20,20))\n",
    "plt.show()"
   ]
  },
  {
   "cell_type": "markdown",
   "id": "57977148",
   "metadata": {},
   "source": [
    "**Медиана расстояния одной поездки пользователей без подписки составляет 3114 метров, среднее 3045 метров**"
   ]
  },
  {
   "cell_type": "code",
   "execution_count": 39,
   "id": "6d8ccc1d",
   "metadata": {},
   "outputs": [
    {
     "data": {
      "text/plain": [
       "count    11568.000000\n",
       "mean        17.390909\n",
       "std          6.326803\n",
       "min          0.500000\n",
       "25%         12.958437\n",
       "50%         17.326890\n",
       "75%         21.594071\n",
       "max         34.948498\n",
       "Name: duration, dtype: float64"
      ]
     },
     "execution_count": 39,
     "metadata": {},
     "output_type": "execute_result"
    }
   ],
   "source": [
    "free_sub['duration'].describe()"
   ]
  },
  {
   "cell_type": "code",
   "execution_count": 40,
   "id": "45d558ba",
   "metadata": {},
   "outputs": [
    {
     "data": {
      "image/png": "[encoded data removed]",
      "text/plain": [
       "<Figure size 432x288 with 1 Axes>"
      ]
     },
     "metadata": {
      "needs_background": "light"
     },
     "output_type": "display_data"
    },
    {
     "data": {
      "text/plain": [
       "<Figure size 1440x1440 with 0 Axes>"
      ]
     },
     "metadata": {},
     "output_type": "display_data"
    }
   ],
   "source": [
    "#визуализируем информацию о времени для пользоватлей без подписки\n",
    "plt.hist(free_sub['duration'], bins=30, range = (0, 35))\n",
    "plt.title('Время, бесплатный тариф')\n",
    "plt.xlabel('Время поездки, минуты')\n",
    "plt.ylabel('Количество поездок')\n",
    "plt.figure(figsize=(20,20))\n",
    "plt.show()"
   ]
  },
  {
   "cell_type": "markdown",
   "id": "8139ffed",
   "metadata": {},
   "source": [
    "**Медиана времени одной поездки пользователей без подписки составляет 17 минут, что совпадает со средним значением**"
   ]
  },
  {
   "cell_type": "code",
   "execution_count": 41,
   "id": "1fededc1",
   "metadata": {},
   "outputs": [
    {
     "data": {
      "text/plain": [
       "count    6500.000000\n",
       "mean     3115.445388\n",
       "std       836.895330\n",
       "min       244.210438\n",
       "25%      2785.444017\n",
       "50%      3148.637229\n",
       "75%      3560.574425\n",
       "max      5699.769662\n",
       "Name: distance, dtype: float64"
      ]
     },
     "execution_count": 41,
     "metadata": {},
     "output_type": "execute_result"
    }
   ],
   "source": [
    "ultra_sub['distance'].describe()"
   ]
  },
  {
   "cell_type": "code",
   "execution_count": 42,
   "id": "32209408",
   "metadata": {},
   "outputs": [
    {
     "data": {
      "image/png": "[encoded data removed]",
      "text/plain": [
       "<Figure size 432x288 with 1 Axes>"
      ]
     },
     "metadata": {
      "needs_background": "light"
     },
     "output_type": "display_data"
    },
    {
     "data": {
      "text/plain": [
       "<Figure size 1440x1440 with 0 Axes>"
      ]
     },
     "metadata": {},
     "output_type": "display_data"
    }
   ],
   "source": [
    "#визуализируем информацию о расстоянии для пользоватлей с подпиской\n",
    "plt.hist(ultra_sub['distance'], bins=40, range = (240, 5700))\n",
    "plt.title('Расстояние, платный тариф')\n",
    "plt.xlabel('Расстояние, м')\n",
    "plt.ylabel('Количество поездок')\n",
    "plt.figure(figsize=(20,20))\n",
    "plt.show()"
   ]
  },
  {
   "cell_type": "markdown",
   "id": "2ecee64f",
   "metadata": {},
   "source": [
    "**Медиана расстояния одной поездки пользователей с подпиской составляет 3148 метров, среднее 3115 метров**"
   ]
  },
  {
   "cell_type": "code",
   "execution_count": 43,
   "id": "ab2c25d1",
   "metadata": {},
   "outputs": [
    {
     "data": {
      "text/plain": [
       "count    6500.000000\n",
       "mean       18.541985\n",
       "std         5.572048\n",
       "min         3.760353\n",
       "25%        14.524654\n",
       "50%        18.178153\n",
       "75%        21.884129\n",
       "max        40.823963\n",
       "Name: duration, dtype: float64"
      ]
     },
     "execution_count": 43,
     "metadata": {},
     "output_type": "execute_result"
    }
   ],
   "source": [
    "ultra_sub['duration'].describe()"
   ]
  },
  {
   "cell_type": "code",
   "execution_count": 44,
   "id": "374366b1",
   "metadata": {},
   "outputs": [
    {
     "data": {
      "image/png": "[encoded data removed]",
      "text/plain": [
       "<Figure size 432x288 with 1 Axes>"
      ]
     },
     "metadata": {
      "needs_background": "light"
     },
     "output_type": "display_data"
    },
    {
     "data": {
      "text/plain": [
       "<Figure size 1440x1440 with 0 Axes>"
      ]
     },
     "metadata": {},
     "output_type": "display_data"
    }
   ],
   "source": [
    "#визуализируем информацию о времени для пользоватлей с подпиской\n",
    "plt.hist(ultra_sub['duration'], bins=30, range = (3, 41))\n",
    "plt.title('Время, платный тариф')\n",
    "plt.xlabel('Время поездки, минуты')\n",
    "plt.ylabel('Количество поездок')\n",
    "plt.figure(figsize=(20,20))\n",
    "plt.show()"
   ]
  },
  {
   "cell_type": "markdown",
   "id": "2c310b18",
   "metadata": {},
   "source": [
    "**Медиана времени одной поездки пользователей без подписки составляет 18 минут, что совпадает со средним значением**"
   ]
  },
  {
   "cell_type": "markdown",
   "id": "93480e0c",
   "metadata": {},
   "source": [
    "**Промежуточные выводы**\n",
    "* в тарифе без подписки пользователи проезжают от 2 до 5 км, время таких поездок составляет от 8 до 25 минут\n",
    "* в тарифе с подпиской пользователи также проезжают от 2 до 5 км с явным пиком в 3 км, время поездки в интервале от 10 до 25 минут\n",
    "\n",
    "По графикам распределения можно сделать вывод, что пользователи без подписки проезжают большее расстояние. Время в поездке примерно одинаковое"
   ]
  },
  {
   "cell_type": "markdown",
   "id": "402d620f",
   "metadata": {},
   "source": [
    "#### Шаг 5. Подсчёт выручки"
   ]
  },
  {
   "cell_type": "code",
   "execution_count": 45,
   "id": "53049e0a",
   "metadata": {},
   "outputs": [
    {
     "data": {
      "text/html": [
       "<div>\n",
       "<style scoped>\n",
       "    .dataframe tbody tr th:only-of-type {\n",
       "        vertical-align: middle;\n",
       "    }\n",
       "\n",
       "    .dataframe tbody tr th {\n",
       "        vertical-align: top;\n",
       "    }\n",
       "\n",
       "    .dataframe thead th {\n",
       "        text-align: right;\n",
       "    }\n",
       "</style>\n",
       "<table border=\"1\" class=\"dataframe\">\n",
       "  <thead>\n",
       "    <tr style=\"text-align: right;\">\n",
       "      <th></th>\n",
       "      <th></th>\n",
       "      <th>count</th>\n",
       "      <th>distance</th>\n",
       "      <th>duration</th>\n",
       "      <th>minute_price</th>\n",
       "      <th>start_ride_price</th>\n",
       "      <th>subscription_fee</th>\n",
       "    </tr>\n",
       "    <tr>\n",
       "      <th>user_id</th>\n",
       "      <th>month</th>\n",
       "      <th></th>\n",
       "      <th></th>\n",
       "      <th></th>\n",
       "      <th></th>\n",
       "      <th></th>\n",
       "      <th></th>\n",
       "    </tr>\n",
       "  </thead>\n",
       "  <tbody>\n",
       "    <tr>\n",
       "      <th rowspan=\"5\" valign=\"top\">1</th>\n",
       "      <th>1</th>\n",
       "      <td>2</td>\n",
       "      <td>7027.511294</td>\n",
       "      <td>42.0</td>\n",
       "      <td>6</td>\n",
       "      <td>0</td>\n",
       "      <td>199</td>\n",
       "    </tr>\n",
       "    <tr>\n",
       "      <th>4</th>\n",
       "      <td>1</td>\n",
       "      <td>754.159807</td>\n",
       "      <td>7.0</td>\n",
       "      <td>6</td>\n",
       "      <td>0</td>\n",
       "      <td>199</td>\n",
       "    </tr>\n",
       "    <tr>\n",
       "      <th>8</th>\n",
       "      <td>2</td>\n",
       "      <td>6723.470560</td>\n",
       "      <td>46.0</td>\n",
       "      <td>6</td>\n",
       "      <td>0</td>\n",
       "      <td>199</td>\n",
       "    </tr>\n",
       "    <tr>\n",
       "      <th>10</th>\n",
       "      <td>2</td>\n",
       "      <td>5809.911100</td>\n",
       "      <td>32.0</td>\n",
       "      <td>6</td>\n",
       "      <td>0</td>\n",
       "      <td>199</td>\n",
       "    </tr>\n",
       "    <tr>\n",
       "      <th>11</th>\n",
       "      <td>3</td>\n",
       "      <td>7003.499363</td>\n",
       "      <td>56.0</td>\n",
       "      <td>6</td>\n",
       "      <td>0</td>\n",
       "      <td>199</td>\n",
       "    </tr>\n",
       "  </tbody>\n",
       "</table>\n",
       "</div>"
      ],
      "text/plain": [
       "               count     distance  duration  minute_price  start_ride_price  \\\n",
       "user_id month                                                                 \n",
       "1       1          2  7027.511294      42.0             6                 0   \n",
       "        4          1   754.159807       7.0             6                 0   \n",
       "        8          2  6723.470560      46.0             6                 0   \n",
       "        10         2  5809.911100      32.0             6                 0   \n",
       "        11         3  7003.499363      56.0             6                 0   \n",
       "\n",
       "               subscription_fee  \n",
       "user_id month                    \n",
       "1       1                   199  \n",
       "        4                   199  \n",
       "        8                   199  \n",
       "        10                  199  \n",
       "        11                  199  "
      ]
     },
     "execution_count": 45,
     "metadata": {},
     "output_type": "execute_result"
    }
   ],
   "source": [
    "#найдем суммарное расстояние, количество поездок и суммарное время\n",
    "df['duration'] = np.ceil(df['duration'])\n",
    "data = df.pivot_table(\n",
    "    index=('user_id', 'month'), \n",
    "    values=(\n",
    "        'distance', \n",
    "        'duration', \n",
    "        'minute_price', \n",
    "        'start_ride_price', \n",
    "        'subscription_fee'\n",
    "    ), \n",
    "    aggfunc=({'distance':{'count', 'sum'}, \n",
    "             'duration':'sum',\n",
    "             'minute_price': 'mean',\n",
    "             'start_ride_price':'mean',\n",
    "             'subscription_fee':'mean',})\n",
    ")\n",
    "\n",
    "data.columns = [\n",
    "    'count', 'distance', \n",
    "    'duration', \n",
    "    'minute_price',\n",
    "    'start_ride_price', \n",
    "    'subscription_fee'\n",
    "]\n",
    "\n",
    "data.head()"
   ]
  },
  {
   "cell_type": "code",
   "execution_count": 46,
   "id": "d7eccb98",
   "metadata": {},
   "outputs": [
    {
     "data": {
      "text/html": [
       "<div>\n",
       "<style scoped>\n",
       "    .dataframe tbody tr th:only-of-type {\n",
       "        vertical-align: middle;\n",
       "    }\n",
       "\n",
       "    .dataframe tbody tr th {\n",
       "        vertical-align: top;\n",
       "    }\n",
       "\n",
       "    .dataframe thead th {\n",
       "        text-align: right;\n",
       "    }\n",
       "</style>\n",
       "<table border=\"1\" class=\"dataframe\">\n",
       "  <thead>\n",
       "    <tr style=\"text-align: right;\">\n",
       "      <th></th>\n",
       "      <th></th>\n",
       "      <th>count</th>\n",
       "      <th>distance</th>\n",
       "      <th>duration</th>\n",
       "      <th>subscription_fee</th>\n",
       "      <th>revenue</th>\n",
       "    </tr>\n",
       "    <tr>\n",
       "      <th>user_id</th>\n",
       "      <th>month</th>\n",
       "      <th></th>\n",
       "      <th></th>\n",
       "      <th></th>\n",
       "      <th></th>\n",
       "      <th></th>\n",
       "    </tr>\n",
       "  </thead>\n",
       "  <tbody>\n",
       "    <tr>\n",
       "      <th rowspan=\"6\" valign=\"top\">1</th>\n",
       "      <th>1</th>\n",
       "      <td>2</td>\n",
       "      <td>7027.511294</td>\n",
       "      <td>42.0</td>\n",
       "      <td>199</td>\n",
       "      <td>451</td>\n",
       "    </tr>\n",
       "    <tr>\n",
       "      <th>4</th>\n",
       "      <td>1</td>\n",
       "      <td>754.159807</td>\n",
       "      <td>7.0</td>\n",
       "      <td>199</td>\n",
       "      <td>241</td>\n",
       "    </tr>\n",
       "    <tr>\n",
       "      <th>8</th>\n",
       "      <td>2</td>\n",
       "      <td>6723.470560</td>\n",
       "      <td>46.0</td>\n",
       "      <td>199</td>\n",
       "      <td>475</td>\n",
       "    </tr>\n",
       "    <tr>\n",
       "      <th>10</th>\n",
       "      <td>2</td>\n",
       "      <td>5809.911100</td>\n",
       "      <td>32.0</td>\n",
       "      <td>199</td>\n",
       "      <td>391</td>\n",
       "    </tr>\n",
       "    <tr>\n",
       "      <th>11</th>\n",
       "      <td>3</td>\n",
       "      <td>7003.499363</td>\n",
       "      <td>56.0</td>\n",
       "      <td>199</td>\n",
       "      <td>535</td>\n",
       "    </tr>\n",
       "    <tr>\n",
       "      <th>12</th>\n",
       "      <td>2</td>\n",
       "      <td>6751.629942</td>\n",
       "      <td>28.0</td>\n",
       "      <td>199</td>\n",
       "      <td>367</td>\n",
       "    </tr>\n",
       "    <tr>\n",
       "      <th rowspan=\"4\" valign=\"top\">2</th>\n",
       "      <th>3</th>\n",
       "      <td>3</td>\n",
       "      <td>10187.723006</td>\n",
       "      <td>63.0</td>\n",
       "      <td>199</td>\n",
       "      <td>577</td>\n",
       "    </tr>\n",
       "    <tr>\n",
       "      <th>4</th>\n",
       "      <td>2</td>\n",
       "      <td>6164.381824</td>\n",
       "      <td>40.0</td>\n",
       "      <td>199</td>\n",
       "      <td>439</td>\n",
       "    </tr>\n",
       "    <tr>\n",
       "      <th>6</th>\n",
       "      <td>1</td>\n",
       "      <td>3255.338202</td>\n",
       "      <td>14.0</td>\n",
       "      <td>199</td>\n",
       "      <td>283</td>\n",
       "    </tr>\n",
       "    <tr>\n",
       "      <th>7</th>\n",
       "      <td>2</td>\n",
       "      <td>6780.722964</td>\n",
       "      <td>48.0</td>\n",
       "      <td>199</td>\n",
       "      <td>487</td>\n",
       "    </tr>\n",
       "  </tbody>\n",
       "</table>\n",
       "</div>"
      ],
      "text/plain": [
       "               count      distance  duration  subscription_fee  revenue\n",
       "user_id month                                                          \n",
       "1       1          2   7027.511294      42.0               199      451\n",
       "        4          1    754.159807       7.0               199      241\n",
       "        8          2   6723.470560      46.0               199      475\n",
       "        10         2   5809.911100      32.0               199      391\n",
       "        11         3   7003.499363      56.0               199      535\n",
       "        12         2   6751.629942      28.0               199      367\n",
       "2       3          3  10187.723006      63.0               199      577\n",
       "        4          2   6164.381824      40.0               199      439\n",
       "        6          1   3255.338202      14.0               199      283\n",
       "        7          2   6780.722964      48.0               199      487"
      ]
     },
     "execution_count": 46,
     "metadata": {},
     "output_type": "execute_result"
    }
   ],
   "source": [
    "#добавим столбец с помесячной выручкой\n",
    "data['revenue'] = (\n",
    "    (data['start_ride_price'] * data['count']) \n",
    "    + (data['minute_price'] * data['duration']) \n",
    "    + data['subscription_fee']\n",
    ")\n",
    "data['revenue'] = data['revenue'].astype('uint16')\n",
    "#удалим лишние столбцы\n",
    "data = data.drop(['start_ride_price', 'minute_price'], axis=1)\n",
    "data.head(10)"
   ]
  },
  {
   "cell_type": "markdown",
   "id": "41545ac0",
   "metadata": {},
   "source": [
    "#### Шаг 6. Проверка гипотез"
   ]
  },
  {
   "cell_type": "markdown",
   "id": "46f64719",
   "metadata": {},
   "source": [
    "**Гипотеза №1:** Проверим, тратят ли пользователи с подпиской больше времени на поездку"
   ]
  },
  {
   "cell_type": "markdown",
   "id": "f6922a1c",
   "metadata": {},
   "source": [
    "H_0: Время пользователей на подписке ultra = время пользователей на подписке free\n",
    "\n",
    "H_1: Время пользователей на подписке ultra > время пользователей на подписке free"
   ]
  },
  {
   "cell_type": "code",
   "execution_count": 47,
   "id": "23ea867b",
   "metadata": {},
   "outputs": [
    {
     "name": "stdout",
     "output_type": "stream",
     "text": [
      "1.2804098316645618e-34\n",
      "Отвергаем нулевую гипотезу\n"
     ]
    }
   ],
   "source": [
    "ultra = ultra_sub['duration'] \n",
    "\n",
    "free = free_sub['duration']\n",
    "\n",
    "results = st.ttest_ind(ultra, \n",
    "                       free,\n",
    "                       alternative = 'greater')\n",
    "\n",
    "alpha = 0.05\n",
    "\n",
    "print(results.pvalue)\n",
    "\n",
    "if results.pvalue < alpha:\n",
    "    print('Отвергаем нулевую гипотезу')\n",
    "else:\n",
    "    print('Не удалось отвергнуть нулевую гипотезу')"
   ]
  },
  {
   "cell_type": "markdown",
   "id": "f285b59e",
   "metadata": {},
   "source": [
    "**При установленном уровне статистическоц значимости нулевая гипотеза отвергнута, время одной поездки пользователей с подпиской превышает время пользователей без подписки**"
   ]
  },
  {
   "cell_type": "markdown",
   "id": "cb5d9429",
   "metadata": {},
   "source": [
    "**Гипотеза №2:** Проверим, превышает ли расстояние одной поездки пользователей с подпиской 3130 метров"
   ]
  },
  {
   "cell_type": "markdown",
   "id": "24bc14dd",
   "metadata": {},
   "source": [
    "H_0: Расстояние пользователей на подписке ultra = 3130 метров\n",
    "\n",
    "H_1: Расстояние пользователей на подписке ultra < 3130 метров\n"
   ]
  },
  {
   "cell_type": "code",
   "execution_count": 48,
   "id": "029fc312",
   "metadata": {},
   "outputs": [
    {
     "name": "stdout",
     "output_type": "stream",
     "text": [
      "0.08046311521502146\n",
      "Не удалось отвергнуть нулевую гипотезу\n"
     ]
    }
   ],
   "source": [
    "ultra_dist = ultra_sub['distance']\n",
    "\n",
    "interested_value = 3130.0\n",
    "\n",
    "alpha = 0.05\n",
    "\n",
    "results = st.ttest_1samp(\n",
    "    ultra_dist, \n",
    "    interested_value,\n",
    "    alternative='less')\n",
    "    \n",
    "print(results.pvalue)\n",
    "\n",
    "if (results.pvalue < alpha):\n",
    "    print('Отвергаем нулевую гипотезу')\n",
    "else:\n",
    "    print('Не удалось отвергнуть нулевую гипотезу')"
   ]
  },
  {
   "cell_type": "markdown",
   "id": "21eb6c4c",
   "metadata": {},
   "source": [
    "**При установленном уровне статистической значимости не получилось отвергнуть нулевую гипотезу, среднее расстояние одной поездки пользователей с подпиской не превышает оптимальное расстояние в 3130 м**"
   ]
  },
  {
   "cell_type": "markdown",
   "id": "f5f3e7ca",
   "metadata": {},
   "source": [
    "**Гипотеза №2 (альтернативная):** Проверим, НЕ превышает ли расстояние одной поездки пользователей с подпиской 3130 метров"
   ]
  },
  {
   "cell_type": "markdown",
   "id": "efe0c0b2",
   "metadata": {},
   "source": [
    "H_0: Расстояние пользователей на подписке ultra = 3130 метров\n",
    "\n",
    "H_1: Расстояние пользователей на подписке ultra > 3130 метров\n"
   ]
  },
  {
   "cell_type": "code",
   "execution_count": 49,
   "id": "d2f35953",
   "metadata": {},
   "outputs": [
    {
     "name": "stdout",
     "output_type": "stream",
     "text": [
      "0.9195368847849785\n",
      "Не удалось отвергнуть нулевую гипотезу\n"
     ]
    }
   ],
   "source": [
    "ultra_dist = ultra_sub['distance']\n",
    "\n",
    "interested_value = 3130.0\n",
    "\n",
    "alpha = 0.05\n",
    "\n",
    "results = st.ttest_1samp(\n",
    "    ultra_dist, \n",
    "    interested_value,\n",
    "    alternative='greater')\n",
    "    \n",
    "print(results.pvalue)\n",
    "\n",
    "if (results.pvalue < alpha):\n",
    "    print('Отвергаем нулевую гипотезу')\n",
    "else:\n",
    "    print('Не удалось отвергнуть нулевую гипотезу')"
   ]
  },
  {
   "cell_type": "markdown",
   "id": "9e71b2b7",
   "metadata": {},
   "source": [
    "**Не получилось отвергнуть нулевую гипотезу, среднее расстояние одной поездки пользователей с подпиской не превышает оптимальное расстояние в 3130 м**"
   ]
  },
  {
   "cell_type": "markdown",
   "id": "f500c722",
   "metadata": {},
   "source": [
    "**Гипотеза №3:** Проверим, будет ли помесячная выручка от пользователй с подпиской по месяцам выше, чем выручка от пользователей без подписки"
   ]
  },
  {
   "cell_type": "markdown",
   "id": "a523f194",
   "metadata": {},
   "source": [
    "H_0: Выручка пользователей на подписке ultra = выручке пользователей на подписке free\n",
    "\n",
    "H_1: Выручка пользователей на подписке ultra > выручки пользователей на подписке free"
   ]
  },
  {
   "cell_type": "code",
   "execution_count": 50,
   "id": "a2359ef6",
   "metadata": {
    "scrolled": true
   },
   "outputs": [
    {
     "name": "stdout",
     "output_type": "stream",
     "text": [
      "1.8850394384715216e-31\n",
      "Отвергаем нулевую гипотезу\n"
     ]
    }
   ],
   "source": [
    "results = st.ttest_ind(\n",
    "    data.loc[data['subscription_fee'] > 0, 'revenue'], \n",
    "    data.loc[data['subscription_fee'] == 0, 'revenue'], \n",
    "    equal_var=True, \n",
    "    alternative='greater')\n",
    "print(results.pvalue)\n",
    "\n",
    "alpha = 0.05\n",
    "if results.pvalue < alpha:\n",
    "    print('Отвергаем нулевую гипотезу')\n",
    "else:\n",
    "    print('Не получилось отвергнуть нулевую гипотезу')"
   ]
  },
  {
   "cell_type": "markdown",
   "id": "154ae8fe",
   "metadata": {},
   "source": [
    "**При установленном уровне статистической значимости нулевая гипотеза отвергнута, помесячная выручка от пользователй с подпиской по месяцам выше, чем выручка от пользователей без подписки**"
   ]
  },
  {
   "cell_type": "markdown",
   "id": "e5c5f2aa",
   "metadata": {},
   "source": [
    "**Гипотеза №4 (теоретическая)** "
   ]
  },
  {
   "cell_type": "markdown",
   "id": "7168049b",
   "metadata": {},
   "source": [
    "Нужно использовать гипотезу о равенстве средних для зависимых (парных) выборок.\n",
    "\n",
    "H0 : μ1 = μ2\n",
    "\n",
    "H1 : μ1 != μ2\n",
    "\n",
    "где μ1 и μ2 - средние значения количество обращений в техподдержку до и после изменения.\n",
    "\n",
    "Метод, который нужно использовать при сравнении: scipy.stats.ttest_rel()"
   ]
  },
  {
   "cell_type": "markdown",
   "id": "61213c5e",
   "metadata": {},
   "source": [
    "#### Шаг 7. Общий вывод"
   ]
  },
  {
   "cell_type": "markdown",
   "id": "4294b60b",
   "metadata": {},
   "source": [
    "В ходе исследования проанализировали данные и проверили гипотезы, которые могут помочь бизнесу вырасти.\n",
    "\n",
    "В ходе анализа было выявлено:\n",
    "- распределние пользователей по городам примерно одинаковое, в основном преобладают южные регионы\n",
    "- пользователей без подписки на 8% больше, чем пользователей с подпиской ultra\n",
    "- сервсисом пользуются люди от 12 до 43 лет, средний возраст пользователя -  25 лет\n",
    "- в среднем пользователь за одну поездку проезжал 3 км, среднее время в пути - 17 минут\n",
    "\n",
    "После объединения датафреймов:\n",
    "* в тарифе без подписки пользователи проезжают от 2 до 5 км, время таких поездок составляет от 8 до 25 минут\n",
    "* в тарифе с подпиской пользователи также проезжают от 2 до 5 км с явным пиком в 3 км, время поездки в интервале от 10 до 25 минут\n",
    "\n",
    "По графикам распределения можно сделать вывод, что пользователи без подписки проезжают большее расстояние. Время в поездке примерно одинаковое\n",
    "\n",
    "По результатам проверки гипотез было определено:\n",
    "- время одной поездки пользователей с подпиской превышает время пользователей без подписки\n",
    "- среднее расстояние одной поездки пользователей с подпиской не превышает оптимальное расстояние в 3130 м\n",
    "- помесячная выручка от пользователй с подпиской по месяцам выше, чем выручка от пользователей без подписки\n",
    "\n",
    "Рекомендации по развитию сервиса\n",
    "1. Так как клиенты без подписки в среднем проезжают большее расстояние за одну поездку, чем клиенты с подпиской ultra, то потенциально они могут принести компании хорошую прибыль. Необходимо привлечь данных пользователей, путем рассылки промокода или бесплатного пробного периода на условиях подписки Ultra\n",
    "2. Оптимизировать расположение самокатов в городе, разместить их в местах большего скопления людей\n",
    "3. Разработать программу лояльности для действующих клиентов, которые активно пользуются сервисом. Можно разработать реферальную программу, по которой за одного привлеченного клиента месяц подписки в подарок"
   ]
  }
 ],
 "metadata": {
  "ExecuteTimeLog": [
   {
    "duration": 1452,
    "start_time": "2024-09-22T12:14:47.231Z"
   },
   {
    "duration": 3,
    "start_time": "2024-09-22T12:15:04.167Z"
   },
   {
    "duration": 311,
    "start_time": "2024-09-22T12:18:43.261Z"
   },
   {
    "duration": 72,
    "start_time": "2024-09-22T12:19:27.753Z"
   },
   {
    "duration": 11,
    "start_time": "2024-09-22T12:19:48.774Z"
   },
   {
    "duration": 9,
    "start_time": "2024-09-22T12:19:59.024Z"
   },
   {
    "duration": 68,
    "start_time": "2024-09-22T12:20:45.313Z"
   },
   {
    "duration": 7,
    "start_time": "2024-09-22T12:20:45.749Z"
   },
   {
    "duration": 1297,
    "start_time": "2024-09-22T12:20:55.789Z"
   },
   {
    "duration": 71,
    "start_time": "2024-09-22T12:20:57.088Z"
   },
   {
    "duration": 13,
    "start_time": "2024-09-22T12:20:57.161Z"
   },
   {
    "duration": 1322,
    "start_time": "2024-09-22T12:21:57.761Z"
   },
   {
    "duration": 71,
    "start_time": "2024-09-22T12:21:59.085Z"
   },
   {
    "duration": 13,
    "start_time": "2024-09-22T12:21:59.158Z"
   },
   {
    "duration": 2,
    "start_time": "2024-09-22T12:23:38.448Z"
   },
   {
    "duration": 86,
    "start_time": "2024-09-22T12:23:38.452Z"
   },
   {
    "duration": 19,
    "start_time": "2024-09-22T12:27:49.681Z"
   },
   {
    "duration": 17,
    "start_time": "2024-09-22T12:28:15.562Z"
   },
   {
    "duration": 7,
    "start_time": "2024-09-22T12:28:32.576Z"
   },
   {
    "duration": 15,
    "start_time": "2024-09-22T12:28:38.456Z"
   },
   {
    "duration": 6,
    "start_time": "2024-09-22T12:43:47.980Z"
   },
   {
    "duration": 25,
    "start_time": "2024-09-22T12:44:25.715Z"
   },
   {
    "duration": 5,
    "start_time": "2024-09-22T12:44:43.367Z"
   },
   {
    "duration": 105,
    "start_time": "2024-09-22T12:49:47.246Z"
   },
   {
    "duration": 10,
    "start_time": "2024-09-22T12:50:05.713Z"
   },
   {
    "duration": 8,
    "start_time": "2024-09-22T12:50:14.799Z"
   },
   {
    "duration": 3,
    "start_time": "2024-09-22T12:51:45.627Z"
   },
   {
    "duration": 6,
    "start_time": "2024-09-22T12:54:11.555Z"
   },
   {
    "duration": 7,
    "start_time": "2024-09-22T12:54:24.620Z"
   },
   {
    "duration": 9,
    "start_time": "2024-09-22T12:59:06.105Z"
   },
   {
    "duration": 6,
    "start_time": "2024-09-22T12:59:30.858Z"
   },
   {
    "duration": 8,
    "start_time": "2024-09-22T12:59:31.299Z"
   },
   {
    "duration": 5,
    "start_time": "2024-09-22T12:59:47.936Z"
   },
   {
    "duration": 1350,
    "start_time": "2024-09-22T12:59:57.058Z"
   },
   {
    "duration": 69,
    "start_time": "2024-09-22T12:59:58.411Z"
   },
   {
    "duration": 19,
    "start_time": "2024-09-22T12:59:58.482Z"
   },
   {
    "duration": 16,
    "start_time": "2024-09-22T12:59:58.502Z"
   },
   {
    "duration": 15,
    "start_time": "2024-09-22T12:59:58.520Z"
   },
   {
    "duration": 6,
    "start_time": "2024-09-22T12:59:58.536Z"
   },
   {
    "duration": 36,
    "start_time": "2024-09-22T12:59:58.544Z"
   },
   {
    "duration": 28,
    "start_time": "2024-09-22T12:59:58.582Z"
   },
   {
    "duration": 8,
    "start_time": "2024-09-22T12:59:58.612Z"
   },
   {
    "duration": 8,
    "start_time": "2024-09-22T12:59:58.622Z"
   },
   {
    "duration": 7,
    "start_time": "2024-09-22T12:59:58.631Z"
   },
   {
    "duration": 9,
    "start_time": "2024-09-22T12:59:58.639Z"
   },
   {
    "duration": 5,
    "start_time": "2024-09-22T12:59:58.650Z"
   },
   {
    "duration": 1275,
    "start_time": "2024-09-22T13:15:42.220Z"
   },
   {
    "duration": 72,
    "start_time": "2024-09-22T13:15:43.497Z"
   },
   {
    "duration": 21,
    "start_time": "2024-09-22T13:15:43.570Z"
   },
   {
    "duration": 18,
    "start_time": "2024-09-22T13:15:43.592Z"
   },
   {
    "duration": 15,
    "start_time": "2024-09-22T13:15:43.611Z"
   },
   {
    "duration": 7,
    "start_time": "2024-09-22T13:15:43.627Z"
   },
   {
    "duration": 11,
    "start_time": "2024-09-22T13:15:43.635Z"
   },
   {
    "duration": 30,
    "start_time": "2024-09-22T13:15:43.647Z"
   },
   {
    "duration": 16,
    "start_time": "2024-09-22T13:15:43.678Z"
   },
   {
    "duration": 7,
    "start_time": "2024-09-22T13:15:43.697Z"
   },
   {
    "duration": 6,
    "start_time": "2024-09-22T13:15:43.706Z"
   },
   {
    "duration": 13,
    "start_time": "2024-09-22T13:15:43.713Z"
   },
   {
    "duration": 8,
    "start_time": "2024-09-22T13:15:43.728Z"
   },
   {
    "duration": 38,
    "start_time": "2024-09-22T13:15:43.738Z"
   },
   {
    "duration": 3,
    "start_time": "2024-09-22T13:17:54.302Z"
   },
   {
    "duration": 66,
    "start_time": "2024-09-22T13:17:54.307Z"
   },
   {
    "duration": 15,
    "start_time": "2024-09-22T13:17:54.375Z"
   },
   {
    "duration": 24,
    "start_time": "2024-09-22T13:17:59.614Z"
   },
   {
    "duration": 17,
    "start_time": "2024-09-22T13:17:59.640Z"
   },
   {
    "duration": 6,
    "start_time": "2024-09-22T13:17:59.659Z"
   },
   {
    "duration": 8,
    "start_time": "2024-09-22T13:18:00.129Z"
   },
   {
    "duration": 14,
    "start_time": "2024-09-22T13:18:00.138Z"
   },
   {
    "duration": 10,
    "start_time": "2024-09-22T13:18:00.154Z"
   },
   {
    "duration": 25,
    "start_time": "2024-09-22T13:18:00.166Z"
   },
   {
    "duration": 37,
    "start_time": "2024-09-22T13:18:00.194Z"
   },
   {
    "duration": 6,
    "start_time": "2024-09-22T13:18:00.233Z"
   },
   {
    "duration": 7,
    "start_time": "2024-09-22T13:18:01.377Z"
   },
   {
    "duration": 1367,
    "start_time": "2024-09-22T13:18:47.245Z"
   },
   {
    "duration": 69,
    "start_time": "2024-09-22T13:18:48.614Z"
   },
   {
    "duration": 19,
    "start_time": "2024-09-22T13:18:48.684Z"
   },
   {
    "duration": 17,
    "start_time": "2024-09-22T13:18:48.705Z"
   },
   {
    "duration": 14,
    "start_time": "2024-09-22T13:18:48.723Z"
   },
   {
    "duration": 6,
    "start_time": "2024-09-22T13:18:48.739Z"
   },
   {
    "duration": 31,
    "start_time": "2024-09-22T13:18:48.746Z"
   },
   {
    "duration": 7,
    "start_time": "2024-09-22T13:18:48.779Z"
   },
   {
    "duration": 8,
    "start_time": "2024-09-22T13:18:48.788Z"
   },
   {
    "duration": 7,
    "start_time": "2024-09-22T13:18:48.798Z"
   },
   {
    "duration": 7,
    "start_time": "2024-09-22T13:18:48.807Z"
   },
   {
    "duration": 6,
    "start_time": "2024-09-22T13:18:48.815Z"
   },
   {
    "duration": 53,
    "start_time": "2024-09-22T13:18:48.822Z"
   },
   {
    "duration": 9,
    "start_time": "2024-09-22T13:18:48.877Z"
   },
   {
    "duration": 22,
    "start_time": "2024-09-22T13:18:48.888Z"
   },
   {
    "duration": 3,
    "start_time": "2024-09-22T13:22:59.903Z"
   },
   {
    "duration": 5,
    "start_time": "2024-09-22T13:23:18.033Z"
   },
   {
    "duration": 165,
    "start_time": "2024-09-22T13:28:52.781Z"
   },
   {
    "duration": 5,
    "start_time": "2024-09-22T13:38:59.418Z"
   },
   {
    "duration": 106,
    "start_time": "2024-09-22T13:40:53.032Z"
   },
   {
    "duration": 93,
    "start_time": "2024-09-22T13:41:14.067Z"
   },
   {
    "duration": 6,
    "start_time": "2024-09-22T13:46:06.838Z"
   },
   {
    "duration": 1280,
    "start_time": "2024-09-22T13:50:12.505Z"
   },
   {
    "duration": 69,
    "start_time": "2024-09-22T13:50:13.787Z"
   },
   {
    "duration": 22,
    "start_time": "2024-09-22T13:50:13.857Z"
   },
   {
    "duration": 18,
    "start_time": "2024-09-22T13:50:13.881Z"
   },
   {
    "duration": 16,
    "start_time": "2024-09-22T13:50:13.902Z"
   },
   {
    "duration": 6,
    "start_time": "2024-09-22T13:50:13.920Z"
   },
   {
    "duration": 49,
    "start_time": "2024-09-22T13:50:13.928Z"
   },
   {
    "duration": 6,
    "start_time": "2024-09-22T13:50:13.979Z"
   },
   {
    "duration": 8,
    "start_time": "2024-09-22T13:50:13.987Z"
   },
   {
    "duration": 8,
    "start_time": "2024-09-22T13:50:13.997Z"
   },
   {
    "duration": 7,
    "start_time": "2024-09-22T13:50:14.006Z"
   },
   {
    "duration": 6,
    "start_time": "2024-09-22T13:50:14.015Z"
   },
   {
    "duration": 12,
    "start_time": "2024-09-22T13:50:14.023Z"
   },
   {
    "duration": 45,
    "start_time": "2024-09-22T13:50:14.038Z"
   },
   {
    "duration": 5,
    "start_time": "2024-09-22T13:50:14.084Z"
   },
   {
    "duration": 6,
    "start_time": "2024-09-22T13:50:14.090Z"
   },
   {
    "duration": 183,
    "start_time": "2024-09-22T13:50:14.098Z"
   },
   {
    "duration": 5,
    "start_time": "2024-09-22T13:50:14.283Z"
   },
   {
    "duration": 102,
    "start_time": "2024-09-22T13:50:14.289Z"
   },
   {
    "duration": 5,
    "start_time": "2024-09-22T13:50:14.393Z"
   },
   {
    "duration": 4,
    "start_time": "2024-09-22T13:51:04.832Z"
   },
   {
    "duration": 5,
    "start_time": "2024-09-22T13:51:08.957Z"
   },
   {
    "duration": 293,
    "start_time": "2024-09-22T13:54:41.039Z"
   },
   {
    "duration": 54,
    "start_time": "2024-09-22T13:54:55.996Z"
   },
   {
    "duration": 46,
    "start_time": "2024-09-22T13:55:13.343Z"
   },
   {
    "duration": 54,
    "start_time": "2024-09-22T13:55:27.947Z"
   },
   {
    "duration": 292,
    "start_time": "2024-09-22T13:55:45.738Z"
   },
   {
    "duration": 1289,
    "start_time": "2024-09-22T13:56:18.537Z"
   },
   {
    "duration": 68,
    "start_time": "2024-09-22T13:56:19.829Z"
   },
   {
    "duration": 20,
    "start_time": "2024-09-22T13:56:19.898Z"
   },
   {
    "duration": 18,
    "start_time": "2024-09-22T13:56:19.920Z"
   },
   {
    "duration": 15,
    "start_time": "2024-09-22T13:56:19.939Z"
   },
   {
    "duration": 22,
    "start_time": "2024-09-22T13:56:19.955Z"
   },
   {
    "duration": 8,
    "start_time": "2024-09-22T13:56:19.979Z"
   },
   {
    "duration": 5,
    "start_time": "2024-09-22T13:56:19.988Z"
   },
   {
    "duration": 7,
    "start_time": "2024-09-22T13:56:19.995Z"
   },
   {
    "duration": 8,
    "start_time": "2024-09-22T13:56:20.004Z"
   },
   {
    "duration": 6,
    "start_time": "2024-09-22T13:56:20.014Z"
   },
   {
    "duration": 6,
    "start_time": "2024-09-22T13:56:20.022Z"
   },
   {
    "duration": 50,
    "start_time": "2024-09-22T13:56:20.030Z"
   },
   {
    "duration": 7,
    "start_time": "2024-09-22T13:56:20.082Z"
   },
   {
    "duration": 5,
    "start_time": "2024-09-22T13:56:20.090Z"
   },
   {
    "duration": 5,
    "start_time": "2024-09-22T13:56:20.097Z"
   },
   {
    "duration": 189,
    "start_time": "2024-09-22T13:56:20.103Z"
   },
   {
    "duration": 6,
    "start_time": "2024-09-22T13:56:20.293Z"
   },
   {
    "duration": 108,
    "start_time": "2024-09-22T13:56:20.300Z"
   },
   {
    "duration": 6,
    "start_time": "2024-09-22T13:56:20.409Z"
   },
   {
    "duration": 334,
    "start_time": "2024-09-22T13:56:20.416Z"
   },
   {
    "duration": 302,
    "start_time": "2024-09-22T13:58:45.965Z"
   },
   {
    "duration": 818,
    "start_time": "2024-09-22T14:03:13.158Z"
   },
   {
    "duration": 249,
    "start_time": "2024-09-22T14:03:23.035Z"
   },
   {
    "duration": 373,
    "start_time": "2024-09-22T14:03:27.702Z"
   },
   {
    "duration": 483,
    "start_time": "2024-09-22T14:03:38.900Z"
   },
   {
    "duration": 10,
    "start_time": "2024-09-22T14:03:57.676Z"
   },
   {
    "duration": 407,
    "start_time": "2024-09-22T14:03:57.982Z"
   },
   {
    "duration": 111,
    "start_time": "2024-09-22T14:07:16.678Z"
   },
   {
    "duration": 16,
    "start_time": "2024-09-22T14:07:33.176Z"
   },
   {
    "duration": 1268,
    "start_time": "2024-09-22T14:08:41.628Z"
   },
   {
    "duration": 69,
    "start_time": "2024-09-22T14:08:42.898Z"
   },
   {
    "duration": 20,
    "start_time": "2024-09-22T14:08:42.969Z"
   },
   {
    "duration": 19,
    "start_time": "2024-09-22T14:08:42.990Z"
   },
   {
    "duration": 15,
    "start_time": "2024-09-22T14:08:43.011Z"
   },
   {
    "duration": 6,
    "start_time": "2024-09-22T14:08:43.028Z"
   },
   {
    "duration": 40,
    "start_time": "2024-09-22T14:08:43.036Z"
   },
   {
    "duration": 30,
    "start_time": "2024-09-22T14:08:43.078Z"
   },
   {
    "duration": 15,
    "start_time": "2024-09-22T14:08:43.109Z"
   },
   {
    "duration": 8,
    "start_time": "2024-09-22T14:08:43.125Z"
   },
   {
    "duration": 7,
    "start_time": "2024-09-22T14:08:43.135Z"
   },
   {
    "duration": 13,
    "start_time": "2024-09-22T14:08:43.143Z"
   },
   {
    "duration": 11,
    "start_time": "2024-09-22T14:08:43.158Z"
   },
   {
    "duration": 9,
    "start_time": "2024-09-22T14:08:43.172Z"
   },
   {
    "duration": 8,
    "start_time": "2024-09-22T14:08:43.182Z"
   },
   {
    "duration": 6,
    "start_time": "2024-09-22T14:08:43.192Z"
   },
   {
    "duration": 200,
    "start_time": "2024-09-22T14:08:43.199Z"
   },
   {
    "duration": 6,
    "start_time": "2024-09-22T14:08:43.400Z"
   },
   {
    "duration": 100,
    "start_time": "2024-09-22T14:08:43.407Z"
   },
   {
    "duration": 316,
    "start_time": "2024-09-22T14:08:43.509Z"
   },
   {
    "duration": 8,
    "start_time": "2024-09-22T14:08:43.827Z"
   },
   {
    "duration": 122,
    "start_time": "2024-09-22T14:08:43.836Z"
   },
   {
    "duration": 637,
    "start_time": "2024-09-22T14:09:31.372Z"
   },
   {
    "duration": 54,
    "start_time": "2024-09-22T14:11:08.625Z"
   },
   {
    "duration": 54,
    "start_time": "2024-09-22T14:11:14.370Z"
   },
   {
    "duration": 76,
    "start_time": "2024-09-22T14:11:31.681Z"
   },
   {
    "duration": 60,
    "start_time": "2024-09-22T14:11:58.766Z"
   },
   {
    "duration": 65,
    "start_time": "2024-09-22T14:12:11.848Z"
   },
   {
    "duration": 56,
    "start_time": "2024-09-22T14:18:37.430Z"
   },
   {
    "duration": 16,
    "start_time": "2024-09-22T14:22:17.047Z"
   },
   {
    "duration": 10,
    "start_time": "2024-09-22T14:23:42.648Z"
   },
   {
    "duration": 905,
    "start_time": "2024-09-22T14:23:49.171Z"
   },
   {
    "duration": 9,
    "start_time": "2024-09-22T14:26:01.525Z"
   },
   {
    "duration": 195,
    "start_time": "2024-09-22T14:26:55.367Z"
   },
   {
    "duration": 197,
    "start_time": "2024-09-22T14:26:59.906Z"
   },
   {
    "duration": 191,
    "start_time": "2024-09-22T14:27:10.828Z"
   },
   {
    "duration": 203,
    "start_time": "2024-09-22T14:27:17.158Z"
   },
   {
    "duration": 424,
    "start_time": "2024-09-22T14:27:42.253Z"
   },
   {
    "duration": 15,
    "start_time": "2024-09-22T14:30:43.075Z"
   },
   {
    "duration": 25,
    "start_time": "2024-09-22T14:30:50.708Z"
   },
   {
    "duration": 1321,
    "start_time": "2024-09-22T14:31:01.459Z"
   },
   {
    "duration": 68,
    "start_time": "2024-09-22T14:31:02.782Z"
   },
   {
    "duration": 20,
    "start_time": "2024-09-22T14:31:02.851Z"
   },
   {
    "duration": 44,
    "start_time": "2024-09-22T14:31:02.872Z"
   },
   {
    "duration": 15,
    "start_time": "2024-09-22T14:31:02.918Z"
   },
   {
    "duration": 13,
    "start_time": "2024-09-22T14:31:02.935Z"
   },
   {
    "duration": 10,
    "start_time": "2024-09-22T14:31:02.949Z"
   },
   {
    "duration": 5,
    "start_time": "2024-09-22T14:31:02.960Z"
   },
   {
    "duration": 32,
    "start_time": "2024-09-22T14:31:02.967Z"
   },
   {
    "duration": 7,
    "start_time": "2024-09-22T14:31:03.000Z"
   },
   {
    "duration": 6,
    "start_time": "2024-09-22T14:31:03.009Z"
   },
   {
    "duration": 13,
    "start_time": "2024-09-22T14:31:03.016Z"
   },
   {
    "duration": 7,
    "start_time": "2024-09-22T14:31:03.031Z"
   },
   {
    "duration": 11,
    "start_time": "2024-09-22T14:31:03.041Z"
   },
   {
    "duration": 24,
    "start_time": "2024-09-22T14:31:03.053Z"
   },
   {
    "duration": 6,
    "start_time": "2024-09-22T14:31:03.078Z"
   },
   {
    "duration": 172,
    "start_time": "2024-09-22T14:31:03.086Z"
   },
   {
    "duration": 6,
    "start_time": "2024-09-22T14:31:03.260Z"
   },
   {
    "duration": 101,
    "start_time": "2024-09-22T14:31:03.276Z"
   },
   {
    "duration": 315,
    "start_time": "2024-09-22T14:31:03.379Z"
   },
   {
    "duration": 8,
    "start_time": "2024-09-22T14:31:03.695Z"
   },
   {
    "duration": 458,
    "start_time": "2024-09-22T14:31:03.704Z"
   },
   {
    "duration": 13,
    "start_time": "2024-09-22T14:31:04.164Z"
   },
   {
    "duration": 826,
    "start_time": "2024-09-22T14:31:04.179Z"
   },
   {
    "duration": 10,
    "start_time": "2024-09-22T14:31:05.007Z"
   },
   {
    "duration": 221,
    "start_time": "2024-09-22T14:31:05.019Z"
   },
   {
    "duration": 14,
    "start_time": "2024-09-22T14:31:05.242Z"
   },
   {
    "duration": 37,
    "start_time": "2024-09-22T14:31:05.257Z"
   },
   {
    "duration": 159,
    "start_time": "2024-09-22T14:37:17.973Z"
   },
   {
    "duration": 11,
    "start_time": "2024-09-22T14:37:26.103Z"
   },
   {
    "duration": 27,
    "start_time": "2024-09-22T14:37:33.029Z"
   },
   {
    "duration": 10,
    "start_time": "2024-09-22T14:38:57.159Z"
   },
   {
    "duration": 22,
    "start_time": "2024-09-22T14:39:06.672Z"
   },
   {
    "duration": 190,
    "start_time": "2024-09-22T14:41:50.120Z"
   },
   {
    "duration": 174,
    "start_time": "2024-09-22T14:42:23.029Z"
   },
   {
    "duration": 186,
    "start_time": "2024-09-22T14:45:47.313Z"
   },
   {
    "duration": 171,
    "start_time": "2024-09-22T14:46:50.854Z"
   },
   {
    "duration": 1261,
    "start_time": "2024-09-22T14:47:45.726Z"
   },
   {
    "duration": 69,
    "start_time": "2024-09-22T14:47:46.989Z"
   },
   {
    "duration": 19,
    "start_time": "2024-09-22T14:47:47.060Z"
   },
   {
    "duration": 17,
    "start_time": "2024-09-22T14:47:47.081Z"
   },
   {
    "duration": 14,
    "start_time": "2024-09-22T14:47:47.100Z"
   },
   {
    "duration": 7,
    "start_time": "2024-09-22T14:47:47.115Z"
   },
   {
    "duration": 7,
    "start_time": "2024-09-22T14:47:47.123Z"
   },
   {
    "duration": 7,
    "start_time": "2024-09-22T14:47:47.132Z"
   },
   {
    "duration": 41,
    "start_time": "2024-09-22T14:47:47.140Z"
   },
   {
    "duration": 71,
    "start_time": "2024-09-22T14:47:47.182Z"
   },
   {
    "duration": 15,
    "start_time": "2024-09-22T14:47:47.255Z"
   },
   {
    "duration": 5,
    "start_time": "2024-09-22T14:47:47.272Z"
   },
   {
    "duration": 6,
    "start_time": "2024-09-22T14:47:47.279Z"
   },
   {
    "duration": 8,
    "start_time": "2024-09-22T14:47:47.288Z"
   },
   {
    "duration": 4,
    "start_time": "2024-09-22T14:47:47.297Z"
   },
   {
    "duration": 6,
    "start_time": "2024-09-22T14:47:47.303Z"
   },
   {
    "duration": 190,
    "start_time": "2024-09-22T14:47:47.310Z"
   },
   {
    "duration": 6,
    "start_time": "2024-09-22T14:47:47.501Z"
   },
   {
    "duration": 111,
    "start_time": "2024-09-22T14:47:47.508Z"
   },
   {
    "duration": 315,
    "start_time": "2024-09-22T14:47:47.621Z"
   },
   {
    "duration": 9,
    "start_time": "2024-09-22T14:47:47.938Z"
   },
   {
    "duration": 478,
    "start_time": "2024-09-22T14:47:47.948Z"
   },
   {
    "duration": 9,
    "start_time": "2024-09-22T14:47:48.427Z"
   },
   {
    "duration": 830,
    "start_time": "2024-09-22T14:47:48.438Z"
   },
   {
    "duration": 13,
    "start_time": "2024-09-22T14:47:49.270Z"
   },
   {
    "duration": 223,
    "start_time": "2024-09-22T14:47:49.285Z"
   },
   {
    "duration": 15,
    "start_time": "2024-09-22T14:47:49.509Z"
   },
   {
    "duration": 26,
    "start_time": "2024-09-22T14:47:49.526Z"
   },
   {
    "duration": 43,
    "start_time": "2024-09-22T14:47:49.553Z"
   },
   {
    "duration": 20,
    "start_time": "2024-09-22T14:47:49.598Z"
   },
   {
    "duration": 229,
    "start_time": "2024-09-22T14:47:49.619Z"
   },
   {
    "duration": 295,
    "start_time": "2024-09-22T14:47:49.850Z"
   },
   {
    "duration": 196,
    "start_time": "2024-09-22T14:47:50.146Z"
   },
   {
    "duration": 188,
    "start_time": "2024-09-22T14:47:50.344Z"
   },
   {
    "duration": 874,
    "start_time": "2024-09-22T16:01:14.766Z"
   },
   {
    "duration": 14,
    "start_time": "2024-09-22T16:14:34.290Z"
   },
   {
    "duration": 49,
    "start_time": "2024-09-22T16:30:01.539Z"
   },
   {
    "duration": 47,
    "start_time": "2024-09-22T16:35:07.682Z"
   },
   {
    "duration": 183,
    "start_time": "2024-09-22T16:37:28.496Z"
   },
   {
    "duration": 686,
    "start_time": "2024-09-22T16:40:30.031Z"
   },
   {
    "duration": 4,
    "start_time": "2024-09-22T16:41:15.042Z"
   },
   {
    "duration": 3,
    "start_time": "2024-09-22T16:41:31.861Z"
   },
   {
    "duration": 1314,
    "start_time": "2024-09-22T16:43:26.226Z"
   },
   {
    "duration": 81,
    "start_time": "2024-09-22T16:43:27.542Z"
   },
   {
    "duration": 27,
    "start_time": "2024-09-22T16:43:27.625Z"
   },
   {
    "duration": 68,
    "start_time": "2024-09-22T16:43:27.656Z"
   },
   {
    "duration": 49,
    "start_time": "2024-09-22T16:43:27.727Z"
   },
   {
    "duration": 9,
    "start_time": "2024-09-22T16:43:27.779Z"
   },
   {
    "duration": 12,
    "start_time": "2024-09-22T16:43:27.790Z"
   },
   {
    "duration": 9,
    "start_time": "2024-09-22T16:43:27.804Z"
   },
   {
    "duration": 14,
    "start_time": "2024-09-22T16:43:27.815Z"
   },
   {
    "duration": 46,
    "start_time": "2024-09-22T16:43:27.833Z"
   },
   {
    "duration": 6,
    "start_time": "2024-09-22T16:43:27.881Z"
   },
   {
    "duration": 5,
    "start_time": "2024-09-22T16:43:27.888Z"
   },
   {
    "duration": 7,
    "start_time": "2024-09-22T16:43:27.895Z"
   },
   {
    "duration": 8,
    "start_time": "2024-09-22T16:43:27.904Z"
   },
   {
    "duration": 5,
    "start_time": "2024-09-22T16:43:27.913Z"
   },
   {
    "duration": 6,
    "start_time": "2024-09-22T16:43:27.920Z"
   },
   {
    "duration": 196,
    "start_time": "2024-09-22T16:43:27.975Z"
   },
   {
    "duration": 11,
    "start_time": "2024-09-22T16:43:28.177Z"
   },
   {
    "duration": 128,
    "start_time": "2024-09-22T16:43:28.190Z"
   },
   {
    "duration": 344,
    "start_time": "2024-09-22T16:43:28.319Z"
   },
   {
    "duration": 15,
    "start_time": "2024-09-22T16:43:28.664Z"
   },
   {
    "duration": 499,
    "start_time": "2024-09-22T16:43:28.681Z"
   },
   {
    "duration": 12,
    "start_time": "2024-09-22T16:43:29.182Z"
   },
   {
    "duration": 1023,
    "start_time": "2024-09-22T16:43:29.196Z"
   },
   {
    "duration": 10,
    "start_time": "2024-09-22T16:43:30.221Z"
   },
   {
    "duration": 254,
    "start_time": "2024-09-22T16:43:30.233Z"
   },
   {
    "duration": 17,
    "start_time": "2024-09-22T16:43:30.489Z"
   },
   {
    "duration": 28,
    "start_time": "2024-09-22T16:43:30.509Z"
   },
   {
    "duration": 61,
    "start_time": "2024-09-22T16:43:30.539Z"
   },
   {
    "duration": 30,
    "start_time": "2024-09-22T16:43:30.602Z"
   },
   {
    "duration": 258,
    "start_time": "2024-09-22T16:43:30.634Z"
   },
   {
    "duration": 290,
    "start_time": "2024-09-22T16:43:30.895Z"
   },
   {
    "duration": 233,
    "start_time": "2024-09-22T16:43:31.187Z"
   },
   {
    "duration": 205,
    "start_time": "2024-09-22T16:43:31.422Z"
   },
   {
    "duration": 211,
    "start_time": "2024-09-22T16:43:31.628Z"
   },
   {
    "duration": 0,
    "start_time": "2024-09-22T16:43:31.840Z"
   },
   {
    "duration": 1355,
    "start_time": "2024-09-22T16:44:07.672Z"
   },
   {
    "duration": 75,
    "start_time": "2024-09-22T16:44:09.028Z"
   },
   {
    "duration": 22,
    "start_time": "2024-09-22T16:44:09.104Z"
   },
   {
    "duration": 19,
    "start_time": "2024-09-22T16:44:09.127Z"
   },
   {
    "duration": 35,
    "start_time": "2024-09-22T16:44:09.147Z"
   },
   {
    "duration": 9,
    "start_time": "2024-09-22T16:44:09.184Z"
   },
   {
    "duration": 7,
    "start_time": "2024-09-22T16:44:09.194Z"
   },
   {
    "duration": 6,
    "start_time": "2024-09-22T16:44:09.202Z"
   },
   {
    "duration": 7,
    "start_time": "2024-09-22T16:44:09.209Z"
   },
   {
    "duration": 66,
    "start_time": "2024-09-22T16:44:09.218Z"
   },
   {
    "duration": 21,
    "start_time": "2024-09-22T16:44:09.287Z"
   },
   {
    "duration": 5,
    "start_time": "2024-09-22T16:44:09.310Z"
   },
   {
    "duration": 8,
    "start_time": "2024-09-22T16:44:09.317Z"
   },
   {
    "duration": 8,
    "start_time": "2024-09-22T16:44:09.327Z"
   },
   {
    "duration": 6,
    "start_time": "2024-09-22T16:44:09.337Z"
   },
   {
    "duration": 32,
    "start_time": "2024-09-22T16:44:09.345Z"
   },
   {
    "duration": 192,
    "start_time": "2024-09-22T16:44:09.380Z"
   },
   {
    "duration": 6,
    "start_time": "2024-09-22T16:44:09.575Z"
   },
   {
    "duration": 112,
    "start_time": "2024-09-22T16:44:09.583Z"
   },
   {
    "duration": 317,
    "start_time": "2024-09-22T16:44:09.696Z"
   },
   {
    "duration": 9,
    "start_time": "2024-09-22T16:44:10.015Z"
   },
   {
    "duration": 495,
    "start_time": "2024-09-22T16:44:10.025Z"
   },
   {
    "duration": 12,
    "start_time": "2024-09-22T16:44:10.521Z"
   },
   {
    "duration": 877,
    "start_time": "2024-09-22T16:44:10.535Z"
   },
   {
    "duration": 10,
    "start_time": "2024-09-22T16:44:11.413Z"
   },
   {
    "duration": 233,
    "start_time": "2024-09-22T16:44:11.425Z"
   },
   {
    "duration": 23,
    "start_time": "2024-09-22T16:44:11.660Z"
   },
   {
    "duration": 90,
    "start_time": "2024-09-22T16:44:11.687Z"
   },
   {
    "duration": 23,
    "start_time": "2024-09-22T16:44:11.779Z"
   },
   {
    "duration": 23,
    "start_time": "2024-09-22T16:44:11.804Z"
   },
   {
    "duration": 223,
    "start_time": "2024-09-22T16:44:11.828Z"
   },
   {
    "duration": 318,
    "start_time": "2024-09-22T16:44:12.053Z"
   },
   {
    "duration": 209,
    "start_time": "2024-09-22T16:44:12.375Z"
   },
   {
    "duration": 196,
    "start_time": "2024-09-22T16:44:12.587Z"
   },
   {
    "duration": 207,
    "start_time": "2024-09-22T16:44:12.784Z"
   },
   {
    "duration": 0,
    "start_time": "2024-09-22T16:44:12.992Z"
   },
   {
    "duration": 47,
    "start_time": "2024-09-22T16:44:46.934Z"
   },
   {
    "duration": 1342,
    "start_time": "2024-09-22T16:44:49.690Z"
   },
   {
    "duration": 73,
    "start_time": "2024-09-22T16:44:51.035Z"
   },
   {
    "duration": 23,
    "start_time": "2024-09-22T16:44:51.110Z"
   },
   {
    "duration": 41,
    "start_time": "2024-09-22T16:44:51.135Z"
   },
   {
    "duration": 15,
    "start_time": "2024-09-22T16:44:51.178Z"
   },
   {
    "duration": 63,
    "start_time": "2024-09-22T16:44:51.194Z"
   },
   {
    "duration": 22,
    "start_time": "2024-09-22T16:44:51.258Z"
   },
   {
    "duration": 11,
    "start_time": "2024-09-22T16:44:51.281Z"
   },
   {
    "duration": 21,
    "start_time": "2024-09-22T16:44:51.293Z"
   },
   {
    "duration": 12,
    "start_time": "2024-09-22T16:44:51.317Z"
   },
   {
    "duration": 6,
    "start_time": "2024-09-22T16:44:51.331Z"
   },
   {
    "duration": 10,
    "start_time": "2024-09-22T16:44:51.339Z"
   },
   {
    "duration": 7,
    "start_time": "2024-09-22T16:44:51.350Z"
   },
   {
    "duration": 18,
    "start_time": "2024-09-22T16:44:51.359Z"
   },
   {
    "duration": 5,
    "start_time": "2024-09-22T16:44:51.379Z"
   },
   {
    "duration": 9,
    "start_time": "2024-09-22T16:44:51.386Z"
   },
   {
    "duration": 182,
    "start_time": "2024-09-22T16:44:51.396Z"
   },
   {
    "duration": 6,
    "start_time": "2024-09-22T16:44:51.579Z"
   },
   {
    "duration": 110,
    "start_time": "2024-09-22T16:44:51.586Z"
   },
   {
    "duration": 363,
    "start_time": "2024-09-22T16:44:51.697Z"
   },
   {
    "duration": 16,
    "start_time": "2024-09-22T16:44:52.061Z"
   },
   {
    "duration": 476,
    "start_time": "2024-09-22T16:44:52.078Z"
   },
   {
    "duration": 10,
    "start_time": "2024-09-22T16:44:52.556Z"
   },
   {
    "duration": 905,
    "start_time": "2024-09-22T16:44:52.569Z"
   },
   {
    "duration": 15,
    "start_time": "2024-09-22T16:44:53.476Z"
   },
   {
    "duration": 230,
    "start_time": "2024-09-22T16:44:53.493Z"
   },
   {
    "duration": 14,
    "start_time": "2024-09-22T16:44:53.724Z"
   },
   {
    "duration": 53,
    "start_time": "2024-09-22T16:44:53.742Z"
   },
   {
    "duration": 22,
    "start_time": "2024-09-22T16:44:53.797Z"
   },
   {
    "duration": 23,
    "start_time": "2024-09-22T16:44:53.820Z"
   },
   {
    "duration": 218,
    "start_time": "2024-09-22T16:44:53.845Z"
   },
   {
    "duration": 311,
    "start_time": "2024-09-22T16:44:54.065Z"
   },
   {
    "duration": 206,
    "start_time": "2024-09-22T16:44:54.377Z"
   },
   {
    "duration": 190,
    "start_time": "2024-09-22T16:44:54.585Z"
   },
   {
    "duration": 47,
    "start_time": "2024-09-22T16:44:54.777Z"
   },
   {
    "duration": 4,
    "start_time": "2024-09-22T16:44:54.825Z"
   },
   {
    "duration": 863,
    "start_time": "2024-09-22T16:47:31.578Z"
   },
   {
    "duration": 10,
    "start_time": "2024-09-22T16:48:06.197Z"
   },
   {
    "duration": 0,
    "start_time": "2024-09-22T16:48:06.209Z"
   },
   {
    "duration": 805,
    "start_time": "2024-09-22T16:48:11.130Z"
   },
   {
    "duration": 0,
    "start_time": "2024-09-22T16:48:11.937Z"
   },
   {
    "duration": 1346,
    "start_time": "2024-09-22T16:48:59.871Z"
   },
   {
    "duration": 71,
    "start_time": "2024-09-22T16:49:01.220Z"
   },
   {
    "duration": 29,
    "start_time": "2024-09-22T16:49:01.294Z"
   },
   {
    "duration": 22,
    "start_time": "2024-09-22T16:49:01.326Z"
   },
   {
    "duration": 34,
    "start_time": "2024-09-22T16:49:01.350Z"
   },
   {
    "duration": 21,
    "start_time": "2024-09-22T16:49:01.386Z"
   },
   {
    "duration": 15,
    "start_time": "2024-09-22T16:49:01.409Z"
   },
   {
    "duration": 10,
    "start_time": "2024-09-22T16:49:01.426Z"
   },
   {
    "duration": 11,
    "start_time": "2024-09-22T16:49:01.439Z"
   },
   {
    "duration": 30,
    "start_time": "2024-09-22T16:49:01.452Z"
   },
   {
    "duration": 20,
    "start_time": "2024-09-22T16:49:01.484Z"
   },
   {
    "duration": 5,
    "start_time": "2024-09-22T16:49:01.506Z"
   },
   {
    "duration": 22,
    "start_time": "2024-09-22T16:49:01.512Z"
   },
   {
    "duration": 13,
    "start_time": "2024-09-22T16:49:01.535Z"
   },
   {
    "duration": 6,
    "start_time": "2024-09-22T16:49:10.051Z"
   },
   {
    "duration": 48,
    "start_time": "2024-09-22T16:49:10.059Z"
   },
   {
    "duration": 176,
    "start_time": "2024-09-22T16:49:10.108Z"
   },
   {
    "duration": 7,
    "start_time": "2024-09-22T16:49:10.538Z"
   },
   {
    "duration": 114,
    "start_time": "2024-09-22T16:49:10.547Z"
   },
   {
    "duration": 327,
    "start_time": "2024-09-22T16:49:10.663Z"
   },
   {
    "duration": 9,
    "start_time": "2024-09-22T16:49:10.992Z"
   },
   {
    "duration": 487,
    "start_time": "2024-09-22T16:49:11.003Z"
   },
   {
    "duration": 9,
    "start_time": "2024-09-22T16:49:11.492Z"
   },
   {
    "duration": 884,
    "start_time": "2024-09-22T16:49:11.502Z"
   },
   {
    "duration": 10,
    "start_time": "2024-09-22T16:49:12.387Z"
   },
   {
    "duration": 230,
    "start_time": "2024-09-22T16:49:12.398Z"
   },
   {
    "duration": 14,
    "start_time": "2024-09-22T16:49:12.630Z"
   },
   {
    "duration": 48,
    "start_time": "2024-09-22T16:49:12.647Z"
   },
   {
    "duration": 22,
    "start_time": "2024-09-22T16:49:12.697Z"
   },
   {
    "duration": 21,
    "start_time": "2024-09-22T16:49:12.720Z"
   },
   {
    "duration": 234,
    "start_time": "2024-09-22T16:49:12.742Z"
   },
   {
    "duration": 318,
    "start_time": "2024-09-22T16:49:12.978Z"
   },
   {
    "duration": 199,
    "start_time": "2024-09-22T16:49:13.297Z"
   },
   {
    "duration": 192,
    "start_time": "2024-09-22T16:49:13.498Z"
   },
   {
    "duration": 45,
    "start_time": "2024-09-22T16:49:13.692Z"
   },
   {
    "duration": 49,
    "start_time": "2024-09-22T16:49:13.739Z"
   },
   {
    "duration": 815,
    "start_time": "2024-09-22T16:49:13.790Z"
   },
   {
    "duration": 0,
    "start_time": "2024-09-22T16:49:14.607Z"
   },
   {
    "duration": 4,
    "start_time": "2024-09-22T16:52:52.204Z"
   },
   {
    "duration": 677,
    "start_time": "2024-09-22T16:52:52.888Z"
   },
   {
    "duration": 15,
    "start_time": "2024-09-22T16:55:48.691Z"
   },
   {
    "duration": 1309,
    "start_time": "2024-09-22T16:56:06.803Z"
   },
   {
    "duration": 71,
    "start_time": "2024-09-22T16:56:08.114Z"
   },
   {
    "duration": 30,
    "start_time": "2024-09-22T16:56:08.188Z"
   },
   {
    "duration": 22,
    "start_time": "2024-09-22T16:56:08.222Z"
   },
   {
    "duration": 37,
    "start_time": "2024-09-22T16:56:08.246Z"
   },
   {
    "duration": 10,
    "start_time": "2024-09-22T16:56:08.284Z"
   },
   {
    "duration": 11,
    "start_time": "2024-09-22T16:56:08.295Z"
   },
   {
    "duration": 6,
    "start_time": "2024-09-22T16:56:08.307Z"
   },
   {
    "duration": 27,
    "start_time": "2024-09-22T16:56:08.314Z"
   },
   {
    "duration": 8,
    "start_time": "2024-09-22T16:56:08.344Z"
   },
   {
    "duration": 6,
    "start_time": "2024-09-22T16:56:08.353Z"
   },
   {
    "duration": 15,
    "start_time": "2024-09-22T16:56:08.361Z"
   },
   {
    "duration": 7,
    "start_time": "2024-09-22T16:56:08.378Z"
   },
   {
    "duration": 9,
    "start_time": "2024-09-22T16:56:08.386Z"
   },
   {
    "duration": 6,
    "start_time": "2024-09-22T16:56:08.396Z"
   },
   {
    "duration": 12,
    "start_time": "2024-09-22T16:56:08.403Z"
   },
   {
    "duration": 200,
    "start_time": "2024-09-22T16:56:08.416Z"
   },
   {
    "duration": 6,
    "start_time": "2024-09-22T16:56:08.618Z"
   },
   {
    "duration": 112,
    "start_time": "2024-09-22T16:56:08.625Z"
   },
   {
    "duration": 326,
    "start_time": "2024-09-22T16:56:08.739Z"
   },
   {
    "duration": 15,
    "start_time": "2024-09-22T16:56:09.067Z"
   },
   {
    "duration": 461,
    "start_time": "2024-09-22T16:56:09.083Z"
   },
   {
    "duration": 9,
    "start_time": "2024-09-22T16:56:09.545Z"
   },
   {
    "duration": 840,
    "start_time": "2024-09-22T16:56:09.556Z"
   },
   {
    "duration": 9,
    "start_time": "2024-09-22T16:56:10.397Z"
   },
   {
    "duration": 245,
    "start_time": "2024-09-22T16:56:10.407Z"
   },
   {
    "duration": 27,
    "start_time": "2024-09-22T16:56:10.655Z"
   },
   {
    "duration": 26,
    "start_time": "2024-09-22T16:56:10.685Z"
   },
   {
    "duration": 24,
    "start_time": "2024-09-22T16:56:10.713Z"
   },
   {
    "duration": 43,
    "start_time": "2024-09-22T16:56:10.739Z"
   },
   {
    "duration": 205,
    "start_time": "2024-09-22T16:56:10.784Z"
   },
   {
    "duration": 302,
    "start_time": "2024-09-22T16:56:10.990Z"
   },
   {
    "duration": 204,
    "start_time": "2024-09-22T16:56:11.293Z"
   },
   {
    "duration": 187,
    "start_time": "2024-09-22T16:56:11.498Z"
   },
   {
    "duration": 45,
    "start_time": "2024-09-22T16:56:11.686Z"
   },
   {
    "duration": 64,
    "start_time": "2024-09-22T16:56:11.732Z"
   },
   {
    "duration": 821,
    "start_time": "2024-09-22T16:57:01.106Z"
   },
   {
    "duration": 1277,
    "start_time": "2024-09-22T16:57:09.829Z"
   },
   {
    "duration": 74,
    "start_time": "2024-09-22T16:57:11.108Z"
   },
   {
    "duration": 22,
    "start_time": "2024-09-22T16:57:11.184Z"
   },
   {
    "duration": 20,
    "start_time": "2024-09-22T16:57:11.208Z"
   },
   {
    "duration": 15,
    "start_time": "2024-09-22T16:57:11.232Z"
   },
   {
    "duration": 32,
    "start_time": "2024-09-22T16:57:11.249Z"
   },
   {
    "duration": 35,
    "start_time": "2024-09-22T16:57:11.282Z"
   },
   {
    "duration": 6,
    "start_time": "2024-09-22T16:57:11.319Z"
   },
   {
    "duration": 8,
    "start_time": "2024-09-22T16:57:11.326Z"
   },
   {
    "duration": 10,
    "start_time": "2024-09-22T16:57:11.336Z"
   },
   {
    "duration": 9,
    "start_time": "2024-09-22T16:57:11.347Z"
   },
   {
    "duration": 9,
    "start_time": "2024-09-22T16:57:11.357Z"
   },
   {
    "duration": 12,
    "start_time": "2024-09-22T16:57:11.368Z"
   },
   {
    "duration": 16,
    "start_time": "2024-09-22T16:57:11.382Z"
   },
   {
    "duration": 5,
    "start_time": "2024-09-22T16:57:11.399Z"
   },
   {
    "duration": 6,
    "start_time": "2024-09-22T16:57:11.406Z"
   },
   {
    "duration": 191,
    "start_time": "2024-09-22T16:57:11.414Z"
   },
   {
    "duration": 6,
    "start_time": "2024-09-22T16:57:11.606Z"
   },
   {
    "duration": 109,
    "start_time": "2024-09-22T16:57:11.613Z"
   },
   {
    "duration": 322,
    "start_time": "2024-09-22T16:57:11.723Z"
   },
   {
    "duration": 9,
    "start_time": "2024-09-22T16:57:12.047Z"
   },
   {
    "duration": 467,
    "start_time": "2024-09-22T16:57:12.057Z"
   },
   {
    "duration": 9,
    "start_time": "2024-09-22T16:57:12.525Z"
   },
   {
    "duration": 840,
    "start_time": "2024-09-22T16:57:12.536Z"
   },
   {
    "duration": 9,
    "start_time": "2024-09-22T16:57:13.377Z"
   },
   {
    "duration": 219,
    "start_time": "2024-09-22T16:57:13.387Z"
   },
   {
    "duration": 14,
    "start_time": "2024-09-22T16:57:13.608Z"
   },
   {
    "duration": 25,
    "start_time": "2024-09-22T16:57:13.624Z"
   },
   {
    "duration": 40,
    "start_time": "2024-09-22T16:57:13.651Z"
   },
   {
    "duration": 21,
    "start_time": "2024-09-22T16:57:13.692Z"
   },
   {
    "duration": 262,
    "start_time": "2024-09-22T16:57:13.714Z"
   },
   {
    "duration": 293,
    "start_time": "2024-09-22T16:57:13.977Z"
   },
   {
    "duration": 204,
    "start_time": "2024-09-22T16:57:14.272Z"
   },
   {
    "duration": 186,
    "start_time": "2024-09-22T16:57:14.478Z"
   },
   {
    "duration": 56,
    "start_time": "2024-09-22T16:57:14.665Z"
   },
   {
    "duration": 15,
    "start_time": "2024-09-22T16:57:14.723Z"
   },
   {
    "duration": 1341,
    "start_time": "2024-09-22T16:59:28.489Z"
   },
   {
    "duration": 70,
    "start_time": "2024-09-22T16:59:29.832Z"
   },
   {
    "duration": 20,
    "start_time": "2024-09-22T16:59:29.904Z"
   },
   {
    "duration": 19,
    "start_time": "2024-09-22T16:59:29.925Z"
   },
   {
    "duration": 16,
    "start_time": "2024-09-22T16:59:29.946Z"
   },
   {
    "duration": 17,
    "start_time": "2024-09-22T16:59:29.963Z"
   },
   {
    "duration": 7,
    "start_time": "2024-09-22T16:59:29.982Z"
   },
   {
    "duration": 6,
    "start_time": "2024-09-22T16:59:29.990Z"
   },
   {
    "duration": 17,
    "start_time": "2024-09-22T16:59:29.998Z"
   },
   {
    "duration": 37,
    "start_time": "2024-09-22T16:59:30.017Z"
   },
   {
    "duration": 6,
    "start_time": "2024-09-22T16:59:30.056Z"
   },
   {
    "duration": 9,
    "start_time": "2024-09-22T16:59:30.064Z"
   },
   {
    "duration": 11,
    "start_time": "2024-09-22T16:59:30.075Z"
   },
   {
    "duration": 9,
    "start_time": "2024-09-22T16:59:30.089Z"
   },
   {
    "duration": 14,
    "start_time": "2024-09-22T16:59:30.099Z"
   },
   {
    "duration": 9,
    "start_time": "2024-09-22T16:59:30.115Z"
   },
   {
    "duration": 190,
    "start_time": "2024-09-22T16:59:30.126Z"
   },
   {
    "duration": 6,
    "start_time": "2024-09-22T16:59:30.317Z"
   },
   {
    "duration": 109,
    "start_time": "2024-09-22T16:59:30.325Z"
   },
   {
    "duration": 346,
    "start_time": "2024-09-22T16:59:30.436Z"
   },
   {
    "duration": 10,
    "start_time": "2024-09-22T16:59:30.783Z"
   },
   {
    "duration": 503,
    "start_time": "2024-09-22T16:59:30.795Z"
   },
   {
    "duration": 10,
    "start_time": "2024-09-22T16:59:31.300Z"
   },
   {
    "duration": 836,
    "start_time": "2024-09-22T16:59:31.311Z"
   },
   {
    "duration": 9,
    "start_time": "2024-09-22T16:59:32.149Z"
   },
   {
    "duration": 219,
    "start_time": "2024-09-22T16:59:32.159Z"
   },
   {
    "duration": 14,
    "start_time": "2024-09-22T16:59:32.380Z"
   },
   {
    "duration": 29,
    "start_time": "2024-09-22T16:59:32.396Z"
   },
   {
    "duration": 23,
    "start_time": "2024-09-22T16:59:32.427Z"
   },
   {
    "duration": 43,
    "start_time": "2024-09-22T16:59:32.451Z"
   },
   {
    "duration": 224,
    "start_time": "2024-09-22T16:59:32.495Z"
   },
   {
    "duration": 318,
    "start_time": "2024-09-22T16:59:32.721Z"
   },
   {
    "duration": 201,
    "start_time": "2024-09-22T16:59:33.041Z"
   },
   {
    "duration": 188,
    "start_time": "2024-09-22T16:59:33.244Z"
   },
   {
    "duration": 62,
    "start_time": "2024-09-22T16:59:33.434Z"
   },
   {
    "duration": 17,
    "start_time": "2024-09-22T16:59:33.498Z"
   },
   {
    "duration": 1270,
    "start_time": "2024-09-22T16:59:45.421Z"
   },
   {
    "duration": 69,
    "start_time": "2024-09-22T16:59:46.693Z"
   },
   {
    "duration": 21,
    "start_time": "2024-09-22T16:59:46.764Z"
   },
   {
    "duration": 17,
    "start_time": "2024-09-22T16:59:46.786Z"
   },
   {
    "duration": 14,
    "start_time": "2024-09-22T16:59:46.805Z"
   },
   {
    "duration": 6,
    "start_time": "2024-09-22T16:59:46.820Z"
   },
   {
    "duration": 7,
    "start_time": "2024-09-22T16:59:46.827Z"
   },
   {
    "duration": 6,
    "start_time": "2024-09-22T16:59:46.835Z"
   },
   {
    "duration": 39,
    "start_time": "2024-09-22T16:59:46.842Z"
   },
   {
    "duration": 7,
    "start_time": "2024-09-22T16:59:46.884Z"
   },
   {
    "duration": 6,
    "start_time": "2024-09-22T16:59:46.892Z"
   },
   {
    "duration": 5,
    "start_time": "2024-09-22T16:59:46.899Z"
   },
   {
    "duration": 6,
    "start_time": "2024-09-22T16:59:46.905Z"
   },
   {
    "duration": 9,
    "start_time": "2024-09-22T16:59:46.912Z"
   },
   {
    "duration": 6,
    "start_time": "2024-09-22T16:59:46.922Z"
   },
   {
    "duration": 7,
    "start_time": "2024-09-22T16:59:46.975Z"
   },
   {
    "duration": 180,
    "start_time": "2024-09-22T16:59:46.983Z"
   },
   {
    "duration": 12,
    "start_time": "2024-09-22T16:59:47.165Z"
   },
   {
    "duration": 104,
    "start_time": "2024-09-22T16:59:47.178Z"
   },
   {
    "duration": 327,
    "start_time": "2024-09-22T16:59:47.283Z"
   },
   {
    "duration": 9,
    "start_time": "2024-09-22T16:59:47.611Z"
   },
   {
    "duration": 481,
    "start_time": "2024-09-22T16:59:47.621Z"
   },
   {
    "duration": 9,
    "start_time": "2024-09-22T16:59:48.103Z"
   },
   {
    "duration": 867,
    "start_time": "2024-09-22T16:59:48.114Z"
   },
   {
    "duration": 9,
    "start_time": "2024-09-22T16:59:48.982Z"
   },
   {
    "duration": 225,
    "start_time": "2024-09-22T16:59:48.992Z"
   },
   {
    "duration": 15,
    "start_time": "2024-09-22T16:59:49.219Z"
   },
   {
    "duration": 42,
    "start_time": "2024-09-22T16:59:49.237Z"
   },
   {
    "duration": 23,
    "start_time": "2024-09-22T16:59:49.281Z"
   },
   {
    "duration": 36,
    "start_time": "2024-09-22T16:59:49.306Z"
   },
   {
    "duration": 211,
    "start_time": "2024-09-22T16:59:49.344Z"
   },
   {
    "duration": 299,
    "start_time": "2024-09-22T16:59:49.556Z"
   },
   {
    "duration": 197,
    "start_time": "2024-09-22T16:59:49.856Z"
   },
   {
    "duration": 194,
    "start_time": "2024-09-22T16:59:50.055Z"
   },
   {
    "duration": 55,
    "start_time": "2024-09-22T16:59:50.251Z"
   },
   {
    "duration": 15,
    "start_time": "2024-09-22T16:59:50.308Z"
   },
   {
    "duration": 1437,
    "start_time": "2024-09-23T13:46:54.426Z"
   },
   {
    "duration": 352,
    "start_time": "2024-09-23T13:46:55.865Z"
   },
   {
    "duration": 22,
    "start_time": "2024-09-23T13:46:56.218Z"
   },
   {
    "duration": 20,
    "start_time": "2024-09-23T13:46:56.241Z"
   },
   {
    "duration": 14,
    "start_time": "2024-09-23T13:46:56.262Z"
   },
   {
    "duration": 17,
    "start_time": "2024-09-23T13:46:56.277Z"
   },
   {
    "duration": 29,
    "start_time": "2024-09-23T13:46:56.295Z"
   },
   {
    "duration": 21,
    "start_time": "2024-09-23T13:46:56.325Z"
   },
   {
    "duration": 13,
    "start_time": "2024-09-23T13:46:56.347Z"
   },
   {
    "duration": 12,
    "start_time": "2024-09-23T13:46:56.362Z"
   },
   {
    "duration": 18,
    "start_time": "2024-09-23T13:46:56.375Z"
   },
   {
    "duration": 14,
    "start_time": "2024-09-23T13:46:56.394Z"
   },
   {
    "duration": 17,
    "start_time": "2024-09-23T13:46:56.409Z"
   },
   {
    "duration": 21,
    "start_time": "2024-09-23T13:46:56.427Z"
   },
   {
    "duration": 5,
    "start_time": "2024-09-23T13:46:56.451Z"
   },
   {
    "duration": 20,
    "start_time": "2024-09-23T13:46:56.458Z"
   },
   {
    "duration": 179,
    "start_time": "2024-09-23T13:46:56.480Z"
   },
   {
    "duration": 5,
    "start_time": "2024-09-23T13:46:56.661Z"
   },
   {
    "duration": 98,
    "start_time": "2024-09-23T13:46:56.667Z"
   },
   {
    "duration": 296,
    "start_time": "2024-09-23T13:46:56.767Z"
   },
   {
    "duration": 8,
    "start_time": "2024-09-23T13:46:57.064Z"
   },
   {
    "duration": 427,
    "start_time": "2024-09-23T13:46:57.073Z"
   },
   {
    "duration": 8,
    "start_time": "2024-09-23T13:46:57.502Z"
   },
   {
    "duration": 772,
    "start_time": "2024-09-23T13:46:57.511Z"
   },
   {
    "duration": 8,
    "start_time": "2024-09-23T13:46:58.285Z"
   },
   {
    "duration": 207,
    "start_time": "2024-09-23T13:46:58.294Z"
   },
   {
    "duration": 13,
    "start_time": "2024-09-23T13:46:58.503Z"
   },
   {
    "duration": 40,
    "start_time": "2024-09-23T13:46:58.519Z"
   },
   {
    "duration": 21,
    "start_time": "2024-09-23T13:46:58.561Z"
   },
   {
    "duration": 20,
    "start_time": "2024-09-23T13:46:58.583Z"
   },
   {
    "duration": 204,
    "start_time": "2024-09-23T13:46:58.605Z"
   },
   {
    "duration": 285,
    "start_time": "2024-09-23T13:46:58.811Z"
   },
   {
    "duration": 176,
    "start_time": "2024-09-23T13:46:59.097Z"
   },
   {
    "duration": 170,
    "start_time": "2024-09-23T13:46:59.274Z"
   },
   {
    "duration": 48,
    "start_time": "2024-09-23T13:46:59.445Z"
   },
   {
    "duration": 15,
    "start_time": "2024-09-23T13:46:59.494Z"
   },
   {
    "duration": 152,
    "start_time": "2024-09-23T14:06:58.540Z"
   },
   {
    "duration": 6,
    "start_time": "2024-09-23T14:08:42.685Z"
   },
   {
    "duration": 5,
    "start_time": "2024-09-23T14:18:20.048Z"
   },
   {
    "duration": 5,
    "start_time": "2024-09-23T14:18:26.535Z"
   },
   {
    "duration": 5,
    "start_time": "2024-09-23T14:19:07.199Z"
   },
   {
    "duration": 5,
    "start_time": "2024-09-23T14:19:29.112Z"
   },
   {
    "duration": 1142,
    "start_time": "2024-09-23T14:21:28.599Z"
   },
   {
    "duration": 71,
    "start_time": "2024-09-23T14:21:29.743Z"
   },
   {
    "duration": 19,
    "start_time": "2024-09-23T14:21:29.816Z"
   },
   {
    "duration": 24,
    "start_time": "2024-09-23T14:21:29.837Z"
   },
   {
    "duration": 12,
    "start_time": "2024-09-23T14:21:29.862Z"
   },
   {
    "duration": 9,
    "start_time": "2024-09-23T14:21:29.876Z"
   },
   {
    "duration": 7,
    "start_time": "2024-09-23T14:21:29.886Z"
   },
   {
    "duration": 10,
    "start_time": "2024-09-23T14:21:29.895Z"
   },
   {
    "duration": 8,
    "start_time": "2024-09-23T14:21:29.906Z"
   },
   {
    "duration": 36,
    "start_time": "2024-09-23T14:21:29.917Z"
   },
   {
    "duration": 30,
    "start_time": "2024-09-23T14:21:29.954Z"
   },
   {
    "duration": 5,
    "start_time": "2024-09-23T14:21:29.986Z"
   },
   {
    "duration": 7,
    "start_time": "2024-09-23T14:21:29.992Z"
   },
   {
    "duration": 8,
    "start_time": "2024-09-23T14:21:30.000Z"
   },
   {
    "duration": 27,
    "start_time": "2024-09-23T14:21:30.010Z"
   },
   {
    "duration": 27,
    "start_time": "2024-09-23T14:21:30.038Z"
   },
   {
    "duration": 196,
    "start_time": "2024-09-23T14:21:30.067Z"
   },
   {
    "duration": 6,
    "start_time": "2024-09-23T14:21:30.265Z"
   },
   {
    "duration": 113,
    "start_time": "2024-09-23T14:21:30.272Z"
   },
   {
    "duration": 298,
    "start_time": "2024-09-23T14:21:30.386Z"
   },
   {
    "duration": 8,
    "start_time": "2024-09-23T14:21:30.686Z"
   },
   {
    "duration": 550,
    "start_time": "2024-09-23T14:21:30.696Z"
   },
   {
    "duration": 9,
    "start_time": "2024-09-23T14:21:31.247Z"
   },
   {
    "duration": 808,
    "start_time": "2024-09-23T14:21:31.257Z"
   },
   {
    "duration": 9,
    "start_time": "2024-09-23T14:21:32.067Z"
   },
   {
    "duration": 207,
    "start_time": "2024-09-23T14:21:32.077Z"
   },
   {
    "duration": 13,
    "start_time": "2024-09-23T14:21:32.286Z"
   },
   {
    "duration": 24,
    "start_time": "2024-09-23T14:21:32.302Z"
   },
   {
    "duration": 42,
    "start_time": "2024-09-23T14:21:32.328Z"
   },
   {
    "duration": 22,
    "start_time": "2024-09-23T14:21:32.371Z"
   },
   {
    "duration": 199,
    "start_time": "2024-09-23T14:21:32.394Z"
   },
   {
    "duration": 285,
    "start_time": "2024-09-23T14:21:32.595Z"
   },
   {
    "duration": 192,
    "start_time": "2024-09-23T14:21:32.882Z"
   },
   {
    "duration": 177,
    "start_time": "2024-09-23T14:21:33.075Z"
   },
   {
    "duration": 43,
    "start_time": "2024-09-23T14:21:33.253Z"
   },
   {
    "duration": 44,
    "start_time": "2024-09-23T14:21:33.297Z"
   },
   {
    "duration": 8,
    "start_time": "2024-09-23T14:21:33.342Z"
   },
   {
    "duration": 6,
    "start_time": "2024-09-23T14:21:33.351Z"
   },
   {
    "duration": 159,
    "start_time": "2024-09-23T14:21:33.359Z"
   },
   {
    "duration": 15,
    "start_time": "2024-09-23T15:03:39.307Z"
   },
   {
    "duration": 1274,
    "start_time": "2024-09-23T15:03:46.033Z"
   },
   {
    "duration": 71,
    "start_time": "2024-09-23T15:03:47.309Z"
   },
   {
    "duration": 20,
    "start_time": "2024-09-23T15:03:47.381Z"
   },
   {
    "duration": 52,
    "start_time": "2024-09-23T15:03:47.403Z"
   },
   {
    "duration": 13,
    "start_time": "2024-09-23T15:03:47.457Z"
   },
   {
    "duration": 9,
    "start_time": "2024-09-23T15:03:47.472Z"
   },
   {
    "duration": 6,
    "start_time": "2024-09-23T15:03:47.482Z"
   },
   {
    "duration": 18,
    "start_time": "2024-09-23T15:03:47.489Z"
   },
   {
    "duration": 8,
    "start_time": "2024-09-23T15:03:47.509Z"
   },
   {
    "duration": 7,
    "start_time": "2024-09-23T15:03:47.519Z"
   },
   {
    "duration": 28,
    "start_time": "2024-09-23T15:03:47.527Z"
   },
   {
    "duration": 5,
    "start_time": "2024-09-23T15:03:47.557Z"
   },
   {
    "duration": 22,
    "start_time": "2024-09-23T15:03:47.563Z"
   },
   {
    "duration": 50,
    "start_time": "2024-09-23T15:03:47.587Z"
   },
   {
    "duration": 5,
    "start_time": "2024-09-23T15:03:47.639Z"
   },
   {
    "duration": 5,
    "start_time": "2024-09-23T15:03:47.645Z"
   },
   {
    "duration": 162,
    "start_time": "2024-09-23T15:03:47.651Z"
   },
   {
    "duration": 6,
    "start_time": "2024-09-23T15:03:47.815Z"
   },
   {
    "duration": 102,
    "start_time": "2024-09-23T15:03:47.822Z"
   },
   {
    "duration": 304,
    "start_time": "2024-09-23T15:03:47.926Z"
   },
   {
    "duration": 9,
    "start_time": "2024-09-23T15:03:48.231Z"
   },
   {
    "duration": 445,
    "start_time": "2024-09-23T15:03:48.252Z"
   },
   {
    "duration": 9,
    "start_time": "2024-09-23T15:03:48.699Z"
   },
   {
    "duration": 816,
    "start_time": "2024-09-23T15:03:48.709Z"
   },
   {
    "duration": 8,
    "start_time": "2024-09-23T15:03:49.527Z"
   },
   {
    "duration": 221,
    "start_time": "2024-09-23T15:03:49.537Z"
   },
   {
    "duration": 15,
    "start_time": "2024-09-23T15:03:49.759Z"
   },
   {
    "duration": 24,
    "start_time": "2024-09-23T15:03:49.775Z"
   },
   {
    "duration": 21,
    "start_time": "2024-09-23T15:03:49.801Z"
   },
   {
    "duration": 46,
    "start_time": "2024-09-23T15:03:49.824Z"
   },
   {
    "duration": 194,
    "start_time": "2024-09-23T15:03:49.871Z"
   },
   {
    "duration": 288,
    "start_time": "2024-09-23T15:03:50.067Z"
   },
   {
    "duration": 196,
    "start_time": "2024-09-23T15:03:50.356Z"
   },
   {
    "duration": 177,
    "start_time": "2024-09-23T15:03:50.553Z"
   },
   {
    "duration": 51,
    "start_time": "2024-09-23T15:03:50.731Z"
   },
   {
    "duration": 15,
    "start_time": "2024-09-23T15:03:50.784Z"
   },
   {
    "duration": 5,
    "start_time": "2024-09-23T15:03:50.801Z"
   },
   {
    "duration": 7,
    "start_time": "2024-09-23T15:03:50.807Z"
   },
   {
    "duration": 178,
    "start_time": "2024-09-23T15:03:50.815Z"
   },
   {
    "duration": 56,
    "start_time": "2024-09-24T13:08:27.034Z"
   },
   {
    "duration": 1552,
    "start_time": "2024-09-24T13:08:34.922Z"
   },
   {
    "duration": 355,
    "start_time": "2024-09-24T13:08:36.476Z"
   },
   {
    "duration": 21,
    "start_time": "2024-09-24T13:08:36.833Z"
   },
   {
    "duration": 18,
    "start_time": "2024-09-24T13:08:36.856Z"
   },
   {
    "duration": 20,
    "start_time": "2024-09-24T13:08:36.875Z"
   },
   {
    "duration": 17,
    "start_time": "2024-09-24T13:08:36.896Z"
   },
   {
    "duration": 18,
    "start_time": "2024-09-24T13:08:36.914Z"
   },
   {
    "duration": 13,
    "start_time": "2024-09-24T13:08:36.934Z"
   },
   {
    "duration": 24,
    "start_time": "2024-09-24T13:08:36.949Z"
   },
   {
    "duration": 22,
    "start_time": "2024-09-24T13:08:36.976Z"
   },
   {
    "duration": 14,
    "start_time": "2024-09-24T13:08:37.000Z"
   },
   {
    "duration": 18,
    "start_time": "2024-09-24T13:08:37.016Z"
   },
   {
    "duration": 20,
    "start_time": "2024-09-24T13:08:37.036Z"
   },
   {
    "duration": 8,
    "start_time": "2024-09-24T13:08:37.058Z"
   },
   {
    "duration": 6,
    "start_time": "2024-09-24T13:08:37.068Z"
   },
   {
    "duration": 9,
    "start_time": "2024-09-24T13:08:37.075Z"
   },
   {
    "duration": 175,
    "start_time": "2024-09-24T13:08:37.086Z"
   },
   {
    "duration": 7,
    "start_time": "2024-09-24T13:08:37.263Z"
   },
   {
    "duration": 112,
    "start_time": "2024-09-24T13:08:37.272Z"
   },
   {
    "duration": 327,
    "start_time": "2024-09-24T13:08:37.386Z"
   },
   {
    "duration": 17,
    "start_time": "2024-09-24T13:08:37.715Z"
   },
   {
    "duration": 514,
    "start_time": "2024-09-24T13:08:37.735Z"
   },
   {
    "duration": 9,
    "start_time": "2024-09-24T13:08:38.251Z"
   },
   {
    "duration": 878,
    "start_time": "2024-09-24T13:08:38.261Z"
   },
   {
    "duration": 8,
    "start_time": "2024-09-24T13:08:39.141Z"
   },
   {
    "duration": 226,
    "start_time": "2024-09-24T13:08:39.151Z"
   },
   {
    "duration": 14,
    "start_time": "2024-09-24T13:08:39.379Z"
   },
   {
    "duration": 40,
    "start_time": "2024-09-24T13:08:39.397Z"
   },
   {
    "duration": 77,
    "start_time": "2024-09-24T13:08:39.439Z"
   },
   {
    "duration": 113,
    "start_time": "2024-09-24T13:08:39.518Z"
   },
   {
    "duration": 222,
    "start_time": "2024-09-24T13:08:39.634Z"
   },
   {
    "duration": 308,
    "start_time": "2024-09-24T13:08:39.858Z"
   },
   {
    "duration": 214,
    "start_time": "2024-09-24T13:08:40.168Z"
   },
   {
    "duration": 191,
    "start_time": "2024-09-24T13:08:40.383Z"
   },
   {
    "duration": 61,
    "start_time": "2024-09-24T13:08:40.576Z"
   },
   {
    "duration": 17,
    "start_time": "2024-09-24T13:08:40.638Z"
   },
   {
    "duration": 5,
    "start_time": "2024-09-24T13:08:40.656Z"
   },
   {
    "duration": 5,
    "start_time": "2024-09-24T13:08:40.663Z"
   },
   {
    "duration": 190,
    "start_time": "2024-09-24T13:08:40.671Z"
   },
   {
    "duration": 14,
    "start_time": "2024-09-24T13:10:29.125Z"
   },
   {
    "duration": 1338,
    "start_time": "2024-09-24T13:10:33.996Z"
   },
   {
    "duration": 72,
    "start_time": "2024-09-24T13:10:35.335Z"
   },
   {
    "duration": 20,
    "start_time": "2024-09-24T13:10:35.409Z"
   },
   {
    "duration": 104,
    "start_time": "2024-09-24T13:10:35.431Z"
   },
   {
    "duration": 14,
    "start_time": "2024-09-24T13:10:35.537Z"
   },
   {
    "duration": 105,
    "start_time": "2024-09-24T13:10:35.553Z"
   },
   {
    "duration": 17,
    "start_time": "2024-09-24T13:10:35.659Z"
   },
   {
    "duration": 7,
    "start_time": "2024-09-24T13:10:35.677Z"
   },
   {
    "duration": 33,
    "start_time": "2024-09-24T13:10:35.686Z"
   },
   {
    "duration": 7,
    "start_time": "2024-09-24T13:10:35.721Z"
   },
   {
    "duration": 5,
    "start_time": "2024-09-24T13:10:35.730Z"
   },
   {
    "duration": 4,
    "start_time": "2024-09-24T13:10:35.737Z"
   },
   {
    "duration": 6,
    "start_time": "2024-09-24T13:10:35.743Z"
   },
   {
    "duration": 19,
    "start_time": "2024-09-24T13:10:35.751Z"
   },
   {
    "duration": 4,
    "start_time": "2024-09-24T13:10:35.772Z"
   },
   {
    "duration": 6,
    "start_time": "2024-09-24T13:10:35.778Z"
   },
   {
    "duration": 185,
    "start_time": "2024-09-24T13:10:35.785Z"
   },
   {
    "duration": 6,
    "start_time": "2024-09-24T13:10:35.971Z"
   },
   {
    "duration": 111,
    "start_time": "2024-09-24T13:10:35.978Z"
   },
   {
    "duration": 303,
    "start_time": "2024-09-24T13:10:36.091Z"
   },
   {
    "duration": 9,
    "start_time": "2024-09-24T13:10:36.396Z"
   },
   {
    "duration": 466,
    "start_time": "2024-09-24T13:10:36.406Z"
   },
   {
    "duration": 9,
    "start_time": "2024-09-24T13:10:36.873Z"
   },
   {
    "duration": 833,
    "start_time": "2024-09-24T13:10:36.884Z"
   },
   {
    "duration": 14,
    "start_time": "2024-09-24T13:10:37.718Z"
   },
   {
    "duration": 222,
    "start_time": "2024-09-24T13:10:37.733Z"
   },
   {
    "duration": 15,
    "start_time": "2024-09-24T13:10:37.956Z"
   },
   {
    "duration": 26,
    "start_time": "2024-09-24T13:10:37.973Z"
   },
   {
    "duration": 46,
    "start_time": "2024-09-24T13:10:38.001Z"
   },
   {
    "duration": 22,
    "start_time": "2024-09-24T13:10:38.048Z"
   },
   {
    "duration": 218,
    "start_time": "2024-09-24T13:10:38.071Z"
   },
   {
    "duration": 289,
    "start_time": "2024-09-24T13:10:38.291Z"
   },
   {
    "duration": 202,
    "start_time": "2024-09-24T13:10:38.582Z"
   },
   {
    "duration": 186,
    "start_time": "2024-09-24T13:10:38.785Z"
   },
   {
    "duration": 59,
    "start_time": "2024-09-24T13:10:38.973Z"
   },
   {
    "duration": 17,
    "start_time": "2024-09-24T13:10:39.033Z"
   },
   {
    "duration": 7,
    "start_time": "2024-09-24T13:10:39.052Z"
   },
   {
    "duration": 5,
    "start_time": "2024-09-24T13:10:39.060Z"
   },
   {
    "duration": 189,
    "start_time": "2024-09-24T13:10:39.066Z"
   },
   {
    "duration": 13,
    "start_time": "2024-09-24T13:12:16.905Z"
   },
   {
    "duration": 1314,
    "start_time": "2024-09-24T13:12:36.335Z"
   },
   {
    "duration": 82,
    "start_time": "2024-09-24T13:12:37.651Z"
   },
   {
    "duration": 23,
    "start_time": "2024-09-24T13:12:37.735Z"
   },
   {
    "duration": 35,
    "start_time": "2024-09-24T13:12:37.759Z"
   },
   {
    "duration": 30,
    "start_time": "2024-09-24T13:12:37.796Z"
   },
   {
    "duration": 32,
    "start_time": "2024-09-24T13:12:37.827Z"
   },
   {
    "duration": 25,
    "start_time": "2024-09-24T13:12:37.861Z"
   },
   {
    "duration": 18,
    "start_time": "2024-09-24T13:12:37.887Z"
   },
   {
    "duration": 20,
    "start_time": "2024-09-24T13:12:37.906Z"
   },
   {
    "duration": 26,
    "start_time": "2024-09-24T13:12:37.928Z"
   },
   {
    "duration": 24,
    "start_time": "2024-09-24T13:12:37.956Z"
   },
   {
    "duration": 32,
    "start_time": "2024-09-24T13:12:37.982Z"
   },
   {
    "duration": 27,
    "start_time": "2024-09-24T13:12:38.016Z"
   },
   {
    "duration": 23,
    "start_time": "2024-09-24T13:12:38.046Z"
   },
   {
    "duration": 16,
    "start_time": "2024-09-24T13:12:38.071Z"
   },
   {
    "duration": 25,
    "start_time": "2024-09-24T13:12:38.089Z"
   },
   {
    "duration": 202,
    "start_time": "2024-09-24T13:12:38.116Z"
   },
   {
    "duration": 10,
    "start_time": "2024-09-24T13:12:38.320Z"
   },
   {
    "duration": 108,
    "start_time": "2024-09-24T13:12:38.331Z"
   },
   {
    "duration": 316,
    "start_time": "2024-09-24T13:12:38.441Z"
   },
   {
    "duration": 9,
    "start_time": "2024-09-24T13:12:38.758Z"
   },
   {
    "duration": 481,
    "start_time": "2024-09-24T13:12:38.768Z"
   },
   {
    "duration": 9,
    "start_time": "2024-09-24T13:12:39.251Z"
   },
   {
    "duration": 860,
    "start_time": "2024-09-24T13:12:39.262Z"
   },
   {
    "duration": 10,
    "start_time": "2024-09-24T13:12:40.126Z"
   },
   {
    "duration": 228,
    "start_time": "2024-09-24T13:12:40.137Z"
   },
   {
    "duration": 14,
    "start_time": "2024-09-24T13:12:40.367Z"
   },
   {
    "duration": 44,
    "start_time": "2024-09-24T13:12:40.382Z"
   },
   {
    "duration": 25,
    "start_time": "2024-09-24T13:12:40.427Z"
   },
   {
    "duration": 21,
    "start_time": "2024-09-24T13:12:40.453Z"
   },
   {
    "duration": 217,
    "start_time": "2024-09-24T13:12:40.476Z"
   },
   {
    "duration": 300,
    "start_time": "2024-09-24T13:12:40.695Z"
   },
   {
    "duration": 204,
    "start_time": "2024-09-24T13:12:40.997Z"
   },
   {
    "duration": 184,
    "start_time": "2024-09-24T13:12:41.202Z"
   },
   {
    "duration": 55,
    "start_time": "2024-09-24T13:12:41.388Z"
   },
   {
    "duration": 16,
    "start_time": "2024-09-24T13:12:41.444Z"
   },
   {
    "duration": 73,
    "start_time": "2024-09-24T13:12:41.461Z"
   },
   {
    "duration": 5,
    "start_time": "2024-09-24T13:12:41.536Z"
   },
   {
    "duration": 167,
    "start_time": "2024-09-24T13:12:41.543Z"
   },
   {
    "duration": 9,
    "start_time": "2024-09-24T13:15:24.824Z"
   },
   {
    "duration": 53,
    "start_time": "2024-09-24T13:26:12.637Z"
   },
   {
    "duration": 125,
    "start_time": "2024-09-24T13:59:00.719Z"
   },
   {
    "duration": 108,
    "start_time": "2024-09-24T13:59:09.286Z"
   },
   {
    "duration": 726,
    "start_time": "2024-09-24T13:59:36.619Z"
   },
   {
    "duration": 9,
    "start_time": "2024-09-24T14:00:00.288Z"
   },
   {
    "duration": 26,
    "start_time": "2024-09-24T14:19:11.776Z"
   },
   {
    "duration": 24,
    "start_time": "2024-09-24T14:19:38.438Z"
   },
   {
    "duration": 1220,
    "start_time": "2024-09-24T14:19:56.515Z"
   },
   {
    "duration": 72,
    "start_time": "2024-09-24T14:19:57.737Z"
   },
   {
    "duration": 20,
    "start_time": "2024-09-24T14:19:57.811Z"
   },
   {
    "duration": 23,
    "start_time": "2024-09-24T14:19:57.833Z"
   },
   {
    "duration": 15,
    "start_time": "2024-09-24T14:19:57.858Z"
   },
   {
    "duration": 9,
    "start_time": "2024-09-24T14:19:57.874Z"
   },
   {
    "duration": 6,
    "start_time": "2024-09-24T14:19:57.885Z"
   },
   {
    "duration": 10,
    "start_time": "2024-09-24T14:19:57.892Z"
   },
   {
    "duration": 28,
    "start_time": "2024-09-24T14:19:57.904Z"
   },
   {
    "duration": 8,
    "start_time": "2024-09-24T14:19:57.933Z"
   },
   {
    "duration": 7,
    "start_time": "2024-09-24T14:19:57.942Z"
   },
   {
    "duration": 5,
    "start_time": "2024-09-24T14:19:57.950Z"
   },
   {
    "duration": 6,
    "start_time": "2024-09-24T14:19:57.956Z"
   },
   {
    "duration": 8,
    "start_time": "2024-09-24T14:19:57.964Z"
   },
   {
    "duration": 4,
    "start_time": "2024-09-24T14:19:57.973Z"
   },
   {
    "duration": 6,
    "start_time": "2024-09-24T14:19:57.979Z"
   },
   {
    "duration": 163,
    "start_time": "2024-09-24T14:19:58.026Z"
   },
   {
    "duration": 6,
    "start_time": "2024-09-24T14:19:58.191Z"
   },
   {
    "duration": 110,
    "start_time": "2024-09-24T14:19:58.199Z"
   },
   {
    "duration": 336,
    "start_time": "2024-09-24T14:19:58.311Z"
   },
   {
    "duration": 9,
    "start_time": "2024-09-24T14:19:58.649Z"
   },
   {
    "duration": 923,
    "start_time": "2024-09-24T14:19:58.659Z"
   },
   {
    "duration": 12,
    "start_time": "2024-09-24T14:19:59.585Z"
   },
   {
    "duration": 244,
    "start_time": "2024-09-24T14:19:59.599Z"
   },
   {
    "duration": 15,
    "start_time": "2024-09-24T14:19:59.845Z"
   },
   {
    "duration": 25,
    "start_time": "2024-09-24T14:19:59.862Z"
   },
   {
    "duration": 43,
    "start_time": "2024-09-24T14:19:59.889Z"
   },
   {
    "duration": 21,
    "start_time": "2024-09-24T14:19:59.933Z"
   },
   {
    "duration": 212,
    "start_time": "2024-09-24T14:19:59.956Z"
   },
   {
    "duration": 209,
    "start_time": "2024-09-24T14:20:00.170Z"
   },
   {
    "duration": 203,
    "start_time": "2024-09-24T14:20:00.381Z"
   },
   {
    "duration": 188,
    "start_time": "2024-09-24T14:20:00.585Z"
   },
   {
    "duration": 54,
    "start_time": "2024-09-24T14:20:00.775Z"
   },
   {
    "duration": 16,
    "start_time": "2024-09-24T14:20:00.831Z"
   },
   {
    "duration": 5,
    "start_time": "2024-09-24T14:20:00.848Z"
   },
   {
    "duration": 15,
    "start_time": "2024-09-24T14:20:00.855Z"
   },
   {
    "duration": 8,
    "start_time": "2024-09-24T14:20:00.872Z"
   },
   {
    "duration": 65,
    "start_time": "2024-09-24T19:11:36.964Z"
   },
   {
    "duration": 1564,
    "start_time": "2024-09-24T19:11:45.638Z"
   },
   {
    "duration": 281,
    "start_time": "2024-09-24T19:11:47.204Z"
   },
   {
    "duration": 22,
    "start_time": "2024-09-24T19:11:47.486Z"
   },
   {
    "duration": 19,
    "start_time": "2024-09-24T19:11:47.511Z"
   },
   {
    "duration": 17,
    "start_time": "2024-09-24T19:11:47.532Z"
   },
   {
    "duration": 7,
    "start_time": "2024-09-24T19:11:47.550Z"
   },
   {
    "duration": 12,
    "start_time": "2024-09-24T19:11:47.558Z"
   },
   {
    "duration": 7,
    "start_time": "2024-09-24T19:11:47.572Z"
   },
   {
    "duration": 13,
    "start_time": "2024-09-24T19:11:47.581Z"
   },
   {
    "duration": 7,
    "start_time": "2024-09-24T19:11:47.597Z"
   },
   {
    "duration": 7,
    "start_time": "2024-09-24T19:11:47.606Z"
   },
   {
    "duration": 6,
    "start_time": "2024-09-24T19:11:47.647Z"
   },
   {
    "duration": 22,
    "start_time": "2024-09-24T19:11:47.655Z"
   },
   {
    "duration": 18,
    "start_time": "2024-09-24T19:11:47.679Z"
   },
   {
    "duration": 6,
    "start_time": "2024-09-24T19:11:47.699Z"
   },
   {
    "duration": 24,
    "start_time": "2024-09-24T19:11:47.707Z"
   },
   {
    "duration": 168,
    "start_time": "2024-09-24T19:11:47.734Z"
   },
   {
    "duration": 6,
    "start_time": "2024-09-24T19:11:47.904Z"
   },
   {
    "duration": 106,
    "start_time": "2024-09-24T19:11:47.911Z"
   },
   {
    "duration": 327,
    "start_time": "2024-09-24T19:11:48.019Z"
   },
   {
    "duration": 10,
    "start_time": "2024-09-24T19:11:48.347Z"
   },
   {
    "duration": 889,
    "start_time": "2024-09-24T19:11:48.359Z"
   },
   {
    "duration": 9,
    "start_time": "2024-09-24T19:11:49.251Z"
   },
   {
    "duration": 228,
    "start_time": "2024-09-24T19:11:49.262Z"
   },
   {
    "duration": 16,
    "start_time": "2024-09-24T19:11:49.492Z"
   },
   {
    "duration": 40,
    "start_time": "2024-09-24T19:11:49.510Z"
   },
   {
    "duration": 23,
    "start_time": "2024-09-24T19:11:49.553Z"
   },
   {
    "duration": 21,
    "start_time": "2024-09-24T19:11:49.579Z"
   },
   {
    "duration": 9,
    "start_time": "2024-09-24T19:11:49.601Z"
   },
   {
    "duration": 244,
    "start_time": "2024-09-24T19:11:49.612Z"
   },
   {
    "duration": 204,
    "start_time": "2024-09-24T19:11:49.858Z"
   },
   {
    "duration": 206,
    "start_time": "2024-09-24T19:11:50.064Z"
   },
   {
    "duration": 187,
    "start_time": "2024-09-24T19:11:50.272Z"
   },
   {
    "duration": 56,
    "start_time": "2024-09-24T19:11:50.461Z"
   },
   {
    "duration": 33,
    "start_time": "2024-09-24T19:11:50.523Z"
   },
   {
    "duration": 6,
    "start_time": "2024-09-24T19:11:50.557Z"
   },
   {
    "duration": 12,
    "start_time": "2024-09-24T19:11:50.565Z"
   },
   {
    "duration": 17,
    "start_time": "2024-09-24T19:11:50.579Z"
   },
   {
    "duration": 10,
    "start_time": "2024-09-24T19:15:58.788Z"
   },
   {
    "duration": 9,
    "start_time": "2024-09-24T19:20:06.048Z"
   },
   {
    "duration": 195,
    "start_time": "2024-09-24T19:20:06.191Z"
   },
   {
    "duration": 9,
    "start_time": "2024-09-24T19:24:33.996Z"
   },
   {
    "duration": 204,
    "start_time": "2024-09-24T19:24:34.956Z"
   },
   {
    "duration": 9,
    "start_time": "2024-09-24T19:27:38.445Z"
   },
   {
    "duration": 293,
    "start_time": "2024-09-24T19:27:39.373Z"
   },
   {
    "duration": 8,
    "start_time": "2024-09-24T20:12:53.618Z"
   },
   {
    "duration": 1423,
    "start_time": "2024-09-24T20:29:38.054Z"
   },
   {
    "duration": 72,
    "start_time": "2024-09-24T20:29:39.479Z"
   },
   {
    "duration": 31,
    "start_time": "2024-09-24T20:29:39.553Z"
   },
   {
    "duration": 19,
    "start_time": "2024-09-24T20:29:39.587Z"
   },
   {
    "duration": 44,
    "start_time": "2024-09-24T20:29:39.608Z"
   },
   {
    "duration": 15,
    "start_time": "2024-09-24T20:29:39.654Z"
   },
   {
    "duration": 15,
    "start_time": "2024-09-24T20:29:39.670Z"
   },
   {
    "duration": 13,
    "start_time": "2024-09-24T20:29:39.688Z"
   },
   {
    "duration": 10,
    "start_time": "2024-09-24T20:29:39.703Z"
   },
   {
    "duration": 31,
    "start_time": "2024-09-24T20:29:39.717Z"
   },
   {
    "duration": 7,
    "start_time": "2024-09-24T20:29:39.750Z"
   },
   {
    "duration": 6,
    "start_time": "2024-09-24T20:29:39.759Z"
   },
   {
    "duration": 13,
    "start_time": "2024-09-24T20:29:39.767Z"
   },
   {
    "duration": 15,
    "start_time": "2024-09-24T20:29:39.782Z"
   },
   {
    "duration": 6,
    "start_time": "2024-09-24T20:29:39.799Z"
   },
   {
    "duration": 46,
    "start_time": "2024-09-24T20:29:39.806Z"
   },
   {
    "duration": 203,
    "start_time": "2024-09-24T20:29:39.854Z"
   },
   {
    "duration": 5,
    "start_time": "2024-09-24T20:29:40.059Z"
   },
   {
    "duration": 115,
    "start_time": "2024-09-24T20:29:40.066Z"
   },
   {
    "duration": 356,
    "start_time": "2024-09-24T20:29:40.183Z"
   },
   {
    "duration": 11,
    "start_time": "2024-09-24T20:29:40.542Z"
   },
   {
    "duration": 864,
    "start_time": "2024-09-24T20:29:40.555Z"
   },
   {
    "duration": 9,
    "start_time": "2024-09-24T20:29:41.421Z"
   },
   {
    "duration": 252,
    "start_time": "2024-09-24T20:29:41.431Z"
   },
   {
    "duration": 15,
    "start_time": "2024-09-24T20:29:41.685Z"
   },
   {
    "duration": 44,
    "start_time": "2024-09-24T20:29:41.702Z"
   },
   {
    "duration": 25,
    "start_time": "2024-09-24T20:29:41.748Z"
   },
   {
    "duration": 31,
    "start_time": "2024-09-24T20:29:41.777Z"
   },
   {
    "duration": 37,
    "start_time": "2024-09-24T20:29:41.810Z"
   },
   {
    "duration": 208,
    "start_time": "2024-09-24T20:29:41.849Z"
   },
   {
    "duration": 11,
    "start_time": "2024-09-24T20:29:42.059Z"
   },
   {
    "duration": 227,
    "start_time": "2024-09-24T20:29:42.072Z"
   },
   {
    "duration": 9,
    "start_time": "2024-09-24T20:29:42.301Z"
   },
   {
    "duration": 233,
    "start_time": "2024-09-24T20:29:42.312Z"
   },
   {
    "duration": 12,
    "start_time": "2024-09-24T20:29:42.547Z"
   },
   {
    "duration": 199,
    "start_time": "2024-09-24T20:29:42.561Z"
   },
   {
    "duration": 48,
    "start_time": "2024-09-24T20:29:42.762Z"
   },
   {
    "duration": 35,
    "start_time": "2024-09-24T20:29:42.812Z"
   },
   {
    "duration": 6,
    "start_time": "2024-09-24T20:29:42.849Z"
   },
   {
    "duration": 42,
    "start_time": "2024-09-24T20:29:42.856Z"
   },
   {
    "duration": 8,
    "start_time": "2024-09-24T20:29:42.899Z"
   },
   {
    "duration": 1399,
    "start_time": "2024-09-24T20:34:58.158Z"
   },
   {
    "duration": 70,
    "start_time": "2024-09-24T20:34:59.559Z"
   },
   {
    "duration": 21,
    "start_time": "2024-09-24T20:34:59.631Z"
   },
   {
    "duration": 22,
    "start_time": "2024-09-24T20:34:59.654Z"
   },
   {
    "duration": 14,
    "start_time": "2024-09-24T20:34:59.678Z"
   },
   {
    "duration": 6,
    "start_time": "2024-09-24T20:34:59.693Z"
   },
   {
    "duration": 8,
    "start_time": "2024-09-24T20:34:59.700Z"
   },
   {
    "duration": 37,
    "start_time": "2024-09-24T20:34:59.710Z"
   },
   {
    "duration": 9,
    "start_time": "2024-09-24T20:34:59.748Z"
   },
   {
    "duration": 8,
    "start_time": "2024-09-24T20:34:59.759Z"
   },
   {
    "duration": 5,
    "start_time": "2024-09-24T20:34:59.768Z"
   },
   {
    "duration": 5,
    "start_time": "2024-09-24T20:34:59.776Z"
   },
   {
    "duration": 7,
    "start_time": "2024-09-24T20:34:59.783Z"
   },
   {
    "duration": 18,
    "start_time": "2024-09-24T20:34:59.792Z"
   },
   {
    "duration": 38,
    "start_time": "2024-09-24T20:34:59.811Z"
   },
   {
    "duration": 6,
    "start_time": "2024-09-24T20:34:59.851Z"
   },
   {
    "duration": 180,
    "start_time": "2024-09-24T20:34:59.858Z"
   },
   {
    "duration": 8,
    "start_time": "2024-09-24T20:35:00.040Z"
   },
   {
    "duration": 112,
    "start_time": "2024-09-24T20:35:00.049Z"
   },
   {
    "duration": 326,
    "start_time": "2024-09-24T20:35:00.163Z"
   },
   {
    "duration": 9,
    "start_time": "2024-09-24T20:35:00.491Z"
   },
   {
    "duration": 911,
    "start_time": "2024-09-24T20:35:00.502Z"
   },
   {
    "duration": 9,
    "start_time": "2024-09-24T20:35:01.415Z"
   },
   {
    "duration": 236,
    "start_time": "2024-09-24T20:35:01.425Z"
   },
   {
    "duration": 14,
    "start_time": "2024-09-24T20:35:01.663Z"
   },
   {
    "duration": 30,
    "start_time": "2024-09-24T20:35:01.678Z"
   },
   {
    "duration": 41,
    "start_time": "2024-09-24T20:35:01.710Z"
   },
   {
    "duration": 23,
    "start_time": "2024-09-24T20:35:01.755Z"
   },
   {
    "duration": 9,
    "start_time": "2024-09-24T20:35:01.780Z"
   },
   {
    "duration": 232,
    "start_time": "2024-09-24T20:35:01.791Z"
   },
   {
    "duration": 21,
    "start_time": "2024-09-24T20:35:02.025Z"
   },
   {
    "duration": 242,
    "start_time": "2024-09-24T20:35:02.048Z"
   },
   {
    "duration": 8,
    "start_time": "2024-09-24T20:35:02.292Z"
   },
   {
    "duration": 224,
    "start_time": "2024-09-24T20:35:02.302Z"
   },
   {
    "duration": 21,
    "start_time": "2024-09-24T20:35:02.528Z"
   },
   {
    "duration": 220,
    "start_time": "2024-09-24T20:35:02.551Z"
   },
   {
    "duration": 47,
    "start_time": "2024-09-24T20:35:02.772Z"
   },
   {
    "duration": 30,
    "start_time": "2024-09-24T20:35:02.821Z"
   },
   {
    "duration": 44,
    "start_time": "2024-09-24T20:35:02.853Z"
   },
   {
    "duration": 19,
    "start_time": "2024-09-24T20:35:02.899Z"
   },
   {
    "duration": 22,
    "start_time": "2024-09-24T20:35:02.920Z"
   },
   {
    "duration": 1367,
    "start_time": "2024-09-24T20:37:24.865Z"
   },
   {
    "duration": 69,
    "start_time": "2024-09-24T20:37:26.234Z"
   },
   {
    "duration": 20,
    "start_time": "2024-09-24T20:37:26.305Z"
   },
   {
    "duration": 17,
    "start_time": "2024-09-24T20:37:26.327Z"
   },
   {
    "duration": 15,
    "start_time": "2024-09-24T20:37:26.346Z"
   },
   {
    "duration": 9,
    "start_time": "2024-09-24T20:37:26.362Z"
   },
   {
    "duration": 10,
    "start_time": "2024-09-24T20:37:26.373Z"
   },
   {
    "duration": 8,
    "start_time": "2024-09-24T20:37:26.385Z"
   },
   {
    "duration": 15,
    "start_time": "2024-09-24T20:37:26.395Z"
   },
   {
    "duration": 36,
    "start_time": "2024-09-24T20:37:26.411Z"
   },
   {
    "duration": 6,
    "start_time": "2024-09-24T20:37:26.448Z"
   },
   {
    "duration": 8,
    "start_time": "2024-09-24T20:37:26.455Z"
   },
   {
    "duration": 10,
    "start_time": "2024-09-24T20:37:26.464Z"
   },
   {
    "duration": 11,
    "start_time": "2024-09-24T20:37:26.477Z"
   },
   {
    "duration": 9,
    "start_time": "2024-09-24T20:37:26.490Z"
   },
   {
    "duration": 28,
    "start_time": "2024-09-24T20:37:26.501Z"
   },
   {
    "duration": 198,
    "start_time": "2024-09-24T20:37:26.531Z"
   },
   {
    "duration": 16,
    "start_time": "2024-09-24T20:37:26.730Z"
   },
   {
    "duration": 109,
    "start_time": "2024-09-24T20:37:26.748Z"
   },
   {
    "duration": 343,
    "start_time": "2024-09-24T20:37:26.859Z"
   },
   {
    "duration": 10,
    "start_time": "2024-09-24T20:37:27.205Z"
   },
   {
    "duration": 898,
    "start_time": "2024-09-24T20:37:27.217Z"
   },
   {
    "duration": 8,
    "start_time": "2024-09-24T20:37:28.117Z"
   },
   {
    "duration": 230,
    "start_time": "2024-09-24T20:37:28.127Z"
   },
   {
    "duration": 14,
    "start_time": "2024-09-24T20:37:28.359Z"
   },
   {
    "duration": 26,
    "start_time": "2024-09-24T20:37:28.375Z"
   },
   {
    "duration": 49,
    "start_time": "2024-09-24T20:37:28.403Z"
   },
   {
    "duration": 21,
    "start_time": "2024-09-24T20:37:28.454Z"
   },
   {
    "duration": 11,
    "start_time": "2024-09-24T20:37:28.477Z"
   },
   {
    "duration": 301,
    "start_time": "2024-09-24T20:37:28.490Z"
   },
   {
    "duration": 9,
    "start_time": "2024-09-24T20:37:28.792Z"
   },
   {
    "duration": 209,
    "start_time": "2024-09-24T20:37:28.802Z"
   },
   {
    "duration": 8,
    "start_time": "2024-09-24T20:37:29.013Z"
   },
   {
    "duration": 230,
    "start_time": "2024-09-24T20:37:29.024Z"
   },
   {
    "duration": 8,
    "start_time": "2024-09-24T20:37:29.256Z"
   },
   {
    "duration": 232,
    "start_time": "2024-09-24T20:37:29.266Z"
   },
   {
    "duration": 53,
    "start_time": "2024-09-24T20:37:29.500Z"
   },
   {
    "duration": 16,
    "start_time": "2024-09-24T20:37:29.554Z"
   },
   {
    "duration": 5,
    "start_time": "2024-09-24T20:37:29.572Z"
   },
   {
    "duration": 8,
    "start_time": "2024-09-24T20:37:29.578Z"
   },
   {
    "duration": 8,
    "start_time": "2024-09-24T20:37:29.589Z"
   },
   {
    "duration": 10,
    "start_time": "2024-09-25T08:24:30.278Z"
   },
   {
    "duration": 8,
    "start_time": "2024-09-25T08:24:30.423Z"
   },
   {
    "duration": 1204,
    "start_time": "2024-09-25T08:41:15.956Z"
   },
   {
    "duration": 72,
    "start_time": "2024-09-25T08:41:17.162Z"
   },
   {
    "duration": 18,
    "start_time": "2024-09-25T08:41:17.235Z"
   },
   {
    "duration": 19,
    "start_time": "2024-09-25T08:41:17.255Z"
   },
   {
    "duration": 12,
    "start_time": "2024-09-25T08:41:17.276Z"
   },
   {
    "duration": 5,
    "start_time": "2024-09-25T08:41:17.289Z"
   },
   {
    "duration": 8,
    "start_time": "2024-09-25T08:41:17.296Z"
   },
   {
    "duration": 7,
    "start_time": "2024-09-25T08:41:17.306Z"
   },
   {
    "duration": 9,
    "start_time": "2024-09-25T08:41:17.314Z"
   },
   {
    "duration": 7,
    "start_time": "2024-09-25T08:41:17.327Z"
   },
   {
    "duration": 58,
    "start_time": "2024-09-25T08:41:17.336Z"
   },
   {
    "duration": 5,
    "start_time": "2024-09-25T08:41:17.395Z"
   },
   {
    "duration": 6,
    "start_time": "2024-09-25T08:41:17.401Z"
   },
   {
    "duration": 8,
    "start_time": "2024-09-25T08:41:17.408Z"
   },
   {
    "duration": 4,
    "start_time": "2024-09-25T08:41:17.418Z"
   },
   {
    "duration": 6,
    "start_time": "2024-09-25T08:41:17.423Z"
   },
   {
    "duration": 190,
    "start_time": "2024-09-25T08:41:17.430Z"
   },
   {
    "duration": 5,
    "start_time": "2024-09-25T08:41:17.621Z"
   },
   {
    "duration": 106,
    "start_time": "2024-09-25T08:41:17.628Z"
   },
   {
    "duration": 7,
    "start_time": "2024-09-25T08:41:17.736Z"
   },
   {
    "duration": 282,
    "start_time": "2024-09-25T08:41:17.745Z"
   },
   {
    "duration": 8,
    "start_time": "2024-09-25T08:41:18.028Z"
   },
   {
    "duration": 789,
    "start_time": "2024-09-25T08:41:18.037Z"
   },
   {
    "duration": 8,
    "start_time": "2024-09-25T08:41:18.827Z"
   },
   {
    "duration": 202,
    "start_time": "2024-09-25T08:41:18.837Z"
   },
   {
    "duration": 11,
    "start_time": "2024-09-25T08:41:19.041Z"
   },
   {
    "duration": 38,
    "start_time": "2024-09-25T08:41:19.054Z"
   },
   {
    "duration": 20,
    "start_time": "2024-09-25T08:41:19.095Z"
   },
   {
    "duration": 26,
    "start_time": "2024-09-25T08:41:19.117Z"
   },
   {
    "duration": 7,
    "start_time": "2024-09-25T08:41:19.145Z"
   },
   {
    "duration": 215,
    "start_time": "2024-09-25T08:41:19.154Z"
   },
   {
    "duration": 20,
    "start_time": "2024-09-25T08:41:19.370Z"
   },
   {
    "duration": 172,
    "start_time": "2024-09-25T08:41:19.391Z"
   },
   {
    "duration": 8,
    "start_time": "2024-09-25T08:41:19.565Z"
   },
   {
    "duration": 187,
    "start_time": "2024-09-25T08:41:19.574Z"
   },
   {
    "duration": 7,
    "start_time": "2024-09-25T08:41:19.763Z"
   },
   {
    "duration": 180,
    "start_time": "2024-09-25T08:41:19.772Z"
   },
   {
    "duration": 53,
    "start_time": "2024-09-25T08:41:19.953Z"
   },
   {
    "duration": 15,
    "start_time": "2024-09-25T08:41:20.008Z"
   },
   {
    "duration": 6,
    "start_time": "2024-09-25T08:41:20.024Z"
   },
   {
    "duration": 12,
    "start_time": "2024-09-25T08:41:20.032Z"
   },
   {
    "duration": 9,
    "start_time": "2024-09-25T08:41:20.045Z"
   },
   {
    "duration": 173,
    "start_time": "2024-09-25T08:47:50.691Z"
   },
   {
    "duration": 160,
    "start_time": "2024-09-25T08:47:55.869Z"
   },
   {
    "duration": 144,
    "start_time": "2024-09-25T08:48:03.356Z"
   },
   {
    "duration": 231,
    "start_time": "2024-09-25T08:48:12.811Z"
   },
   {
    "duration": 155,
    "start_time": "2024-09-25T08:48:21.981Z"
   },
   {
    "duration": 167,
    "start_time": "2024-09-25T08:48:52.107Z"
   },
   {
    "duration": 680,
    "start_time": "2024-09-25T08:49:12.604Z"
   },
   {
    "duration": 164,
    "start_time": "2024-09-25T08:49:22.453Z"
   },
   {
    "duration": 50,
    "start_time": "2024-09-25T08:52:08.706Z"
   },
   {
    "duration": 1189,
    "start_time": "2024-09-25T08:52:25.085Z"
   },
   {
    "duration": 73,
    "start_time": "2024-09-25T08:52:26.276Z"
   },
   {
    "duration": 20,
    "start_time": "2024-09-25T08:52:26.351Z"
   },
   {
    "duration": 18,
    "start_time": "2024-09-25T08:52:26.373Z"
   },
   {
    "duration": 14,
    "start_time": "2024-09-25T08:52:26.393Z"
   },
   {
    "duration": 5,
    "start_time": "2024-09-25T08:52:26.409Z"
   },
   {
    "duration": 10,
    "start_time": "2024-09-25T08:52:26.415Z"
   },
   {
    "duration": 4,
    "start_time": "2024-09-25T08:52:26.426Z"
   },
   {
    "duration": 7,
    "start_time": "2024-09-25T08:52:26.432Z"
   },
   {
    "duration": 50,
    "start_time": "2024-09-25T08:52:26.441Z"
   },
   {
    "duration": 5,
    "start_time": "2024-09-25T08:52:26.492Z"
   },
   {
    "duration": 5,
    "start_time": "2024-09-25T08:52:26.499Z"
   },
   {
    "duration": 5,
    "start_time": "2024-09-25T08:52:26.506Z"
   },
   {
    "duration": 7,
    "start_time": "2024-09-25T08:52:26.512Z"
   },
   {
    "duration": 12,
    "start_time": "2024-09-25T08:52:26.520Z"
   },
   {
    "duration": 4,
    "start_time": "2024-09-25T08:52:26.533Z"
   },
   {
    "duration": 184,
    "start_time": "2024-09-25T08:52:26.538Z"
   },
   {
    "duration": 5,
    "start_time": "2024-09-25T08:52:26.723Z"
   },
   {
    "duration": 128,
    "start_time": "2024-09-25T08:52:26.730Z"
   },
   {
    "duration": 8,
    "start_time": "2024-09-25T08:52:26.859Z"
   },
   {
    "duration": 280,
    "start_time": "2024-09-25T08:52:26.868Z"
   },
   {
    "duration": 7,
    "start_time": "2024-09-25T08:52:27.150Z"
   },
   {
    "duration": 750,
    "start_time": "2024-09-25T08:52:27.158Z"
   },
   {
    "duration": 8,
    "start_time": "2024-09-25T08:52:27.910Z"
   },
   {
    "duration": 199,
    "start_time": "2024-09-25T08:52:27.919Z"
   },
   {
    "duration": 13,
    "start_time": "2024-09-25T08:52:28.120Z"
   },
   {
    "duration": 26,
    "start_time": "2024-09-25T08:52:28.134Z"
   },
   {
    "duration": 41,
    "start_time": "2024-09-25T08:52:28.164Z"
   },
   {
    "duration": 20,
    "start_time": "2024-09-25T08:52:28.206Z"
   },
   {
    "duration": 65,
    "start_time": "2024-09-25T08:52:28.228Z"
   },
   {
    "duration": 195,
    "start_time": "2024-09-25T08:52:28.295Z"
   },
   {
    "duration": 7,
    "start_time": "2024-09-25T08:52:28.492Z"
   },
   {
    "duration": 189,
    "start_time": "2024-09-25T08:52:28.501Z"
   },
   {
    "duration": 7,
    "start_time": "2024-09-25T08:52:28.692Z"
   },
   {
    "duration": 181,
    "start_time": "2024-09-25T08:52:28.700Z"
   },
   {
    "duration": 13,
    "start_time": "2024-09-25T08:52:28.882Z"
   },
   {
    "duration": 176,
    "start_time": "2024-09-25T08:52:28.897Z"
   },
   {
    "duration": 46,
    "start_time": "2024-09-25T08:52:29.075Z"
   },
   {
    "duration": 66,
    "start_time": "2024-09-25T08:52:29.123Z"
   },
   {
    "duration": 241,
    "start_time": "2024-09-25T08:52:29.191Z"
   },
   {
    "duration": 82,
    "start_time": "2024-09-25T08:52:29.433Z"
   },
   {
    "duration": 11,
    "start_time": "2024-09-25T08:52:29.516Z"
   },
   {
    "duration": 1545,
    "start_time": "2024-09-25T09:19:58.314Z"
   },
   {
    "duration": 292,
    "start_time": "2024-09-25T09:19:59.861Z"
   },
   {
    "duration": 22,
    "start_time": "2024-09-25T09:20:00.155Z"
   },
   {
    "duration": 117,
    "start_time": "2024-09-25T09:20:00.178Z"
   },
   {
    "duration": 43,
    "start_time": "2024-09-25T09:20:00.298Z"
   },
   {
    "duration": 51,
    "start_time": "2024-09-25T09:20:00.343Z"
   },
   {
    "duration": 60,
    "start_time": "2024-09-25T09:20:00.396Z"
   },
   {
    "duration": 19,
    "start_time": "2024-09-25T09:20:00.458Z"
   },
   {
    "duration": 22,
    "start_time": "2024-09-25T09:20:00.479Z"
   },
   {
    "duration": 26,
    "start_time": "2024-09-25T09:20:00.503Z"
   },
   {
    "duration": 8,
    "start_time": "2024-09-25T09:20:00.531Z"
   },
   {
    "duration": 20,
    "start_time": "2024-09-25T09:20:00.541Z"
   },
   {
    "duration": 39,
    "start_time": "2024-09-25T09:20:00.563Z"
   },
   {
    "duration": 15,
    "start_time": "2024-09-25T09:20:00.606Z"
   },
   {
    "duration": 35,
    "start_time": "2024-09-25T09:20:00.623Z"
   },
   {
    "duration": 24,
    "start_time": "2024-09-25T09:20:00.660Z"
   },
   {
    "duration": 169,
    "start_time": "2024-09-25T09:20:00.686Z"
   },
   {
    "duration": 7,
    "start_time": "2024-09-25T09:20:00.857Z"
   },
   {
    "duration": 108,
    "start_time": "2024-09-25T09:20:00.866Z"
   },
   {
    "duration": 8,
    "start_time": "2024-09-25T09:20:00.976Z"
   },
   {
    "duration": 327,
    "start_time": "2024-09-25T09:20:00.986Z"
   },
   {
    "duration": 9,
    "start_time": "2024-09-25T09:20:01.315Z"
   },
   {
    "duration": 901,
    "start_time": "2024-09-25T09:20:01.326Z"
   },
   {
    "duration": 9,
    "start_time": "2024-09-25T09:20:02.229Z"
   },
   {
    "duration": 395,
    "start_time": "2024-09-25T09:20:02.239Z"
   },
   {
    "duration": 69,
    "start_time": "2024-09-25T09:20:02.636Z"
   },
   {
    "duration": 26,
    "start_time": "2024-09-25T09:20:02.707Z"
   },
   {
    "duration": 76,
    "start_time": "2024-09-25T09:20:02.735Z"
   },
   {
    "duration": 94,
    "start_time": "2024-09-25T09:20:02.812Z"
   },
   {
    "duration": 38,
    "start_time": "2024-09-25T09:20:02.908Z"
   },
   {
    "duration": 558,
    "start_time": "2024-09-25T09:20:02.948Z"
   },
   {
    "duration": 8,
    "start_time": "2024-09-25T09:20:03.508Z"
   },
   {
    "duration": 387,
    "start_time": "2024-09-25T09:20:03.518Z"
   },
   {
    "duration": 8,
    "start_time": "2024-09-25T09:20:03.907Z"
   },
   {
    "duration": 244,
    "start_time": "2024-09-25T09:20:03.916Z"
   },
   {
    "duration": 8,
    "start_time": "2024-09-25T09:20:04.162Z"
   },
   {
    "duration": 203,
    "start_time": "2024-09-25T09:20:04.172Z"
   },
   {
    "duration": 56,
    "start_time": "2024-09-25T09:20:04.377Z"
   },
   {
    "duration": 16,
    "start_time": "2024-09-25T09:20:04.435Z"
   },
   {
    "duration": 21,
    "start_time": "2024-09-25T09:20:04.452Z"
   },
   {
    "duration": 7,
    "start_time": "2024-09-25T09:20:04.477Z"
   },
   {
    "duration": 37,
    "start_time": "2024-09-25T09:20:04.486Z"
   },
   {
    "duration": 21,
    "start_time": "2024-09-25T09:20:36.160Z"
   },
   {
    "duration": 5,
    "start_time": "2024-09-25T11:58:39.875Z"
   },
   {
    "duration": 4,
    "start_time": "2024-09-25T11:58:51.317Z"
   },
   {
    "duration": 4,
    "start_time": "2024-09-25T11:58:57.281Z"
   },
   {
    "duration": 9,
    "start_time": "2024-09-25T12:00:14.381Z"
   },
   {
    "duration": 6,
    "start_time": "2024-09-25T12:00:33.911Z"
   },
   {
    "duration": 6,
    "start_time": "2024-09-25T12:00:59.495Z"
   },
   {
    "duration": 7,
    "start_time": "2024-09-25T12:05:13.422Z"
   },
   {
    "duration": 9,
    "start_time": "2024-09-25T12:05:16.558Z"
   },
   {
    "duration": 6,
    "start_time": "2024-09-25T12:05:21.690Z"
   },
   {
    "duration": 7,
    "start_time": "2024-09-25T12:05:37.133Z"
   },
   {
    "duration": 9,
    "start_time": "2024-09-25T12:06:20.271Z"
   },
   {
    "duration": 180,
    "start_time": "2024-09-25T12:22:39.615Z"
   },
   {
    "duration": 290,
    "start_time": "2024-09-25T12:23:43.044Z"
   },
   {
    "duration": 98,
    "start_time": "2024-09-25T12:46:27.834Z"
   },
   {
    "duration": 209,
    "start_time": "2024-09-25T12:47:15.914Z"
   },
   {
    "duration": 25,
    "start_time": "2024-09-25T12:58:36.485Z"
   },
   {
    "duration": 14,
    "start_time": "2024-09-25T12:58:57.060Z"
   },
   {
    "duration": 25,
    "start_time": "2024-09-25T12:59:21.176Z"
   },
   {
    "duration": 28,
    "start_time": "2024-09-25T12:59:27.166Z"
   },
   {
    "duration": 11,
    "start_time": "2024-09-25T13:14:34.517Z"
   },
   {
    "duration": 52,
    "start_time": "2024-09-25T13:17:34.750Z"
   },
   {
    "duration": 19,
    "start_time": "2024-09-25T13:17:40.932Z"
   },
   {
    "duration": 1259,
    "start_time": "2024-09-25T13:17:47.327Z"
   },
   {
    "duration": 72,
    "start_time": "2024-09-25T13:17:48.590Z"
   },
   {
    "duration": 25,
    "start_time": "2024-09-25T13:17:48.664Z"
   },
   {
    "duration": 21,
    "start_time": "2024-09-25T13:17:48.692Z"
   },
   {
    "duration": 18,
    "start_time": "2024-09-25T13:17:48.714Z"
   },
   {
    "duration": 6,
    "start_time": "2024-09-25T13:17:48.734Z"
   },
   {
    "duration": 9,
    "start_time": "2024-09-25T13:17:48.742Z"
   },
   {
    "duration": 7,
    "start_time": "2024-09-25T13:17:48.790Z"
   },
   {
    "duration": 14,
    "start_time": "2024-09-25T13:17:48.799Z"
   },
   {
    "duration": 7,
    "start_time": "2024-09-25T13:17:48.815Z"
   },
   {
    "duration": 5,
    "start_time": "2024-09-25T13:17:48.824Z"
   },
   {
    "duration": 14,
    "start_time": "2024-09-25T13:17:48.831Z"
   },
   {
    "duration": 43,
    "start_time": "2024-09-25T13:17:48.848Z"
   },
   {
    "duration": 6,
    "start_time": "2024-09-25T13:17:48.893Z"
   },
   {
    "duration": 7,
    "start_time": "2024-09-25T13:17:48.901Z"
   },
   {
    "duration": 9,
    "start_time": "2024-09-25T13:17:48.910Z"
   },
   {
    "duration": 7,
    "start_time": "2024-09-25T13:17:48.920Z"
   },
   {
    "duration": 10,
    "start_time": "2024-09-25T13:17:48.928Z"
   },
   {
    "duration": 200,
    "start_time": "2024-09-25T13:17:48.940Z"
   },
   {
    "duration": 199,
    "start_time": "2024-09-25T13:17:49.141Z"
   },
   {
    "duration": 6,
    "start_time": "2024-09-25T13:17:49.342Z"
   },
   {
    "duration": 126,
    "start_time": "2024-09-25T13:17:49.349Z"
   },
   {
    "duration": 13,
    "start_time": "2024-09-25T13:17:49.477Z"
   },
   {
    "duration": 317,
    "start_time": "2024-09-25T13:17:49.492Z"
   },
   {
    "duration": 11,
    "start_time": "2024-09-25T13:17:49.811Z"
   },
   {
    "duration": 878,
    "start_time": "2024-09-25T13:17:49.824Z"
   },
   {
    "duration": 126,
    "start_time": "2024-09-25T13:17:50.704Z"
   },
   {
    "duration": 8,
    "start_time": "2024-09-25T13:17:50.834Z"
   },
   {
    "duration": 195,
    "start_time": "2024-09-25T13:17:50.844Z"
   },
   {
    "duration": 114,
    "start_time": "2024-09-25T13:17:51.041Z"
   },
   {
    "duration": 40,
    "start_time": "2024-09-25T13:17:51.157Z"
   },
   {
    "duration": 14,
    "start_time": "2024-09-25T13:17:51.198Z"
   },
   {
    "duration": 24,
    "start_time": "2024-09-25T13:17:51.214Z"
   },
   {
    "duration": 10,
    "start_time": "2024-09-25T13:17:51.239Z"
   },
   {
    "duration": 58,
    "start_time": "2024-09-25T13:17:51.250Z"
   },
   {
    "duration": 25,
    "start_time": "2024-09-25T13:17:51.310Z"
   },
   {
    "duration": 9,
    "start_time": "2024-09-25T13:17:51.337Z"
   },
   {
    "duration": 205,
    "start_time": "2024-09-25T13:17:51.347Z"
   },
   {
    "duration": 9,
    "start_time": "2024-09-25T13:17:51.553Z"
   },
   {
    "duration": 217,
    "start_time": "2024-09-25T13:17:51.563Z"
   },
   {
    "duration": 13,
    "start_time": "2024-09-25T13:17:51.782Z"
   },
   {
    "duration": 220,
    "start_time": "2024-09-25T13:17:51.797Z"
   },
   {
    "duration": 7,
    "start_time": "2024-09-25T13:17:52.019Z"
   },
   {
    "duration": 179,
    "start_time": "2024-09-25T13:17:52.028Z"
   },
   {
    "duration": 44,
    "start_time": "2024-09-25T13:17:52.208Z"
   },
   {
    "duration": 37,
    "start_time": "2024-09-25T13:17:52.253Z"
   },
   {
    "duration": 5,
    "start_time": "2024-09-25T13:17:52.292Z"
   },
   {
    "duration": 7,
    "start_time": "2024-09-25T13:17:52.298Z"
   },
   {
    "duration": 9,
    "start_time": "2024-09-25T13:17:52.307Z"
   },
   {
    "duration": 5,
    "start_time": "2024-09-25T13:25:37.754Z"
   },
   {
    "duration": 1244,
    "start_time": "2024-09-25T13:50:13.161Z"
   },
   {
    "duration": 73,
    "start_time": "2024-09-25T13:50:14.408Z"
   },
   {
    "duration": 27,
    "start_time": "2024-09-25T13:50:14.482Z"
   },
   {
    "duration": 21,
    "start_time": "2024-09-25T13:50:14.512Z"
   },
   {
    "duration": 14,
    "start_time": "2024-09-25T13:50:14.534Z"
   },
   {
    "duration": 10,
    "start_time": "2024-09-25T13:50:14.549Z"
   },
   {
    "duration": 36,
    "start_time": "2024-09-25T13:50:14.561Z"
   },
   {
    "duration": 19,
    "start_time": "2024-09-25T13:50:14.602Z"
   },
   {
    "duration": 9,
    "start_time": "2024-09-25T13:50:14.622Z"
   },
   {
    "duration": 13,
    "start_time": "2024-09-25T13:50:14.634Z"
   },
   {
    "duration": 5,
    "start_time": "2024-09-25T13:50:14.649Z"
   },
   {
    "duration": 9,
    "start_time": "2024-09-25T13:50:14.656Z"
   },
   {
    "duration": 26,
    "start_time": "2024-09-25T13:50:14.666Z"
   },
   {
    "duration": 9,
    "start_time": "2024-09-25T13:50:14.696Z"
   },
   {
    "duration": 8,
    "start_time": "2024-09-25T13:50:14.706Z"
   },
   {
    "duration": 8,
    "start_time": "2024-09-25T13:50:14.716Z"
   },
   {
    "duration": 4,
    "start_time": "2024-09-25T13:50:14.726Z"
   },
   {
    "duration": 7,
    "start_time": "2024-09-25T13:50:14.732Z"
   },
   {
    "duration": 202,
    "start_time": "2024-09-25T13:50:14.741Z"
   },
   {
    "duration": 200,
    "start_time": "2024-09-25T13:50:14.945Z"
   },
   {
    "duration": 5,
    "start_time": "2024-09-25T13:50:15.146Z"
   },
   {
    "duration": 131,
    "start_time": "2024-09-25T13:50:15.153Z"
   },
   {
    "duration": 16,
    "start_time": "2024-09-25T13:50:15.285Z"
   },
   {
    "duration": 305,
    "start_time": "2024-09-25T13:50:15.304Z"
   },
   {
    "duration": 9,
    "start_time": "2024-09-25T13:50:15.610Z"
   },
   {
    "duration": 835,
    "start_time": "2024-09-25T13:50:15.620Z"
   },
   {
    "duration": 119,
    "start_time": "2024-09-25T13:50:16.457Z"
   },
   {
    "duration": 24,
    "start_time": "2024-09-25T13:50:16.579Z"
   },
   {
    "duration": 190,
    "start_time": "2024-09-25T13:50:16.605Z"
   },
   {
    "duration": 122,
    "start_time": "2024-09-25T13:50:16.797Z"
   },
   {
    "duration": 21,
    "start_time": "2024-09-25T13:50:16.920Z"
   },
   {
    "duration": 21,
    "start_time": "2024-09-25T13:50:16.942Z"
   },
   {
    "duration": 49,
    "start_time": "2024-09-25T13:50:16.964Z"
   },
   {
    "duration": 8,
    "start_time": "2024-09-25T13:50:17.015Z"
   },
   {
    "duration": 32,
    "start_time": "2024-09-25T13:50:17.024Z"
   },
   {
    "duration": 35,
    "start_time": "2024-09-25T13:50:17.058Z"
   },
   {
    "duration": 9,
    "start_time": "2024-09-25T13:50:17.101Z"
   },
   {
    "duration": 207,
    "start_time": "2024-09-25T13:50:17.112Z"
   },
   {
    "duration": 9,
    "start_time": "2024-09-25T13:50:17.321Z"
   },
   {
    "duration": 212,
    "start_time": "2024-09-25T13:50:17.333Z"
   },
   {
    "duration": 10,
    "start_time": "2024-09-25T13:50:17.547Z"
   },
   {
    "duration": 217,
    "start_time": "2024-09-25T13:50:17.558Z"
   },
   {
    "duration": 28,
    "start_time": "2024-09-25T13:50:17.777Z"
   },
   {
    "duration": 165,
    "start_time": "2024-09-25T13:50:17.806Z"
   },
   {
    "duration": 54,
    "start_time": "2024-09-25T13:50:17.973Z"
   },
   {
    "duration": 17,
    "start_time": "2024-09-25T13:50:18.029Z"
   },
   {
    "duration": 6,
    "start_time": "2024-09-25T13:50:18.048Z"
   },
   {
    "duration": 33,
    "start_time": "2024-09-25T13:50:18.056Z"
   },
   {
    "duration": 13,
    "start_time": "2024-09-25T13:50:18.092Z"
   },
   {
    "duration": 121,
    "start_time": "2024-09-25T13:50:18.107Z"
   },
   {
    "duration": 1129,
    "start_time": "2024-09-25T14:04:25.726Z"
   },
   {
    "duration": 73,
    "start_time": "2024-09-25T14:04:26.857Z"
   },
   {
    "duration": 17,
    "start_time": "2024-09-25T14:04:26.932Z"
   },
   {
    "duration": 15,
    "start_time": "2024-09-25T14:04:26.951Z"
   },
   {
    "duration": 12,
    "start_time": "2024-09-25T14:04:26.967Z"
   },
   {
    "duration": 13,
    "start_time": "2024-09-25T14:04:26.980Z"
   },
   {
    "duration": 8,
    "start_time": "2024-09-25T14:04:26.994Z"
   },
   {
    "duration": 5,
    "start_time": "2024-09-25T14:04:27.003Z"
   },
   {
    "duration": 9,
    "start_time": "2024-09-25T14:04:27.009Z"
   },
   {
    "duration": 18,
    "start_time": "2024-09-25T14:04:27.019Z"
   },
   {
    "duration": 4,
    "start_time": "2024-09-25T14:04:27.038Z"
   },
   {
    "duration": 10,
    "start_time": "2024-09-25T14:04:27.043Z"
   },
   {
    "duration": 35,
    "start_time": "2024-09-25T14:04:27.054Z"
   },
   {
    "duration": 5,
    "start_time": "2024-09-25T14:04:27.092Z"
   },
   {
    "duration": 5,
    "start_time": "2024-09-25T14:04:27.098Z"
   },
   {
    "duration": 10,
    "start_time": "2024-09-25T14:04:27.104Z"
   },
   {
    "duration": 9,
    "start_time": "2024-09-25T14:04:27.116Z"
   },
   {
    "duration": 7,
    "start_time": "2024-09-25T14:04:27.126Z"
   },
   {
    "duration": 186,
    "start_time": "2024-09-25T14:04:27.134Z"
   },
   {
    "duration": 179,
    "start_time": "2024-09-25T14:04:27.321Z"
   },
   {
    "duration": 5,
    "start_time": "2024-09-25T14:04:27.501Z"
   },
   {
    "duration": 103,
    "start_time": "2024-09-25T14:04:27.507Z"
   },
   {
    "duration": 7,
    "start_time": "2024-09-25T14:04:27.611Z"
   },
   {
    "duration": 284,
    "start_time": "2024-09-25T14:04:27.619Z"
   },
   {
    "duration": 10,
    "start_time": "2024-09-25T14:04:27.905Z"
   },
   {
    "duration": 764,
    "start_time": "2024-09-25T14:04:27.916Z"
   },
   {
    "duration": 105,
    "start_time": "2024-09-25T14:04:28.690Z"
   },
   {
    "duration": 10,
    "start_time": "2024-09-25T14:04:28.797Z"
   },
   {
    "duration": 189,
    "start_time": "2024-09-25T14:04:28.809Z"
   },
   {
    "duration": 104,
    "start_time": "2024-09-25T14:04:29.000Z"
   },
   {
    "duration": 21,
    "start_time": "2024-09-25T14:04:29.106Z"
   },
   {
    "duration": 12,
    "start_time": "2024-09-25T14:04:29.129Z"
   },
   {
    "duration": 51,
    "start_time": "2024-09-25T14:04:29.143Z"
   },
   {
    "duration": 9,
    "start_time": "2024-09-25T14:04:29.195Z"
   },
   {
    "duration": 22,
    "start_time": "2024-09-25T14:04:29.206Z"
   },
   {
    "duration": 19,
    "start_time": "2024-09-25T14:04:29.229Z"
   },
   {
    "duration": 58,
    "start_time": "2024-09-25T14:04:29.250Z"
   },
   {
    "duration": 188,
    "start_time": "2024-09-25T14:04:29.310Z"
   },
   {
    "duration": 7,
    "start_time": "2024-09-25T14:04:29.500Z"
   },
   {
    "duration": 176,
    "start_time": "2024-09-25T14:04:29.508Z"
   },
   {
    "duration": 7,
    "start_time": "2024-09-25T14:04:29.692Z"
   },
   {
    "duration": 171,
    "start_time": "2024-09-25T14:04:29.701Z"
   },
   {
    "duration": 16,
    "start_time": "2024-09-25T14:04:29.874Z"
   },
   {
    "duration": 166,
    "start_time": "2024-09-25T14:04:29.891Z"
   },
   {
    "duration": 53,
    "start_time": "2024-09-25T14:04:30.059Z"
   },
   {
    "duration": 19,
    "start_time": "2024-09-25T14:04:30.113Z"
   },
   {
    "duration": 34,
    "start_time": "2024-09-25T14:04:30.134Z"
   },
   {
    "duration": 51,
    "start_time": "2024-09-25T14:04:30.170Z"
   },
   {
    "duration": 34,
    "start_time": "2024-09-25T14:04:30.222Z"
   },
   {
    "duration": 74,
    "start_time": "2024-09-25T14:04:30.259Z"
   },
   {
    "duration": 1146,
    "start_time": "2024-09-25T14:07:01.931Z"
   },
   {
    "duration": 72,
    "start_time": "2024-09-25T14:07:03.078Z"
   },
   {
    "duration": 20,
    "start_time": "2024-09-25T14:07:03.152Z"
   },
   {
    "duration": 49,
    "start_time": "2024-09-25T14:07:03.174Z"
   },
   {
    "duration": 29,
    "start_time": "2024-09-25T14:07:03.225Z"
   },
   {
    "duration": 7,
    "start_time": "2024-09-25T14:07:03.256Z"
   },
   {
    "duration": 76,
    "start_time": "2024-09-25T14:07:03.264Z"
   },
   {
    "duration": 5,
    "start_time": "2024-09-25T14:07:03.342Z"
   },
   {
    "duration": 16,
    "start_time": "2024-09-25T14:07:03.349Z"
   },
   {
    "duration": 31,
    "start_time": "2024-09-25T14:07:03.366Z"
   },
   {
    "duration": 22,
    "start_time": "2024-09-25T14:07:03.398Z"
   },
   {
    "duration": 16,
    "start_time": "2024-09-25T14:07:03.422Z"
   },
   {
    "duration": 7,
    "start_time": "2024-09-25T14:07:03.440Z"
   },
   {
    "duration": 5,
    "start_time": "2024-09-25T14:07:03.451Z"
   },
   {
    "duration": 6,
    "start_time": "2024-09-25T14:07:03.458Z"
   },
   {
    "duration": 33,
    "start_time": "2024-09-25T14:07:03.466Z"
   },
   {
    "duration": 27,
    "start_time": "2024-09-25T14:07:03.501Z"
   },
   {
    "duration": 30,
    "start_time": "2024-09-25T14:07:03.530Z"
   },
   {
    "duration": 169,
    "start_time": "2024-09-25T14:07:03.562Z"
   },
   {
    "duration": 194,
    "start_time": "2024-09-25T14:07:03.733Z"
   },
   {
    "duration": 6,
    "start_time": "2024-09-25T14:07:03.929Z"
   },
   {
    "duration": 132,
    "start_time": "2024-09-25T14:07:03.937Z"
   },
   {
    "duration": 9,
    "start_time": "2024-09-25T14:07:04.071Z"
   },
   {
    "duration": 295,
    "start_time": "2024-09-25T14:07:04.081Z"
   },
   {
    "duration": 19,
    "start_time": "2024-09-25T14:07:04.378Z"
   },
   {
    "duration": 761,
    "start_time": "2024-09-25T14:07:04.398Z"
   },
   {
    "duration": 116,
    "start_time": "2024-09-25T14:07:05.161Z"
   },
   {
    "duration": 11,
    "start_time": "2024-09-25T14:07:05.279Z"
   },
   {
    "duration": 214,
    "start_time": "2024-09-25T14:07:05.292Z"
   },
   {
    "duration": 115,
    "start_time": "2024-09-25T14:07:05.507Z"
   },
   {
    "duration": 22,
    "start_time": "2024-09-25T14:07:05.623Z"
   },
   {
    "duration": 14,
    "start_time": "2024-09-25T14:07:05.646Z"
   },
   {
    "duration": 47,
    "start_time": "2024-09-25T14:07:05.661Z"
   },
   {
    "duration": 9,
    "start_time": "2024-09-25T14:07:05.709Z"
   },
   {
    "duration": 26,
    "start_time": "2024-09-25T14:07:05.719Z"
   },
   {
    "duration": 18,
    "start_time": "2024-09-25T14:07:05.746Z"
   },
   {
    "duration": 8,
    "start_time": "2024-09-25T14:07:05.790Z"
   },
   {
    "duration": 241,
    "start_time": "2024-09-25T14:07:05.799Z"
   },
   {
    "duration": 7,
    "start_time": "2024-09-25T14:07:06.042Z"
   },
   {
    "duration": 209,
    "start_time": "2024-09-25T14:07:06.051Z"
   },
   {
    "duration": 7,
    "start_time": "2024-09-25T14:07:06.263Z"
   },
   {
    "duration": 179,
    "start_time": "2024-09-25T14:07:06.271Z"
   },
   {
    "duration": 7,
    "start_time": "2024-09-25T14:07:06.451Z"
   },
   {
    "duration": 167,
    "start_time": "2024-09-25T14:07:06.460Z"
   },
   {
    "duration": 42,
    "start_time": "2024-09-25T14:07:06.629Z"
   },
   {
    "duration": 28,
    "start_time": "2024-09-25T14:07:06.673Z"
   },
   {
    "duration": 11,
    "start_time": "2024-09-25T14:07:06.702Z"
   },
   {
    "duration": 18,
    "start_time": "2024-09-25T14:07:06.715Z"
   },
   {
    "duration": 6,
    "start_time": "2024-09-25T14:07:06.735Z"
   },
   {
    "duration": 8,
    "start_time": "2024-09-25T14:07:06.743Z"
   },
   {
    "duration": 52,
    "start_time": "2024-09-25T16:10:51.214Z"
   },
   {
    "duration": 1296,
    "start_time": "2024-09-25T16:10:57.348Z"
   },
   {
    "duration": 381,
    "start_time": "2024-09-25T16:10:58.646Z"
   },
   {
    "duration": 22,
    "start_time": "2024-09-25T16:10:59.028Z"
   },
   {
    "duration": 19,
    "start_time": "2024-09-25T16:10:59.053Z"
   },
   {
    "duration": 16,
    "start_time": "2024-09-25T16:10:59.074Z"
   },
   {
    "duration": 40,
    "start_time": "2024-09-25T16:10:59.092Z"
   },
   {
    "duration": 12,
    "start_time": "2024-09-25T16:10:59.134Z"
   },
   {
    "duration": 7,
    "start_time": "2024-09-25T16:10:59.149Z"
   },
   {
    "duration": 24,
    "start_time": "2024-09-25T16:10:59.157Z"
   },
   {
    "duration": 13,
    "start_time": "2024-09-25T16:10:59.183Z"
   },
   {
    "duration": 6,
    "start_time": "2024-09-25T16:10:59.198Z"
   },
   {
    "duration": 10,
    "start_time": "2024-09-25T16:10:59.226Z"
   },
   {
    "duration": 6,
    "start_time": "2024-09-25T16:10:59.238Z"
   },
   {
    "duration": 5,
    "start_time": "2024-09-25T16:10:59.246Z"
   },
   {
    "duration": 7,
    "start_time": "2024-09-25T16:10:59.252Z"
   },
   {
    "duration": 8,
    "start_time": "2024-09-25T16:10:59.260Z"
   },
   {
    "duration": 57,
    "start_time": "2024-09-25T16:10:59.270Z"
   },
   {
    "duration": 8,
    "start_time": "2024-09-25T16:10:59.329Z"
   },
   {
    "duration": 187,
    "start_time": "2024-09-25T16:10:59.339Z"
   },
   {
    "duration": 233,
    "start_time": "2024-09-25T16:10:59.528Z"
   },
   {
    "duration": 6,
    "start_time": "2024-09-25T16:10:59.763Z"
   },
   {
    "duration": 123,
    "start_time": "2024-09-25T16:10:59.770Z"
   },
   {
    "duration": 7,
    "start_time": "2024-09-25T16:10:59.895Z"
   },
   {
    "duration": 429,
    "start_time": "2024-09-25T16:10:59.904Z"
   },
   {
    "duration": 9,
    "start_time": "2024-09-25T16:11:00.335Z"
   },
   {
    "duration": 917,
    "start_time": "2024-09-25T16:11:00.346Z"
   },
   {
    "duration": 136,
    "start_time": "2024-09-25T16:11:01.265Z"
   },
   {
    "duration": 22,
    "start_time": "2024-09-25T16:11:01.405Z"
   },
   {
    "duration": 204,
    "start_time": "2024-09-25T16:11:01.428Z"
   },
   {
    "duration": 125,
    "start_time": "2024-09-25T16:11:01.634Z"
   },
   {
    "duration": 24,
    "start_time": "2024-09-25T16:11:01.761Z"
   },
   {
    "duration": 39,
    "start_time": "2024-09-25T16:11:01.787Z"
   },
   {
    "duration": 26,
    "start_time": "2024-09-25T16:11:01.828Z"
   },
   {
    "duration": 10,
    "start_time": "2024-09-25T16:11:01.856Z"
   },
   {
    "duration": 25,
    "start_time": "2024-09-25T16:11:01.868Z"
   },
   {
    "duration": 47,
    "start_time": "2024-09-25T16:11:01.894Z"
   },
   {
    "duration": 60,
    "start_time": "2024-09-25T16:11:01.943Z"
   },
   {
    "duration": 199,
    "start_time": "2024-09-25T16:11:02.005Z"
   },
   {
    "duration": 20,
    "start_time": "2024-09-25T16:11:02.206Z"
   },
   {
    "duration": 207,
    "start_time": "2024-09-25T16:11:02.228Z"
   },
   {
    "duration": 9,
    "start_time": "2024-09-25T16:11:02.437Z"
   },
   {
    "duration": 209,
    "start_time": "2024-09-25T16:11:02.447Z"
   },
   {
    "duration": 12,
    "start_time": "2024-09-25T16:11:02.658Z"
   },
   {
    "duration": 220,
    "start_time": "2024-09-25T16:11:02.672Z"
   },
   {
    "duration": 66,
    "start_time": "2024-09-25T16:11:02.895Z"
   },
   {
    "duration": 17,
    "start_time": "2024-09-25T16:11:02.962Z"
   },
   {
    "duration": 5,
    "start_time": "2024-09-25T16:11:02.981Z"
   },
   {
    "duration": 5,
    "start_time": "2024-09-25T16:11:02.988Z"
   },
   {
    "duration": 5,
    "start_time": "2024-09-25T16:11:03.026Z"
   },
   {
    "duration": 9,
    "start_time": "2024-09-25T16:11:03.033Z"
   }
  ],
  "kernelspec": {
   "display_name": "Python 3 (ipykernel)",
   "language": "python",
   "name": "python3"
  },
  "language_info": {
   "codemirror_mode": {
    "name": "ipython",
    "version": 3
   },
   "file_extension": ".py",
   "mimetype": "text/x-python",
   "name": "python",
   "nbconvert_exporter": "python",
   "pygments_lexer": "ipython3",
   "version": "3.9.5"
  },
  "toc": {
   "base_numbering": 1,
   "nav_menu": {},
   "number_sections": true,
   "sideBar": true,
   "skip_h1_title": true,
   "title_cell": "Table of Contents",
   "title_sidebar": "Contents",
   "toc_cell": false,
   "toc_position": {},
   "toc_section_display": true,
   "toc_window_display": true
  }
 },
 "nbformat": 4,
 "nbformat_minor": 5
}
