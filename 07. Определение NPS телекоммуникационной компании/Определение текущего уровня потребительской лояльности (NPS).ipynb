{
 "cells": [
  {
   "cell_type": "markdown",
   "id": "4d80d189",
   "metadata": {},
   "source": [
    "# Определение текущего уровня потребительской лояльности (NPS) телекоммуникационной компании"
   ]
  },
  {
   "cell_type": "markdown",
   "id": "de8feb70",
   "metadata": {},
   "source": [
    "Заказчик этого исследования — большая телекоммуникационная компания, которая оказывает услуги на территории всего СНГ. Перед компанией стоит задача определить текущий уровень потребительской лояльности, или NPS (от англ. Net Promoter Score), среди клиентов из России. "
   ]
  },
  {
   "cell_type": "markdown",
   "id": "efa97210",
   "metadata": {},
   "source": [
    "**Цель исследования** - исследование полученных результатов NPS-опросов"
   ]
  },
  {
   "cell_type": "markdown",
   "id": "a4d3c905",
   "metadata": {},
   "source": [
    "**Ход исследования**\n",
    "- подключение к базе данных\n",
    "- выгрузка данных\n",
    "- создание дашборда в Tableau\n",
    "- оформление результатов в виде презентации"
   ]
  },
  {
   "cell_type": "code",
   "execution_count": 1,
   "id": "fc7efa54",
   "metadata": {},
   "outputs": [],
   "source": [
    "#загружаем библиотеки\n",
    "import os\n",
    "import pandas as pd\n",
    "import numpy as np\n",
    "\n",
    "from sqlalchemy import create_engine"
   ]
  },
  {
   "cell_type": "code",
   "execution_count": 2,
   "id": "0017f8e7",
   "metadata": {},
   "outputs": [],
   "source": [
    "#считываем csv-файл\n",
    "path_to_db_platform = '/datasets/telecomm_csi.db'\n",
    "path_to_db = None"
   ]
  },
  {
   "cell_type": "code",
   "execution_count": 3,
   "id": "1f7b7418",
   "metadata": {},
   "outputs": [],
   "source": [
    "if os.path.exists(path_to_db_platform):\n",
    "    path_to_db = path_to_db_platform\n",
    "else:\n",
    "    raise Exception('Файл с базой данных SQLite не найден!')"
   ]
  },
  {
   "cell_type": "code",
   "execution_count": 4,
   "id": "9d54ddd0",
   "metadata": {},
   "outputs": [],
   "source": [
    "#создаём подключение к базе\n",
    "if path_to_db:\n",
    "    engine = create_engine(f'sqlite:///{path_to_db}', echo=False)"
   ]
  },
  {
   "cell_type": "code",
   "execution_count": 5,
   "id": "84ebad43",
   "metadata": {},
   "outputs": [],
   "source": [
    "query = \"\"\"\n",
    "SELECT u.user_id as user_id,\n",
    "        u.lt_day as lt_day,\n",
    "        (CASE\n",
    "        WHEN u.lt_day < 366 THEN \"new\"\n",
    "        ELSE \"old\"\n",
    "        END) as is_new,\n",
    "        u.age as age,\n",
    "        (CASE\n",
    "        WHEN u.gender_segment = 1 THEN \"man\"\n",
    "        ELSE \"women\"\n",
    "        END) as gender_segment,\n",
    "        u.os_name as os_name, \n",
    "        u.cpe_type_name as cpe_type_name,\n",
    "        l.country as country,\n",
    "        l.city as city,\n",
    "        aseg.title as age_segment,\n",
    "        tr.title as traffic_segment,\n",
    "        lt.title as lifetime_segment, \n",
    "        u.nps_score as nps_score,\n",
    "        (CASE \n",
    "        WHEN u.nps_score BETWEEN 9 AND 10 THEN \"promoters\"\n",
    "        WHEN u.nps_score BETWEEN 7 AND 8 THEN \"neutral\"\n",
    "        ELSE \"other\"\n",
    "        END) as nps_group\n",
    "FROM user AS u\n",
    "LEFT JOIN location AS l ON u.location_id=l.location_id\n",
    "LEFT JOIN age_segment AS aseg ON u.age_gr_id=aseg.age_gr_id\n",
    "LEFT JOIN traffic_segment AS tr ON u.tr_gr_id=tr.tr_gr_id\n",
    "LEFT JOIN lifetime_segment AS lt ON u.lt_gr_id=lt.lt_gr_id\n",
    "\"\"\""
   ]
  },
  {
   "cell_type": "code",
   "execution_count": 6,
   "id": "3965faf2",
   "metadata": {
    "scrolled": true
   },
   "outputs": [
    {
     "data": {
      "text/html": [
       "<div>\n",
       "<style scoped>\n",
       "    .dataframe tbody tr th:only-of-type {\n",
       "        vertical-align: middle;\n",
       "    }\n",
       "\n",
       "    .dataframe tbody tr th {\n",
       "        vertical-align: top;\n",
       "    }\n",
       "\n",
       "    .dataframe thead th {\n",
       "        text-align: right;\n",
       "    }\n",
       "</style>\n",
       "<table border=\"1\" class=\"dataframe\">\n",
       "  <thead>\n",
       "    <tr style=\"text-align: right;\">\n",
       "      <th></th>\n",
       "      <th>user_id</th>\n",
       "      <th>lt_day</th>\n",
       "      <th>is_new</th>\n",
       "      <th>age</th>\n",
       "      <th>gender_segment</th>\n",
       "      <th>os_name</th>\n",
       "      <th>cpe_type_name</th>\n",
       "      <th>country</th>\n",
       "      <th>city</th>\n",
       "      <th>age_segment</th>\n",
       "      <th>traffic_segment</th>\n",
       "      <th>lifetime_segment</th>\n",
       "      <th>nps_score</th>\n",
       "      <th>nps_group</th>\n",
       "    </tr>\n",
       "  </thead>\n",
       "  <tbody>\n",
       "    <tr>\n",
       "      <th>0</th>\n",
       "      <td>A001A2</td>\n",
       "      <td>2320</td>\n",
       "      <td>old</td>\n",
       "      <td>45.0</td>\n",
       "      <td>man</td>\n",
       "      <td>ANDROID</td>\n",
       "      <td>SMARTPHONE</td>\n",
       "      <td>Россия</td>\n",
       "      <td>Уфа</td>\n",
       "      <td>05 45-54</td>\n",
       "      <td>04 1-5</td>\n",
       "      <td>08 36+</td>\n",
       "      <td>10</td>\n",
       "      <td>promoters</td>\n",
       "    </tr>\n",
       "    <tr>\n",
       "      <th>1</th>\n",
       "      <td>A001WF</td>\n",
       "      <td>2344</td>\n",
       "      <td>old</td>\n",
       "      <td>53.0</td>\n",
       "      <td>women</td>\n",
       "      <td>ANDROID</td>\n",
       "      <td>SMARTPHONE</td>\n",
       "      <td>Россия</td>\n",
       "      <td>Киров</td>\n",
       "      <td>05 45-54</td>\n",
       "      <td>04 1-5</td>\n",
       "      <td>08 36+</td>\n",
       "      <td>10</td>\n",
       "      <td>promoters</td>\n",
       "    </tr>\n",
       "    <tr>\n",
       "      <th>2</th>\n",
       "      <td>A003Q7</td>\n",
       "      <td>467</td>\n",
       "      <td>old</td>\n",
       "      <td>57.0</td>\n",
       "      <td>women</td>\n",
       "      <td>ANDROID</td>\n",
       "      <td>SMARTPHONE</td>\n",
       "      <td>Россия</td>\n",
       "      <td>Москва</td>\n",
       "      <td>06 55-64</td>\n",
       "      <td>08 20-25</td>\n",
       "      <td>06 13-24</td>\n",
       "      <td>10</td>\n",
       "      <td>promoters</td>\n",
       "    </tr>\n",
       "    <tr>\n",
       "      <th>3</th>\n",
       "      <td>A004TB</td>\n",
       "      <td>4190</td>\n",
       "      <td>old</td>\n",
       "      <td>44.0</td>\n",
       "      <td>man</td>\n",
       "      <td>IOS</td>\n",
       "      <td>SMARTPHONE</td>\n",
       "      <td>Россия</td>\n",
       "      <td>РостовнаДону</td>\n",
       "      <td>04 35-44</td>\n",
       "      <td>03 0.1-1</td>\n",
       "      <td>08 36+</td>\n",
       "      <td>10</td>\n",
       "      <td>promoters</td>\n",
       "    </tr>\n",
       "    <tr>\n",
       "      <th>4</th>\n",
       "      <td>A004XT</td>\n",
       "      <td>1163</td>\n",
       "      <td>old</td>\n",
       "      <td>24.0</td>\n",
       "      <td>women</td>\n",
       "      <td>ANDROID</td>\n",
       "      <td>SMARTPHONE</td>\n",
       "      <td>Россия</td>\n",
       "      <td>Рязань</td>\n",
       "      <td>02 16-24</td>\n",
       "      <td>05 5-10</td>\n",
       "      <td>08 36+</td>\n",
       "      <td>10</td>\n",
       "      <td>promoters</td>\n",
       "    </tr>\n",
       "    <tr>\n",
       "      <th>5</th>\n",
       "      <td>A005O0</td>\n",
       "      <td>5501</td>\n",
       "      <td>old</td>\n",
       "      <td>42.0</td>\n",
       "      <td>man</td>\n",
       "      <td>ANDROID</td>\n",
       "      <td>SMARTPHONE</td>\n",
       "      <td>Россия</td>\n",
       "      <td>Омск</td>\n",
       "      <td>04 35-44</td>\n",
       "      <td>05 5-10</td>\n",
       "      <td>08 36+</td>\n",
       "      <td>6</td>\n",
       "      <td>other</td>\n",
       "    </tr>\n",
       "    <tr>\n",
       "      <th>6</th>\n",
       "      <td>A0061R</td>\n",
       "      <td>1236</td>\n",
       "      <td>old</td>\n",
       "      <td>45.0</td>\n",
       "      <td>women</td>\n",
       "      <td>ANDROID</td>\n",
       "      <td>SMARTPHONE</td>\n",
       "      <td>Россия</td>\n",
       "      <td>Уфа</td>\n",
       "      <td>05 45-54</td>\n",
       "      <td>06 10-15</td>\n",
       "      <td>08 36+</td>\n",
       "      <td>10</td>\n",
       "      <td>promoters</td>\n",
       "    </tr>\n",
       "    <tr>\n",
       "      <th>7</th>\n",
       "      <td>A009KS</td>\n",
       "      <td>313</td>\n",
       "      <td>new</td>\n",
       "      <td>35.0</td>\n",
       "      <td>women</td>\n",
       "      <td>ANDROID</td>\n",
       "      <td>SMARTPHONE</td>\n",
       "      <td>Россия</td>\n",
       "      <td>Москва</td>\n",
       "      <td>04 35-44</td>\n",
       "      <td>13 45-50</td>\n",
       "      <td>05 7-12</td>\n",
       "      <td>10</td>\n",
       "      <td>promoters</td>\n",
       "    </tr>\n",
       "    <tr>\n",
       "      <th>8</th>\n",
       "      <td>A00AES</td>\n",
       "      <td>3238</td>\n",
       "      <td>old</td>\n",
       "      <td>36.0</td>\n",
       "      <td>man</td>\n",
       "      <td>ANDROID</td>\n",
       "      <td>SMARTPHONE</td>\n",
       "      <td>Россия</td>\n",
       "      <td>СанктПетербург</td>\n",
       "      <td>04 35-44</td>\n",
       "      <td>04 1-5</td>\n",
       "      <td>08 36+</td>\n",
       "      <td>10</td>\n",
       "      <td>promoters</td>\n",
       "    </tr>\n",
       "    <tr>\n",
       "      <th>9</th>\n",
       "      <td>A00F70</td>\n",
       "      <td>4479</td>\n",
       "      <td>old</td>\n",
       "      <td>54.0</td>\n",
       "      <td>man</td>\n",
       "      <td>ANDROID</td>\n",
       "      <td>SMARTPHONE</td>\n",
       "      <td>Россия</td>\n",
       "      <td>Волгоград</td>\n",
       "      <td>05 45-54</td>\n",
       "      <td>07 15-20</td>\n",
       "      <td>08 36+</td>\n",
       "      <td>9</td>\n",
       "      <td>promoters</td>\n",
       "    </tr>\n",
       "  </tbody>\n",
       "</table>\n",
       "</div>"
      ],
      "text/plain": [
       "  user_id  lt_day is_new   age gender_segment  os_name cpe_type_name country  \\\n",
       "0  A001A2    2320    old  45.0            man  ANDROID    SMARTPHONE  Россия   \n",
       "1  A001WF    2344    old  53.0          women  ANDROID    SMARTPHONE  Россия   \n",
       "2  A003Q7     467    old  57.0          women  ANDROID    SMARTPHONE  Россия   \n",
       "3  A004TB    4190    old  44.0            man      IOS    SMARTPHONE  Россия   \n",
       "4  A004XT    1163    old  24.0          women  ANDROID    SMARTPHONE  Россия   \n",
       "5  A005O0    5501    old  42.0            man  ANDROID    SMARTPHONE  Россия   \n",
       "6  A0061R    1236    old  45.0          women  ANDROID    SMARTPHONE  Россия   \n",
       "7  A009KS     313    new  35.0          women  ANDROID    SMARTPHONE  Россия   \n",
       "8  A00AES    3238    old  36.0            man  ANDROID    SMARTPHONE  Россия   \n",
       "9  A00F70    4479    old  54.0            man  ANDROID    SMARTPHONE  Россия   \n",
       "\n",
       "             city age_segment traffic_segment lifetime_segment  nps_score  \\\n",
       "0             Уфа    05 45-54          04 1-5           08 36+         10   \n",
       "1           Киров    05 45-54          04 1-5           08 36+         10   \n",
       "2          Москва    06 55-64        08 20-25         06 13-24         10   \n",
       "3    РостовнаДону    04 35-44        03 0.1-1           08 36+         10   \n",
       "4          Рязань    02 16-24         05 5-10           08 36+         10   \n",
       "5            Омск    04 35-44         05 5-10           08 36+          6   \n",
       "6             Уфа    05 45-54        06 10-15           08 36+         10   \n",
       "7          Москва    04 35-44        13 45-50          05 7-12         10   \n",
       "8  СанктПетербург    04 35-44          04 1-5           08 36+         10   \n",
       "9       Волгоград    05 45-54        07 15-20           08 36+          9   \n",
       "\n",
       "   nps_group  \n",
       "0  promoters  \n",
       "1  promoters  \n",
       "2  promoters  \n",
       "3  promoters  \n",
       "4  promoters  \n",
       "5      other  \n",
       "6  promoters  \n",
       "7  promoters  \n",
       "8  promoters  \n",
       "9  promoters  "
      ]
     },
     "execution_count": 6,
     "metadata": {},
     "output_type": "execute_result"
    }
   ],
   "source": [
    "queried_df = pd.read_sql(query, engine)\n",
    "queried_df.head(10)"
   ]
  },
  {
   "cell_type": "code",
   "execution_count": 7,
   "id": "822f7c0b",
   "metadata": {},
   "outputs": [],
   "source": [
    "queried_df.to_csv('telecomm_csi_tableau.csv', index=False)"
   ]
  },
  {
   "cell_type": "markdown",
   "id": "558b230f",
   "metadata": {},
   "source": [
    "Ссылка на презентацию:\n",
    "\n",
    "https://public.tableau.com/app/profile/petr.afonin/viz/NPS_17187247428340/NPS_8"
   ]
  }
 ],
 "metadata": {
  "ExecuteTimeLog": [
   {
    "duration": 561,
    "start_time": "2024-06-14T20:15:46.580Z"
   },
   {
    "duration": 77,
    "start_time": "2024-06-14T20:15:47.143Z"
   },
   {
    "duration": 3,
    "start_time": "2024-06-14T20:15:47.222Z"
   },
   {
    "duration": 447,
    "start_time": "2024-06-14T20:15:47.227Z"
   },
   {
    "duration": 0,
    "start_time": "2024-06-14T20:15:47.676Z"
   },
   {
    "duration": 522,
    "start_time": "2024-06-14T20:39:58.796Z"
   },
   {
    "duration": 62,
    "start_time": "2024-06-14T20:39:59.320Z"
   },
   {
    "duration": 76,
    "start_time": "2024-06-14T20:39:59.385Z"
   },
   {
    "duration": 495,
    "start_time": "2024-06-14T20:41:34.229Z"
   },
   {
    "duration": 3,
    "start_time": "2024-06-14T20:41:34.726Z"
   },
   {
    "duration": 12,
    "start_time": "2024-06-14T20:41:34.731Z"
   },
   {
    "duration": 73,
    "start_time": "2024-06-14T20:41:34.745Z"
   },
   {
    "duration": 0,
    "start_time": "2024-06-14T20:41:34.820Z"
   },
   {
    "duration": 420,
    "start_time": "2024-06-16T18:26:59.515Z"
   },
   {
    "duration": 1,
    "start_time": "2024-06-16T18:26:59.937Z"
   },
   {
    "duration": 38,
    "start_time": "2024-06-16T18:26:59.939Z"
   },
   {
    "duration": 15,
    "start_time": "2024-06-16T18:26:59.979Z"
   },
   {
    "duration": 2,
    "start_time": "2024-06-16T18:26:59.995Z"
   },
   {
    "duration": 471,
    "start_time": "2024-06-16T18:26:59.999Z"
   },
   {
    "duration": 0,
    "start_time": "2024-06-16T18:27:00.471Z"
   },
   {
    "duration": 417,
    "start_time": "2024-06-16T18:30:36.018Z"
   },
   {
    "duration": 2,
    "start_time": "2024-06-16T18:30:36.437Z"
   },
   {
    "duration": 26,
    "start_time": "2024-06-16T18:30:36.441Z"
   },
   {
    "duration": 9,
    "start_time": "2024-06-16T18:30:36.468Z"
   },
   {
    "duration": 6,
    "start_time": "2024-06-16T18:30:36.478Z"
   },
   {
    "duration": 59,
    "start_time": "2024-06-16T18:30:36.485Z"
   },
   {
    "duration": 0,
    "start_time": "2024-06-16T18:30:36.545Z"
   },
   {
    "duration": 404,
    "start_time": "2024-06-16T18:30:58.433Z"
   },
   {
    "duration": 2,
    "start_time": "2024-06-16T18:30:58.838Z"
   },
   {
    "duration": 29,
    "start_time": "2024-06-16T18:30:58.841Z"
   },
   {
    "duration": 8,
    "start_time": "2024-06-16T18:30:58.872Z"
   },
   {
    "duration": 2,
    "start_time": "2024-06-16T18:30:58.881Z"
   },
   {
    "duration": 4156,
    "start_time": "2024-06-16T18:30:58.884Z"
   },
   {
    "duration": 70,
    "start_time": "2024-06-16T18:31:03.042Z"
   },
   {
    "duration": 405,
    "start_time": "2024-06-16T18:31:19.732Z"
   },
   {
    "duration": 2,
    "start_time": "2024-06-16T18:31:20.139Z"
   },
   {
    "duration": 36,
    "start_time": "2024-06-16T18:31:20.142Z"
   },
   {
    "duration": 7,
    "start_time": "2024-06-16T18:31:20.179Z"
   },
   {
    "duration": 9,
    "start_time": "2024-06-16T18:31:20.187Z"
   },
   {
    "duration": 3912,
    "start_time": "2024-06-16T18:31:20.197Z"
   },
   {
    "duration": 38,
    "start_time": "2024-06-16T19:14:55.379Z"
   },
   {
    "duration": 5,
    "start_time": "2024-06-16T19:15:06.529Z"
   },
   {
    "duration": 5,
    "start_time": "2024-06-16T19:15:20.926Z"
   },
   {
    "duration": 389,
    "start_time": "2024-06-16T19:15:26.740Z"
   },
   {
    "duration": 2,
    "start_time": "2024-06-16T19:15:27.131Z"
   },
   {
    "duration": 38,
    "start_time": "2024-06-16T19:15:27.134Z"
   },
   {
    "duration": 7,
    "start_time": "2024-06-16T19:15:27.173Z"
   },
   {
    "duration": 3,
    "start_time": "2024-06-16T19:15:27.181Z"
   },
   {
    "duration": 3982,
    "start_time": "2024-06-16T19:15:27.185Z"
   },
   {
    "duration": 3102,
    "start_time": "2024-06-16T19:15:31.168Z"
   },
   {
    "duration": 453,
    "start_time": "2024-06-18T15:34:44.240Z"
   },
   {
    "duration": 3,
    "start_time": "2024-06-18T15:34:44.695Z"
   },
   {
    "duration": 45,
    "start_time": "2024-06-18T15:34:44.699Z"
   },
   {
    "duration": 8,
    "start_time": "2024-06-18T15:34:44.746Z"
   },
   {
    "duration": 3,
    "start_time": "2024-06-18T15:34:44.755Z"
   },
   {
    "duration": 4599,
    "start_time": "2024-06-18T15:34:44.759Z"
   },
   {
    "duration": 3362,
    "start_time": "2024-06-18T15:34:49.359Z"
   },
   {
    "duration": 447,
    "start_time": "2024-06-18T15:35:03.364Z"
   },
   {
    "duration": 2,
    "start_time": "2024-06-18T15:35:03.812Z"
   },
   {
    "duration": 52,
    "start_time": "2024-06-18T15:35:03.815Z"
   },
   {
    "duration": 15,
    "start_time": "2024-06-18T15:35:03.869Z"
   },
   {
    "duration": 15,
    "start_time": "2024-06-18T15:35:03.885Z"
   },
   {
    "duration": 4387,
    "start_time": "2024-06-18T15:35:03.901Z"
   },
   {
    "duration": 3420,
    "start_time": "2024-06-18T15:35:08.289Z"
   },
   {
    "duration": 539,
    "start_time": "2024-06-19T06:52:55.456Z"
   },
   {
    "duration": 3,
    "start_time": "2024-06-19T06:52:55.997Z"
   },
   {
    "duration": 37,
    "start_time": "2024-06-19T06:52:56.001Z"
   },
   {
    "duration": 13,
    "start_time": "2024-06-19T06:52:56.040Z"
   },
   {
    "duration": 3,
    "start_time": "2024-06-19T06:52:56.056Z"
   },
   {
    "duration": 5888,
    "start_time": "2024-06-19T06:52:56.061Z"
   },
   {
    "duration": 4571,
    "start_time": "2024-06-19T06:53:01.950Z"
   }
  ],
  "kernelspec": {
   "display_name": "Python 3 (ipykernel)",
   "language": "python",
   "name": "python3"
  },
  "language_info": {
   "codemirror_mode": {
    "name": "ipython",
    "version": 3
   },
   "file_extension": ".py",
   "mimetype": "text/x-python",
   "name": "python",
   "nbconvert_exporter": "python",
   "pygments_lexer": "ipython3",
   "version": "3.9.5"
  },
  "toc": {
   "base_numbering": 1,
   "nav_menu": {},
   "number_sections": true,
   "sideBar": true,
   "skip_h1_title": true,
   "title_cell": "Table of Contents",
   "title_sidebar": "Contents",
   "toc_cell": false,
   "toc_position": {},
   "toc_section_display": true,
   "toc_window_display": false
  }
 },
 "nbformat": 4,
 "nbformat_minor": 5
}
